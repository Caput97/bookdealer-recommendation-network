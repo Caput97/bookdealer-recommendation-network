{
 "cells": [
  {
   "cell_type": "code",
   "execution_count": 622,
   "outputs": [],
   "source": [
    "import cdlib\n",
    "import pandas as pd\n",
    "import networkx as nx\n",
    "from cdlib import algorithms\n",
    "from collections import Counter\n",
    "import plotly.express as px\n",
    "from cdlib import evaluation\n",
    "from cdlib import viz\n",
    "import seaborn as sns\n",
    "import matplotlib.pyplot as plt\n",
    "import numpy as np\n"
   ],
   "metadata": {
    "collapsed": false,
    "pycharm": {
     "name": "#%%\n"
    }
   }
  },
  {
   "cell_type": "markdown",
   "source": [
    "# Graph object creation"
   ],
   "metadata": {
    "collapsed": false,
    "pycharm": {
     "name": "#%% md\n"
    }
   }
  },
  {
   "cell_type": "code",
   "execution_count": 623,
   "outputs": [],
   "source": [
    "nodeList = pd.read_csv('data/bd-node.csv', index_col = 'id')\n",
    "edgeList = pd.read_csv('data/bd-edge.csv')"
   ],
   "metadata": {
    "collapsed": false,
    "pycharm": {
     "name": "#%%\n"
    }
   }
  },
  {
   "cell_type": "code",
   "execution_count": 624,
   "outputs": [
    {
     "data": {
      "text/plain": "11775"
     },
     "execution_count": 624,
     "metadata": {},
     "output_type": "execute_result"
    }
   ],
   "source": [
    "len(nodeList)"
   ],
   "metadata": {
    "collapsed": false,
    "pycharm": {
     "name": "#%%\n"
    }
   }
  },
  {
   "cell_type": "code",
   "execution_count": 625,
   "outputs": [
    {
     "data": {
      "text/plain": "                                                  titolo  \\\nid                                                         \n0                              Cambiare l'acqua ai fiori   \n1                                  Ragazza, donna, altro   \n2                                              L'Ickabog   \n3                                                  Dante   \n4                                              Borgo Sud   \n...                                                  ...   \n20494                       La notte delle ricostruzioni   \n20495                                  L'ultimo raccolto   \n20496                                      X. Una caccia   \n20497                          Quel che resta delle case   \n20498  Fantiana: Scritti su John Fante selezionati da...   \n\n                          autore     editore                      categoria  \\\nid                                                                            \n0                 Perrin Valérie         E/O   Letterature straniere: testi   \n1            Evaristo Bernardine         Sur   Letterature straniere: testi   \n2                  Rowling J. K.      Salani        Letteratura per ragazzi   \n3             Barbero Alessandro     Laterza  Letteratura italiana: critica   \n4      Di Pietrantonio Donatella     Einaudi    Letteratura italiana: testi   \n...                          ...         ...                            ...   \n20494             Donaera Andrea       Tetra    Letteratura italiana: testi   \n20495                Zardi Paolo       Tetra    Letteratura italiana: testi   \n20496             Aiolli Valerio       Tetra    Letteratura italiana: testi   \n20497            Canepa Emanuela       Tetra    Letteratura italiana: testi   \n20498         Margaretto Eduardo  Bookdealer    Letteratura italiana: testi   \n\n       raccomandazioni-ricevute  anno-pubblicazione  \nid                                                   \n0                          64.0                2019  \n1                          61.0                2020  \n2                          44.0                2020  \n3                          37.0                2020  \n4                          36.0                2020  \n...                         ...                 ...  \n20494                       1.0                2022  \n20495                       1.0                2022  \n20496                       1.0                2022  \n20497                       1.0                2022  \n20498                       1.0                2020  \n\n[11775 rows x 6 columns]",
      "text/html": "<div>\n<style scoped>\n    .dataframe tbody tr th:only-of-type {\n        vertical-align: middle;\n    }\n\n    .dataframe tbody tr th {\n        vertical-align: top;\n    }\n\n    .dataframe thead th {\n        text-align: right;\n    }\n</style>\n<table border=\"1\" class=\"dataframe\">\n  <thead>\n    <tr style=\"text-align: right;\">\n      <th></th>\n      <th>titolo</th>\n      <th>autore</th>\n      <th>editore</th>\n      <th>categoria</th>\n      <th>raccomandazioni-ricevute</th>\n      <th>anno-pubblicazione</th>\n    </tr>\n    <tr>\n      <th>id</th>\n      <th></th>\n      <th></th>\n      <th></th>\n      <th></th>\n      <th></th>\n      <th></th>\n    </tr>\n  </thead>\n  <tbody>\n    <tr>\n      <th>0</th>\n      <td>Cambiare l'acqua ai fiori</td>\n      <td>Perrin Valérie</td>\n      <td>E/O</td>\n      <td>Letterature straniere: testi</td>\n      <td>64.0</td>\n      <td>2019</td>\n    </tr>\n    <tr>\n      <th>1</th>\n      <td>Ragazza, donna, altro</td>\n      <td>Evaristo Bernardine</td>\n      <td>Sur</td>\n      <td>Letterature straniere: testi</td>\n      <td>61.0</td>\n      <td>2020</td>\n    </tr>\n    <tr>\n      <th>2</th>\n      <td>L'Ickabog</td>\n      <td>Rowling J. K.</td>\n      <td>Salani</td>\n      <td>Letteratura per ragazzi</td>\n      <td>44.0</td>\n      <td>2020</td>\n    </tr>\n    <tr>\n      <th>3</th>\n      <td>Dante</td>\n      <td>Barbero Alessandro</td>\n      <td>Laterza</td>\n      <td>Letteratura italiana: critica</td>\n      <td>37.0</td>\n      <td>2020</td>\n    </tr>\n    <tr>\n      <th>4</th>\n      <td>Borgo Sud</td>\n      <td>Di Pietrantonio Donatella</td>\n      <td>Einaudi</td>\n      <td>Letteratura italiana: testi</td>\n      <td>36.0</td>\n      <td>2020</td>\n    </tr>\n    <tr>\n      <th>...</th>\n      <td>...</td>\n      <td>...</td>\n      <td>...</td>\n      <td>...</td>\n      <td>...</td>\n      <td>...</td>\n    </tr>\n    <tr>\n      <th>20494</th>\n      <td>La notte delle ricostruzioni</td>\n      <td>Donaera Andrea</td>\n      <td>Tetra</td>\n      <td>Letteratura italiana: testi</td>\n      <td>1.0</td>\n      <td>2022</td>\n    </tr>\n    <tr>\n      <th>20495</th>\n      <td>L'ultimo raccolto</td>\n      <td>Zardi Paolo</td>\n      <td>Tetra</td>\n      <td>Letteratura italiana: testi</td>\n      <td>1.0</td>\n      <td>2022</td>\n    </tr>\n    <tr>\n      <th>20496</th>\n      <td>X. Una caccia</td>\n      <td>Aiolli Valerio</td>\n      <td>Tetra</td>\n      <td>Letteratura italiana: testi</td>\n      <td>1.0</td>\n      <td>2022</td>\n    </tr>\n    <tr>\n      <th>20497</th>\n      <td>Quel che resta delle case</td>\n      <td>Canepa Emanuela</td>\n      <td>Tetra</td>\n      <td>Letteratura italiana: testi</td>\n      <td>1.0</td>\n      <td>2022</td>\n    </tr>\n    <tr>\n      <th>20498</th>\n      <td>Fantiana: Scritti su John Fante selezionati da...</td>\n      <td>Margaretto Eduardo</td>\n      <td>Bookdealer</td>\n      <td>Letteratura italiana: testi</td>\n      <td>1.0</td>\n      <td>2020</td>\n    </tr>\n  </tbody>\n</table>\n<p>11775 rows × 6 columns</p>\n</div>"
     },
     "execution_count": 625,
     "metadata": {},
     "output_type": "execute_result"
    }
   ],
   "source": [
    "nodeList"
   ],
   "metadata": {
    "collapsed": false,
    "pycharm": {
     "name": "#%%\n"
    }
   }
  },
  {
   "cell_type": "code",
   "execution_count": 626,
   "outputs": [],
   "source": [
    "g = nx.from_pandas_edgelist(edgeList, 'Source', 'Target', ['Weight'])"
   ],
   "metadata": {
    "collapsed": false,
    "pycharm": {
     "name": "#%%\n"
    }
   }
  },
  {
   "cell_type": "code",
   "execution_count": 627,
   "outputs": [],
   "source": [
    "#create a nested dict in which we can append all the info for each node of the nodelist\n",
    "InfoNdic = {}\n",
    "\n",
    "for index, row in nodeList.iterrows():\n",
    "    InfoNdic[index] = {'BookName': row['titolo'], 'BookAuthor': row['autore'], 'BookPublisher': row['editore'],'BookGenre': row['categoria'], 'RecommendationsReceived' : row['raccomandazioni-ricevute'], 'YearOfPublication': row['anno-pubblicazione'] }\n"
   ],
   "metadata": {
    "collapsed": false,
    "pycharm": {
     "name": "#%%\n"
    }
   }
  },
  {
   "cell_type": "code",
   "execution_count": 628,
   "outputs": [
    {
     "data": {
      "text/plain": "{'BookName': 'Hokusai. Pop-up',\n 'BookAuthor': 'McCarthy Courtney Watson',\n 'BookPublisher': 'White Star',\n 'BookGenre': 'Disegno, arti decorative e minori',\n 'RecommendationsReceived': 1.0,\n 'YearOfPublication': 2016}"
     },
     "execution_count": 628,
     "metadata": {},
     "output_type": "execute_result"
    }
   ],
   "source": [
    "InfoNdic[11818]"
   ],
   "metadata": {
    "collapsed": false,
    "pycharm": {
     "name": "#%%\n"
    }
   }
  },
  {
   "cell_type": "code",
   "execution_count": 629,
   "outputs": [
    {
     "data": {
      "text/plain": "11775"
     },
     "execution_count": 629,
     "metadata": {},
     "output_type": "execute_result"
    }
   ],
   "source": [
    "len(InfoNdic)"
   ],
   "metadata": {
    "collapsed": false,
    "pycharm": {
     "name": "#%%\n"
    }
   }
  },
  {
   "cell_type": "code",
   "execution_count": 630,
   "outputs": [
    {
     "data": {
      "text/plain": "11775"
     },
     "execution_count": 630,
     "metadata": {},
     "output_type": "execute_result"
    }
   ],
   "source": [
    "len(nx.nodes(g))\n"
   ],
   "metadata": {
    "collapsed": false,
    "pycharm": {
     "name": "#%%\n"
    }
   }
  },
  {
   "cell_type": "code",
   "execution_count": 631,
   "outputs": [],
   "source": [
    "#setting the attributes of each node using the info contained in the nested dict\n",
    "nx.set_node_attributes(g, InfoNdic)"
   ],
   "metadata": {
    "collapsed": false,
    "pycharm": {
     "name": "#%%\n"
    }
   }
  },
  {
   "cell_type": "code",
   "execution_count": 632,
   "outputs": [],
   "source": [
    "#get nodes attributes:\n",
    "\n",
    "name = nx.get_node_attributes(g, \"BookName\")\n",
    "author = nx.get_node_attributes(g, \"BookAuthor\")\n",
    "publisher = nx.get_node_attributes(g, \"BookPublisher\")\n",
    "genre = nx.get_node_attributes(g, \"BookGenre\")\n",
    "recommendations = nx.get_node_attributes(g, \"RecommendationsReceived\")\n",
    "year = nx.get_node_attributes(g, \"YearOfPublication\")"
   ],
   "metadata": {
    "collapsed": false,
    "pycharm": {
     "name": "#%%\n"
    }
   }
  },
  {
   "cell_type": "code",
   "execution_count": 633,
   "outputs": [
    {
     "data": {
      "text/plain": "'Disegno, arti decorative e minori'"
     },
     "execution_count": 633,
     "metadata": {},
     "output_type": "execute_result"
    }
   ],
   "source": [
    "genre[11818]"
   ],
   "metadata": {
    "collapsed": false,
    "pycharm": {
     "name": "#%%\n"
    }
   }
  },
  {
   "cell_type": "code",
   "execution_count": 634,
   "outputs": [
    {
     "data": {
      "text/plain": "\"Cambiare l'acqua ai fiori\""
     },
     "execution_count": 634,
     "metadata": {},
     "output_type": "execute_result"
    }
   ],
   "source": [
    "name[0]"
   ],
   "metadata": {
    "collapsed": false,
    "pycharm": {
     "name": "#%%\n"
    }
   }
  },
  {
   "cell_type": "code",
   "execution_count": 635,
   "outputs": [],
   "source": [
    "#select the giant component and continue working with that.\n",
    "compsList = list(nx.connected_components(g))\n",
    "GC = g.subgraph(compsList[0])\n",
    "g = GC"
   ],
   "metadata": {
    "collapsed": false,
    "pycharm": {
     "name": "#%%\n"
    }
   }
  },
  {
   "cell_type": "code",
   "execution_count": 636,
   "outputs": [
    {
     "data": {
      "text/plain": "11573"
     },
     "execution_count": 636,
     "metadata": {},
     "output_type": "execute_result"
    }
   ],
   "source": [
    "len(g)"
   ],
   "metadata": {
    "collapsed": false,
    "pycharm": {
     "name": "#%%\n"
    }
   }
  },
  {
   "cell_type": "markdown",
   "source": [
    "# Community Discovery algorithms"
   ],
   "metadata": {
    "collapsed": false,
    "pycharm": {
     "name": "#%% md\n"
    }
   }
  },
  {
   "cell_type": "markdown",
   "source": [
    "## Approach 1: Internal Density\n",
    "Communities as sets of densely connected entities\n",
    "Each community must have a number of edges significantly higher than what expected in a random graph"
   ],
   "metadata": {
    "collapsed": false,
    "pycharm": {
     "name": "#%% md\n"
    }
   }
  },
  {
   "cell_type": "markdown",
   "source": [
    "### Louvain\n",
    "\n",
    "It works finding a function of density and maxime it.\n"
   ],
   "metadata": {
    "collapsed": false,
    "pycharm": {
     "name": "#%% md\n"
    }
   }
  },
  {
   "cell_type": "code",
   "execution_count": 637,
   "outputs": [],
   "source": [
    "louv_coms = algorithms.louvain(g, weight='weight', resolution=1.)"
   ],
   "metadata": {
    "collapsed": false,
    "pycharm": {
     "name": "#%%\n"
    }
   }
  },
  {
   "cell_type": "code",
   "execution_count": 638,
   "outputs": [],
   "source": [
    "#function to retrieve the info of the communities found out by the algorithm\n",
    "def InfoCommunity(communitiesList, algorithm):\n",
    "    print(f\"This algorithm has discovered {len(communitiesList)} communities.\")\n",
    "    print()\n",
    "    C = [g.subgraph(c).copy() for c in communitiesList]\n",
    "    sumNodes = 0\n",
    "    sumEdges = 0\n",
    "    for count, comm in enumerate(C):\n",
    "        print(f\"Community: {count} - Info: {nx.number_of_nodes(comm)} nodes & {nx.number_of_edges(comm)} edges\")\n",
    "        sumNodes += nx.number_of_nodes(comm)\n",
    "        sumEdges += nx.number_of_edges(comm)\n",
    "    print()\n",
    "    print(f\"These communities have a total of {sumNodes} nodes and {sumEdges} edges.\")\n",
    "    print()\n",
    "    print(\"Communities statistics: \")\n",
    "    print(\"Nodes: \" , evaluation.size(g, algorithm))\n",
    "    print(\"Edges: \", evaluation.edges_inside(g,algorithm))"
   ],
   "metadata": {
    "collapsed": false,
    "pycharm": {
     "name": "#%%\n"
    }
   }
  },
  {
   "cell_type": "code",
   "execution_count": 639,
   "outputs": [
    {
     "name": "stdout",
     "output_type": "stream",
     "text": [
      "This algorithm has discovered 27 communities.\n",
      "\n",
      "Community: 0 - Info: 1793 nodes & 88551 edges\n",
      "Community: 1 - Info: 1792 nodes & 153183 edges\n",
      "Community: 2 - Info: 1503 nodes & 86063 edges\n",
      "Community: 3 - Info: 859 nodes & 36711 edges\n",
      "Community: 4 - Info: 606 nodes & 48151 edges\n",
      "Community: 5 - Info: 587 nodes & 31107 edges\n",
      "Community: 6 - Info: 586 nodes & 22845 edges\n",
      "Community: 7 - Info: 515 nodes & 64651 edges\n",
      "Community: 8 - Info: 512 nodes & 26715 edges\n",
      "Community: 9 - Info: 446 nodes & 26652 edges\n",
      "Community: 10 - Info: 366 nodes & 25589 edges\n",
      "Community: 11 - Info: 326 nodes & 41323 edges\n",
      "Community: 12 - Info: 253 nodes & 8785 edges\n",
      "Community: 13 - Info: 252 nodes & 11689 edges\n",
      "Community: 14 - Info: 246 nodes & 9245 edges\n",
      "Community: 15 - Info: 222 nodes & 6040 edges\n",
      "Community: 16 - Info: 183 nodes & 6592 edges\n",
      "Community: 17 - Info: 172 nodes & 11017 edges\n",
      "Community: 18 - Info: 87 nodes & 3741 edges\n",
      "Community: 19 - Info: 84 nodes & 3486 edges\n",
      "Community: 20 - Info: 39 nodes & 605 edges\n",
      "Community: 21 - Info: 37 nodes & 666 edges\n",
      "Community: 22 - Info: 34 nodes & 561 edges\n",
      "Community: 23 - Info: 28 nodes & 378 edges\n",
      "Community: 24 - Info: 17 nodes & 136 edges\n",
      "Community: 25 - Info: 17 nodes & 136 edges\n",
      "Community: 26 - Info: 11 nodes & 55 edges\n",
      "\n",
      "These communities have a total of 11573 nodes and 714673 edges.\n",
      "\n",
      "Communities statistics: \n",
      "Nodes:  FitnessResult(min=11, max=1793, score=428.6296296296296, std=502.0229556613661)\n",
      "Edges:  FitnessResult(min=55, max=153183, score=26469.37037037037, std=35195.836090154866)\n"
     ]
    }
   ],
   "source": [
    "InfoCommunity(louv_coms.communities, louv_coms)"
   ],
   "metadata": {
    "collapsed": false,
    "pycharm": {
     "name": "#%%\n"
    }
   }
  },
  {
   "cell_type": "code",
   "execution_count": 640,
   "outputs": [
    {
     "data": {
      "text/plain": "[[20,\n  31,\n  32,\n  41,\n  56,\n  59,\n  60,\n  70,\n  79,\n  97,\n  145,\n  146,\n  171,\n  172,\n  184,\n  186,\n  218,\n  221,\n  229,\n  230,\n  235,\n  240,\n  258,\n  261,\n  280,\n  282,\n  285,\n  301,\n  306,\n  327,\n  345,\n  360,\n  362,\n  390,\n  396,\n  410,\n  411,\n  435,\n  437,\n  450,\n  475,\n  481,\n  484,\n  491,\n  496,\n  498,\n  506,\n  512,\n  517,\n  518,\n  531,\n  532,\n  533,\n  536,\n  586,\n  602,\n  606,\n  608,\n  617,\n  618,\n  619,\n  627,\n  635,\n  651,\n  665,\n  695,\n  696,\n  697,\n  698,\n  707,\n  710,\n  711,\n  730,\n  731,\n  738,\n  739,\n  741,\n  746,\n  768,\n  779,\n  780,\n  863,\n  867,\n  869,\n  893,\n  907,\n  911,\n  918,\n  966,\n  973,\n  990,\n  998,\n  999,\n  1010,\n  1015,\n  1022,\n  1028,\n  1038,\n  1040,\n  1042,\n  1049,\n  1060,\n  1064,\n  1069,\n  1070,\n  1072,\n  1075,\n  1078,\n  1090,\n  1109,\n  1125,\n  1129,\n  1148,\n  1156,\n  1181,\n  1200,\n  1204,\n  1231,\n  1235,\n  1269,\n  1296,\n  1303,\n  1373,\n  1384,\n  1391,\n  1464,\n  1475,\n  1479,\n  1495,\n  1577,\n  1634,\n  1650,\n  1654,\n  1676,\n  1703,\n  1723,\n  1727,\n  1731,\n  1737,\n  1738,\n  1742,\n  1746,\n  1747,\n  1758,\n  1772,\n  1804,\n  1806,\n  1815,\n  1877,\n  1890,\n  1906,\n  1911,\n  1913,\n  1952,\n  1959,\n  1988,\n  2020,\n  2042,\n  2067,\n  2096,\n  2103,\n  2135,\n  2167,\n  2168,\n  2173,\n  2221,\n  2229,\n  2240,\n  2247,\n  2248,\n  2342,\n  2444,\n  2523,\n  2552,\n  2620,\n  2638,\n  2656,\n  2657,\n  2734,\n  2767,\n  2773,\n  2796,\n  2828,\n  2889,\n  2905,\n  2916,\n  2950,\n  2956,\n  2989,\n  3009,\n  3010,\n  3011,\n  3013,\n  3014,\n  3066,\n  3313,\n  3361,\n  3458,\n  3481,\n  3487,\n  3500,\n  3502,\n  3503,\n  3514,\n  3526,\n  3565,\n  3611,\n  3613,\n  3618,\n  3661,\n  3665,\n  3668,\n  3709,\n  3752,\n  3760,\n  3775,\n  3787,\n  3800,\n  3812,\n  3823,\n  3850,\n  3902,\n  3947,\n  3949,\n  3952,\n  3955,\n  3957,\n  3958,\n  4044,\n  4075,\n  4079,\n  4086,\n  4123,\n  4124,\n  4134,\n  4142,\n  4148,\n  4179,\n  4181,\n  4207,\n  4249,\n  4269,\n  4327,\n  4339,\n  4371,\n  4386,\n  4391,\n  4394,\n  4509,\n  4527,\n  4530,\n  4550,\n  4592,\n  4607,\n  4628,\n  4656,\n  4657,\n  4680,\n  4707,\n  4727,\n  4733,\n  4735,\n  4750,\n  4781,\n  4900,\n  4927,\n  4954,\n  4957,\n  5012,\n  5021,\n  5028,\n  5033,\n  5235,\n  5277,\n  5301,\n  5307,\n  5391,\n  5397,\n  5399,\n  5404,\n  5427,\n  5456,\n  5462,\n  5464,\n  5481,\n  6035,\n  6389,\n  6572,\n  6806,\n  6830,\n  7184,\n  7282,\n  7311,\n  7315,\n  7337,\n  7364,\n  7382,\n  7394,\n  7472,\n  7496,\n  7517,\n  7540,\n  7788,\n  7843,\n  7849,\n  8118,\n  8156,\n  8262,\n  8884,\n  8889,\n  9005,\n  9174,\n  9200,\n  9201,\n  9391,\n  9393,\n  9498,\n  9707,\n  9929,\n  10003,\n  10999,\n  11138,\n  11504,\n  11628,\n  11820,\n  11823,\n  11828,\n  11836,\n  11837,\n  11838,\n  11842,\n  11972,\n  12085,\n  12301,\n  12329,\n  12337,\n  12395,\n  12490,\n  12491,\n  12511,\n  12575,\n  12594,\n  12596,\n  12598,\n  12601,\n  12609,\n  12610,\n  12611,\n  12612,\n  12737,\n  12999,\n  13130,\n  13132,\n  13362,\n  13367,\n  13401,\n  13765,\n  13768,\n  13775,\n  13790,\n  13797,\n  13815,\n  13816,\n  13864,\n  13870,\n  14042,\n  14062,\n  14274,\n  14275,\n  14314,\n  14377,\n  14383,\n  14443,\n  14654,\n  14660,\n  14751,\n  14869,\n  14941,\n  15094,\n  15128,\n  15243,\n  15244,\n  15255,\n  15430,\n  15454,\n  15728,\n  15760,\n  16167,\n  16228,\n  16230,\n  16232,\n  16308,\n  16512,\n  16515,\n  16524,\n  16528,\n  16529,\n  16530,\n  16531,\n  16715,\n  16970,\n  16978,\n  17152,\n  17533,\n  17539,\n  17540,\n  17597,\n  17600,\n  17601,\n  17605,\n  17713,\n  17844,\n  17952,\n  17961,\n  17974,\n  17976,\n  17981,\n  18003,\n  18004,\n  18069,\n  18086,\n  18548,\n  18568,\n  18570,\n  18583,\n  18717,\n  18726,\n  18813,\n  18817,\n  19138,\n  19307,\n  19315,\n  19328,\n  19450,\n  19667,\n  19695,\n  19810,\n  19812,\n  19815,\n  19816,\n  19887,\n  19995,\n  19996,\n  19997,\n  20047,\n  20050,\n  101,\n  140,\n  227,\n  295,\n  353,\n  356,\n  369,\n  377,\n  489,\n  492,\n  737,\n  1121,\n  1123,\n  1166,\n  1496,\n  1736,\n  1780,\n  1805,\n  1808,\n  1921,\n  1939,\n  1967,\n  2077,\n  2646,\n  2665,\n  2666,\n  2884,\n  3491,\n  3530,\n  3548,\n  3622,\n  3692,\n  3798,\n  3843,\n  4015,\n  4036,\n  4069,\n  4228,\n  4235,\n  4240,\n  4608,\n  4682,\n  4763,\n  4907,\n  10147,\n  10568,\n  11374,\n  11380,\n  12724,\n  12725,\n  12770,\n  13223,\n  13224,\n  13710,\n  13711,\n  13712,\n  13713,\n  14343,\n  14965,\n  16580,\n  16727,\n  17037,\n  17870,\n  18080,\n  224,\n  275,\n  276,\n  283,\n  286,\n  355,\n  357,\n  368,\n  395,\n  513,\n  516,\n  563,\n  624,\n  676,\n  677,\n  718,\n  733,\n  763,\n  786,\n  879,\n  994,\n  1033,\n  1036,\n  1037,\n  1057,\n  1065,\n  1071,\n  1105,\n  1116,\n  1124,\n  1167,\n  1199,\n  1206,\n  1214,\n  1241,\n  1368,\n  1443,\n  1474,\n  1492,\n  1494,\n  1647,\n  1664,\n  1675,\n  1686,\n  1726,\n  1784,\n  1798,\n  1874,\n  1900,\n  1903,\n  1908,\n  1917,\n  1919,\n  1922,\n  1925,\n  1926,\n  1927,\n  1935,\n  1938,\n  1940,\n  1941,\n  1944,\n  1961,\n  2033,\n  2152,\n  2171,\n  2480,\n  2793,\n  2853,\n  2870,\n  3012,\n  3339,\n  3436,\n  3607,\n  3615,\n  3725,\n  3738,\n  3773,\n  3793,\n  3863,\n  3876,\n  3936,\n  3954,\n  4000,\n  4131,\n  4132,\n  4144,\n  4159,\n  4183,\n  4202,\n  4203,\n  4209,\n  4215,\n  4346,\n  4403,\n  4499,\n  4547,\n  4606,\n  4948,\n  4992,\n  5148,\n  5248,\n  6512,\n  6862,\n  9389,\n  9711,\n  10122,\n  10204,\n  13122,\n  13123,\n  13294,\n  13355,\n  13390,\n  13510,\n  13776,\n  14075,\n  14135,\n  14165,\n  14460,\n  14467,\n  14728,\n  14729,\n  15134,\n  15147,\n  15194,\n  15410,\n  15426,\n  15478,\n  15784,\n  15785,\n  15792,\n  15799,\n  16248,\n  16255,\n  16318,\n  16396,\n  16629,\n  16643,\n  16672,\n  16693,\n  16700,\n  16705,\n  16706,\n  16710,\n  17284,\n  17285,\n  17771,\n  17775,\n  18167,\n  18835,\n  19303,\n  19680,\n  19781,\n  19897,\n  20051,\n  488,\n  712,\n  1220,\n  1620,\n  1720,\n  1740,\n  1814,\n  1990,\n  1993,\n  2275,\n  2541,\n  2903,\n  3337,\n  3372,\n  3460,\n  3564,\n  3662,\n  4020,\n  4324,\n  4325,\n  4405,\n  4626,\n  4753,\n  6297,\n  7381,\n  7419,\n  8736,\n  8806,\n  8841,\n  11352,\n  11353,\n  11356,\n  11361,\n  11373,\n  11381,\n  11386,\n  11387,\n  11735,\n  12131,\n  12424,\n  12621,\n  12911,\n  14152,\n  14264,\n  14409,\n  14879,\n  15218,\n  15764,\n  16405,\n  16449,\n  16452,\n  17144,\n  17277,\n  17553,\n  17554,\n  17780,\n  17859,\n  18023,\n  18073,\n  18434,\n  19704,\n  626,\n  675,\n  792,\n  937,\n  1006,\n  1529,\n  1876,\n  1918,\n  1936,\n  1960,\n  3602,\n  3688,\n  3996,\n  4085,\n  4204,\n  4208,\n  4210,\n  4219,\n  4222,\n  4225,\n  4229,\n  4234,\n  4237,\n  4243,\n  4244,\n  4678,\n  4708,\n  5032,\n  5191,\n  6212,\n  13166,\n  13168,\n  13252,\n  13253,\n  13254,\n  13934,\n  13936,\n  14926,\n  15640,\n  16047,\n  16050,\n  16057,\n  16062,\n  16073,\n  16076,\n  16698,\n  16701,\n  16750,\n  17304,\n  17305,\n  18010,\n  18736,\n  18816,\n  19561,\n  19564,\n  19566,\n  19567,\n  19568,\n  19687,\n  19688,\n  193,\n  1030,\n  1034,\n  1733,\n  1739,\n  2059,\n  2133,\n  309,\n  678,\n  793,\n  1009,\n  1073,\n  1082,\n  1433,\n  1449,\n  1480,\n  1691,\n  1704,\n  1750,\n  1779,\n  1803,\n  1888,\n  1912,\n  1915,\n  1931,\n  2015,\n  2044,\n  2086,\n  2139,\n  2615,\n  2693,\n  2967,\n  3076,\n  3257,\n  3358,\n  3513,\n  3637,\n  3664,\n  3906,\n  3963,\n  4026,\n  4029,\n  4072,\n  4121,\n  4140,\n  4230,\n  4242,\n  4247,\n  4296,\n  4436,\n  4593,\n  4633,\n  4709,\n  4755,\n  4813,\n  5637,\n  6104,\n  7260,\n  8441,\n  8740,\n  8803,\n  9122,\n  9129,\n  9397,\n  9398,\n  9726,\n  9727,\n  9728,\n  12171,\n  12480,\n  12556,\n  12595,\n  12793,\n  12945,\n  12950,\n  12952,\n  13138,\n  13139,\n  13144,\n  13145,\n  13147,\n  13345,\n  13382,\n  13412,\n  13420,\n  13423,\n  13609,\n  13791,\n  13792,\n  13793,\n  13798,\n  13803,\n  13804,\n  14461,\n  14691,\n  15203,\n  15321,\n  15438,\n  15485,\n  15678,\n  15684,\n  15994,\n  15999,\n  16003,\n  16015,\n  16390,\n  16527,\n  16538,\n  16582,\n  16656,\n  16657,\n  16658,\n  17318,\n  17796,\n  18682,\n  18720,\n  18772,\n  18818,\n  19180,\n  20174,\n  20312,\n  1478,\n  1523,\n  1762,\n  359,\n  378,\n  543,\n  625,\n  680,\n  693,\n  699,\n  735,\n  742,\n  767,\n  1001,\n  1096,\n  1135,\n  1136,\n  1169,\n  1182,\n  1205,\n  1489,\n  1527,\n  1528,\n  1677,\n  1679,\n  1680,\n  1681,\n  1688,\n  1721,\n  1724,\n  1744,\n  1745,\n  1756,\n  1763,\n  1777,\n  1796,\n  1889,\n  1898,\n  1899,\n  1924,\n  1949,\n  1950,\n  1954,\n  1958,\n  2034,\n  2045,\n  2046,\n  2057,\n  2058,\n  2082,\n  2083,\n  2084,\n  2121,\n  2122,\n  2124,\n  2661,\n  2896,\n  2987,\n  3242,\n  3437,\n  3489,\n  3504,\n  3559,\n  3600,\n  3610,\n  3628,\n  3639,\n  3778,\n  3784,\n  3852,\n  3915,\n  3935,\n  3943,\n  4062,\n  4064,\n  4066,\n  4067,\n  4070,\n  4098,\n  4122,\n  4145,\n  4146,\n  4157,\n  4190,\n  4194,\n  4200,\n  4262,\n  4285,\n  4286,\n  4305,\n  4345,\n  4407,\n  4410,\n  ...],\n [11,\n  17,\n  24,\n  26,\n  33,\n  44,\n  45,\n  55,\n  61,\n  67,\n  68,\n  73,\n  75,\n  88,\n  89,\n  100,\n  106,\n  114,\n  116,\n  120,\n  127,\n  128,\n  130,\n  132,\n  148,\n  149,\n  150,\n  156,\n  157,\n  158,\n  176,\n  188,\n  189,\n  195,\n  196,\n  210,\n  225,\n  226,\n  231,\n  234,\n  239,\n  263,\n  269,\n  271,\n  273,\n  299,\n  302,\n  303,\n  304,\n  308,\n  343,\n  344,\n  346,\n  347,\n  351,\n  365,\n  374,\n  387,\n  388,\n  392,\n  397,\n  399,\n  400,\n  402,\n  405,\n  406,\n  409,\n  416,\n  461,\n  462,\n  466,\n  469,\n  476,\n  499,\n  500,\n  509,\n  522,\n  528,\n  540,\n  545,\n  546,\n  550,\n  628,\n  639,\n  660,\n  673,\n  683,\n  684,\n  690,\n  715,\n  721,\n  723,\n  725,\n  743,\n  757,\n  770,\n  775,\n  781,\n  789,\n  887,\n  890,\n  901,\n  908,\n  914,\n  919,\n  921,\n  942,\n  944,\n  945,\n  946,\n  947,\n  952,\n  964,\n  965,\n  972,\n  1020,\n  1080,\n  1084,\n  1091,\n  1092,\n  1158,\n  1175,\n  1178,\n  1179,\n  1185,\n  1190,\n  1201,\n  1211,\n  1212,\n  1275,\n  1406,\n  1409,\n  1463,\n  1468,\n  1472,\n  1473,\n  1488,\n  1497,\n  1498,\n  1499,\n  1503,\n  1515,\n  1534,\n  1535,\n  1538,\n  1569,\n  1572,\n  1613,\n  1628,\n  1643,\n  1669,\n  1670,\n  1671,\n  1672,\n  1673,\n  1694,\n  1695,\n  1696,\n  1767,\n  1819,\n  1822,\n  1823,\n  1824,\n  1848,\n  1857,\n  1865,\n  1866,\n  1953,\n  1974,\n  1998,\n  2027,\n  2069,\n  2080,\n  2094,\n  2117,\n  2159,\n  2309,\n  2368,\n  2423,\n  2585,\n  2605,\n  2670,\n  2739,\n  2740,\n  2741,\n  2761,\n  2817,\n  2829,\n  2923,\n  2953,\n  2979,\n  2980,\n  2982,\n  2994,\n  2995,\n  3019,\n  3025,\n  3028,\n  3029,\n  3031,\n  3037,\n  3100,\n  3110,\n  3111,\n  3223,\n  3225,\n  3228,\n  3229,\n  3230,\n  3232,\n  3235,\n  3236,\n  3238,\n  3367,\n  3416,\n  3533,\n  3535,\n  3546,\n  3547,\n  3588,\n  3589,\n  3591,\n  3592,\n  3593,\n  3596,\n  3642,\n  3644,\n  3645,\n  3646,\n  3647,\n  3648,\n  3670,\n  3700,\n  3827,\n  3832,\n  3834,\n  3995,\n  4014,\n  4037,\n  4038,\n  4039,\n  4050,\n  4078,\n  4169,\n  4171,\n  4254,\n  4255,\n  4297,\n  4298,\n  4424,\n  4549,\n  4602,\n  4662,\n  4664,\n  4689,\n  4730,\n  4748,\n  4760,\n  4771,\n  4777,\n  4794,\n  4820,\n  4821,\n  4822,\n  6092,\n  8089,\n  8094,\n  8095,\n  8096,\n  8097,\n  8099,\n  8844,\n  8845,\n  9166,\n  9228,\n  9229,\n  9403,\n  9449,\n  9452,\n  9456,\n  9459,\n  9474,\n  9477,\n  9551,\n  9775,\n  9788,\n  9789,\n  10610,\n  10617,\n  10618,\n  10619,\n  10622,\n  10624,\n  10628,\n  10629,\n  10633,\n  10634,\n  10636,\n  10638,\n  10639,\n  10640,\n  10643,\n  10644,\n  10645,\n  10648,\n  10649,\n  10651,\n  10652,\n  10656,\n  10657,\n  10665,\n  11722,\n  13189,\n  13190,\n  13191,\n  13192,\n  13193,\n  13196,\n  13197,\n  13198,\n  13199,\n  13201,\n  13476,\n  13477,\n  13479,\n  13483,\n  13484,\n  13486,\n  13487,\n  13488,\n  13604,\n  13881,\n  14676,\n  14757,\n  14942,\n  15404,\n  15858,\n  15868,\n  16759,\n  16760,\n  16945,\n  16947,\n  16948,\n  16949,\n  16950,\n  16951,\n  17038,\n  17136,\n  17137,\n  18370,\n  18371,\n  18372,\n  18373,\n  18383,\n  18384,\n  18385,\n  18482,\n  18486,\n  18488,\n  18587,\n  18821,\n  18847,\n  18848,\n  18849,\n  18850,\n  19061,\n  19109,\n  19111,\n  19448,\n  19466,\n  19580,\n  19582,\n  19586,\n  19587,\n  19588,\n  19590,\n  20364,\n  107,\n  115,\n  124,\n  232,\n  284,\n  288,\n  292,\n  298,\n  335,\n  371,\n  373,\n  389,\n  393,\n  394,\n  398,\n  401,\n  407,\n  408,\n  425,\n  458,\n  529,\n  530,\n  537,\n  538,\n  539,\n  541,\n  544,\n  629,\n  630,\n  637,\n  638,\n  672,\n  681,\n  682,\n  685,\n  686,\n  703,\n  704,\n  713,\n  714,\n  724,\n  727,\n  752,\n  755,\n  758,\n  759,\n  761,\n  762,\n  764,\n  771,\n  772,\n  773,\n  774,\n  776,\n  777,\n  778,\n  782,\n  783,\n  784,\n  785,\n  794,\n  795,\n  797,\n  836,\n  892,\n  895,\n  904,\n  905,\n  906,\n  909,\n  920,\n  922,\n  928,\n  941,\n  943,\n  958,\n  989,\n  1059,\n  1079,\n  1081,\n  1083,\n  1086,\n  1100,\n  1131,\n  1139,\n  1150,\n  1159,\n  1160,\n  1161,\n  1165,\n  1168,\n  1176,\n  1177,\n  1183,\n  1187,\n  1191,\n  1192,\n  1194,\n  1196,\n  1210,\n  1213,\n  1224,\n  1232,\n  1239,\n  1276,\n  1280,\n  1372,\n  1458,\n  1459,\n  1461,\n  1462,\n  1493,\n  1500,\n  1501,\n  1516,\n  1530,\n  1531,\n  1532,\n  1539,\n  1548,\n  1571,\n  1587,\n  1630,\n  1667,\n  1714,\n  1769,\n  1817,\n  1818,\n  1820,\n  1821,\n  1831,\n  1841,\n  1843,\n  1850,\n  1853,\n  1858,\n  1859,\n  1867,\n  1872,\n  1948,\n  1970,\n  1996,\n  1997,\n  2003,\n  2004,\n  2012,\n  2026,\n  2028,\n  2030,\n  2036,\n  2037,\n  2039,\n  2047,\n  2048,\n  2049,\n  2074,\n  2078,\n  2079,\n  2099,\n  2100,\n  2101,\n  2102,\n  2104,\n  2105,\n  2110,\n  2113,\n  2114,\n  2115,\n  2118,\n  2140,\n  2141,\n  2142,\n  2144,\n  2150,\n  2162,\n  2163,\n  2235,\n  2328,\n  2339,\n  2340,\n  2341,\n  2357,\n  2363,\n  2389,\n  2588,\n  2712,\n  2735,\n  2736,\n  2737,\n  2921,\n  2924,\n  2926,\n  2975,\n  2977,\n  3033,\n  3034,\n  3067,\n  3084,\n  3085,\n  3087,\n  3088,\n  3089,\n  3090,\n  3098,\n  3103,\n  3106,\n  3109,\n  3226,\n  3239,\n  3283,\n  3571,\n  3572,\n  3583,\n  3598,\n  3669,\n  3674,\n  3679,\n  3695,\n  3696,\n  3697,\n  3698,\n  3824,\n  3868,\n  3968,\n  3975,\n  3981,\n  3984,\n  3986,\n  4018,\n  4031,\n  4035,\n  4040,\n  4051,\n  4052,\n  4053,\n  4054,\n  4057,\n  4074,\n  4080,\n  4084,\n  4252,\n  4329,\n  4342,\n  4344,\n  4359,\n  4375,\n  4425,\n  4430,\n  4451,\n  4462,\n  4470,\n  4490,\n  4492,\n  4495,\n  4496,\n  4512,\n  4538,\n  4539,\n  4540,\n  4541,\n  4542,\n  4545,\n  4552,\n  4556,\n  4557,\n  4558,\n  4559,\n  4565,\n  4566,\n  4591,\n  4597,\n  4598,\n  4599,\n  4600,\n  4601,\n  4603,\n  4632,\n  4648,\n  4653,\n  4654,\n  4663,\n  4665,\n  4667,\n  4670,\n  4685,\n  4692,\n  4697,\n  4698,\n  4700,\n  4723,\n  4744,\n  4746,\n  4758,\n  4759,\n  4761,\n  4769,\n  4776,\n  4779,\n  4780,\n  4793,\n  4795,\n  4823,\n  4824,\n  4825,\n  4830,\n  4838,\n  4852,\n  4983,\n  5010,\n  5395,\n  5415,\n  5449,\n  5664,\n  5665,\n  5681,\n  5839,\n  5865,\n  5877,\n  5889,\n  5934,\n  5991,\n  6387,\n  6846,\n  7392,\n  7417,\n  7487,\n  7501,\n  7852,\n  7950,\n  8081,\n  8088,\n  8292,\n  8361,\n  8823,\n  8864,\n  8880,\n  8953,\n  8990,\n  9146,\n  9150,\n  9151,\n  9453,\n  9460,\n  9461,\n  9462,\n  9488,\n  9525,\n  9593,\n  9750,\n  9751,\n  9753,\n  9758,\n  9759,\n  9760,\n  9767,\n  9772,\n  9781,\n  9786,\n  9849,\n  9953,\n  10066,\n  10067,\n  10068,\n  10223,\n  10583,\n  10818,\n  11456,\n  11534,\n  11973,\n  12508,\n  13067,\n  13069,\n  13082,\n  13182,\n  13263,\n  13264,\n  13463,\n  13465,\n  13473,\n  13474,\n  13478,\n  13556,\n  13561,\n  13563,\n  13779,\n  13865,\n  13868,\n  13869,\n  13872,\n  13886,\n  13984,\n  14000,\n  14052,\n  14655,\n  14658,\n  14661,\n  14666,\n  14667,\n  14671,\n  14672,\n  14675,\n  14726,\n  14739,\n  14752,\n  14797,\n  14947,\n  14948,\n  14950,\n  15529,\n  15530,\n  15531,\n  15596,\n  15629,\n  15698,\n  15699,\n  15712,\n  15713,\n  15714,\n  15718,\n  15724,\n  15839,\n  15840,\n  15842,\n  15848,\n  15850,\n  15854,\n  15857,\n  15860,\n  15867,\n  15919,\n  15935,\n  15957,\n  15958,\n  15959,\n  16158,\n  16162,\n  16191,\n  16534,\n  16889,\n  16932,\n  17070,\n  17072,\n  17245,\n  17860,\n  17874,\n  17878,\n  17880,\n  17893,\n  17903,\n  18141,\n  18148,\n  18249,\n  18345,\n  18359,\n  18403,\n  18438,\n  18503,\n  18504,\n  18705,\n  18713,\n  18766,\n  18773,\n  18785,\n  18831,\n  18949,\n  18961,\n  19133,\n  19165,\n  19167,\n  19170,\n  19239,\n  19261,\n  19264,\n  19265,\n  19266,\n  19373,\n  19380,\n  19482,\n  19493,\n  19502,\n  19506,\n  19508,\n  19509,\n  19521,\n  19583,\n  19599,\n  19600,\n  19615,\n  19616,\n  19657,\n  19658,\n  19662,\n  19666,\n  19668,\n  19673,\n  19750,\n  19756,\n  19775,\n  19907,\n  19908,\n  19911,\n  19912,\n  19914,\n  19922,\n  19979,\n  19989,\n  19990,\n  19991,\n  20008,\n  20009,\n  20011,\n  20018,\n  20020,\n  20099,\n  20100,\n  20127,\n  20128,\n  20322,\n  20327,\n  20333,\n  20345,\n  20429,\n  20498,\n  237,\n  1619,\n  1093,\n  1142,\n  2106,\n  2405,\n  2742,\n  2830,\n  3030,\n  3086,\n  3265,\n  3543,\n  3643,\n  3828,\n  3831,\n  4279,\n  5552,\n  7474,\n  7861,\n  8104,\n  8105,\n  8106,\n  8530,\n  9542,\n  9634,\n  9762,\n  9763,\n  10392,\n  10883,\n  12052,\n  13203,\n  14004,\n  14038,\n  14946,\n  14955,\n  15920,\n  17760,\n  17846,\n  18146,\n  765,\n  1666,\n  2109,\n  3979,\n  4281,\n  4647,\n  9521,\n  9936,\n  13862,\n  18757,\n  19973,\n  20378,\n  20380,\n  465,\n  2016,\n  4108,\n  878,\n  962,\n  1883,\n  2011,\n  2035,\n  2111,\n  2126,\n  2146,\n  3218,\n  3240,\n  3319,\n  3701,\n  4032,\n  4117,\n  4257,\n  4268,\n  4531,\n  4532,\n  4533,\n  4696,\n  4718,\n  4719,\n  4762,\n  4768,\n  4770,\n  4828,\n  7349,\n  7500,\n  7810,\n  8973,\n  9882,\n  10693,\n  10707,\n  13460,\n  13492,\n  13493,\n  13494,\n  17239,\n  18567,\n  18689,\n  18692,\n  18693,\n  18696,\n  18697,\n  18698,\n  ...],\n [4,\n  7,\n  13,\n  15,\n  16,\n  21,\n  22,\n  29,\n  36,\n  38,\n  40,\n  52,\n  54,\n  65,\n  69,\n  74,\n  77,\n  78,\n  80,\n  81,\n  82,\n  83,\n  85,\n  91,\n  93,\n  94,\n  95,\n  105,\n  112,\n  113,\n  117,\n  125,\n  129,\n  133,\n  134,\n  135,\n  136,\n  139,\n  143,\n  154,\n  155,\n  166,\n  167,\n  169,\n  170,\n  178,\n  179,\n  187,\n  202,\n  204,\n  205,\n  207,\n  219,\n  223,\n  233,\n  241,\n  242,\n  247,\n  249,\n  264,\n  265,\n  266,\n  267,\n  294,\n  297,\n  311,\n  313,\n  314,\n  316,\n  317,\n  324,\n  325,\n  329,\n  331,\n  332,\n  333,\n  337,\n  349,\n  352,\n  385,\n  386,\n  391,\n  417,\n  421,\n  423,\n  424,\n  428,\n  431,\n  436,\n  438,\n  439,\n  440,\n  441,\n  442,\n  444,\n  446,\n  452,\n  453,\n  454,\n  455,\n  463,\n  464,\n  467,\n  479,\n  485,\n  490,\n  494,\n  495,\n  497,\n  514,\n  515,\n  520,\n  521,\n  552,\n  553,\n  554,\n  555,\n  558,\n  559,\n  571,\n  572,\n  574,\n  577,\n  579,\n  582,\n  583,\n  585,\n  596,\n  597,\n  599,\n  605,\n  613,\n  615,\n  616,\n  634,\n  640,\n  647,\n  649,\n  650,\n  655,\n  669,\n  671,\n  674,\n  736,\n  748,\n  800,\n  803,\n  805,\n  806,\n  807,\n  811,\n  815,\n  817,\n  828,\n  830,\n  843,\n  847,\n  851,\n  865,\n  868,\n  870,\n  872,\n  876,\n  877,\n  885,\n  894,\n  897,\n  900,\n  902,\n  915,\n  926,\n  929,\n  950,\n  951,\n  954,\n  955,\n  984,\n  997,\n  1013,\n  1023,\n  1025,\n  1026,\n  1062,\n  1110,\n  1111,\n  1112,\n  1141,\n  1164,\n  1172,\n  1222,\n  1242,\n  1245,\n  1246,\n  1249,\n  1256,\n  1257,\n  1262,\n  1268,\n  1273,\n  1291,\n  1298,\n  1301,\n  1302,\n  1305,\n  1309,\n  1312,\n  1317,\n  1320,\n  1323,\n  1324,\n  1328,\n  1330,\n  1339,\n  1342,\n  1370,\n  1375,\n  1377,\n  1378,\n  1380,\n  1399,\n  1401,\n  1403,\n  1404,\n  1405,\n  1410,\n  1411,\n  1412,\n  1413,\n  1415,\n  1432,\n  1439,\n  1445,\n  1446,\n  1447,\n  1448,\n  1451,\n  1518,\n  1520,\n  1544,\n  1545,\n  1546,\n  1547,\n  1549,\n  1550,\n  1563,\n  1564,\n  1567,\n  1579,\n  1580,\n  1583,\n  1622,\n  1625,\n  1627,\n  1629,\n  1640,\n  1641,\n  1644,\n  1660,\n  1661,\n  1682,\n  1717,\n  1722,\n  1789,\n  1791,\n  1793,\n  1801,\n  1809,\n  1892,\n  1902,\n  1905,\n  1907,\n  1914,\n  2061,\n  2062,\n  2097,\n  2112,\n  2160,\n  2188,\n  2201,\n  2208,\n  2213,\n  2216,\n  2233,\n  2250,\n  2252,\n  2254,\n  2259,\n  2260,\n  2261,\n  2263,\n  2265,\n  2270,\n  2279,\n  2284,\n  2301,\n  2379,\n  2390,\n  2393,\n  2415,\n  2427,\n  2432,\n  2439,\n  2440,\n  2449,\n  2455,\n  2467,\n  2472,\n  2527,\n  2560,\n  2562,\n  2569,\n  2570,\n  2571,\n  2584,\n  2591,\n  2597,\n  2617,\n  2674,\n  2675,\n  2692,\n  2703,\n  2705,\n  2707,\n  2708,\n  2715,\n  2718,\n  2720,\n  2722,\n  2723,\n  2724,\n  2725,\n  2726,\n  2728,\n  2729,\n  2730,\n  2731,\n  2763,\n  2782,\n  2784,\n  2789,\n  2806,\n  2808,\n  2810,\n  2815,\n  2824,\n  2826,\n  2879,\n  2882,\n  2883,\n  2885,\n  2886,\n  2898,\n  2899,\n  2900,\n  2911,\n  2929,\n  2932,\n  2990,\n  3064,\n  3065,\n  3071,\n  3072,\n  3073,\n  3114,\n  3117,\n  3188,\n  3205,\n  3212,\n  3234,\n  3244,\n  3327,\n  3331,\n  3364,\n  3369,\n  3374,\n  3375,\n  3376,\n  3377,\n  3378,\n  3379,\n  3380,\n  3382,\n  3383,\n  3384,\n  3385,\n  3386,\n  3387,\n  3388,\n  3389,\n  3393,\n  3394,\n  3417,\n  3430,\n  3461,\n  3471,\n  3472,\n  3494,\n  3507,\n  3545,\n  3555,\n  3562,\n  3594,\n  3675,\n  3704,\n  3747,\n  3748,\n  3756,\n  3767,\n  3858,\n  3891,\n  3892,\n  3900,\n  3907,\n  3923,\n  3929,\n  3933,\n  4282,\n  4347,\n  4349,\n  4365,\n  4420,\n  4423,\n  4514,\n  4634,\n  4639,\n  4643,\n  4676,\n  4677,\n  4734,\n  4772,\n  4773,\n  4774,\n  4807,\n  4862,\n  4880,\n  4883,\n  4893,\n  5132,\n  5151,\n  5280,\n  5376,\n  5377,\n  5378,\n  5387,\n  5461,\n  5470,\n  5490,\n  5504,\n  5505,\n  5518,\n  5534,\n  5540,\n  5606,\n  5636,\n  5763,\n  5812,\n  5860,\n  6054,\n  6068,\n  6099,\n  6129,\n  6133,\n  6189,\n  6195,\n  6232,\n  6268,\n  6296,\n  6325,\n  6422,\n  6490,\n  6566,\n  6668,\n  6720,\n  6765,\n  6771,\n  6834,\n  6835,\n  6836,\n  6868,\n  6871,\n  6872,\n  6886,\n  6889,\n  6896,\n  6900,\n  6901,\n  6902,\n  6903,\n  6905,\n  6906,\n  6913,\n  6916,\n  6945,\n  6974,\n  6976,\n  6992,\n  7015,\n  7043,\n  7066,\n  7070,\n  7074,\n  7208,\n  7316,\n  7391,\n  7395,\n  7456,\n  7459,\n  7476,\n  7484,\n  7494,\n  7503,\n  7516,\n  7519,\n  7543,\n  7547,\n  7548,\n  7549,\n  7554,\n  7564,\n  7566,\n  7578,\n  7590,\n  7604,\n  7638,\n  7639,\n  7798,\n  7799,\n  7806,\n  7808,\n  7809,\n  7811,\n  7813,\n  7820,\n  7921,\n  8052,\n  8174,\n  8188,\n  8217,\n  8282,\n  8286,\n  8322,\n  8365,\n  8439,\n  8465,\n  8685,\n  8699,\n  8703,\n  8707,\n  8708,\n  8713,\n  8720,\n  8721,\n  8724,\n  8770,\n  8791,\n  8799,\n  8821,\n  8885,\n  8886,\n  8887,\n  8888,\n  9199,\n  9236,\n  9414,\n  9426,\n  9441,\n  9500,\n  9503,\n  9504,\n  9518,\n  9546,\n  9563,\n  9584,\n  9709,\n  9712,\n  9820,\n  9840,\n  9916,\n  9918,\n  9927,\n  9928,\n  9930,\n  9938,\n  9940,\n  9941,\n  9943,\n  9951,\n  9972,\n  9981,\n  10225,\n  10254,\n  10402,\n  10428,\n  10545,\n  10713,\n  10714,\n  10797,\n  10858,\n  10876,\n  10983,\n  11201,\n  11217,\n  11218,\n  11221,\n  11225,\n  11226,\n  11402,\n  11403,\n  11656,\n  11683,\n  11713,\n  11717,\n  11720,\n  11965,\n  11988,\n  12002,\n  12011,\n  12012,\n  12013,\n  12088,\n  12151,\n  12185,\n  12199,\n  12202,\n  12213,\n  12299,\n  12374,\n  12375,\n  12379,\n  12390,\n  12413,\n  12419,\n  12420,\n  12425,\n  12439,\n  12446,\n  12638,\n  12661,\n  12663,\n  12669,\n  12688,\n  12693,\n  12721,\n  12743,\n  12861,\n  12869,\n  13000,\n  13030,\n  13045,\n  13074,\n  13313,\n  13351,\n  13353,\n  13361,\n  13451,\n  13551,\n  13603,\n  13700,\n  13701,\n  13702,\n  13845,\n  14024,\n  14025,\n  14026,\n  14027,\n  14028,\n  14029,\n  14030,\n  14031,\n  14032,\n  14033,\n  14035,\n  14045,\n  14054,\n  14063,\n  14070,\n  14110,\n  14144,\n  14285,\n  14287,\n  14300,\n  14302,\n  14305,\n  14307,\n  14308,\n  14312,\n  14318,\n  14424,\n  14652,\n  14806,\n  14856,\n  15190,\n  15201,\n  15242,\n  15290,\n  15544,\n  15672,\n  15749,\n  15758,\n  15759,\n  15830,\n  15878,\n  16169,\n  16170,\n  16172,\n  16194,\n  16383,\n  16519,\n  16688,\n  16801,\n  16811,\n  16853,\n  16879,\n  17170,\n  17309,\n  17310,\n  17311,\n  17312,\n  17313,\n  17314,\n  17596,\n  17616,\n  17728,\n  17756,\n  17758,\n  17875,\n  17934,\n  17940,\n  17987,\n  18121,\n  18122,\n  18133,\n  18185,\n  18187,\n  18189,\n  18442,\n  18450,\n  18637,\n  18644,\n  18729,\n  18730,\n  18834,\n  19114,\n  19152,\n  19325,\n  19354,\n  19355,\n  19356,\n  19577,\n  19796,\n  19797,\n  19895,\n  19952,\n  19978,\n  20210,\n  20217,\n  20218,\n  20241,\n  20418,\n  201,\n  255,\n  272,\n  570,\n  587,\n  610,\n  667,\n  819,\n  831,\n  930,\n  956,\n  982,\n  986,\n  992,\n  1117,\n  1223,\n  1227,\n  1304,\n  1322,\n  1356,\n  1360,\n  1555,\n  1578,\n  1581,\n  1592,\n  1614,\n  1639,\n  1729,\n  1792,\n  2060,\n  2156,\n  2180,\n  2369,\n  2372,\n  2376,\n  2402,\n  2420,\n  2466,\n  2470,\n  2475,\n  2522,\n  2526,\n  2566,\n  2593,\n  2606,\n  2649,\n  2755,\n  2804,\n  2894,\n  2918,\n  2936,\n  3016,\n  3052,\n  3132,\n  3134,\n  3189,\n  3214,\n  3219,\n  3246,\n  3270,\n  3306,\n  3410,\n  3425,\n  3434,\n  3492,\n  3519,\n  3523,\n  3525,\n  3836,\n  3962,\n  4021,\n  4028,\n  4357,\n  4364,\n  5259,\n  5393,\n  5442,\n  5617,\n  6188,\n  6461,\n  6706,\n  7099,\n  7274,\n  7550,\n  7817,\n  8145,\n  8163,\n  8487,\n  8684,\n  8918,\n  9338,\n  9361,\n  9538,\n  9912,\n  9914,\n  9932,\n  9959,\n  10518,\n  10587,\n  10609,\n  11130,\n  11743,\n  11942,\n  12729,\n  12732,\n  15828,\n  17741,\n  17929,\n  18518,\n  18519,\n  18764,\n  20238,\n  20348,\n  576,\n  689,\n  850,\n  899,\n  1234,\n  1507,\n  1576,\n  1636,\n  1732,\n  1734,\n  1735,\n  1743,\n  1799,\n  1881,\n  1904,\n  1963,\n  1985,\n  2043,\n  2176,\n  2187,\n  2251,\n  2255,\n  2367,\n  2479,\n  2547,\n  2549,\n  2559,\n  2561,\n  2669,\n  2876,\n  3176,\n  3184,\n  3368,\n  3381,\n  3452,\n  3473,\n  3508,\n  3581,\n  3623,\n  3624,\n  3744,\n  3869,\n  3886,\n  3916,\n  3961,\n  4154,\n  4161,\n  4196,\n  4330,\n  4331,\n  4336,\n  4337,\n  4338,\n  4351,\n  4369,\n  4396,\n  4404,\n  4422,\n  4529,\n  4849,\n  5330,\n  5447,\n  5459,\n  5598,\n  5712,\n  6200,\n  6447,\n  6569,\n  6570,\n  6574,\n  6702,\n  6797,\n  6841,\n  6854,\n  6866,\n  6891,\n  6892,\n  6909,\n  6914,\n  6915,\n  7025,\n  7062,\n  7325,\n  7327,\n  7333,\n  7350,\n  7371,\n  7373,\n  7407,\n  7464,\n  7515,\n  7535,\n  7574,\n  8035,\n  8277,\n  8742,\n  8843,\n  8977,\n  9041,\n  9541,\n  11581,\n  11585,\n  11706,\n  11726,\n  11992,\n  12078,\n  12089,\n  12090,\n  12197,\n  12700,\n  12731,\n  12791,\n  13449,\n  13584,\n  13601,\n  13750,\n  13762,\n  14395,\n  14758,\n  15212,\n  15511,\n  16864,\n  18114,\n  18451,\n  19443,\n  20326,\n  20352,\n  20424,\n  ...],\n [8,\n  10,\n  12,\n  63,\n  84,\n  108,\n  109,\n  110,\n  118,\n  138,\n  152,\n  153,\n  168,\n  192,\n  194,\n  220,\n  236,\n  257,\n  320,\n  321,\n  326,\n  341,\n  429,\n  430,\n  451,\n  487,\n  502,\n  504,\n  578,\n  589,\n  600,\n  612,\n  632,\n  648,\n  659,\n  661,\n  666,\n  691,\n  760,\n  832,\n  864,\n  880,\n  884,\n  891,\n  980,\n  1024,\n  1076,\n  1087,\n  1170,\n  1180,\n  1230,\n  1236,\n  1237,\n  1266,\n  1274,\n  1278,\n  1281,\n  1287,\n  1311,\n  1387,\n  1389,\n  1440,\n  1513,\n  1559,\n  1638,\n  1656,\n  1659,\n  1708,\n  1712,\n  1752,\n  1813,\n  1827,\n  1828,\n  1832,\n  1868,\n  1976,\n  1979,\n  2090,\n  2130,\n  2131,\n  2225,\n  2232,\n  2243,\n  2306,\n  2317,\n  2330,\n  2347,\n  2356,\n  2371,\n  2380,\n  2381,\n  2399,\n  2509,\n  2574,\n  2612,\n  2618,\n  2746,\n  2779,\n  2783,\n  2873,\n  2874,\n  2985,\n  3022,\n  3060,\n  3145,\n  3159,\n  3227,\n  3291,\n  3398,\n  3399,\n  3552,\n  3603,\n  3605,\n  3681,\n  3682,\n  3684,\n  4001,\n  4023,\n  4046,\n  4380,\n  4408,\n  4701,\n  4901,\n  4935,\n  5091,\n  5142,\n  5147,\n  5243,\n  5411,\n  5498,\n  5512,\n  5526,\n  5568,\n  5765,\n  5768,\n  5857,\n  5931,\n  5970,\n  5990,\n  5993,\n  6041,\n  6058,\n  6076,\n  6088,\n  6096,\n  6097,\n  6156,\n  6184,\n  6253,\n  6276,\n  6378,\n  6469,\n  6485,\n  6734,\n  6748,\n  6855,\n  6897,\n  7318,\n  7343,\n  7412,\n  7507,\n  8018,\n  8143,\n  8176,\n  8182,\n  8276,\n  8291,\n  8299,\n  8477,\n  8517,\n  8532,\n  8546,\n  8563,\n  8700,\n  8725,\n  8771,\n  8966,\n  9194,\n  9513,\n  9631,\n  9752,\n  9755,\n  9805,\n  9829,\n  9834,\n  9955,\n  10005,\n  10377,\n  10600,\n  10822,\n  10923,\n  11016,\n  11023,\n  11062,\n  11079,\n  11081,\n  11153,\n  11183,\n  11511,\n  11546,\n  11555,\n  11563,\n  11565,\n  11567,\n  11595,\n  11600,\n  12009,\n  12179,\n  12339,\n  12570,\n  12679,\n  13058,\n  13119,\n  13256,\n  13261,\n  13262,\n  13430,\n  13458,\n  13562,\n  13590,\n  13818,\n  13877,\n  13892,\n  13893,\n  13898,\n  13994,\n  14015,\n  14036,\n  14043,\n  14044,\n  14286,\n  14709,\n  14767,\n  14876,\n  15205,\n  15226,\n  15549,\n  15913,\n  15928,\n  16974,\n  16976,\n  17141,\n  17142,\n  17850,\n  17917,\n  17920,\n  17942,\n  18427,\n  19779,\n  20147,\n  76,\n  151,\n  159,\n  165,\n  287,\n  336,\n  348,\n  459,\n  470,\n  474,\n  486,\n  503,\n  643,\n  646,\n  719,\n  750,\n  826,\n  834,\n  837,\n  838,\n  1007,\n  1021,\n  1029,\n  1051,\n  1099,\n  1128,\n  1163,\n  1225,\n  1228,\n  1294,\n  1313,\n  1321,\n  1340,\n  1442,\n  1512,\n  1697,\n  1705,\n  1706,\n  1707,\n  1749,\n  1826,\n  1847,\n  2025,\n  2174,\n  2175,\n  2190,\n  2227,\n  2237,\n  2289,\n  2327,\n  2334,\n  2344,\n  2350,\n  2385,\n  2387,\n  2395,\n  2413,\n  2416,\n  2417,\n  2498,\n  2583,\n  2663,\n  2759,\n  2781,\n  2805,\n  2904,\n  2933,\n  3004,\n  3061,\n  3095,\n  3125,\n  3127,\n  3169,\n  3174,\n  3178,\n  3187,\n  3260,\n  3395,\n  3397,\n  3521,\n  3656,\n  3765,\n  3785,\n  3795,\n  3992,\n  4002,\n  4005,\n  4006,\n  4025,\n  4034,\n  4043,\n  4107,\n  4116,\n  4253,\n  4354,\n  4358,\n  4363,\n  4366,\n  4487,\n  4655,\n  4690,\n  4691,\n  4724,\n  4993,\n  5200,\n  5262,\n  5384,\n  5386,\n  5441,\n  5468,\n  5515,\n  5688,\n  5703,\n  5714,\n  5715,\n  5720,\n  5729,\n  5792,\n  5793,\n  5943,\n  5961,\n  5975,\n  6000,\n  6038,\n  6055,\n  6120,\n  6338,\n  6350,\n  6423,\n  6985,\n  6987,\n  7342,\n  7506,\n  8178,\n  8278,\n  8467,\n  8481,\n  8511,\n  8512,\n  8681,\n  8976,\n  9591,\n  9610,\n  9611,\n  9613,\n  9617,\n  9629,\n  9803,\n  10335,\n  10641,\n  10839,\n  10935,\n  10950,\n  11080,\n  11099,\n  11150,\n  11234,\n  11265,\n  11268,\n  11503,\n  11621,\n  11839,\n  11841,\n  11949,\n  11974,\n  11984,\n  12233,\n  12832,\n  12856,\n  12875,\n  12889,\n  13559,\n  13672,\n  13673,\n  13704,\n  13856,\n  13880,\n  13884,\n  13885,\n  14065,\n  14408,\n  14470,\n  14506,\n  14540,\n  14878,\n  14887,\n  14958,\n  15256,\n  15363,\n  15628,\n  15646,\n  15652,\n  15655,\n  15657,\n  15660,\n  15665,\n  15675,\n  15710,\n  15711,\n  15717,\n  15722,\n  15726,\n  16030,\n  16160,\n  16765,\n  16810,\n  17761,\n  17766,\n  17847,\n  17857,\n  17861,\n  17864,\n  17867,\n  18051,\n  18142,\n  18323,\n  18324,\n  18325,\n  19832,\n  19841,\n  19842,\n  19937,\n  20010,\n  20215,\n  20328,\n  590,\n  5643,\n  6059,\n  7528,\n  11566,\n  662,\n  2178,\n  2750,\n  3046,\n  419,\n  477,\n  688,\n  717,\n  720,\n  957,\n  967,\n  969,\n  975,\n  1229,\n  1233,\n  1265,\n  1267,\n  1299,\n  1332,\n  1347,\n  1524,\n  1593,\n  1597,\n  1599,\n  1830,\n  1840,\n  1975,\n  2199,\n  2298,\n  2310,\n  2316,\n  2322,\n  2326,\n  2343,\n  2361,\n  2373,\n  2374,\n  2382,\n  2493,\n  2582,\n  2752,\n  3115,\n  3139,\n  3155,\n  3161,\n  3301,\n  3314,\n  3352,\n  3391,\n  3400,\n  3402,\n  3418,\n  3499,\n  3570,\n  3685,\n  3776,\n  3857,\n  4009,\n  4017,\n  4367,\n  4528,\n  4829,\n  5063,\n  5109,\n  5135,\n  5233,\n  5305,\n  5408,\n  5602,\n  5669,\n  5686,\n  5702,\n  5724,\n  5727,\n  5761,\n  5784,\n  5818,\n  5820,\n  5821,\n  5864,\n  5875,\n  5893,\n  5906,\n  5941,\n  5944,\n  5949,\n  5960,\n  5967,\n  5976,\n  5996,\n  5999,\n  6007,\n  6008,\n  6037,\n  6074,\n  6081,\n  6162,\n  6264,\n  6288,\n  6496,\n  6710,\n  6951,\n  7036,\n  7222,\n  7312,\n  7324,\n  7332,\n  7358,\n  8117,\n  8161,\n  8201,\n  8469,\n  8508,\n  8547,\n  8680,\n  8866,\n  9000,\n  9006,\n  9033,\n  9495,\n  9514,\n  9842,\n  9917,\n  9921,\n  9989,\n  9990,\n  10314,\n  10319,\n  10558,\n  10838,\n  10856,\n  11537,\n  11626,\n  12091,\n  12163,\n  12235,\n  12535,\n  13062,\n  13212,\n  13239,\n  13644,\n  13890,\n  13899,\n  14013,\n  14193,\n  14938,\n  14957,\n  15644,\n  15647,\n  15648,\n  15654,\n  15662,\n  16155,\n  16168,\n  16779,\n  16905,\n  16961,\n  18472,\n  20274,\n  20282,\n  1838,\n  2687,\n  2812,\n  8474,\n  9464,\n  9899,\n  10311,\n  11044,\n  13046,\n  15645,\n  15676,\n  15680,\n  16586,\n  20339,\n  20340,\n  1886,\n  3304,\n  3501,\n  3590,\n  3991,\n  4163,\n  4457,\n  4641,\n  5925,\n  6031,\n  11068,\n  12160,\n  13829,\n  16106,\n  16109,\n  16422,\n  16423,\n  16649,\n  19617,\n  19686,\n  19694,\n  1568,\n  2702,\n  8937,\n  8938,\n  14927,\n  566,\n  3182,\n  4013,\n  5368,\n  5790,\n  5898,\n  6229,\n  6394,\n  6507,\n  9015,\n  9636,\n  10323,\n  11120,\n  11976,\n  14737,\n  15576,\n  15947,\n  15948,\n  16173,\n  16874,\n  18237,\n  19661,\n  19873,\n  19906,\n  2337,\n  3083,\n  3683,\n  4586,\n  6334,\n  6707,\n  6712,\n  6735,\n  7880,\n  8505,\n  9608,\n  9756,\n  10356,\n  10852,\n  13053,\n  14858,\n  14944,\n  14951,\n  15116,\n  16891,\n  17075,\n  17848,\n  18096,\n  19611,\n  19613,\n  20019,\n  1766,\n  2319,\n  2320,\n  2632,\n  2811,\n  3128,\n  3426,\n  5007,\n  5122,\n  5283,\n  5351,\n  5599,\n  5722,\n  5737,\n  5838,\n  5842,\n  5897,\n  5930,\n  5935,\n  5979,\n  5981,\n  6223,\n  6242,\n  6547,\n  7038,\n  7368,\n  7410,\n  7482,\n  7526,\n  7593,\n  7618,\n  7642,\n  7650,\n  7784,\n  9832,\n  10019,\n  10835,\n  12443,\n  13887,\n  13894,\n  17933,\n  2711,\n  4928,\n  6373,\n  9566,\n  9612,\n  11233,\n  12809,\n  12881,\n  13475,\n  15642,\n  16033,\n  6040,\n  11991,\n  13995,\n  13996,\n  5682,\n  9625,\n  11967,\n  11997,\n  1272,\n  11557,\n  11559,\n  17100,\n  17101,\n  18679,\n  19249,\n  19250,\n  19251,\n  19252,\n  19253,\n  19254,\n  19255,\n  19256,\n  19257,\n  19258,\n  15720,\n  15729,\n  2242,\n  9047,\n  14503,\n  16040,\n  5430,\n  6042,\n  15962,\n  2182,\n  5807,\n  10877,\n  10934,\n  3686,\n  9550,\n  13915,\n  13917,\n  13919,\n  15157,\n  5270,\n  11119,\n  11584,\n  19663,\n  5038,\n  7001,\n  7303,\n  5718,\n  10303,\n  17267,\n  8138,\n  11963,\n  13671,\n  6228,\n  11996,\n  6398,\n  6555,\n  17237,\n  19729,\n  6929,\n  7302,\n  9693,\n  9747,\n  13642,\n  16857,\n  16920,\n  17837,\n  18752,\n  20141,\n  20201,\n  5801,\n  8526,\n  9523],\n [30,\n  49,\n  57,\n  71,\n  72,\n  102,\n  104,\n  121,\n  122,\n  126,\n  174,\n  228,\n  262,\n  291,\n  315,\n  363,\n  364,\n  457,\n  611,\n  641,\n  692,\n  810,\n  862,\n  875,\n  1044,\n  1074,\n  1454,\n  1702,\n  1715,\n  1759,\n  1760,\n  2089,\n  2137,\n  2138,\n  2189,\n  2565,\n  2673,\n  2799,\n  3370,\n  3691,\n  3719,\n  3905,\n  4434,\n  4544,\n  5465,\n  18735,\n  50,\n  175,\n  281,\n  330,\n  334,\n  370,\n  382,\n  403,\n  636,\n  935,\n  936,\n  987,\n  1043,\n  1048,\n  1054,\n  1089,\n  1171,\n  1186,\n  1243,\n  1781,\n  1839,\n  1851,\n  1861,\n  1863,\n  2009,\n  2136,\n  2157,\n  2913,\n  3080,\n  3082,\n  3330,\n  3409,\n  3475,\n  3478,\n  3653,\n  3678,\n  3813,\n  3821,\n  3987,\n  4024,\n  4109,\n  4175,\n  4421,\n  4461,\n  4756,\n  5225,\n  5580,\n  7347,\n  7367,\n  7396,\n  7473,\n  7511,\n  7514,\n  8459,\n  8739,\n  8967,\n  9113,\n  9116,\n  9332,\n  9333,\n  9334,\n  9731,\n  11187,\n  13140,\n  13664,\n  13825,\n  14478,\n  15682,\n  15727,\n  15815,\n  15817,\n  15837,\n  15838,\n  16012,\n  16826,\n  16901,\n  17057,\n  17139,\n  17609,\n  18149,\n  19162,\n  19727,\n  20277,\n  185,\n  277,\n  358,\n  594,\n  747,\n  1058,\n  1450,\n  1683,\n  1807,\n  1878,\n  1895,\n  2244,\n  3432,\n  3627,\n  3914,\n  15465,\n  508,\n  1937,\n  732,\n  1444,\n  2200,\n  456,\n  595,\n  722,\n  1369,\n  1812,\n  1943,\n  2145,\n  2281,\n  2555,\n  2969,\n  4027,\n  4437,\n  4818,\n  1011,\n  1027,\n  1046,\n  1047,\n  1097,\n  1126,\n  1155,\n  1188,\n  1396,\n  1690,\n  1728,\n  1761,\n  1860,\n  1862,\n  2053,\n  2088,\n  2134,\n  2679,\n  2915,\n  2952,\n  3001,\n  3081,\n  3634,\n  3997,\n  4092,\n  4284,\n  4711,\n  4754,\n  4814,\n  5318,\n  9175,\n  15306,\n  15802,\n  15880,\n  16079,\n  16982,\n  19182,\n  20360,\n  1255,\n  2672,\n  5452,\n  6214,\n  12712,\n  13384,\n  3063,\n  1254,\n  1632,\n  1896,\n  3820,\n  2539,\n  1018,\n  1207,\n  1208,\n  1209,\n  1790,\n  1951,\n  1971,\n  2971,\n  3658,\n  3822,\n  3845,\n  3919,\n  4153,\n  4198,\n  4288,\n  6644,\n  7471,\n  8261,\n  10091,\n  13133,\n  13134,\n  13164,\n  13167,\n  13408,\n  13415,\n  13795,\n  15332,\n  16517,\n  17151,\n  18857,\n  19696,\n  1430,\n  1452,\n  4095,\n  5726,\n  7565,\n  8891,\n  9315,\n  9958,\n  11955,\n  14291,\n  19818,\n  1875,\n  3801,\n  8735,\n  14753,\n  726,\n  949,\n  1053,\n  1127,\n  1189,\n  1217,\n  1247,\n  1383,\n  1394,\n  1398,\n  1416,\n  1466,\n  1482,\n  1484,\n  1485,\n  1486,\n  1642,\n  1684,\n  1685,\n  1692,\n  1754,\n  1811,\n  1882,\n  1942,\n  1962,\n  2215,\n  2258,\n  2285,\n  2288,\n  2546,\n  2902,\n  2909,\n  2939,\n  2970,\n  2972,\n  2973,\n  2974,\n  2991,\n  3059,\n  3079,\n  3440,\n  3467,\n  3470,\n  3505,\n  3608,\n  3633,\n  3739,\n  3819,\n  3901,\n  3960,\n  4012,\n  4082,\n  4096,\n  4099,\n  4176,\n  4246,\n  4248,\n  4308,\n  4313,\n  4323,\n  4343,\n  4471,\n  4836,\n  4937,\n  4944,\n  5355,\n  5473,\n  5491,\n  5584,\n  5585,\n  5618,\n  5619,\n  5627,\n  5631,\n  5632,\n  5633,\n  6535,\n  6536,\n  6667,\n  6669,\n  6839,\n  6865,\n  6885,\n  6907,\n  6912,\n  7505,\n  7551,\n  7561,\n  7596,\n  7597,\n  7636,\n  7651,\n  8434,\n  8440,\n  8483,\n  8527,\n  8550,\n  8560,\n  8564,\n  8779,\n  8800,\n  8805,\n  8943,\n  8956,\n  8957,\n  8958,\n  8960,\n  8961,\n  8972,\n  9126,\n  9130,\n  9134,\n  9330,\n  9341,\n  10118,\n  10134,\n  10137,\n  10144,\n  11697,\n  11749,\n  11752,\n  12430,\n  12436,\n  12440,\n  12441,\n  12442,\n  12605,\n  12618,\n  12631,\n  13001,\n  13042,\n  13083,\n  13305,\n  13417,\n  13418,\n  13421,\n  13554,\n  13737,\n  13918,\n  14178,\n  14179,\n  14531,\n  14687,\n  14696,\n  14715,\n  14719,\n  14720,\n  14721,\n  14724,\n  14725,\n  14784,\n  15225,\n  15281,\n  15507,\n  15679,\n  15683,\n  16051,\n  16095,\n  16096,\n  16150,\n  16326,\n  16332,\n  16337,\n  16535,\n  16539,\n  16737,\n  16738,\n  16980,\n  16981,\n  16983,\n  17751,\n  17827,\n  18092,\n  18190,\n  18193,\n  18194,\n  18196,\n  18423,\n  18462,\n  18468,\n  18838,\n  19174,\n  19305,\n  19728,\n  19959,\n  20245,\n  20247,\n  20279,\n  20393,\n  1068,\n  1894,\n  2052,\n  3693,\n  4283,\n  4560,\n  4561,\n  4562,\n  4563,\n  4564,\n  4617,\n  4952,\n  8801,\n  8904,\n  8905,\n  9117,\n  9195,\n  9717,\n  10872,\n  12613,\n  12759,\n  16223,\n  17274,\n  17823,\n  1753,\n  1782,\n  1810,\n  1991,\n  2660,\n  3636,\n  3791,\n  3807,\n  3809,\n  3826,\n  4152,\n  4501,\n  4521,\n  4610,\n  4815,\n  4956,\n  12057,\n  12524,\n  12619,\n  13933,\n  14432,\n  14589,\n  14771,\n  15463,\n  15466,\n  15495,\n  15497,\n  16164,\n  20243,\n  1687,\n  2797,\n  3959,\n  4350,\n  4409,\n  5284,\n  6864,\n  7575,\n  7589,\n  8290,\n  8438,\n  10125,\n  11400,\n  12411,\n  12519,\n  14518,\n  14519,\n  14766,\n  15767,\n  18632,\n  20302,\n  3250,\n  3910,\n  2563,\n  9350,\n  9394,\n  10124,\n  13753,\n  15126,\n  15447,\n  15462,\n  15481,\n  16316,\n  9719,\n  14577,\n  14932,\n  2836,\n  4636,\n  9185,\n  17798,\n  17968,\n  19957,\n  19960,\n  2164,\n  3074,\n  3142,\n  3335,\n  3529,\n  3638,\n  3714,\n  3720,\n  3721,\n  3742,\n  4817,\n  5588,\n  5589,\n  6918,\n  9722,\n  10092,\n  10130,\n  11398,\n  11740,\n  11742,\n  12428,\n  12433,\n  13338,\n  13533,\n  13546,\n  14137,\n  14146,\n  14150,\n  14659,\n  15227,\n  15685,\n  17830,\n  19898,\n  20246,\n  1689,\n  19188,\n  7521,\n  8329,\n  13200,\n  16100,\n  19374,\n  19869,\n  3777,\n  17984,\n  8554,\n  15421,\n  16825,\n  5578,\n  5582,\n  5583,\n  8678,\n  8778,\n  11725,\n  12407,\n  12938,\n  12946,\n  12949,\n  12394,\n  15812,\n  17047,\n  17146,\n  17147],\n [1,\n  6,\n  34,\n  96,\n  162,\n  180,\n  208,\n  215,\n  248,\n  250,\n  415,\n  418,\n  483,\n  505,\n  507,\n  556,\n  561,\n  575,\n  598,\n  620,\n  754,\n  816,\n  925,\n  932,\n  1041,\n  1055,\n  1144,\n  1252,\n  1374,\n  1425,\n  1514,\n  1542,\n  1637,\n  1663,\n  1711,\n  2239,\n  2276,\n  2548,\n  2600,\n  2691,\n  2888,\n  3474,\n  4732,\n  99,\n  252,\n  296,\n  300,\n  307,\n  310,\n  322,\n  547,\n  548,\n  557,\n  562,\n  584,\n  645,\n  670,\n  700,\n  705,\n  716,\n  745,\n  749,\n  751,\n  790,\n  799,\n  841,\n  844,\n  852,\n  874,\n  883,\n  910,\n  916,\n  927,\n  931,\n  959,\n  985,\n  988,\n  1095,\n  1143,\n  1216,\n  1219,\n  1250,\n  1251,\n  1253,\n  1315,\n  1326,\n  1395,\n  1402,\n  1465,\n  1519,\n  1526,\n  1536,\n  1541,\n  1565,\n  1575,\n  1617,\n  1624,\n  1633,\n  1662,\n  1716,\n  1768,\n  1833,\n  1834,\n  1836,\n  1854,\n  1916,\n  2022,\n  2031,\n  2127,\n  2129,\n  2149,\n  2228,\n  2249,\n  2272,\n  2278,\n  2290,\n  2429,\n  2433,\n  2456,\n  2460,\n  2462,\n  2463,\n  2469,\n  2510,\n  2568,\n  2572,\n  2586,\n  2683,\n  2754,\n  2762,\n  2931,\n  3005,\n  3032,\n  3035,\n  3038,\n  3056,\n  3057,\n  3068,\n  3069,\n  3105,\n  3112,\n  3122,\n  3129,\n  3133,\n  3138,\n  3181,\n  3186,\n  3267,\n  3269,\n  3329,\n  3414,\n  3421,\n  3433,\n  3522,\n  3539,\n  3550,\n  3551,\n  3797,\n  3808,\n  4058,\n  4178,\n  4195,\n  4256,\n  4259,\n  4270,\n  4271,\n  4291,\n  4302,\n  4361,\n  4362,\n  4412,\n  4413,\n  4737,\n  4796,\n  4843,\n  5439,\n  6033,\n  6045,\n  6053,\n  6057,\n  6122,\n  6172,\n  6175,\n  6185,\n  6257,\n  6270,\n  6301,\n  6921,\n  7151,\n  7595,\n  7612,\n  8078,\n  8109,\n  8194,\n  8452,\n  8503,\n  8540,\n  8780,\n  8788,\n  8865,\n  8890,\n  8955,\n  9055,\n  9433,\n  9458,\n  9517,\n  9559,\n  9592,\n  9638,\n  9639,\n  9641,\n  9642,\n  9798,\n  9872,\n  9874,\n  9913,\n  9965,\n  9997,\n  10251,\n  10363,\n  10381,\n  10394,\n  10397,\n  10674,\n  10874,\n  10898,\n  11012,\n  11110,\n  11157,\n  11185,\n  11194,\n  11212,\n  11631,\n  11957,\n  11958,\n  11971,\n  11994,\n  12022,\n  12176,\n  12828,\n  12877,\n  12890,\n  13023,\n  13037,\n  13569,\n  13575,\n  13608,\n  13629,\n  14049,\n  14261,\n  14774,\n  14775,\n  15207,\n  15600,\n  15601,\n  15603,\n  15650,\n  15674,\n  15689,\n  15776,\n  15873,\n  15874,\n  15875,\n  15966,\n  16041,\n  16187,\n  16188,\n  16200,\n  16346,\n  16394,\n  16441,\n  16540,\n  17869,\n  17879,\n  18034,\n  18100,\n  18145,\n  18586,\n  18799,\n  19175,\n  19317,\n  19618,\n  19745,\n  19920,\n  19947,\n  19998,\n  19999,\n  20013,\n  20129,\n  20132,\n  20137,\n  20139,\n  20227,\n  20228,\n  20231,\n  20233,\n  20234,\n  20428,\n  20434,\n  833,\n  2751,\n  3556,\n  3993,\n  4128,\n  4500,\n  4848,\n  5077,\n  5750,\n  6323,\n  8142,\n  9010,\n  10286,\n  10301,\n  11975,\n  13878,\n  13897,\n  13907,\n  13908,\n  15348,\n  15354,\n  16523,\n  16561,\n  17972,\n  18841,\n  1557,\n  1973,\n  4611,\n  16161,\n  1455,\n  3699,\n  1460,\n  2459,\n  2809,\n  2959,\n  3830,\n  4168,\n  4493,\n  4915,\n  5463,\n  5525,\n  5926,\n  6015,\n  6056,\n  6199,\n  6946,\n  7805,\n  8186,\n  8466,\n  9630,\n  9647,\n  9802,\n  11990,\n  13195,\n  13571,\n  15632,\n  15923,\n  16278,\n  16955,\n  17040,\n  17041,\n  17042,\n  17043,\n  17044,\n  17045,\n  1510,\n  4188,\n  1986,\n  4392,\n  4401,\n  2576,\n  2721,\n  3048,\n  3058,\n  3120,\n  4173,\n  4301,\n  4303,\n  4333,\n  4334,\n  4400,\n  5356,\n  7341,\n  7372,\n  7415,\n  7489,\n  7613,\n  7859,\n  8066,\n  8275,\n  8294,\n  8954,\n  9070,\n  9099,\n  9589,\n  10098,\n  11732,\n  12189,\n  12190,\n  12191,\n  12281,\n  12818,\n  12830,\n  12857,\n  13027,\n  13028,\n  13029,\n  13033,\n  13036,\n  13038,\n  13039,\n  13040,\n  13854,\n  14273,\n  14276,\n  14278,\n  14284,\n  14288,\n  14292,\n  14293,\n  14294,\n  14295,\n  14296,\n  14615,\n  14711,\n  16111,\n  16184,\n  16347,\n  16350,\n  16351,\n  16849,\n  16850,\n  16851,\n  16852,\n  16963,\n  16964,\n  16965,\n  17240,\n  17241,\n  17242,\n  17243,\n  17244,\n  17611,\n  17613,\n  18147,\n  19802,\n  4842,\n  11213,\n  14769,\n  17762,\n  18511,\n  4466,\n  1508,\n  1778,\n  2461,\n  2587,\n  2984,\n  3042,\n  3045,\n  3415,\n  3567,\n  4458,\n  4494,\n  4612,\n  5881,\n  8181,\n  8305,\n  8816,\n  8921,\n  8930,\n  8969,\n  9002,\n  9475,\n  9476,\n  9480,\n  9511,\n  9522,\n  9561,\n  9562,\n  9604,\n  9651,\n  9725,\n  9877,\n  9923,\n  10683,\n  11224,\n  11986,\n  12018,\n  12020,\n  12062,\n  12175,\n  12178,\n  12180,\n  12563,\n  12583,\n  12586,\n  12891,\n  12897,\n  13076,\n  13217,\n  13260,\n  13605,\n  13744,\n  13772,\n  13837,\n  13999,\n  14574,\n  14575,\n  14605,\n  14674,\n  15509,\n  15510,\n  15553,\n  16037,\n  16591,\n  16593,\n  16846,\n  16884,\n  16966,\n  17034,\n  17035,\n  17036,\n  17269,\n  17270,\n  17841,\n  18053,\n  18054,\n  18056,\n  18057,\n  18402,\n  18873,\n  18874,\n  19196,\n  19198,\n  19655,\n  20271,\n  20304,\n  20334,\n  2814,\n  2910,\n  3948,\n  4332,\n  4399,\n  6329,\n  6736,\n  6737,\n  6738,\n  6755,\n  6851,\n  7533,\n  7599,\n  7827,\n  9435,\n  11543,\n  12087,\n  12434,\n  16031,\n  16032,\n  16368,\n  18118,\n  2428,\n  3198,\n  3554,\n  3566,\n  4936,\n  8310,\n  8898,\n  12034,\n  12792,\n  15528,\n  17621,\n  2411,\n  3371,\n  5550,\n  5554,\n  9846,\n  14964,\n  11691,\n  12827,\n  13835,\n  20214,\n  3195,\n  4806,\n  4397,\n  4584,\n  13924,\n  15240,\n  17331],\n [183,\n  253,\n  270,\n  328,\n  427,\n  445,\n  580,\n  592,\n  846,\n  898,\n  960,\n  1147,\n  1215,\n  1248,\n  1334,\n  1552,\n  1718,\n  1844,\n  2430,\n  2431,\n  3197,\n  3424,\n  3604,\n  3806,\n  4061,\n  4426,\n  4429,\n  4846,\n  7053,\n  7621,\n  8314,\n  13409,\n  15677,\n  16023,\n  16745,\n  20230,\n  20387,\n  197,\n  206,\n  238,\n  293,\n  449,\n  468,\n  658,\n  809,\n  842,\n  940,\n  961,\n  993,\n  1002,\n  1004,\n  1056,\n  1310,\n  1327,\n  1337,\n  1423,\n  1429,\n  1553,\n  1554,\n  1770,\n  1856,\n  1969,\n  2075,\n  2128,\n  2151,\n  2253,\n  4056,\n  4119,\n  4306,\n  4497,\n  4587,\n  6371,\n  7145,\n  11010,\n  11077,\n  15183,\n  15723,\n  19327,\n  20006,\n  687,\n  744,\n  1385,\n  4384,\n  1325,\n  2000,\n  2013,\n  2038,\n  2941,\n  3091,\n  4472,\n  2065,\n  995,\n  996,\n  1184,\n  1203,\n  1293,\n  1566,\n  1783,\n  1837,\n  1842,\n  1999,\n  2283,\n  2436,\n  2832,\n  2942,\n  2945,\n  3096,\n  3258,\n  3263,\n  3574,\n  3576,\n  3652,\n  3694,\n  3903,\n  4059,\n  4120,\n  4258,\n  4280,\n  4379,\n  4465,\n  4604,\n  4736,\n  4783,\n  4790,\n  4809,\n  4832,\n  4839,\n  4840,\n  4844,\n  4845,\n  4857,\n  7005,\n  7186,\n  7598,\n  7625,\n  9052,\n  9457,\n  9469,\n  9481,\n  9482,\n  9529,\n  9614,\n  9757,\n  9765,\n  9796,\n  9838,\n  10154,\n  10655,\n  10658,\n  10663,\n  10664,\n  10667,\n  10669,\n  10860,\n  10919,\n  11259,\n  11269,\n  12134,\n  12380,\n  13265,\n  13267,\n  13577,\n  14425,\n  14662,\n  14663,\n  14669,\n  14713,\n  14949,\n  15122,\n  15816,\n  15818,\n  15872,\n  15877,\n  16344,\n  16754,\n  16761,\n  16808,\n  16875,\n  16913,\n  18154,\n  18159,\n  18175,\n  18191,\n  18192,\n  18763,\n  18765,\n  19149,\n  19150,\n  19385,\n  19398,\n  19455,\n  19503,\n  19619,\n  19653,\n  19656,\n  19697,\n  20004,\n  20232,\n  20252,\n  20256,\n  20367,\n  20438,\n  20446,\n  20491,\n  2421,\n  3119,\n  3896,\n  3897,\n  3898,\n  4808,\n  6150,\n  7179,\n  9483,\n  9543,\n  10569,\n  10691,\n  12837,\n  12883,\n  15768,\n  16900,\n  19843,\n  20426,\n  3324,\n  6542,\n  8892,\n  11222,\n  2435,\n  3231,\n  4800,\n  4833,\n  6010,\n  13052,\n  19903,\n  2833,\n  948,\n  2286,\n  2686,\n  2798,\n  2827,\n  3190,\n  3420,\n  3606,\n  3917,\n  4022,\n  4841,\n  6102,\n  6186,\n  6261,\n  6302,\n  6305,\n  6324,\n  6537,\n  7567,\n  7588,\n  7619,\n  8492,\n  8815,\n  9128,\n  9213,\n  9233,\n  9648,\n  9879,\n  10054,\n  10659,\n  10662,\n  11198,\n  11228,\n  12014,\n  13398,\n  13413,\n  13416,\n  13419,\n  13517,\n  13743,\n  13801,\n  14011,\n  14290,\n  14657,\n  15339,\n  15503,\n  16856,\n  17627,\n  18132,\n  18202,\n  19820,\n  20365,\n  20411,\n  20425,\n  808,\n  3194,\n  3575,\n  2277,\n  4853,\n  5074,\n  12042,\n  14055,\n  16063,\n  1981,\n  2014,\n  2147,\n  4728,\n  4819,\n  2132,\n  4473,\n  4729,\n  1422,\n  2676,\n  3577,\n  4378,\n  4474,\n  4522,\n  4523,\n  4524,\n  4525,\n  4585,\n  4802,\n  4847,\n  5574,\n  6203,\n  8552,\n  8555,\n  8847,\n  8964,\n  8965,\n  9549,\n  9637,\n  9764,\n  9766,\n  10676,\n  10684,\n  10686,\n  11371,\n  12046,\n  12211,\n  13077,\n  13078,\n  13081,\n  13084,\n  13867,\n  14857,\n  15098,\n  17746,\n  17754,\n  17904,\n  17905,\n  18224,\n  18307,\n  18426,\n  18452,\n  18453,\n  18454,\n  18455,\n  18461,\n  18463,\n  18566,\n  18641,\n  18642,\n  18643,\n  19070,\n  19100,\n  19194,\n  19800,\n  20229,\n  20266,\n  20267,\n  20323,\n  20325,\n  20329,\n  20344,\n  20366,\n  20368,\n  20369,\n  20388,\n  20407,\n  20408,\n  20410,\n  20412,\n  20413,\n  20414,\n  20448,\n  20493,\n  2611,\n  2050,\n  2153,\n  3359,\n  3706,\n  4865,\n  5310,\n  5365,\n  5563,\n  5571,\n  6567,\n  7483,\n  7498,\n  8004,\n  8068,\n  8730,\n  8731,\n  8808,\n  10537,\n  10701,\n  13714,\n  14080,\n  14081,\n  14082,\n  14083,\n  14084,\n  14086,\n  14087,\n  14089,\n  14091,\n  14092,\n  14093,\n  14095,\n  14096,\n  14099,\n  15542,\n  16450,\n  16451,\n  18029,\n  18030,\n  18350,\n  18862,\n  20422,\n  2056,\n  2282,\n  2643,\n  4555,\n  5616,\n  14583,\n  17628,\n  19454,\n  2556,\n  6210,\n  8507,\n  9615,\n  10754,\n  10807,\n  10850,\n  11059,\n  11232,\n  12573,\n  12813,\n  14473,\n  18473,\n  18475,\n  18609,\n  18797,\n  1371,\n  821,\n  2287,\n  2438,\n  2464,\n  2478,\n  2694,\n  2695,\n  3199,\n  3200,\n  5429,\n  5610,\n  5613,\n  5626,\n  6340,\n  6361,\n  7061,\n  8959,\n  10140,\n  10143,\n  12913,\n  12947,\n  12948,\n  12953,\n  14040,\n  14050,\n  14053,\n  14183,\n  14184,\n  14185,\n  14186,\n  14187,\n  14188,\n  14189,\n  14190,\n  14191,\n  14192,\n  15506,\n  16736,\n  20240,\n  20242,\n  1543,\n  2474,\n  3641,\n  3649,\n  4537,\n  5605,\n  6303,\n  6926,\n  8203,\n  8559,\n  8860,\n  8861,\n  9100,\n  9101,\n  9536,\n  9696,\n  9699,\n  9806,\n  9809,\n  11734,\n  13310,\n  13455,\n  13509,\n  13857,\n  13859,\n  13931,\n  14017,\n  14614,\n  14733,\n  14780,\n  14783,\n  15378,\n  15379,\n  15380,\n  15582,\n  15681,\n  16762,\n  17842,\n  18061,\n  18512,\n  18738,\n  18739,\n  18825,\n  18971,\n  19076,\n  19621,\n  19622,\n  19623,\n  19624,\n  19872,\n  19878,\n  20235,\n  20350,\n  20430,\n  5696,\n  6213,\n  7463,\n  9455,\n  13238,\n  19349,\n  19819,\n  20405,\n  7054,\n  9605,\n  9697,\n  9900,\n  9967,\n  10401,\n  12853,\n  13774,\n  16443,\n  17002,\n  19067,\n  19068,\n  19069,\n  19814,\n  19817,\n  20406,\n  20409,\n  9904,\n  10253,\n  11109,\n  14749,\n  15696,\n  15912,\n  16190,\n  16790,\n  11819,\n  17589,\n  2785,\n  5615,\n  5634,\n  7631,\n  7919,\n  13044,\n  16890,\n  17744],\n [3,\n  5,\n  14,\n  18,\n  19,\n  23,\n  35,\n  42,\n  43,\n  46,\n  47,\n  51,\n  53,\n  58,\n  64,\n  66,\n  86,\n  98,\n  111,\n  137,\n  141,\n  142,\n  144,\n  147,\n  163,\n  173,\n  177,\n  182,\n  190,\n  191,\n  199,\n  200,\n  203,\n  211,\n  212,\n  213,\n  214,\n  216,\n  217,\n  222,\n  243,\n  254,\n  256,\n  259,\n  289,\n  323,\n  340,\n  350,\n  361,\n  366,\n  372,\n  375,\n  443,\n  460,\n  472,\n  480,\n  493,\n  501,\n  510,\n  567,\n  569,\n  573,\n  581,\n  601,\n  604,\n  609,\n  642,\n  668,\n  701,\n  708,\n  824,\n  835,\n  858,\n  873,\n  881,\n  903,\n  912,\n  913,\n  917,\n  953,\n  991,\n  1019,\n  1031,\n  1039,\n  1050,\n  1061,\n  1066,\n  1085,\n  1244,\n  1261,\n  1270,\n  1271,\n  1284,\n  1292,\n  1306,\n  1345,\n  1354,\n  1382,\n  1386,\n  1397,\n  1419,\n  1437,\n  1453,\n  1456,\n  1467,\n  1470,\n  1562,\n  1582,\n  1585,\n  1591,\n  1594,\n  1595,\n  1602,\n  1612,\n  1648,\n  1651,\n  1652,\n  1653,\n  1658,\n  1668,\n  1678,\n  1699,\n  1719,\n  1748,\n  1755,\n  1757,\n  1765,\n  1797,\n  1829,\n  1864,\n  1966,\n  1994,\n  1995,\n  2092,\n  2093,\n  2203,\n  2274,\n  2302,\n  2311,\n  2362,\n  2422,\n  2453,\n  2476,\n  2483,\n  2487,\n  2499,\n  2608,\n  2619,\n  2629,\n  2630,\n  2631,\n  2634,\n  2637,\n  2641,\n  2645,\n  2662,\n  2668,\n  2769,\n  2774,\n  2778,\n  2819,\n  2848,\n  2890,\n  2914,\n  2940,\n  2962,\n  3000,\n  3008,\n  3036,\n  3041,\n  3055,\n  3062,\n  3104,\n  3135,\n  3177,\n  3179,\n  3196,\n  3220,\n  3277,\n  3315,\n  3476,\n  3597,\n  3640,\n  3707,\n  3708,\n  3782,\n  3792,\n  3811,\n  3814,\n  3815,\n  3816,\n  3817,\n  3838,\n  3861,\n  3924,\n  3927,\n  3985,\n  4004,\n  4042,\n  4261,\n  4383,\n  4390,\n  4395,\n  4467,\n  4534,\n  4567,\n  4827,\n  4905,\n  4906,\n  4910,\n  4920,\n  4940,\n  4973,\n  4974,\n  5058,\n  5096,\n  5117,\n  5213,\n  5247,\n  5304,\n  5738,\n  5748,\n  5775,\n  5810,\n  5892,\n  5966,\n  6222,\n  6311,\n  6318,\n  6320,\n  6457,\n  6483,\n  6487,\n  6494,\n  6506,\n  7096,\n  7244,\n  7298,\n  7310,\n  7365,\n  7380,\n  7386,\n  7387,\n  7488,\n  7493,\n  8267,\n  8300,\n  8848,\n  8849,\n  8850,\n  8851,\n  8852,\n  8853,\n  8894,\n  8968,\n  9127,\n  9321,\n  9329,\n  9352,\n  9463,\n  9724,\n  9813,\n  10133,\n  10281,\n  10292,\n  10355,\n  10359,\n  10578,\n  10597,\n  10784,\n  10899,\n  10978,\n  10982,\n  10996,\n  11030,\n  11069,\n  11085,\n  11111,\n  11149,\n  11154,\n  11253,\n  11258,\n  11262,\n  11263,\n  11267,\n  11818,\n  12368,\n  12469,\n  12512,\n  12768,\n  12835,\n  12848,\n  12849,\n  13169,\n  13283,\n  13290,\n  13297,\n  13414,\n  13427,\n  13428,\n  13432,\n  13433,\n  13638,\n  13849,\n  14154,\n  14351,\n  14465,\n  14510,\n  14511,\n  14512,\n  14514,\n  14521,\n  14522,\n  14524,\n  14525,\n  14526,\n  14527,\n  14528,\n  14606,\n  14929,\n  14931,\n  14937,\n  15124,\n  15199,\n  15383,\n  15384,\n  15390,\n  15391,\n  15392,\n  15394,\n  15401,\n  15406,\n  15770,\n  15819,\n  16163,\n  16171,\n  16192,\n  16201,\n  16566,\n  16567,\n  17039,\n  17592,\n  17604,\n  17617,\n  17804,\n  17953,\n  17954,\n  17960,\n  17966,\n  17967,\n  17977,\n  17989,\n  17998,\n  18031,\n  18049,\n  18084,\n  18117,\n  18262,\n  18263,\n  18295,\n  18743,\n  18953,\n  18954,\n  19267,\n  19269,\n  19272,\n  19273,\n  19274,\n  19275,\n  19277,\n  19333,\n  19494,\n  19762,\n  19763,\n  19764,\n  19765,\n  19766,\n  19768,\n  19769,\n  19770,\n  19772,\n  19773,\n  19776,\n  19778,\n  19780,\n  19782,\n  19783,\n  19883,\n  20308,\n  20464,\n  20469,\n  981,\n  1101,\n  1607,\n  1909,\n  2032,\n  2191,\n  2818,\n  3982,\n  4055,\n  4419,\n  6366,\n  6520,\n  7353,\n  9090,\n  9754,\n  9884,\n  9886,\n  10013,\n  11076,\n  11126,\n  11989,\n  13469,\n  13833,\n  15847,\n  15849,\n  15852,\n  17031,\n  18684,\n  19101,\n  19346,\n  19347,\n  19500,\n  19530,\n  840,\n  3544,\n  6072,\n  6160,\n  7180,\n  7544,\n  8448,\n  9926,\n  9947,\n  10386,\n  11176,\n  11959,\n  13216,\n  15521,\n  2757,\n  6295,\n  8037,\n  9157,\n  10148,\n  12578,\n  3660,\n  8705,\n  9011,\n  10902,\n  14748,\n  15100,\n  827,\n  1358,\n  1438,\n  1605,\n  2214,\n  2218,\n  3711,\n  3904,\n  3967,\n  5338,\n  5965,\n  5980,\n  6248,\n  7326,\n  7348,\n  8279,\n  8687,\n  8695,\n  9601,\n  9769,\n  10310,\n  10808,\n  10809,\n  10894,\n  10924,\n  11134,\n  11560,\n  11681,\n  14127,\n  15707,\n  15946,\n  18151,\n  14628,\n  19176,\n  19801,\n  13255,\n  2308,\n  3298,\n  4382,\n  4982,\n  5672,\n  5745,\n  6158,\n  8119,\n  14865,\n  15627,\n  16562,\n  10826,\n  12161,\n  14466,\n  19115,\n  2603,\n  2291,\n  3162,\n  5883,\n  6973,\n  8506,\n  11104,\n  13883,\n  2490,\n  7359,\n  8683,\n  5800,\n  14967,\n  2621],\n [25,\n  87,\n  90,\n  119,\n  123,\n  131,\n  245,\n  279,\n  339,\n  354,\n  367,\n  542,\n  560,\n  740,\n  769,\n  788,\n  934,\n  1000,\n  1008,\n  1017,\n  1119,\n  1122,\n  1335,\n  1794,\n  2230,\n  2960,\n  2963,\n  3154,\n  3262,\n  3672,\n  3673,\n  3763,\n  3849,\n  4088,\n  4640,\n  7166,\n  8209,\n  8324,\n  9045,\n  9177,\n  9602,\n  9819,\n  10222,\n  10426,\n  11630,\n  12206,\n  12250,\n  13300,\n  13308,\n  13309,\n  13452,\n  13607,\n  13838,\n  13841,\n  13846,\n  13847,\n  13850,\n  13851,\n  13928,\n  14392,\n  15327,\n  15669,\n  15781,\n  16075,\n  16229,\n  16264,\n  16977,\n  17123,\n  18311,\n  18571,\n  18972,\n  19572,\n  19901,\n  19902,\n  20153,\n  9,\n  103,\n  209,\n  274,\n  305,\n  338,\n  376,\n  381,\n  511,\n  527,\n  622,\n  623,\n  664,\n  694,\n  728,\n  729,\n  766,\n  787,\n  791,\n  845,\n  1012,\n  1035,\n  1052,\n  1102,\n  1106,\n  1115,\n  1120,\n  1138,\n  1153,\n  1197,\n  1198,\n  1218,\n  1457,\n  1604,\n  1741,\n  1795,\n  1870,\n  1871,\n  1884,\n  1923,\n  1930,\n  1933,\n  2007,\n  2008,\n  2010,\n  2064,\n  2119,\n  2614,\n  2791,\n  2965,\n  3003,\n  3007,\n  3078,\n  3221,\n  3222,\n  3224,\n  3233,\n  3237,\n  3362,\n  3768,\n  3770,\n  3796,\n  3844,\n  3911,\n  3971,\n  3998,\n  3999,\n  4011,\n  4100,\n  4101,\n  4102,\n  4103,\n  4105,\n  4106,\n  4110,\n  4112,\n  4114,\n  4115,\n  4138,\n  4193,\n  4216,\n  4232,\n  4236,\n  4238,\n  4272,\n  4293,\n  4310,\n  4311,\n  4459,\n  4536,\n  4638,\n  4644,\n  4649,\n  4651,\n  4652,\n  4684,\n  4740,\n  4741,\n  4786,\n  4787,\n  4789,\n  6327,\n  6530,\n  8857,\n  8895,\n  8970,\n  8975,\n  9061,\n  9062,\n  9063,\n  9064,\n  9110,\n  9339,\n  9340,\n  9423,\n  9716,\n  9792,\n  9797,\n  9800,\n  10579,\n  10603,\n  10607,\n  10612,\n  10614,\n  10616,\n  10621,\n  10632,\n  10635,\n  10646,\n  10647,\n  10672,\n  10680,\n  10682,\n  10685,\n  10687,\n  11214,\n  11685,\n  12474,\n  13079,\n  13183,\n  13187,\n  13259,\n  13513,\n  13822,\n  14507,\n  14509,\n  14677,\n  14723,\n  15268,\n  15269,\n  15270,\n  15271,\n  15273,\n  15274,\n  15275,\n  15276,\n  15277,\n  15278,\n  15393,\n  15525,\n  15604,\n  15637,\n  15639,\n  15993,\n  15995,\n  15996,\n  15997,\n  16002,\n  16007,\n  16010,\n  16018,\n  16098,\n  16099,\n  16101,\n  16102,\n  16104,\n  16105,\n  16107,\n  16108,\n  16110,\n  16112,\n  16113,\n  16114,\n  16116,\n  16117,\n  16118,\n  16120,\n  16122,\n  16123,\n  16124,\n  16126,\n  16128,\n  16144,\n  16146,\n  16148,\n  16149,\n  16151,\n  16152,\n  16663,\n  16716,\n  16992,\n  16993,\n  16996,\n  17056,\n  17058,\n  17060,\n  17068,\n  17148,\n  17150,\n  17536,\n  17763,\n  18099,\n  18223,\n  18281,\n  18334,\n  18335,\n  18672,\n  18812,\n  18853,\n  19372,\n  19375,\n  19377,\n  19379,\n  19692,\n  19867,\n  19870,\n  20049,\n  20061,\n  20101,\n  20272,\n  20301,\n  20305,\n  20306,\n  679,\n  861,\n  1118,\n  1646,\n  1655,\n  1701,\n  1800,\n  1849,\n  1897,\n  1934,\n  2040,\n  3509,\n  3557,\n  3558,\n  3750,\n  3761,\n  3762,\n  3930,\n  3931,\n  3932,\n  3934,\n  3937,\n  3938,\n  3939,\n  4139,\n  4192,\n  4223,\n  4299,\n  4627,\n  1560,\n  2185,\n  2365,\n  4233,\n  5086,\n  5221,\n  5363,\n  6508,\n  7461,\n  7466,\n  8462,\n  9710,\n  11721,\n  11953,\n  13882,\n  4831,\n  1491,\n  1885,\n  1920,\n  2477,\n  2978,\n  3614,\n  3774,\n  4151,\n  5189,\n  5190,\n  5719,\n  6237,\n  6315,\n  7378,\n  7513,\n  9148,\n  9149,\n  9155,\n  9156,\n  9317,\n  9324,\n  9331,\n  10004,\n  10842,\n  12699,\n  12797,\n  16115,\n  16121,\n  16131,\n  16137,\n  16141,\n  16916,\n  16917,\n  17919,\n  18020,\n  18070,\n  18516,\n  2063,\n  3077,\n  3650,\n  3864,\n  3951,\n  4160,\n  4645,\n  5164,\n  5165,\n  5201,\n  5205,\n  5250,\n  5263,\n  5275,\n  5288,\n  5297,\n  5298,\n  5405,\n  10357,\n  13165,\n  16309,\n  17306,\n  18719,\n  18837,\n  19562,\n  19563,\n  20044,\n  2920,\n  9318,\n  10601,\n  12592,\n  12593,\n  16130,\n  18074,\n  19311,\n  19489,\n  19699,\n  19886,\n  20436,\n  20437,\n  4791,\n  9567,\n  9695,\n  9713,\n  10237,\n  11174,\n  14277,\n  14455,\n  15366,\n  16886,\n  17059,\n  18047,\n  18283,\n  19159,\n  19322,\n  19324,\n  19329,\n  19460,\n  3118,\n  16135,\n  4477,\n  8867,\n  9878,\n  18467,\n  20255,\n  3307,\n  4180,\n  5401,\n  6011,\n  6764,\n  7299,\n  11074,\n  11163,\n  12555,\n  13137,\n  14283,\n  14735,\n  14756,\n  16960,\n  18469,\n  18470,\n  18604,\n  2408,\n  6153,\n  12415,\n  13202,\n  16145,\n  2590,\n  3427,\n  6063,\n  8743,\n  10565,\n  10796,\n  12565,\n  12820,\n  12866,\n  13171,\n  13211,\n  13213,\n  13214,\n  13215,\n  13237,\n  13839,\n  13843,\n  13844,\n  13848,\n  13853,\n  13992,\n  14952,\n  15523,\n  16895,\n  17124,\n  18347,\n  18618,\n  19131,\n  19287,\n  2713,\n  7334,\n  7460,\n  8335,\n  15372,\n  17328],\n [62,\n  92,\n  161,\n  181,\n  318,\n  319,\n  420,\n  551,\n  653,\n  654,\n  709,\n  825,\n  882,\n  976,\n  978,\n  1598,\n  1601,\n  1606,\n  1609,\n  1611,\n  1713,\n  2125,\n  2234,\n  3290,\n  3305,\n  246,\n  471,\n  473,\n  519,\n  652,\n  818,\n  820,\n  823,\n  829,\n  974,\n  977,\n  1114,\n  1140,\n  1279,\n  1288,\n  1362,\n  1977,\n  2219,\n  3099,\n  3276,\n  4118,\n  607,\n  1366,\n  2533,\n  2602,\n  478,\n  1506,\n  3311,\n  3351,\n  3534,\n  822,\n  1258,\n  1350,\n  1407,\n  1420,\n  1603,\n  1698,\n  2204,\n  2241,\n  2313,\n  2325,\n  2386,\n  2450,\n  2491,\n  2492,\n  2495,\n  2500,\n  2745,\n  2768,\n  2893,\n  2949,\n  3259,\n  3292,\n  3856,\n  5126,\n  5149,\n  5187,\n  5222,\n  5244,\n  5690,\n  5693,\n  5751,\n  5794,\n  5823,\n  5853,\n  5968,\n  5982,\n  6273,\n  6331,\n  6406,\n  6568,\n  6571,\n  6573,\n  6990,\n  7283,\n  7747,\n  8148,\n  9014,\n  9178,\n  9326,\n  9778,\n  9933,\n  11165,\n  11513,\n  11707,\n  11840,\n  13174,\n  13827,\n  14074,\n  15929,\n  15936,\n  15937,\n  16127,\n  16991,\n  18584,\n  19164,\n  19166,\n  971,\n  979,\n  1343,\n  1390,\n  1556,\n  1589,\n  1596,\n  1600,\n  1610,\n  2222,\n  2377,\n  2403,\n  3020,\n  3207,\n  3272,\n  3273,\n  3275,\n  3278,\n  3280,\n  3281,\n  3284,\n  3285,\n  3286,\n  3287,\n  3289,\n  3293,\n  3295,\n  3296,\n  3297,\n  3299,\n  3300,\n  3302,\n  3308,\n  3310,\n  3317,\n  4402,\n  5791,\n  6672,\n  7173,\n  7839,\n  7857,\n  7922,\n  7923,\n  7924,\n  7925,\n  7926,\n  8101,\n  8510,\n  9515,\n  9960,\n  10070,\n  10072,\n  10912,\n  10922,\n  10926,\n  10927,\n  10928,\n  10929,\n  10931,\n  10936,\n  10937,\n  10938,\n  10940,\n  10941,\n  10942,\n  10946,\n  10947,\n  10948,\n  10951,\n  10953,\n  10954,\n  10959,\n  10961,\n  10962,\n  10963,\n  10967,\n  10971,\n  10973,\n  10975,\n  10976,\n  10977,\n  10984,\n  10985,\n  10989,\n  10990,\n  10992,\n  10993,\n  10994,\n  10998,\n  11000,\n  11005,\n  11013,\n  11015,\n  11018,\n  11019,\n  11020,\n  11024,\n  11025,\n  11026,\n  11036,\n  11040,\n  11041,\n  11042,\n  11046,\n  11047,\n  11048,\n  11050,\n  11052,\n  11054,\n  11063,\n  11067,\n  11071,\n  11082,\n  11083,\n  11084,\n  11087,\n  11090,\n  11091,\n  11093,\n  11095,\n  11098,\n  11100,\n  11102,\n  11106,\n  11112,\n  11115,\n  11139,\n  11146,\n  11156,\n  11164,\n  11169,\n  11170,\n  11172,\n  11173,\n  11175,\n  11190,\n  11191,\n  11445,\n  12015,\n  12154,\n  12156,\n  12868,\n  12884,\n  12960,\n  13034,\n  13658,\n  15740,\n  15741,\n  15742,\n  15743,\n  15809,\n  16174,\n  16175,\n  16786,\n  17586,\n  17588,\n  17612,\n  17757,\n  18340,\n  18344,\n  18756,\n  18767,\n  18768,\n  18769,\n  19760,\n  19925,\n  19926,\n  20204,\n  3994,\n  1558,\n  2300,\n  2394,\n  2441,\n  2496,\n  2501,\n  2517,\n  3168,\n  3255,\n  3569,\n  5177,\n  5234,\n  5347,\n  5873,\n  6211,\n  6216,\n  6227,\n  6307,\n  6308,\n  6335,\n  6337,\n  6347,\n  6348,\n  6349,\n  6364,\n  6368,\n  6379,\n  6393,\n  6407,\n  6420,\n  6437,\n  6446,\n  6510,\n  8130,\n  9042,\n  9043,\n  9526,\n  9944,\n  10280,\n  10283,\n  10291,\n  10299,\n  10326,\n  10334,\n  10336,\n  10345,\n  10817,\n  10820,\n  10854,\n  10867,\n  10893,\n  11961,\n  11970,\n  13655,\n  13888,\n  15775,\n  15835,\n  18120,\n  18165,\n  18714,\n  19065,\n  19512,\n  2388,\n  2518,\n  2658,\n  2671,\n  3353,\n  3860,\n  4186,\n  4260,\n  4352,\n  4618,\n  5847,\n  6082,\n  6218,\n  6224,\n  6255,\n  6363,\n  6391,\n  6558,\n  6562,\n  6697,\n  6993,\n  7220,\n  7508,\n  8116,\n  8133,\n  8711,\n  8772,\n  10214,\n  10246,\n  10321,\n  11452,\n  11453,\n  11461,\n  11586,\n  12401,\n  13051,\n  14281,\n  15633,\n  15634,\n  15782,\n  15899,\n  17228,\n  17738,\n  17840,\n  18008,\n  18466,\n  18572,\n  19081,\n  19082,\n  19083,\n  19358,\n  19808,\n  19809,\n  15845,\n  16585,\n  3173,\n  3705,\n  5891,\n  6362,\n  7115,\n  7126,\n  7828,\n  7835,\n  12955,\n  14421,\n  14668,\n  14670,\n  15992,\n  17017,\n  17747,\n  18110,\n  18112,\n  18798,\n  1700,\n  2299,\n  9770,\n  10916,\n  10997,\n  11103,\n  11105,\n  11125,\n  11158,\n  15673,\n  17125,\n  18657,\n  3150,\n  3151,\n  7172,\n  10224,\n  10226,\n  10227,\n  10228,\n  10229],\n [0,\n  2,\n  37,\n  160,\n  164,\n  312,\n  379,\n  432,\n  433,\n  434,\n  588,\n  591,\n  593,\n  621,\n  644,\n  804,\n  853,\n  854,\n  855,\n  856,\n  857,\n  859,\n  860,\n  1329,\n  1349,\n  1353,\n  1355,\n  1361,\n  1393,\n  1418,\n  1471,\n  1621,\n  2186,\n  2224,\n  2481,\n  2482,\n  2485,\n  2494,\n  2507,\n  2524,\n  2525,\n  2530,\n  2531,\n  2532,\n  2534,\n  2536,\n  2601,\n  2648,\n  2706,\n  2901,\n  2946,\n  2947,\n  2948,\n  3123,\n  3344,\n  3345,\n  3346,\n  3348,\n  3349,\n  3853,\n  3854,\n  4184,\n  4312,\n  5396,\n  5438,\n  5706,\n  5936,\n  6339,\n  6436,\n  7317,\n  7390,\n  7523,\n  8092,\n  8327,\n  8501,\n  8999,\n  9031,\n  9179,\n  9204,\n  9225,\n  9564,\n  9853,\n  9897,\n  9905,\n  10689,\n  10780,\n  10855,\n  10892,\n  11236,\n  11449,\n  11451,\n  11454,\n  11455,\n  11459,\n  11462,\n  11463,\n  11464,\n  11465,\n  11466,\n  11467,\n  11468,\n  11469,\n  11470,\n  11471,\n  11472,\n  11473,\n  11474,\n  11476,\n  11478,\n  11479,\n  11480,\n  11481,\n  11482,\n  11484,\n  11485,\n  11486,\n  11488,\n  11489,\n  11491,\n  12399,\n  13741,\n  14039,\n  14057,\n  14618,\n  14813,\n  14814,\n  14815,\n  14817,\n  14818,\n  14819,\n  14820,\n  14821,\n  14822,\n  14823,\n  14824,\n  14825,\n  14826,\n  14827,\n  14828,\n  14829,\n  14830,\n  14831,\n  14832,\n  14833,\n  14834,\n  14835,\n  14836,\n  14837,\n  14838,\n  14839,\n  14840,\n  14841,\n  14842,\n  14843,\n  14844,\n  14845,\n  14846,\n  14847,\n  14848,\n  14849,\n  14850,\n  14851,\n  14852,\n  14853,\n  14854,\n  14855,\n  14954,\n  15091,\n  15219,\n  15745,\n  15746,\n  15747,\n  15748,\n  15750,\n  15751,\n  15752,\n  15753,\n  15754,\n  15755,\n  15756,\n  15757,\n  15810,\n  15811,\n  16025,\n  16026,\n  16027,\n  16028,\n  16205,\n  16206,\n  16207,\n  16208,\n  16209,\n  16210,\n  16211,\n  16212,\n  16213,\n  16214,\n  16215,\n  16216,\n  16217,\n  16218,\n  16219,\n  16220,\n  16389,\n  16480,\n  16481,\n  16482,\n  16483,\n  16484,\n  16485,\n  16544,\n  16545,\n  16546,\n  16547,\n  16548,\n  16549,\n  16550,\n  16551,\n  16552,\n  16553,\n  16554,\n  16555,\n  16556,\n  16558,\n  16772,\n  16773,\n  17209,\n  17253,\n  17254,\n  18009,\n  18317,\n  18318,\n  18319,\n  18320,\n  18405,\n  18613,\n  18673,\n  18674,\n  18675,\n  18676,\n  18678,\n  18823,\n  19120,\n  19620,\n  19837,\n  20037,\n  20038,\n  20383,\n  20384,\n  20385,\n  734,\n  970,\n  1517,\n  2513,\n  2519,\n  2823,\n  3097,\n  3130,\n  3185,\n  4406,\n  5455,\n  7149,\n  7339,\n  8160,\n  9214,\n  10337,\n  11458,\n  13249,\n  16946,\n  18795,\n  19498,\n  523,\n  1063,\n  1067,\n  1421,\n  1505,\n  2179,\n  2183,\n  2454,\n  2550,\n  2553,\n  3347,\n  3510,\n  3654,\n  3667,\n  3751,\n  3895,\n  3918,\n  3922,\n  3940,\n  4263,\n  4264,\n  4360,\n  4388,\n  5069,\n  5083,\n  5687,\n  6246,\n  6283,\n  7300,\n  7335,\n  8210,\n  8962,\n  9479,\n  9519,\n  9861,\n  9939,\n  11450,\n  11457,\n  11460,\n  11477,\n  11483,\n  11492,\n  11498,\n  12640,\n  12648,\n  12672,\n  12744,\n  13114,\n  14423,\n  14816,\n  15257,\n  15765,\n  15813,\n  16038,\n  16343,\n  16880,\n  17943,\n  18011,\n  19084,\n  19147,\n  19733,\n  1573,\n  1725,\n  2484,\n  2502,\n  2580,\n  2636,\n  2881,\n  3341,\n  3498,\n  3710,\n  3731,\n  3733,\n  4213,\n  4417,\n  4596,\n  5286,\n  5428,\n  7016,\n  7040,\n  8698,\n  20398,\n  3390,\n  3851,\n  5373,\n  5846,\n  7374,\n  14803,\n  4265,\n  4615,\n  2351,\n  4671,\n  8374,\n  9950,\n  10802],\n [27,\n  28,\n  39,\n  48,\n  384,\n  404,\n  525,\n  526,\n  534,\n  535,\n  1077,\n  1145,\n  1146,\n  1151,\n  1173,\n  1174,\n  1469,\n  1945,\n  1946,\n  2001,\n  2018,\n  2019,\n  2024,\n  2071,\n  2073,\n  2943,\n  2944,\n  4376,\n  4455,\n  796,\n  798,\n  1134,\n  1947,\n  2072,\n  3867,\n  4016,\n  4277,\n  4428,\n  4508,\n  4666,\n  4440,\n  4454,\n  2070,\n  4481,\n  4483,\n  9091,\n  9092,\n  9093,\n  9094,\n  9096,\n  9962,\n  12867,\n  18483,\n  19487,\n  1845,\n  4453,\n  4699,\n  4507,\n  3866,\n  1133,\n  1816,\n  1352,\n  1846,\n  3657,\n  3689,\n  3865,\n  3969,\n  4276,\n  4278,\n  4377,\n  4450,\n  4452,\n  4482,\n  4505,\n  4506,\n  4582,\n  4583,\n  4624,\n  4625,\n  4688,\n  4798,\n  4799,\n  4864,\n  5005,\n  7323,\n  8869,\n  8871,\n  8872,\n  8873,\n  8875,\n  8876,\n  8877,\n  8878,\n  8879,\n  8881,\n  8882,\n  9009,\n  9169,\n  9415,\n  9583,\n  10543,\n  10827,\n  10833,\n  12065,\n  12066,\n  12067,\n  12068,\n  12069,\n  12070,\n  12071,\n  12072,\n  12073,\n  12074,\n  12136,\n  12137,\n  12140,\n  12142,\n  12559,\n  12571,\n  12811,\n  12823,\n  13209,\n  13502,\n  13594,\n  13595,\n  13596,\n  13597,\n  13635,\n  13636,\n  13637,\n  13715,\n  13716,\n  13717,\n  13718,\n  13719,\n  13720,\n  13721,\n  13722,\n  13723,\n  13805,\n  13806,\n  13807,\n  13810,\n  13926,\n  13927,\n  13929,\n  14196,\n  14616,\n  14945,\n  14953,\n  15119,\n  15364,\n  15365,\n  15367,\n  15368,\n  15369,\n  15706,\n  16818,\n  16819,\n  16820,\n  16858,\n  16859,\n  16860,\n  16861,\n  16862,\n  16863,\n  16926,\n  16933,\n  17252,\n  17257,\n  17271,\n  17272,\n  17280,\n  17315,\n  17316,\n  17892,\n  17894,\n  17895,\n  17896,\n  17897,\n  17898,\n  17900,\n  17902,\n  17924,\n  18058,\n  18059,\n  18060,\n  18214,\n  18215,\n  18248,\n  18282,\n  18287,\n  18302,\n  18303,\n  18304,\n  18305,\n  18306,\n  18365,\n  18366,\n  18367,\n  18368,\n  18369,\n  18401,\n  18412,\n  18440,\n  18441,\n  18481,\n  18487,\n  18489,\n  18591,\n  18645,\n  18646,\n  18648,\n  18649,\n  18650,\n  18651,\n  18653,\n  18654,\n  18655,\n  18774,\n  18775,\n  18845,\n  18970,\n  18994,\n  18995,\n  18996,\n  18997,\n  18998,\n  18999,\n  19000,\n  19001,\n  19002,\n  19003,\n  19004,\n  19005,\n  19204,\n  19205,\n  19206,\n  19207,\n  19208,\n  19295,\n  19296,\n  19297,\n  19298,\n  19299,\n  19301,\n  19335,\n  19336,\n  19337,\n  19338,\n  19339,\n  19340,\n  19341,\n  19342,\n  19343,\n  19480,\n  19483,\n  19484,\n  19491,\n  19492,\n  19525,\n  19526,\n  19527,\n  19528,\n  19529,\n  19602,\n  19603,\n  19604,\n  19605,\n  19606,\n  19607,\n  19608,\n  19609,\n  19610,\n  19659,\n  19700,\n  19730,\n  19761,\n  19835,\n  19838,\n  19848,\n  19849,\n  19850,\n  19851,\n  19852,\n  19853,\n  19854,\n  19856,\n  20175,\n  20178,\n  20179,\n  20180,\n  20181,\n  20182,\n  20191,\n  20192,\n  20193,\n  20194,\n  20454,\n  4595,\n  3746,\n  3913,\n  5269,\n  8320,\n  9060,\n  9365,\n  9369,\n  9510,\n  9590,\n  12049,\n  15303,\n  15304,\n  15309,\n  17598,\n  17997,\n  18782,\n  4431,\n  6190,\n  9098,\n  12149,\n  13634,\n  18490,\n  19376,\n  19592,\n  20461,\n  8978],\n [260,\n  380,\n  1295,\n  1359,\n  1408,\n  2765,\n  3050,\n  3423,\n  422,\n  447,\n  448,\n  663,\n  848,\n  871,\n  889,\n  1094,\n  1113,\n  1289,\n  1338,\n  1584,\n  1586,\n  1674,\n  1964,\n  2098,\n  2223,\n  2360,\n  2384,\n  2488,\n  2777,\n  3053,\n  3054,\n  3094,\n  3101,\n  3116,\n  3261,\n  3268,\n  3271,\n  3322,\n  3342,\n  3403,\n  3406,\n  3468,\n  3595,\n  3703,\n  3862,\n  3899,\n  4041,\n  4081,\n  4274,\n  4381,\n  4605,\n  4764,\n  5353,\n  5723,\n  5814,\n  5882,\n  5900,\n  6432,\n  6523,\n  6561,\n  7235,\n  7423,\n  8137,\n  8280,\n  8450,\n  8535,\n  9095,\n  9409,\n  9439,\n  9539,\n  9831,\n  9901,\n  9931,\n  9934,\n  9935,\n  10360,\n  10625,\n  10721,\n  10870,\n  10901,\n  10904,\n  11011,\n  11064,\n  11240,\n  12152,\n  12203,\n  12569,\n  12685,\n  13071,\n  13161,\n  14548,\n  14761,\n  14960,\n  15121,\n  15184,\n  15352,\n  15353,\n  15524,\n  15709,\n  15734,\n  16154,\n  16157,\n  17615,\n  17831,\n  18017,\n  18703,\n  18842,\n  19130,\n  19845,\n  2267,\n  2346,\n  6440,\n  6481,\n  8135,\n  3537,\n  657,\n  1431,\n  2305,\n  2348,\n  3401,\n  3582,\n  3829,\n  4060,\n  4479,\n  4972,\n  5349,\n  5683,\n  5725,\n  5917,\n  6187,\n  6478,\n  6894,\n  7883,\n  7900,\n  7910,\n  8304,\n  8456,\n  9833,\n  9858,\n  9894,\n  9949,\n  10079,\n  11031,\n  11051,\n  11086,\n  11978,\n  12454,\n  12567,\n  12574,\n  12585,\n  12799,\n  12843,\n  13158,\n  13314,\n  13506,\n  13610,\n  13836,\n  13903,\n  14019,\n  14933,\n  14934,\n  14935,\n  15076,\n  15160,\n  15185,\n  15204,\n  15610,\n  15733,\n  15735,\n  15736,\n  15737,\n  15738,\n  15777,\n  15846,\n  15861,\n  15863,\n  16882,\n  16897,\n  16943,\n  17723,\n  17836,\n  17855,\n  17856,\n  17928,\n  18321,\n  18322,\n  18353,\n  18582,\n  18608,\n  19290,\n  19292,\n  19293,\n  19574,\n  19784,\n  19785,\n  19786,\n  19946,\n  20078,\n  20465,\n  20466,\n  8727,\n  10361,\n  11161,\n  11588,\n  13985,\n  15844,\n  18448,\n  18727,\n  19909,\n  1645,\n  2271,\n  3047,\n  3328,\n  4372,\n  5698,\n  6124,\n  6209,\n  7174,\n  8274,\n  8514,\n  8539,\n  10849,\n  12170,\n  13497,\n  15220,\n  3320,\n  5137,\n  7134,\n  8688,\n  9004,\n  9824,\n  10093,\n  11135,\n  11657,\n  11950,\n  13157,\n  13160,\n  13184,\n  13437,\n  13628,\n  15869,\n  17725,\n  18485,\n  4616,\n  5434,\n  15193,\n  18581,\n  19216,\n  19573,\n  19940,\n  8533,\n  19382,\n  20203],\n [1307,\n  1570,\n  4090,\n  656,\n  968,\n  1003,\n  3584,\n  3587,\n  4047,\n  1104,\n  1351,\n  3254,\n  3215,\n  1537,\n  1103,\n  3788,\n  1098,\n  4446,\n  2607,\n  3486,\n  3578,\n  3805,\n  3847,\n  3925,\n  3926,\n  4273,\n  4326,\n  4438,\n  4439,\n  4456,\n  4895,\n  4918,\n  4922,\n  4925,\n  4929,\n  4930,\n  4932,\n  4933,\n  4934,\n  5179,\n  6313,\n  6319,\n  6837,\n  7130,\n  7221,\n  7223,\n  7398,\n  7399,\n  7538,\n  7552,\n  7592,\n  8454,\n  8897,\n  9139,\n  10230,\n  10258,\n  10581,\n  10584,\n  10594,\n  10606,\n  10615,\n  10623,\n  10650,\n  10660,\n  10815,\n  10821,\n  10829,\n  10836,\n  10871,\n  11981,\n  12423,\n  12534,\n  12956,\n  14109,\n  14113,\n  14114,\n  14471,\n  14475,\n  14656,\n  14738,\n  14745,\n  14747,\n  15385,\n  15386,\n  15387,\n  15388,\n  15398,\n  15400,\n  15405,\n  15408,\n  15762,\n  15778,\n  15939,\n  16129,\n  16775,\n  16776,\n  16777,\n  16778,\n  18019,\n  19171,\n  19201,\n  19934,\n  19935,\n  19945,\n  4241,\n  8942,\n  15459,\n  2935,\n  2733,\n  3152,\n  4309,\n  4463,\n  4738,\n  4739,\n  5734,\n  8075,\n  8082,\n  8085,\n  8086,\n  8091,\n  8093,\n  8098,\n  10231,\n  10232,\n  10233,\n  10234,\n  10235,\n  10236,\n  10238,\n  10239,\n  10241,\n  10242,\n  10243,\n  12536,\n  13092,\n  13093,\n  13094,\n  13095,\n  13096,\n  13097,\n  13098,\n  13099,\n  13100,\n  13101,\n  13102,\n  13103,\n  13104,\n  13105,\n  13106,\n  13107,\n  13108,\n  13109,\n  13110,\n  13113,\n  14594,\n  14595,\n  14596,\n  14597,\n  14598,\n  14599,\n  14600,\n  14601,\n  14602,\n  14603,\n  15382,\n  15403,\n  15808,\n  15898,\n  15900,\n  15902,\n  15904,\n  15905,\n  15906,\n  15909,\n  15910,\n  15915,\n  15916,\n  16009,\n  16021,\n  16887,\n  16888,\n  16994,\n  17021,\n  17022,\n  17279,\n  17300,\n  17301,\n  18227,\n  18228,\n  18247,\n  18342,\n  18343,\n  18360,\n  18361,\n  18362,\n  18363,\n  18364,\n  18577,\n  18578,\n  18579,\n  18580,\n  19669,\n  19670,\n  19671,\n  19821,\n  19823,\n  19824,\n  19825,\n  19826,\n  19827,\n  19829,\n  19830,\n  19831,\n  19833,\n  19834,\n  9360,\n  16928,\n  18428,\n  18716,\n  19146,\n  19453,\n  20098,\n  18246,\n  18443,\n  19822,\n  19828,\n  13450,\n  17127,\n  17275,\n  18285,\n  19112,\n  19366,\n  19994,\n  4923,\n  11509,\n  11514,\n  11515,\n  12458,\n  13424,\n  13425,\n  13426,\n  17595,\n  18206,\n  18207,\n  18208,\n  18209,\n  18210,\n  18313,\n  18314,\n  18315,\n  18316,\n  18770],\n [278,\n  342,\n  383,\n  633,\n  1238,\n  1511,\n  1590,\n  1978,\n  2154,\n  2161,\n  2257,\n  2786,\n  2816,\n  3274,\n  3303,\n  3365,\n  4033,\n  4805,\n  5268,\n  5437,\n  5488,\n  5543,\n  5544,\n  6234,\n  7629,\n  9922,\n  10017,\n  10696,\n  10944,\n  11060,\n  11066,\n  11637,\n  12037,\n  13900,\n  15245,\n  16803,\n  17593,\n  802,\n  1490,\n  1992,\n  2231,\n  4686,\n  4782,\n  1260,\n  1346,\n  1504,\n  1775,\n  2192,\n  2202,\n  2445,\n  2887,\n  3243,\n  3735,\n  3835,\n  3839,\n  3840,\n  3841,\n  3842,\n  4111,\n  4393,\n  4411,\n  4447,\n  5166,\n  5167,\n  5168,\n  5172,\n  5199,\n  5217,\n  5227,\n  5255,\n  5260,\n  5272,\n  5289,\n  5290,\n  5296,\n  5300,\n  5315,\n  5331,\n  5340,\n  5343,\n  5375,\n  5400,\n  5420,\n  5422,\n  5424,\n  5448,\n  6888,\n  7790,\n  7936,\n  8331,\n  8332,\n  8333,\n  9316,\n  9322,\n  9328,\n  9336,\n  9343,\n  9346,\n  9347,\n  9348,\n  9351,\n  9624,\n  10033,\n  10035,\n  10036,\n  10038,\n  10039,\n  10042,\n  11719,\n  11753,\n  12205,\n  12352,\n  12387,\n  13674,\n  13678,\n  13819,\n  13820,\n  13821,\n  13824,\n  14686,\n  14689,\n  14710,\n  15192,\n  15231,\n  15232,\n  15237,\n  15238,\n  15239,\n  15263,\n  15267,\n  15272,\n  16133,\n  16134,\n  16907,\n  16908,\n  16909,\n  16910,\n  16912,\n  16914,\n  16915,\n  16918,\n  17321,\n  17322,\n  17323,\n  17324,\n  17327,\n  17333,\n  17334,\n  17339,\n  17340,\n  17343,\n  17344,\n  17345,\n  18024,\n  18032,\n  18037,\n  18102,\n  1285,\n  963,\n  1088,\n  3216,\n  4448,\n  10590,\n  18875,\n  18876,\n  18877,\n  18878,\n  5475,\n  13501,\n  13503,\n  13643,\n  13740,\n  17069,\n  18274,\n  1336,\n  8281,\n  4912,\n  4913,\n  4914,\n  9694,\n  10825,\n  12606,\n  13186,\n  14001,\n  14754,\n  15703,\n  15705,\n  15719,\n  19664,\n  19942,\n  2315,\n  3158,\n  5279,\n  9520,\n  10580,\n  10986,\n  11116,\n  11627,\n  17939,\n  17941,\n  4675,\n  5651,\n  5656,\n  5676,\n  5689,\n  5950,\n  5977,\n  6220,\n  7071,\n  7129,\n  8076,\n  10285,\n  10630,\n  10799,\n  10837,\n  11034,\n  11049,\n  11057,\n  11072,\n  11073,\n  11089,\n  11114,\n  11117,\n  11121,\n  12833,\n  13431,\n  15578,\n  15865,\n  15911,\n  16426,\n  17003,\n  17076,\n  19462,\n  19464,\n  19652,\n  7362,\n  7402,\n  8417,\n  13923,\n  16911,\n  17335,\n  2245,\n  2266,\n  5108,\n  5131,\n  5958],\n [2446,\n  4757,\n  631,\n  1005,\n  1221,\n  2066,\n  2116,\n  2143,\n  2184,\n  2623,\n  2919,\n  2922,\n  2958,\n  4650,\n  4792,\n  4867,\n  5458,\n  5502,\n  6343,\n  7582,\n  8858,\n  8933,\n  12100,\n  13230,\n  13802,\n  16143,\n  16526,\n  17557,\n  18395,\n  19369,\n  19383,\n  19384,\n  19882,\n  20419,\n  1014,\n  1341,\n  1657,\n  2029,\n  2055,\n  2217,\n  2650,\n  2964,\n  2976,\n  3538,\n  3671,\n  4083,\n  4445,\n  5379,\n  5778,\n  5878,\n  7906,\n  7914,\n  9044,\n  9219,\n  9860,\n  9862,\n  9895,\n  9911,\n  10378,\n  11983,\n  12159,\n  12533,\n  12841,\n  12851,\n  13070,\n  13210,\n  13707,\n  13832,\n  14963,\n  15108,\n  15730,\n  15739,\n  15901,\n  16178,\n  16179,\n  16487,\n  16542,\n  16576,\n  16592,\n  16746,\n  16896,\n  17215,\n  17216,\n  17250,\n  17251,\n  17286,\n  17724,\n  17726,\n  17947,\n  18236,\n  18297,\n  18474,\n  18702,\n  18734,\n  18820,\n  19086,\n  19121,\n  19291,\n  19351,\n  19367,\n  19368,\n  19510,\n  19963,\n  20159,\n  20342,\n  20343,\n  1263,\n  5517,\n  10368,\n  12487,\n  15130,\n  15761,\n  16226,\n  18864,\n  2054,\n  4568,\n  4569,\n  4570,\n  4571,\n  4572,\n  4573,\n  4574,\n  4575,\n  4576,\n  4577,\n  4578,\n  4579,\n  4580,\n  4581,\n  4668,\n  4810,\n  6397,\n  10748,\n  12562,\n  14539,\n  14545,\n  14860,\n  15918,\n  16186,\n  16606,\n  18975,\n  18976,\n  18977,\n  18978,\n  18979,\n  18981,\n  18982,\n  18983,\n  18984,\n  18985,\n  18987,\n  18988,\n  18989,\n  18990,\n  18991,\n  18992,\n  18993,\n  20000,\n  20285,\n  20286,\n  20287,\n  20288,\n  20289,\n  20290,\n  20291,\n  20292,\n  20293,\n  20294,\n  20295,\n  20462,\n  3536,\n  14037,\n  15941,\n  16166,\n  19986,\n  2957,\n  4224,\n  5678,\n  5804,\n  5829,\n  5903,\n  5957,\n  6075,\n  6346,\n  6356,\n  7044,\n  7370,\n  9468,\n  9470,\n  9471,\n  9472,\n  9473,\n  9817,\n  10592,\n  13194,\n  13284,\n  13831,\n  13834,\n  13930,\n  14385,\n  14419,\n  14420,\n  14422,\n  14861,\n  15349,\n  15569,\n  16626,\n  16679,\n  16997,\n  17048,\n  17126,\n  17171,\n  18111,\n  18300,\n  18658,\n  18755,\n  19066,\n  19348,\n  19350,\n  19496,\n  19513,\n  19531],\n [198,\n  426,\n  524,\n  564,\n  565,\n  702,\n  1032,\n  1400,\n  1618,\n  2626,\n  251,\n  414,\n  603,\n  933,\n  1016,\n  1226,\n  1428,\n  1615,\n  1626,\n  1693,\n  1825,\n  1873,\n  2198,\n  2595,\n  2616,\n  2743,\n  2930,\n  3006,\n  3018,\n  3144,\n  3241,\n  3676,\n  3677,\n  3680,\n  3743,\n  3921,\n  3950,\n  4162,\n  4766,\n  4924,\n  4975,\n  5507,\n  5591,\n  5760,\n  6655,\n  7245,\n  7377,\n  7426,\n  8334,\n  8336,\n  8689,\n  8896,\n  9049,\n  9112,\n  9206,\n  9223,\n  9342,\n  9344,\n  9512,\n  9635,\n  10055,\n  10582,\n  10589,\n  10690,\n  11622,\n  11673,\n  11741,\n  12561,\n  13627,\n  13817,\n  13823,\n  13873,\n  14122,\n  14872,\n  15129,\n  15621,\n  16642,\n  17029,\n  18846,\n  19345,\n  19660,\n  19740,\n  983,\n  3121,\n  3542,\n  2938,\n  3193,\n  2701,\n  2825,\n  3726,\n  5381,\n  11527,\n  16039,\n  18253,\n  18339,\n  18832,\n  2238,\n  7907,\n  1616,\n  924,\n  1297,\n  1308,\n  2391,\n  2401,\n  2425,\n  2610,\n  2655,\n  3044,\n  3323,\n  3412,\n  3540,\n  3549,\n  4172,\n  5844,\n  6077,\n  7150,\n  7468,\n  7555,\n  7556,\n  8189,\n  8199,\n  8303,\n  8307,\n  8308,\n  8369,\n  8370,\n  8371,\n  8457,\n  9486,\n  9506,\n  9547,\n  9560,\n  9598,\n  9851,\n  9857,\n  9863,\n  9865,\n  9969,\n  10151,\n  10668,\n  11195,\n  11197,\n  11254,\n  11987,\n  12005,\n  12024,\n  12033,\n  12177,\n  12580,\n  12581,\n  12838,\n  12864,\n  12878,\n  12882,\n  12886,\n  12887,\n  12888,\n  13049,\n  13205,\n  13491,\n  13905,\n  13909,\n  14005,\n  14006,\n  14297,\n  14864,\n  15068,\n  15097,\n  15489,\n  15990,\n  18152,\n  16424,\n  16425,\n  3965,\n  5257,\n  5299,\n  9048,\n  10889,\n  15697,\n  18232,\n  18233,\n  18234,\n  19581],\n [290,\n  482,\n  753,\n  866,\n  886,\n  888,\n  896,\n  1388,\n  2081,\n  2578,\n  2681,\n  923,\n  1107,\n  1932,\n  3422,\n  812,\n  4341,\n  1240,\n  1314,\n  1365,\n  1379,\n  1381,\n  1551,\n  1771,\n  1983,\n  1984,\n  2264,\n  2268,\n  2406,\n  2409,\n  2410,\n  2418,\n  2419,\n  2528,\n  2564,\n  2678,\n  2680,\n  2682,\n  2684,\n  2685,\n  2709,\n  2760,\n  2800,\n  2801,\n  2807,\n  2821,\n  2907,\n  2912,\n  2986,\n  3002,\n  3051,\n  3126,\n  3137,\n  3191,\n  3247,\n  3357,\n  3419,\n  3435,\n  3497,\n  3541,\n  4191,\n  4199,\n  4368,\n  4803,\n  4811,\n  4851,\n  4885,\n  4894,\n  5120,\n  5454,\n  5483,\n  5484,\n  5529,\n  5542,\n  5547,\n  5564,\n  5565,\n  5570,\n  5572,\n  6125,\n  7042,\n  7562,\n  7568,\n  7571,\n  7579,\n  7580,\n  7586,\n  7607,\n  7801,\n  7803,\n  7818,\n  8298,\n  8519,\n  8536,\n  8794,\n  8804,\n  8807,\n  8825,\n  9016,\n  9436,\n  10127,\n  10128,\n  10391,\n  10708,\n  11322,\n  11323,\n  11324,\n  11325,\n  11326,\n  11399,\n  11730,\n  11739,\n  12219,\n  12403,\n  12412,\n  12417,\n  12427,\n  12697,\n  12766,\n  12767,\n  14897,\n  14898,\n  14899,\n  14900,\n  14901,\n  14902,\n  14904,\n  14905,\n  14906,\n  14907,\n  14908,\n  14909,\n  14910,\n  14911,\n  14912,\n  14913,\n  14914,\n  14915,\n  15223,\n  15282,\n  15377,\n  15482,\n  15486,\n  15487,\n  16328,\n  17556,\n  17624,\n  17625,\n  20390,\n  20423,\n  3217,\n  839,\n  1277,\n  1980,\n  2220,\n  2744,\n  2747,\n  4187,\n  7905,\n  8461,\n  8901,\n  15922,\n  18659,\n  1300,\n  1283,\n  5872,\n  6226,\n  13895,\n  13896,\n  18476,\n  4355,\n  17845],\n [244,\n  412,\n  1149,\n  1259,\n  1635,\n  1957,\n  1987,\n  2212,\n  2577,\n  2710,\n  3146,\n  3206,\n  3253,\n  3724,\n  3912,\n  4340,\n  5050,\n  5497,\n  5742,\n  6791,\n  6849,\n  7297,\n  7832,\n  7834,\n  7842,\n  7844,\n  7847,\n  7848,\n  7850,\n  7851,\n  7853,\n  7854,\n  7856,\n  7858,\n  7860,\n  7862,\n  7863,\n  7864,\n  7865,\n  7866,\n  7867,\n  7869,\n  7870,\n  7871,\n  7872,\n  7873,\n  7874,\n  7875,\n  7876,\n  8001,\n  8221,\n  8363,\n  8818,\n  9620,\n  9883,\n  9885,\n  10071,\n  10073,\n  10074,\n  10083,\n  10084,\n  10085,\n  10086,\n  10529,\n  10556,\n  11255,\n  11552,\n  11601,\n  11638,\n  12150,\n  12579,\n  12826,\n  13407,\n  13858,\n  14415,\n  15252,\n  15456,\n  15540,\n  15978,\n  15984,\n  16034,\n  16504,\n  17577,\n  17581,\n  17582,\n  17585,\n  19575],\n [3355,\n  568,\n  614,\n  1290,\n  413,\n  801,\n  1427,\n  2647,\n  2653,\n  2592,\n  3456,\n  4613,\n  4978,\n  5097,\n  5153,\n  5264,\n  5320,\n  5389,\n  5645,\n  5952,\n  6244,\n  6312,\n  7137,\n  7254,\n  7409,\n  7757,\n  8273,\n  8285,\n  9408,\n  9856,\n  9920,\n  10082,\n  10374,\n  10551,\n  10552,\n  10555,\n  10557,\n  10561,\n  10564,\n  10566,\n  10824,\n  10831,\n  10981,\n  11257,\n  11636,\n  12050,\n  12236,\n  13315,\n  13783,\n  13904,\n  13989,\n  14007,\n  14118,\n  14263,\n  14893,\n  15099,\n  15362,\n  15550,\n  15551,\n  15635,\n  15638,\n  15783,\n  15790,\n  15793,\n  15796,\n  15800,\n  16029,\n  16043,\n  16203,\n  16919,\n  17019,\n  17030,\n  17599,\n  18050,\n  18095,\n  18239,\n  18771,\n  18805,\n  18955,\n  19116,\n  19243,\n  19357,\n  20102,\n  20122],\n [2917,\n  2314,\n  2567,\n  3023,\n  3356,\n  3718,\n  4672,\n  4722,\n  5604,\n  6139,\n  6777,\n  7455,\n  8044,\n  8067,\n  8824,\n  8910,\n  9325,\n  9603,\n  9804,\n  9868,\n  11210,\n  11219,\n  12634,\n  13080,\n  13599,\n  14664,\n  16501,\n  16502,\n  18382,\n  18585,\n  19129,\n  19798,\n  20213,\n  20253,\n  20467,\n  3340,\n  5558,\n  8846,\n  10396],\n [1202,\n  3515,\n  3520,\n  2581,\n  1509,\n  2452,\n  3561,\n  4158,\n  4177,\n  5938,\n  6080,\n  6578,\n  6751,\n  6787,\n  8009,\n  8048,\n  8470,\n  10567,\n  11405,\n  11831,\n  12079,\n  12754,\n  13665,\n  13756,\n  13987,\n  13998,\n  16181,\n  16182,\n  16183,\n  17128,\n  17129,\n  17570,\n  18124,\n  18200,\n  19271,\n  19836,\n  20090],\n [1982,\n  2877,\n  3170,\n  7135,\n  7143,\n  7152,\n  7153,\n  7160,\n  8023,\n  8362,\n  8368,\n  8704,\n  9222,\n  9545,\n  9548,\n  10751,\n  12817,\n  12829,\n  13248,\n  14811,\n  16193,\n  17079,\n  17080,\n  17081,\n  17218,\n  17219,\n  17220,\n  17221,\n  17222,\n  17223,\n  17224,\n  17225,\n  17226,\n  17227],\n [1264,\n  2604,\n  3343,\n  6271,\n  6673,\n  7012,\n  7083,\n  7156,\n  7157,\n  8206,\n  8211,\n  10069,\n  10272,\n  11745,\n  13742,\n  14573,\n  15927,\n  16817,\n  17020,\n  17629,\n  17630,\n  17636,\n  17640,\n  17647,\n  17648,\n  17679,\n  17695,\n  20386],\n [2766,\n  3479,\n  3480,\n  3484,\n  4185,\n  4504,\n  8220,\n  8842,\n  8963,\n  9071,\n  9072,\n  12582,\n  16893,\n  16894,\n  18218,\n  18715,\n  20248],\n [15293,\n  15294,\n  15295,\n  15296,\n  17086,\n  17748,\n  18491,\n  18492,\n  20079,\n  20080,\n  20081,\n  20082,\n  20083,\n  20084,\n  20085,\n  20086,\n  20087],\n [2557, 3532, 3855, 6376, 6927, 12816, 13446, 14315, 15287, 17574, 17576]]"
     },
     "execution_count": 640,
     "metadata": {},
     "output_type": "execute_result"
    }
   ],
   "source": [
    "louv_coms.communities"
   ],
   "metadata": {
    "collapsed": false,
    "pycharm": {
     "name": "#%%\n"
    }
   }
  },
  {
   "cell_type": "code",
   "execution_count": 641,
   "outputs": [
    {
     "data": {
      "text/plain": "False"
     },
     "execution_count": 641,
     "metadata": {},
     "output_type": "execute_result"
    }
   ],
   "source": [
    "#no overlapping\n",
    "louv_coms.overlap"
   ],
   "metadata": {
    "collapsed": false,
    "pycharm": {
     "name": "#%%\n"
    }
   }
  },
  {
   "cell_type": "code",
   "execution_count": 642,
   "outputs": [
    {
     "data": {
      "text/plain": "[20,\n 31,\n 32,\n 41,\n 56,\n 59,\n 60,\n 70,\n 79,\n 97,\n 145,\n 146,\n 171,\n 172,\n 184,\n 186,\n 218,\n 221,\n 229,\n 230,\n 235,\n 240,\n 258,\n 261,\n 280,\n 282,\n 285,\n 301,\n 306,\n 327,\n 345,\n 360,\n 362,\n 390,\n 396,\n 410,\n 411,\n 435,\n 437,\n 450,\n 475,\n 481,\n 484,\n 491,\n 496,\n 498,\n 506,\n 512,\n 517,\n 518,\n 531,\n 532,\n 533,\n 536,\n 586,\n 602,\n 606,\n 608,\n 617,\n 618,\n 619,\n 627,\n 635,\n 651,\n 665,\n 695,\n 696,\n 697,\n 698,\n 707,\n 710,\n 711,\n 730,\n 731,\n 738,\n 739,\n 741,\n 746,\n 768,\n 779,\n 780,\n 863,\n 867,\n 869,\n 893,\n 907,\n 911,\n 918,\n 966,\n 973,\n 990,\n 998,\n 999,\n 1010,\n 1015,\n 1022,\n 1028,\n 1038,\n 1040,\n 1042,\n 1049,\n 1060,\n 1064,\n 1069,\n 1070,\n 1072,\n 1075,\n 1078,\n 1090,\n 1109,\n 1125,\n 1129,\n 1148,\n 1156,\n 1181,\n 1200,\n 1204,\n 1231,\n 1235,\n 1269,\n 1296,\n 1303,\n 1373,\n 1384,\n 1391,\n 1464,\n 1475,\n 1479,\n 1495,\n 1577,\n 1634,\n 1650,\n 1654,\n 1676,\n 1703,\n 1723,\n 1727,\n 1731,\n 1737,\n 1738,\n 1742,\n 1746,\n 1747,\n 1758,\n 1772,\n 1804,\n 1806,\n 1815,\n 1877,\n 1890,\n 1906,\n 1911,\n 1913,\n 1952,\n 1959,\n 1988,\n 2020,\n 2042,\n 2067,\n 2096,\n 2103,\n 2135,\n 2167,\n 2168,\n 2173,\n 2221,\n 2229,\n 2240,\n 2247,\n 2248,\n 2342,\n 2444,\n 2523,\n 2552,\n 2620,\n 2638,\n 2656,\n 2657,\n 2734,\n 2767,\n 2773,\n 2796,\n 2828,\n 2889,\n 2905,\n 2916,\n 2950,\n 2956,\n 2989,\n 3009,\n 3010,\n 3011,\n 3013,\n 3014,\n 3066,\n 3313,\n 3361,\n 3458,\n 3481,\n 3487,\n 3500,\n 3502,\n 3503,\n 3514,\n 3526,\n 3565,\n 3611,\n 3613,\n 3618,\n 3661,\n 3665,\n 3668,\n 3709,\n 3752,\n 3760,\n 3775,\n 3787,\n 3800,\n 3812,\n 3823,\n 3850,\n 3902,\n 3947,\n 3949,\n 3952,\n 3955,\n 3957,\n 3958,\n 4044,\n 4075,\n 4079,\n 4086,\n 4123,\n 4124,\n 4134,\n 4142,\n 4148,\n 4179,\n 4181,\n 4207,\n 4249,\n 4269,\n 4327,\n 4339,\n 4371,\n 4386,\n 4391,\n 4394,\n 4509,\n 4527,\n 4530,\n 4550,\n 4592,\n 4607,\n 4628,\n 4656,\n 4657,\n 4680,\n 4707,\n 4727,\n 4733,\n 4735,\n 4750,\n 4781,\n 4900,\n 4927,\n 4954,\n 4957,\n 5012,\n 5021,\n 5028,\n 5033,\n 5235,\n 5277,\n 5301,\n 5307,\n 5391,\n 5397,\n 5399,\n 5404,\n 5427,\n 5456,\n 5462,\n 5464,\n 5481,\n 6035,\n 6389,\n 6572,\n 6806,\n 6830,\n 7184,\n 7282,\n 7311,\n 7315,\n 7337,\n 7364,\n 7382,\n 7394,\n 7472,\n 7496,\n 7517,\n 7540,\n 7788,\n 7843,\n 7849,\n 8118,\n 8156,\n 8262,\n 8884,\n 8889,\n 9005,\n 9174,\n 9200,\n 9201,\n 9391,\n 9393,\n 9498,\n 9707,\n 9929,\n 10003,\n 10999,\n 11138,\n 11504,\n 11628,\n 11820,\n 11823,\n 11828,\n 11836,\n 11837,\n 11838,\n 11842,\n 11972,\n 12085,\n 12301,\n 12329,\n 12337,\n 12395,\n 12490,\n 12491,\n 12511,\n 12575,\n 12594,\n 12596,\n 12598,\n 12601,\n 12609,\n 12610,\n 12611,\n 12612,\n 12737,\n 12999,\n 13130,\n 13132,\n 13362,\n 13367,\n 13401,\n 13765,\n 13768,\n 13775,\n 13790,\n 13797,\n 13815,\n 13816,\n 13864,\n 13870,\n 14042,\n 14062,\n 14274,\n 14275,\n 14314,\n 14377,\n 14383,\n 14443,\n 14654,\n 14660,\n 14751,\n 14869,\n 14941,\n 15094,\n 15128,\n 15243,\n 15244,\n 15255,\n 15430,\n 15454,\n 15728,\n 15760,\n 16167,\n 16228,\n 16230,\n 16232,\n 16308,\n 16512,\n 16515,\n 16524,\n 16528,\n 16529,\n 16530,\n 16531,\n 16715,\n 16970,\n 16978,\n 17152,\n 17533,\n 17539,\n 17540,\n 17597,\n 17600,\n 17601,\n 17605,\n 17713,\n 17844,\n 17952,\n 17961,\n 17974,\n 17976,\n 17981,\n 18003,\n 18004,\n 18069,\n 18086,\n 18548,\n 18568,\n 18570,\n 18583,\n 18717,\n 18726,\n 18813,\n 18817,\n 19138,\n 19307,\n 19315,\n 19328,\n 19450,\n 19667,\n 19695,\n 19810,\n 19812,\n 19815,\n 19816,\n 19887,\n 19995,\n 19996,\n 19997,\n 20047,\n 20050,\n 101,\n 140,\n 227,\n 295,\n 353,\n 356,\n 369,\n 377,\n 489,\n 492,\n 737,\n 1121,\n 1123,\n 1166,\n 1496,\n 1736,\n 1780,\n 1805,\n 1808,\n 1921,\n 1939,\n 1967,\n 2077,\n 2646,\n 2665,\n 2666,\n 2884,\n 3491,\n 3530,\n 3548,\n 3622,\n 3692,\n 3798,\n 3843,\n 4015,\n 4036,\n 4069,\n 4228,\n 4235,\n 4240,\n 4608,\n 4682,\n 4763,\n 4907,\n 10147,\n 10568,\n 11374,\n 11380,\n 12724,\n 12725,\n 12770,\n 13223,\n 13224,\n 13710,\n 13711,\n 13712,\n 13713,\n 14343,\n 14965,\n 16580,\n 16727,\n 17037,\n 17870,\n 18080,\n 224,\n 275,\n 276,\n 283,\n 286,\n 355,\n 357,\n 368,\n 395,\n 513,\n 516,\n 563,\n 624,\n 676,\n 677,\n 718,\n 733,\n 763,\n 786,\n 879,\n 994,\n 1033,\n 1036,\n 1037,\n 1057,\n 1065,\n 1071,\n 1105,\n 1116,\n 1124,\n 1167,\n 1199,\n 1206,\n 1214,\n 1241,\n 1368,\n 1443,\n 1474,\n 1492,\n 1494,\n 1647,\n 1664,\n 1675,\n 1686,\n 1726,\n 1784,\n 1798,\n 1874,\n 1900,\n 1903,\n 1908,\n 1917,\n 1919,\n 1922,\n 1925,\n 1926,\n 1927,\n 1935,\n 1938,\n 1940,\n 1941,\n 1944,\n 1961,\n 2033,\n 2152,\n 2171,\n 2480,\n 2793,\n 2853,\n 2870,\n 3012,\n 3339,\n 3436,\n 3607,\n 3615,\n 3725,\n 3738,\n 3773,\n 3793,\n 3863,\n 3876,\n 3936,\n 3954,\n 4000,\n 4131,\n 4132,\n 4144,\n 4159,\n 4183,\n 4202,\n 4203,\n 4209,\n 4215,\n 4346,\n 4403,\n 4499,\n 4547,\n 4606,\n 4948,\n 4992,\n 5148,\n 5248,\n 6512,\n 6862,\n 9389,\n 9711,\n 10122,\n 10204,\n 13122,\n 13123,\n 13294,\n 13355,\n 13390,\n 13510,\n 13776,\n 14075,\n 14135,\n 14165,\n 14460,\n 14467,\n 14728,\n 14729,\n 15134,\n 15147,\n 15194,\n 15410,\n 15426,\n 15478,\n 15784,\n 15785,\n 15792,\n 15799,\n 16248,\n 16255,\n 16318,\n 16396,\n 16629,\n 16643,\n 16672,\n 16693,\n 16700,\n 16705,\n 16706,\n 16710,\n 17284,\n 17285,\n 17771,\n 17775,\n 18167,\n 18835,\n 19303,\n 19680,\n 19781,\n 19897,\n 20051,\n 488,\n 712,\n 1220,\n 1620,\n 1720,\n 1740,\n 1814,\n 1990,\n 1993,\n 2275,\n 2541,\n 2903,\n 3337,\n 3372,\n 3460,\n 3564,\n 3662,\n 4020,\n 4324,\n 4325,\n 4405,\n 4626,\n 4753,\n 6297,\n 7381,\n 7419,\n 8736,\n 8806,\n 8841,\n 11352,\n 11353,\n 11356,\n 11361,\n 11373,\n 11381,\n 11386,\n 11387,\n 11735,\n 12131,\n 12424,\n 12621,\n 12911,\n 14152,\n 14264,\n 14409,\n 14879,\n 15218,\n 15764,\n 16405,\n 16449,\n 16452,\n 17144,\n 17277,\n 17553,\n 17554,\n 17780,\n 17859,\n 18023,\n 18073,\n 18434,\n 19704,\n 626,\n 675,\n 792,\n 937,\n 1006,\n 1529,\n 1876,\n 1918,\n 1936,\n 1960,\n 3602,\n 3688,\n 3996,\n 4085,\n 4204,\n 4208,\n 4210,\n 4219,\n 4222,\n 4225,\n 4229,\n 4234,\n 4237,\n 4243,\n 4244,\n 4678,\n 4708,\n 5032,\n 5191,\n 6212,\n 13166,\n 13168,\n 13252,\n 13253,\n 13254,\n 13934,\n 13936,\n 14926,\n 15640,\n 16047,\n 16050,\n 16057,\n 16062,\n 16073,\n 16076,\n 16698,\n 16701,\n 16750,\n 17304,\n 17305,\n 18010,\n 18736,\n 18816,\n 19561,\n 19564,\n 19566,\n 19567,\n 19568,\n 19687,\n 19688,\n 193,\n 1030,\n 1034,\n 1733,\n 1739,\n 2059,\n 2133,\n 309,\n 678,\n 793,\n 1009,\n 1073,\n 1082,\n 1433,\n 1449,\n 1480,\n 1691,\n 1704,\n 1750,\n 1779,\n 1803,\n 1888,\n 1912,\n 1915,\n 1931,\n 2015,\n 2044,\n 2086,\n 2139,\n 2615,\n 2693,\n 2967,\n 3076,\n 3257,\n 3358,\n 3513,\n 3637,\n 3664,\n 3906,\n 3963,\n 4026,\n 4029,\n 4072,\n 4121,\n 4140,\n 4230,\n 4242,\n 4247,\n 4296,\n 4436,\n 4593,\n 4633,\n 4709,\n 4755,\n 4813,\n 5637,\n 6104,\n 7260,\n 8441,\n 8740,\n 8803,\n 9122,\n 9129,\n 9397,\n 9398,\n 9726,\n 9727,\n 9728,\n 12171,\n 12480,\n 12556,\n 12595,\n 12793,\n 12945,\n 12950,\n 12952,\n 13138,\n 13139,\n 13144,\n 13145,\n 13147,\n 13345,\n 13382,\n 13412,\n 13420,\n 13423,\n 13609,\n 13791,\n 13792,\n 13793,\n 13798,\n 13803,\n 13804,\n 14461,\n 14691,\n 15203,\n 15321,\n 15438,\n 15485,\n 15678,\n 15684,\n 15994,\n 15999,\n 16003,\n 16015,\n 16390,\n 16527,\n 16538,\n 16582,\n 16656,\n 16657,\n 16658,\n 17318,\n 17796,\n 18682,\n 18720,\n 18772,\n 18818,\n 19180,\n 20174,\n 20312,\n 1478,\n 1523,\n 1762,\n 359,\n 378,\n 543,\n 625,\n 680,\n 693,\n 699,\n 735,\n 742,\n 767,\n 1001,\n 1096,\n 1135,\n 1136,\n 1169,\n 1182,\n 1205,\n 1489,\n 1527,\n 1528,\n 1677,\n 1679,\n 1680,\n 1681,\n 1688,\n 1721,\n 1724,\n 1744,\n 1745,\n 1756,\n 1763,\n 1777,\n 1796,\n 1889,\n 1898,\n 1899,\n 1924,\n 1949,\n 1950,\n 1954,\n 1958,\n 2034,\n 2045,\n 2046,\n 2057,\n 2058,\n 2082,\n 2083,\n 2084,\n 2121,\n 2122,\n 2124,\n 2661,\n 2896,\n 2987,\n 3242,\n 3437,\n 3489,\n 3504,\n 3559,\n 3600,\n 3610,\n 3628,\n 3639,\n 3778,\n 3784,\n 3852,\n 3915,\n 3935,\n 3943,\n 4062,\n 4064,\n 4066,\n 4067,\n 4070,\n 4098,\n 4122,\n 4145,\n 4146,\n 4157,\n 4190,\n 4194,\n 4200,\n 4262,\n 4285,\n 4286,\n 4305,\n 4345,\n 4407,\n 4410,\n ...]"
     },
     "execution_count": 642,
     "metadata": {},
     "output_type": "execute_result"
    }
   ],
   "source": [
    "#nodes composing community 1\n",
    "louv_coms.communities[0]"
   ],
   "metadata": {
    "collapsed": false,
    "pycharm": {
     "name": "#%%\n"
    }
   }
  },
  {
   "cell_type": "markdown",
   "source": [
    "#### Internal Evaluation : Fitness scores"
   ],
   "metadata": {
    "collapsed": false,
    "pycharm": {
     "name": "#%% md\n"
    }
   }
  },
  {
   "cell_type": "markdown",
   "source": [
    "##### Partitions quality functions\n",
    "Using some fitness functions that can be defined to assess the quality of a partition"
   ],
   "metadata": {
    "collapsed": false,
    "pycharm": {
     "name": "#%% md\n"
    }
   }
  },
  {
   "cell_type": "code",
   "execution_count": 646,
   "outputs": [],
   "source": [
    "def FitnessFunctions(CommunityType):\n",
    "\n",
    "    print(\"INTERNAL EVALUATION\")\n",
    "    print()\n",
    "    #average internal degree (AID) = the average internal degree of the community set.\n",
    "    print(f\"1 - Average Internal Degree: \\n{evaluation.average_internal_degree(g, CommunityType)}\")\n",
    "    print()\n",
    "    print()\n",
    "    #internal edge density (IED) = The internal density of the community set.\n",
    "    print(f\"2 - Internal Edge Density: \\n{evaluation.internal_edge_density(g,CommunityType)}\")\n",
    "    print()\n",
    "    print()\n",
    "    #conductance (C) = Fraction of total edge volume that points outside the community.\n",
    "    print(f\"3 - Conductance : \\n{evaluation.conductance(g,CommunityType)}\")\n",
    "    print()\n",
    "    print()\n",
    "    # Triangle participation ratio (TPR) = Fraction of community nodes that belong to a triad.\n",
    "    print(f\"4 - Triangle Participation Ratio : \\n{evaluation.triangle_participation_ratio(g,CommunityType)}\")\n",
    "    print()\n",
    "    print()\n",
    "    # #Girvan-Newmann modularity (GNM)\n",
    "    print(f\"5 - Newmann modularity : \\n{evaluation.newman_girvan_modularity(g,CommunityType)}\")\n",
    "    print()\n",
    "    print()\n",
    "    #Expansion = Number of edges per community node that point outside the cluster.\n",
    "    print(f\"6 - Expansion : \\n{evaluation.expansion(g,CommunityType)}\")\n",
    "    print()\n",
    "    print()\n",
    "    #Normalized-cut (NC)= normalized variant of cut-ratio, that is the fraction of existing edges (out of all possible edges) leaving the community.\n",
    "    print(f\"7 - Normalized cut : \\n{evaluation.normalized_cut(g,CommunityType)}\")\n",
    "    print()\n",
    "    print()\n",
    "    #Average ODF Degree (AODFD): the average fraction of edges of a node of a community that point outside the community itself.\n",
    "    print(f\"8 - Average ODF Degree : \\n{evaluation.avg_odf(g,CommunityType)}\")\n",
    "    print()\n",
    "    print()\n",
    "    #Flake ODF = Fraction of nodes in S that have fewer edges pointing inside than to the outside of the community.\n",
    "    print(f\"9 - Flake ODF : \\n{evaluation.flake_odf(g,CommunityType)}\")\n",
    "    print()\n",
    "    print()\n",
    "    # Fraction over median degree = Fraction of community nodes of having internal degree higher than the median degree value.\n",
    "    print(f\"10 - Fraction over median degree : \\n{evaluation.fraction_over_median_degree(g,CommunityType)}\")\n",
    "    print()\n",
    "    print()\n",
    "    # Node_coverage = Fraction of total edge volume that points outside the community.\n",
    "    print(f\"11 - Node coverage : \\n{louv_coms.node_coverage}\")\n",
    "\n",
    "\n"
   ],
   "metadata": {
    "collapsed": false,
    "pycharm": {
     "name": "#%%\n"
    }
   }
  },
  {
   "cell_type": "code",
   "execution_count": 647,
   "outputs": [
    {
     "name": "stdout",
     "output_type": "stream",
     "text": [
      "INTERNAL EVALUATION\n",
      "\n",
      "1 - Average Internal Degree: \n",
      "FitnessResult(min=10.0, max=253.51533742331287, score=92.99477852332299, std=61.801007239838164)\n",
      "\n",
      "\n",
      "2 - Internal Edge Density: \n",
      "FitnessResult(min=0.055119487491036574, max=1.0, score=0.5254557865004453, std=0.3627086577996059)\n",
      "\n",
      "\n",
      "3 - Conductance : \n",
      "FitnessResult(min=0.09090909090909091, max=0.40149496387651634, score=0.2452442348635856, std=0.09405861111142742)\n",
      "\n",
      "\n",
      "4 - Triangle Participation Ratio : \n",
      "FitnessResult(min=0.994535519125683, max=1.0, score=0.9992464850759778, std=0.0015023273221129378)\n",
      "\n",
      "\n",
      "5 - Newmann modularity : \n",
      "FitnessResult(min=None, max=None, score=0.623536313719432, std=None)\n",
      "\n",
      "\n",
      "6 - Expansion : \n",
      "FitnessResult(min=1.0, max=107.84466019417475, score=33.3633493901351, std=24.24475336625037)\n",
      "\n",
      "\n",
      "7 - Normalized cut : \n",
      "FitnessResult(min=0.09091465944947016, max=0.4228427572047107, score=0.25596516699652594, std=0.09979134452126628)\n",
      "\n",
      "\n",
      "8 - Average ODF Degree : \n",
      "FitnessResult(min=1.0, max=107.84466019417475, score=33.3633493901351, std=24.24475336625037)\n",
      "\n",
      "\n",
      "9 - Flake ODF : \n",
      "FitnessResult(min=0.0, max=0.32712456344586727, score=0.10643519004222314, std=0.08006708512289164)\n",
      "\n",
      "\n",
      "10 - Fraction over median degree : \n",
      "FitnessResult(min=0.0, max=0.5, score=0.23274863858586625, std=0.22252419149946037)\n",
      "\n",
      "\n",
      "11 - Node coverage : \n",
      "1.0\n"
     ]
    }
   ],
   "source": [
    "FitnessFunctions(louv_coms)"
   ],
   "metadata": {
    "collapsed": false,
    "pycharm": {
     "name": "#%%\n"
    }
   }
  },
  {
   "cell_type": "code",
   "execution_count": 647,
   "outputs": [],
   "source": [],
   "metadata": {
    "collapsed": false,
    "pycharm": {
     "name": "#%%\n"
    }
   }
  },
  {
   "cell_type": "markdown",
   "source": [
    "#### Semantic Analysis of the single communities [Louvain]"
   ],
   "metadata": {
    "collapsed": false,
    "pycharm": {
     "name": "#%% md\n"
    }
   }
  },
  {
   "cell_type": "markdown",
   "source": [
    "##### Community 1"
   ],
   "metadata": {
    "collapsed": false,
    "pycharm": {
     "name": "#%% md\n"
    }
   },
   "execution_count": 694
  },
  {
   "cell_type": "code",
   "execution_count": 648,
   "outputs": [
    {
     "data": {
      "text/plain": "                                                  titolo  \\\nid                                                         \n0                              Cambiare l'acqua ai fiori   \n1                                  Ragazza, donna, altro   \n2                                              L'Ickabog   \n3                                                  Dante   \n4                                              Borgo Sud   \n...                                                  ...   \n20494                       La notte delle ricostruzioni   \n20495                                  L'ultimo raccolto   \n20496                                      X. Una caccia   \n20497                          Quel che resta delle case   \n20498  Fantiana: Scritti su John Fante selezionati da...   \n\n                          autore     editore                      categoria  \\\nid                                                                            \n0                 Perrin Valérie         E/O   Letterature straniere: testi   \n1            Evaristo Bernardine         Sur   Letterature straniere: testi   \n2                  Rowling J. K.      Salani        Letteratura per ragazzi   \n3             Barbero Alessandro     Laterza  Letteratura italiana: critica   \n4      Di Pietrantonio Donatella     Einaudi    Letteratura italiana: testi   \n...                          ...         ...                            ...   \n20494             Donaera Andrea       Tetra    Letteratura italiana: testi   \n20495                Zardi Paolo       Tetra    Letteratura italiana: testi   \n20496             Aiolli Valerio       Tetra    Letteratura italiana: testi   \n20497            Canepa Emanuela       Tetra    Letteratura italiana: testi   \n20498         Margaretto Eduardo  Bookdealer    Letteratura italiana: testi   \n\n       raccomandazioni-ricevute  anno-pubblicazione  \nid                                                   \n0                          64.0                2019  \n1                          61.0                2020  \n2                          44.0                2020  \n3                          37.0                2020  \n4                          36.0                2020  \n...                         ...                 ...  \n20494                       1.0                2022  \n20495                       1.0                2022  \n20496                       1.0                2022  \n20497                       1.0                2022  \n20498                       1.0                2020  \n\n[11775 rows x 6 columns]",
      "text/html": "<div>\n<style scoped>\n    .dataframe tbody tr th:only-of-type {\n        vertical-align: middle;\n    }\n\n    .dataframe tbody tr th {\n        vertical-align: top;\n    }\n\n    .dataframe thead th {\n        text-align: right;\n    }\n</style>\n<table border=\"1\" class=\"dataframe\">\n  <thead>\n    <tr style=\"text-align: right;\">\n      <th></th>\n      <th>titolo</th>\n      <th>autore</th>\n      <th>editore</th>\n      <th>categoria</th>\n      <th>raccomandazioni-ricevute</th>\n      <th>anno-pubblicazione</th>\n    </tr>\n    <tr>\n      <th>id</th>\n      <th></th>\n      <th></th>\n      <th></th>\n      <th></th>\n      <th></th>\n      <th></th>\n    </tr>\n  </thead>\n  <tbody>\n    <tr>\n      <th>0</th>\n      <td>Cambiare l'acqua ai fiori</td>\n      <td>Perrin Valérie</td>\n      <td>E/O</td>\n      <td>Letterature straniere: testi</td>\n      <td>64.0</td>\n      <td>2019</td>\n    </tr>\n    <tr>\n      <th>1</th>\n      <td>Ragazza, donna, altro</td>\n      <td>Evaristo Bernardine</td>\n      <td>Sur</td>\n      <td>Letterature straniere: testi</td>\n      <td>61.0</td>\n      <td>2020</td>\n    </tr>\n    <tr>\n      <th>2</th>\n      <td>L'Ickabog</td>\n      <td>Rowling J. K.</td>\n      <td>Salani</td>\n      <td>Letteratura per ragazzi</td>\n      <td>44.0</td>\n      <td>2020</td>\n    </tr>\n    <tr>\n      <th>3</th>\n      <td>Dante</td>\n      <td>Barbero Alessandro</td>\n      <td>Laterza</td>\n      <td>Letteratura italiana: critica</td>\n      <td>37.0</td>\n      <td>2020</td>\n    </tr>\n    <tr>\n      <th>4</th>\n      <td>Borgo Sud</td>\n      <td>Di Pietrantonio Donatella</td>\n      <td>Einaudi</td>\n      <td>Letteratura italiana: testi</td>\n      <td>36.0</td>\n      <td>2020</td>\n    </tr>\n    <tr>\n      <th>...</th>\n      <td>...</td>\n      <td>...</td>\n      <td>...</td>\n      <td>...</td>\n      <td>...</td>\n      <td>...</td>\n    </tr>\n    <tr>\n      <th>20494</th>\n      <td>La notte delle ricostruzioni</td>\n      <td>Donaera Andrea</td>\n      <td>Tetra</td>\n      <td>Letteratura italiana: testi</td>\n      <td>1.0</td>\n      <td>2022</td>\n    </tr>\n    <tr>\n      <th>20495</th>\n      <td>L'ultimo raccolto</td>\n      <td>Zardi Paolo</td>\n      <td>Tetra</td>\n      <td>Letteratura italiana: testi</td>\n      <td>1.0</td>\n      <td>2022</td>\n    </tr>\n    <tr>\n      <th>20496</th>\n      <td>X. Una caccia</td>\n      <td>Aiolli Valerio</td>\n      <td>Tetra</td>\n      <td>Letteratura italiana: testi</td>\n      <td>1.0</td>\n      <td>2022</td>\n    </tr>\n    <tr>\n      <th>20497</th>\n      <td>Quel che resta delle case</td>\n      <td>Canepa Emanuela</td>\n      <td>Tetra</td>\n      <td>Letteratura italiana: testi</td>\n      <td>1.0</td>\n      <td>2022</td>\n    </tr>\n    <tr>\n      <th>20498</th>\n      <td>Fantiana: Scritti su John Fante selezionati da...</td>\n      <td>Margaretto Eduardo</td>\n      <td>Bookdealer</td>\n      <td>Letteratura italiana: testi</td>\n      <td>1.0</td>\n      <td>2020</td>\n    </tr>\n  </tbody>\n</table>\n<p>11775 rows × 6 columns</p>\n</div>"
     },
     "execution_count": 648,
     "metadata": {},
     "output_type": "execute_result"
    }
   ],
   "source": [
    "#using the nodelist as a DF of attributes\n",
    "AttrDF1 = nodeList\n",
    "AttrDF1"
   ],
   "metadata": {
    "collapsed": false,
    "pycharm": {
     "name": "#%%\n"
    }
   }
  },
  {
   "cell_type": "code",
   "execution_count": 649,
   "outputs": [
    {
     "data": {
      "text/plain": "                          autore     editore                      categoria  \\\nid                                                                            \n0                 Perrin Valérie         E/O   Letterature straniere: testi   \n1            Evaristo Bernardine         Sur   Letterature straniere: testi   \n2                  Rowling J. K.      Salani        Letteratura per ragazzi   \n3             Barbero Alessandro     Laterza  Letteratura italiana: critica   \n4      Di Pietrantonio Donatella     Einaudi    Letteratura italiana: testi   \n...                          ...         ...                            ...   \n20494             Donaera Andrea       Tetra    Letteratura italiana: testi   \n20495                Zardi Paolo       Tetra    Letteratura italiana: testi   \n20496             Aiolli Valerio       Tetra    Letteratura italiana: testi   \n20497            Canepa Emanuela       Tetra    Letteratura italiana: testi   \n20498         Margaretto Eduardo  Bookdealer    Letteratura italiana: testi   \n\n       raccomandazioni-ricevute  anno-pubblicazione  \nid                                                   \n0                          64.0                2019  \n1                          61.0                2020  \n2                          44.0                2020  \n3                          37.0                2020  \n4                          36.0                2020  \n...                         ...                 ...  \n20494                       1.0                2022  \n20495                       1.0                2022  \n20496                       1.0                2022  \n20497                       1.0                2022  \n20498                       1.0                2020  \n\n[11775 rows x 5 columns]",
      "text/html": "<div>\n<style scoped>\n    .dataframe tbody tr th:only-of-type {\n        vertical-align: middle;\n    }\n\n    .dataframe tbody tr th {\n        vertical-align: top;\n    }\n\n    .dataframe thead th {\n        text-align: right;\n    }\n</style>\n<table border=\"1\" class=\"dataframe\">\n  <thead>\n    <tr style=\"text-align: right;\">\n      <th></th>\n      <th>autore</th>\n      <th>editore</th>\n      <th>categoria</th>\n      <th>raccomandazioni-ricevute</th>\n      <th>anno-pubblicazione</th>\n    </tr>\n    <tr>\n      <th>id</th>\n      <th></th>\n      <th></th>\n      <th></th>\n      <th></th>\n      <th></th>\n    </tr>\n  </thead>\n  <tbody>\n    <tr>\n      <th>0</th>\n      <td>Perrin Valérie</td>\n      <td>E/O</td>\n      <td>Letterature straniere: testi</td>\n      <td>64.0</td>\n      <td>2019</td>\n    </tr>\n    <tr>\n      <th>1</th>\n      <td>Evaristo Bernardine</td>\n      <td>Sur</td>\n      <td>Letterature straniere: testi</td>\n      <td>61.0</td>\n      <td>2020</td>\n    </tr>\n    <tr>\n      <th>2</th>\n      <td>Rowling J. K.</td>\n      <td>Salani</td>\n      <td>Letteratura per ragazzi</td>\n      <td>44.0</td>\n      <td>2020</td>\n    </tr>\n    <tr>\n      <th>3</th>\n      <td>Barbero Alessandro</td>\n      <td>Laterza</td>\n      <td>Letteratura italiana: critica</td>\n      <td>37.0</td>\n      <td>2020</td>\n    </tr>\n    <tr>\n      <th>4</th>\n      <td>Di Pietrantonio Donatella</td>\n      <td>Einaudi</td>\n      <td>Letteratura italiana: testi</td>\n      <td>36.0</td>\n      <td>2020</td>\n    </tr>\n    <tr>\n      <th>...</th>\n      <td>...</td>\n      <td>...</td>\n      <td>...</td>\n      <td>...</td>\n      <td>...</td>\n    </tr>\n    <tr>\n      <th>20494</th>\n      <td>Donaera Andrea</td>\n      <td>Tetra</td>\n      <td>Letteratura italiana: testi</td>\n      <td>1.0</td>\n      <td>2022</td>\n    </tr>\n    <tr>\n      <th>20495</th>\n      <td>Zardi Paolo</td>\n      <td>Tetra</td>\n      <td>Letteratura italiana: testi</td>\n      <td>1.0</td>\n      <td>2022</td>\n    </tr>\n    <tr>\n      <th>20496</th>\n      <td>Aiolli Valerio</td>\n      <td>Tetra</td>\n      <td>Letteratura italiana: testi</td>\n      <td>1.0</td>\n      <td>2022</td>\n    </tr>\n    <tr>\n      <th>20497</th>\n      <td>Canepa Emanuela</td>\n      <td>Tetra</td>\n      <td>Letteratura italiana: testi</td>\n      <td>1.0</td>\n      <td>2022</td>\n    </tr>\n    <tr>\n      <th>20498</th>\n      <td>Margaretto Eduardo</td>\n      <td>Bookdealer</td>\n      <td>Letteratura italiana: testi</td>\n      <td>1.0</td>\n      <td>2020</td>\n    </tr>\n  </tbody>\n</table>\n<p>11775 rows × 5 columns</p>\n</div>"
     },
     "execution_count": 649,
     "metadata": {},
     "output_type": "execute_result"
    }
   ],
   "source": [
    "AttrDF1 = AttrDF1.drop(['titolo'], axis =1)\n",
    "AttrDF1"
   ],
   "metadata": {
    "collapsed": false,
    "pycharm": {
     "name": "#%%\n"
    }
   }
  },
  {
   "cell_type": "code",
   "execution_count": 650,
   "outputs": [],
   "source": [
    "AttrDF_comm1 = AttrDF1[AttrDF1.index.isin(louv_coms.communities[0])]"
   ],
   "metadata": {
    "collapsed": false,
    "pycharm": {
     "name": "#%%\n"
    }
   }
  },
  {
   "cell_type": "code",
   "execution_count": 651,
   "outputs": [
    {
     "data": {
      "text/plain": "autore                       object\neditore                      object\ncategoria                    object\nraccomandazioni-ricevute    float64\nanno-pubblicazione            int64\ndtype: object"
     },
     "execution_count": 651,
     "metadata": {},
     "output_type": "execute_result"
    }
   ],
   "source": [
    "AttrDF_comm1.dtypes"
   ],
   "metadata": {
    "collapsed": false,
    "pycharm": {
     "name": "#%%\n"
    }
   }
  },
  {
   "cell_type": "code",
   "execution_count": 652,
   "outputs": [],
   "source": [
    "AttrDF_comm1['autore'] = AttrDF_comm1['autore'].astype('category')\n",
    "AttrDF_comm1['editore'] = AttrDF_comm1['categoria'].astype('category')\n",
    "AttrDF_comm1['categoria'] =AttrDF_comm1['categoria'].astype('category')"
   ],
   "metadata": {
    "collapsed": false,
    "pycharm": {
     "name": "#%%\n"
    }
   }
  },
  {
   "cell_type": "code",
   "execution_count": 653,
   "outputs": [
    {
     "data": {
      "text/plain": "       autore  editore  categoria  raccomandazioni-ricevute  \\\nid                                                            \n20         15       19         19                      23.0   \n31       1162       19         19                      19.0   \n32        256       19         19                      19.0   \n41        493       19         19                      18.0   \n56        483       19         19                      16.0   \n...       ...      ...        ...                       ...   \n20276     191       19         19                       1.0   \n20296     428       18         18                       1.0   \n20312     734       19         19                       1.0   \n20362     699       19         19                       1.0   \n20458     377        0          0                       1.0   \n\n       anno-pubblicazione  \nid                         \n20                   2019  \n31                   2020  \n32                   2020  \n41                   2016  \n56                   2018  \n...                   ...  \n20276                2021  \n20296                2021  \n20312                2022  \n20362                2022  \n20458                2021  \n\n[1793 rows x 5 columns]",
      "text/html": "<div>\n<style scoped>\n    .dataframe tbody tr th:only-of-type {\n        vertical-align: middle;\n    }\n\n    .dataframe tbody tr th {\n        vertical-align: top;\n    }\n\n    .dataframe thead th {\n        text-align: right;\n    }\n</style>\n<table border=\"1\" class=\"dataframe\">\n  <thead>\n    <tr style=\"text-align: right;\">\n      <th></th>\n      <th>autore</th>\n      <th>editore</th>\n      <th>categoria</th>\n      <th>raccomandazioni-ricevute</th>\n      <th>anno-pubblicazione</th>\n    </tr>\n    <tr>\n      <th>id</th>\n      <th></th>\n      <th></th>\n      <th></th>\n      <th></th>\n      <th></th>\n    </tr>\n  </thead>\n  <tbody>\n    <tr>\n      <th>20</th>\n      <td>15</td>\n      <td>19</td>\n      <td>19</td>\n      <td>23.0</td>\n      <td>2019</td>\n    </tr>\n    <tr>\n      <th>31</th>\n      <td>1162</td>\n      <td>19</td>\n      <td>19</td>\n      <td>19.0</td>\n      <td>2020</td>\n    </tr>\n    <tr>\n      <th>32</th>\n      <td>256</td>\n      <td>19</td>\n      <td>19</td>\n      <td>19.0</td>\n      <td>2020</td>\n    </tr>\n    <tr>\n      <th>41</th>\n      <td>493</td>\n      <td>19</td>\n      <td>19</td>\n      <td>18.0</td>\n      <td>2016</td>\n    </tr>\n    <tr>\n      <th>56</th>\n      <td>483</td>\n      <td>19</td>\n      <td>19</td>\n      <td>16.0</td>\n      <td>2018</td>\n    </tr>\n    <tr>\n      <th>...</th>\n      <td>...</td>\n      <td>...</td>\n      <td>...</td>\n      <td>...</td>\n      <td>...</td>\n    </tr>\n    <tr>\n      <th>20276</th>\n      <td>191</td>\n      <td>19</td>\n      <td>19</td>\n      <td>1.0</td>\n      <td>2021</td>\n    </tr>\n    <tr>\n      <th>20296</th>\n      <td>428</td>\n      <td>18</td>\n      <td>18</td>\n      <td>1.0</td>\n      <td>2021</td>\n    </tr>\n    <tr>\n      <th>20312</th>\n      <td>734</td>\n      <td>19</td>\n      <td>19</td>\n      <td>1.0</td>\n      <td>2022</td>\n    </tr>\n    <tr>\n      <th>20362</th>\n      <td>699</td>\n      <td>19</td>\n      <td>19</td>\n      <td>1.0</td>\n      <td>2022</td>\n    </tr>\n    <tr>\n      <th>20458</th>\n      <td>377</td>\n      <td>0</td>\n      <td>0</td>\n      <td>1.0</td>\n      <td>2021</td>\n    </tr>\n  </tbody>\n</table>\n<p>1793 rows × 5 columns</p>\n</div>"
     },
     "execution_count": 653,
     "metadata": {},
     "output_type": "execute_result"
    }
   ],
   "source": [
    "#transform categorical values into scalar values\n",
    "cat_columns = AttrDF_comm1.select_dtypes(['category']).columns\n",
    "AttrDF_comm1[cat_columns] = AttrDF_comm1[cat_columns].apply(lambda x: x.cat.codes)\n",
    "AttrDF_comm1"
   ],
   "metadata": {
    "collapsed": false,
    "pycharm": {
     "name": "#%%\n"
    }
   }
  },
  {
   "cell_type": "code",
   "execution_count": null,
   "outputs": [],
   "source": [],
   "metadata": {
    "collapsed": false,
    "pycharm": {
     "name": "#%%\n"
    }
   }
  },
  {
   "cell_type": "code",
   "execution_count": 654,
   "outputs": [],
   "source": [
    "#Frequency analysis of attributes of comm.1 attributes\n",
    "\n",
    "authors_coms1 = []\n",
    "genres_coms1 = []\n",
    "years_coms1 = []\n",
    "publishers_coms1 = []\n",
    "bookdealers_coms1 = []\n",
    "\n",
    "cntAuthor= Counter()\n",
    "cntGenre = Counter()\n",
    "cntYear = Counter()\n",
    "cntPub = Counter()\n",
    "cntBookdealer = Counter()\n"
   ],
   "metadata": {
    "collapsed": false,
    "pycharm": {
     "name": "#%%\n"
    }
   }
  },
  {
   "cell_type": "code",
   "execution_count": 655,
   "outputs": [],
   "source": [
    "#function to add each information of the single node of the community to each list\n",
    "def addToList(AuthorList, GenreList, YearList, PublisherList, BookdealerList, community):\n",
    "    for node in community:\n",
    "        AuthorList.append(author[node])\n",
    "        GenreList.append(genre[node])\n",
    "        YearList.append(year[node])\n",
    "        PublisherList.append(publisher[node])\n",
    "        BookdealerList.append(recommendations[node])\n",
    "\n",
    "#function to count frequency of the info of the nodes composing the community and find the most common\n",
    "def mostCommon(counter, list):\n",
    "    for el in list:\n",
    "        counter[el] += 1\n",
    "\n",
    "    return(counter.most_common())\n"
   ],
   "metadata": {
    "collapsed": false,
    "pycharm": {
     "name": "#%%\n"
    }
   }
  },
  {
   "cell_type": "code",
   "execution_count": 656,
   "outputs": [],
   "source": [
    "\n",
    "addToList(authors_coms1, genres_coms1, years_coms1,publishers_coms1, bookdealers_coms1, louv_coms.communities[0])"
   ],
   "metadata": {
    "collapsed": false,
    "pycharm": {
     "name": "#%%\n"
    }
   }
  },
  {
   "cell_type": "code",
   "execution_count": 657,
   "outputs": [
    {
     "name": "stdout",
     "output_type": "stream",
     "text": [
      "('Letteratura per ragazzi', 1499)\n",
      "('Letterature straniere: testi', 68)\n",
      "('Letteratura italiana: testi', 54)\n",
      "('Disegno, arti decorative e minori', 47)\n",
      "('Educazione', 16)\n",
      "('Psicologia', 13)\n",
      "('Arti ricreative. spettacolo. sport', 10)\n",
      "('Scienze sociali', 10)\n",
      "('Musica', 10)\n",
      "('Geografia generale. viaggi', 8)\n",
      "('Economia domestica e vita familiare', 8)\n",
      "(\"Storia d'europa\", 5)\n",
      "('Letteratura', 5)\n",
      "('Scienze botaniche', 4)\n",
      "('Pittura', 4)\n",
      "('Scienze zoologiche', 3)\n",
      "('Agricoltura e tecnologie connesse', 3)\n",
      "('Problemi e servizi sociali', 3)\n",
      "('Letterature straniere: critica', 2)\n",
      "('Altre religioni. religione comparata', 2)\n",
      "('Geografia e storia', 2)\n",
      "('Letteratura italiana: critica', 2)\n",
      "('Altro', 2)\n",
      "('Urbanistica e arte del paesaggio', 2)\n",
      "('Architettura', 2)\n",
      "('Fotografia', 1)\n",
      "('Fenomeni e tecniche paranormali', 1)\n",
      "('Teologia sociale ed ecclesiastica', 1)\n",
      "('Chimica e scienze connesse', 1)\n",
      "('Filosofia e discipline connesse', 1)\n",
      "('Scienze della vita', 1)\n",
      "('Astronomia e scienze connesse', 1)\n",
      "('Biblioteconomia. documentazione', 1)\n",
      "('Usi e costumi, etichetta, folclore', 1)\n"
     ]
    }
   ],
   "source": [
    "#most common Genres\n",
    "for el in (mostCommon(cntGenre, genres_coms1)):\n",
    "    print(el)"
   ],
   "metadata": {
    "collapsed": false,
    "pycharm": {
     "name": "#%%\n"
    }
   }
  },
  {
   "cell_type": "code",
   "execution_count": 658,
   "outputs": [
    {
     "data": {
      "application/vnd.plotly.v1+json": {
       "data": [
        {
         "alignmentgroup": "True",
         "hovertemplate": "Genre=%{x}<br>Frequency=%{y}<extra></extra>",
         "legendgroup": "",
         "marker": {
          "color": "#636efa",
          "pattern": {
           "shape": ""
          }
         },
         "name": "",
         "offsetgroup": "",
         "orientation": "v",
         "showlegend": false,
         "textposition": "auto",
         "x": [
          "Letteratura per ragazzi",
          "Letterature straniere: testi",
          "Letteratura italiana: testi",
          "Disegno, arti decorative e minori",
          "Educazione",
          "Psicologia",
          "Arti ricreative. spettacolo. sport",
          "Scienze sociali",
          "Musica",
          "Geografia generale. viaggi",
          "Economia domestica e vita familiare",
          "Storia d'europa",
          "Letteratura",
          "Scienze botaniche",
          "Pittura",
          "Scienze zoologiche",
          "Agricoltura e tecnologie connesse",
          "Problemi e servizi sociali",
          "Letterature straniere: critica",
          "Altre religioni. religione comparata",
          "Geografia e storia",
          "Letteratura italiana: critica",
          "Altro",
          "Urbanistica e arte del paesaggio",
          "Architettura",
          "Fotografia",
          "Fenomeni e tecniche paranormali",
          "Teologia sociale ed ecclesiastica",
          "Chimica e scienze connesse",
          "Filosofia e discipline connesse",
          "Scienze della vita",
          "Astronomia e scienze connesse",
          "Biblioteconomia. documentazione",
          "Usi e costumi, etichetta, folclore"
         ],
         "xaxis": "x",
         "y": [
          1499,
          68,
          54,
          47,
          16,
          13,
          10,
          10,
          10,
          8,
          8,
          5,
          5,
          4,
          4,
          3,
          3,
          3,
          2,
          2,
          2,
          2,
          2,
          2,
          2,
          1,
          1,
          1,
          1,
          1,
          1,
          1,
          1,
          1
         ],
         "yaxis": "y",
         "type": "bar"
        }
       ],
       "layout": {
        "template": {
         "data": {
          "histogram2dcontour": [
           {
            "type": "histogram2dcontour",
            "colorbar": {
             "outlinewidth": 0,
             "ticks": ""
            },
            "colorscale": [
             [
              0.0,
              "#0d0887"
             ],
             [
              0.1111111111111111,
              "#46039f"
             ],
             [
              0.2222222222222222,
              "#7201a8"
             ],
             [
              0.3333333333333333,
              "#9c179e"
             ],
             [
              0.4444444444444444,
              "#bd3786"
             ],
             [
              0.5555555555555556,
              "#d8576b"
             ],
             [
              0.6666666666666666,
              "#ed7953"
             ],
             [
              0.7777777777777778,
              "#fb9f3a"
             ],
             [
              0.8888888888888888,
              "#fdca26"
             ],
             [
              1.0,
              "#f0f921"
             ]
            ]
           }
          ],
          "choropleth": [
           {
            "type": "choropleth",
            "colorbar": {
             "outlinewidth": 0,
             "ticks": ""
            }
           }
          ],
          "histogram2d": [
           {
            "type": "histogram2d",
            "colorbar": {
             "outlinewidth": 0,
             "ticks": ""
            },
            "colorscale": [
             [
              0.0,
              "#0d0887"
             ],
             [
              0.1111111111111111,
              "#46039f"
             ],
             [
              0.2222222222222222,
              "#7201a8"
             ],
             [
              0.3333333333333333,
              "#9c179e"
             ],
             [
              0.4444444444444444,
              "#bd3786"
             ],
             [
              0.5555555555555556,
              "#d8576b"
             ],
             [
              0.6666666666666666,
              "#ed7953"
             ],
             [
              0.7777777777777778,
              "#fb9f3a"
             ],
             [
              0.8888888888888888,
              "#fdca26"
             ],
             [
              1.0,
              "#f0f921"
             ]
            ]
           }
          ],
          "heatmap": [
           {
            "type": "heatmap",
            "colorbar": {
             "outlinewidth": 0,
             "ticks": ""
            },
            "colorscale": [
             [
              0.0,
              "#0d0887"
             ],
             [
              0.1111111111111111,
              "#46039f"
             ],
             [
              0.2222222222222222,
              "#7201a8"
             ],
             [
              0.3333333333333333,
              "#9c179e"
             ],
             [
              0.4444444444444444,
              "#bd3786"
             ],
             [
              0.5555555555555556,
              "#d8576b"
             ],
             [
              0.6666666666666666,
              "#ed7953"
             ],
             [
              0.7777777777777778,
              "#fb9f3a"
             ],
             [
              0.8888888888888888,
              "#fdca26"
             ],
             [
              1.0,
              "#f0f921"
             ]
            ]
           }
          ],
          "heatmapgl": [
           {
            "type": "heatmapgl",
            "colorbar": {
             "outlinewidth": 0,
             "ticks": ""
            },
            "colorscale": [
             [
              0.0,
              "#0d0887"
             ],
             [
              0.1111111111111111,
              "#46039f"
             ],
             [
              0.2222222222222222,
              "#7201a8"
             ],
             [
              0.3333333333333333,
              "#9c179e"
             ],
             [
              0.4444444444444444,
              "#bd3786"
             ],
             [
              0.5555555555555556,
              "#d8576b"
             ],
             [
              0.6666666666666666,
              "#ed7953"
             ],
             [
              0.7777777777777778,
              "#fb9f3a"
             ],
             [
              0.8888888888888888,
              "#fdca26"
             ],
             [
              1.0,
              "#f0f921"
             ]
            ]
           }
          ],
          "contourcarpet": [
           {
            "type": "contourcarpet",
            "colorbar": {
             "outlinewidth": 0,
             "ticks": ""
            }
           }
          ],
          "contour": [
           {
            "type": "contour",
            "colorbar": {
             "outlinewidth": 0,
             "ticks": ""
            },
            "colorscale": [
             [
              0.0,
              "#0d0887"
             ],
             [
              0.1111111111111111,
              "#46039f"
             ],
             [
              0.2222222222222222,
              "#7201a8"
             ],
             [
              0.3333333333333333,
              "#9c179e"
             ],
             [
              0.4444444444444444,
              "#bd3786"
             ],
             [
              0.5555555555555556,
              "#d8576b"
             ],
             [
              0.6666666666666666,
              "#ed7953"
             ],
             [
              0.7777777777777778,
              "#fb9f3a"
             ],
             [
              0.8888888888888888,
              "#fdca26"
             ],
             [
              1.0,
              "#f0f921"
             ]
            ]
           }
          ],
          "surface": [
           {
            "type": "surface",
            "colorbar": {
             "outlinewidth": 0,
             "ticks": ""
            },
            "colorscale": [
             [
              0.0,
              "#0d0887"
             ],
             [
              0.1111111111111111,
              "#46039f"
             ],
             [
              0.2222222222222222,
              "#7201a8"
             ],
             [
              0.3333333333333333,
              "#9c179e"
             ],
             [
              0.4444444444444444,
              "#bd3786"
             ],
             [
              0.5555555555555556,
              "#d8576b"
             ],
             [
              0.6666666666666666,
              "#ed7953"
             ],
             [
              0.7777777777777778,
              "#fb9f3a"
             ],
             [
              0.8888888888888888,
              "#fdca26"
             ],
             [
              1.0,
              "#f0f921"
             ]
            ]
           }
          ],
          "mesh3d": [
           {
            "type": "mesh3d",
            "colorbar": {
             "outlinewidth": 0,
             "ticks": ""
            }
           }
          ],
          "scatter": [
           {
            "fillpattern": {
             "fillmode": "overlay",
             "size": 10,
             "solidity": 0.2
            },
            "type": "scatter"
           }
          ],
          "parcoords": [
           {
            "type": "parcoords",
            "line": {
             "colorbar": {
              "outlinewidth": 0,
              "ticks": ""
             }
            }
           }
          ],
          "scatterpolargl": [
           {
            "type": "scatterpolargl",
            "marker": {
             "colorbar": {
              "outlinewidth": 0,
              "ticks": ""
             }
            }
           }
          ],
          "bar": [
           {
            "error_x": {
             "color": "#2a3f5f"
            },
            "error_y": {
             "color": "#2a3f5f"
            },
            "marker": {
             "line": {
              "color": "#E5ECF6",
              "width": 0.5
             },
             "pattern": {
              "fillmode": "overlay",
              "size": 10,
              "solidity": 0.2
             }
            },
            "type": "bar"
           }
          ],
          "scattergeo": [
           {
            "type": "scattergeo",
            "marker": {
             "colorbar": {
              "outlinewidth": 0,
              "ticks": ""
             }
            }
           }
          ],
          "scatterpolar": [
           {
            "type": "scatterpolar",
            "marker": {
             "colorbar": {
              "outlinewidth": 0,
              "ticks": ""
             }
            }
           }
          ],
          "histogram": [
           {
            "marker": {
             "pattern": {
              "fillmode": "overlay",
              "size": 10,
              "solidity": 0.2
             }
            },
            "type": "histogram"
           }
          ],
          "scattergl": [
           {
            "type": "scattergl",
            "marker": {
             "colorbar": {
              "outlinewidth": 0,
              "ticks": ""
             }
            }
           }
          ],
          "scatter3d": [
           {
            "type": "scatter3d",
            "line": {
             "colorbar": {
              "outlinewidth": 0,
              "ticks": ""
             }
            },
            "marker": {
             "colorbar": {
              "outlinewidth": 0,
              "ticks": ""
             }
            }
           }
          ],
          "scattermapbox": [
           {
            "type": "scattermapbox",
            "marker": {
             "colorbar": {
              "outlinewidth": 0,
              "ticks": ""
             }
            }
           }
          ],
          "scatterternary": [
           {
            "type": "scatterternary",
            "marker": {
             "colorbar": {
              "outlinewidth": 0,
              "ticks": ""
             }
            }
           }
          ],
          "scattercarpet": [
           {
            "type": "scattercarpet",
            "marker": {
             "colorbar": {
              "outlinewidth": 0,
              "ticks": ""
             }
            }
           }
          ],
          "carpet": [
           {
            "aaxis": {
             "endlinecolor": "#2a3f5f",
             "gridcolor": "white",
             "linecolor": "white",
             "minorgridcolor": "white",
             "startlinecolor": "#2a3f5f"
            },
            "baxis": {
             "endlinecolor": "#2a3f5f",
             "gridcolor": "white",
             "linecolor": "white",
             "minorgridcolor": "white",
             "startlinecolor": "#2a3f5f"
            },
            "type": "carpet"
           }
          ],
          "table": [
           {
            "cells": {
             "fill": {
              "color": "#EBF0F8"
             },
             "line": {
              "color": "white"
             }
            },
            "header": {
             "fill": {
              "color": "#C8D4E3"
             },
             "line": {
              "color": "white"
             }
            },
            "type": "table"
           }
          ],
          "barpolar": [
           {
            "marker": {
             "line": {
              "color": "#E5ECF6",
              "width": 0.5
             },
             "pattern": {
              "fillmode": "overlay",
              "size": 10,
              "solidity": 0.2
             }
            },
            "type": "barpolar"
           }
          ],
          "pie": [
           {
            "automargin": true,
            "type": "pie"
           }
          ]
         },
         "layout": {
          "autotypenumbers": "strict",
          "colorway": [
           "#636efa",
           "#EF553B",
           "#00cc96",
           "#ab63fa",
           "#FFA15A",
           "#19d3f3",
           "#FF6692",
           "#B6E880",
           "#FF97FF",
           "#FECB52"
          ],
          "font": {
           "color": "#2a3f5f"
          },
          "hovermode": "closest",
          "hoverlabel": {
           "align": "left"
          },
          "paper_bgcolor": "white",
          "plot_bgcolor": "#E5ECF6",
          "polar": {
           "bgcolor": "#E5ECF6",
           "angularaxis": {
            "gridcolor": "white",
            "linecolor": "white",
            "ticks": ""
           },
           "radialaxis": {
            "gridcolor": "white",
            "linecolor": "white",
            "ticks": ""
           }
          },
          "ternary": {
           "bgcolor": "#E5ECF6",
           "aaxis": {
            "gridcolor": "white",
            "linecolor": "white",
            "ticks": ""
           },
           "baxis": {
            "gridcolor": "white",
            "linecolor": "white",
            "ticks": ""
           },
           "caxis": {
            "gridcolor": "white",
            "linecolor": "white",
            "ticks": ""
           }
          },
          "coloraxis": {
           "colorbar": {
            "outlinewidth": 0,
            "ticks": ""
           }
          },
          "colorscale": {
           "sequential": [
            [
             0.0,
             "#0d0887"
            ],
            [
             0.1111111111111111,
             "#46039f"
            ],
            [
             0.2222222222222222,
             "#7201a8"
            ],
            [
             0.3333333333333333,
             "#9c179e"
            ],
            [
             0.4444444444444444,
             "#bd3786"
            ],
            [
             0.5555555555555556,
             "#d8576b"
            ],
            [
             0.6666666666666666,
             "#ed7953"
            ],
            [
             0.7777777777777778,
             "#fb9f3a"
            ],
            [
             0.8888888888888888,
             "#fdca26"
            ],
            [
             1.0,
             "#f0f921"
            ]
           ],
           "sequentialminus": [
            [
             0.0,
             "#0d0887"
            ],
            [
             0.1111111111111111,
             "#46039f"
            ],
            [
             0.2222222222222222,
             "#7201a8"
            ],
            [
             0.3333333333333333,
             "#9c179e"
            ],
            [
             0.4444444444444444,
             "#bd3786"
            ],
            [
             0.5555555555555556,
             "#d8576b"
            ],
            [
             0.6666666666666666,
             "#ed7953"
            ],
            [
             0.7777777777777778,
             "#fb9f3a"
            ],
            [
             0.8888888888888888,
             "#fdca26"
            ],
            [
             1.0,
             "#f0f921"
            ]
           ],
           "diverging": [
            [
             0,
             "#8e0152"
            ],
            [
             0.1,
             "#c51b7d"
            ],
            [
             0.2,
             "#de77ae"
            ],
            [
             0.3,
             "#f1b6da"
            ],
            [
             0.4,
             "#fde0ef"
            ],
            [
             0.5,
             "#f7f7f7"
            ],
            [
             0.6,
             "#e6f5d0"
            ],
            [
             0.7,
             "#b8e186"
            ],
            [
             0.8,
             "#7fbc41"
            ],
            [
             0.9,
             "#4d9221"
            ],
            [
             1,
             "#276419"
            ]
           ]
          },
          "xaxis": {
           "gridcolor": "white",
           "linecolor": "white",
           "ticks": "",
           "title": {
            "standoff": 15
           },
           "zerolinecolor": "white",
           "automargin": true,
           "zerolinewidth": 2
          },
          "yaxis": {
           "gridcolor": "white",
           "linecolor": "white",
           "ticks": "",
           "title": {
            "standoff": 15
           },
           "zerolinecolor": "white",
           "automargin": true,
           "zerolinewidth": 2
          },
          "scene": {
           "xaxis": {
            "backgroundcolor": "#E5ECF6",
            "gridcolor": "white",
            "linecolor": "white",
            "showbackground": true,
            "ticks": "",
            "zerolinecolor": "white",
            "gridwidth": 2
           },
           "yaxis": {
            "backgroundcolor": "#E5ECF6",
            "gridcolor": "white",
            "linecolor": "white",
            "showbackground": true,
            "ticks": "",
            "zerolinecolor": "white",
            "gridwidth": 2
           },
           "zaxis": {
            "backgroundcolor": "#E5ECF6",
            "gridcolor": "white",
            "linecolor": "white",
            "showbackground": true,
            "ticks": "",
            "zerolinecolor": "white",
            "gridwidth": 2
           }
          },
          "shapedefaults": {
           "line": {
            "color": "#2a3f5f"
           }
          },
          "annotationdefaults": {
           "arrowcolor": "#2a3f5f",
           "arrowhead": 0,
           "arrowwidth": 1
          },
          "geo": {
           "bgcolor": "white",
           "landcolor": "#E5ECF6",
           "subunitcolor": "white",
           "showland": true,
           "showlakes": true,
           "lakecolor": "white"
          },
          "title": {
           "x": 0.05
          },
          "mapbox": {
           "style": "light"
          }
         }
        },
        "xaxis": {
         "anchor": "y",
         "domain": [
          0.0,
          1.0
         ],
         "title": {
          "text": "Genre"
         }
        },
        "yaxis": {
         "anchor": "x",
         "domain": [
          0.0,
          1.0
         ],
         "title": {
          "text": "Frequency"
         }
        },
        "legend": {
         "tracegroupgap": 0
        },
        "title": {
         "text": "Frequency distribution of genre in comm. 1"
        },
        "barmode": "relative",
        "bargap": 0.3
       },
       "config": {
        "plotlyServerURL": "https://plot.ly"
       }
      },
      "text/html": "<div>                            <div id=\"97c52e31-ac1d-4a83-94db-0614dffe43ea\" class=\"plotly-graph-div\" style=\"height:525px; width:100%;\"></div>            <script type=\"text/javascript\">                require([\"plotly\"], function(Plotly) {                    window.PLOTLYENV=window.PLOTLYENV || {};                                    if (document.getElementById(\"97c52e31-ac1d-4a83-94db-0614dffe43ea\")) {                    Plotly.newPlot(                        \"97c52e31-ac1d-4a83-94db-0614dffe43ea\",                        [{\"alignmentgroup\":\"True\",\"hovertemplate\":\"Genre=%{x}<br>Frequency=%{y}<extra></extra>\",\"legendgroup\":\"\",\"marker\":{\"color\":\"#636efa\",\"pattern\":{\"shape\":\"\"}},\"name\":\"\",\"offsetgroup\":\"\",\"orientation\":\"v\",\"showlegend\":false,\"textposition\":\"auto\",\"x\":[\"Letteratura per ragazzi\",\"Letterature straniere: testi\",\"Letteratura italiana: testi\",\"Disegno, arti decorative e minori\",\"Educazione\",\"Psicologia\",\"Arti ricreative. spettacolo. sport\",\"Scienze sociali\",\"Musica\",\"Geografia generale. viaggi\",\"Economia domestica e vita familiare\",\"Storia d'europa\",\"Letteratura\",\"Scienze botaniche\",\"Pittura\",\"Scienze zoologiche\",\"Agricoltura e tecnologie connesse\",\"Problemi e servizi sociali\",\"Letterature straniere: critica\",\"Altre religioni. religione comparata\",\"Geografia e storia\",\"Letteratura italiana: critica\",\"Altro\",\"Urbanistica e arte del paesaggio\",\"Architettura\",\"Fotografia\",\"Fenomeni e tecniche paranormali\",\"Teologia sociale ed ecclesiastica\",\"Chimica e scienze connesse\",\"Filosofia e discipline connesse\",\"Scienze della vita\",\"Astronomia e scienze connesse\",\"Biblioteconomia. documentazione\",\"Usi e costumi, etichetta, folclore\"],\"xaxis\":\"x\",\"y\":[1499,68,54,47,16,13,10,10,10,8,8,5,5,4,4,3,3,3,2,2,2,2,2,2,2,1,1,1,1,1,1,1,1,1],\"yaxis\":\"y\",\"type\":\"bar\"}],                        {\"template\":{\"data\":{\"histogram2dcontour\":[{\"type\":\"histogram2dcontour\",\"colorbar\":{\"outlinewidth\":0,\"ticks\":\"\"},\"colorscale\":[[0.0,\"#0d0887\"],[0.1111111111111111,\"#46039f\"],[0.2222222222222222,\"#7201a8\"],[0.3333333333333333,\"#9c179e\"],[0.4444444444444444,\"#bd3786\"],[0.5555555555555556,\"#d8576b\"],[0.6666666666666666,\"#ed7953\"],[0.7777777777777778,\"#fb9f3a\"],[0.8888888888888888,\"#fdca26\"],[1.0,\"#f0f921\"]]}],\"choropleth\":[{\"type\":\"choropleth\",\"colorbar\":{\"outlinewidth\":0,\"ticks\":\"\"}}],\"histogram2d\":[{\"type\":\"histogram2d\",\"colorbar\":{\"outlinewidth\":0,\"ticks\":\"\"},\"colorscale\":[[0.0,\"#0d0887\"],[0.1111111111111111,\"#46039f\"],[0.2222222222222222,\"#7201a8\"],[0.3333333333333333,\"#9c179e\"],[0.4444444444444444,\"#bd3786\"],[0.5555555555555556,\"#d8576b\"],[0.6666666666666666,\"#ed7953\"],[0.7777777777777778,\"#fb9f3a\"],[0.8888888888888888,\"#fdca26\"],[1.0,\"#f0f921\"]]}],\"heatmap\":[{\"type\":\"heatmap\",\"colorbar\":{\"outlinewidth\":0,\"ticks\":\"\"},\"colorscale\":[[0.0,\"#0d0887\"],[0.1111111111111111,\"#46039f\"],[0.2222222222222222,\"#7201a8\"],[0.3333333333333333,\"#9c179e\"],[0.4444444444444444,\"#bd3786\"],[0.5555555555555556,\"#d8576b\"],[0.6666666666666666,\"#ed7953\"],[0.7777777777777778,\"#fb9f3a\"],[0.8888888888888888,\"#fdca26\"],[1.0,\"#f0f921\"]]}],\"heatmapgl\":[{\"type\":\"heatmapgl\",\"colorbar\":{\"outlinewidth\":0,\"ticks\":\"\"},\"colorscale\":[[0.0,\"#0d0887\"],[0.1111111111111111,\"#46039f\"],[0.2222222222222222,\"#7201a8\"],[0.3333333333333333,\"#9c179e\"],[0.4444444444444444,\"#bd3786\"],[0.5555555555555556,\"#d8576b\"],[0.6666666666666666,\"#ed7953\"],[0.7777777777777778,\"#fb9f3a\"],[0.8888888888888888,\"#fdca26\"],[1.0,\"#f0f921\"]]}],\"contourcarpet\":[{\"type\":\"contourcarpet\",\"colorbar\":{\"outlinewidth\":0,\"ticks\":\"\"}}],\"contour\":[{\"type\":\"contour\",\"colorbar\":{\"outlinewidth\":0,\"ticks\":\"\"},\"colorscale\":[[0.0,\"#0d0887\"],[0.1111111111111111,\"#46039f\"],[0.2222222222222222,\"#7201a8\"],[0.3333333333333333,\"#9c179e\"],[0.4444444444444444,\"#bd3786\"],[0.5555555555555556,\"#d8576b\"],[0.6666666666666666,\"#ed7953\"],[0.7777777777777778,\"#fb9f3a\"],[0.8888888888888888,\"#fdca26\"],[1.0,\"#f0f921\"]]}],\"surface\":[{\"type\":\"surface\",\"colorbar\":{\"outlinewidth\":0,\"ticks\":\"\"},\"colorscale\":[[0.0,\"#0d0887\"],[0.1111111111111111,\"#46039f\"],[0.2222222222222222,\"#7201a8\"],[0.3333333333333333,\"#9c179e\"],[0.4444444444444444,\"#bd3786\"],[0.5555555555555556,\"#d8576b\"],[0.6666666666666666,\"#ed7953\"],[0.7777777777777778,\"#fb9f3a\"],[0.8888888888888888,\"#fdca26\"],[1.0,\"#f0f921\"]]}],\"mesh3d\":[{\"type\":\"mesh3d\",\"colorbar\":{\"outlinewidth\":0,\"ticks\":\"\"}}],\"scatter\":[{\"fillpattern\":{\"fillmode\":\"overlay\",\"size\":10,\"solidity\":0.2},\"type\":\"scatter\"}],\"parcoords\":[{\"type\":\"parcoords\",\"line\":{\"colorbar\":{\"outlinewidth\":0,\"ticks\":\"\"}}}],\"scatterpolargl\":[{\"type\":\"scatterpolargl\",\"marker\":{\"colorbar\":{\"outlinewidth\":0,\"ticks\":\"\"}}}],\"bar\":[{\"error_x\":{\"color\":\"#2a3f5f\"},\"error_y\":{\"color\":\"#2a3f5f\"},\"marker\":{\"line\":{\"color\":\"#E5ECF6\",\"width\":0.5},\"pattern\":{\"fillmode\":\"overlay\",\"size\":10,\"solidity\":0.2}},\"type\":\"bar\"}],\"scattergeo\":[{\"type\":\"scattergeo\",\"marker\":{\"colorbar\":{\"outlinewidth\":0,\"ticks\":\"\"}}}],\"scatterpolar\":[{\"type\":\"scatterpolar\",\"marker\":{\"colorbar\":{\"outlinewidth\":0,\"ticks\":\"\"}}}],\"histogram\":[{\"marker\":{\"pattern\":{\"fillmode\":\"overlay\",\"size\":10,\"solidity\":0.2}},\"type\":\"histogram\"}],\"scattergl\":[{\"type\":\"scattergl\",\"marker\":{\"colorbar\":{\"outlinewidth\":0,\"ticks\":\"\"}}}],\"scatter3d\":[{\"type\":\"scatter3d\",\"line\":{\"colorbar\":{\"outlinewidth\":0,\"ticks\":\"\"}},\"marker\":{\"colorbar\":{\"outlinewidth\":0,\"ticks\":\"\"}}}],\"scattermapbox\":[{\"type\":\"scattermapbox\",\"marker\":{\"colorbar\":{\"outlinewidth\":0,\"ticks\":\"\"}}}],\"scatterternary\":[{\"type\":\"scatterternary\",\"marker\":{\"colorbar\":{\"outlinewidth\":0,\"ticks\":\"\"}}}],\"scattercarpet\":[{\"type\":\"scattercarpet\",\"marker\":{\"colorbar\":{\"outlinewidth\":0,\"ticks\":\"\"}}}],\"carpet\":[{\"aaxis\":{\"endlinecolor\":\"#2a3f5f\",\"gridcolor\":\"white\",\"linecolor\":\"white\",\"minorgridcolor\":\"white\",\"startlinecolor\":\"#2a3f5f\"},\"baxis\":{\"endlinecolor\":\"#2a3f5f\",\"gridcolor\":\"white\",\"linecolor\":\"white\",\"minorgridcolor\":\"white\",\"startlinecolor\":\"#2a3f5f\"},\"type\":\"carpet\"}],\"table\":[{\"cells\":{\"fill\":{\"color\":\"#EBF0F8\"},\"line\":{\"color\":\"white\"}},\"header\":{\"fill\":{\"color\":\"#C8D4E3\"},\"line\":{\"color\":\"white\"}},\"type\":\"table\"}],\"barpolar\":[{\"marker\":{\"line\":{\"color\":\"#E5ECF6\",\"width\":0.5},\"pattern\":{\"fillmode\":\"overlay\",\"size\":10,\"solidity\":0.2}},\"type\":\"barpolar\"}],\"pie\":[{\"automargin\":true,\"type\":\"pie\"}]},\"layout\":{\"autotypenumbers\":\"strict\",\"colorway\":[\"#636efa\",\"#EF553B\",\"#00cc96\",\"#ab63fa\",\"#FFA15A\",\"#19d3f3\",\"#FF6692\",\"#B6E880\",\"#FF97FF\",\"#FECB52\"],\"font\":{\"color\":\"#2a3f5f\"},\"hovermode\":\"closest\",\"hoverlabel\":{\"align\":\"left\"},\"paper_bgcolor\":\"white\",\"plot_bgcolor\":\"#E5ECF6\",\"polar\":{\"bgcolor\":\"#E5ECF6\",\"angularaxis\":{\"gridcolor\":\"white\",\"linecolor\":\"white\",\"ticks\":\"\"},\"radialaxis\":{\"gridcolor\":\"white\",\"linecolor\":\"white\",\"ticks\":\"\"}},\"ternary\":{\"bgcolor\":\"#E5ECF6\",\"aaxis\":{\"gridcolor\":\"white\",\"linecolor\":\"white\",\"ticks\":\"\"},\"baxis\":{\"gridcolor\":\"white\",\"linecolor\":\"white\",\"ticks\":\"\"},\"caxis\":{\"gridcolor\":\"white\",\"linecolor\":\"white\",\"ticks\":\"\"}},\"coloraxis\":{\"colorbar\":{\"outlinewidth\":0,\"ticks\":\"\"}},\"colorscale\":{\"sequential\":[[0.0,\"#0d0887\"],[0.1111111111111111,\"#46039f\"],[0.2222222222222222,\"#7201a8\"],[0.3333333333333333,\"#9c179e\"],[0.4444444444444444,\"#bd3786\"],[0.5555555555555556,\"#d8576b\"],[0.6666666666666666,\"#ed7953\"],[0.7777777777777778,\"#fb9f3a\"],[0.8888888888888888,\"#fdca26\"],[1.0,\"#f0f921\"]],\"sequentialminus\":[[0.0,\"#0d0887\"],[0.1111111111111111,\"#46039f\"],[0.2222222222222222,\"#7201a8\"],[0.3333333333333333,\"#9c179e\"],[0.4444444444444444,\"#bd3786\"],[0.5555555555555556,\"#d8576b\"],[0.6666666666666666,\"#ed7953\"],[0.7777777777777778,\"#fb9f3a\"],[0.8888888888888888,\"#fdca26\"],[1.0,\"#f0f921\"]],\"diverging\":[[0,\"#8e0152\"],[0.1,\"#c51b7d\"],[0.2,\"#de77ae\"],[0.3,\"#f1b6da\"],[0.4,\"#fde0ef\"],[0.5,\"#f7f7f7\"],[0.6,\"#e6f5d0\"],[0.7,\"#b8e186\"],[0.8,\"#7fbc41\"],[0.9,\"#4d9221\"],[1,\"#276419\"]]},\"xaxis\":{\"gridcolor\":\"white\",\"linecolor\":\"white\",\"ticks\":\"\",\"title\":{\"standoff\":15},\"zerolinecolor\":\"white\",\"automargin\":true,\"zerolinewidth\":2},\"yaxis\":{\"gridcolor\":\"white\",\"linecolor\":\"white\",\"ticks\":\"\",\"title\":{\"standoff\":15},\"zerolinecolor\":\"white\",\"automargin\":true,\"zerolinewidth\":2},\"scene\":{\"xaxis\":{\"backgroundcolor\":\"#E5ECF6\",\"gridcolor\":\"white\",\"linecolor\":\"white\",\"showbackground\":true,\"ticks\":\"\",\"zerolinecolor\":\"white\",\"gridwidth\":2},\"yaxis\":{\"backgroundcolor\":\"#E5ECF6\",\"gridcolor\":\"white\",\"linecolor\":\"white\",\"showbackground\":true,\"ticks\":\"\",\"zerolinecolor\":\"white\",\"gridwidth\":2},\"zaxis\":{\"backgroundcolor\":\"#E5ECF6\",\"gridcolor\":\"white\",\"linecolor\":\"white\",\"showbackground\":true,\"ticks\":\"\",\"zerolinecolor\":\"white\",\"gridwidth\":2}},\"shapedefaults\":{\"line\":{\"color\":\"#2a3f5f\"}},\"annotationdefaults\":{\"arrowcolor\":\"#2a3f5f\",\"arrowhead\":0,\"arrowwidth\":1},\"geo\":{\"bgcolor\":\"white\",\"landcolor\":\"#E5ECF6\",\"subunitcolor\":\"white\",\"showland\":true,\"showlakes\":true,\"lakecolor\":\"white\"},\"title\":{\"x\":0.05},\"mapbox\":{\"style\":\"light\"}}},\"xaxis\":{\"anchor\":\"y\",\"domain\":[0.0,1.0],\"title\":{\"text\":\"Genre\"}},\"yaxis\":{\"anchor\":\"x\",\"domain\":[0.0,1.0],\"title\":{\"text\":\"Frequency\"}},\"legend\":{\"tracegroupgap\":0},\"title\":{\"text\":\"Frequency distribution of genre in comm. 1\"},\"barmode\":\"relative\",\"bargap\":0.3},                        {\"responsive\": true}                    ).then(function(){\n                            \nvar gd = document.getElementById('97c52e31-ac1d-4a83-94db-0614dffe43ea');\nvar x = new MutationObserver(function (mutations, observer) {{\n        var display = window.getComputedStyle(gd).display;\n        if (!display || display === 'none') {{\n            console.log([gd, 'removed!']);\n            Plotly.purge(gd);\n            observer.disconnect();\n        }}\n}});\n\n// Listen for the removal of the full notebook cells\nvar notebookContainer = gd.closest('#notebook-container');\nif (notebookContainer) {{\n    x.observe(notebookContainer, {childList: true});\n}}\n\n// Listen for the clearing of the current output cell\nvar outputEl = gd.closest('.output');\nif (outputEl) {{\n    x.observe(outputEl, {childList: true});\n}}\n\n                        })                };                });            </script>        </div>"
     },
     "metadata": {},
     "output_type": "display_data"
    }
   ],
   "source": [
    "#distribution per frequency\n",
    "GenreFreq = pd.DataFrame(columns=['Genre', 'Frequency'])\n",
    "for count, el in enumerate(cntGenre.most_common()):\n",
    "    new_row = {'Genre': el[0], 'Frequency': el[1]}\n",
    "    GenreFreq = GenreFreq.append(new_row, ignore_index=True)\n",
    "\n",
    "fig1 = px.bar(GenreFreq, x=\"Genre\", y=\"Frequency\", title = 'Frequency distribution of genre in comm. 1')\n",
    "fig1.update_layout(bargap=0.3)\n",
    "fig1.show()"
   ],
   "metadata": {
    "collapsed": false,
    "pycharm": {
     "name": "#%%\n"
    }
   }
  },
  {
   "cell_type": "code",
   "execution_count": 659,
   "outputs": [
    {
     "data": {
      "application/vnd.plotly.v1+json": {
       "data": [
        {
         "alignmentgroup": "True",
         "hovertemplate": "Genre=%{x}<br>Frequency=%{y}<extra></extra>",
         "legendgroup": "",
         "marker": {
          "color": "#636efa",
          "pattern": {
           "shape": ""
          }
         },
         "name": "",
         "offsetgroup": "",
         "orientation": "v",
         "showlegend": false,
         "textposition": "auto",
         "x": [
          "Letteratura per ragazzi",
          "Letterature straniere: testi",
          "Letteratura italiana: testi",
          "Disegno, arti decorative e minori",
          "Scienze sociali",
          "Geografia generale. viaggi",
          "Arti ricreative. spettacolo. sport",
          "Problemi e servizi sociali",
          "Scienza politica",
          "Storia d'europa",
          "Musica",
          "Fotografia",
          "Psicologia",
          "Economia domestica e vita familiare",
          "Filosofia occidentale moderna",
          "Arti",
          "Diritto",
          "Educazione",
          "Letterature straniere: critica",
          "Letteratura",
          "Economia",
          "Letteratura italiana: critica",
          "Gestione e servizi ausiliari",
          "Pittura",
          "Storia del mondo antico. archeologia",
          "Fenomeni e tecniche paranormali",
          "Geografia e storia",
          "Scienze botaniche",
          "Scienze mediche. medicina",
          "Usi e costumi, etichetta, folclore",
          "Scienze della vita",
          "Architettura",
          "Teologia sociale ed ecclesiastica",
          "Altre religioni. religione comparata",
          "Fisica",
          "Scienze zoologiche",
          "Agricoltura e tecnologie connesse",
          "Biografia e genealogia",
          "Giornalismo, editoria, giornali",
          "Altro",
          "Teologia morale cristiana",
          "Scienze pure",
          "Filosofia antica, medievale, orientale",
          "Letteratura greca e latina: critica",
          "Storia dell'america settentrionale",
          "Storia d'asia",
          "Urbanistica e arte del paesaggio",
          "Etica",
          "Libro. elaborazione dati",
          "Linguistica",
          "Astronomia e scienze connesse",
          "Amministrazione pubblica",
          "Ingegneria e attivita affini",
          "Lingua italiana, lingue ladine",
          "Matematica",
          "Filosofia e discipline connesse",
          "Storia e geografia della chiesa",
          "Bibbia",
          "Denominazioni e sette cristiane",
          "Scienze della terra",
          "Arti grafiche. stampe",
          "Letteratura greca e latina: testi",
          "Storia dell'america meridionale",
          "Arti plastiche. scultura",
          "Teologia cristiana",
          "Storia d'africa",
          "Biblioteconomia. documentazione",
          "Lingue elleniche. greco classico",
          "Altre lingue",
          "Metafisica",
          "Gnoseologia, causalita, genere umano",
          "Commercio",
          "Chimica e scienze connesse",
          "Lingua inglese e anglosassone",
          "Religione",
          "Organizzazioni generali. museologia",
          "Logica",
          "Paleontologia. paleozoologia",
          "Linguaggio",
          "Specifiche posizioni filosofiche",
          "Lingue germaniche. tedesco"
         ],
         "xaxis": "x",
         "y": [
          3196,
          2760,
          2129,
          549,
          380,
          274,
          251,
          197,
          186,
          172,
          137,
          132,
          132,
          89,
          88,
          74,
          67,
          63,
          56,
          53,
          47,
          46,
          44,
          36,
          34,
          34,
          33,
          32,
          32,
          31,
          28,
          25,
          23,
          22,
          21,
          19,
          16,
          16,
          15,
          15,
          13,
          12,
          11,
          10,
          10,
          10,
          10,
          9,
          9,
          9,
          9,
          8,
          8,
          7,
          7,
          7,
          7,
          6,
          6,
          5,
          5,
          5,
          4,
          4,
          4,
          3,
          3,
          2,
          2,
          2,
          2,
          2,
          2,
          1,
          1,
          1,
          1,
          1,
          1,
          1,
          1
         ],
         "yaxis": "y",
         "type": "bar"
        }
       ],
       "layout": {
        "template": {
         "data": {
          "histogram2dcontour": [
           {
            "type": "histogram2dcontour",
            "colorbar": {
             "outlinewidth": 0,
             "ticks": ""
            },
            "colorscale": [
             [
              0.0,
              "#0d0887"
             ],
             [
              0.1111111111111111,
              "#46039f"
             ],
             [
              0.2222222222222222,
              "#7201a8"
             ],
             [
              0.3333333333333333,
              "#9c179e"
             ],
             [
              0.4444444444444444,
              "#bd3786"
             ],
             [
              0.5555555555555556,
              "#d8576b"
             ],
             [
              0.6666666666666666,
              "#ed7953"
             ],
             [
              0.7777777777777778,
              "#fb9f3a"
             ],
             [
              0.8888888888888888,
              "#fdca26"
             ],
             [
              1.0,
              "#f0f921"
             ]
            ]
           }
          ],
          "choropleth": [
           {
            "type": "choropleth",
            "colorbar": {
             "outlinewidth": 0,
             "ticks": ""
            }
           }
          ],
          "histogram2d": [
           {
            "type": "histogram2d",
            "colorbar": {
             "outlinewidth": 0,
             "ticks": ""
            },
            "colorscale": [
             [
              0.0,
              "#0d0887"
             ],
             [
              0.1111111111111111,
              "#46039f"
             ],
             [
              0.2222222222222222,
              "#7201a8"
             ],
             [
              0.3333333333333333,
              "#9c179e"
             ],
             [
              0.4444444444444444,
              "#bd3786"
             ],
             [
              0.5555555555555556,
              "#d8576b"
             ],
             [
              0.6666666666666666,
              "#ed7953"
             ],
             [
              0.7777777777777778,
              "#fb9f3a"
             ],
             [
              0.8888888888888888,
              "#fdca26"
             ],
             [
              1.0,
              "#f0f921"
             ]
            ]
           }
          ],
          "heatmap": [
           {
            "type": "heatmap",
            "colorbar": {
             "outlinewidth": 0,
             "ticks": ""
            },
            "colorscale": [
             [
              0.0,
              "#0d0887"
             ],
             [
              0.1111111111111111,
              "#46039f"
             ],
             [
              0.2222222222222222,
              "#7201a8"
             ],
             [
              0.3333333333333333,
              "#9c179e"
             ],
             [
              0.4444444444444444,
              "#bd3786"
             ],
             [
              0.5555555555555556,
              "#d8576b"
             ],
             [
              0.6666666666666666,
              "#ed7953"
             ],
             [
              0.7777777777777778,
              "#fb9f3a"
             ],
             [
              0.8888888888888888,
              "#fdca26"
             ],
             [
              1.0,
              "#f0f921"
             ]
            ]
           }
          ],
          "heatmapgl": [
           {
            "type": "heatmapgl",
            "colorbar": {
             "outlinewidth": 0,
             "ticks": ""
            },
            "colorscale": [
             [
              0.0,
              "#0d0887"
             ],
             [
              0.1111111111111111,
              "#46039f"
             ],
             [
              0.2222222222222222,
              "#7201a8"
             ],
             [
              0.3333333333333333,
              "#9c179e"
             ],
             [
              0.4444444444444444,
              "#bd3786"
             ],
             [
              0.5555555555555556,
              "#d8576b"
             ],
             [
              0.6666666666666666,
              "#ed7953"
             ],
             [
              0.7777777777777778,
              "#fb9f3a"
             ],
             [
              0.8888888888888888,
              "#fdca26"
             ],
             [
              1.0,
              "#f0f921"
             ]
            ]
           }
          ],
          "contourcarpet": [
           {
            "type": "contourcarpet",
            "colorbar": {
             "outlinewidth": 0,
             "ticks": ""
            }
           }
          ],
          "contour": [
           {
            "type": "contour",
            "colorbar": {
             "outlinewidth": 0,
             "ticks": ""
            },
            "colorscale": [
             [
              0.0,
              "#0d0887"
             ],
             [
              0.1111111111111111,
              "#46039f"
             ],
             [
              0.2222222222222222,
              "#7201a8"
             ],
             [
              0.3333333333333333,
              "#9c179e"
             ],
             [
              0.4444444444444444,
              "#bd3786"
             ],
             [
              0.5555555555555556,
              "#d8576b"
             ],
             [
              0.6666666666666666,
              "#ed7953"
             ],
             [
              0.7777777777777778,
              "#fb9f3a"
             ],
             [
              0.8888888888888888,
              "#fdca26"
             ],
             [
              1.0,
              "#f0f921"
             ]
            ]
           }
          ],
          "surface": [
           {
            "type": "surface",
            "colorbar": {
             "outlinewidth": 0,
             "ticks": ""
            },
            "colorscale": [
             [
              0.0,
              "#0d0887"
             ],
             [
              0.1111111111111111,
              "#46039f"
             ],
             [
              0.2222222222222222,
              "#7201a8"
             ],
             [
              0.3333333333333333,
              "#9c179e"
             ],
             [
              0.4444444444444444,
              "#bd3786"
             ],
             [
              0.5555555555555556,
              "#d8576b"
             ],
             [
              0.6666666666666666,
              "#ed7953"
             ],
             [
              0.7777777777777778,
              "#fb9f3a"
             ],
             [
              0.8888888888888888,
              "#fdca26"
             ],
             [
              1.0,
              "#f0f921"
             ]
            ]
           }
          ],
          "mesh3d": [
           {
            "type": "mesh3d",
            "colorbar": {
             "outlinewidth": 0,
             "ticks": ""
            }
           }
          ],
          "scatter": [
           {
            "fillpattern": {
             "fillmode": "overlay",
             "size": 10,
             "solidity": 0.2
            },
            "type": "scatter"
           }
          ],
          "parcoords": [
           {
            "type": "parcoords",
            "line": {
             "colorbar": {
              "outlinewidth": 0,
              "ticks": ""
             }
            }
           }
          ],
          "scatterpolargl": [
           {
            "type": "scatterpolargl",
            "marker": {
             "colorbar": {
              "outlinewidth": 0,
              "ticks": ""
             }
            }
           }
          ],
          "bar": [
           {
            "error_x": {
             "color": "#2a3f5f"
            },
            "error_y": {
             "color": "#2a3f5f"
            },
            "marker": {
             "line": {
              "color": "#E5ECF6",
              "width": 0.5
             },
             "pattern": {
              "fillmode": "overlay",
              "size": 10,
              "solidity": 0.2
             }
            },
            "type": "bar"
           }
          ],
          "scattergeo": [
           {
            "type": "scattergeo",
            "marker": {
             "colorbar": {
              "outlinewidth": 0,
              "ticks": ""
             }
            }
           }
          ],
          "scatterpolar": [
           {
            "type": "scatterpolar",
            "marker": {
             "colorbar": {
              "outlinewidth": 0,
              "ticks": ""
             }
            }
           }
          ],
          "histogram": [
           {
            "marker": {
             "pattern": {
              "fillmode": "overlay",
              "size": 10,
              "solidity": 0.2
             }
            },
            "type": "histogram"
           }
          ],
          "scattergl": [
           {
            "type": "scattergl",
            "marker": {
             "colorbar": {
              "outlinewidth": 0,
              "ticks": ""
             }
            }
           }
          ],
          "scatter3d": [
           {
            "type": "scatter3d",
            "line": {
             "colorbar": {
              "outlinewidth": 0,
              "ticks": ""
             }
            },
            "marker": {
             "colorbar": {
              "outlinewidth": 0,
              "ticks": ""
             }
            }
           }
          ],
          "scattermapbox": [
           {
            "type": "scattermapbox",
            "marker": {
             "colorbar": {
              "outlinewidth": 0,
              "ticks": ""
             }
            }
           }
          ],
          "scatterternary": [
           {
            "type": "scatterternary",
            "marker": {
             "colorbar": {
              "outlinewidth": 0,
              "ticks": ""
             }
            }
           }
          ],
          "scattercarpet": [
           {
            "type": "scattercarpet",
            "marker": {
             "colorbar": {
              "outlinewidth": 0,
              "ticks": ""
             }
            }
           }
          ],
          "carpet": [
           {
            "aaxis": {
             "endlinecolor": "#2a3f5f",
             "gridcolor": "white",
             "linecolor": "white",
             "minorgridcolor": "white",
             "startlinecolor": "#2a3f5f"
            },
            "baxis": {
             "endlinecolor": "#2a3f5f",
             "gridcolor": "white",
             "linecolor": "white",
             "minorgridcolor": "white",
             "startlinecolor": "#2a3f5f"
            },
            "type": "carpet"
           }
          ],
          "table": [
           {
            "cells": {
             "fill": {
              "color": "#EBF0F8"
             },
             "line": {
              "color": "white"
             }
            },
            "header": {
             "fill": {
              "color": "#C8D4E3"
             },
             "line": {
              "color": "white"
             }
            },
            "type": "table"
           }
          ],
          "barpolar": [
           {
            "marker": {
             "line": {
              "color": "#E5ECF6",
              "width": 0.5
             },
             "pattern": {
              "fillmode": "overlay",
              "size": 10,
              "solidity": 0.2
             }
            },
            "type": "barpolar"
           }
          ],
          "pie": [
           {
            "automargin": true,
            "type": "pie"
           }
          ]
         },
         "layout": {
          "autotypenumbers": "strict",
          "colorway": [
           "#636efa",
           "#EF553B",
           "#00cc96",
           "#ab63fa",
           "#FFA15A",
           "#19d3f3",
           "#FF6692",
           "#B6E880",
           "#FF97FF",
           "#FECB52"
          ],
          "font": {
           "color": "#2a3f5f"
          },
          "hovermode": "closest",
          "hoverlabel": {
           "align": "left"
          },
          "paper_bgcolor": "white",
          "plot_bgcolor": "#E5ECF6",
          "polar": {
           "bgcolor": "#E5ECF6",
           "angularaxis": {
            "gridcolor": "white",
            "linecolor": "white",
            "ticks": ""
           },
           "radialaxis": {
            "gridcolor": "white",
            "linecolor": "white",
            "ticks": ""
           }
          },
          "ternary": {
           "bgcolor": "#E5ECF6",
           "aaxis": {
            "gridcolor": "white",
            "linecolor": "white",
            "ticks": ""
           },
           "baxis": {
            "gridcolor": "white",
            "linecolor": "white",
            "ticks": ""
           },
           "caxis": {
            "gridcolor": "white",
            "linecolor": "white",
            "ticks": ""
           }
          },
          "coloraxis": {
           "colorbar": {
            "outlinewidth": 0,
            "ticks": ""
           }
          },
          "colorscale": {
           "sequential": [
            [
             0.0,
             "#0d0887"
            ],
            [
             0.1111111111111111,
             "#46039f"
            ],
            [
             0.2222222222222222,
             "#7201a8"
            ],
            [
             0.3333333333333333,
             "#9c179e"
            ],
            [
             0.4444444444444444,
             "#bd3786"
            ],
            [
             0.5555555555555556,
             "#d8576b"
            ],
            [
             0.6666666666666666,
             "#ed7953"
            ],
            [
             0.7777777777777778,
             "#fb9f3a"
            ],
            [
             0.8888888888888888,
             "#fdca26"
            ],
            [
             1.0,
             "#f0f921"
            ]
           ],
           "sequentialminus": [
            [
             0.0,
             "#0d0887"
            ],
            [
             0.1111111111111111,
             "#46039f"
            ],
            [
             0.2222222222222222,
             "#7201a8"
            ],
            [
             0.3333333333333333,
             "#9c179e"
            ],
            [
             0.4444444444444444,
             "#bd3786"
            ],
            [
             0.5555555555555556,
             "#d8576b"
            ],
            [
             0.6666666666666666,
             "#ed7953"
            ],
            [
             0.7777777777777778,
             "#fb9f3a"
            ],
            [
             0.8888888888888888,
             "#fdca26"
            ],
            [
             1.0,
             "#f0f921"
            ]
           ],
           "diverging": [
            [
             0,
             "#8e0152"
            ],
            [
             0.1,
             "#c51b7d"
            ],
            [
             0.2,
             "#de77ae"
            ],
            [
             0.3,
             "#f1b6da"
            ],
            [
             0.4,
             "#fde0ef"
            ],
            [
             0.5,
             "#f7f7f7"
            ],
            [
             0.6,
             "#e6f5d0"
            ],
            [
             0.7,
             "#b8e186"
            ],
            [
             0.8,
             "#7fbc41"
            ],
            [
             0.9,
             "#4d9221"
            ],
            [
             1,
             "#276419"
            ]
           ]
          },
          "xaxis": {
           "gridcolor": "white",
           "linecolor": "white",
           "ticks": "",
           "title": {
            "standoff": 15
           },
           "zerolinecolor": "white",
           "automargin": true,
           "zerolinewidth": 2
          },
          "yaxis": {
           "gridcolor": "white",
           "linecolor": "white",
           "ticks": "",
           "title": {
            "standoff": 15
           },
           "zerolinecolor": "white",
           "automargin": true,
           "zerolinewidth": 2
          },
          "scene": {
           "xaxis": {
            "backgroundcolor": "#E5ECF6",
            "gridcolor": "white",
            "linecolor": "white",
            "showbackground": true,
            "ticks": "",
            "zerolinecolor": "white",
            "gridwidth": 2
           },
           "yaxis": {
            "backgroundcolor": "#E5ECF6",
            "gridcolor": "white",
            "linecolor": "white",
            "showbackground": true,
            "ticks": "",
            "zerolinecolor": "white",
            "gridwidth": 2
           },
           "zaxis": {
            "backgroundcolor": "#E5ECF6",
            "gridcolor": "white",
            "linecolor": "white",
            "showbackground": true,
            "ticks": "",
            "zerolinecolor": "white",
            "gridwidth": 2
           }
          },
          "shapedefaults": {
           "line": {
            "color": "#2a3f5f"
           }
          },
          "annotationdefaults": {
           "arrowcolor": "#2a3f5f",
           "arrowhead": 0,
           "arrowwidth": 1
          },
          "geo": {
           "bgcolor": "white",
           "landcolor": "#E5ECF6",
           "subunitcolor": "white",
           "showland": true,
           "showlakes": true,
           "lakecolor": "white"
          },
          "title": {
           "x": 0.05
          },
          "mapbox": {
           "style": "light"
          }
         }
        },
        "xaxis": {
         "anchor": "y",
         "domain": [
          0.0,
          1.0
         ],
         "title": {
          "text": "Genre"
         }
        },
        "yaxis": {
         "anchor": "x",
         "domain": [
          0.0,
          1.0
         ],
         "title": {
          "text": "Frequency"
         }
        },
        "legend": {
         "tracegroupgap": 0
        },
        "title": {
         "text": "Frequency distribution of genre in our network"
        },
        "barmode": "relative",
        "bargap": 0.3
       },
       "config": {
        "plotlyServerURL": "https://plot.ly"
       }
      },
      "text/html": "<div>                            <div id=\"27760ce2-e8e8-4e4c-9f2c-1e87ff84aa7f\" class=\"plotly-graph-div\" style=\"height:525px; width:100%;\"></div>            <script type=\"text/javascript\">                require([\"plotly\"], function(Plotly) {                    window.PLOTLYENV=window.PLOTLYENV || {};                                    if (document.getElementById(\"27760ce2-e8e8-4e4c-9f2c-1e87ff84aa7f\")) {                    Plotly.newPlot(                        \"27760ce2-e8e8-4e4c-9f2c-1e87ff84aa7f\",                        [{\"alignmentgroup\":\"True\",\"hovertemplate\":\"Genre=%{x}<br>Frequency=%{y}<extra></extra>\",\"legendgroup\":\"\",\"marker\":{\"color\":\"#636efa\",\"pattern\":{\"shape\":\"\"}},\"name\":\"\",\"offsetgroup\":\"\",\"orientation\":\"v\",\"showlegend\":false,\"textposition\":\"auto\",\"x\":[\"Letteratura per ragazzi\",\"Letterature straniere: testi\",\"Letteratura italiana: testi\",\"Disegno, arti decorative e minori\",\"Scienze sociali\",\"Geografia generale. viaggi\",\"Arti ricreative. spettacolo. sport\",\"Problemi e servizi sociali\",\"Scienza politica\",\"Storia d'europa\",\"Musica\",\"Fotografia\",\"Psicologia\",\"Economia domestica e vita familiare\",\"Filosofia occidentale moderna\",\"Arti\",\"Diritto\",\"Educazione\",\"Letterature straniere: critica\",\"Letteratura\",\"Economia\",\"Letteratura italiana: critica\",\"Gestione e servizi ausiliari\",\"Pittura\",\"Storia del mondo antico. archeologia\",\"Fenomeni e tecniche paranormali\",\"Geografia e storia\",\"Scienze botaniche\",\"Scienze mediche. medicina\",\"Usi e costumi, etichetta, folclore\",\"Scienze della vita\",\"Architettura\",\"Teologia sociale ed ecclesiastica\",\"Altre religioni. religione comparata\",\"Fisica\",\"Scienze zoologiche\",\"Agricoltura e tecnologie connesse\",\"Biografia e genealogia\",\"Giornalismo, editoria, giornali\",\"Altro\",\"Teologia morale cristiana\",\"Scienze pure\",\"Filosofia antica, medievale, orientale\",\"Letteratura greca e latina: critica\",\"Storia dell'america settentrionale\",\"Storia d'asia\",\"Urbanistica e arte del paesaggio\",\"Etica\",\"Libro. elaborazione dati\",\"Linguistica\",\"Astronomia e scienze connesse\",\"Amministrazione pubblica\",\"Ingegneria e attivita affini\",\"Lingua italiana, lingue ladine\",\"Matematica\",\"Filosofia e discipline connesse\",\"Storia e geografia della chiesa\",\"Bibbia\",\"Denominazioni e sette cristiane\",\"Scienze della terra\",\"Arti grafiche. stampe\",\"Letteratura greca e latina: testi\",\"Storia dell'america meridionale\",\"Arti plastiche. scultura\",\"Teologia cristiana\",\"Storia d'africa\",\"Biblioteconomia. documentazione\",\"Lingue elleniche. greco classico\",\"Altre lingue\",\"Metafisica\",\"Gnoseologia, causalita, genere umano\",\"Commercio\",\"Chimica e scienze connesse\",\"Lingua inglese e anglosassone\",\"Religione\",\"Organizzazioni generali. museologia\",\"Logica\",\"Paleontologia. paleozoologia\",\"Linguaggio\",\"Specifiche posizioni filosofiche\",\"Lingue germaniche. tedesco\"],\"xaxis\":\"x\",\"y\":[3196,2760,2129,549,380,274,251,197,186,172,137,132,132,89,88,74,67,63,56,53,47,46,44,36,34,34,33,32,32,31,28,25,23,22,21,19,16,16,15,15,13,12,11,10,10,10,10,9,9,9,9,8,8,7,7,7,7,6,6,5,5,5,4,4,4,3,3,2,2,2,2,2,2,1,1,1,1,1,1,1,1],\"yaxis\":\"y\",\"type\":\"bar\"}],                        {\"template\":{\"data\":{\"histogram2dcontour\":[{\"type\":\"histogram2dcontour\",\"colorbar\":{\"outlinewidth\":0,\"ticks\":\"\"},\"colorscale\":[[0.0,\"#0d0887\"],[0.1111111111111111,\"#46039f\"],[0.2222222222222222,\"#7201a8\"],[0.3333333333333333,\"#9c179e\"],[0.4444444444444444,\"#bd3786\"],[0.5555555555555556,\"#d8576b\"],[0.6666666666666666,\"#ed7953\"],[0.7777777777777778,\"#fb9f3a\"],[0.8888888888888888,\"#fdca26\"],[1.0,\"#f0f921\"]]}],\"choropleth\":[{\"type\":\"choropleth\",\"colorbar\":{\"outlinewidth\":0,\"ticks\":\"\"}}],\"histogram2d\":[{\"type\":\"histogram2d\",\"colorbar\":{\"outlinewidth\":0,\"ticks\":\"\"},\"colorscale\":[[0.0,\"#0d0887\"],[0.1111111111111111,\"#46039f\"],[0.2222222222222222,\"#7201a8\"],[0.3333333333333333,\"#9c179e\"],[0.4444444444444444,\"#bd3786\"],[0.5555555555555556,\"#d8576b\"],[0.6666666666666666,\"#ed7953\"],[0.7777777777777778,\"#fb9f3a\"],[0.8888888888888888,\"#fdca26\"],[1.0,\"#f0f921\"]]}],\"heatmap\":[{\"type\":\"heatmap\",\"colorbar\":{\"outlinewidth\":0,\"ticks\":\"\"},\"colorscale\":[[0.0,\"#0d0887\"],[0.1111111111111111,\"#46039f\"],[0.2222222222222222,\"#7201a8\"],[0.3333333333333333,\"#9c179e\"],[0.4444444444444444,\"#bd3786\"],[0.5555555555555556,\"#d8576b\"],[0.6666666666666666,\"#ed7953\"],[0.7777777777777778,\"#fb9f3a\"],[0.8888888888888888,\"#fdca26\"],[1.0,\"#f0f921\"]]}],\"heatmapgl\":[{\"type\":\"heatmapgl\",\"colorbar\":{\"outlinewidth\":0,\"ticks\":\"\"},\"colorscale\":[[0.0,\"#0d0887\"],[0.1111111111111111,\"#46039f\"],[0.2222222222222222,\"#7201a8\"],[0.3333333333333333,\"#9c179e\"],[0.4444444444444444,\"#bd3786\"],[0.5555555555555556,\"#d8576b\"],[0.6666666666666666,\"#ed7953\"],[0.7777777777777778,\"#fb9f3a\"],[0.8888888888888888,\"#fdca26\"],[1.0,\"#f0f921\"]]}],\"contourcarpet\":[{\"type\":\"contourcarpet\",\"colorbar\":{\"outlinewidth\":0,\"ticks\":\"\"}}],\"contour\":[{\"type\":\"contour\",\"colorbar\":{\"outlinewidth\":0,\"ticks\":\"\"},\"colorscale\":[[0.0,\"#0d0887\"],[0.1111111111111111,\"#46039f\"],[0.2222222222222222,\"#7201a8\"],[0.3333333333333333,\"#9c179e\"],[0.4444444444444444,\"#bd3786\"],[0.5555555555555556,\"#d8576b\"],[0.6666666666666666,\"#ed7953\"],[0.7777777777777778,\"#fb9f3a\"],[0.8888888888888888,\"#fdca26\"],[1.0,\"#f0f921\"]]}],\"surface\":[{\"type\":\"surface\",\"colorbar\":{\"outlinewidth\":0,\"ticks\":\"\"},\"colorscale\":[[0.0,\"#0d0887\"],[0.1111111111111111,\"#46039f\"],[0.2222222222222222,\"#7201a8\"],[0.3333333333333333,\"#9c179e\"],[0.4444444444444444,\"#bd3786\"],[0.5555555555555556,\"#d8576b\"],[0.6666666666666666,\"#ed7953\"],[0.7777777777777778,\"#fb9f3a\"],[0.8888888888888888,\"#fdca26\"],[1.0,\"#f0f921\"]]}],\"mesh3d\":[{\"type\":\"mesh3d\",\"colorbar\":{\"outlinewidth\":0,\"ticks\":\"\"}}],\"scatter\":[{\"fillpattern\":{\"fillmode\":\"overlay\",\"size\":10,\"solidity\":0.2},\"type\":\"scatter\"}],\"parcoords\":[{\"type\":\"parcoords\",\"line\":{\"colorbar\":{\"outlinewidth\":0,\"ticks\":\"\"}}}],\"scatterpolargl\":[{\"type\":\"scatterpolargl\",\"marker\":{\"colorbar\":{\"outlinewidth\":0,\"ticks\":\"\"}}}],\"bar\":[{\"error_x\":{\"color\":\"#2a3f5f\"},\"error_y\":{\"color\":\"#2a3f5f\"},\"marker\":{\"line\":{\"color\":\"#E5ECF6\",\"width\":0.5},\"pattern\":{\"fillmode\":\"overlay\",\"size\":10,\"solidity\":0.2}},\"type\":\"bar\"}],\"scattergeo\":[{\"type\":\"scattergeo\",\"marker\":{\"colorbar\":{\"outlinewidth\":0,\"ticks\":\"\"}}}],\"scatterpolar\":[{\"type\":\"scatterpolar\",\"marker\":{\"colorbar\":{\"outlinewidth\":0,\"ticks\":\"\"}}}],\"histogram\":[{\"marker\":{\"pattern\":{\"fillmode\":\"overlay\",\"size\":10,\"solidity\":0.2}},\"type\":\"histogram\"}],\"scattergl\":[{\"type\":\"scattergl\",\"marker\":{\"colorbar\":{\"outlinewidth\":0,\"ticks\":\"\"}}}],\"scatter3d\":[{\"type\":\"scatter3d\",\"line\":{\"colorbar\":{\"outlinewidth\":0,\"ticks\":\"\"}},\"marker\":{\"colorbar\":{\"outlinewidth\":0,\"ticks\":\"\"}}}],\"scattermapbox\":[{\"type\":\"scattermapbox\",\"marker\":{\"colorbar\":{\"outlinewidth\":0,\"ticks\":\"\"}}}],\"scatterternary\":[{\"type\":\"scatterternary\",\"marker\":{\"colorbar\":{\"outlinewidth\":0,\"ticks\":\"\"}}}],\"scattercarpet\":[{\"type\":\"scattercarpet\",\"marker\":{\"colorbar\":{\"outlinewidth\":0,\"ticks\":\"\"}}}],\"carpet\":[{\"aaxis\":{\"endlinecolor\":\"#2a3f5f\",\"gridcolor\":\"white\",\"linecolor\":\"white\",\"minorgridcolor\":\"white\",\"startlinecolor\":\"#2a3f5f\"},\"baxis\":{\"endlinecolor\":\"#2a3f5f\",\"gridcolor\":\"white\",\"linecolor\":\"white\",\"minorgridcolor\":\"white\",\"startlinecolor\":\"#2a3f5f\"},\"type\":\"carpet\"}],\"table\":[{\"cells\":{\"fill\":{\"color\":\"#EBF0F8\"},\"line\":{\"color\":\"white\"}},\"header\":{\"fill\":{\"color\":\"#C8D4E3\"},\"line\":{\"color\":\"white\"}},\"type\":\"table\"}],\"barpolar\":[{\"marker\":{\"line\":{\"color\":\"#E5ECF6\",\"width\":0.5},\"pattern\":{\"fillmode\":\"overlay\",\"size\":10,\"solidity\":0.2}},\"type\":\"barpolar\"}],\"pie\":[{\"automargin\":true,\"type\":\"pie\"}]},\"layout\":{\"autotypenumbers\":\"strict\",\"colorway\":[\"#636efa\",\"#EF553B\",\"#00cc96\",\"#ab63fa\",\"#FFA15A\",\"#19d3f3\",\"#FF6692\",\"#B6E880\",\"#FF97FF\",\"#FECB52\"],\"font\":{\"color\":\"#2a3f5f\"},\"hovermode\":\"closest\",\"hoverlabel\":{\"align\":\"left\"},\"paper_bgcolor\":\"white\",\"plot_bgcolor\":\"#E5ECF6\",\"polar\":{\"bgcolor\":\"#E5ECF6\",\"angularaxis\":{\"gridcolor\":\"white\",\"linecolor\":\"white\",\"ticks\":\"\"},\"radialaxis\":{\"gridcolor\":\"white\",\"linecolor\":\"white\",\"ticks\":\"\"}},\"ternary\":{\"bgcolor\":\"#E5ECF6\",\"aaxis\":{\"gridcolor\":\"white\",\"linecolor\":\"white\",\"ticks\":\"\"},\"baxis\":{\"gridcolor\":\"white\",\"linecolor\":\"white\",\"ticks\":\"\"},\"caxis\":{\"gridcolor\":\"white\",\"linecolor\":\"white\",\"ticks\":\"\"}},\"coloraxis\":{\"colorbar\":{\"outlinewidth\":0,\"ticks\":\"\"}},\"colorscale\":{\"sequential\":[[0.0,\"#0d0887\"],[0.1111111111111111,\"#46039f\"],[0.2222222222222222,\"#7201a8\"],[0.3333333333333333,\"#9c179e\"],[0.4444444444444444,\"#bd3786\"],[0.5555555555555556,\"#d8576b\"],[0.6666666666666666,\"#ed7953\"],[0.7777777777777778,\"#fb9f3a\"],[0.8888888888888888,\"#fdca26\"],[1.0,\"#f0f921\"]],\"sequentialminus\":[[0.0,\"#0d0887\"],[0.1111111111111111,\"#46039f\"],[0.2222222222222222,\"#7201a8\"],[0.3333333333333333,\"#9c179e\"],[0.4444444444444444,\"#bd3786\"],[0.5555555555555556,\"#d8576b\"],[0.6666666666666666,\"#ed7953\"],[0.7777777777777778,\"#fb9f3a\"],[0.8888888888888888,\"#fdca26\"],[1.0,\"#f0f921\"]],\"diverging\":[[0,\"#8e0152\"],[0.1,\"#c51b7d\"],[0.2,\"#de77ae\"],[0.3,\"#f1b6da\"],[0.4,\"#fde0ef\"],[0.5,\"#f7f7f7\"],[0.6,\"#e6f5d0\"],[0.7,\"#b8e186\"],[0.8,\"#7fbc41\"],[0.9,\"#4d9221\"],[1,\"#276419\"]]},\"xaxis\":{\"gridcolor\":\"white\",\"linecolor\":\"white\",\"ticks\":\"\",\"title\":{\"standoff\":15},\"zerolinecolor\":\"white\",\"automargin\":true,\"zerolinewidth\":2},\"yaxis\":{\"gridcolor\":\"white\",\"linecolor\":\"white\",\"ticks\":\"\",\"title\":{\"standoff\":15},\"zerolinecolor\":\"white\",\"automargin\":true,\"zerolinewidth\":2},\"scene\":{\"xaxis\":{\"backgroundcolor\":\"#E5ECF6\",\"gridcolor\":\"white\",\"linecolor\":\"white\",\"showbackground\":true,\"ticks\":\"\",\"zerolinecolor\":\"white\",\"gridwidth\":2},\"yaxis\":{\"backgroundcolor\":\"#E5ECF6\",\"gridcolor\":\"white\",\"linecolor\":\"white\",\"showbackground\":true,\"ticks\":\"\",\"zerolinecolor\":\"white\",\"gridwidth\":2},\"zaxis\":{\"backgroundcolor\":\"#E5ECF6\",\"gridcolor\":\"white\",\"linecolor\":\"white\",\"showbackground\":true,\"ticks\":\"\",\"zerolinecolor\":\"white\",\"gridwidth\":2}},\"shapedefaults\":{\"line\":{\"color\":\"#2a3f5f\"}},\"annotationdefaults\":{\"arrowcolor\":\"#2a3f5f\",\"arrowhead\":0,\"arrowwidth\":1},\"geo\":{\"bgcolor\":\"white\",\"landcolor\":\"#E5ECF6\",\"subunitcolor\":\"white\",\"showland\":true,\"showlakes\":true,\"lakecolor\":\"white\"},\"title\":{\"x\":0.05},\"mapbox\":{\"style\":\"light\"}}},\"xaxis\":{\"anchor\":\"y\",\"domain\":[0.0,1.0],\"title\":{\"text\":\"Genre\"}},\"yaxis\":{\"anchor\":\"x\",\"domain\":[0.0,1.0],\"title\":{\"text\":\"Frequency\"}},\"legend\":{\"tracegroupgap\":0},\"title\":{\"text\":\"Frequency distribution of genre in our network\"},\"barmode\":\"relative\",\"bargap\":0.3},                        {\"responsive\": true}                    ).then(function(){\n                            \nvar gd = document.getElementById('27760ce2-e8e8-4e4c-9f2c-1e87ff84aa7f');\nvar x = new MutationObserver(function (mutations, observer) {{\n        var display = window.getComputedStyle(gd).display;\n        if (!display || display === 'none') {{\n            console.log([gd, 'removed!']);\n            Plotly.purge(gd);\n            observer.disconnect();\n        }}\n}});\n\n// Listen for the removal of the full notebook cells\nvar notebookContainer = gd.closest('#notebook-container');\nif (notebookContainer) {{\n    x.observe(notebookContainer, {childList: true});\n}}\n\n// Listen for the clearing of the current output cell\nvar outputEl = gd.closest('.output');\nif (outputEl) {{\n    x.observe(outputEl, {childList: true});\n}}\n\n                        })                };                });            </script>        </div>"
     },
     "metadata": {},
     "output_type": "display_data"
    }
   ],
   "source": [
    "#distribution per frequency of genres in nodelist\n",
    "\n",
    "GenresNodelist = []\n",
    "for index, row in nodeList.iterrows():\n",
    "    GenresNodelist.append(nodeList.loc[index, 'categoria'])\n",
    "\n",
    "cntGenresNodelist = Counter()\n",
    "\n",
    "mostCommon(cntGenresNodelist, GenresNodelist)\n",
    "\n",
    "GenreFreqNodelist = pd.DataFrame(columns=['Genre', 'Frequency'])\n",
    "for count, el in enumerate(cntGenresNodelist.most_common()):\n",
    "    new_row = {'Genre': el[0], 'Frequency': el[1]}\n",
    "    GenreFreqNodelist = GenreFreqNodelist.append(new_row, ignore_index=True)\n",
    "\n",
    "fig1_1 = px.bar(GenreFreqNodelist, x=\"Genre\", y=\"Frequency\", title = 'Frequency distribution of genre in our network')\n",
    "fig1_1.update_layout(bargap=0.3)\n",
    "fig1_1.show()"
   ],
   "metadata": {
    "collapsed": false,
    "pycharm": {
     "name": "#%%\n"
    }
   }
  },
  {
   "cell_type": "code",
   "execution_count": 660,
   "outputs": [
    {
     "data": {
      "text/plain": "                                Genre community1_frequency network_frequency\n0             Letteratura per ragazzi                 1499              3196\n1        Letterature straniere: testi                   68              2760\n2         Letteratura italiana: testi                   54              2129\n3   Disegno, arti decorative e minori                   47               549\n4                          Educazione                   16                63\n..                                ...                  ...               ...\n76                             Logica                  NaN                 1\n77       Paleontologia. paleozoologia                  NaN                 1\n78                         Linguaggio                  NaN                 1\n79   Specifiche posizioni filosofiche                  NaN                 1\n80         Lingue germaniche. tedesco                  NaN                 1\n\n[81 rows x 3 columns]",
      "text/html": "<div>\n<style scoped>\n    .dataframe tbody tr th:only-of-type {\n        vertical-align: middle;\n    }\n\n    .dataframe tbody tr th {\n        vertical-align: top;\n    }\n\n    .dataframe thead th {\n        text-align: right;\n    }\n</style>\n<table border=\"1\" class=\"dataframe\">\n  <thead>\n    <tr style=\"text-align: right;\">\n      <th></th>\n      <th>Genre</th>\n      <th>community1_frequency</th>\n      <th>network_frequency</th>\n    </tr>\n  </thead>\n  <tbody>\n    <tr>\n      <th>0</th>\n      <td>Letteratura per ragazzi</td>\n      <td>1499</td>\n      <td>3196</td>\n    </tr>\n    <tr>\n      <th>1</th>\n      <td>Letterature straniere: testi</td>\n      <td>68</td>\n      <td>2760</td>\n    </tr>\n    <tr>\n      <th>2</th>\n      <td>Letteratura italiana: testi</td>\n      <td>54</td>\n      <td>2129</td>\n    </tr>\n    <tr>\n      <th>3</th>\n      <td>Disegno, arti decorative e minori</td>\n      <td>47</td>\n      <td>549</td>\n    </tr>\n    <tr>\n      <th>4</th>\n      <td>Educazione</td>\n      <td>16</td>\n      <td>63</td>\n    </tr>\n    <tr>\n      <th>...</th>\n      <td>...</td>\n      <td>...</td>\n      <td>...</td>\n    </tr>\n    <tr>\n      <th>76</th>\n      <td>Logica</td>\n      <td>NaN</td>\n      <td>1</td>\n    </tr>\n    <tr>\n      <th>77</th>\n      <td>Paleontologia. paleozoologia</td>\n      <td>NaN</td>\n      <td>1</td>\n    </tr>\n    <tr>\n      <th>78</th>\n      <td>Linguaggio</td>\n      <td>NaN</td>\n      <td>1</td>\n    </tr>\n    <tr>\n      <th>79</th>\n      <td>Specifiche posizioni filosofiche</td>\n      <td>NaN</td>\n      <td>1</td>\n    </tr>\n    <tr>\n      <th>80</th>\n      <td>Lingue germaniche. tedesco</td>\n      <td>NaN</td>\n      <td>1</td>\n    </tr>\n  </tbody>\n</table>\n<p>81 rows × 3 columns</p>\n</div>"
     },
     "execution_count": 660,
     "metadata": {},
     "output_type": "execute_result"
    }
   ],
   "source": [
    "#merging and joining the dataframe with the genres+frequency of community 1 and those relative to the entire network\n",
    "GenreFreqComparison = pd.merge(left=GenreFreq, right=GenreFreqNodelist, how='outer', on='Genre')\n",
    "GenreFreqComparison.rename(columns={'Frequency_x':'community1_frequency','Frequency_y':'network_frequency'}, inplace=True)\n",
    "GenreFreqComparison"
   ],
   "metadata": {
    "collapsed": false,
    "pycharm": {
     "name": "#%%\n"
    }
   }
  },
  {
   "cell_type": "code",
   "execution_count": 661,
   "outputs": [
    {
     "data": {
      "text/plain": "                                Genre  community1_frequency network_frequency\n0             Letteratura per ragazzi                  1499              3196\n1        Letterature straniere: testi                    68              2760\n2         Letteratura italiana: testi                    54              2129\n3   Disegno, arti decorative e minori                    47               549\n4                          Educazione                    16                63\n..                                ...                   ...               ...\n76                             Logica                     0                 1\n77       Paleontologia. paleozoologia                     0                 1\n78                         Linguaggio                     0                 1\n79   Specifiche posizioni filosofiche                     0                 1\n80         Lingue germaniche. tedesco                     0                 1\n\n[81 rows x 3 columns]",
      "text/html": "<div>\n<style scoped>\n    .dataframe tbody tr th:only-of-type {\n        vertical-align: middle;\n    }\n\n    .dataframe tbody tr th {\n        vertical-align: top;\n    }\n\n    .dataframe thead th {\n        text-align: right;\n    }\n</style>\n<table border=\"1\" class=\"dataframe\">\n  <thead>\n    <tr style=\"text-align: right;\">\n      <th></th>\n      <th>Genre</th>\n      <th>community1_frequency</th>\n      <th>network_frequency</th>\n    </tr>\n  </thead>\n  <tbody>\n    <tr>\n      <th>0</th>\n      <td>Letteratura per ragazzi</td>\n      <td>1499</td>\n      <td>3196</td>\n    </tr>\n    <tr>\n      <th>1</th>\n      <td>Letterature straniere: testi</td>\n      <td>68</td>\n      <td>2760</td>\n    </tr>\n    <tr>\n      <th>2</th>\n      <td>Letteratura italiana: testi</td>\n      <td>54</td>\n      <td>2129</td>\n    </tr>\n    <tr>\n      <th>3</th>\n      <td>Disegno, arti decorative e minori</td>\n      <td>47</td>\n      <td>549</td>\n    </tr>\n    <tr>\n      <th>4</th>\n      <td>Educazione</td>\n      <td>16</td>\n      <td>63</td>\n    </tr>\n    <tr>\n      <th>...</th>\n      <td>...</td>\n      <td>...</td>\n      <td>...</td>\n    </tr>\n    <tr>\n      <th>76</th>\n      <td>Logica</td>\n      <td>0</td>\n      <td>1</td>\n    </tr>\n    <tr>\n      <th>77</th>\n      <td>Paleontologia. paleozoologia</td>\n      <td>0</td>\n      <td>1</td>\n    </tr>\n    <tr>\n      <th>78</th>\n      <td>Linguaggio</td>\n      <td>0</td>\n      <td>1</td>\n    </tr>\n    <tr>\n      <th>79</th>\n      <td>Specifiche posizioni filosofiche</td>\n      <td>0</td>\n      <td>1</td>\n    </tr>\n    <tr>\n      <th>80</th>\n      <td>Lingue germaniche. tedesco</td>\n      <td>0</td>\n      <td>1</td>\n    </tr>\n  </tbody>\n</table>\n<p>81 rows × 3 columns</p>\n</div>"
     },
     "execution_count": 661,
     "metadata": {},
     "output_type": "execute_result"
    }
   ],
   "source": [
    "#replace NaN values with 0\n",
    "GenreFreqComparison['community1_frequency'] = GenreFreqComparison['community1_frequency'].fillna(0)\n",
    "GenreFreqComparison"
   ],
   "metadata": {
    "collapsed": false,
    "pycharm": {
     "name": "#%%\n"
    }
   }
  },
  {
   "cell_type": "code",
   "execution_count": 665,
   "outputs": [
    {
     "name": "stdout",
     "output_type": "stream",
     "text": [
      "('Babalibri', 100)\n",
      "('Terre di Mezzo', 79)\n",
      "('Orecchio Acerbo', 75)\n",
      "('Mondadori', 69)\n",
      "('Lapis', 64)\n",
      "(\"L'Ippocampo Ragazzi\", 62)\n",
      "('Il Castoro', 61)\n",
      "('Salani', 49)\n",
      "('Einaudi Ragazzi', 41)\n",
      "('Emme Edizioni', 40)\n",
      "('Rizzoli', 39)\n",
      "('Gallucci', 39)\n",
      "('TopiPittori', 37)\n",
      "('Camelozampa', 37)\n",
      "('Editoriale Scienza', 32)\n",
      "('Sinnos', 30)\n",
      "('Logos', 28)\n",
      "('Piemme', 24)\n",
      "('Tunué', 24)\n",
      "('Sassi', 24)\n",
      "(\"L'Ippocampo\", 23)\n",
      "('Franco Cosimo Panini', 22)\n",
      "('La Margherita', 22)\n",
      "('EL', 21)\n",
      "('Fatatrac', 20)\n",
      "('Pelledoca Editore', 19)\n",
      "('La Nuova Frontiera Junior', 18)\n",
      "('Zoolibri', 18)\n",
      "('Settenove', 18)\n",
      "('Giunti Editore', 15)\n",
      "('Iperborea', 15)\n",
      "('Feltrinelli', 14)\n",
      "('Gribaudo', 14)\n",
      "('Nord-Sud', 14)\n",
      "('Beisler', 14)\n",
      "('minibombo', 13)\n",
      "('LupoGuido', 13)\n",
      "('Pulce', 13)\n",
      "('EDT-Giralangolo', 13)\n",
      "('BUR Biblioteca Univ. Rizzoli', 12)\n",
      "('Edizioni Clichy', 12)\n",
      "('IdeeAli', 12)\n",
      "('Donzelli', 12)\n",
      "('De Agostini', 11)\n",
      "('Fabbri', 11)\n",
      "('Kite', 10)\n",
      "('Uovonero', 10)\n",
      "('Bompiani', 10)\n",
      "('Carthusia', 10)\n",
      "('Bohem Press Italia', 10)\n",
      "('Corraini', 10)\n",
      "('HarperCollins Italia', 8)\n",
      "('Einaudi', 8)\n",
      "('White Star', 8)\n",
      "('Mondadori Electa', 7)\n",
      "('Glifo', 7)\n",
      "('Il Barbagianni', 7)\n",
      "('Magazzini Salani', 7)\n",
      "('Sperling & Kupfer', 6)\n",
      "('Adelphi', 6)\n",
      "('Bottega Errante Edizioni', 6)\n",
      "('Coccole Books', 6)\n",
      "('La Coccinella', 6)\n",
      "('Bao Publishing', 5)\n",
      "('Kalandraka Italia', 5)\n",
      "('Valentina Edizioni', 5)\n",
      "('Erickson', 5)\n",
      "('Bacchilega Editore', 5)\n",
      "('VerbaVolant edizioni', 5)\n",
      "('Read Red Road', 5)\n",
      "('Edizioni Corsare', 4)\n",
      "('Garzanti', 4)\n",
      "('Blackie', 4)\n",
      "('Sonda', 4)\n",
      "('Nomos Edizioni', 4)\n",
      "('E/O', 4)\n",
      "('Fazi', 4)\n",
      "('Bibliolibrò', 4)\n",
      "('Jaca Book', 4)\n",
      "('Guanda', 4)\n",
      "('EGA-Edizioni Gruppo Abele', 4)\n",
      "('Palombi Editori', 4)\n",
      "('Academia Universa Press', 4)\n",
      "('Splen', 4)\n",
      "('Lemniscaat', 4)\n",
      "('Il Gioco di Leggere', 4)\n",
      "('Lavieri', 4)\n",
      "('Biancoenero', 4)\n",
      "('Edizioni del Borgo', 4)\n",
      "('Clavis', 3)\n",
      "('Emons Edizioni', 3)\n",
      "('La Nuova Frontiera', 3)\n",
      "('Solferino', 3)\n",
      "('San Paolo Edizioni', 3)\n",
      "('TEA', 3)\n",
      "('Marcos y Marcos', 3)\n",
      "('Albe Edizioni', 3)\n",
      "('Goodfellas', 3)\n",
      "('Marameo', 3)\n",
      "('Arka', 3)\n",
      "('Picarona Italia', 3)\n",
      "('Pulci Volanti', 3)\n",
      "('Il Ciliegio', 3)\n",
      "('Libreria della Natura', 3)\n",
      "('Marsilio', 2)\n",
      "('Nord', 2)\n",
      "('Neri Pozza', 2)\n",
      "('Tlon', 2)\n",
      "('Il Castello', 2)\n",
      "('Minimum Fax', 2)\n",
      "('Il Leone Verde', 2)\n",
      "('Nuinui', 2)\n",
      "('Nube Ocho', 2)\n",
      "('Hoepli', 2)\n",
      "('Becco Giallo', 2)\n",
      "('Vallardi A.', 2)\n",
      "('ABEditore', 2)\n",
      "('Corbaccio', 2)\n",
      "('ADD Editore', 2)\n",
      "('Pane e Sale', 2)\n",
      "('Laterza', 2)\n",
      "('Typimedia Editore', 2)\n",
      "('QB Quanto Basta', 2)\n",
      "('Interlinea', 2)\n",
      "('Rizzoli Lizard', 2)\n",
      "('Red Edizioni', 2)\n",
      "('Equilibri Editrice', 2)\n",
      "('Matti da rilegare', 2)\n",
      "('Officina Libraria', 2)\n",
      "('Ape Junior', 2)\n",
      "('Artebambini', 2)\n",
      "('Pacini Fazzi', 2)\n",
      "('Curci', 2)\n",
      "('KM', 2)\n",
      "('La Memoria del Mondo', 2)\n",
      "('Ponte alle Grazie', 2)\n",
      "('NN Editore', 1)\n",
      "('Eris', 1)\n",
      "('Il Mulino', 1)\n",
      "('Sur', 1)\n",
      "('Abendstern', 1)\n",
      "('Edizioni Black Coffee', 1)\n",
      "('Quodlibet', 1)\n",
      "('La Corte Editore', 1)\n",
      "('Moscabianca Edizioni', 1)\n",
      "('Jimenez', 1)\n",
      "('Quinto Quarto', 1)\n",
      "('Mangasenpai', 1)\n",
      "(\"L'orma\", 1)\n",
      "('Taschen', 1)\n",
      "('Lizard', 1)\n",
      "('Nuove Esperienze', 1)\n",
      "('La nave di Teseo', 1)\n",
      "('Fanucci', 1)\n",
      "('Mimesis', 1)\n",
      "('EDT', 1)\n",
      "('Ledizioni', 1)\n",
      "('Cento Autori', 1)\n",
      "('Edizioni BD', 1)\n",
      "('Villaggio Maori', 1)\n",
      "('CasaSirio', 1)\n",
      "('Longanesi', 1)\n",
      "('Ugo Mursia Editore', 1)\n",
      "('Absolutely Free', 1)\n",
      "('Accademia Vivarium Novum', 1)\n",
      "('Phaidon', 1)\n",
      "('Touring Junior', 1)\n",
      "('Raffaello Ragazzi', 1)\n",
      "('Didattica Attiva', 1)\n",
      "('Federighi', 1)\n",
      "('I Girasogni', 1)\n",
      "('Piccola Casa Editrice', 1)\n",
      "('CSA Editrice', 1)\n",
      "('Morellini', 1)\n",
      "('Shockdom', 1)\n",
      "('Giazira Scritture', 1)\n",
      "('Il Saggiatore', 1)\n",
      "('Slow Food', 1)\n",
      "('Vànvere', 1)\n",
      "('Pension Lepic', 1)\n",
      "('MalEdizioni', 1)\n",
      "('Fragatina', 1)\n",
      "('Città Nuova', 1)\n",
      "('Scalpendi', 1)\n",
      "('Ediciclo', 1)\n",
      "('Atmosphere Libri', 1)\n",
      "('Mnamon', 1)\n",
      "('Coconino Press', 1)\n",
      "('Giuntina', 1)\n",
      "('La Grande Illusion', 1)\n",
      "('Else Edizioni', 1)\n",
      "('Bollati Boringhieri', 1)\n",
      "('UTET', 1)\n",
      "('Lussografica', 1)\n",
      "('Kira Kira', 1)\n",
      "('Junior', 1)\n",
      "('Editrice Bibliografica', 1)\n",
      "('Usborne Publishing', 1)\n",
      "('Demetra', 1)\n",
      "('Edizioni del Baldo', 1)\n",
      "('Giunti Junior', 1)\n",
      "('Caissa Italia', 1)\n",
      "('Pacini Editore', 1)\n",
      "('Manni', 1)\n",
      "('Barta', 1)\n",
      "('AnimaMundi edizioni', 1)\n",
      "('Rueballu', 1)\n",
      "('Leggere Controvento', 1)\n",
      "('Notes Edizioni', 1)\n",
      "('Susalibri', 1)\n",
      "('Newton Compton Editori', 1)\n",
      "('SABIR', 1)\n",
      "('Anfora', 1)\n",
      "('Ideestortepaper', 1)\n",
      "('Il Palindromo', 1)\n",
      "('Di Scaranari', 1)\n",
      "(\"L'Asino d'Oro\", 1)\n",
      "('Dei Merangoli Editrice', 1)\n",
      "('Buk Buk', 1)\n",
      "('Lo Stampatello', 1)\n",
      "('De Ferrari', 1)\n",
      "('Caosfera', 1)\n",
      "('Tomolo', 1)\n",
      "('Contrasto', 1)\n"
     ]
    }
   ],
   "source": [
    "#most common Publishers\n",
    "for el in (mostCommon(cntPub, publishers_coms1)):\n",
    "    print(el)"
   ],
   "metadata": {
    "collapsed": false,
    "pycharm": {
     "name": "#%%\n"
    }
   }
  },
  {
   "cell_type": "code",
   "execution_count": 666,
   "outputs": [
    {
     "data": {
      "application/vnd.plotly.v1+json": {
       "data": [
        {
         "alignmentgroup": "True",
         "hovertemplate": "Publisher=%{x}<br>Frequency=%{y}<extra></extra>",
         "legendgroup": "",
         "marker": {
          "color": "#636efa",
          "pattern": {
           "shape": ""
          }
         },
         "name": "",
         "offsetgroup": "",
         "orientation": "v",
         "showlegend": false,
         "textposition": "auto",
         "x": [
          "Babalibri",
          "Terre di Mezzo",
          "Orecchio Acerbo",
          "Mondadori",
          "Lapis",
          "L'Ippocampo Ragazzi",
          "Il Castoro",
          "Salani",
          "Einaudi Ragazzi",
          "Emme Edizioni",
          "Rizzoli",
          "Gallucci",
          "TopiPittori",
          "Camelozampa",
          "Editoriale Scienza",
          "Sinnos",
          "Logos",
          "Piemme",
          "Tunué",
          "Sassi",
          "L'Ippocampo",
          "Franco Cosimo Panini",
          "La Margherita",
          "EL",
          "Fatatrac",
          "Pelledoca Editore",
          "La Nuova Frontiera Junior",
          "Zoolibri",
          "Settenove",
          "Giunti Editore",
          "Iperborea",
          "Feltrinelli",
          "Gribaudo",
          "Nord-Sud",
          "Beisler",
          "minibombo",
          "LupoGuido",
          "Pulce",
          "EDT-Giralangolo",
          "BUR Biblioteca Univ. Rizzoli",
          "Edizioni Clichy",
          "IdeeAli",
          "Donzelli",
          "De Agostini",
          "Fabbri",
          "Kite",
          "Uovonero",
          "Bompiani",
          "Carthusia",
          "Bohem Press Italia",
          "Corraini",
          "HarperCollins Italia",
          "Einaudi",
          "White Star",
          "Mondadori Electa",
          "Glifo",
          "Il Barbagianni",
          "Magazzini Salani",
          "Sperling & Kupfer",
          "Adelphi",
          "Bottega Errante Edizioni",
          "Coccole Books",
          "La Coccinella",
          "Bao Publishing",
          "Kalandraka Italia",
          "Valentina Edizioni",
          "Erickson",
          "Bacchilega Editore",
          "VerbaVolant edizioni",
          "Read Red Road",
          "Edizioni Corsare",
          "Garzanti",
          "Blackie",
          "Sonda",
          "Nomos Edizioni",
          "E/O",
          "Fazi",
          "Bibliolibrò",
          "Jaca Book",
          "Guanda",
          "EGA-Edizioni Gruppo Abele",
          "Palombi Editori",
          "Academia Universa Press",
          "Splen",
          "Lemniscaat",
          "Il Gioco di Leggere",
          "Lavieri",
          "Biancoenero",
          "Edizioni del Borgo",
          "Clavis",
          "Emons Edizioni",
          "La Nuova Frontiera",
          "Solferino",
          "San Paolo Edizioni",
          "TEA",
          "Marcos y Marcos",
          "Albe Edizioni",
          "Goodfellas",
          "Marameo",
          "Arka",
          "Picarona Italia",
          "Pulci Volanti",
          "Il Ciliegio",
          "Libreria della Natura",
          "Marsilio",
          "Nord",
          "Neri Pozza",
          "Tlon",
          "Il Castello",
          "Minimum Fax",
          "Il Leone Verde",
          "Nuinui",
          "Nube Ocho",
          "Hoepli",
          "Becco Giallo",
          "Vallardi A.",
          "ABEditore",
          "Corbaccio",
          "ADD Editore",
          "Pane e Sale",
          "Laterza",
          "Typimedia Editore",
          "QB Quanto Basta",
          "Interlinea",
          "Rizzoli Lizard",
          "Red Edizioni",
          "Equilibri Editrice",
          "Matti da rilegare",
          "Officina Libraria",
          "Ape Junior",
          "Artebambini",
          "Pacini Fazzi",
          "Curci",
          "KM",
          "La Memoria del Mondo",
          "Ponte alle Grazie",
          "NN Editore",
          "Eris",
          "Il Mulino",
          "Sur",
          "Abendstern",
          "Edizioni Black Coffee",
          "Quodlibet",
          "La Corte Editore",
          "Moscabianca Edizioni",
          "Jimenez",
          "Quinto Quarto",
          "Mangasenpai",
          "L'orma",
          "Taschen",
          "Lizard",
          "Nuove Esperienze",
          "La nave di Teseo",
          "Fanucci",
          "Mimesis",
          "EDT",
          "Ledizioni",
          "Cento Autori",
          "Edizioni BD",
          "Villaggio Maori",
          "CasaSirio",
          "Longanesi",
          "Ugo Mursia Editore",
          "Absolutely Free",
          "Accademia Vivarium Novum",
          "Phaidon",
          "Touring Junior",
          "Raffaello Ragazzi",
          "Didattica Attiva",
          "Federighi",
          "I Girasogni",
          "Piccola Casa Editrice",
          "CSA Editrice",
          "Morellini",
          "Shockdom",
          "Giazira Scritture",
          "Il Saggiatore",
          "Slow Food",
          "Vànvere",
          "Pension Lepic",
          "MalEdizioni",
          "Fragatina",
          "Città Nuova",
          "Scalpendi",
          "Ediciclo",
          "Atmosphere Libri",
          "Mnamon",
          "Coconino Press",
          "Giuntina",
          "La Grande Illusion",
          "Else Edizioni",
          "Bollati Boringhieri",
          "UTET",
          "Lussografica",
          "Kira Kira",
          "Junior",
          "Editrice Bibliografica",
          "Usborne Publishing",
          "Demetra",
          "Edizioni del Baldo",
          "Giunti Junior",
          "Caissa Italia",
          "Pacini Editore",
          "Manni",
          "Barta",
          "AnimaMundi edizioni",
          "Rueballu",
          "Leggere Controvento",
          "Notes Edizioni",
          "Susalibri",
          "Newton Compton Editori",
          "SABIR",
          "Anfora",
          "Ideestortepaper",
          "Il Palindromo",
          "Di Scaranari",
          "L'Asino d'Oro",
          "Dei Merangoli Editrice",
          "Buk Buk",
          "Lo Stampatello",
          "De Ferrari",
          "Caosfera",
          "Tomolo",
          "Contrasto"
         ],
         "xaxis": "x",
         "y": [
          100,
          79,
          75,
          69,
          64,
          62,
          61,
          49,
          41,
          40,
          39,
          39,
          37,
          37,
          32,
          30,
          28,
          24,
          24,
          24,
          23,
          22,
          22,
          21,
          20,
          19,
          18,
          18,
          18,
          15,
          15,
          14,
          14,
          14,
          14,
          13,
          13,
          13,
          13,
          12,
          12,
          12,
          12,
          11,
          11,
          10,
          10,
          10,
          10,
          10,
          10,
          8,
          8,
          8,
          7,
          7,
          7,
          7,
          6,
          6,
          6,
          6,
          6,
          5,
          5,
          5,
          5,
          5,
          5,
          5,
          4,
          4,
          4,
          4,
          4,
          4,
          4,
          4,
          4,
          4,
          4,
          4,
          4,
          4,
          4,
          4,
          4,
          4,
          4,
          3,
          3,
          3,
          3,
          3,
          3,
          3,
          3,
          3,
          3,
          3,
          3,
          3,
          3,
          3,
          2,
          2,
          2,
          2,
          2,
          2,
          2,
          2,
          2,
          2,
          2,
          2,
          2,
          2,
          2,
          2,
          2,
          2,
          2,
          2,
          2,
          2,
          2,
          2,
          2,
          2,
          2,
          2,
          2,
          2,
          2,
          2,
          1,
          1,
          1,
          1,
          1,
          1,
          1,
          1,
          1,
          1,
          1,
          1,
          1,
          1,
          1,
          1,
          1,
          1,
          1,
          1,
          1,
          1,
          1,
          1,
          1,
          1,
          1,
          1,
          1,
          1,
          1,
          1,
          1,
          1,
          1,
          1,
          1,
          1,
          1,
          1,
          1,
          1,
          1,
          1,
          1,
          1,
          1,
          1,
          1,
          1,
          1,
          1,
          1,
          1,
          1,
          1,
          1,
          1,
          1,
          1,
          1,
          1,
          1,
          1,
          1,
          1,
          1,
          1,
          1,
          1,
          1,
          1,
          1,
          1,
          1,
          1,
          1,
          1,
          1,
          1,
          1,
          1,
          1,
          1,
          1,
          1,
          1,
          1
         ],
         "yaxis": "y",
         "type": "bar"
        }
       ],
       "layout": {
        "template": {
         "data": {
          "histogram2dcontour": [
           {
            "type": "histogram2dcontour",
            "colorbar": {
             "outlinewidth": 0,
             "ticks": ""
            },
            "colorscale": [
             [
              0.0,
              "#0d0887"
             ],
             [
              0.1111111111111111,
              "#46039f"
             ],
             [
              0.2222222222222222,
              "#7201a8"
             ],
             [
              0.3333333333333333,
              "#9c179e"
             ],
             [
              0.4444444444444444,
              "#bd3786"
             ],
             [
              0.5555555555555556,
              "#d8576b"
             ],
             [
              0.6666666666666666,
              "#ed7953"
             ],
             [
              0.7777777777777778,
              "#fb9f3a"
             ],
             [
              0.8888888888888888,
              "#fdca26"
             ],
             [
              1.0,
              "#f0f921"
             ]
            ]
           }
          ],
          "choropleth": [
           {
            "type": "choropleth",
            "colorbar": {
             "outlinewidth": 0,
             "ticks": ""
            }
           }
          ],
          "histogram2d": [
           {
            "type": "histogram2d",
            "colorbar": {
             "outlinewidth": 0,
             "ticks": ""
            },
            "colorscale": [
             [
              0.0,
              "#0d0887"
             ],
             [
              0.1111111111111111,
              "#46039f"
             ],
             [
              0.2222222222222222,
              "#7201a8"
             ],
             [
              0.3333333333333333,
              "#9c179e"
             ],
             [
              0.4444444444444444,
              "#bd3786"
             ],
             [
              0.5555555555555556,
              "#d8576b"
             ],
             [
              0.6666666666666666,
              "#ed7953"
             ],
             [
              0.7777777777777778,
              "#fb9f3a"
             ],
             [
              0.8888888888888888,
              "#fdca26"
             ],
             [
              1.0,
              "#f0f921"
             ]
            ]
           }
          ],
          "heatmap": [
           {
            "type": "heatmap",
            "colorbar": {
             "outlinewidth": 0,
             "ticks": ""
            },
            "colorscale": [
             [
              0.0,
              "#0d0887"
             ],
             [
              0.1111111111111111,
              "#46039f"
             ],
             [
              0.2222222222222222,
              "#7201a8"
             ],
             [
              0.3333333333333333,
              "#9c179e"
             ],
             [
              0.4444444444444444,
              "#bd3786"
             ],
             [
              0.5555555555555556,
              "#d8576b"
             ],
             [
              0.6666666666666666,
              "#ed7953"
             ],
             [
              0.7777777777777778,
              "#fb9f3a"
             ],
             [
              0.8888888888888888,
              "#fdca26"
             ],
             [
              1.0,
              "#f0f921"
             ]
            ]
           }
          ],
          "heatmapgl": [
           {
            "type": "heatmapgl",
            "colorbar": {
             "outlinewidth": 0,
             "ticks": ""
            },
            "colorscale": [
             [
              0.0,
              "#0d0887"
             ],
             [
              0.1111111111111111,
              "#46039f"
             ],
             [
              0.2222222222222222,
              "#7201a8"
             ],
             [
              0.3333333333333333,
              "#9c179e"
             ],
             [
              0.4444444444444444,
              "#bd3786"
             ],
             [
              0.5555555555555556,
              "#d8576b"
             ],
             [
              0.6666666666666666,
              "#ed7953"
             ],
             [
              0.7777777777777778,
              "#fb9f3a"
             ],
             [
              0.8888888888888888,
              "#fdca26"
             ],
             [
              1.0,
              "#f0f921"
             ]
            ]
           }
          ],
          "contourcarpet": [
           {
            "type": "contourcarpet",
            "colorbar": {
             "outlinewidth": 0,
             "ticks": ""
            }
           }
          ],
          "contour": [
           {
            "type": "contour",
            "colorbar": {
             "outlinewidth": 0,
             "ticks": ""
            },
            "colorscale": [
             [
              0.0,
              "#0d0887"
             ],
             [
              0.1111111111111111,
              "#46039f"
             ],
             [
              0.2222222222222222,
              "#7201a8"
             ],
             [
              0.3333333333333333,
              "#9c179e"
             ],
             [
              0.4444444444444444,
              "#bd3786"
             ],
             [
              0.5555555555555556,
              "#d8576b"
             ],
             [
              0.6666666666666666,
              "#ed7953"
             ],
             [
              0.7777777777777778,
              "#fb9f3a"
             ],
             [
              0.8888888888888888,
              "#fdca26"
             ],
             [
              1.0,
              "#f0f921"
             ]
            ]
           }
          ],
          "surface": [
           {
            "type": "surface",
            "colorbar": {
             "outlinewidth": 0,
             "ticks": ""
            },
            "colorscale": [
             [
              0.0,
              "#0d0887"
             ],
             [
              0.1111111111111111,
              "#46039f"
             ],
             [
              0.2222222222222222,
              "#7201a8"
             ],
             [
              0.3333333333333333,
              "#9c179e"
             ],
             [
              0.4444444444444444,
              "#bd3786"
             ],
             [
              0.5555555555555556,
              "#d8576b"
             ],
             [
              0.6666666666666666,
              "#ed7953"
             ],
             [
              0.7777777777777778,
              "#fb9f3a"
             ],
             [
              0.8888888888888888,
              "#fdca26"
             ],
             [
              1.0,
              "#f0f921"
             ]
            ]
           }
          ],
          "mesh3d": [
           {
            "type": "mesh3d",
            "colorbar": {
             "outlinewidth": 0,
             "ticks": ""
            }
           }
          ],
          "scatter": [
           {
            "fillpattern": {
             "fillmode": "overlay",
             "size": 10,
             "solidity": 0.2
            },
            "type": "scatter"
           }
          ],
          "parcoords": [
           {
            "type": "parcoords",
            "line": {
             "colorbar": {
              "outlinewidth": 0,
              "ticks": ""
             }
            }
           }
          ],
          "scatterpolargl": [
           {
            "type": "scatterpolargl",
            "marker": {
             "colorbar": {
              "outlinewidth": 0,
              "ticks": ""
             }
            }
           }
          ],
          "bar": [
           {
            "error_x": {
             "color": "#2a3f5f"
            },
            "error_y": {
             "color": "#2a3f5f"
            },
            "marker": {
             "line": {
              "color": "#E5ECF6",
              "width": 0.5
             },
             "pattern": {
              "fillmode": "overlay",
              "size": 10,
              "solidity": 0.2
             }
            },
            "type": "bar"
           }
          ],
          "scattergeo": [
           {
            "type": "scattergeo",
            "marker": {
             "colorbar": {
              "outlinewidth": 0,
              "ticks": ""
             }
            }
           }
          ],
          "scatterpolar": [
           {
            "type": "scatterpolar",
            "marker": {
             "colorbar": {
              "outlinewidth": 0,
              "ticks": ""
             }
            }
           }
          ],
          "histogram": [
           {
            "marker": {
             "pattern": {
              "fillmode": "overlay",
              "size": 10,
              "solidity": 0.2
             }
            },
            "type": "histogram"
           }
          ],
          "scattergl": [
           {
            "type": "scattergl",
            "marker": {
             "colorbar": {
              "outlinewidth": 0,
              "ticks": ""
             }
            }
           }
          ],
          "scatter3d": [
           {
            "type": "scatter3d",
            "line": {
             "colorbar": {
              "outlinewidth": 0,
              "ticks": ""
             }
            },
            "marker": {
             "colorbar": {
              "outlinewidth": 0,
              "ticks": ""
             }
            }
           }
          ],
          "scattermapbox": [
           {
            "type": "scattermapbox",
            "marker": {
             "colorbar": {
              "outlinewidth": 0,
              "ticks": ""
             }
            }
           }
          ],
          "scatterternary": [
           {
            "type": "scatterternary",
            "marker": {
             "colorbar": {
              "outlinewidth": 0,
              "ticks": ""
             }
            }
           }
          ],
          "scattercarpet": [
           {
            "type": "scattercarpet",
            "marker": {
             "colorbar": {
              "outlinewidth": 0,
              "ticks": ""
             }
            }
           }
          ],
          "carpet": [
           {
            "aaxis": {
             "endlinecolor": "#2a3f5f",
             "gridcolor": "white",
             "linecolor": "white",
             "minorgridcolor": "white",
             "startlinecolor": "#2a3f5f"
            },
            "baxis": {
             "endlinecolor": "#2a3f5f",
             "gridcolor": "white",
             "linecolor": "white",
             "minorgridcolor": "white",
             "startlinecolor": "#2a3f5f"
            },
            "type": "carpet"
           }
          ],
          "table": [
           {
            "cells": {
             "fill": {
              "color": "#EBF0F8"
             },
             "line": {
              "color": "white"
             }
            },
            "header": {
             "fill": {
              "color": "#C8D4E3"
             },
             "line": {
              "color": "white"
             }
            },
            "type": "table"
           }
          ],
          "barpolar": [
           {
            "marker": {
             "line": {
              "color": "#E5ECF6",
              "width": 0.5
             },
             "pattern": {
              "fillmode": "overlay",
              "size": 10,
              "solidity": 0.2
             }
            },
            "type": "barpolar"
           }
          ],
          "pie": [
           {
            "automargin": true,
            "type": "pie"
           }
          ]
         },
         "layout": {
          "autotypenumbers": "strict",
          "colorway": [
           "#636efa",
           "#EF553B",
           "#00cc96",
           "#ab63fa",
           "#FFA15A",
           "#19d3f3",
           "#FF6692",
           "#B6E880",
           "#FF97FF",
           "#FECB52"
          ],
          "font": {
           "color": "#2a3f5f"
          },
          "hovermode": "closest",
          "hoverlabel": {
           "align": "left"
          },
          "paper_bgcolor": "white",
          "plot_bgcolor": "#E5ECF6",
          "polar": {
           "bgcolor": "#E5ECF6",
           "angularaxis": {
            "gridcolor": "white",
            "linecolor": "white",
            "ticks": ""
           },
           "radialaxis": {
            "gridcolor": "white",
            "linecolor": "white",
            "ticks": ""
           }
          },
          "ternary": {
           "bgcolor": "#E5ECF6",
           "aaxis": {
            "gridcolor": "white",
            "linecolor": "white",
            "ticks": ""
           },
           "baxis": {
            "gridcolor": "white",
            "linecolor": "white",
            "ticks": ""
           },
           "caxis": {
            "gridcolor": "white",
            "linecolor": "white",
            "ticks": ""
           }
          },
          "coloraxis": {
           "colorbar": {
            "outlinewidth": 0,
            "ticks": ""
           }
          },
          "colorscale": {
           "sequential": [
            [
             0.0,
             "#0d0887"
            ],
            [
             0.1111111111111111,
             "#46039f"
            ],
            [
             0.2222222222222222,
             "#7201a8"
            ],
            [
             0.3333333333333333,
             "#9c179e"
            ],
            [
             0.4444444444444444,
             "#bd3786"
            ],
            [
             0.5555555555555556,
             "#d8576b"
            ],
            [
             0.6666666666666666,
             "#ed7953"
            ],
            [
             0.7777777777777778,
             "#fb9f3a"
            ],
            [
             0.8888888888888888,
             "#fdca26"
            ],
            [
             1.0,
             "#f0f921"
            ]
           ],
           "sequentialminus": [
            [
             0.0,
             "#0d0887"
            ],
            [
             0.1111111111111111,
             "#46039f"
            ],
            [
             0.2222222222222222,
             "#7201a8"
            ],
            [
             0.3333333333333333,
             "#9c179e"
            ],
            [
             0.4444444444444444,
             "#bd3786"
            ],
            [
             0.5555555555555556,
             "#d8576b"
            ],
            [
             0.6666666666666666,
             "#ed7953"
            ],
            [
             0.7777777777777778,
             "#fb9f3a"
            ],
            [
             0.8888888888888888,
             "#fdca26"
            ],
            [
             1.0,
             "#f0f921"
            ]
           ],
           "diverging": [
            [
             0,
             "#8e0152"
            ],
            [
             0.1,
             "#c51b7d"
            ],
            [
             0.2,
             "#de77ae"
            ],
            [
             0.3,
             "#f1b6da"
            ],
            [
             0.4,
             "#fde0ef"
            ],
            [
             0.5,
             "#f7f7f7"
            ],
            [
             0.6,
             "#e6f5d0"
            ],
            [
             0.7,
             "#b8e186"
            ],
            [
             0.8,
             "#7fbc41"
            ],
            [
             0.9,
             "#4d9221"
            ],
            [
             1,
             "#276419"
            ]
           ]
          },
          "xaxis": {
           "gridcolor": "white",
           "linecolor": "white",
           "ticks": "",
           "title": {
            "standoff": 15
           },
           "zerolinecolor": "white",
           "automargin": true,
           "zerolinewidth": 2
          },
          "yaxis": {
           "gridcolor": "white",
           "linecolor": "white",
           "ticks": "",
           "title": {
            "standoff": 15
           },
           "zerolinecolor": "white",
           "automargin": true,
           "zerolinewidth": 2
          },
          "scene": {
           "xaxis": {
            "backgroundcolor": "#E5ECF6",
            "gridcolor": "white",
            "linecolor": "white",
            "showbackground": true,
            "ticks": "",
            "zerolinecolor": "white",
            "gridwidth": 2
           },
           "yaxis": {
            "backgroundcolor": "#E5ECF6",
            "gridcolor": "white",
            "linecolor": "white",
            "showbackground": true,
            "ticks": "",
            "zerolinecolor": "white",
            "gridwidth": 2
           },
           "zaxis": {
            "backgroundcolor": "#E5ECF6",
            "gridcolor": "white",
            "linecolor": "white",
            "showbackground": true,
            "ticks": "",
            "zerolinecolor": "white",
            "gridwidth": 2
           }
          },
          "shapedefaults": {
           "line": {
            "color": "#2a3f5f"
           }
          },
          "annotationdefaults": {
           "arrowcolor": "#2a3f5f",
           "arrowhead": 0,
           "arrowwidth": 1
          },
          "geo": {
           "bgcolor": "white",
           "landcolor": "#E5ECF6",
           "subunitcolor": "white",
           "showland": true,
           "showlakes": true,
           "lakecolor": "white"
          },
          "title": {
           "x": 0.05
          },
          "mapbox": {
           "style": "light"
          }
         }
        },
        "xaxis": {
         "anchor": "y",
         "domain": [
          0.0,
          1.0
         ],
         "title": {
          "text": "Publisher"
         }
        },
        "yaxis": {
         "anchor": "x",
         "domain": [
          0.0,
          1.0
         ],
         "title": {
          "text": "Frequency"
         }
        },
        "legend": {
         "tracegroupgap": 0
        },
        "title": {
         "text": "Frequency distribution of publishers in comm. 1"
        },
        "barmode": "relative",
        "bargap": 0.3
       },
       "config": {
        "plotlyServerURL": "https://plot.ly"
       }
      },
      "text/html": "<div>                            <div id=\"685c86b0-4ae9-4e67-951b-80a5805b10d7\" class=\"plotly-graph-div\" style=\"height:525px; width:100%;\"></div>            <script type=\"text/javascript\">                require([\"plotly\"], function(Plotly) {                    window.PLOTLYENV=window.PLOTLYENV || {};                                    if (document.getElementById(\"685c86b0-4ae9-4e67-951b-80a5805b10d7\")) {                    Plotly.newPlot(                        \"685c86b0-4ae9-4e67-951b-80a5805b10d7\",                        [{\"alignmentgroup\":\"True\",\"hovertemplate\":\"Publisher=%{x}<br>Frequency=%{y}<extra></extra>\",\"legendgroup\":\"\",\"marker\":{\"color\":\"#636efa\",\"pattern\":{\"shape\":\"\"}},\"name\":\"\",\"offsetgroup\":\"\",\"orientation\":\"v\",\"showlegend\":false,\"textposition\":\"auto\",\"x\":[\"Babalibri\",\"Terre di Mezzo\",\"Orecchio Acerbo\",\"Mondadori\",\"Lapis\",\"L'Ippocampo Ragazzi\",\"Il Castoro\",\"Salani\",\"Einaudi Ragazzi\",\"Emme Edizioni\",\"Rizzoli\",\"Gallucci\",\"TopiPittori\",\"Camelozampa\",\"Editoriale Scienza\",\"Sinnos\",\"Logos\",\"Piemme\",\"Tunu\\u00e9\",\"Sassi\",\"L'Ippocampo\",\"Franco Cosimo Panini\",\"La Margherita\",\"EL\",\"Fatatrac\",\"Pelledoca Editore\",\"La Nuova Frontiera Junior\",\"Zoolibri\",\"Settenove\",\"Giunti Editore\",\"Iperborea\",\"Feltrinelli\",\"Gribaudo\",\"Nord-Sud\",\"Beisler\",\"minibombo\",\"LupoGuido\",\"Pulce\",\"EDT-Giralangolo\",\"BUR Biblioteca Univ. Rizzoli\",\"Edizioni Clichy\",\"IdeeAli\",\"Donzelli\",\"De Agostini\",\"Fabbri\",\"Kite\",\"Uovonero\",\"Bompiani\",\"Carthusia\",\"Bohem Press Italia\",\"Corraini\",\"HarperCollins Italia\",\"Einaudi\",\"White Star\",\"Mondadori Electa\",\"Glifo\",\"Il Barbagianni\",\"Magazzini Salani\",\"Sperling & Kupfer\",\"Adelphi\",\"Bottega Errante Edizioni\",\"Coccole Books\",\"La Coccinella\",\"Bao Publishing\",\"Kalandraka Italia\",\"Valentina Edizioni\",\"Erickson\",\"Bacchilega Editore\",\"VerbaVolant edizioni\",\"Read Red Road\",\"Edizioni Corsare\",\"Garzanti\",\"Blackie\",\"Sonda\",\"Nomos Edizioni\",\"E/O\",\"Fazi\",\"Bibliolibr\\u00f2\",\"Jaca Book\",\"Guanda\",\"EGA-Edizioni Gruppo Abele\",\"Palombi Editori\",\"Academia Universa Press\",\"Splen\",\"Lemniscaat\",\"Il Gioco di Leggere\",\"Lavieri\",\"Biancoenero\",\"Edizioni del Borgo\",\"Clavis\",\"Emons Edizioni\",\"La Nuova Frontiera\",\"Solferino\",\"San Paolo Edizioni\",\"TEA\",\"Marcos y Marcos\",\"Albe Edizioni\",\"Goodfellas\",\"Marameo\",\"Arka\",\"Picarona Italia\",\"Pulci Volanti\",\"Il Ciliegio\",\"Libreria della Natura\",\"Marsilio\",\"Nord\",\"Neri Pozza\",\"Tlon\",\"Il Castello\",\"Minimum Fax\",\"Il Leone Verde\",\"Nuinui\",\"Nube Ocho\",\"Hoepli\",\"Becco Giallo\",\"Vallardi A.\",\"ABEditore\",\"Corbaccio\",\"ADD Editore\",\"Pane e Sale\",\"Laterza\",\"Typimedia Editore\",\"QB Quanto Basta\",\"Interlinea\",\"Rizzoli Lizard\",\"Red Edizioni\",\"Equilibri Editrice\",\"Matti da rilegare\",\"Officina Libraria\",\"Ape Junior\",\"Artebambini\",\"Pacini Fazzi\",\"Curci\",\"KM\",\"La Memoria del Mondo\",\"Ponte alle Grazie\",\"NN Editore\",\"Eris\",\"Il Mulino\",\"Sur\",\"Abendstern\",\"Edizioni Black Coffee\",\"Quodlibet\",\"La Corte Editore\",\"Moscabianca Edizioni\",\"Jimenez\",\"Quinto Quarto\",\"Mangasenpai\",\"L'orma\",\"Taschen\",\"Lizard\",\"Nuove Esperienze\",\"La nave di Teseo\",\"Fanucci\",\"Mimesis\",\"EDT\",\"Ledizioni\",\"Cento Autori\",\"Edizioni BD\",\"Villaggio Maori\",\"CasaSirio\",\"Longanesi\",\"Ugo Mursia Editore\",\"Absolutely Free\",\"Accademia Vivarium Novum\",\"Phaidon\",\"Touring Junior\",\"Raffaello Ragazzi\",\"Didattica Attiva\",\"Federighi\",\"I Girasogni\",\"Piccola Casa Editrice\",\"CSA Editrice\",\"Morellini\",\"Shockdom\",\"Giazira Scritture\",\"Il Saggiatore\",\"Slow Food\",\"V\\u00e0nvere\",\"Pension Lepic\",\"MalEdizioni\",\"Fragatina\",\"Citt\\u00e0 Nuova\",\"Scalpendi\",\"Ediciclo\",\"Atmosphere Libri\",\"Mnamon\",\"Coconino Press\",\"Giuntina\",\"La Grande Illusion\",\"Else Edizioni\",\"Bollati Boringhieri\",\"UTET\",\"Lussografica\",\"Kira Kira\",\"Junior\",\"Editrice Bibliografica\",\"Usborne Publishing\",\"Demetra\",\"Edizioni del Baldo\",\"Giunti Junior\",\"Caissa Italia\",\"Pacini Editore\",\"Manni\",\"Barta\",\"AnimaMundi edizioni\",\"Rueballu\",\"Leggere Controvento\",\"Notes Edizioni\",\"Susalibri\",\"Newton Compton Editori\",\"SABIR\",\"Anfora\",\"Ideestortepaper\",\"Il Palindromo\",\"Di Scaranari\",\"L'Asino d'Oro\",\"Dei Merangoli Editrice\",\"Buk Buk\",\"Lo Stampatello\",\"De Ferrari\",\"Caosfera\",\"Tomolo\",\"Contrasto\"],\"xaxis\":\"x\",\"y\":[100,79,75,69,64,62,61,49,41,40,39,39,37,37,32,30,28,24,24,24,23,22,22,21,20,19,18,18,18,15,15,14,14,14,14,13,13,13,13,12,12,12,12,11,11,10,10,10,10,10,10,8,8,8,7,7,7,7,6,6,6,6,6,5,5,5,5,5,5,5,4,4,4,4,4,4,4,4,4,4,4,4,4,4,4,4,4,4,4,3,3,3,3,3,3,3,3,3,3,3,3,3,3,3,2,2,2,2,2,2,2,2,2,2,2,2,2,2,2,2,2,2,2,2,2,2,2,2,2,2,2,2,2,2,2,2,1,1,1,1,1,1,1,1,1,1,1,1,1,1,1,1,1,1,1,1,1,1,1,1,1,1,1,1,1,1,1,1,1,1,1,1,1,1,1,1,1,1,1,1,1,1,1,1,1,1,1,1,1,1,1,1,1,1,1,1,1,1,1,1,1,1,1,1,1,1,1,1,1,1,1,1,1,1,1,1,1,1,1,1,1,1,1,1],\"yaxis\":\"y\",\"type\":\"bar\"}],                        {\"template\":{\"data\":{\"histogram2dcontour\":[{\"type\":\"histogram2dcontour\",\"colorbar\":{\"outlinewidth\":0,\"ticks\":\"\"},\"colorscale\":[[0.0,\"#0d0887\"],[0.1111111111111111,\"#46039f\"],[0.2222222222222222,\"#7201a8\"],[0.3333333333333333,\"#9c179e\"],[0.4444444444444444,\"#bd3786\"],[0.5555555555555556,\"#d8576b\"],[0.6666666666666666,\"#ed7953\"],[0.7777777777777778,\"#fb9f3a\"],[0.8888888888888888,\"#fdca26\"],[1.0,\"#f0f921\"]]}],\"choropleth\":[{\"type\":\"choropleth\",\"colorbar\":{\"outlinewidth\":0,\"ticks\":\"\"}}],\"histogram2d\":[{\"type\":\"histogram2d\",\"colorbar\":{\"outlinewidth\":0,\"ticks\":\"\"},\"colorscale\":[[0.0,\"#0d0887\"],[0.1111111111111111,\"#46039f\"],[0.2222222222222222,\"#7201a8\"],[0.3333333333333333,\"#9c179e\"],[0.4444444444444444,\"#bd3786\"],[0.5555555555555556,\"#d8576b\"],[0.6666666666666666,\"#ed7953\"],[0.7777777777777778,\"#fb9f3a\"],[0.8888888888888888,\"#fdca26\"],[1.0,\"#f0f921\"]]}],\"heatmap\":[{\"type\":\"heatmap\",\"colorbar\":{\"outlinewidth\":0,\"ticks\":\"\"},\"colorscale\":[[0.0,\"#0d0887\"],[0.1111111111111111,\"#46039f\"],[0.2222222222222222,\"#7201a8\"],[0.3333333333333333,\"#9c179e\"],[0.4444444444444444,\"#bd3786\"],[0.5555555555555556,\"#d8576b\"],[0.6666666666666666,\"#ed7953\"],[0.7777777777777778,\"#fb9f3a\"],[0.8888888888888888,\"#fdca26\"],[1.0,\"#f0f921\"]]}],\"heatmapgl\":[{\"type\":\"heatmapgl\",\"colorbar\":{\"outlinewidth\":0,\"ticks\":\"\"},\"colorscale\":[[0.0,\"#0d0887\"],[0.1111111111111111,\"#46039f\"],[0.2222222222222222,\"#7201a8\"],[0.3333333333333333,\"#9c179e\"],[0.4444444444444444,\"#bd3786\"],[0.5555555555555556,\"#d8576b\"],[0.6666666666666666,\"#ed7953\"],[0.7777777777777778,\"#fb9f3a\"],[0.8888888888888888,\"#fdca26\"],[1.0,\"#f0f921\"]]}],\"contourcarpet\":[{\"type\":\"contourcarpet\",\"colorbar\":{\"outlinewidth\":0,\"ticks\":\"\"}}],\"contour\":[{\"type\":\"contour\",\"colorbar\":{\"outlinewidth\":0,\"ticks\":\"\"},\"colorscale\":[[0.0,\"#0d0887\"],[0.1111111111111111,\"#46039f\"],[0.2222222222222222,\"#7201a8\"],[0.3333333333333333,\"#9c179e\"],[0.4444444444444444,\"#bd3786\"],[0.5555555555555556,\"#d8576b\"],[0.6666666666666666,\"#ed7953\"],[0.7777777777777778,\"#fb9f3a\"],[0.8888888888888888,\"#fdca26\"],[1.0,\"#f0f921\"]]}],\"surface\":[{\"type\":\"surface\",\"colorbar\":{\"outlinewidth\":0,\"ticks\":\"\"},\"colorscale\":[[0.0,\"#0d0887\"],[0.1111111111111111,\"#46039f\"],[0.2222222222222222,\"#7201a8\"],[0.3333333333333333,\"#9c179e\"],[0.4444444444444444,\"#bd3786\"],[0.5555555555555556,\"#d8576b\"],[0.6666666666666666,\"#ed7953\"],[0.7777777777777778,\"#fb9f3a\"],[0.8888888888888888,\"#fdca26\"],[1.0,\"#f0f921\"]]}],\"mesh3d\":[{\"type\":\"mesh3d\",\"colorbar\":{\"outlinewidth\":0,\"ticks\":\"\"}}],\"scatter\":[{\"fillpattern\":{\"fillmode\":\"overlay\",\"size\":10,\"solidity\":0.2},\"type\":\"scatter\"}],\"parcoords\":[{\"type\":\"parcoords\",\"line\":{\"colorbar\":{\"outlinewidth\":0,\"ticks\":\"\"}}}],\"scatterpolargl\":[{\"type\":\"scatterpolargl\",\"marker\":{\"colorbar\":{\"outlinewidth\":0,\"ticks\":\"\"}}}],\"bar\":[{\"error_x\":{\"color\":\"#2a3f5f\"},\"error_y\":{\"color\":\"#2a3f5f\"},\"marker\":{\"line\":{\"color\":\"#E5ECF6\",\"width\":0.5},\"pattern\":{\"fillmode\":\"overlay\",\"size\":10,\"solidity\":0.2}},\"type\":\"bar\"}],\"scattergeo\":[{\"type\":\"scattergeo\",\"marker\":{\"colorbar\":{\"outlinewidth\":0,\"ticks\":\"\"}}}],\"scatterpolar\":[{\"type\":\"scatterpolar\",\"marker\":{\"colorbar\":{\"outlinewidth\":0,\"ticks\":\"\"}}}],\"histogram\":[{\"marker\":{\"pattern\":{\"fillmode\":\"overlay\",\"size\":10,\"solidity\":0.2}},\"type\":\"histogram\"}],\"scattergl\":[{\"type\":\"scattergl\",\"marker\":{\"colorbar\":{\"outlinewidth\":0,\"ticks\":\"\"}}}],\"scatter3d\":[{\"type\":\"scatter3d\",\"line\":{\"colorbar\":{\"outlinewidth\":0,\"ticks\":\"\"}},\"marker\":{\"colorbar\":{\"outlinewidth\":0,\"ticks\":\"\"}}}],\"scattermapbox\":[{\"type\":\"scattermapbox\",\"marker\":{\"colorbar\":{\"outlinewidth\":0,\"ticks\":\"\"}}}],\"scatterternary\":[{\"type\":\"scatterternary\",\"marker\":{\"colorbar\":{\"outlinewidth\":0,\"ticks\":\"\"}}}],\"scattercarpet\":[{\"type\":\"scattercarpet\",\"marker\":{\"colorbar\":{\"outlinewidth\":0,\"ticks\":\"\"}}}],\"carpet\":[{\"aaxis\":{\"endlinecolor\":\"#2a3f5f\",\"gridcolor\":\"white\",\"linecolor\":\"white\",\"minorgridcolor\":\"white\",\"startlinecolor\":\"#2a3f5f\"},\"baxis\":{\"endlinecolor\":\"#2a3f5f\",\"gridcolor\":\"white\",\"linecolor\":\"white\",\"minorgridcolor\":\"white\",\"startlinecolor\":\"#2a3f5f\"},\"type\":\"carpet\"}],\"table\":[{\"cells\":{\"fill\":{\"color\":\"#EBF0F8\"},\"line\":{\"color\":\"white\"}},\"header\":{\"fill\":{\"color\":\"#C8D4E3\"},\"line\":{\"color\":\"white\"}},\"type\":\"table\"}],\"barpolar\":[{\"marker\":{\"line\":{\"color\":\"#E5ECF6\",\"width\":0.5},\"pattern\":{\"fillmode\":\"overlay\",\"size\":10,\"solidity\":0.2}},\"type\":\"barpolar\"}],\"pie\":[{\"automargin\":true,\"type\":\"pie\"}]},\"layout\":{\"autotypenumbers\":\"strict\",\"colorway\":[\"#636efa\",\"#EF553B\",\"#00cc96\",\"#ab63fa\",\"#FFA15A\",\"#19d3f3\",\"#FF6692\",\"#B6E880\",\"#FF97FF\",\"#FECB52\"],\"font\":{\"color\":\"#2a3f5f\"},\"hovermode\":\"closest\",\"hoverlabel\":{\"align\":\"left\"},\"paper_bgcolor\":\"white\",\"plot_bgcolor\":\"#E5ECF6\",\"polar\":{\"bgcolor\":\"#E5ECF6\",\"angularaxis\":{\"gridcolor\":\"white\",\"linecolor\":\"white\",\"ticks\":\"\"},\"radialaxis\":{\"gridcolor\":\"white\",\"linecolor\":\"white\",\"ticks\":\"\"}},\"ternary\":{\"bgcolor\":\"#E5ECF6\",\"aaxis\":{\"gridcolor\":\"white\",\"linecolor\":\"white\",\"ticks\":\"\"},\"baxis\":{\"gridcolor\":\"white\",\"linecolor\":\"white\",\"ticks\":\"\"},\"caxis\":{\"gridcolor\":\"white\",\"linecolor\":\"white\",\"ticks\":\"\"}},\"coloraxis\":{\"colorbar\":{\"outlinewidth\":0,\"ticks\":\"\"}},\"colorscale\":{\"sequential\":[[0.0,\"#0d0887\"],[0.1111111111111111,\"#46039f\"],[0.2222222222222222,\"#7201a8\"],[0.3333333333333333,\"#9c179e\"],[0.4444444444444444,\"#bd3786\"],[0.5555555555555556,\"#d8576b\"],[0.6666666666666666,\"#ed7953\"],[0.7777777777777778,\"#fb9f3a\"],[0.8888888888888888,\"#fdca26\"],[1.0,\"#f0f921\"]],\"sequentialminus\":[[0.0,\"#0d0887\"],[0.1111111111111111,\"#46039f\"],[0.2222222222222222,\"#7201a8\"],[0.3333333333333333,\"#9c179e\"],[0.4444444444444444,\"#bd3786\"],[0.5555555555555556,\"#d8576b\"],[0.6666666666666666,\"#ed7953\"],[0.7777777777777778,\"#fb9f3a\"],[0.8888888888888888,\"#fdca26\"],[1.0,\"#f0f921\"]],\"diverging\":[[0,\"#8e0152\"],[0.1,\"#c51b7d\"],[0.2,\"#de77ae\"],[0.3,\"#f1b6da\"],[0.4,\"#fde0ef\"],[0.5,\"#f7f7f7\"],[0.6,\"#e6f5d0\"],[0.7,\"#b8e186\"],[0.8,\"#7fbc41\"],[0.9,\"#4d9221\"],[1,\"#276419\"]]},\"xaxis\":{\"gridcolor\":\"white\",\"linecolor\":\"white\",\"ticks\":\"\",\"title\":{\"standoff\":15},\"zerolinecolor\":\"white\",\"automargin\":true,\"zerolinewidth\":2},\"yaxis\":{\"gridcolor\":\"white\",\"linecolor\":\"white\",\"ticks\":\"\",\"title\":{\"standoff\":15},\"zerolinecolor\":\"white\",\"automargin\":true,\"zerolinewidth\":2},\"scene\":{\"xaxis\":{\"backgroundcolor\":\"#E5ECF6\",\"gridcolor\":\"white\",\"linecolor\":\"white\",\"showbackground\":true,\"ticks\":\"\",\"zerolinecolor\":\"white\",\"gridwidth\":2},\"yaxis\":{\"backgroundcolor\":\"#E5ECF6\",\"gridcolor\":\"white\",\"linecolor\":\"white\",\"showbackground\":true,\"ticks\":\"\",\"zerolinecolor\":\"white\",\"gridwidth\":2},\"zaxis\":{\"backgroundcolor\":\"#E5ECF6\",\"gridcolor\":\"white\",\"linecolor\":\"white\",\"showbackground\":true,\"ticks\":\"\",\"zerolinecolor\":\"white\",\"gridwidth\":2}},\"shapedefaults\":{\"line\":{\"color\":\"#2a3f5f\"}},\"annotationdefaults\":{\"arrowcolor\":\"#2a3f5f\",\"arrowhead\":0,\"arrowwidth\":1},\"geo\":{\"bgcolor\":\"white\",\"landcolor\":\"#E5ECF6\",\"subunitcolor\":\"white\",\"showland\":true,\"showlakes\":true,\"lakecolor\":\"white\"},\"title\":{\"x\":0.05},\"mapbox\":{\"style\":\"light\"}}},\"xaxis\":{\"anchor\":\"y\",\"domain\":[0.0,1.0],\"title\":{\"text\":\"Publisher\"}},\"yaxis\":{\"anchor\":\"x\",\"domain\":[0.0,1.0],\"title\":{\"text\":\"Frequency\"}},\"legend\":{\"tracegroupgap\":0},\"title\":{\"text\":\"Frequency distribution of publishers in comm. 1\"},\"barmode\":\"relative\",\"bargap\":0.3},                        {\"responsive\": true}                    ).then(function(){\n                            \nvar gd = document.getElementById('685c86b0-4ae9-4e67-951b-80a5805b10d7');\nvar x = new MutationObserver(function (mutations, observer) {{\n        var display = window.getComputedStyle(gd).display;\n        if (!display || display === 'none') {{\n            console.log([gd, 'removed!']);\n            Plotly.purge(gd);\n            observer.disconnect();\n        }}\n}});\n\n// Listen for the removal of the full notebook cells\nvar notebookContainer = gd.closest('#notebook-container');\nif (notebookContainer) {{\n    x.observe(notebookContainer, {childList: true});\n}}\n\n// Listen for the clearing of the current output cell\nvar outputEl = gd.closest('.output');\nif (outputEl) {{\n    x.observe(outputEl, {childList: true});\n}}\n\n                        })                };                });            </script>        </div>"
     },
     "metadata": {},
     "output_type": "display_data"
    }
   ],
   "source": [
    "#distribution per frequency\n",
    "PublisherFreq = pd.DataFrame(columns=['Publisher', 'Frequency'])\n",
    "for count, el in enumerate(cntPub.most_common()):\n",
    "    new_row = {'Publisher': el[0], 'Frequency': el[1]}\n",
    "    PublisherFreq = PublisherFreq.append(new_row, ignore_index=True)\n",
    "\n",
    "fig11 = px.bar(PublisherFreq, x=\"Publisher\", y=\"Frequency\", title = 'Frequency distribution of publishers in comm. 1')\n",
    "fig11.update_layout(bargap=0.3)\n",
    "fig11.show()"
   ],
   "metadata": {
    "collapsed": false,
    "pycharm": {
     "name": "#%%\n"
    }
   }
  },
  {
   "cell_type": "code",
   "execution_count": 667,
   "outputs": [
    {
     "data": {
      "application/vnd.plotly.v1+json": {
       "data": [
        {
         "alignmentgroup": "True",
         "hovertemplate": "Publisher=%{x}<br>Frequency=%{y}<extra></extra>",
         "legendgroup": "",
         "marker": {
          "color": "#636efa",
          "pattern": {
           "shape": ""
          }
         },
         "name": "",
         "offsetgroup": "",
         "orientation": "v",
         "showlegend": false,
         "textposition": "auto",
         "x": [
          "Einaudi",
          "Mondadori",
          "Adelphi",
          "Feltrinelli",
          "Rizzoli",
          "Bompiani",
          "Salani",
          "Babalibri",
          "Terre di Mezzo",
          "Il Saggiatore",
          "Minimum Fax",
          "Il Castoro",
          "Iperborea",
          "Orecchio Acerbo",
          "E/O",
          "Sellerio Editore Palermo",
          "La nave di Teseo",
          "Neri Pozza",
          "Giunti Editore",
          "Piemme",
          "Laterza",
          "L'Ippocampo",
          "Einaudi Ragazzi",
          "Lapis",
          "TopiPittori",
          "Fazi",
          "Garzanti",
          "Sur",
          "Camelozampa",
          "Coconino Press",
          "L'Ippocampo Ragazzi",
          "Gallucci",
          "Marcos y Marcos",
          "BUR Biblioteca Univ. Rizzoli",
          "Emme Edizioni",
          "NN Editore",
          "Guanda",
          "Quodlibet",
          "Nottetempo",
          "L'orma",
          "Marsilio",
          "Sassi",
          "Gribaudo",
          "Rubbettino",
          "Bao Publishing",
          "Fandango Libri",
          "66thand2nd",
          "Sperling & Kupfer",
          "Tunué",
          "Keller",
          "Solferino",
          "Longanesi",
          "Ponte alle Grazie",
          "Corraini",
          "Editoriale Scienza",
          "Bollati Boringhieri",
          "Pellegrini",
          "Edizioni Clichy",
          "Newton Compton Editori",
          "Sinnos",
          "De Agostini",
          "ADD Editore",
          "AnimaMundi edizioni",
          "Franco Cosimo Panini",
          "TEA",
          "Perrone",
          "Hoepli",
          "Mondadori Electa",
          "Donzelli",
          "Voland",
          "Bottega Errante Edizioni",
          "BEAT",
          "Logos",
          "Nutrimenti",
          "HarperCollins Italia",
          "Il Mulino",
          "Miraggi Edizioni",
          "Rizzoli Lizard",
          "Atlantide (Roma)",
          "Magazzini Salani",
          "La Nuova Frontiera",
          "Edizioni Black Coffee",
          "La Nuova Frontiera Junior",
          "People",
          "Eris",
          "EL",
          "Raffaello",
          "Fatatrac",
          "La Margherita",
          "Effequ",
          "Les Flâneurs Edizioni",
          "Alter Ego",
          "Racconti",
          "Corbaccio",
          "Contrasto",
          "Panini Comics",
          "LupoGuido",
          "Zoolibri",
          "Settenove",
          "Ediciclo",
          "Exòrma",
          "Edizioni Alegre",
          "Baldini + Castoldi",
          "Elèuthera",
          "EDT-Giralangolo",
          "Mattioli 1885",
          "Splen",
          "Neo Edizioni",
          "Becco Giallo",
          "Johan & Levi",
          "Edicola Ediciones",
          "Edizioni BD",
          "SEM",
          "Nord-Sud",
          "Mimesis",
          "Nord",
          "Beisler",
          "Kite",
          "Pelledoca Editore",
          "UTET",
          "Oblomov Edizioni",
          "Pulce",
          "IdeeAli",
          "Cliquot",
          "Blackie",
          "minibombo",
          "Lavieri",
          "D Editore",
          "Editoriale Programma",
          "Safarà Editore",
          "Carthusia",
          "Arkadia",
          "Fabbri",
          "LiberAria Editrice",
          "San Paolo Edizioni",
          "Crealibri",
          "Città del Sole Edizioni",
          "Uovonero",
          "ABEditore",
          "Emons Edizioni",
          "Pidgin Edizioni",
          "Alessandro Polidoro Editore",
          "Edizioni della Sera",
          "CasaSirio",
          "Franco Angeli",
          "NeP edizioni",
          "Nuove Edizioni Barbaro",
          "Jimenez",
          "Nomos Edizioni",
          "EGA-Edizioni Gruppo Abele",
          "Centauria",
          "gran via",
          "Erickson",
          "Humboldt Books",
          "Taschen",
          "Laruffa",
          "Blu Atlantide",
          "Tlon",
          "Produzioni Nero",
          "Wojtek",
          "Jaca Book",
          "Giuffrè",
          "Usborne Publishing",
          "Carocci",
          "Silvana",
          "Vallardi A.",
          "White Star",
          "Utopia Editore",
          "Edizioni Corsare",
          "Codice",
          "Chiarelettere",
          "Sonda",
          "Touring",
          "Elliot",
          "Hacca",
          "Ugo Mursia Editore",
          "TerraRossa",
          "Aboca Edizioni",
          "Mesogea",
          "Giometti & Antonello",
          "Cortina Raffaello",
          "Lindau",
          "La Coccinella",
          "Bacchilega Editore",
          "Bohem Press Italia",
          "Araba Fenice",
          "Coccole Books",
          "VerbaVolant edizioni",
          "Zona 42",
          "Autopubblicato",
          "Piano B",
          "Carbonio Editore",
          "EDT",
          "DeriveApprodi",
          "Wall Of Sound Editions",
          "Milieu",
          "LB Edizioni",
          "pièdimosca",
          "TRE60",
          "Giappichelli",
          "Gorilla Sapiens",
          "Arcoiris",
          "Giazira Scritture",
          "SE",
          "Mousse Publishing",
          "Abscondita",
          "Libreria Militare Editrice",
          "Papelu",
          "Il Palindromo",
          "Editoriale Romani",
          "Marotta e Cafiero",
          "Glifo",
          "21lettere",
          "Valentina Edizioni",
          "Kalandraka Italia",
          "Il Castello",
          "Ombre Corte",
          "Giuntina",
          "Langella",
          "Lonely Planet Italia",
          "Spunto Edizioni",
          "Arka",
          "Clavis",
          "Kira Kira",
          "Lunaria",
          "Italo Svevo",
          "Crocetti",
          "Ediz. del Foglio Clandestino",
          "Vànvere",
          "Neldiritto Editore",
          "Del Vecchio Editore",
          "Atmosphere Libri",
          "Il Leggio",
          "La Grande Illusion",
          "Mulatero",
          "Ape Junior",
          "Witty Kiwi Books",
          "Valigie Rosse",
          "Versante Sud",
          "Forme Libere",
          "La Vita Felice",
          "Agenzia Alcatraz",
          "Saremo Alberi. Libroteca",
          "Il Barbagianni",
          "Readerforblind",
          "Cairo",
          "Quinto Quarto",
          "Pessime idee",
          "Meltemi",
          "Prehistorica Editore",
          "Sonzogno",
          "Burritos Edizioni",
          "Timpetill",
          "Giunti Junior",
          "Star Comics",
          "Fanucci",
          "Sergio Bonelli",
          "Moretti & Vitali",
          "Edizioni Giuridiche Simone",
          "Edizioni Fogliodivia",
          "Ronzani Editore",
          "Edizioni Le Assassine",
          "Ortica Editrice",
          "Ianieri",
          "Picarona Italia",
          "Asterisco",
          "Nuinui",
          "Pendragon",
          "Astrolabio Ubaldini",
          "Ensemble",
          "Altrimedia",
          "Interno Poesia Editore",
          "Nova Millennium Romae",
          "Reggio Children",
          "Psiche 2",
          "WScuola Edizioni",
          "Colli Luigi",
          "Playground",
          "Diabolo",
          "Anfora",
          "Equilibri Editrice",
          "Santi Quaranta",
          "Biancoenero",
          "Slow Food",
          "Olschki",
          "Gemma Edizioni",
          "Biplane Edizioni",
          "Il Gioco di Leggere",
          "24 Ore Cultura",
          "GOG",
          "Lo Stampatello",
          "Edizioni degli Animali",
          "Argolibri",
          "Harmakis",
          "Bora.La",
          "bookabook",
          "Passigli",
          "Edizioni del Faro",
          "Alpine Studio",
          "Polaris",
          "Odoya",
          "Edizioni dell'Asino",
          "Red Star Press",
          "Edizioni Mille",
          "Edizioni Saecula",
          "Maggioli Editore",
          "Sime Books",
          "Venexia",
          "Tamu",
          "Read Red Road",
          "Nuova Editrice Berti",
          "Aguaplano",
          "Nube Ocho",
          "La Tribuna",
          "La Corte Editore",
          "Moscabianca Edizioni",
          "Astoria",
          "Interlinea",
          "Else Edizioni",
          "La Tartaruga",
          "ShaKe",
          "Funambolo",
          "Bibliolibrò",
          "Canicola",
          "Tarka",
          "Libreria Pienogiorno",
          "Homo Scrivens",
          "Demetra",
          "Edicart",
          "Kimerik",
          "Morellini",
          "Robin",
          "SaldaPress",
          "Pearson",
          "L'Informatore Agrario",
          "Edizioni del Capricorno",
          "Casagrande",
          "Apogeo Editore",
          "Photo Travel",
          "Albe Edizioni",
          "Hypnos",
          "Edizioni del Gattaccio",
          "Tic",
          "Pietre Vive",
          "Altrevoci Edizioni",
          "Abbot",
          "Lemniscaat",
          "La nave di Teseo +",
          "Luiss University Press",
          "EPC",
          "5 Continents Editions",
          "Marameo",
          "Rina",
          "WoM Edizioni",
          "PaperFIRST",
          "Red Edizioni",
          "Il Leone Verde",
          "Vanda Edizioni",
          "Compagnia Editoriale Aliberti",
          "Pulci Volanti",
          "Edizioni NPE",
          "Pentagora",
          "Tuga Edizioni",
          "Rusconi Libri",
          "Marietti",
          "EGEA",
          "Macro Edizioni",
          "Gruppo Albatros Il Filo",
          "8TTO Edizioni",
          "Itinera Progetti",
          "Castelvecchi",
          "Edizioni del Borgo",
          "ETS",
          "Skira",
          "Palombi Editori",
          "Stampa Alternativa",
          "Bonfirraro",
          "Curci",
          "Academia Universa Press",
          "Il Ciliegio",
          "Cento Autori",
          "Magic Press",
          "Cerchio della Luna",
          "Calabria Letteraria",
          "Betti Editrice",
          "Blu Edizioni",
          "Fusta",
          "Di Girolamo",
          "Liberty Bell",
          "Maxottantotto",
          "Battaglia",
          "Libreria della Natura",
          "Skinnerboox",
          "Agenzia X",
          "La Memoria del Mondo",
          "Ponte33",
          "CaratteriMobili",
          "edizioni del verri",
          "Galaad Edizioni",
          "PaginaUno",
          "Goodfellas",
          "Coaching Sport",
          "Virginia Edizioni",
          "Le Lucerne",
          "Tetra",
          "Ctrl",
          "Officina Libraria",
          "Raffaello Ragazzi",
          "Phaidon",
          "Treccani",
          "ROI edizioni",
          "Manni",
          "Claudiana",
          "Minerva Edizioni (Bologna)",
          "I Libri di Isbn/Guidemoizzi",
          "Il Punto d'Incontro",
          "Milena Edizioni",
          "Terra di Mezzo",
          "Le due torri",
          "Cesurapublish",
          "Ideestortepaper",
          "Zero in Condotta",
          "Spartaco",
          "Libreria Editrice Orientalia",
          "Coppola Editore",
          "Analogon",
          "Armillaria",
          "Tralerighe",
          "Lizard",
          "Aracne",
          "StreetLib",
          "Prospero Editore",
          "Mimebù",
          "Alter Erebus",
          "Effigie",
          "DIARKOS",
          "Scatole Parlanti",
          "Eretica",
          "Vita e Pensiero",
          "Time Crime",
          "451",
          "Typimedia Editore",
          "Instar Libri",
          "DeA Planeta Libri",
          "Yume",
          "De Ferrari",
          "Forma Edizioni",
          "Ledizioni",
          "Dike Giuridica Editrice",
          "Arcana",
          "TS - Terra Santa",
          "Linee Infinite",
          "Phasar Edizioni",
          "L'Airone Editrice Roma",
          "L'Asino d'Oro",
          "Pacini Fazzi",
          "Magenes",
          "Guido Tommasi Editore-Datanova",
          "L'Erudita",
          "Ghibli",
          "Rosenberg & Sellier",
          "Edizioni Della Torre",
          "Intra Moenia",
          "Centro Studi Piemontesi",
          "Edizioni Convalle",
          "Kappalab",
          "Tomolo",
          "Mare di Carta",
          "Ilisso",
          "Orthotes",
          "Shockdom",
          "Editoriale Scientifica",
          "Nessundove",
          "Edizionidellassenza",
          "Lekton",
          "Taut",
          "Radici (Capistrello)",
          "Villaggio Maori",
          "Clown Bianco Edizioni",
          "Edizioni Zerotre",
          "Della Porta",
          "Graphot",
          "Kirke",
          "Scritturapura Casa Editrice",
          "Portatori d'Acqua",
          "Spider & Fish",
          "Dei Merangoli Editrice",
          "Qudulibri",
          "Bruno (Venezia)",
          "Corponove",
          "Enciclopedia delle Donne",
          "Brioschi",
          "Rapsodia",
          "Yowras Editrice",
          "Disney Libri",
          "Rina (Roma)",
          "Pension Lepic",
          "RAUM Italic",
          "F-Libri",
          "Postcart Edizioni",
          "Corsiero Editore",
          "Edizioni Scientifiche Italiane",
          "Stilo Editrice",
          "Infinito Edizioni",
          "LibriVolanti",
          "Pacini Editore",
          "Priuli & Verlucca",
          "Oligo",
          "Federighi",
          "Aragno",
          "Digressioni Editore",
          "Rueballu",
          "Notes Edizioni",
          "Comicout",
          "Edizioni Sabinae",
          "MdS Editore",
          "Black Dog",
          "Asinelli",
          "Dami Editore",
          "Giunti-Barbera",
          "Giunti Psychometrics",
          "Liguori",
          "EMP",
          "Edizioni Mediterranee",
          "Città Nuova",
          "Venturaedizioni",
          "Intermedia Edizioni",
          "SABIR",
          "Emersioni",
          "Laurana Editore",
          "Edizioni di Comunità",
          "Gallucci Kalimat",
          "Editoria & Spettacolo",
          "Iuppiter",
          "Acheron Books",
          "Farinaeditore",
          "Il Rio",
          "Foschi (Santarcangelo)",
          "Ananda Edizioni",
          "Sillabe",
          "Pacini Giuridica",
          "Uno Editori",
          "Gedi (Gruppo Editoriale)",
          "Edises professioni & concorsi",
          "Gallucci Bros",
          "Besa muci",
          "Bertoni",
          "Pane e Sale",
          "Mauro Pagliai Editore",
          "Pequod",
          "LEG Edizioni",
          "la meridiana",
          "Mondadori Bruno",
          "Iacobellieditore",
          "Edizioni del Baldo",
          "Anima Edizioni",
          "Gribaudi",
          "Biblioteca dell'Immagine",
          "Edizioni Artestampa",
          "Altreconomia",
          "Zecchini",
          "Renoir Comics",
          "Neos Edizioni",
          "Kellermann Editore",
          "Guerini Next",
          "Sedizioni",
          "Editoriale Cosmo",
          "nuovadimensione",
          "O Barra O Edizioni",
          "Salerno",
          "Italic",
          "Il Nuovo Melangolo",
          "Gli Ori",
          "Audino",
          "Scuola Normale Superiore",
          "Nuova IPSA",
          "Arcipelago Edizioni",
          "Ares",
          "Qiqajon",
          "Bietti",
          "Affinità Elettive",
          "Idea Montagna Edizioni",
          "Masciulli Edizioni",
          "EFG",
          "Golem Edizioni",
          "A+MBookstore",
          "Parodi",
          "Il Ponte del Sale",
          "Studio Michelangelo",
          "Erreci (Bologna)",
          "Abax",
          "Edizioni dell'Urogallo",
          "Porthos Edizioni",
          "Sonic Press",
          "QB Quanto Basta",
          "Youcanprint",
          "Augh!",
          "EBS Print",
          "Editrice Bibliografica",
          "Matti da rilegare",
          "Jo March",
          "Autori Riuniti",
          "Modo Infoshop",
          "Enoteca Letteraria",
          "Telos",
          "Spagine",
          "Somara!",
          "Krisis Publishing",
          "KM",
          "Double Nickels",
          "Le Commari Edizioni",
          "Tsunami",
          "Musicaos",
          "Gattogrigioeditore",
          "Edizioni Settecolori",
          "Pungitopo",
          "Hop!",
          "Lazy Dog",
          "Buk Buk",
          "Hammerle Editori in Trieste",
          "Plesio Editore",
          "Artebambini",
          "Calabuig",
          "Florence Art Edizioni",
          "Officina Grafica",
          "Quinlan",
          "La Vela (Viareggio)",
          "Lullabit",
          "Gruppo Studi Capotauro",
          "Radici Future",
          "Bookdealer",
          "La Torre dei Venti",
          "Aras Edizioni",
          "L'Altracittà (Roma)",
          "le plurali",
          "Marinonibooks",
          "66th and 2nd",
          "Rai Libri",
          "Cong",
          "Dante & Descartes",
          "Abendstern",
          "RVM Hub",
          "Exorma",
          "Aporema Edizioni",
          "AMZ",
          "Utet Giuridica",
          "Capone Editore",
          "Primavera",
          "Tempesta Editore",
          "Edizioni Effedì",
          "IFIX",
          "L'Alba Ass. Cult.",
          "Liscianilibri",
          "SuiGeneris",
          "Incontri Nautici",
          "Aut Aut Edizioni",
          "Del Gran Sasso",
          "Hopi",
          "MicroMega",
          "Mangasenpai",
          "Nova Delphi Libri",
          "MalEdizioni",
          "La nave di Teseo O",
          "Fragatina",
          "CEA",
          "Zanichelli",
          "Giunti Scuola",
          "Rizzoli Etas",
          "edizioni Dedalo",
          "Booksprint",
          "Macro Junior",
          "Lion",
          "Piccin-Nuova Libraria",
          "Barbara di Fiore",
          "Didattica Attiva",
          "Il Formichiere",
          "Viola Editrice",
          "Nuove Esperienze",
          "Accademia del Diritto",
          "Volturnia Edizioni",
          "Edda Edizioni",
          "Nua",
          "Ziczic",
          "Edizioni del Graffio",
          "Ponte Sisto",
          "La Ruota",
          "GM Press",
          "Letteratura Alternativa",
          "Rossini (Rende)",
          "Paoline Editoriale Libri",
          "Scripta",
          "Independent Legions Publishing",
          "WritersEditor",
          "Terra d'Ulivi",
          "Graphofeel",
          "Elleboro",
          "Vololibero",
          "Risfoglia Editore",
          "Kanaga",
          "Effetto",
          "Scalpendi",
          "Zolfo",
          "Press & Archeos",
          "Luca Sossella Editore",
          "Edizioni Francescane Italiane",
          "Aristea",
          "La Rondine Edizioni",
          "Aspis",
          "Antonio Mandese",
          "Librido Gallucci",
          "Forum Edizioni",
          "Giovanelli Edizioni",
          "Viella",
          "L'Età dell'Acquario",
          "Progetto Cultura",
          "Unicomunicazione.it",
          "Armenia",
          "La Scuola",
          "Editori Riuniti",
          "Editori Riuniti Univ. Press",
          "Marietti Junior",
          "Touring Junior",
          "Studium",
          "McGraw-Hill Education",
          "Unicopli",
          "Nardini",
          "Tecniche Nuove",
          "Apogeo",
          "Ancora",
          "CLEUP",
          "Abrabooks",
          "Palermo University Press",
          "Susil Edizioni",
          "Porto Seguro",
          "Edibimbi",
          "Sarnus",
          "artem",
          "Flaccovio Dario",
          "Felici",
          "Marlin (Cava de' Tirreni)",
          "eum",
          "Esedra",
          "Libreria dello Sport",
          "Fulmino",
          "Giraldi Editore",
          "Excelsior 1881",
          "EdiGiò",
          "Bis",
          "LetteraVentidue",
          "Idea Libri",
          "Fondazione Renzo Piano",
          "Multiplayer Edizioni",
          "Maschietto Editore",
          "Ligurpress",
          "Il Maestrale",
          "Zona",
          "Biblos",
          "Tangram Edizioni Scientifiche",
          "Massimiliano Piretti Editore",
          "A.CAR.",
          "Iride",
          "Libreria Editrice Fiorentina",
          "Lo Scarabeo",
          "Alpes Italia",
          "Il Ponte Vecchio",
          "Edizioni Clandestine",
          "Caosfera",
          "Ciesse Edizioni",
          "Edizioni Giuseppe Laterza",
          "Res Gestae",
          "Orme Editori",
          "Bizzarro Books",
          "Caissa Italia",
          "Ultra",
          "Serra Tarantola",
          "Raffaelli",
          "goWare",
          "Damster",
          "La Caravella Editrice",
          "Absolutely Free",
          "Euno Edizioni",
          "Guida",
          "Curcio",
          "Fausto Lupetti Editore",
          "Curcu & Genovese Ass.",
          "Montag",
          "Nulla Die",
          "Effatà",
          "Bibliotheka Edizioni",
          "Mnamon",
          "Cinquemarzo",
          "Libreria Geografica",
          "Grifo (Cavallino)",
          "Adnkronos Libri",
          "Stampa Triestina",
          "001 Edizioni",
          "Raetia",
          "Manifestolibri",
          "Alinari IDEA",
          "Aliberti",
          "Tabula Fati",
          "CDA & VIVALDA",
          "Eifis",
          "Gaspari",
          "Frilli",
          "Artemide",
          "Palomar",
          "A & B",
          "Archinto",
          "Jouvence",
          "Edizioni Goliardiche",
          "Piazza D.",
          "Nada",
          "Barbanera",
          "Hermes Edizioni",
          "Congedo",
          "In Dialogo",
          "Osanna Edizioni",
          "Iter Edizioni",
          "Lint Editoriale",
          "Lussografica",
          "Armando Dadò Editore",
          "Perdisa Pop",
          "Junior",
          "Agemina Edizioni",
          "Parallelo45 Edizioni",
          "Le Brumaie Editore",
          "Barometz",
          "Chiaredizioni",
          "CartaCanta",
          "Crowdbooks",
          "Edizioni Empiria Ass. Cult.",
          "Edizioni Il Frangente",
          "Publistampa",
          "Edizioni Interno4",
          "Controluna",
          "Kurumuny",
          "Multimedia Edizioni",
          "Cavallotto",
          "Tassinari",
          "Watson",
          "Accademia Vivarium Novum",
          "Pintore",
          "Medusa Edizioni",
          "ITA",
          "Connecting Cultures",
          "Edizioni Erasmo",
          "Edizioni Romena",
          "Sottosopra",
          "Omnigraf",
          "Calembour Libri",
          "Ultima Spiaggia",
          "Di Scaranari",
          "Ink Line",
          "Visiogeist",
          "Studio Garamond",
          "ilmiolibro self publishing",
          "Dialoghi",
          "Alessandro",
          "Algra",
          "CSA Editrice",
          "Le Lettere",
          "Andrea Pacilli Editore",
          "Centocanti",
          "WBA Project",
          "Roma per sempre",
          "Babele",
          "Edizioni Federica",
          "Nati per Scrivere",
          "Caffèorchidea",
          "Noctua Book",
          "Tabularasa Edizioni",
          "Colla Editore",
          "Leggere Controvento",
          "A.s.d. Pas De Qua - Arte in Movimento",
          "Edizioni Underground?",
          "L'Incisiva",
          "Wall of Sound Editions",
          "L'Arco e la Corte",
          "Civita",
          "Libreria Editrice Internazionale Italo Svevo",
          "Smith",
          "Level82publishing",
          "Luciana Tufani Editrice",
          "TraRari TIPI",
          "Horti di Giano",
          "Immagina Di Essere Altro",
          "Tabor",
          "Balena Gobba",
          "Bette",
          "Erranti",
          "Falco M.",
          "Momo Edizioni",
          "Montura Editing",
          "Terra Somnia",
          "I Girasogni",
          "Grafikamente",
          "PandiLettere",
          "Editime",
          "Il Gufo",
          "Inari Books",
          "CrunchEd",
          "Argonauta",
          "Oaks Editrice",
          "Aurora Edizioni",
          "Readrink",
          "L'Argolibro",
          "Samuele",
          "Fefè",
          "Aletheia Editore",
          "Prospettiva Editrice",
          "Carabba",
          "Helvetia",
          "Cierre Grafica",
          "Lineadacqua",
          "Round Robin Editrice",
          "Media Video",
          "Ad Est dell'Equatore",
          "Moroni",
          "Bepress",
          "Aereostella",
          "Istituto Poligrafico Europeo",
          "Odós (Udine)",
          "Nuages",
          "Historica Edizioni",
          "Alfaudiobook Audiolibri",
          "Pezzini",
          "Fasi di Luna",
          "Adea",
          "XY.IT",
          "EdizioniPiagge",
          "Colibrì Edizioni",
          "Bordeaux",
          "Gallo (Vercelli)",
          "Espress Edizioni",
          "Il Cubo",
          "Lozzi Editori",
          "Portaparole",
          "In Your Face Comix",
          "Bertoni Editore",
          "Pubblisfera",
          "LaPiccolaVolante",
          "editpress",
          "Spazio Interiore",
          "Susalibri",
          "Endemunde",
          "Giuda Edizioni",
          "COMICON Edizioni",
          "Liberilibri",
          "TIWI",
          "Montaonda",
          "Libreria Europa",
          "Aion",
          "LEIMA Edizioni",
          "Barta",
          "Caracol",
          "Biblioteca dei Leoni",
          "Alcheringa",
          "Ventisei Lettere",
          "Edizioni SEB27",
          "Aipsa",
          "'round midnight",
          "La Casa Usher",
          "Echos Edizioni",
          "Navarra Editore",
          "Piccola Casa Editrice",
          "Edizioni Efesto",
          "Bradipolibri",
          "Le Piccole Pagine",
          "Fila 37",
          "Thedotcompany",
          "La Lepre Edizioni",
          "Dielle Editore",
          "Gammarò Edizioni",
          "ilfilorosso",
          "Epika",
          "ED-Enrico Damiani Editore",
          "IlViandante",
          "13Lab (Milano)",
          "Linea Edizioni",
          "Incontri Editrice",
          "Antezza",
          "Peruzzo Editoriale",
          "Altravista",
          "Rogas",
          "Colonnese",
          "96 rue de-La-Fontaine Edizioni",
          "Fahrenheit 451",
          "Harpo",
          "Cinquesensi",
          "Edizioni il Galeone",
          "Torri del Vento",
          "Oltre Edizioni",
          "Chiado Books Italia",
          "Montedit",
          "Il Margine (Trento)",
          "Brè",
          "Paesi Edizioni",
          "ATS Giacomo Catalani Editore",
          "Lithos",
          "Pathos Edizioni",
          "Calibano",
          "Nalanda",
          "Ferrari Editore",
          "Franco Maria Ricci",
          "Ubiliber",
          "Capovolte",
          "Kriss",
          "Edizioni Malamente",
          "FVE"
         ],
         "xaxis": "x",
         "y": [
          554,
          506,
          327,
          322,
          224,
          187,
          164,
          149,
          140,
          134,
          128,
          128,
          124,
          119,
          116,
          114,
          111,
          111,
          107,
          106,
          101,
          99,
          92,
          91,
          89,
          89,
          86,
          80,
          78,
          78,
          77,
          77,
          75,
          75,
          74,
          72,
          72,
          70,
          69,
          65,
          65,
          63,
          61,
          60,
          59,
          59,
          59,
          56,
          56,
          54,
          53,
          52,
          52,
          52,
          52,
          51,
          51,
          49,
          49,
          48,
          47,
          46,
          46,
          45,
          45,
          44,
          44,
          43,
          43,
          42,
          42,
          41,
          41,
          41,
          40,
          39,
          37,
          36,
          35,
          35,
          34,
          34,
          34,
          34,
          33,
          33,
          32,
          31,
          31,
          30,
          30,
          29,
          29,
          28,
          28,
          28,
          27,
          27,
          27,
          27,
          26,
          25,
          25,
          24,
          24,
          24,
          24,
          23,
          23,
          23,
          22,
          22,
          22,
          22,
          22,
          21,
          21,
          21,
          20,
          20,
          20,
          20,
          20,
          19,
          19,
          19,
          19,
          19,
          19,
          18,
          18,
          18,
          18,
          18,
          18,
          18,
          17,
          16,
          16,
          16,
          16,
          16,
          16,
          16,
          16,
          16,
          16,
          15,
          15,
          15,
          15,
          15,
          15,
          15,
          15,
          15,
          14,
          14,
          14,
          14,
          14,
          14,
          14,
          14,
          14,
          14,
          14,
          13,
          13,
          13,
          13,
          13,
          13,
          13,
          13,
          13,
          12,
          12,
          12,
          12,
          12,
          12,
          12,
          12,
          12,
          12,
          11,
          11,
          11,
          11,
          11,
          11,
          11,
          11,
          11,
          11,
          11,
          10,
          10,
          10,
          10,
          10,
          10,
          10,
          10,
          10,
          10,
          10,
          10,
          10,
          9,
          9,
          9,
          9,
          9,
          9,
          9,
          9,
          9,
          9,
          9,
          8,
          8,
          8,
          8,
          8,
          8,
          8,
          8,
          8,
          8,
          8,
          8,
          8,
          8,
          8,
          8,
          8,
          8,
          8,
          8,
          8,
          8,
          7,
          7,
          7,
          7,
          7,
          7,
          7,
          7,
          7,
          7,
          7,
          7,
          7,
          7,
          7,
          7,
          7,
          7,
          7,
          7,
          7,
          7,
          7,
          7,
          7,
          7,
          7,
          7,
          7,
          7,
          7,
          7,
          7,
          7,
          6,
          6,
          6,
          6,
          6,
          6,
          6,
          6,
          6,
          6,
          6,
          6,
          6,
          6,
          6,
          6,
          6,
          6,
          6,
          6,
          6,
          6,
          6,
          6,
          6,
          6,
          6,
          6,
          6,
          6,
          6,
          5,
          5,
          5,
          5,
          5,
          5,
          5,
          5,
          5,
          5,
          5,
          5,
          5,
          5,
          5,
          5,
          5,
          5,
          5,
          5,
          5,
          5,
          5,
          5,
          5,
          5,
          5,
          5,
          5,
          5,
          5,
          5,
          5,
          5,
          5,
          5,
          5,
          4,
          4,
          4,
          4,
          4,
          4,
          4,
          4,
          4,
          4,
          4,
          4,
          4,
          4,
          4,
          4,
          4,
          4,
          4,
          4,
          4,
          4,
          4,
          4,
          4,
          4,
          4,
          4,
          4,
          4,
          4,
          4,
          4,
          4,
          4,
          4,
          4,
          4,
          4,
          4,
          4,
          4,
          4,
          4,
          4,
          4,
          4,
          4,
          4,
          4,
          4,
          4,
          4,
          4,
          4,
          4,
          4,
          4,
          4,
          4,
          3,
          3,
          3,
          3,
          3,
          3,
          3,
          3,
          3,
          3,
          3,
          3,
          3,
          3,
          3,
          3,
          3,
          3,
          3,
          3,
          3,
          3,
          3,
          3,
          3,
          3,
          3,
          3,
          3,
          3,
          3,
          3,
          3,
          3,
          3,
          3,
          3,
          3,
          3,
          3,
          3,
          3,
          3,
          3,
          3,
          3,
          3,
          3,
          3,
          3,
          3,
          3,
          3,
          3,
          3,
          3,
          3,
          3,
          3,
          3,
          3,
          3,
          3,
          3,
          3,
          3,
          3,
          3,
          3,
          3,
          3,
          3,
          3,
          3,
          3,
          3,
          3,
          3,
          3,
          3,
          3,
          3,
          3,
          3,
          3,
          3,
          3,
          3,
          3,
          2,
          2,
          2,
          2,
          2,
          2,
          2,
          2,
          2,
          2,
          2,
          2,
          2,
          2,
          2,
          2,
          2,
          2,
          2,
          2,
          2,
          2,
          2,
          2,
          2,
          2,
          2,
          2,
          2,
          2,
          2,
          2,
          2,
          2,
          2,
          2,
          2,
          2,
          2,
          2,
          2,
          2,
          2,
          2,
          2,
          2,
          2,
          2,
          2,
          2,
          2,
          2,
          2,
          2,
          2,
          2,
          2,
          2,
          2,
          2,
          2,
          2,
          2,
          2,
          2,
          2,
          2,
          2,
          2,
          2,
          2,
          2,
          2,
          2,
          2,
          2,
          2,
          2,
          2,
          2,
          2,
          2,
          2,
          2,
          2,
          2,
          2,
          2,
          2,
          2,
          2,
          2,
          2,
          2,
          2,
          2,
          2,
          2,
          2,
          2,
          2,
          2,
          2,
          2,
          2,
          2,
          2,
          2,
          2,
          2,
          2,
          2,
          2,
          2,
          2,
          2,
          2,
          2,
          2,
          2,
          2,
          2,
          2,
          2,
          2,
          2,
          2,
          2,
          2,
          2,
          2,
          2,
          2,
          2,
          2,
          2,
          2,
          2,
          2,
          2,
          2,
          1,
          1,
          1,
          1,
          1,
          1,
          1,
          1,
          1,
          1,
          1,
          1,
          1,
          1,
          1,
          1,
          1,
          1,
          1,
          1,
          1,
          1,
          1,
          1,
          1,
          1,
          1,
          1,
          1,
          1,
          1,
          1,
          1,
          1,
          1,
          1,
          1,
          1,
          1,
          1,
          1,
          1,
          1,
          1,
          1,
          1,
          1,
          1,
          1,
          1,
          1,
          1,
          1,
          1,
          1,
          1,
          1,
          1,
          1,
          1,
          1,
          1,
          1,
          1,
          1,
          1,
          1,
          1,
          1,
          1,
          1,
          1,
          1,
          1,
          1,
          1,
          1,
          1,
          1,
          1,
          1,
          1,
          1,
          1,
          1,
          1,
          1,
          1,
          1,
          1,
          1,
          1,
          1,
          1,
          1,
          1,
          1,
          1,
          1,
          1,
          1,
          1,
          1,
          1,
          1,
          1,
          1,
          1,
          1,
          1,
          1,
          1,
          1,
          1,
          1,
          1,
          1,
          1,
          1,
          1,
          1,
          1,
          1,
          1,
          1,
          1,
          1,
          1,
          1,
          1,
          1,
          1,
          1,
          1,
          1,
          1,
          1,
          1,
          1,
          1,
          1,
          1,
          1,
          1,
          1,
          1,
          1,
          1,
          1,
          1,
          1,
          1,
          1,
          1,
          1,
          1,
          1,
          1,
          1,
          1,
          1,
          1,
          1,
          1,
          1,
          1,
          1,
          1,
          1,
          1,
          1,
          1,
          1,
          1,
          1,
          1,
          1,
          1,
          1,
          1,
          1,
          1,
          1,
          1,
          1,
          1,
          1,
          1,
          1,
          1,
          1,
          1,
          1,
          1,
          1,
          1,
          1,
          1,
          1,
          1,
          1,
          1,
          1,
          1,
          1,
          1,
          1,
          1,
          1,
          1,
          1,
          1,
          1,
          1,
          1,
          1,
          1,
          1,
          1,
          1,
          1,
          1,
          1,
          1,
          1,
          1,
          1,
          1,
          1,
          1,
          1,
          1,
          1,
          1,
          1,
          1,
          1,
          1,
          1,
          1,
          1,
          1,
          1,
          1,
          1,
          1,
          1,
          1,
          1,
          1,
          1,
          1,
          1,
          1,
          1,
          1,
          1,
          1,
          1,
          1,
          1,
          1,
          1,
          1,
          1,
          1,
          1,
          1,
          1,
          1,
          1,
          1,
          1,
          1,
          1,
          1,
          1,
          1,
          1,
          1,
          1,
          1,
          1,
          1,
          1,
          1,
          1,
          1,
          1,
          1,
          1,
          1,
          1,
          1,
          1,
          1,
          1,
          1,
          1,
          1,
          1,
          1,
          1,
          1,
          1,
          1,
          1,
          1,
          1,
          1,
          1,
          1,
          1,
          1,
          1,
          1,
          1,
          1,
          1,
          1,
          1,
          1,
          1,
          1,
          1,
          1,
          1,
          1,
          1,
          1,
          1,
          1,
          1,
          1,
          1,
          1,
          1,
          1,
          1,
          1,
          1,
          1,
          1,
          1,
          1,
          1,
          1,
          1,
          1,
          1,
          1,
          1,
          1,
          1,
          1,
          1,
          1,
          1,
          1,
          1,
          1,
          1,
          1,
          1,
          1,
          1,
          1,
          1,
          1,
          1,
          1,
          1,
          1,
          1,
          1
         ],
         "yaxis": "y",
         "type": "bar"
        }
       ],
       "layout": {
        "template": {
         "data": {
          "histogram2dcontour": [
           {
            "type": "histogram2dcontour",
            "colorbar": {
             "outlinewidth": 0,
             "ticks": ""
            },
            "colorscale": [
             [
              0.0,
              "#0d0887"
             ],
             [
              0.1111111111111111,
              "#46039f"
             ],
             [
              0.2222222222222222,
              "#7201a8"
             ],
             [
              0.3333333333333333,
              "#9c179e"
             ],
             [
              0.4444444444444444,
              "#bd3786"
             ],
             [
              0.5555555555555556,
              "#d8576b"
             ],
             [
              0.6666666666666666,
              "#ed7953"
             ],
             [
              0.7777777777777778,
              "#fb9f3a"
             ],
             [
              0.8888888888888888,
              "#fdca26"
             ],
             [
              1.0,
              "#f0f921"
             ]
            ]
           }
          ],
          "choropleth": [
           {
            "type": "choropleth",
            "colorbar": {
             "outlinewidth": 0,
             "ticks": ""
            }
           }
          ],
          "histogram2d": [
           {
            "type": "histogram2d",
            "colorbar": {
             "outlinewidth": 0,
             "ticks": ""
            },
            "colorscale": [
             [
              0.0,
              "#0d0887"
             ],
             [
              0.1111111111111111,
              "#46039f"
             ],
             [
              0.2222222222222222,
              "#7201a8"
             ],
             [
              0.3333333333333333,
              "#9c179e"
             ],
             [
              0.4444444444444444,
              "#bd3786"
             ],
             [
              0.5555555555555556,
              "#d8576b"
             ],
             [
              0.6666666666666666,
              "#ed7953"
             ],
             [
              0.7777777777777778,
              "#fb9f3a"
             ],
             [
              0.8888888888888888,
              "#fdca26"
             ],
             [
              1.0,
              "#f0f921"
             ]
            ]
           }
          ],
          "heatmap": [
           {
            "type": "heatmap",
            "colorbar": {
             "outlinewidth": 0,
             "ticks": ""
            },
            "colorscale": [
             [
              0.0,
              "#0d0887"
             ],
             [
              0.1111111111111111,
              "#46039f"
             ],
             [
              0.2222222222222222,
              "#7201a8"
             ],
             [
              0.3333333333333333,
              "#9c179e"
             ],
             [
              0.4444444444444444,
              "#bd3786"
             ],
             [
              0.5555555555555556,
              "#d8576b"
             ],
             [
              0.6666666666666666,
              "#ed7953"
             ],
             [
              0.7777777777777778,
              "#fb9f3a"
             ],
             [
              0.8888888888888888,
              "#fdca26"
             ],
             [
              1.0,
              "#f0f921"
             ]
            ]
           }
          ],
          "heatmapgl": [
           {
            "type": "heatmapgl",
            "colorbar": {
             "outlinewidth": 0,
             "ticks": ""
            },
            "colorscale": [
             [
              0.0,
              "#0d0887"
             ],
             [
              0.1111111111111111,
              "#46039f"
             ],
             [
              0.2222222222222222,
              "#7201a8"
             ],
             [
              0.3333333333333333,
              "#9c179e"
             ],
             [
              0.4444444444444444,
              "#bd3786"
             ],
             [
              0.5555555555555556,
              "#d8576b"
             ],
             [
              0.6666666666666666,
              "#ed7953"
             ],
             [
              0.7777777777777778,
              "#fb9f3a"
             ],
             [
              0.8888888888888888,
              "#fdca26"
             ],
             [
              1.0,
              "#f0f921"
             ]
            ]
           }
          ],
          "contourcarpet": [
           {
            "type": "contourcarpet",
            "colorbar": {
             "outlinewidth": 0,
             "ticks": ""
            }
           }
          ],
          "contour": [
           {
            "type": "contour",
            "colorbar": {
             "outlinewidth": 0,
             "ticks": ""
            },
            "colorscale": [
             [
              0.0,
              "#0d0887"
             ],
             [
              0.1111111111111111,
              "#46039f"
             ],
             [
              0.2222222222222222,
              "#7201a8"
             ],
             [
              0.3333333333333333,
              "#9c179e"
             ],
             [
              0.4444444444444444,
              "#bd3786"
             ],
             [
              0.5555555555555556,
              "#d8576b"
             ],
             [
              0.6666666666666666,
              "#ed7953"
             ],
             [
              0.7777777777777778,
              "#fb9f3a"
             ],
             [
              0.8888888888888888,
              "#fdca26"
             ],
             [
              1.0,
              "#f0f921"
             ]
            ]
           }
          ],
          "surface": [
           {
            "type": "surface",
            "colorbar": {
             "outlinewidth": 0,
             "ticks": ""
            },
            "colorscale": [
             [
              0.0,
              "#0d0887"
             ],
             [
              0.1111111111111111,
              "#46039f"
             ],
             [
              0.2222222222222222,
              "#7201a8"
             ],
             [
              0.3333333333333333,
              "#9c179e"
             ],
             [
              0.4444444444444444,
              "#bd3786"
             ],
             [
              0.5555555555555556,
              "#d8576b"
             ],
             [
              0.6666666666666666,
              "#ed7953"
             ],
             [
              0.7777777777777778,
              "#fb9f3a"
             ],
             [
              0.8888888888888888,
              "#fdca26"
             ],
             [
              1.0,
              "#f0f921"
             ]
            ]
           }
          ],
          "mesh3d": [
           {
            "type": "mesh3d",
            "colorbar": {
             "outlinewidth": 0,
             "ticks": ""
            }
           }
          ],
          "scatter": [
           {
            "fillpattern": {
             "fillmode": "overlay",
             "size": 10,
             "solidity": 0.2
            },
            "type": "scatter"
           }
          ],
          "parcoords": [
           {
            "type": "parcoords",
            "line": {
             "colorbar": {
              "outlinewidth": 0,
              "ticks": ""
             }
            }
           }
          ],
          "scatterpolargl": [
           {
            "type": "scatterpolargl",
            "marker": {
             "colorbar": {
              "outlinewidth": 0,
              "ticks": ""
             }
            }
           }
          ],
          "bar": [
           {
            "error_x": {
             "color": "#2a3f5f"
            },
            "error_y": {
             "color": "#2a3f5f"
            },
            "marker": {
             "line": {
              "color": "#E5ECF6",
              "width": 0.5
             },
             "pattern": {
              "fillmode": "overlay",
              "size": 10,
              "solidity": 0.2
             }
            },
            "type": "bar"
           }
          ],
          "scattergeo": [
           {
            "type": "scattergeo",
            "marker": {
             "colorbar": {
              "outlinewidth": 0,
              "ticks": ""
             }
            }
           }
          ],
          "scatterpolar": [
           {
            "type": "scatterpolar",
            "marker": {
             "colorbar": {
              "outlinewidth": 0,
              "ticks": ""
             }
            }
           }
          ],
          "histogram": [
           {
            "marker": {
             "pattern": {
              "fillmode": "overlay",
              "size": 10,
              "solidity": 0.2
             }
            },
            "type": "histogram"
           }
          ],
          "scattergl": [
           {
            "type": "scattergl",
            "marker": {
             "colorbar": {
              "outlinewidth": 0,
              "ticks": ""
             }
            }
           }
          ],
          "scatter3d": [
           {
            "type": "scatter3d",
            "line": {
             "colorbar": {
              "outlinewidth": 0,
              "ticks": ""
             }
            },
            "marker": {
             "colorbar": {
              "outlinewidth": 0,
              "ticks": ""
             }
            }
           }
          ],
          "scattermapbox": [
           {
            "type": "scattermapbox",
            "marker": {
             "colorbar": {
              "outlinewidth": 0,
              "ticks": ""
             }
            }
           }
          ],
          "scatterternary": [
           {
            "type": "scatterternary",
            "marker": {
             "colorbar": {
              "outlinewidth": 0,
              "ticks": ""
             }
            }
           }
          ],
          "scattercarpet": [
           {
            "type": "scattercarpet",
            "marker": {
             "colorbar": {
              "outlinewidth": 0,
              "ticks": ""
             }
            }
           }
          ],
          "carpet": [
           {
            "aaxis": {
             "endlinecolor": "#2a3f5f",
             "gridcolor": "white",
             "linecolor": "white",
             "minorgridcolor": "white",
             "startlinecolor": "#2a3f5f"
            },
            "baxis": {
             "endlinecolor": "#2a3f5f",
             "gridcolor": "white",
             "linecolor": "white",
             "minorgridcolor": "white",
             "startlinecolor": "#2a3f5f"
            },
            "type": "carpet"
           }
          ],
          "table": [
           {
            "cells": {
             "fill": {
              "color": "#EBF0F8"
             },
             "line": {
              "color": "white"
             }
            },
            "header": {
             "fill": {
              "color": "#C8D4E3"
             },
             "line": {
              "color": "white"
             }
            },
            "type": "table"
           }
          ],
          "barpolar": [
           {
            "marker": {
             "line": {
              "color": "#E5ECF6",
              "width": 0.5
             },
             "pattern": {
              "fillmode": "overlay",
              "size": 10,
              "solidity": 0.2
             }
            },
            "type": "barpolar"
           }
          ],
          "pie": [
           {
            "automargin": true,
            "type": "pie"
           }
          ]
         },
         "layout": {
          "autotypenumbers": "strict",
          "colorway": [
           "#636efa",
           "#EF553B",
           "#00cc96",
           "#ab63fa",
           "#FFA15A",
           "#19d3f3",
           "#FF6692",
           "#B6E880",
           "#FF97FF",
           "#FECB52"
          ],
          "font": {
           "color": "#2a3f5f"
          },
          "hovermode": "closest",
          "hoverlabel": {
           "align": "left"
          },
          "paper_bgcolor": "white",
          "plot_bgcolor": "#E5ECF6",
          "polar": {
           "bgcolor": "#E5ECF6",
           "angularaxis": {
            "gridcolor": "white",
            "linecolor": "white",
            "ticks": ""
           },
           "radialaxis": {
            "gridcolor": "white",
            "linecolor": "white",
            "ticks": ""
           }
          },
          "ternary": {
           "bgcolor": "#E5ECF6",
           "aaxis": {
            "gridcolor": "white",
            "linecolor": "white",
            "ticks": ""
           },
           "baxis": {
            "gridcolor": "white",
            "linecolor": "white",
            "ticks": ""
           },
           "caxis": {
            "gridcolor": "white",
            "linecolor": "white",
            "ticks": ""
           }
          },
          "coloraxis": {
           "colorbar": {
            "outlinewidth": 0,
            "ticks": ""
           }
          },
          "colorscale": {
           "sequential": [
            [
             0.0,
             "#0d0887"
            ],
            [
             0.1111111111111111,
             "#46039f"
            ],
            [
             0.2222222222222222,
             "#7201a8"
            ],
            [
             0.3333333333333333,
             "#9c179e"
            ],
            [
             0.4444444444444444,
             "#bd3786"
            ],
            [
             0.5555555555555556,
             "#d8576b"
            ],
            [
             0.6666666666666666,
             "#ed7953"
            ],
            [
             0.7777777777777778,
             "#fb9f3a"
            ],
            [
             0.8888888888888888,
             "#fdca26"
            ],
            [
             1.0,
             "#f0f921"
            ]
           ],
           "sequentialminus": [
            [
             0.0,
             "#0d0887"
            ],
            [
             0.1111111111111111,
             "#46039f"
            ],
            [
             0.2222222222222222,
             "#7201a8"
            ],
            [
             0.3333333333333333,
             "#9c179e"
            ],
            [
             0.4444444444444444,
             "#bd3786"
            ],
            [
             0.5555555555555556,
             "#d8576b"
            ],
            [
             0.6666666666666666,
             "#ed7953"
            ],
            [
             0.7777777777777778,
             "#fb9f3a"
            ],
            [
             0.8888888888888888,
             "#fdca26"
            ],
            [
             1.0,
             "#f0f921"
            ]
           ],
           "diverging": [
            [
             0,
             "#8e0152"
            ],
            [
             0.1,
             "#c51b7d"
            ],
            [
             0.2,
             "#de77ae"
            ],
            [
             0.3,
             "#f1b6da"
            ],
            [
             0.4,
             "#fde0ef"
            ],
            [
             0.5,
             "#f7f7f7"
            ],
            [
             0.6,
             "#e6f5d0"
            ],
            [
             0.7,
             "#b8e186"
            ],
            [
             0.8,
             "#7fbc41"
            ],
            [
             0.9,
             "#4d9221"
            ],
            [
             1,
             "#276419"
            ]
           ]
          },
          "xaxis": {
           "gridcolor": "white",
           "linecolor": "white",
           "ticks": "",
           "title": {
            "standoff": 15
           },
           "zerolinecolor": "white",
           "automargin": true,
           "zerolinewidth": 2
          },
          "yaxis": {
           "gridcolor": "white",
           "linecolor": "white",
           "ticks": "",
           "title": {
            "standoff": 15
           },
           "zerolinecolor": "white",
           "automargin": true,
           "zerolinewidth": 2
          },
          "scene": {
           "xaxis": {
            "backgroundcolor": "#E5ECF6",
            "gridcolor": "white",
            "linecolor": "white",
            "showbackground": true,
            "ticks": "",
            "zerolinecolor": "white",
            "gridwidth": 2
           },
           "yaxis": {
            "backgroundcolor": "#E5ECF6",
            "gridcolor": "white",
            "linecolor": "white",
            "showbackground": true,
            "ticks": "",
            "zerolinecolor": "white",
            "gridwidth": 2
           },
           "zaxis": {
            "backgroundcolor": "#E5ECF6",
            "gridcolor": "white",
            "linecolor": "white",
            "showbackground": true,
            "ticks": "",
            "zerolinecolor": "white",
            "gridwidth": 2
           }
          },
          "shapedefaults": {
           "line": {
            "color": "#2a3f5f"
           }
          },
          "annotationdefaults": {
           "arrowcolor": "#2a3f5f",
           "arrowhead": 0,
           "arrowwidth": 1
          },
          "geo": {
           "bgcolor": "white",
           "landcolor": "#E5ECF6",
           "subunitcolor": "white",
           "showland": true,
           "showlakes": true,
           "lakecolor": "white"
          },
          "title": {
           "x": 0.05
          },
          "mapbox": {
           "style": "light"
          }
         }
        },
        "xaxis": {
         "anchor": "y",
         "domain": [
          0.0,
          1.0
         ],
         "title": {
          "text": "Publisher"
         }
        },
        "yaxis": {
         "anchor": "x",
         "domain": [
          0.0,
          1.0
         ],
         "title": {
          "text": "Frequency"
         }
        },
        "legend": {
         "tracegroupgap": 0
        },
        "title": {
         "text": "Frequency distribution of publishers in our network"
        },
        "barmode": "relative",
        "bargap": 0.3
       },
       "config": {
        "plotlyServerURL": "https://plot.ly"
       }
      },
      "text/html": "<div>                            <div id=\"06c3ae4f-b006-4946-9a9c-bca1c71ab1c7\" class=\"plotly-graph-div\" style=\"height:525px; width:100%;\"></div>            <script type=\"text/javascript\">                require([\"plotly\"], function(Plotly) {                    window.PLOTLYENV=window.PLOTLYENV || {};                                    if (document.getElementById(\"06c3ae4f-b006-4946-9a9c-bca1c71ab1c7\")) {                    Plotly.newPlot(                        \"06c3ae4f-b006-4946-9a9c-bca1c71ab1c7\",                        [{\"alignmentgroup\":\"True\",\"hovertemplate\":\"Publisher=%{x}<br>Frequency=%{y}<extra></extra>\",\"legendgroup\":\"\",\"marker\":{\"color\":\"#636efa\",\"pattern\":{\"shape\":\"\"}},\"name\":\"\",\"offsetgroup\":\"\",\"orientation\":\"v\",\"showlegend\":false,\"textposition\":\"auto\",\"x\":[\"Einaudi\",\"Mondadori\",\"Adelphi\",\"Feltrinelli\",\"Rizzoli\",\"Bompiani\",\"Salani\",\"Babalibri\",\"Terre di Mezzo\",\"Il Saggiatore\",\"Minimum Fax\",\"Il Castoro\",\"Iperborea\",\"Orecchio Acerbo\",\"E/O\",\"Sellerio Editore Palermo\",\"La nave di Teseo\",\"Neri Pozza\",\"Giunti Editore\",\"Piemme\",\"Laterza\",\"L'Ippocampo\",\"Einaudi Ragazzi\",\"Lapis\",\"TopiPittori\",\"Fazi\",\"Garzanti\",\"Sur\",\"Camelozampa\",\"Coconino Press\",\"L'Ippocampo Ragazzi\",\"Gallucci\",\"Marcos y Marcos\",\"BUR Biblioteca Univ. Rizzoli\",\"Emme Edizioni\",\"NN Editore\",\"Guanda\",\"Quodlibet\",\"Nottetempo\",\"L'orma\",\"Marsilio\",\"Sassi\",\"Gribaudo\",\"Rubbettino\",\"Bao Publishing\",\"Fandango Libri\",\"66thand2nd\",\"Sperling & Kupfer\",\"Tunu\\u00e9\",\"Keller\",\"Solferino\",\"Longanesi\",\"Ponte alle Grazie\",\"Corraini\",\"Editoriale Scienza\",\"Bollati Boringhieri\",\"Pellegrini\",\"Edizioni Clichy\",\"Newton Compton Editori\",\"Sinnos\",\"De Agostini\",\"ADD Editore\",\"AnimaMundi edizioni\",\"Franco Cosimo Panini\",\"TEA\",\"Perrone\",\"Hoepli\",\"Mondadori Electa\",\"Donzelli\",\"Voland\",\"Bottega Errante Edizioni\",\"BEAT\",\"Logos\",\"Nutrimenti\",\"HarperCollins Italia\",\"Il Mulino\",\"Miraggi Edizioni\",\"Rizzoli Lizard\",\"Atlantide (Roma)\",\"Magazzini Salani\",\"La Nuova Frontiera\",\"Edizioni Black Coffee\",\"La Nuova Frontiera Junior\",\"People\",\"Eris\",\"EL\",\"Raffaello\",\"Fatatrac\",\"La Margherita\",\"Effequ\",\"Les Fl\\u00e2neurs Edizioni\",\"Alter Ego\",\"Racconti\",\"Corbaccio\",\"Contrasto\",\"Panini Comics\",\"LupoGuido\",\"Zoolibri\",\"Settenove\",\"Ediciclo\",\"Ex\\u00f2rma\",\"Edizioni Alegre\",\"Baldini + Castoldi\",\"El\\u00e8uthera\",\"EDT-Giralangolo\",\"Mattioli 1885\",\"Splen\",\"Neo Edizioni\",\"Becco Giallo\",\"Johan & Levi\",\"Edicola Ediciones\",\"Edizioni BD\",\"SEM\",\"Nord-Sud\",\"Mimesis\",\"Nord\",\"Beisler\",\"Kite\",\"Pelledoca Editore\",\"UTET\",\"Oblomov Edizioni\",\"Pulce\",\"IdeeAli\",\"Cliquot\",\"Blackie\",\"minibombo\",\"Lavieri\",\"D Editore\",\"Editoriale Programma\",\"Safar\\u00e0 Editore\",\"Carthusia\",\"Arkadia\",\"Fabbri\",\"LiberAria Editrice\",\"San Paolo Edizioni\",\"Crealibri\",\"Citt\\u00e0 del Sole Edizioni\",\"Uovonero\",\"ABEditore\",\"Emons Edizioni\",\"Pidgin Edizioni\",\"Alessandro Polidoro Editore\",\"Edizioni della Sera\",\"CasaSirio\",\"Franco Angeli\",\"NeP edizioni\",\"Nuove Edizioni Barbaro\",\"Jimenez\",\"Nomos Edizioni\",\"EGA-Edizioni Gruppo Abele\",\"Centauria\",\"gran via\",\"Erickson\",\"Humboldt Books\",\"Taschen\",\"Laruffa\",\"Blu Atlantide\",\"Tlon\",\"Produzioni Nero\",\"Wojtek\",\"Jaca Book\",\"Giuffr\\u00e8\",\"Usborne Publishing\",\"Carocci\",\"Silvana\",\"Vallardi A.\",\"White Star\",\"Utopia Editore\",\"Edizioni Corsare\",\"Codice\",\"Chiarelettere\",\"Sonda\",\"Touring\",\"Elliot\",\"Hacca\",\"Ugo Mursia Editore\",\"TerraRossa\",\"Aboca Edizioni\",\"Mesogea\",\"Giometti & Antonello\",\"Cortina Raffaello\",\"Lindau\",\"La Coccinella\",\"Bacchilega Editore\",\"Bohem Press Italia\",\"Araba Fenice\",\"Coccole Books\",\"VerbaVolant edizioni\",\"Zona 42\",\"Autopubblicato\",\"Piano B\",\"Carbonio Editore\",\"EDT\",\"DeriveApprodi\",\"Wall Of Sound Editions\",\"Milieu\",\"LB Edizioni\",\"pi\\u00e8dimosca\",\"TRE60\",\"Giappichelli\",\"Gorilla Sapiens\",\"Arcoiris\",\"Giazira Scritture\",\"SE\",\"Mousse Publishing\",\"Abscondita\",\"Libreria Militare Editrice\",\"Papelu\",\"Il Palindromo\",\"Editoriale Romani\",\"Marotta e Cafiero\",\"Glifo\",\"21lettere\",\"Valentina Edizioni\",\"Kalandraka Italia\",\"Il Castello\",\"Ombre Corte\",\"Giuntina\",\"Langella\",\"Lonely Planet Italia\",\"Spunto Edizioni\",\"Arka\",\"Clavis\",\"Kira Kira\",\"Lunaria\",\"Italo Svevo\",\"Crocetti\",\"Ediz. del Foglio Clandestino\",\"V\\u00e0nvere\",\"Neldiritto Editore\",\"Del Vecchio Editore\",\"Atmosphere Libri\",\"Il Leggio\",\"La Grande Illusion\",\"Mulatero\",\"Ape Junior\",\"Witty Kiwi Books\",\"Valigie Rosse\",\"Versante Sud\",\"Forme Libere\",\"La Vita Felice\",\"Agenzia Alcatraz\",\"Saremo Alberi. Libroteca\",\"Il Barbagianni\",\"Readerforblind\",\"Cairo\",\"Quinto Quarto\",\"Pessime idee\",\"Meltemi\",\"Prehistorica Editore\",\"Sonzogno\",\"Burritos Edizioni\",\"Timpetill\",\"Giunti Junior\",\"Star Comics\",\"Fanucci\",\"Sergio Bonelli\",\"Moretti & Vitali\",\"Edizioni Giuridiche Simone\",\"Edizioni Fogliodivia\",\"Ronzani Editore\",\"Edizioni Le Assassine\",\"Ortica Editrice\",\"Ianieri\",\"Picarona Italia\",\"Asterisco\",\"Nuinui\",\"Pendragon\",\"Astrolabio Ubaldini\",\"Ensemble\",\"Altrimedia\",\"Interno Poesia Editore\",\"Nova Millennium Romae\",\"Reggio Children\",\"Psiche 2\",\"WScuola Edizioni\",\"Colli Luigi\",\"Playground\",\"Diabolo\",\"Anfora\",\"Equilibri Editrice\",\"Santi Quaranta\",\"Biancoenero\",\"Slow Food\",\"Olschki\",\"Gemma Edizioni\",\"Biplane Edizioni\",\"Il Gioco di Leggere\",\"24 Ore Cultura\",\"GOG\",\"Lo Stampatello\",\"Edizioni degli Animali\",\"Argolibri\",\"Harmakis\",\"Bora.La\",\"bookabook\",\"Passigli\",\"Edizioni del Faro\",\"Alpine Studio\",\"Polaris\",\"Odoya\",\"Edizioni dell'Asino\",\"Red Star Press\",\"Edizioni Mille\",\"Edizioni Saecula\",\"Maggioli Editore\",\"Sime Books\",\"Venexia\",\"Tamu\",\"Read Red Road\",\"Nuova Editrice Berti\",\"Aguaplano\",\"Nube Ocho\",\"La Tribuna\",\"La Corte Editore\",\"Moscabianca Edizioni\",\"Astoria\",\"Interlinea\",\"Else Edizioni\",\"La Tartaruga\",\"ShaKe\",\"Funambolo\",\"Bibliolibr\\u00f2\",\"Canicola\",\"Tarka\",\"Libreria Pienogiorno\",\"Homo Scrivens\",\"Demetra\",\"Edicart\",\"Kimerik\",\"Morellini\",\"Robin\",\"SaldaPress\",\"Pearson\",\"L'Informatore Agrario\",\"Edizioni del Capricorno\",\"Casagrande\",\"Apogeo Editore\",\"Photo Travel\",\"Albe Edizioni\",\"Hypnos\",\"Edizioni del Gattaccio\",\"Tic\",\"Pietre Vive\",\"Altrevoci Edizioni\",\"Abbot\",\"Lemniscaat\",\"La nave di Teseo +\",\"Luiss University Press\",\"EPC\",\"5 Continents Editions\",\"Marameo\",\"Rina\",\"WoM Edizioni\",\"PaperFIRST\",\"Red Edizioni\",\"Il Leone Verde\",\"Vanda Edizioni\",\"Compagnia Editoriale Aliberti\",\"Pulci Volanti\",\"Edizioni NPE\",\"Pentagora\",\"Tuga Edizioni\",\"Rusconi Libri\",\"Marietti\",\"EGEA\",\"Macro Edizioni\",\"Gruppo Albatros Il Filo\",\"8TTO Edizioni\",\"Itinera Progetti\",\"Castelvecchi\",\"Edizioni del Borgo\",\"ETS\",\"Skira\",\"Palombi Editori\",\"Stampa Alternativa\",\"Bonfirraro\",\"Curci\",\"Academia Universa Press\",\"Il Ciliegio\",\"Cento Autori\",\"Magic Press\",\"Cerchio della Luna\",\"Calabria Letteraria\",\"Betti Editrice\",\"Blu Edizioni\",\"Fusta\",\"Di Girolamo\",\"Liberty Bell\",\"Maxottantotto\",\"Battaglia\",\"Libreria della Natura\",\"Skinnerboox\",\"Agenzia X\",\"La Memoria del Mondo\",\"Ponte33\",\"CaratteriMobili\",\"edizioni del verri\",\"Galaad Edizioni\",\"PaginaUno\",\"Goodfellas\",\"Coaching Sport\",\"Virginia Edizioni\",\"Le Lucerne\",\"Tetra\",\"Ctrl\",\"Officina Libraria\",\"Raffaello Ragazzi\",\"Phaidon\",\"Treccani\",\"ROI edizioni\",\"Manni\",\"Claudiana\",\"Minerva Edizioni (Bologna)\",\"I Libri di Isbn/Guidemoizzi\",\"Il Punto d'Incontro\",\"Milena Edizioni\",\"Terra di Mezzo\",\"Le due torri\",\"Cesurapublish\",\"Ideestortepaper\",\"Zero in Condotta\",\"Spartaco\",\"Libreria Editrice Orientalia\",\"Coppola Editore\",\"Analogon\",\"Armillaria\",\"Tralerighe\",\"Lizard\",\"Aracne\",\"StreetLib\",\"Prospero Editore\",\"Mimeb\\u00f9\",\"Alter Erebus\",\"Effigie\",\"DIARKOS\",\"Scatole Parlanti\",\"Eretica\",\"Vita e Pensiero\",\"Time Crime\",\"451\",\"Typimedia Editore\",\"Instar Libri\",\"DeA Planeta Libri\",\"Yume\",\"De Ferrari\",\"Forma Edizioni\",\"Ledizioni\",\"Dike Giuridica Editrice\",\"Arcana\",\"TS - Terra Santa\",\"Linee Infinite\",\"Phasar Edizioni\",\"L'Airone Editrice Roma\",\"L'Asino d'Oro\",\"Pacini Fazzi\",\"Magenes\",\"Guido Tommasi Editore-Datanova\",\"L'Erudita\",\"Ghibli\",\"Rosenberg & Sellier\",\"Edizioni Della Torre\",\"Intra Moenia\",\"Centro Studi Piemontesi\",\"Edizioni Convalle\",\"Kappalab\",\"Tomolo\",\"Mare di Carta\",\"Ilisso\",\"Orthotes\",\"Shockdom\",\"Editoriale Scientifica\",\"Nessundove\",\"Edizionidellassenza\",\"Lekton\",\"Taut\",\"Radici (Capistrello)\",\"Villaggio Maori\",\"Clown Bianco Edizioni\",\"Edizioni Zerotre\",\"Della Porta\",\"Graphot\",\"Kirke\",\"Scritturapura Casa Editrice\",\"Portatori d'Acqua\",\"Spider & Fish\",\"Dei Merangoli Editrice\",\"Qudulibri\",\"Bruno (Venezia)\",\"Corponove\",\"Enciclopedia delle Donne\",\"Brioschi\",\"Rapsodia\",\"Yowras Editrice\",\"Disney Libri\",\"Rina (Roma)\",\"Pension Lepic\",\"RAUM Italic\",\"F-Libri\",\"Postcart Edizioni\",\"Corsiero Editore\",\"Edizioni Scientifiche Italiane\",\"Stilo Editrice\",\"Infinito Edizioni\",\"LibriVolanti\",\"Pacini Editore\",\"Priuli & Verlucca\",\"Oligo\",\"Federighi\",\"Aragno\",\"Digressioni Editore\",\"Rueballu\",\"Notes Edizioni\",\"Comicout\",\"Edizioni Sabinae\",\"MdS Editore\",\"Black Dog\",\"Asinelli\",\"Dami Editore\",\"Giunti-Barbera\",\"Giunti Psychometrics\",\"Liguori\",\"EMP\",\"Edizioni Mediterranee\",\"Citt\\u00e0 Nuova\",\"Venturaedizioni\",\"Intermedia Edizioni\",\"SABIR\",\"Emersioni\",\"Laurana Editore\",\"Edizioni di Comunit\\u00e0\",\"Gallucci Kalimat\",\"Editoria & Spettacolo\",\"Iuppiter\",\"Acheron Books\",\"Farinaeditore\",\"Il Rio\",\"Foschi (Santarcangelo)\",\"Ananda Edizioni\",\"Sillabe\",\"Pacini Giuridica\",\"Uno Editori\",\"Gedi (Gruppo Editoriale)\",\"Edises professioni & concorsi\",\"Gallucci Bros\",\"Besa muci\",\"Bertoni\",\"Pane e Sale\",\"Mauro Pagliai Editore\",\"Pequod\",\"LEG Edizioni\",\"la meridiana\",\"Mondadori Bruno\",\"Iacobellieditore\",\"Edizioni del Baldo\",\"Anima Edizioni\",\"Gribaudi\",\"Biblioteca dell'Immagine\",\"Edizioni Artestampa\",\"Altreconomia\",\"Zecchini\",\"Renoir Comics\",\"Neos Edizioni\",\"Kellermann Editore\",\"Guerini Next\",\"Sedizioni\",\"Editoriale Cosmo\",\"nuovadimensione\",\"O Barra O Edizioni\",\"Salerno\",\"Italic\",\"Il Nuovo Melangolo\",\"Gli Ori\",\"Audino\",\"Scuola Normale Superiore\",\"Nuova IPSA\",\"Arcipelago Edizioni\",\"Ares\",\"Qiqajon\",\"Bietti\",\"Affinit\\u00e0 Elettive\",\"Idea Montagna Edizioni\",\"Masciulli Edizioni\",\"EFG\",\"Golem Edizioni\",\"A+MBookstore\",\"Parodi\",\"Il Ponte del Sale\",\"Studio Michelangelo\",\"Erreci (Bologna)\",\"Abax\",\"Edizioni dell'Urogallo\",\"Porthos Edizioni\",\"Sonic Press\",\"QB Quanto Basta\",\"Youcanprint\",\"Augh!\",\"EBS Print\",\"Editrice Bibliografica\",\"Matti da rilegare\",\"Jo March\",\"Autori Riuniti\",\"Modo Infoshop\",\"Enoteca Letteraria\",\"Telos\",\"Spagine\",\"Somara!\",\"Krisis Publishing\",\"KM\",\"Double Nickels\",\"Le Commari Edizioni\",\"Tsunami\",\"Musicaos\",\"Gattogrigioeditore\",\"Edizioni Settecolori\",\"Pungitopo\",\"Hop!\",\"Lazy Dog\",\"Buk Buk\",\"Hammerle Editori in Trieste\",\"Plesio Editore\",\"Artebambini\",\"Calabuig\",\"Florence Art Edizioni\",\"Officina Grafica\",\"Quinlan\",\"La Vela (Viareggio)\",\"Lullabit\",\"Gruppo Studi Capotauro\",\"Radici Future\",\"Bookdealer\",\"La Torre dei Venti\",\"Aras Edizioni\",\"L'Altracitt\\u00e0 (Roma)\",\"le plurali\",\"Marinonibooks\",\"66th and 2nd\",\"Rai Libri\",\"Cong\",\"Dante & Descartes\",\"Abendstern\",\"RVM Hub\",\"Exorma\",\"Aporema Edizioni\",\"AMZ\",\"Utet Giuridica\",\"Capone Editore\",\"Primavera\",\"Tempesta Editore\",\"Edizioni Effed\\u00ec\",\"IFIX\",\"L'Alba Ass. Cult.\",\"Liscianilibri\",\"SuiGeneris\",\"Incontri Nautici\",\"Aut Aut Edizioni\",\"Del Gran Sasso\",\"Hopi\",\"MicroMega\",\"Mangasenpai\",\"Nova Delphi Libri\",\"MalEdizioni\",\"La nave di Teseo O\",\"Fragatina\",\"CEA\",\"Zanichelli\",\"Giunti Scuola\",\"Rizzoli Etas\",\"edizioni Dedalo\",\"Booksprint\",\"Macro Junior\",\"Lion\",\"Piccin-Nuova Libraria\",\"Barbara di Fiore\",\"Didattica Attiva\",\"Il Formichiere\",\"Viola Editrice\",\"Nuove Esperienze\",\"Accademia del Diritto\",\"Volturnia Edizioni\",\"Edda Edizioni\",\"Nua\",\"Ziczic\",\"Edizioni del Graffio\",\"Ponte Sisto\",\"La Ruota\",\"GM Press\",\"Letteratura Alternativa\",\"Rossini (Rende)\",\"Paoline Editoriale Libri\",\"Scripta\",\"Independent Legions Publishing\",\"WritersEditor\",\"Terra d'Ulivi\",\"Graphofeel\",\"Elleboro\",\"Vololibero\",\"Risfoglia Editore\",\"Kanaga\",\"Effetto\",\"Scalpendi\",\"Zolfo\",\"Press & Archeos\",\"Luca Sossella Editore\",\"Edizioni Francescane Italiane\",\"Aristea\",\"La Rondine Edizioni\",\"Aspis\",\"Antonio Mandese\",\"Librido Gallucci\",\"Forum Edizioni\",\"Giovanelli Edizioni\",\"Viella\",\"L'Et\\u00e0 dell'Acquario\",\"Progetto Cultura\",\"Unicomunicazione.it\",\"Armenia\",\"La Scuola\",\"Editori Riuniti\",\"Editori Riuniti Univ. Press\",\"Marietti Junior\",\"Touring Junior\",\"Studium\",\"McGraw-Hill Education\",\"Unicopli\",\"Nardini\",\"Tecniche Nuove\",\"Apogeo\",\"Ancora\",\"CLEUP\",\"Abrabooks\",\"Palermo University Press\",\"Susil Edizioni\",\"Porto Seguro\",\"Edibimbi\",\"Sarnus\",\"artem\",\"Flaccovio Dario\",\"Felici\",\"Marlin (Cava de' Tirreni)\",\"eum\",\"Esedra\",\"Libreria dello Sport\",\"Fulmino\",\"Giraldi Editore\",\"Excelsior 1881\",\"EdiGi\\u00f2\",\"Bis\",\"LetteraVentidue\",\"Idea Libri\",\"Fondazione Renzo Piano\",\"Multiplayer Edizioni\",\"Maschietto Editore\",\"Ligurpress\",\"Il Maestrale\",\"Zona\",\"Biblos\",\"Tangram Edizioni Scientifiche\",\"Massimiliano Piretti Editore\",\"A.CAR.\",\"Iride\",\"Libreria Editrice Fiorentina\",\"Lo Scarabeo\",\"Alpes Italia\",\"Il Ponte Vecchio\",\"Edizioni Clandestine\",\"Caosfera\",\"Ciesse Edizioni\",\"Edizioni Giuseppe Laterza\",\"Res Gestae\",\"Orme Editori\",\"Bizzarro Books\",\"Caissa Italia\",\"Ultra\",\"Serra Tarantola\",\"Raffaelli\",\"goWare\",\"Damster\",\"La Caravella Editrice\",\"Absolutely Free\",\"Euno Edizioni\",\"Guida\",\"Curcio\",\"Fausto Lupetti Editore\",\"Curcu & Genovese Ass.\",\"Montag\",\"Nulla Die\",\"Effat\\u00e0\",\"Bibliotheka Edizioni\",\"Mnamon\",\"Cinquemarzo\",\"Libreria Geografica\",\"Grifo (Cavallino)\",\"Adnkronos Libri\",\"Stampa Triestina\",\"001 Edizioni\",\"Raetia\",\"Manifestolibri\",\"Alinari IDEA\",\"Aliberti\",\"Tabula Fati\",\"CDA & VIVALDA\",\"Eifis\",\"Gaspari\",\"Frilli\",\"Artemide\",\"Palomar\",\"A & B\",\"Archinto\",\"Jouvence\",\"Edizioni Goliardiche\",\"Piazza D.\",\"Nada\",\"Barbanera\",\"Hermes Edizioni\",\"Congedo\",\"In Dialogo\",\"Osanna Edizioni\",\"Iter Edizioni\",\"Lint Editoriale\",\"Lussografica\",\"Armando Dad\\u00f2 Editore\",\"Perdisa Pop\",\"Junior\",\"Agemina Edizioni\",\"Parallelo45 Edizioni\",\"Le Brumaie Editore\",\"Barometz\",\"Chiaredizioni\",\"CartaCanta\",\"Crowdbooks\",\"Edizioni Empiria Ass. Cult.\",\"Edizioni Il Frangente\",\"Publistampa\",\"Edizioni Interno4\",\"Controluna\",\"Kurumuny\",\"Multimedia Edizioni\",\"Cavallotto\",\"Tassinari\",\"Watson\",\"Accademia Vivarium Novum\",\"Pintore\",\"Medusa Edizioni\",\"ITA\",\"Connecting Cultures\",\"Edizioni Erasmo\",\"Edizioni Romena\",\"Sottosopra\",\"Omnigraf\",\"Calembour Libri\",\"Ultima Spiaggia\",\"Di Scaranari\",\"Ink Line\",\"Visiogeist\",\"Studio Garamond\",\"ilmiolibro self publishing\",\"Dialoghi\",\"Alessandro\",\"Algra\",\"CSA Editrice\",\"Le Lettere\",\"Andrea Pacilli Editore\",\"Centocanti\",\"WBA Project\",\"Roma per sempre\",\"Babele\",\"Edizioni Federica\",\"Nati per Scrivere\",\"Caff\\u00e8orchidea\",\"Noctua Book\",\"Tabularasa Edizioni\",\"Colla Editore\",\"Leggere Controvento\",\"A.s.d. Pas De Qua - Arte in Movimento\",\"Edizioni Underground?\",\"L'Incisiva\",\"Wall of Sound Editions\",\"L'Arco e la Corte\",\"Civita\",\"Libreria Editrice Internazionale Italo Svevo\",\"Smith\",\"Level82publishing\",\"Luciana Tufani Editrice\",\"TraRari TIPI\",\"Horti di Giano\",\"Immagina Di Essere Altro\",\"Tabor\",\"Balena Gobba\",\"Bette\",\"Erranti\",\"Falco M.\",\"Momo Edizioni\",\"Montura Editing\",\"Terra Somnia\",\"I Girasogni\",\"Grafikamente\",\"PandiLettere\",\"Editime\",\"Il Gufo\",\"Inari Books\",\"CrunchEd\",\"Argonauta\",\"Oaks Editrice\",\"Aurora Edizioni\",\"Readrink\",\"L'Argolibro\",\"Samuele\",\"Fef\\u00e8\",\"Aletheia Editore\",\"Prospettiva Editrice\",\"Carabba\",\"Helvetia\",\"Cierre Grafica\",\"Lineadacqua\",\"Round Robin Editrice\",\"Media Video\",\"Ad Est dell'Equatore\",\"Moroni\",\"Bepress\",\"Aereostella\",\"Istituto Poligrafico Europeo\",\"Od\\u00f3s (Udine)\",\"Nuages\",\"Historica Edizioni\",\"Alfaudiobook Audiolibri\",\"Pezzini\",\"Fasi di Luna\",\"Adea\",\"XY.IT\",\"EdizioniPiagge\",\"Colibr\\u00ec Edizioni\",\"Bordeaux\",\"Gallo (Vercelli)\",\"Espress Edizioni\",\"Il Cubo\",\"Lozzi Editori\",\"Portaparole\",\"In Your Face Comix\",\"Bertoni Editore\",\"Pubblisfera\",\"LaPiccolaVolante\",\"editpress\",\"Spazio Interiore\",\"Susalibri\",\"Endemunde\",\"Giuda Edizioni\",\"COMICON Edizioni\",\"Liberilibri\",\"TIWI\",\"Montaonda\",\"Libreria Europa\",\"Aion\",\"LEIMA Edizioni\",\"Barta\",\"Caracol\",\"Biblioteca dei Leoni\",\"Alcheringa\",\"Ventisei Lettere\",\"Edizioni SEB27\",\"Aipsa\",\"'round midnight\",\"La Casa Usher\",\"Echos Edizioni\",\"Navarra Editore\",\"Piccola Casa Editrice\",\"Edizioni Efesto\",\"Bradipolibri\",\"Le Piccole Pagine\",\"Fila 37\",\"Thedotcompany\",\"La Lepre Edizioni\",\"Dielle Editore\",\"Gammar\\u00f2 Edizioni\",\"ilfilorosso\",\"Epika\",\"ED-Enrico Damiani Editore\",\"IlViandante\",\"13Lab (Milano)\",\"Linea Edizioni\",\"Incontri Editrice\",\"Antezza\",\"Peruzzo Editoriale\",\"Altravista\",\"Rogas\",\"Colonnese\",\"96 rue de-La-Fontaine Edizioni\",\"Fahrenheit 451\",\"Harpo\",\"Cinquesensi\",\"Edizioni il Galeone\",\"Torri del Vento\",\"Oltre Edizioni\",\"Chiado Books Italia\",\"Montedit\",\"Il Margine (Trento)\",\"Br\\u00e8\",\"Paesi Edizioni\",\"ATS Giacomo Catalani Editore\",\"Lithos\",\"Pathos Edizioni\",\"Calibano\",\"Nalanda\",\"Ferrari Editore\",\"Franco Maria Ricci\",\"Ubiliber\",\"Capovolte\",\"Kriss\",\"Edizioni Malamente\",\"FVE\"],\"xaxis\":\"x\",\"y\":[554,506,327,322,224,187,164,149,140,134,128,128,124,119,116,114,111,111,107,106,101,99,92,91,89,89,86,80,78,78,77,77,75,75,74,72,72,70,69,65,65,63,61,60,59,59,59,56,56,54,53,52,52,52,52,51,51,49,49,48,47,46,46,45,45,44,44,43,43,42,42,41,41,41,40,39,37,36,35,35,34,34,34,34,33,33,32,31,31,30,30,29,29,28,28,28,27,27,27,27,26,25,25,24,24,24,24,23,23,23,22,22,22,22,22,21,21,21,20,20,20,20,20,19,19,19,19,19,19,18,18,18,18,18,18,18,17,16,16,16,16,16,16,16,16,16,16,15,15,15,15,15,15,15,15,15,14,14,14,14,14,14,14,14,14,14,14,13,13,13,13,13,13,13,13,13,12,12,12,12,12,12,12,12,12,12,11,11,11,11,11,11,11,11,11,11,11,10,10,10,10,10,10,10,10,10,10,10,10,10,9,9,9,9,9,9,9,9,9,9,9,8,8,8,8,8,8,8,8,8,8,8,8,8,8,8,8,8,8,8,8,8,8,7,7,7,7,7,7,7,7,7,7,7,7,7,7,7,7,7,7,7,7,7,7,7,7,7,7,7,7,7,7,7,7,7,7,6,6,6,6,6,6,6,6,6,6,6,6,6,6,6,6,6,6,6,6,6,6,6,6,6,6,6,6,6,6,6,5,5,5,5,5,5,5,5,5,5,5,5,5,5,5,5,5,5,5,5,5,5,5,5,5,5,5,5,5,5,5,5,5,5,5,5,5,4,4,4,4,4,4,4,4,4,4,4,4,4,4,4,4,4,4,4,4,4,4,4,4,4,4,4,4,4,4,4,4,4,4,4,4,4,4,4,4,4,4,4,4,4,4,4,4,4,4,4,4,4,4,4,4,4,4,4,4,3,3,3,3,3,3,3,3,3,3,3,3,3,3,3,3,3,3,3,3,3,3,3,3,3,3,3,3,3,3,3,3,3,3,3,3,3,3,3,3,3,3,3,3,3,3,3,3,3,3,3,3,3,3,3,3,3,3,3,3,3,3,3,3,3,3,3,3,3,3,3,3,3,3,3,3,3,3,3,3,3,3,3,3,3,3,3,3,3,2,2,2,2,2,2,2,2,2,2,2,2,2,2,2,2,2,2,2,2,2,2,2,2,2,2,2,2,2,2,2,2,2,2,2,2,2,2,2,2,2,2,2,2,2,2,2,2,2,2,2,2,2,2,2,2,2,2,2,2,2,2,2,2,2,2,2,2,2,2,2,2,2,2,2,2,2,2,2,2,2,2,2,2,2,2,2,2,2,2,2,2,2,2,2,2,2,2,2,2,2,2,2,2,2,2,2,2,2,2,2,2,2,2,2,2,2,2,2,2,2,2,2,2,2,2,2,2,2,2,2,2,2,2,2,2,2,2,2,2,2,1,1,1,1,1,1,1,1,1,1,1,1,1,1,1,1,1,1,1,1,1,1,1,1,1,1,1,1,1,1,1,1,1,1,1,1,1,1,1,1,1,1,1,1,1,1,1,1,1,1,1,1,1,1,1,1,1,1,1,1,1,1,1,1,1,1,1,1,1,1,1,1,1,1,1,1,1,1,1,1,1,1,1,1,1,1,1,1,1,1,1,1,1,1,1,1,1,1,1,1,1,1,1,1,1,1,1,1,1,1,1,1,1,1,1,1,1,1,1,1,1,1,1,1,1,1,1,1,1,1,1,1,1,1,1,1,1,1,1,1,1,1,1,1,1,1,1,1,1,1,1,1,1,1,1,1,1,1,1,1,1,1,1,1,1,1,1,1,1,1,1,1,1,1,1,1,1,1,1,1,1,1,1,1,1,1,1,1,1,1,1,1,1,1,1,1,1,1,1,1,1,1,1,1,1,1,1,1,1,1,1,1,1,1,1,1,1,1,1,1,1,1,1,1,1,1,1,1,1,1,1,1,1,1,1,1,1,1,1,1,1,1,1,1,1,1,1,1,1,1,1,1,1,1,1,1,1,1,1,1,1,1,1,1,1,1,1,1,1,1,1,1,1,1,1,1,1,1,1,1,1,1,1,1,1,1,1,1,1,1,1,1,1,1,1,1,1,1,1,1,1,1,1,1,1,1,1,1,1,1,1,1,1,1,1,1,1,1,1,1,1,1,1,1,1,1,1,1,1,1,1,1,1,1,1,1,1,1,1,1,1,1,1,1,1,1,1,1,1,1,1,1,1,1,1,1,1,1,1,1,1,1,1,1,1,1,1,1,1,1,1,1,1,1,1],\"yaxis\":\"y\",\"type\":\"bar\"}],                        {\"template\":{\"data\":{\"histogram2dcontour\":[{\"type\":\"histogram2dcontour\",\"colorbar\":{\"outlinewidth\":0,\"ticks\":\"\"},\"colorscale\":[[0.0,\"#0d0887\"],[0.1111111111111111,\"#46039f\"],[0.2222222222222222,\"#7201a8\"],[0.3333333333333333,\"#9c179e\"],[0.4444444444444444,\"#bd3786\"],[0.5555555555555556,\"#d8576b\"],[0.6666666666666666,\"#ed7953\"],[0.7777777777777778,\"#fb9f3a\"],[0.8888888888888888,\"#fdca26\"],[1.0,\"#f0f921\"]]}],\"choropleth\":[{\"type\":\"choropleth\",\"colorbar\":{\"outlinewidth\":0,\"ticks\":\"\"}}],\"histogram2d\":[{\"type\":\"histogram2d\",\"colorbar\":{\"outlinewidth\":0,\"ticks\":\"\"},\"colorscale\":[[0.0,\"#0d0887\"],[0.1111111111111111,\"#46039f\"],[0.2222222222222222,\"#7201a8\"],[0.3333333333333333,\"#9c179e\"],[0.4444444444444444,\"#bd3786\"],[0.5555555555555556,\"#d8576b\"],[0.6666666666666666,\"#ed7953\"],[0.7777777777777778,\"#fb9f3a\"],[0.8888888888888888,\"#fdca26\"],[1.0,\"#f0f921\"]]}],\"heatmap\":[{\"type\":\"heatmap\",\"colorbar\":{\"outlinewidth\":0,\"ticks\":\"\"},\"colorscale\":[[0.0,\"#0d0887\"],[0.1111111111111111,\"#46039f\"],[0.2222222222222222,\"#7201a8\"],[0.3333333333333333,\"#9c179e\"],[0.4444444444444444,\"#bd3786\"],[0.5555555555555556,\"#d8576b\"],[0.6666666666666666,\"#ed7953\"],[0.7777777777777778,\"#fb9f3a\"],[0.8888888888888888,\"#fdca26\"],[1.0,\"#f0f921\"]]}],\"heatmapgl\":[{\"type\":\"heatmapgl\",\"colorbar\":{\"outlinewidth\":0,\"ticks\":\"\"},\"colorscale\":[[0.0,\"#0d0887\"],[0.1111111111111111,\"#46039f\"],[0.2222222222222222,\"#7201a8\"],[0.3333333333333333,\"#9c179e\"],[0.4444444444444444,\"#bd3786\"],[0.5555555555555556,\"#d8576b\"],[0.6666666666666666,\"#ed7953\"],[0.7777777777777778,\"#fb9f3a\"],[0.8888888888888888,\"#fdca26\"],[1.0,\"#f0f921\"]]}],\"contourcarpet\":[{\"type\":\"contourcarpet\",\"colorbar\":{\"outlinewidth\":0,\"ticks\":\"\"}}],\"contour\":[{\"type\":\"contour\",\"colorbar\":{\"outlinewidth\":0,\"ticks\":\"\"},\"colorscale\":[[0.0,\"#0d0887\"],[0.1111111111111111,\"#46039f\"],[0.2222222222222222,\"#7201a8\"],[0.3333333333333333,\"#9c179e\"],[0.4444444444444444,\"#bd3786\"],[0.5555555555555556,\"#d8576b\"],[0.6666666666666666,\"#ed7953\"],[0.7777777777777778,\"#fb9f3a\"],[0.8888888888888888,\"#fdca26\"],[1.0,\"#f0f921\"]]}],\"surface\":[{\"type\":\"surface\",\"colorbar\":{\"outlinewidth\":0,\"ticks\":\"\"},\"colorscale\":[[0.0,\"#0d0887\"],[0.1111111111111111,\"#46039f\"],[0.2222222222222222,\"#7201a8\"],[0.3333333333333333,\"#9c179e\"],[0.4444444444444444,\"#bd3786\"],[0.5555555555555556,\"#d8576b\"],[0.6666666666666666,\"#ed7953\"],[0.7777777777777778,\"#fb9f3a\"],[0.8888888888888888,\"#fdca26\"],[1.0,\"#f0f921\"]]}],\"mesh3d\":[{\"type\":\"mesh3d\",\"colorbar\":{\"outlinewidth\":0,\"ticks\":\"\"}}],\"scatter\":[{\"fillpattern\":{\"fillmode\":\"overlay\",\"size\":10,\"solidity\":0.2},\"type\":\"scatter\"}],\"parcoords\":[{\"type\":\"parcoords\",\"line\":{\"colorbar\":{\"outlinewidth\":0,\"ticks\":\"\"}}}],\"scatterpolargl\":[{\"type\":\"scatterpolargl\",\"marker\":{\"colorbar\":{\"outlinewidth\":0,\"ticks\":\"\"}}}],\"bar\":[{\"error_x\":{\"color\":\"#2a3f5f\"},\"error_y\":{\"color\":\"#2a3f5f\"},\"marker\":{\"line\":{\"color\":\"#E5ECF6\",\"width\":0.5},\"pattern\":{\"fillmode\":\"overlay\",\"size\":10,\"solidity\":0.2}},\"type\":\"bar\"}],\"scattergeo\":[{\"type\":\"scattergeo\",\"marker\":{\"colorbar\":{\"outlinewidth\":0,\"ticks\":\"\"}}}],\"scatterpolar\":[{\"type\":\"scatterpolar\",\"marker\":{\"colorbar\":{\"outlinewidth\":0,\"ticks\":\"\"}}}],\"histogram\":[{\"marker\":{\"pattern\":{\"fillmode\":\"overlay\",\"size\":10,\"solidity\":0.2}},\"type\":\"histogram\"}],\"scattergl\":[{\"type\":\"scattergl\",\"marker\":{\"colorbar\":{\"outlinewidth\":0,\"ticks\":\"\"}}}],\"scatter3d\":[{\"type\":\"scatter3d\",\"line\":{\"colorbar\":{\"outlinewidth\":0,\"ticks\":\"\"}},\"marker\":{\"colorbar\":{\"outlinewidth\":0,\"ticks\":\"\"}}}],\"scattermapbox\":[{\"type\":\"scattermapbox\",\"marker\":{\"colorbar\":{\"outlinewidth\":0,\"ticks\":\"\"}}}],\"scatterternary\":[{\"type\":\"scatterternary\",\"marker\":{\"colorbar\":{\"outlinewidth\":0,\"ticks\":\"\"}}}],\"scattercarpet\":[{\"type\":\"scattercarpet\",\"marker\":{\"colorbar\":{\"outlinewidth\":0,\"ticks\":\"\"}}}],\"carpet\":[{\"aaxis\":{\"endlinecolor\":\"#2a3f5f\",\"gridcolor\":\"white\",\"linecolor\":\"white\",\"minorgridcolor\":\"white\",\"startlinecolor\":\"#2a3f5f\"},\"baxis\":{\"endlinecolor\":\"#2a3f5f\",\"gridcolor\":\"white\",\"linecolor\":\"white\",\"minorgridcolor\":\"white\",\"startlinecolor\":\"#2a3f5f\"},\"type\":\"carpet\"}],\"table\":[{\"cells\":{\"fill\":{\"color\":\"#EBF0F8\"},\"line\":{\"color\":\"white\"}},\"header\":{\"fill\":{\"color\":\"#C8D4E3\"},\"line\":{\"color\":\"white\"}},\"type\":\"table\"}],\"barpolar\":[{\"marker\":{\"line\":{\"color\":\"#E5ECF6\",\"width\":0.5},\"pattern\":{\"fillmode\":\"overlay\",\"size\":10,\"solidity\":0.2}},\"type\":\"barpolar\"}],\"pie\":[{\"automargin\":true,\"type\":\"pie\"}]},\"layout\":{\"autotypenumbers\":\"strict\",\"colorway\":[\"#636efa\",\"#EF553B\",\"#00cc96\",\"#ab63fa\",\"#FFA15A\",\"#19d3f3\",\"#FF6692\",\"#B6E880\",\"#FF97FF\",\"#FECB52\"],\"font\":{\"color\":\"#2a3f5f\"},\"hovermode\":\"closest\",\"hoverlabel\":{\"align\":\"left\"},\"paper_bgcolor\":\"white\",\"plot_bgcolor\":\"#E5ECF6\",\"polar\":{\"bgcolor\":\"#E5ECF6\",\"angularaxis\":{\"gridcolor\":\"white\",\"linecolor\":\"white\",\"ticks\":\"\"},\"radialaxis\":{\"gridcolor\":\"white\",\"linecolor\":\"white\",\"ticks\":\"\"}},\"ternary\":{\"bgcolor\":\"#E5ECF6\",\"aaxis\":{\"gridcolor\":\"white\",\"linecolor\":\"white\",\"ticks\":\"\"},\"baxis\":{\"gridcolor\":\"white\",\"linecolor\":\"white\",\"ticks\":\"\"},\"caxis\":{\"gridcolor\":\"white\",\"linecolor\":\"white\",\"ticks\":\"\"}},\"coloraxis\":{\"colorbar\":{\"outlinewidth\":0,\"ticks\":\"\"}},\"colorscale\":{\"sequential\":[[0.0,\"#0d0887\"],[0.1111111111111111,\"#46039f\"],[0.2222222222222222,\"#7201a8\"],[0.3333333333333333,\"#9c179e\"],[0.4444444444444444,\"#bd3786\"],[0.5555555555555556,\"#d8576b\"],[0.6666666666666666,\"#ed7953\"],[0.7777777777777778,\"#fb9f3a\"],[0.8888888888888888,\"#fdca26\"],[1.0,\"#f0f921\"]],\"sequentialminus\":[[0.0,\"#0d0887\"],[0.1111111111111111,\"#46039f\"],[0.2222222222222222,\"#7201a8\"],[0.3333333333333333,\"#9c179e\"],[0.4444444444444444,\"#bd3786\"],[0.5555555555555556,\"#d8576b\"],[0.6666666666666666,\"#ed7953\"],[0.7777777777777778,\"#fb9f3a\"],[0.8888888888888888,\"#fdca26\"],[1.0,\"#f0f921\"]],\"diverging\":[[0,\"#8e0152\"],[0.1,\"#c51b7d\"],[0.2,\"#de77ae\"],[0.3,\"#f1b6da\"],[0.4,\"#fde0ef\"],[0.5,\"#f7f7f7\"],[0.6,\"#e6f5d0\"],[0.7,\"#b8e186\"],[0.8,\"#7fbc41\"],[0.9,\"#4d9221\"],[1,\"#276419\"]]},\"xaxis\":{\"gridcolor\":\"white\",\"linecolor\":\"white\",\"ticks\":\"\",\"title\":{\"standoff\":15},\"zerolinecolor\":\"white\",\"automargin\":true,\"zerolinewidth\":2},\"yaxis\":{\"gridcolor\":\"white\",\"linecolor\":\"white\",\"ticks\":\"\",\"title\":{\"standoff\":15},\"zerolinecolor\":\"white\",\"automargin\":true,\"zerolinewidth\":2},\"scene\":{\"xaxis\":{\"backgroundcolor\":\"#E5ECF6\",\"gridcolor\":\"white\",\"linecolor\":\"white\",\"showbackground\":true,\"ticks\":\"\",\"zerolinecolor\":\"white\",\"gridwidth\":2},\"yaxis\":{\"backgroundcolor\":\"#E5ECF6\",\"gridcolor\":\"white\",\"linecolor\":\"white\",\"showbackground\":true,\"ticks\":\"\",\"zerolinecolor\":\"white\",\"gridwidth\":2},\"zaxis\":{\"backgroundcolor\":\"#E5ECF6\",\"gridcolor\":\"white\",\"linecolor\":\"white\",\"showbackground\":true,\"ticks\":\"\",\"zerolinecolor\":\"white\",\"gridwidth\":2}},\"shapedefaults\":{\"line\":{\"color\":\"#2a3f5f\"}},\"annotationdefaults\":{\"arrowcolor\":\"#2a3f5f\",\"arrowhead\":0,\"arrowwidth\":1},\"geo\":{\"bgcolor\":\"white\",\"landcolor\":\"#E5ECF6\",\"subunitcolor\":\"white\",\"showland\":true,\"showlakes\":true,\"lakecolor\":\"white\"},\"title\":{\"x\":0.05},\"mapbox\":{\"style\":\"light\"}}},\"xaxis\":{\"anchor\":\"y\",\"domain\":[0.0,1.0],\"title\":{\"text\":\"Publisher\"}},\"yaxis\":{\"anchor\":\"x\",\"domain\":[0.0,1.0],\"title\":{\"text\":\"Frequency\"}},\"legend\":{\"tracegroupgap\":0},\"title\":{\"text\":\"Frequency distribution of publishers in our network\"},\"barmode\":\"relative\",\"bargap\":0.3},                        {\"responsive\": true}                    ).then(function(){\n                            \nvar gd = document.getElementById('06c3ae4f-b006-4946-9a9c-bca1c71ab1c7');\nvar x = new MutationObserver(function (mutations, observer) {{\n        var display = window.getComputedStyle(gd).display;\n        if (!display || display === 'none') {{\n            console.log([gd, 'removed!']);\n            Plotly.purge(gd);\n            observer.disconnect();\n        }}\n}});\n\n// Listen for the removal of the full notebook cells\nvar notebookContainer = gd.closest('#notebook-container');\nif (notebookContainer) {{\n    x.observe(notebookContainer, {childList: true});\n}}\n\n// Listen for the clearing of the current output cell\nvar outputEl = gd.closest('.output');\nif (outputEl) {{\n    x.observe(outputEl, {childList: true});\n}}\n\n                        })                };                });            </script>        </div>"
     },
     "metadata": {},
     "output_type": "display_data"
    }
   ],
   "source": [
    "#distribution per frequency of publishers in nodelist\n",
    "\n",
    "PublishersNodelist = []\n",
    "for index, row in nodeList.iterrows():\n",
    "    PublishersNodelist.append(nodeList.loc[index, 'editore'])\n",
    "\n",
    "cntPubNodelist = Counter()\n",
    "\n",
    "mostCommon(cntPubNodelist, PublishersNodelist)\n",
    "\n",
    "PubFreqNodelist = pd.DataFrame(columns=['Genre', 'Frequency'])\n",
    "for count, el in enumerate(cntPubNodelist.most_common()):\n",
    "    new_row = {'Publisher': el[0], 'Frequency': el[1]}\n",
    "    PubFreqNodelist = PubFreqNodelist.append(new_row, ignore_index=True)\n",
    "\n",
    "fig12 = px.bar(PubFreqNodelist, x=\"Publisher\", y=\"Frequency\", title = 'Frequency distribution of publishers in our network')\n",
    "fig12.update_layout(bargap=0.3)\n",
    "fig12.show()"
   ],
   "metadata": {
    "collapsed": false,
    "pycharm": {
     "name": "#%%\n"
    }
   }
  },
  {
   "cell_type": "code",
   "execution_count": 668,
   "outputs": [
    {
     "data": {
      "text/plain": "               Publisher community1_frequency network_frequency\n0              Babalibri                  100               149\n1         Terre di Mezzo                   79               140\n2        Orecchio Acerbo                   75               119\n3              Mondadori                   69               506\n4                  Lapis                   64                91\n...                  ...                  ...               ...\n1005            Ubiliber                  NaN                 1\n1006           Capovolte                  NaN                 1\n1007               Kriss                  NaN                 1\n1008  Edizioni Malamente                  NaN                 1\n1009                 FVE                  NaN                 1\n\n[1010 rows x 3 columns]",
      "text/html": "<div>\n<style scoped>\n    .dataframe tbody tr th:only-of-type {\n        vertical-align: middle;\n    }\n\n    .dataframe tbody tr th {\n        vertical-align: top;\n    }\n\n    .dataframe thead th {\n        text-align: right;\n    }\n</style>\n<table border=\"1\" class=\"dataframe\">\n  <thead>\n    <tr style=\"text-align: right;\">\n      <th></th>\n      <th>Publisher</th>\n      <th>community1_frequency</th>\n      <th>network_frequency</th>\n    </tr>\n  </thead>\n  <tbody>\n    <tr>\n      <th>0</th>\n      <td>Babalibri</td>\n      <td>100</td>\n      <td>149</td>\n    </tr>\n    <tr>\n      <th>1</th>\n      <td>Terre di Mezzo</td>\n      <td>79</td>\n      <td>140</td>\n    </tr>\n    <tr>\n      <th>2</th>\n      <td>Orecchio Acerbo</td>\n      <td>75</td>\n      <td>119</td>\n    </tr>\n    <tr>\n      <th>3</th>\n      <td>Mondadori</td>\n      <td>69</td>\n      <td>506</td>\n    </tr>\n    <tr>\n      <th>4</th>\n      <td>Lapis</td>\n      <td>64</td>\n      <td>91</td>\n    </tr>\n    <tr>\n      <th>...</th>\n      <td>...</td>\n      <td>...</td>\n      <td>...</td>\n    </tr>\n    <tr>\n      <th>1005</th>\n      <td>Ubiliber</td>\n      <td>NaN</td>\n      <td>1</td>\n    </tr>\n    <tr>\n      <th>1006</th>\n      <td>Capovolte</td>\n      <td>NaN</td>\n      <td>1</td>\n    </tr>\n    <tr>\n      <th>1007</th>\n      <td>Kriss</td>\n      <td>NaN</td>\n      <td>1</td>\n    </tr>\n    <tr>\n      <th>1008</th>\n      <td>Edizioni Malamente</td>\n      <td>NaN</td>\n      <td>1</td>\n    </tr>\n    <tr>\n      <th>1009</th>\n      <td>FVE</td>\n      <td>NaN</td>\n      <td>1</td>\n    </tr>\n  </tbody>\n</table>\n<p>1010 rows × 3 columns</p>\n</div>"
     },
     "execution_count": 668,
     "metadata": {},
     "output_type": "execute_result"
    }
   ],
   "source": [
    "#merging and joining the dataframe with the publisher+frequency of community 1 and those relative to the entire network\n",
    "PublFreqComparison = pd.merge(left=PublisherFreq, right=PubFreqNodelist, how='outer', on='Publisher')\n",
    "PublFreqComparison.rename(columns={'Frequency_x':'community1_frequency','Frequency_y':'network_frequency'}, inplace=True)\n",
    "\n",
    "del PublFreqComparison['Genre']\n",
    "PublFreqComparison"
   ],
   "metadata": {
    "collapsed": false,
    "pycharm": {
     "name": "#%%\n"
    }
   }
  },
  {
   "cell_type": "code",
   "execution_count": 669,
   "outputs": [
    {
     "data": {
      "text/plain": "               Publisher  community1_frequency network_frequency\n0              Babalibri                   100               149\n1         Terre di Mezzo                    79               140\n2        Orecchio Acerbo                    75               119\n3              Mondadori                    69               506\n4                  Lapis                    64                91\n...                  ...                   ...               ...\n1005            Ubiliber                     0                 1\n1006           Capovolte                     0                 1\n1007               Kriss                     0                 1\n1008  Edizioni Malamente                     0                 1\n1009                 FVE                     0                 1\n\n[1010 rows x 3 columns]",
      "text/html": "<div>\n<style scoped>\n    .dataframe tbody tr th:only-of-type {\n        vertical-align: middle;\n    }\n\n    .dataframe tbody tr th {\n        vertical-align: top;\n    }\n\n    .dataframe thead th {\n        text-align: right;\n    }\n</style>\n<table border=\"1\" class=\"dataframe\">\n  <thead>\n    <tr style=\"text-align: right;\">\n      <th></th>\n      <th>Publisher</th>\n      <th>community1_frequency</th>\n      <th>network_frequency</th>\n    </tr>\n  </thead>\n  <tbody>\n    <tr>\n      <th>0</th>\n      <td>Babalibri</td>\n      <td>100</td>\n      <td>149</td>\n    </tr>\n    <tr>\n      <th>1</th>\n      <td>Terre di Mezzo</td>\n      <td>79</td>\n      <td>140</td>\n    </tr>\n    <tr>\n      <th>2</th>\n      <td>Orecchio Acerbo</td>\n      <td>75</td>\n      <td>119</td>\n    </tr>\n    <tr>\n      <th>3</th>\n      <td>Mondadori</td>\n      <td>69</td>\n      <td>506</td>\n    </tr>\n    <tr>\n      <th>4</th>\n      <td>Lapis</td>\n      <td>64</td>\n      <td>91</td>\n    </tr>\n    <tr>\n      <th>...</th>\n      <td>...</td>\n      <td>...</td>\n      <td>...</td>\n    </tr>\n    <tr>\n      <th>1005</th>\n      <td>Ubiliber</td>\n      <td>0</td>\n      <td>1</td>\n    </tr>\n    <tr>\n      <th>1006</th>\n      <td>Capovolte</td>\n      <td>0</td>\n      <td>1</td>\n    </tr>\n    <tr>\n      <th>1007</th>\n      <td>Kriss</td>\n      <td>0</td>\n      <td>1</td>\n    </tr>\n    <tr>\n      <th>1008</th>\n      <td>Edizioni Malamente</td>\n      <td>0</td>\n      <td>1</td>\n    </tr>\n    <tr>\n      <th>1009</th>\n      <td>FVE</td>\n      <td>0</td>\n      <td>1</td>\n    </tr>\n  </tbody>\n</table>\n<p>1010 rows × 3 columns</p>\n</div>"
     },
     "execution_count": 669,
     "metadata": {},
     "output_type": "execute_result"
    }
   ],
   "source": [
    "#replace NaN values with 0\n",
    "PublFreqComparison['community1_frequency'] = PublFreqComparison['community1_frequency'].fillna(0)\n",
    "PublFreqComparison"
   ],
   "metadata": {
    "collapsed": false,
    "pycharm": {
     "name": "#%%\n"
    }
   }
  },
  {
   "cell_type": "code",
   "execution_count": null,
   "outputs": [],
   "source": [],
   "metadata": {
    "collapsed": false,
    "pycharm": {
     "name": "#%%\n"
    }
   }
  },
  {
   "cell_type": "markdown",
   "source": [
    "##### Assortative mixing with node attributes on community 1"
   ],
   "metadata": {
    "collapsed": false,
    "pycharm": {
     "name": "#%% md\n"
    }
   }
  },
  {
   "cell_type": "code",
   "execution_count": 676,
   "outputs": [],
   "source": [
    "#transform each community into its relative graph\n",
    "C = [g.subgraph(c).copy() for c in louv_coms.communities]\n",
    "\n",
    "#comm 1 graph\n",
    "G_comm1 = C[0]\n"
   ],
   "metadata": {
    "collapsed": false,
    "pycharm": {
     "name": "#%%\n"
    }
   }
  },
  {
   "cell_type": "code",
   "execution_count": 677,
   "outputs": [
    {
     "data": {
      "text/plain": "0.08610461815411075"
     },
     "execution_count": 677,
     "metadata": {},
     "output_type": "execute_result"
    }
   ],
   "source": [
    "#Newman's assortativity: Degree assortative = if Nodes tends to connect homogeneously w.r.t. their degree (e.g., hubs with hubs)\n",
    "nx.degree_assortativity_coefficient(G_comm1)"
   ],
   "metadata": {
    "collapsed": false,
    "pycharm": {
     "name": "#%%\n"
    }
   }
  },
  {
   "cell_type": "code",
   "execution_count": 678,
   "outputs": [],
   "source": [
    "#function to retrieve the assortative mixing wth all the nodes attributes of comm.1 and those of the whole network\n",
    "# +  adding these values into a DF\n",
    "def AssortativeMixing(communitySet, GraphCommunitySet):\n",
    "    df = pd.DataFrame(columns=[\"Network\"])\n",
    "    df.loc[\"Genre\"] = nx.attribute_assortativity_coefficient(g, 'BookGenre')\n",
    "    df.loc[\"Publisher\"] = nx.attribute_assortativity_coefficient(g, 'BookPublisher')\n",
    "    df.loc[\"Author\"] = nx.attribute_assortativity_coefficient(g, 'BookAuthor')\n",
    "    df.loc[\"Year\"] = nx.attribute_assortativity_coefficient(g, 'YearOfPublication')\n",
    "    df.loc[\"Recommendations\"] = nx.attribute_assortativity_coefficient(g, 'RecommendationsReceived')\n",
    "    for x in range(len(communitySet)):\n",
    "        n_of_comm = x+1\n",
    "        assGenre = nx.attribute_assortativity_coefficient(GraphCommunitySet[x], 'BookGenre')\n",
    "        assPubl = nx.attribute_assortativity_coefficient(GraphCommunitySet[x], 'BookPublisher')\n",
    "        assAuth = nx.attribute_assortativity_coefficient(GraphCommunitySet[x], 'BookAuthor')\n",
    "        assYear = nx.attribute_assortativity_coefficient(GraphCommunitySet[x], 'YearOfPublication')\n",
    "        assRecomm = nx.attribute_assortativity_coefficient(GraphCommunitySet[x], 'RecommendationsReceived')\n",
    "        df.insert(x+1, f\"Comm. {x+1}\",[assGenre, assPubl, assAuth, assYear, assRecomm], True)\n",
    "        #print(f\"Assortativity community {n_of_comm}:\")\n",
    "        #print(f\"Genre: {assGenre} - Publisher: {assPubl} - Author: {assAuth} - Year: {assYear} - Recommendations: {assRecomm}\")\n",
    "        #print()\n",
    "        #print()\n",
    "    return df"
   ],
   "metadata": {
    "collapsed": false,
    "pycharm": {
     "name": "#%%\n"
    }
   }
  },
  {
   "cell_type": "code",
   "execution_count": 679,
   "outputs": [
    {
     "data": {
      "text/plain": "                  Network   Comm. 1   Comm. 2   Comm. 3   Comm. 4   Comm. 5  \\\nGenre            0.216410  0.089608  0.017899  0.030115  0.048206  0.043337   \nPublisher        0.046855  0.029726  0.021219  0.037963  0.011579  0.002696   \nAuthor           0.004049  0.003434  0.000848  0.004342  0.002143 -0.002147   \nYear             0.090426  0.028502  0.056445  0.043281  0.012806  0.042221   \nRecommendations  0.031507  0.005834  0.006478  0.010835 -0.000927 -0.001032   \n\n                  Comm. 6   Comm. 7   Comm. 8   Comm. 9  ...  Comm. 18  \\\nGenre            0.083592  0.018213  0.003672  0.052429  ...  0.001217   \nPublisher        0.009638  0.014185  0.001071  0.015147  ... -0.005151   \nAuthor          -0.000684  0.000410 -0.002300  0.000370  ... -0.006338   \nYear             0.109651  0.076827  0.001088  0.014802  ...  0.005585   \nRecommendations  0.025679  0.010897 -0.003735  0.014030  ... -0.006005   \n\n                 Comm. 19  Comm. 20  Comm. 21  Comm. 22  Comm. 23  Comm. 24  \\\nGenre           -0.011628 -0.012048 -0.024195 -0.027778 -0.030303 -0.037037   \nPublisher       -0.011628 -0.012048 -0.028666 -0.027778 -0.030303 -0.037037   \nAuthor          -0.011628 -0.012048 -0.028527 -0.027778 -0.030303 -0.037037   \nYear            -0.011628 -0.012048 -0.024504 -0.027778 -0.030303 -0.037037   \nRecommendations -0.011628 -0.012048 -0.031567 -0.027778 -0.030303 -0.037037   \n\n                 Comm. 25  Comm. 26  Comm. 27  \nGenre             -0.0625   -0.0625      -0.1  \nPublisher         -0.0625   -0.0625      -0.1  \nAuthor            -0.0625   -0.0625      -0.1  \nYear              -0.0625   -0.0625      -0.1  \nRecommendations   -0.0625       NaN      -0.1  \n\n[5 rows x 28 columns]",
      "text/html": "<div>\n<style scoped>\n    .dataframe tbody tr th:only-of-type {\n        vertical-align: middle;\n    }\n\n    .dataframe tbody tr th {\n        vertical-align: top;\n    }\n\n    .dataframe thead th {\n        text-align: right;\n    }\n</style>\n<table border=\"1\" class=\"dataframe\">\n  <thead>\n    <tr style=\"text-align: right;\">\n      <th></th>\n      <th>Network</th>\n      <th>Comm. 1</th>\n      <th>Comm. 2</th>\n      <th>Comm. 3</th>\n      <th>Comm. 4</th>\n      <th>Comm. 5</th>\n      <th>Comm. 6</th>\n      <th>Comm. 7</th>\n      <th>Comm. 8</th>\n      <th>Comm. 9</th>\n      <th>...</th>\n      <th>Comm. 18</th>\n      <th>Comm. 19</th>\n      <th>Comm. 20</th>\n      <th>Comm. 21</th>\n      <th>Comm. 22</th>\n      <th>Comm. 23</th>\n      <th>Comm. 24</th>\n      <th>Comm. 25</th>\n      <th>Comm. 26</th>\n      <th>Comm. 27</th>\n    </tr>\n  </thead>\n  <tbody>\n    <tr>\n      <th>Genre</th>\n      <td>0.216410</td>\n      <td>0.089608</td>\n      <td>0.017899</td>\n      <td>0.030115</td>\n      <td>0.048206</td>\n      <td>0.043337</td>\n      <td>0.083592</td>\n      <td>0.018213</td>\n      <td>0.003672</td>\n      <td>0.052429</td>\n      <td>...</td>\n      <td>0.001217</td>\n      <td>-0.011628</td>\n      <td>-0.012048</td>\n      <td>-0.024195</td>\n      <td>-0.027778</td>\n      <td>-0.030303</td>\n      <td>-0.037037</td>\n      <td>-0.0625</td>\n      <td>-0.0625</td>\n      <td>-0.1</td>\n    </tr>\n    <tr>\n      <th>Publisher</th>\n      <td>0.046855</td>\n      <td>0.029726</td>\n      <td>0.021219</td>\n      <td>0.037963</td>\n      <td>0.011579</td>\n      <td>0.002696</td>\n      <td>0.009638</td>\n      <td>0.014185</td>\n      <td>0.001071</td>\n      <td>0.015147</td>\n      <td>...</td>\n      <td>-0.005151</td>\n      <td>-0.011628</td>\n      <td>-0.012048</td>\n      <td>-0.028666</td>\n      <td>-0.027778</td>\n      <td>-0.030303</td>\n      <td>-0.037037</td>\n      <td>-0.0625</td>\n      <td>-0.0625</td>\n      <td>-0.1</td>\n    </tr>\n    <tr>\n      <th>Author</th>\n      <td>0.004049</td>\n      <td>0.003434</td>\n      <td>0.000848</td>\n      <td>0.004342</td>\n      <td>0.002143</td>\n      <td>-0.002147</td>\n      <td>-0.000684</td>\n      <td>0.000410</td>\n      <td>-0.002300</td>\n      <td>0.000370</td>\n      <td>...</td>\n      <td>-0.006338</td>\n      <td>-0.011628</td>\n      <td>-0.012048</td>\n      <td>-0.028527</td>\n      <td>-0.027778</td>\n      <td>-0.030303</td>\n      <td>-0.037037</td>\n      <td>-0.0625</td>\n      <td>-0.0625</td>\n      <td>-0.1</td>\n    </tr>\n    <tr>\n      <th>Year</th>\n      <td>0.090426</td>\n      <td>0.028502</td>\n      <td>0.056445</td>\n      <td>0.043281</td>\n      <td>0.012806</td>\n      <td>0.042221</td>\n      <td>0.109651</td>\n      <td>0.076827</td>\n      <td>0.001088</td>\n      <td>0.014802</td>\n      <td>...</td>\n      <td>0.005585</td>\n      <td>-0.011628</td>\n      <td>-0.012048</td>\n      <td>-0.024504</td>\n      <td>-0.027778</td>\n      <td>-0.030303</td>\n      <td>-0.037037</td>\n      <td>-0.0625</td>\n      <td>-0.0625</td>\n      <td>-0.1</td>\n    </tr>\n    <tr>\n      <th>Recommendations</th>\n      <td>0.031507</td>\n      <td>0.005834</td>\n      <td>0.006478</td>\n      <td>0.010835</td>\n      <td>-0.000927</td>\n      <td>-0.001032</td>\n      <td>0.025679</td>\n      <td>0.010897</td>\n      <td>-0.003735</td>\n      <td>0.014030</td>\n      <td>...</td>\n      <td>-0.006005</td>\n      <td>-0.011628</td>\n      <td>-0.012048</td>\n      <td>-0.031567</td>\n      <td>-0.027778</td>\n      <td>-0.030303</td>\n      <td>-0.037037</td>\n      <td>-0.0625</td>\n      <td>NaN</td>\n      <td>-0.1</td>\n    </tr>\n  </tbody>\n</table>\n<p>5 rows × 28 columns</p>\n</div>"
     },
     "execution_count": 679,
     "metadata": {},
     "output_type": "execute_result"
    }
   ],
   "source": [
    "AssortativeMixingDF = AssortativeMixing(louv_coms.communities, C)\n",
    "AssortativeMixingDF"
   ],
   "metadata": {
    "collapsed": false,
    "pycharm": {
     "name": "#%%\n"
    }
   }
  },
  {
   "cell_type": "code",
   "execution_count": 691,
   "outputs": [],
   "source": [
    "#Assortative mixing of 'Book Genre' attribute on the entire network\n",
    "tmp = nx.attribute_mixing_dict(g, attribute= 'BookGenre', normalized= True)"
   ],
   "metadata": {
    "collapsed": false,
    "pycharm": {
     "name": "#%%\n"
    }
   }
  },
  {
   "cell_type": "code",
   "execution_count": null,
   "outputs": [],
   "source": [],
   "metadata": {
    "collapsed": false,
    "pycharm": {
     "name": "#%%\n"
    }
   }
  },
  {
   "cell_type": "code",
   "execution_count": 693,
   "outputs": [
    {
     "data": {
      "text/plain": "2.6322689854931605e-05"
     },
     "execution_count": 693,
     "metadata": {},
     "output_type": "execute_result"
    }
   ],
   "source": [
    "tmp['Letteratura per ragazzi']['Letterature']"
   ],
   "metadata": {
    "collapsed": false,
    "pycharm": {
     "name": "#%%\n"
    }
   }
  },
  {
   "cell_type": "markdown",
   "source": [
    "##### Community 2"
   ],
   "metadata": {
    "collapsed": false,
    "pycharm": {
     "name": "#%% md\n"
    }
   }
  },
  {
   "cell_type": "markdown",
   "source": [
    "##### Community 3"
   ],
   "metadata": {
    "collapsed": false,
    "pycharm": {
     "name": "#%% md\n"
    }
   }
  },
  {
   "cell_type": "code",
   "execution_count": 46,
   "outputs": [],
   "source": [],
   "metadata": {
    "collapsed": false,
    "pycharm": {
     "name": "#%%\n"
    }
   }
  },
  {
   "cell_type": "markdown",
   "source": [
    "\n",
    "## Approach 2: Percolation\n",
    "Communities as a set of nodes grouped together by the propagation of a same property/action/information"
   ],
   "metadata": {
    "collapsed": false,
    "pycharm": {
     "name": "#%% md\n"
    }
   }
  },
  {
   "cell_type": "markdown",
   "source": [
    "### Label Propagation"
   ],
   "metadata": {
    "collapsed": false,
    "pycharm": {
     "name": "#%% md\n"
    }
   }
  },
  {
   "cell_type": "code",
   "execution_count": 47,
   "outputs": [],
   "source": [
    "lp_coms = algorithms.label_propagation(g)"
   ],
   "metadata": {
    "collapsed": false,
    "pycharm": {
     "name": "#%%\n"
    }
   }
  },
  {
   "cell_type": "code",
   "execution_count": 48,
   "outputs": [
    {
     "data": {
      "text/plain": "'Label Propagation'"
     },
     "execution_count": 48,
     "metadata": {},
     "output_type": "execute_result"
    }
   ],
   "source": [
    "lp_coms.method_name"
   ],
   "metadata": {
    "collapsed": false,
    "pycharm": {
     "name": "#%%\n"
    }
   }
  },
  {
   "cell_type": "code",
   "execution_count": 49,
   "outputs": [
    {
     "name": "stdout",
     "output_type": "stream",
     "text": [
      "This algorithm has discovered 108 communities.\n",
      "\n",
      "Community: 0 - Info: 9353 nodes & 910191 edges\n",
      "Community: 1 - Info: 150 nodes & 6757 edges\n",
      "Community: 2 - Info: 121 nodes & 3949 edges\n",
      "Community: 3 - Info: 99 nodes & 4851 edges\n",
      "Community: 4 - Info: 89 nodes & 3916 edges\n",
      "Community: 5 - Info: 80 nodes & 3160 edges\n",
      "Community: 6 - Info: 79 nodes & 3081 edges\n",
      "Community: 7 - Info: 73 nodes & 1336 edges\n",
      "Community: 8 - Info: 72 nodes & 1404 edges\n",
      "Community: 9 - Info: 71 nodes & 2485 edges\n",
      "Community: 10 - Info: 62 nodes & 967 edges\n",
      "Community: 11 - Info: 58 nodes & 1653 edges\n",
      "Community: 12 - Info: 51 nodes & 1275 edges\n",
      "Community: 13 - Info: 47 nodes & 993 edges\n",
      "Community: 14 - Info: 44 nodes & 864 edges\n",
      "Community: 15 - Info: 43 nodes & 903 edges\n",
      "Community: 16 - Info: 36 nodes & 506 edges\n",
      "Community: 17 - Info: 36 nodes & 630 edges\n",
      "Community: 18 - Info: 35 nodes & 307 edges\n",
      "Community: 19 - Info: 33 nodes & 528 edges\n",
      "Community: 20 - Info: 29 nodes & 238 edges\n",
      "Community: 21 - Info: 29 nodes & 406 edges\n",
      "Community: 22 - Info: 24 nodes & 186 edges\n",
      "Community: 23 - Info: 22 nodes & 231 edges\n",
      "Community: 24 - Info: 22 nodes & 231 edges\n",
      "Community: 25 - Info: 21 nodes & 210 edges\n",
      "Community: 26 - Info: 20 nodes & 102 edges\n",
      "Community: 27 - Info: 20 nodes & 190 edges\n",
      "Community: 28 - Info: 20 nodes & 190 edges\n",
      "Community: 29 - Info: 20 nodes & 190 edges\n",
      "Community: 30 - Info: 19 nodes & 171 edges\n",
      "Community: 31 - Info: 19 nodes & 171 edges\n",
      "Community: 32 - Info: 18 nodes & 153 edges\n",
      "Community: 33 - Info: 18 nodes & 153 edges\n",
      "Community: 34 - Info: 17 nodes & 136 edges\n",
      "Community: 35 - Info: 17 nodes & 136 edges\n",
      "Community: 36 - Info: 17 nodes & 136 edges\n",
      "Community: 37 - Info: 17 nodes & 136 edges\n",
      "Community: 38 - Info: 17 nodes & 136 edges\n",
      "Community: 39 - Info: 16 nodes & 120 edges\n",
      "Community: 40 - Info: 16 nodes & 120 edges\n",
      "Community: 41 - Info: 16 nodes & 120 edges\n",
      "Community: 42 - Info: 15 nodes & 105 edges\n",
      "Community: 43 - Info: 15 nodes & 105 edges\n",
      "Community: 44 - Info: 15 nodes & 105 edges\n",
      "Community: 45 - Info: 15 nodes & 105 edges\n",
      "Community: 46 - Info: 14 nodes & 91 edges\n",
      "Community: 47 - Info: 14 nodes & 91 edges\n",
      "Community: 48 - Info: 13 nodes & 78 edges\n",
      "Community: 49 - Info: 12 nodes & 66 edges\n",
      "Community: 50 - Info: 12 nodes & 66 edges\n",
      "Community: 51 - Info: 11 nodes & 39 edges\n",
      "Community: 52 - Info: 11 nodes & 55 edges\n",
      "Community: 53 - Info: 11 nodes & 55 edges\n",
      "Community: 54 - Info: 11 nodes & 55 edges\n",
      "Community: 55 - Info: 11 nodes & 55 edges\n",
      "Community: 56 - Info: 11 nodes & 55 edges\n",
      "Community: 57 - Info: 10 nodes & 45 edges\n",
      "Community: 58 - Info: 10 nodes & 45 edges\n",
      "Community: 59 - Info: 10 nodes & 45 edges\n",
      "Community: 60 - Info: 10 nodes & 45 edges\n",
      "Community: 61 - Info: 10 nodes & 45 edges\n",
      "Community: 62 - Info: 10 nodes & 45 edges\n",
      "Community: 63 - Info: 10 nodes & 45 edges\n",
      "Community: 64 - Info: 10 nodes & 45 edges\n",
      "Community: 65 - Info: 9 nodes & 36 edges\n",
      "Community: 66 - Info: 9 nodes & 36 edges\n",
      "Community: 67 - Info: 9 nodes & 36 edges\n",
      "Community: 68 - Info: 9 nodes & 36 edges\n",
      "Community: 69 - Info: 9 nodes & 36 edges\n",
      "Community: 70 - Info: 9 nodes & 36 edges\n",
      "Community: 71 - Info: 8 nodes & 28 edges\n",
      "Community: 72 - Info: 8 nodes & 28 edges\n",
      "Community: 73 - Info: 8 nodes & 28 edges\n",
      "Community: 74 - Info: 7 nodes & 21 edges\n",
      "Community: 75 - Info: 7 nodes & 21 edges\n",
      "Community: 76 - Info: 7 nodes & 21 edges\n",
      "Community: 77 - Info: 7 nodes & 21 edges\n",
      "Community: 78 - Info: 7 nodes & 21 edges\n",
      "Community: 79 - Info: 6 nodes & 15 edges\n",
      "Community: 80 - Info: 6 nodes & 15 edges\n",
      "Community: 81 - Info: 6 nodes & 15 edges\n",
      "Community: 82 - Info: 6 nodes & 15 edges\n",
      "Community: 83 - Info: 6 nodes & 15 edges\n",
      "Community: 84 - Info: 6 nodes & 15 edges\n",
      "Community: 85 - Info: 6 nodes & 15 edges\n",
      "Community: 86 - Info: 5 nodes & 10 edges\n",
      "Community: 87 - Info: 5 nodes & 10 edges\n",
      "Community: 88 - Info: 5 nodes & 10 edges\n",
      "Community: 89 - Info: 5 nodes & 10 edges\n",
      "Community: 90 - Info: 5 nodes & 10 edges\n",
      "Community: 91 - Info: 5 nodes & 10 edges\n",
      "Community: 92 - Info: 4 nodes & 6 edges\n",
      "Community: 93 - Info: 4 nodes & 6 edges\n",
      "Community: 94 - Info: 4 nodes & 6 edges\n",
      "Community: 95 - Info: 4 nodes & 6 edges\n",
      "Community: 96 - Info: 4 nodes & 6 edges\n",
      "Community: 97 - Info: 4 nodes & 6 edges\n",
      "Community: 98 - Info: 4 nodes & 6 edges\n",
      "Community: 99 - Info: 3 nodes & 3 edges\n",
      "Community: 100 - Info: 3 nodes & 3 edges\n",
      "Community: 101 - Info: 3 nodes & 3 edges\n",
      "Community: 102 - Info: 3 nodes & 3 edges\n",
      "Community: 103 - Info: 3 nodes & 3 edges\n",
      "Community: 104 - Info: 2 nodes & 1 edges\n",
      "Community: 105 - Info: 2 nodes & 1 edges\n",
      "Community: 106 - Info: 2 nodes & 1 edges\n",
      "Community: 107 - Info: 2 nodes & 1 edges\n",
      "\n",
      "These communities have a total of 11573 nodes and 955735 edges.\n",
      "\n",
      "Communities statistics: \n",
      "Nodes:  FitnessResult(min=2, max=9353, score=107.1574074074074, std=894.1987222382605)\n",
      "Edges:  FitnessResult(min=1, max=910191, score=8849.398148148148, std=87142.35172277981)\n"
     ]
    }
   ],
   "source": [
    "InfoCommunity(lp_coms.communities, lp_coms)"
   ],
   "metadata": {
    "collapsed": false,
    "pycharm": {
     "name": "#%%\n"
    }
   }
  },
  {
   "cell_type": "code",
   "execution_count": 50,
   "outputs": [
    {
     "data": {
      "text/plain": "[[0,\n  1,\n  2,\n  3,\n  4,\n  5,\n  6,\n  7,\n  8,\n  9,\n  10,\n  11,\n  12,\n  13,\n  14,\n  15,\n  16,\n  17,\n  18,\n  19,\n  20,\n  21,\n  22,\n  23,\n  24,\n  25,\n  26,\n  27,\n  28,\n  29,\n  30,\n  31,\n  32,\n  33,\n  34,\n  35,\n  36,\n  37,\n  38,\n  39,\n  40,\n  41,\n  42,\n  43,\n  44,\n  45,\n  46,\n  47,\n  48,\n  49,\n  50,\n  51,\n  52,\n  53,\n  54,\n  55,\n  56,\n  57,\n  58,\n  59,\n  60,\n  61,\n  62,\n  63,\n  64,\n  65,\n  66,\n  67,\n  68,\n  69,\n  70,\n  71,\n  72,\n  73,\n  74,\n  75,\n  76,\n  77,\n  78,\n  79,\n  80,\n  81,\n  82,\n  83,\n  84,\n  85,\n  86,\n  87,\n  88,\n  89,\n  90,\n  91,\n  92,\n  93,\n  94,\n  95,\n  96,\n  97,\n  98,\n  99,\n  100,\n  101,\n  102,\n  103,\n  104,\n  105,\n  106,\n  107,\n  108,\n  109,\n  110,\n  111,\n  112,\n  113,\n  114,\n  115,\n  116,\n  117,\n  118,\n  119,\n  120,\n  121,\n  122,\n  123,\n  124,\n  125,\n  126,\n  127,\n  128,\n  129,\n  130,\n  131,\n  132,\n  133,\n  134,\n  135,\n  136,\n  137,\n  138,\n  139,\n  140,\n  141,\n  142,\n  143,\n  144,\n  145,\n  146,\n  147,\n  148,\n  149,\n  150,\n  151,\n  152,\n  153,\n  154,\n  155,\n  156,\n  157,\n  158,\n  159,\n  160,\n  161,\n  162,\n  163,\n  164,\n  165,\n  166,\n  167,\n  168,\n  169,\n  170,\n  171,\n  172,\n  173,\n  174,\n  175,\n  176,\n  177,\n  178,\n  179,\n  180,\n  181,\n  182,\n  183,\n  184,\n  185,\n  186,\n  187,\n  188,\n  189,\n  190,\n  191,\n  192,\n  193,\n  194,\n  195,\n  196,\n  197,\n  198,\n  199,\n  200,\n  201,\n  202,\n  203,\n  204,\n  205,\n  206,\n  207,\n  208,\n  209,\n  210,\n  211,\n  212,\n  213,\n  214,\n  215,\n  216,\n  217,\n  218,\n  219,\n  220,\n  221,\n  222,\n  223,\n  224,\n  225,\n  226,\n  227,\n  228,\n  229,\n  230,\n  231,\n  232,\n  233,\n  234,\n  235,\n  236,\n  237,\n  238,\n  239,\n  240,\n  241,\n  242,\n  243,\n  244,\n  245,\n  246,\n  247,\n  248,\n  249,\n  250,\n  251,\n  252,\n  253,\n  254,\n  255,\n  256,\n  257,\n  258,\n  259,\n  260,\n  261,\n  262,\n  263,\n  264,\n  265,\n  266,\n  267,\n  268,\n  269,\n  270,\n  271,\n  272,\n  273,\n  274,\n  275,\n  276,\n  277,\n  278,\n  279,\n  280,\n  281,\n  282,\n  283,\n  284,\n  285,\n  286,\n  287,\n  288,\n  289,\n  290,\n  291,\n  292,\n  293,\n  294,\n  295,\n  296,\n  297,\n  298,\n  299,\n  300,\n  301,\n  302,\n  303,\n  304,\n  305,\n  306,\n  307,\n  308,\n  309,\n  310,\n  311,\n  312,\n  313,\n  314,\n  315,\n  316,\n  317,\n  318,\n  319,\n  320,\n  321,\n  322,\n  323,\n  324,\n  325,\n  326,\n  327,\n  328,\n  329,\n  330,\n  331,\n  332,\n  333,\n  334,\n  335,\n  336,\n  337,\n  338,\n  339,\n  340,\n  341,\n  342,\n  343,\n  344,\n  345,\n  346,\n  347,\n  348,\n  349,\n  350,\n  351,\n  352,\n  353,\n  354,\n  355,\n  356,\n  357,\n  358,\n  359,\n  360,\n  361,\n  362,\n  363,\n  364,\n  365,\n  366,\n  367,\n  368,\n  369,\n  370,\n  371,\n  372,\n  373,\n  374,\n  375,\n  376,\n  377,\n  378,\n  379,\n  380,\n  381,\n  382,\n  383,\n  384,\n  385,\n  386,\n  387,\n  388,\n  389,\n  390,\n  391,\n  392,\n  393,\n  394,\n  395,\n  396,\n  397,\n  398,\n  399,\n  400,\n  401,\n  402,\n  403,\n  404,\n  405,\n  406,\n  407,\n  408,\n  409,\n  410,\n  411,\n  412,\n  413,\n  414,\n  415,\n  416,\n  417,\n  418,\n  419,\n  420,\n  421,\n  422,\n  423,\n  424,\n  425,\n  426,\n  427,\n  428,\n  429,\n  430,\n  431,\n  432,\n  433,\n  434,\n  435,\n  436,\n  437,\n  438,\n  439,\n  440,\n  441,\n  442,\n  443,\n  444,\n  445,\n  446,\n  447,\n  448,\n  449,\n  450,\n  451,\n  452,\n  453,\n  454,\n  455,\n  456,\n  457,\n  458,\n  459,\n  460,\n  461,\n  462,\n  463,\n  464,\n  465,\n  466,\n  467,\n  468,\n  469,\n  470,\n  471,\n  472,\n  473,\n  474,\n  475,\n  476,\n  477,\n  478,\n  479,\n  480,\n  481,\n  482,\n  483,\n  484,\n  485,\n  486,\n  487,\n  488,\n  489,\n  490,\n  491,\n  492,\n  493,\n  494,\n  495,\n  496,\n  497,\n  498,\n  499,\n  500,\n  501,\n  502,\n  503,\n  504,\n  505,\n  506,\n  507,\n  508,\n  509,\n  510,\n  511,\n  512,\n  513,\n  514,\n  515,\n  516,\n  517,\n  518,\n  519,\n  520,\n  521,\n  522,\n  523,\n  524,\n  525,\n  526,\n  527,\n  528,\n  529,\n  530,\n  531,\n  532,\n  533,\n  534,\n  535,\n  536,\n  537,\n  538,\n  539,\n  540,\n  541,\n  542,\n  543,\n  544,\n  545,\n  546,\n  547,\n  548,\n  549,\n  550,\n  551,\n  552,\n  553,\n  554,\n  555,\n  556,\n  557,\n  558,\n  559,\n  560,\n  561,\n  562,\n  563,\n  564,\n  565,\n  566,\n  567,\n  568,\n  569,\n  570,\n  571,\n  572,\n  573,\n  574,\n  575,\n  576,\n  577,\n  578,\n  579,\n  580,\n  581,\n  582,\n  583,\n  584,\n  585,\n  586,\n  587,\n  588,\n  589,\n  590,\n  591,\n  592,\n  593,\n  594,\n  595,\n  596,\n  597,\n  598,\n  599,\n  600,\n  601,\n  602,\n  603,\n  604,\n  605,\n  606,\n  607,\n  608,\n  609,\n  610,\n  611,\n  612,\n  613,\n  614,\n  615,\n  616,\n  617,\n  618,\n  619,\n  620,\n  621,\n  622,\n  623,\n  624,\n  625,\n  626,\n  627,\n  628,\n  629,\n  630,\n  631,\n  632,\n  633,\n  634,\n  635,\n  636,\n  637,\n  638,\n  639,\n  640,\n  641,\n  642,\n  643,\n  644,\n  645,\n  646,\n  647,\n  648,\n  649,\n  650,\n  651,\n  652,\n  653,\n  654,\n  655,\n  656,\n  657,\n  658,\n  659,\n  660,\n  661,\n  662,\n  663,\n  664,\n  665,\n  666,\n  667,\n  668,\n  669,\n  670,\n  671,\n  672,\n  673,\n  674,\n  675,\n  676,\n  677,\n  678,\n  679,\n  680,\n  681,\n  682,\n  683,\n  684,\n  685,\n  686,\n  687,\n  688,\n  689,\n  690,\n  691,\n  692,\n  693,\n  694,\n  695,\n  696,\n  697,\n  698,\n  699,\n  700,\n  701,\n  702,\n  703,\n  704,\n  705,\n  706,\n  707,\n  708,\n  709,\n  710,\n  711,\n  712,\n  713,\n  714,\n  715,\n  716,\n  717,\n  718,\n  719,\n  720,\n  721,\n  722,\n  723,\n  724,\n  725,\n  726,\n  727,\n  728,\n  729,\n  730,\n  731,\n  732,\n  733,\n  734,\n  735,\n  736,\n  737,\n  738,\n  739,\n  740,\n  741,\n  742,\n  743,\n  744,\n  745,\n  746,\n  747,\n  748,\n  749,\n  750,\n  751,\n  752,\n  753,\n  754,\n  755,\n  756,\n  757,\n  758,\n  759,\n  760,\n  761,\n  762,\n  763,\n  764,\n  765,\n  766,\n  767,\n  768,\n  769,\n  770,\n  771,\n  772,\n  773,\n  774,\n  775,\n  776,\n  777,\n  778,\n  779,\n  780,\n  781,\n  782,\n  783,\n  784,\n  785,\n  786,\n  787,\n  788,\n  789,\n  790,\n  791,\n  792,\n  793,\n  794,\n  795,\n  796,\n  797,\n  798,\n  799,\n  800,\n  801,\n  802,\n  803,\n  804,\n  805,\n  806,\n  807,\n  808,\n  809,\n  810,\n  811,\n  812,\n  814,\n  815,\n  816,\n  817,\n  818,\n  819,\n  820,\n  822,\n  823,\n  824,\n  825,\n  826,\n  827,\n  828,\n  829,\n  830,\n  831,\n  832,\n  833,\n  834,\n  835,\n  836,\n  837,\n  838,\n  840,\n  841,\n  842,\n  843,\n  844,\n  845,\n  846,\n  847,\n  848,\n  849,\n  850,\n  851,\n  852,\n  853,\n  854,\n  855,\n  856,\n  857,\n  858,\n  859,\n  860,\n  861,\n  862,\n  863,\n  864,\n  865,\n  866,\n  867,\n  868,\n  869,\n  870,\n  871,\n  872,\n  873,\n  874,\n  875,\n  876,\n  877,\n  878,\n  879,\n  880,\n  881,\n  882,\n  883,\n  884,\n  885,\n  886,\n  887,\n  888,\n  889,\n  890,\n  891,\n  892,\n  893,\n  894,\n  895,\n  896,\n  897,\n  898,\n  899,\n  900,\n  901,\n  902,\n  903,\n  904,\n  905,\n  906,\n  907,\n  908,\n  909,\n  910,\n  911,\n  912,\n  913,\n  914,\n  915,\n  916,\n  917,\n  918,\n  919,\n  920,\n  921,\n  922,\n  923,\n  924,\n  925,\n  926,\n  927,\n  928,\n  929,\n  930,\n  931,\n  932,\n  933,\n  934,\n  935,\n  936,\n  937,\n  938,\n  939,\n  940,\n  941,\n  942,\n  943,\n  944,\n  945,\n  946,\n  947,\n  948,\n  949,\n  950,\n  951,\n  952,\n  953,\n  954,\n  955,\n  956,\n  957,\n  958,\n  959,\n  960,\n  961,\n  962,\n  963,\n  964,\n  965,\n  966,\n  967,\n  968,\n  969,\n  970,\n  971,\n  972,\n  973,\n  974,\n  975,\n  976,\n  977,\n  978,\n  979,\n  980,\n  981,\n  982,\n  983,\n  984,\n  985,\n  986,\n  987,\n  988,\n  989,\n  990,\n  991,\n  992,\n  993,\n  994,\n  995,\n  996,\n  997,\n  998,\n  999,\n  1000,\n  1001,\n  1002,\n  ...],\n [10241,\n  10242,\n  10243,\n  19462,\n  19464,\n  18443,\n  5651,\n  15382,\n  5656,\n  15898,\n  15900,\n  15902,\n  15904,\n  12833,\n  15905,\n  15906,\n  15909,\n  15910,\n  15911,\n  16426,\n  15403,\n  5676,\n  10285,\n  15915,\n  10799,\n  15916,\n  5689,\n  4675,\n  1098,\n  6220,\n  1103,\n  3152,\n  10837,\n  16994,\n  5734,\n  17003,\n  13431,\n  17021,\n  17022,\n  4738,\n  4739,\n  16009,\n  18577,\n  18578,\n  18579,\n  18580,\n  16021,\n  2733,\n  17076,\n  19652,\n  4309,\n  19669,\n  19670,\n  19671,\n  15578,\n  12536,\n  14594,\n  14595,\n  14596,\n  14597,\n  14598,\n  14599,\n  14600,\n  14601,\n  14602,\n  14603,\n  11034,\n  13092,\n  13093,\n  13094,\n  13095,\n  13096,\n  11049,\n  13097,\n  13098,\n  13099,\n  13100,\n  13101,\n  13102,\n  13103,\n  11057,\n  13104,\n  13105,\n  13106,\n  13107,\n  13108,\n  13109,\n  13110,\n  13113,\n  18227,\n  18228,\n  5950,\n  11072,\n  11073,\n  18246,\n  18247,\n  11089,\n  5977,\n  4446,\n  11114,\n  11117,\n  19821,\n  4463,\n  19823,\n  11121,\n  19824,\n  19825,\n  19826,\n  19827,\n  19829,\n  2935,\n  19830,\n  19831,\n  19833,\n  19834,\n  19828,\n  17279,\n  10630,\n  8075,\n  8076,\n  8082,\n  19822,\n  17300,\n  8085,\n  8086,\n  17301,\n  8091,\n  8093,\n  7071,\n  8098,\n  18342,\n  18343,\n  18360,\n  18361,\n  18362,\n  18363,\n  18364,\n  15808,\n  15865,\n  7129,\n  16887,\n  16888,\n  10231,\n  10232,\n  10233,\n  10234,\n  10235,\n  10236,\n  10238,\n  10239],\n [5122,\n  13315,\n  15362,\n  4613,\n  18955,\n  17933,\n  5645,\n  16919,\n  2592,\n  5153,\n  14893,\n  3128,\n  13887,\n  13894,\n  2632,\n  10824,\n  7757,\n  6223,\n  10831,\n  8273,\n  13904,\n  10835,\n  7254,\n  2647,\n  5722,\n  2653,\n  8285,\n  6242,\n  6244,\n  7784,\n  5737,\n  9832,\n  17019,\n  9856,\n  18050,\n  10374,\n  17030,\n  20102,\n  5264,\n  20122,\n  12443,\n  16029,\n  5283,\n  13989,\n  6312,\n  16043,\n  19116,\n  18095,\n  14007,\n  15550,\n  15551,\n  9408,\n  9920,\n  17599,\n  7368,\n  5320,\n  5838,\n  5842,\n  10981,\n  1766,\n  5351,\n  7409,\n  7410,\n  2811,\n  15099,\n  1287,\n  5897,\n  1290,\n  5389,\n  2319,\n  2320,\n  12050,\n  15635,\n  15638,\n  10019,\n  14118,\n  5930,\n  19243,\n  5935,\n  10551,\n  10552,\n  7482,\n  10555,\n  10557,\n  18239,\n  5952,\n  10561,\n  10564,\n  10566,\n  16203,\n  18771,\n  5979,\n  5981,\n  10082,\n  3426,\n  7526,\n  1389,\n  4978,\n  11636,\n  18805,\n  7038,\n  3456,\n  5007,\n  6547,\n  19357,\n  15783,\n  7593,\n  15790,\n  15793,\n  15796,\n  14263,\n  15800,\n  7618,\n  12236,\n  13783,\n  7642,\n  5599,\n  7137,\n  7650,\n  5097,\n  11257],\n [4611,\n  4612,\n  13837,\n  2587,\n  16966,\n  12891,\n  4188,\n  12897,\n  8816,\n  8305,\n  1663,\n  18053,\n  18054,\n  18056,\n  18057,\n  17034,\n  17035,\n  17036,\n  9877,\n  15509,\n  15510,\n  2721,\n  16037,\n  13999,\n  15553,\n  9923,\n  19655,\n  4301,\n  16591,\n  16593,\n  11986,\n  8921,\n  8930,\n  14574,\n  14575,\n  1778,\n  12018,\n  12020,\n  5881,\n  19196,\n  19198,\n  9475,\n  9476,\n  9480,\n  8969,\n  14605,\n  12563,\n  13076,\n  12062,\n  13605,\n  9511,\n  12583,\n  9002,\n  12586,\n  20271,\n  4400,\n  4401,\n  9522,\n  20304,\n  14674,\n  3415,\n  9561,\n  9562,\n  4458,\n  20334,\n  4466,\n  17269,\n  17270,\n  1916,\n  9604,\n  4493,\n  4494,\n  12175,\n  12178,\n  12180,\n  2461,\n  13217,\n  2984,\n  1455,\n  13744,\n  17841,\n  9651,\n  18873,\n  18874,\n  10683,\n  13260,\n  13772,\n  16846,\n  11224,\n  3038,\n  3042,\n  18402,\n  1508,\n  3045,\n  3048,\n  3567,\n  16884,\n  8181,\n  9725],\n [16897,\n  13314,\n  17928,\n  13836,\n  6187,\n  12843,\n  16943,\n  5683,\n  13903,\n  14933,\n  14934,\n  14935,\n  5725,\n  9833,\n  20078,\n  8304,\n  19574,\n  9858,\n  1674,\n  18582,\n  9894,\n  12454,\n  18608,\n  13506,\n  14019,\n  11978,\n  7883,\n  2765,\n  7900,\n  9949,\n  15076,\n  5349,\n  7910,\n  6894,\n  3829,\n  15610,\n  2305,\n  8456,\n  11031,\n  12567,\n  5917,\n  12574,\n  12585,\n  2346,\n  11051,\n  2348,\n  13610,\n  15160,\n  17723,\n  19784,\n  3401,\n  19785,\n  19786,\n  6478,\n  11086,\n  15185,\n  19290,\n  19292,\n  19293,\n  3423,\n  10079,\n  15204,\n  13158,\n  4972,\n  15733,\n  15735,\n  15736,\n  15737,\n  15738,\n  4479,\n  18321,\n  18322,\n  1431,\n  15777,\n  17836,\n  18353,\n  17855,\n  17856,\n  4060,\n  15846,\n  3050,\n  19946,\n  20465,\n  16882,\n  20466,\n  15861,\n  15863,\n  3582,\n  12799],\n [10247,\n  9224,\n  16906,\n  10252,\n  17936,\n  19984,\n  9234,\n  19987,\n  19988,\n  4646,\n  13863,\n  19499,\n  18478,\n  4658,\n  16956,\n  16957,\n  16958,\n  16959,\n  19007,\n  16984,\n  8834,\n  8835,\n  18565,\n  8838,\n  6284,\n  19105,\n  4275,\n  9401,\n  9404,\n  4801,\n  14541,\n  14542,\n  14543,\n  14544,\n  14547,\n  20188,\n  4837,\n  17143,\n  13059,\n  13060,\n  13064,\n  16142,\n  13072,\n  13073,\n  14617,\n  14653,\n  13631,\n  7497,\n  4441,\n  4442,\n  4443,\n  4444,\n  10591,\n  15208,\n  10602,\n  4480,\n  18308,\n  7051,\n  16781,\n  9102,\n  9103,\n  16782,\n  16783,\n  16785,\n  7059,\n  19352,\n  10654,\n  19364,\n  19884,\n  9147,\n  9152,\n  19904,\n  9154,\n  19905,\n  19913,\n  14796,\n  19941,\n  19944,\n  19446,\n  19447],\n [2577,\n  12826,\n  8221,\n  13858,\n  3146,\n  14415,\n  13407,\n  15456,\n  15978,\n  5742,\n  15984,\n  8818,\n  19575,\n  16504,\n  7297,\n  3206,\n  6791,\n  2710,\n  7832,\n  7834,\n  9883,\n  9885,\n  7842,\n  16034,\n  2212,\n  7844,\n  7847,\n  7848,\n  17577,\n  7850,\n  7851,\n  8363,\n  7853,\n  7854,\n  17581,\n  7856,\n  17582,\n  7858,\n  17585,\n  7860,\n  3253,\n  7862,\n  7863,\n  7864,\n  7865,\n  7866,\n  7867,\n  15540,\n  7869,\n  7870,\n  7871,\n  7872,\n  6849,\n  7873,\n  7874,\n  7875,\n  7876,\n  4340,\n  11552,\n  10529,\n  12579,\n  10556,\n  8001,\n  3912,\n  11601,\n  10071,\n  10073,\n  10074,\n  10083,\n  10084,\n  10085,\n  10086,\n  11638,\n  12150,\n  5497,\n  9620,\n  15252,\n  5050,\n  11255],\n [3200,\n  3074,\n  3714,\n  6918,\n  3335,\n  3720,\n  3721,\n  11398,\n  2438,\n  12428,\n  2694,\n  2695,\n  12433,\n  10130,\n  5626,\n  8959,\n  7061,\n  20246,\n  12947,\n  12948,\n  12953,\n  13338,\n  15506,\n  10140,\n  3742,\n  10143,\n  4384,\n  2464,\n  17830,\n  821,\n  3638,\n  5429,\n  14137,\n  19898,\n  14146,\n  14659,\n  6340,\n  15685,\n  3142,\n  14150,\n  3529,\n  4817,\n  20242,\n  5588,\n  5589,\n  14040,\n  6361,\n  1371,\n  11740,\n  13533,\n  11742,\n  16736,\n  14050,\n  14053,\n  14183,\n  14184,\n  14185,\n  13546,\n  5610,\n  10092,\n  5613,\n  14186,\n  14187,\n  14188,\n  12913,\n  14189,\n  14190,\n  2164,\n  14191,\n  14192,\n  9722,\n  15227,\n  3199],\n [4224,\n  9472,\n  9473,\n  7044,\n  13831,\n  9608,\n  14858,\n  13194,\n  15116,\n  2957,\n  13834,\n  5903,\n  14861,\n  17171,\n  19348,\n  19350,\n  17048,\n  19611,\n  9756,\n  19613,\n  2337,\n  16679,\n  18300,\n  19496,\n  5804,\n  5678,\n  18096,\n  14385,\n  6707,\n  17075,\n  20019,\n  6712,\n  8505,\n  17848,\n  6075,\n  19513,\n  6334,\n  18111,\n  18755,\n  1221,\n  5829,\n  5957,\n  7880,\n  6346,\n  7370,\n  19531,\n  6735,\n  15569,\n  14419,\n  6356,\n  14420,\n  14422,\n  9817,\n  14944,\n  10592,\n  18658,\n  3683,\n  10852,\n  13284,\n  16997,\n  14951,\n  17126,\n  13930,\n  16626,\n  10356,\n  15349,\n  19066,\n  16891,\n  9468,\n  13053,\n  9470,\n  9471],\n [8066,\n  9099,\n  12818,\n  14615,\n  12189,\n  12190,\n  12191,\n  12830,\n  13854,\n  14711,\n  17613,\n  7341,\n  19802,\n  3120,\n  7859,\n  16184,\n  12857,\n  7613,\n  7489,\n  14273,\n  16963,\n  14276,\n  16964,\n  14278,\n  16965,\n  17611,\n  7372,\n  4173,\n  14284,\n  4303,\n  14288,\n  16849,\n  16850,\n  8275,\n  11732,\n  14292,\n  14293,\n  14294,\n  14295,\n  14296,\n  16851,\n  16347,\n  16852,\n  17240,\n  16350,\n  16351,\n  17241,\n  17242,\n  17243,\n  13027,\n  13028,\n  13029,\n  8294,\n  17244,\n  18147,\n  13033,\n  5356,\n  4333,\n  9070,\n  4334,\n  13036,\n  13038,\n  3058,\n  10098,\n  13039,\n  9589,\n  13040,\n  7415,\n  16111,\n  12281,\n  8954],\n [8704,\n  9222,\n  16272,\n  12817,\n  18833,\n  19391,\n  12829,\n  1950,\n  16285,\n  8362,\n  16301,\n  9390,\n  8368,\n  17079,\n  17080,\n  17081,\n  2877,\n  1982,\n  18879,\n  13248,\n  16193,\n  17218,\n  17219,\n  17220,\n  17221,\n  17222,\n  17223,\n  17224,\n  9545,\n  17225,\n  17226,\n  9548,\n  17227,\n  1869,\n  14155,\n  14928,\n  15305,\n  15308,\n  14163,\n  15442,\n  19151,\n  8023,\n  13271,\n  16071,\n  14811,\n  7135,\n  3170,\n  1891,\n  4197,\n  7143,\n  11372,\n  18286,\n  7152,\n  7153,\n  17777,\n  19319,\n  7160,\n  16250,\n  19451,\n  19452,\n  15998,\n  10751],\n [19076,\n  1543,\n  18825,\n  8203,\n  9100,\n  9101,\n  6926,\n  13455,\n  14733,\n  18061,\n  15378,\n  15379,\n  15380,\n  14614,\n  18971,\n  8860,\n  8861,\n  6303,\n  19872,\n  13857,\n  13859,\n  19621,\n  19622,\n  19623,\n  19624,\n  19878,\n  2474,\n  20235,\n  17842,\n  18738,\n  1844,\n  18739,\n  4537,\n  3641,\n  14780,\n  14783,\n  9536,\n  3649,\n  14017,\n  15681,\n  13509,\n  9806,\n  20430,\n  18512,\n  9809,\n  11734,\n  15582,\n  9696,\n  9699,\n  5605,\n  13931,\n  16762,\n  2287,\n  8559,\n  20350,\n  4853,\n  3706,\n  13310],\n [2054,\n  14860,\n  12562,\n  18975,\n  18976,\n  18977,\n  18978,\n  18979,\n  20000,\n  18981,\n  18982,\n  18983,\n  18984,\n  18985,\n  18987,\n  18988,\n  18989,\n  18990,\n  18991,\n  18992,\n  18993,\n  16186,\n  20285,\n  20286,\n  20287,\n  20288,\n  20289,\n  20290,\n  20291,\n  20292,\n  20293,\n  20294,\n  20295,\n  4810,\n  14539,\n  14545,\n  4568,\n  4569,\n  4570,\n  4571,\n  4572,\n  4573,\n  4574,\n  4575,\n  4576,\n  4577,\n  4578,\n  4579,\n  4580,\n  4581,\n  16606],\n [4353,\n  13570,\n  4355,\n  13572,\n  13573,\n  12038,\n  13574,\n  13576,\n  3988,\n  9239,\n  2457,\n  6178,\n  9773,\n  17845,\n  14008,\n  10810,\n  6970,\n  14010,\n  14012,\n  18240,\n  18241,\n  3266,\n  18242,\n  9413,\n  7750,\n  9801,\n  18510,\n  9807,\n  9808,\n  20435,\n  11223,\n  2775,\n  17753,\n  18400,\n  8553,\n  16764,\n  18160,\n  15602,\n  9077,\n  13557,\n  13558,\n  13560,\n  15605,\n  9083,\n  13564,\n  13565,\n  13567],\n [14080,\n  4865,\n  2050,\n  14081,\n  8068,\n  14082,\n  14083,\n  14084,\n  14086,\n  14087,\n  14089,\n  14091,\n  14092,\n  14093,\n  14095,\n  14096,\n  13714,\n  14099,\n  8730,\n  8731,\n  3359,\n  6567,\n  10537,\n  11819,\n  18350,\n  18862,\n  17589,\n  15542,\n  7483,\n  5563,\n  5310,\n  16450,\n  5571,\n  8004,\n  16451,\n  20422,\n  7498,\n  10701,\n  8808,\n  2153,\n  1385,\n  18029,\n  18030,\n  5365],\n [4352,\n  10246,\n  8711,\n  19081,\n  19082,\n  19083,\n  15633,\n  15634,\n  3860,\n  3353,\n  15899,\n  19358,\n  18466,\n  2602,\n  17840,\n  7220,\n  11452,\n  11453,\n  6082,\n  11586,\n  8772,\n  8133,\n  11461,\n  14281,\n  6218,\n  17738,\n  17228,\n  6224,\n  6993,\n  10321,\n  7508,\n  2518,\n  5847,\n  18008,\n  4186,\n  6363,\n  2658,\n  10214,\n  2671,\n  6255,\n  12401,\n  6391,\n  13051],\n [8067,\n  9603,\n  2567,\n  2314,\n  9868,\n  3340,\n  8846,\n  13080,\n  18585,\n  3356,\n  20253,\n  10396,\n  7455,\n  13599,\n  5558,\n  19129,\n  14664,\n  11210,\n  9804,\n  8910,\n  3023,\n  18382,\n  11219,\n  19798,\n  12634,\n  5604,\n  8044,\n  9325,\n  4722,\n  20467,\n  16501,\n  16502,\n  20213,\n  8824,\n  6777,\n  6139],\n [1414,\n  10384,\n  4370,\n  14098,\n  20250,\n  11168,\n  18341,\n  7082,\n  5292,\n  4911,\n  2998,\n  2999,\n  15159,\n  19259,\n  19260,\n  20158,\n  9025,\n  7110,\n  19270,\n  8393,\n  8394,\n  13656,\n  16222,\n  9952,\n  2788,\n  2790,\n  7142,\n  17261,\n  17646,\n  3568,\n  10096,\n  15731,\n  18164,\n  17656,\n  16506,\n  17663],\n [11520,\n  7553,\n  11522,\n  20226,\n  18450,\n  3354,\n  19354,\n  19356,\n  17309,\n  17310,\n  17311,\n  17312,\n  17313,\n  17314,\n  15515,\n  13614,\n  11184,\n  14259,\n  16185,\n  3900,\n  19705,\n  8529,\n  8791,\n  14300,\n  14302,\n  14305,\n  14307,\n  14312,\n  1520,\n  8051,\n  5367,\n  3321,\n  18299,\n  12925,\n  11518],\n [6787,\n  11405,\n  2452,\n  8470,\n  18200,\n  17570,\n  13987,\n  13998,\n  12079,\n  5938,\n  6578,\n  16181,\n  16182,\n  11831,\n  16183,\n  13756,\n  4158,\n  6080,\n  10567,\n  19271,\n  8009,\n  18124,\n  4177,\n  12754,\n  6751,\n  13665,\n  1509,\n  17128,\n  3561,\n  17129,\n  8048,\n  20090,\n  19836],\n [5250,\n  15880,\n  5263,\n  3864,\n  17306,\n  5275,\n  5405,\n  3997,\n  18719,\n  2088,\n  5288,\n  5164,\n  5165,\n  5297,\n  5298,\n  16309,\n  15802,\n  5318,\n  15306,\n  20044,\n  5201,\n  5205,\n  9175,\n  19562,\n  19563,\n  13165,\n  19182,\n  3951,\n  10357],\n [13839,\n  13843,\n  12820,\n  12565,\n  13844,\n  13848,\n  13211,\n  13213,\n  13214,\n  2590,\n  13215,\n  13853,\n  15523,\n  8743,\n  13992,\n  18347,\n  10796,\n  6063,\n  13237,\n  18618,\n  19131,\n  12866,\n  10565,\n  19287,\n  3427,\n  17124,\n  14952,\n  13171,\n  16895],\n [9859,\n  17542,\n  17543,\n  18573,\n  7056,\n  13332,\n  3489,\n  11682,\n  14500,\n  12330,\n  14895,\n  16559,\n  17073,\n  13373,\n  19774,\n  5317,\n  10700,\n  6994,\n  13781,\n  20054,\n  1623,\n  15195,\n  5115,\n  17534],\n [17938,\n  11027,\n  3350,\n  6061,\n  16557,\n  12082,\n  7361,\n  5445,\n  12741,\n  11475,\n  6875,\n  15197,\n  11487,\n  11490,\n  11493,\n  11494,\n  11496,\n  11497,\n  11499,\n  11500,\n  20088,\n  20089],\n [12434,\n  7827,\n  11543,\n  16031,\n  16032,\n  4399,\n  7599,\n  12087,\n  6329,\n  6851,\n  18118,\n  6736,\n  6737,\n  6738,\n  9435,\n  2910,\n  6755,\n  3948,\n  4332,\n  7533,\n  16368,\n  2814],\n [13056,\n  15876,\n  19976,\n  9231,\n  10900,\n  3989,\n  17945,\n  19993,\n  17949,\n  18592,\n  8868,\n  19754,\n  13874,\n  6206,\n  19654,\n  18513,\n  19923,\n  19799,\n  12008,\n  19948,\n  20474],\n [12034,\n  7172,\n  1557,\n  15528,\n  8898,\n  4936,\n  3150,\n  3151,\n  17621,\n  3554,\n  3566,\n  10224,\n  10226,\n  10227,\n  10228,\n  10229,\n  8310,\n  12792,\n  2428,\n  3198],\n [16899,\n  19344,\n  8726,\n  10906,\n  2714,\n  13724,\n  12188,\n  13725,\n  8998,\n  13611,\n  12077,\n  9524,\n  16952,\n  16954,\n  2246,\n  6857,\n  20433,\n  19931,\n  9056,\n  13436],\n [4488,\n  18962,\n  18964,\n  18965,\n  18966,\n  18968,\n  18969,\n  2333,\n  18590,\n  2992,\n  2993,\n  18502,\n  18505,\n  18507,\n  2383,\n  3180,\n  9209,\n  9210,\n  9211,\n  9212],\n [11400,\n  10125,\n  7575,\n  15767,\n  5284,\n  7589,\n  14766,\n  14518,\n  14519,\n  4409,\n  18632,\n  20302,\n  6864,\n  8290,\n  12519,\n  2797,\n  8438,\n  3959,\n  12411,\n  4350],\n [4617,\n  9117,\n  17823,\n  4283,\n  12613,\n  8904,\n  8905,\n  4560,\n  4561,\n  4562,\n  4563,\n  4564,\n  4952,\n  16223,\n  8801,\n  9195,\n  3693,\n  9717,\n  10872],\n [18313,\n  18314,\n  18315,\n  18316,\n  18206,\n  18207,\n  18208,\n  18209,\n  18210,\n  12458,\n  17595,\n  4923,\n  18770,\n  13424,\n  13425,\n  13426,\n  11509,\n  11514,\n  11515],\n [9824,\n  13184,\n  15869,\n  13157,\n  13160,\n  11657,\n  9004,\n  10093,\n  11950,\n  8688,\n  5137,\n  18485,\n  3320,\n  17725,\n  13628,\n  13437,\n  7134,\n  11135],\n [18112,\n  5891,\n  3173,\n  7115,\n  14668,\n  14670,\n  18798,\n  17017,\n  17747,\n  7828,\n  14421,\n  7126,\n  15992,\n  3705,\n  6362,\n  7835,\n  12955,\n  18110],\n [16601,\n  2822,\n  16602,\n  8522,\n  10896,\n  3249,\n  1426,\n  3251,\n  3252,\n  5364,\n  12722,\n  16596,\n  16597,\n  16598,\n  16599,\n  8732,\n  16600],\n [8963,\n  4504,\n  12582,\n  8842,\n  18218,\n  8220,\n  2766,\n  9071,\n  9072,\n  20248,\n  3479,\n  3480,\n  4185,\n  18715,\n  3484,\n  16893,\n  16894],\n [16960,\n  11074,\n  7299,\n  11163,\n  14756,\n  18469,\n  18470,\n  3307,\n  6764,\n  12555,\n  14283,\n  14735,\n  18604,\n  13137,\n  4180,\n  5401,\n  6011],\n [9697,\n  10401,\n  9605,\n  19814,\n  19817,\n  17002,\n  9900,\n  7054,\n  9967,\n  13774,\n  12853,\n  20406,\n  20409,\n  19067,\n  16443,\n  19068,\n  19069],\n [15296,\n  20087,\n  20079,\n  20080,\n  20081,\n  20082,\n  20083,\n  15294,\n  17748,\n  20084,\n  20085,\n  20086,\n  18491,\n  18492,\n  15293,\n  17086,\n  15295],\n [3328,\n  6209,\n  5698,\n  8514,\n  10849,\n  7174,\n  3047,\n  12170,\n  6124,\n  1645,\n  8274,\n  4372,\n  15220,\n  13497,\n  8539,\n  2271],\n [11232,\n  10754,\n  6210,\n  10850,\n  14473,\n  18473,\n  18475,\n  12813,\n  18797,\n  9615,\n  18609,\n  11059,\n  10807,\n  8507,\n  2556,\n  12573],\n [8320,\n  18782,\n  3746,\n  9060,\n  9510,\n  15303,\n  15304,\n  3913,\n  15309,\n  17997,\n  12049,\n  5269,\n  9365,\n  9590,\n  9369,\n  17598],\n [10691,\n  16900,\n  12837,\n  6150,\n  9543,\n  15768,\n  10569,\n  19843,\n  7179,\n  9483,\n  20426,\n  12883,\n  3896,\n  3897,\n  3898],\n [11557,\n  11559,\n  17100,\n  17101,\n  19255,\n  19249,\n  19250,\n  19251,\n  19252,\n  19253,\n  19254,\n  18679,\n  19256,\n  19257,\n  19258],\n [18724,\n  3493,\n  3944,\n  16682,\n  16971,\n  3887,\n  16304,\n  17969,\n  17999,\n  2868,\n  9173,\n  17973,\n  3511,\n  4089,\n  2846],\n [16225,\n  19330,\n  6499,\n  10851,\n  7397,\n  14149,\n  2087,\n  19172,\n  8171,\n  19245,\n  18094,\n  5841,\n  4693,\n  4694,\n  7414],\n [12963,\n  1989,\n  15141,\n  3431,\n  3848,\n  9705,\n  3659,\n  16398,\n  18542,\n  4498,\n  16053,\n  4502,\n  18777,\n  13534],\n [12606,\n  13186,\n  14754,\n  19942,\n  15719,\n  10825,\n  4912,\n  4913,\n  4914,\n  14001,\n  19664,\n  15703,\n  15705,\n  9694],\n [17284,\n  17285,\n  19781,\n  15784,\n  15785,\n  18167,\n  13390,\n  9711,\n  15792,\n  15799,\n  15194,\n  5148,\n  3773],\n [13569,\n  16346,\n  11971,\n  18145,\n  6057,\n  15689,\n  9997,\n  11958,\n  9592,\n  12890,\n  8540,\n  5439],\n [11105,\n  18657,\n  1700,\n  10916,\n  17125,\n  9770,\n  10997,\n  11125,\n  11158,\n  15673,\n  2299,\n  11103],\n [3363, 5796, 7017, 10863, 2323, 2486, 6492, 2906, 5531, 5884, 3294],\n [19808, 19809, 6562, 4260, 15782, 6697, 4618, 18572, 2388, 8116, 6558],\n [7905, 18659, 8901, 839, 4187, 2220, 8461, 15922, 2744, 2747, 1980],\n [18216, 18217, 20394, 17292, 17293, 18289, 18290, 18291, 18292, 18293, 20216],\n [13446, 17574, 6376, 17576, 14315, 3532, 6927, 3855, 12816, 15287, 2557],\n [18752, 7302, 20201, 13642, 17837, 20141, 6929, 9747, 16920, 16857, 9693],\n [15554, 17603, 16454, 2538, 11692, 20212, 6904, 12187, 4189, 6879],\n [9700, 4133, 18375, 18376, 17772, 2195, 11669, 5306, 3966, 4287],\n [4804, 19268, 8070, 8971, 20239, 17138, 3635, 18326, 8893, 4126],\n [10952, 20397, 20014, 20015, 20016, 20017, 13269, 11127, 2780, 9887],\n [10986, 2315, 11116, 11627, 9520, 17939, 10580, 17941, 3158, 5279],\n [8678, 5578, 8778, 12938, 11725, 5582, 5583, 12946, 12949, 12407],\n [18025, 8747, 11596, 7789, 4398, 12080, 14034, 4307, 14357, 16953],\n [5257, 10889, 15697, 18232, 5299, 19581, 9048, 18233, 18234, 3965],\n [13762, 8035, 7535, 7407, 13584, 19443, 8277, 13750, 6909],\n [9024, 12135, 16812, 17263, 12923, 9020, 9021, 9022, 9023],\n [18464, 20353, 20354, 18377, 20427, 8722, 19517, 12060, 12061],\n [18339, 5381, 11527, 16039, 2825, 2701, 3726, 18253, 18832],\n [10145, 16069, 13222, 13705, 15534, 4087, 16153, 19612, 4094],\n [13634, 19592, 9098, 20461, 6190, 4431, 19376, 12149, 18490],\n [13440, 15744, 13443, 13444, 17607, 18446, 19924, 19195],\n [11109, 15912, 10253, 9904, 15696, 16790, 14749, 16190],\n [2785, 5634, 7631, 7919, 5615, 17744, 13044, 16890],\n [10368, 16226, 12487, 5517, 18864, 15761, 15130],\n [18274, 5475, 13643, 13740, 17069, 13501, 13503],\n [9185, 17798, 17968, 2836, 19957, 19960, 4636],\n [16928, 20098, 19146, 9360, 18716, 18428, 19453],\n [19366, 17127, 19112, 13450, 18285, 19994, 17275],\n [3686, 9550, 15157, 13915, 13917, 13919],\n [3371, 2411, 5550, 5554, 14964, 9846],\n [5696, 6213, 7463, 9455, 19349, 13238],\n [6882, 20458, 18348, 18349, 14866, 9527],\n [8417, 7362, 13923, 7402, 16911, 17335],\n [7460, 7334, 15372, 8335, 17328, 2713],\n [12482, 4994, 16711, 6826, 15307, 5114],\n [2277, 14055, 12042, 5074, 16063],\n [2465, 6382, 6290, 2236, 16797],\n [18784, 9761, 13993, 19665, 18238],\n [13924, 4584, 15240, 4397, 17331],\n [15812, 12394, 17047, 17146, 17147],\n [2245, 5958, 5131, 5108, 2266],\n [15100, 9011, 3660, 10902],\n [1568, 8937, 8938, 14927],\n [2880, 10819, 10806, 2447],\n [17729, 7802, 7052, 9221],\n [13177, 8444, 13828, 18222],\n [19729, 6555, 17237, 6398],\n [12827, 20214, 11691, 13835],\n [4241, 15459, 8942],\n [14778, 9618, 5973],\n [3040, 13852, 9582],\n [9891, 8252, 8254],\n [6881, 2262, 1367],\n [5659, 13435],\n [9040, 5501],\n [9632, 19932],\n [3195, 4806]]"
     },
     "execution_count": 50,
     "metadata": {},
     "output_type": "execute_result"
    }
   ],
   "source": [
    "lp_coms.communities\n"
   ],
   "metadata": {
    "collapsed": false,
    "pycharm": {
     "name": "#%%\n"
    }
   }
  },
  {
   "cell_type": "code",
   "execution_count": 51,
   "outputs": [
    {
     "data": {
      "text/plain": "[0,\n 1,\n 2,\n 3,\n 4,\n 5,\n 6,\n 7,\n 8,\n 9,\n 10,\n 11,\n 12,\n 13,\n 14,\n 15,\n 16,\n 17,\n 18,\n 19,\n 20,\n 21,\n 22,\n 23,\n 24,\n 25,\n 26,\n 27,\n 28,\n 29,\n 30,\n 31,\n 32,\n 33,\n 34,\n 35,\n 36,\n 37,\n 38,\n 39,\n 40,\n 41,\n 42,\n 43,\n 44,\n 45,\n 46,\n 47,\n 48,\n 49,\n 50,\n 51,\n 52,\n 53,\n 54,\n 55,\n 56,\n 57,\n 58,\n 59,\n 60,\n 61,\n 62,\n 63,\n 64,\n 65,\n 66,\n 67,\n 68,\n 69,\n 70,\n 71,\n 72,\n 73,\n 74,\n 75,\n 76,\n 77,\n 78,\n 79,\n 80,\n 81,\n 82,\n 83,\n 84,\n 85,\n 86,\n 87,\n 88,\n 89,\n 90,\n 91,\n 92,\n 93,\n 94,\n 95,\n 96,\n 97,\n 98,\n 99,\n 100,\n 101,\n 102,\n 103,\n 104,\n 105,\n 106,\n 107,\n 108,\n 109,\n 110,\n 111,\n 112,\n 113,\n 114,\n 115,\n 116,\n 117,\n 118,\n 119,\n 120,\n 121,\n 122,\n 123,\n 124,\n 125,\n 126,\n 127,\n 128,\n 129,\n 130,\n 131,\n 132,\n 133,\n 134,\n 135,\n 136,\n 137,\n 138,\n 139,\n 140,\n 141,\n 142,\n 143,\n 144,\n 145,\n 146,\n 147,\n 148,\n 149,\n 150,\n 151,\n 152,\n 153,\n 154,\n 155,\n 156,\n 157,\n 158,\n 159,\n 160,\n 161,\n 162,\n 163,\n 164,\n 165,\n 166,\n 167,\n 168,\n 169,\n 170,\n 171,\n 172,\n 173,\n 174,\n 175,\n 176,\n 177,\n 178,\n 179,\n 180,\n 181,\n 182,\n 183,\n 184,\n 185,\n 186,\n 187,\n 188,\n 189,\n 190,\n 191,\n 192,\n 193,\n 194,\n 195,\n 196,\n 197,\n 198,\n 199,\n 200,\n 201,\n 202,\n 203,\n 204,\n 205,\n 206,\n 207,\n 208,\n 209,\n 210,\n 211,\n 212,\n 213,\n 214,\n 215,\n 216,\n 217,\n 218,\n 219,\n 220,\n 221,\n 222,\n 223,\n 224,\n 225,\n 226,\n 227,\n 228,\n 229,\n 230,\n 231,\n 232,\n 233,\n 234,\n 235,\n 236,\n 237,\n 238,\n 239,\n 240,\n 241,\n 242,\n 243,\n 244,\n 245,\n 246,\n 247,\n 248,\n 249,\n 250,\n 251,\n 252,\n 253,\n 254,\n 255,\n 256,\n 257,\n 258,\n 259,\n 260,\n 261,\n 262,\n 263,\n 264,\n 265,\n 266,\n 267,\n 268,\n 269,\n 270,\n 271,\n 272,\n 273,\n 274,\n 275,\n 276,\n 277,\n 278,\n 279,\n 280,\n 281,\n 282,\n 283,\n 284,\n 285,\n 286,\n 287,\n 288,\n 289,\n 290,\n 291,\n 292,\n 293,\n 294,\n 295,\n 296,\n 297,\n 298,\n 299,\n 300,\n 301,\n 302,\n 303,\n 304,\n 305,\n 306,\n 307,\n 308,\n 309,\n 310,\n 311,\n 312,\n 313,\n 314,\n 315,\n 316,\n 317,\n 318,\n 319,\n 320,\n 321,\n 322,\n 323,\n 324,\n 325,\n 326,\n 327,\n 328,\n 329,\n 330,\n 331,\n 332,\n 333,\n 334,\n 335,\n 336,\n 337,\n 338,\n 339,\n 340,\n 341,\n 342,\n 343,\n 344,\n 345,\n 346,\n 347,\n 348,\n 349,\n 350,\n 351,\n 352,\n 353,\n 354,\n 355,\n 356,\n 357,\n 358,\n 359,\n 360,\n 361,\n 362,\n 363,\n 364,\n 365,\n 366,\n 367,\n 368,\n 369,\n 370,\n 371,\n 372,\n 373,\n 374,\n 375,\n 376,\n 377,\n 378,\n 379,\n 380,\n 381,\n 382,\n 383,\n 384,\n 385,\n 386,\n 387,\n 388,\n 389,\n 390,\n 391,\n 392,\n 393,\n 394,\n 395,\n 396,\n 397,\n 398,\n 399,\n 400,\n 401,\n 402,\n 403,\n 404,\n 405,\n 406,\n 407,\n 408,\n 409,\n 410,\n 411,\n 412,\n 413,\n 414,\n 415,\n 416,\n 417,\n 418,\n 419,\n 420,\n 421,\n 422,\n 423,\n 424,\n 425,\n 426,\n 427,\n 428,\n 429,\n 430,\n 431,\n 432,\n 433,\n 434,\n 435,\n 436,\n 437,\n 438,\n 439,\n 440,\n 441,\n 442,\n 443,\n 444,\n 445,\n 446,\n 447,\n 448,\n 449,\n 450,\n 451,\n 452,\n 453,\n 454,\n 455,\n 456,\n 457,\n 458,\n 459,\n 460,\n 461,\n 462,\n 463,\n 464,\n 465,\n 466,\n 467,\n 468,\n 469,\n 470,\n 471,\n 472,\n 473,\n 474,\n 475,\n 476,\n 477,\n 478,\n 479,\n 480,\n 481,\n 482,\n 483,\n 484,\n 485,\n 486,\n 487,\n 488,\n 489,\n 490,\n 491,\n 492,\n 493,\n 494,\n 495,\n 496,\n 497,\n 498,\n 499,\n 500,\n 501,\n 502,\n 503,\n 504,\n 505,\n 506,\n 507,\n 508,\n 509,\n 510,\n 511,\n 512,\n 513,\n 514,\n 515,\n 516,\n 517,\n 518,\n 519,\n 520,\n 521,\n 522,\n 523,\n 524,\n 525,\n 526,\n 527,\n 528,\n 529,\n 530,\n 531,\n 532,\n 533,\n 534,\n 535,\n 536,\n 537,\n 538,\n 539,\n 540,\n 541,\n 542,\n 543,\n 544,\n 545,\n 546,\n 547,\n 548,\n 549,\n 550,\n 551,\n 552,\n 553,\n 554,\n 555,\n 556,\n 557,\n 558,\n 559,\n 560,\n 561,\n 562,\n 563,\n 564,\n 565,\n 566,\n 567,\n 568,\n 569,\n 570,\n 571,\n 572,\n 573,\n 574,\n 575,\n 576,\n 577,\n 578,\n 579,\n 580,\n 581,\n 582,\n 583,\n 584,\n 585,\n 586,\n 587,\n 588,\n 589,\n 590,\n 591,\n 592,\n 593,\n 594,\n 595,\n 596,\n 597,\n 598,\n 599,\n 600,\n 601,\n 602,\n 603,\n 604,\n 605,\n 606,\n 607,\n 608,\n 609,\n 610,\n 611,\n 612,\n 613,\n 614,\n 615,\n 616,\n 617,\n 618,\n 619,\n 620,\n 621,\n 622,\n 623,\n 624,\n 625,\n 626,\n 627,\n 628,\n 629,\n 630,\n 631,\n 632,\n 633,\n 634,\n 635,\n 636,\n 637,\n 638,\n 639,\n 640,\n 641,\n 642,\n 643,\n 644,\n 645,\n 646,\n 647,\n 648,\n 649,\n 650,\n 651,\n 652,\n 653,\n 654,\n 655,\n 656,\n 657,\n 658,\n 659,\n 660,\n 661,\n 662,\n 663,\n 664,\n 665,\n 666,\n 667,\n 668,\n 669,\n 670,\n 671,\n 672,\n 673,\n 674,\n 675,\n 676,\n 677,\n 678,\n 679,\n 680,\n 681,\n 682,\n 683,\n 684,\n 685,\n 686,\n 687,\n 688,\n 689,\n 690,\n 691,\n 692,\n 693,\n 694,\n 695,\n 696,\n 697,\n 698,\n 699,\n 700,\n 701,\n 702,\n 703,\n 704,\n 705,\n 706,\n 707,\n 708,\n 709,\n 710,\n 711,\n 712,\n 713,\n 714,\n 715,\n 716,\n 717,\n 718,\n 719,\n 720,\n 721,\n 722,\n 723,\n 724,\n 725,\n 726,\n 727,\n 728,\n 729,\n 730,\n 731,\n 732,\n 733,\n 734,\n 735,\n 736,\n 737,\n 738,\n 739,\n 740,\n 741,\n 742,\n 743,\n 744,\n 745,\n 746,\n 747,\n 748,\n 749,\n 750,\n 751,\n 752,\n 753,\n 754,\n 755,\n 756,\n 757,\n 758,\n 759,\n 760,\n 761,\n 762,\n 763,\n 764,\n 765,\n 766,\n 767,\n 768,\n 769,\n 770,\n 771,\n 772,\n 773,\n 774,\n 775,\n 776,\n 777,\n 778,\n 779,\n 780,\n 781,\n 782,\n 783,\n 784,\n 785,\n 786,\n 787,\n 788,\n 789,\n 790,\n 791,\n 792,\n 793,\n 794,\n 795,\n 796,\n 797,\n 798,\n 799,\n 800,\n 801,\n 802,\n 803,\n 804,\n 805,\n 806,\n 807,\n 808,\n 809,\n 810,\n 811,\n 812,\n 814,\n 815,\n 816,\n 817,\n 818,\n 819,\n 820,\n 822,\n 823,\n 824,\n 825,\n 826,\n 827,\n 828,\n 829,\n 830,\n 831,\n 832,\n 833,\n 834,\n 835,\n 836,\n 837,\n 838,\n 840,\n 841,\n 842,\n 843,\n 844,\n 845,\n 846,\n 847,\n 848,\n 849,\n 850,\n 851,\n 852,\n 853,\n 854,\n 855,\n 856,\n 857,\n 858,\n 859,\n 860,\n 861,\n 862,\n 863,\n 864,\n 865,\n 866,\n 867,\n 868,\n 869,\n 870,\n 871,\n 872,\n 873,\n 874,\n 875,\n 876,\n 877,\n 878,\n 879,\n 880,\n 881,\n 882,\n 883,\n 884,\n 885,\n 886,\n 887,\n 888,\n 889,\n 890,\n 891,\n 892,\n 893,\n 894,\n 895,\n 896,\n 897,\n 898,\n 899,\n 900,\n 901,\n 902,\n 903,\n 904,\n 905,\n 906,\n 907,\n 908,\n 909,\n 910,\n 911,\n 912,\n 913,\n 914,\n 915,\n 916,\n 917,\n 918,\n 919,\n 920,\n 921,\n 922,\n 923,\n 924,\n 925,\n 926,\n 927,\n 928,\n 929,\n 930,\n 931,\n 932,\n 933,\n 934,\n 935,\n 936,\n 937,\n 938,\n 939,\n 940,\n 941,\n 942,\n 943,\n 944,\n 945,\n 946,\n 947,\n 948,\n 949,\n 950,\n 951,\n 952,\n 953,\n 954,\n 955,\n 956,\n 957,\n 958,\n 959,\n 960,\n 961,\n 962,\n 963,\n 964,\n 965,\n 966,\n 967,\n 968,\n 969,\n 970,\n 971,\n 972,\n 973,\n 974,\n 975,\n 976,\n 977,\n 978,\n 979,\n 980,\n 981,\n 982,\n 983,\n 984,\n 985,\n 986,\n 987,\n 988,\n 989,\n 990,\n 991,\n 992,\n 993,\n 994,\n 995,\n 996,\n 997,\n 998,\n 999,\n 1000,\n 1001,\n 1002,\n ...]"
     },
     "execution_count": 51,
     "metadata": {},
     "output_type": "execute_result"
    }
   ],
   "source": [
    "lp_coms.communities[0]\n"
   ],
   "metadata": {
    "collapsed": false,
    "pycharm": {
     "name": "#%%\n"
    }
   }
  },
  {
   "cell_type": "code",
   "execution_count": 52,
   "outputs": [
    {
     "data": {
      "text/plain": "FitnessResult(min=2, max=9353, score=107.1574074074074, std=894.1987222382605)"
     },
     "execution_count": 52,
     "metadata": {},
     "output_type": "execute_result"
    }
   ],
   "source": [
    "lp_coms.size()"
   ],
   "metadata": {
    "collapsed": false,
    "pycharm": {
     "name": "#%%\n"
    }
   }
  },
  {
   "cell_type": "code",
   "execution_count": 53,
   "outputs": [
    {
     "data": {
      "text/plain": "False"
     },
     "execution_count": 53,
     "metadata": {},
     "output_type": "execute_result"
    }
   ],
   "source": [
    "lp_coms.overlap"
   ],
   "metadata": {
    "collapsed": false,
    "pycharm": {
     "name": "#%%\n"
    }
   }
  },
  {
   "cell_type": "code",
   "execution_count": 54,
   "outputs": [
    {
     "name": "stdout",
     "output_type": "stream",
     "text": [
      "INTERNAL EVALUATION\n",
      "\n",
      "1 - Average Internal Degree: \n",
      "FitnessResult(min=1.0, max=194.6308136426815, score=18.8442581410357, std=26.39105196437351)\n",
      "\n",
      "\n",
      "2 - Internal Edge Density: \n",
      "FitnessResult(min=0.020811678105504865, max=1.0, score=0.9481069277673193, std=0.15455223715201294)\n",
      "\n",
      "\n",
      "3 - Conductance : \n",
      "FitnessResult(min=0.016835587835947532, max=0.5714285714285714, score=0.344580279492796, std=0.1319559418923727)\n",
      "\n",
      "\n",
      "4 - Triangle Participation Ratio : \n",
      "FitnessResult(min=0.0, max=1.0, score=0.9629599930305587, std=0.18885199462371216)\n",
      "\n",
      "\n",
      "5 - Newmann modularity : \n",
      "FitnessResult(min=None, max=None, score=0.08889187188396865, std=None)\n",
      "\n",
      "\n",
      "6 - Expansion : \n",
      "FitnessResult(min=1.0, max=47.44444444444444, score=7.9959156306567865, std=8.269557333306938)\n",
      "\n",
      "\n",
      "7 - Normalized cut : \n",
      "FitnessResult(min=0.05211556500816209, max=0.571436670701358, score=0.34628393276137215, std=0.12901344898105024)\n",
      "\n",
      "\n",
      "8 - Average ODF Degree : \n",
      "FitnessResult(min=1.0, max=47.44444444444444, score=7.9959156306567865, std=8.269557333306938)\n",
      "\n",
      "\n",
      "9 - Flake ODF : \n",
      "FitnessResult(min=0.0, max=1.0, score=0.037803689800501354, std=0.17390298367888082)\n",
      "\n",
      "\n",
      "10 - Fraction over median degree : \n",
      "FitnessResult(min=0.0, max=0.4947075804554688, score=0.007861683994358222, std=0.048567009119841055)\n",
      "\n",
      "\n",
      "11 - Node coverage : \n",
      "1.0\n"
     ]
    }
   ],
   "source": [
    "FitnessFunctions(lp_coms)"
   ],
   "metadata": {
    "collapsed": false,
    "pycharm": {
     "name": "#%%\n"
    }
   }
  },
  {
   "cell_type": "code",
   "execution_count": null,
   "outputs": [],
   "source": [],
   "metadata": {
    "collapsed": false,
    "pycharm": {
     "name": "#%%\n"
    }
   }
  },
  {
   "cell_type": "markdown",
   "source": [
    "#### Semantic Analysis of the single communities [Label Propagation]"
   ],
   "metadata": {
    "collapsed": false,
    "pycharm": {
     "name": "#%% md\n"
    }
   }
  },
  {
   "cell_type": "markdown",
   "source": [
    "##### Community 1"
   ],
   "metadata": {
    "collapsed": false,
    "pycharm": {
     "name": "#%% md\n"
    }
   }
  },
  {
   "cell_type": "code",
   "execution_count": 54,
   "outputs": [],
   "source": [],
   "metadata": {
    "collapsed": false,
    "pycharm": {
     "name": "#%%\n"
    }
   }
  },
  {
   "cell_type": "code",
   "execution_count": 55,
   "outputs": [],
   "source": [
    "authors_lp_coms1 = []\n",
    "genres_lp_coms1= []\n",
    "years_lp_coms1= []\n",
    "publishers_lp_coms1 = []\n",
    "bookdealers_lp_coms1 = []\n",
    "\n",
    "cntAuthor_lp1 = Counter()\n",
    "cntGenre_lp1 = Counter()\n",
    "cntYear_lp1 = Counter()\n",
    "cntPub_lp1 = Counter()\n",
    "cntBookdealer_lp1 = Counter()\n",
    "\n",
    "addToList(authors_lp_coms1, genres_lp_coms1, years_lp_coms1,publishers_lp_coms1 , bookdealers_lp_coms1, lp_coms.communities[0])"
   ],
   "metadata": {
    "collapsed": false,
    "pycharm": {
     "name": "#%%\n"
    }
   }
  },
  {
   "cell_type": "code",
   "execution_count": 56,
   "outputs": [
    {
     "name": "stdout",
     "output_type": "stream",
     "text": [
      "('Letteratura per ragazzi', 2746)\n",
      "('Letterature straniere: testi', 2374)\n",
      "('Letteratura italiana: testi', 1732)\n",
      "('Disegno, arti decorative e minori', 489)\n",
      "('Scienze sociali', 295)\n",
      "('Geografia generale. viaggi', 146)\n",
      "('Problemi e servizi sociali', 144)\n",
      "('Scienza politica', 140)\n",
      "('Arti ricreative. spettacolo. sport', 138)\n",
      "(\"Storia d'europa\", 104)\n",
      "('Musica', 99)\n",
      "('Psicologia', 82)\n",
      "('Economia domestica e vita familiare', 71)\n",
      "('Filosofia occidentale moderna', 68)\n",
      "('Fotografia', 58)\n",
      "('Arti', 46)\n",
      "('Letterature straniere: critica', 37)\n",
      "('Letteratura italiana: critica', 36)\n",
      "('Letteratura', 35)\n",
      "('Educazione', 34)\n",
      "('Pittura', 32)\n",
      "('Economia', 32)\n",
      "('Storia del mondo antico. archeologia', 24)\n",
      "('Scienze mediche. medicina', 24)\n",
      "('Scienze botaniche', 23)\n",
      "('Usi e costumi, etichetta, folclore', 23)\n",
      "('Geografia e storia', 21)\n",
      "('Scienze della vita', 20)\n",
      "('Fisica', 19)\n",
      "('Scienze zoologiche', 17)\n",
      "('Diritto', 17)\n",
      "('Fenomeni e tecniche paranormali', 14)\n",
      "('Altre religioni. religione comparata', 12)\n",
      "('Architettura', 12)\n",
      "('Teologia sociale ed ecclesiastica', 11)\n",
      "('Scienze pure', 10)\n",
      "('Gestione e servizi ausiliari', 10)\n",
      "('Letteratura greca e latina: critica', 9)\n",
      "('Agricoltura e tecnologie connesse', 9)\n",
      "('Filosofia antica, medievale, orientale', 9)\n",
      "('Biografia e genealogia', 9)\n",
      "('Altro', 8)\n",
      "('Etica', 7)\n",
      "('Giornalismo, editoria, giornali', 7)\n",
      "('Filosofia e discipline connesse', 7)\n",
      "('Urbanistica e arte del paesaggio', 7)\n",
      "('Teologia morale cristiana', 7)\n",
      "(\"Storia d'asia\", 6)\n",
      "('Astronomia e scienze connesse', 6)\n",
      "('Scienze della terra', 5)\n",
      "(\"Storia dell'america settentrionale\", 5)\n",
      "('Matematica', 5)\n",
      "('Storia e geografia della chiesa', 5)\n",
      "('Letteratura greca e latina: testi', 5)\n",
      "('Libro. elaborazione dati', 4)\n",
      "('Arti grafiche. stampe', 4)\n",
      "('Denominazioni e sette cristiane', 4)\n",
      "('Lingua italiana, lingue ladine', 3)\n",
      "('Linguistica', 3)\n",
      "(\"Storia dell'america meridionale\", 3)\n",
      "('Arti plastiche. scultura', 3)\n",
      "('Biblioteconomia. documentazione', 3)\n",
      "('Bibbia', 2)\n",
      "('Ingegneria e attivita affini', 2)\n",
      "('Teologia cristiana', 2)\n",
      "('Metafisica', 2)\n",
      "('Chimica e scienze connesse', 2)\n",
      "('Lingua inglese e anglosassone', 1)\n",
      "('Lingue elleniche. greco classico', 1)\n",
      "('Religione', 1)\n",
      "('Gnoseologia, causalita, genere umano', 1)\n",
      "('Logica', 1)\n"
     ]
    }
   ],
   "source": [
    "#most common Genres\n",
    "for el in (mostCommon(cntGenre_lp1, genres_lp_coms1)):\n",
    "    print(el)"
   ],
   "metadata": {
    "collapsed": false,
    "pycharm": {
     "name": "#%%\n"
    }
   }
  },
  {
   "cell_type": "code",
   "execution_count": 182,
   "outputs": [
    {
     "data": {
      "application/vnd.plotly.v1+json": {
       "data": [
        {
         "alignmentgroup": "True",
         "hovertemplate": "Genre=%{x}<br>Frequency=%{y}<extra></extra>",
         "legendgroup": "",
         "marker": {
          "color": "#636efa",
          "pattern": {
           "shape": ""
          }
         },
         "name": "",
         "offsetgroup": "",
         "orientation": "v",
         "showlegend": false,
         "textposition": "auto",
         "x": [
          "Letteratura per ragazzi",
          "Letterature straniere: testi",
          "Letteratura italiana: testi",
          "Disegno, arti decorative e minori",
          "Scienze sociali",
          "Geografia generale. viaggi",
          "Problemi e servizi sociali",
          "Scienza politica",
          "Arti ricreative. spettacolo. sport",
          "Storia d'europa",
          "Musica",
          "Psicologia",
          "Economia domestica e vita familiare",
          "Filosofia occidentale moderna",
          "Fotografia",
          "Arti",
          "Letterature straniere: critica",
          "Letteratura italiana: critica",
          "Letteratura",
          "Educazione",
          "Pittura",
          "Economia",
          "Storia del mondo antico. archeologia",
          "Scienze mediche. medicina",
          "Scienze botaniche",
          "Usi e costumi, etichetta, folclore",
          "Geografia e storia",
          "Scienze della vita",
          "Fisica",
          "Scienze zoologiche",
          "Diritto",
          "Fenomeni e tecniche paranormali",
          "Altre religioni. religione comparata",
          "Architettura",
          "Teologia sociale ed ecclesiastica",
          "Scienze pure",
          "Gestione e servizi ausiliari",
          "Letteratura greca e latina: critica",
          "Agricoltura e tecnologie connesse",
          "Filosofia antica, medievale, orientale",
          "Biografia e genealogia",
          "Altro",
          "Etica",
          "Giornalismo, editoria, giornali",
          "Filosofia e discipline connesse",
          "Urbanistica e arte del paesaggio",
          "Teologia morale cristiana",
          "Storia d'asia",
          "Astronomia e scienze connesse",
          "Scienze della terra",
          "Storia dell'america settentrionale",
          "Matematica",
          "Storia e geografia della chiesa",
          "Letteratura greca e latina: testi",
          "Libro. elaborazione dati",
          "Arti grafiche. stampe",
          "Denominazioni e sette cristiane",
          "Lingua italiana, lingue ladine",
          "Linguistica",
          "Storia dell'america meridionale",
          "Arti plastiche. scultura",
          "Biblioteconomia. documentazione",
          "Bibbia",
          "Ingegneria e attivita affini",
          "Teologia cristiana",
          "Metafisica",
          "Chimica e scienze connesse",
          "Lingua inglese e anglosassone",
          "Lingue elleniche. greco classico",
          "Religione",
          "Gnoseologia, causalita, genere umano",
          "Logica"
         ],
         "xaxis": "x",
         "y": [
          2746,
          2374,
          1732,
          489,
          295,
          146,
          144,
          140,
          138,
          104,
          99,
          82,
          71,
          68,
          58,
          46,
          37,
          36,
          35,
          34,
          32,
          32,
          24,
          24,
          23,
          23,
          21,
          20,
          19,
          17,
          17,
          14,
          12,
          12,
          11,
          10,
          10,
          9,
          9,
          9,
          9,
          8,
          7,
          7,
          7,
          7,
          7,
          6,
          6,
          5,
          5,
          5,
          5,
          5,
          4,
          4,
          4,
          3,
          3,
          3,
          3,
          3,
          2,
          2,
          2,
          2,
          2,
          1,
          1,
          1,
          1,
          1
         ],
         "yaxis": "y",
         "type": "bar"
        }
       ],
       "layout": {
        "template": {
         "data": {
          "histogram2dcontour": [
           {
            "type": "histogram2dcontour",
            "colorbar": {
             "outlinewidth": 0,
             "ticks": ""
            },
            "colorscale": [
             [
              0.0,
              "#0d0887"
             ],
             [
              0.1111111111111111,
              "#46039f"
             ],
             [
              0.2222222222222222,
              "#7201a8"
             ],
             [
              0.3333333333333333,
              "#9c179e"
             ],
             [
              0.4444444444444444,
              "#bd3786"
             ],
             [
              0.5555555555555556,
              "#d8576b"
             ],
             [
              0.6666666666666666,
              "#ed7953"
             ],
             [
              0.7777777777777778,
              "#fb9f3a"
             ],
             [
              0.8888888888888888,
              "#fdca26"
             ],
             [
              1.0,
              "#f0f921"
             ]
            ]
           }
          ],
          "choropleth": [
           {
            "type": "choropleth",
            "colorbar": {
             "outlinewidth": 0,
             "ticks": ""
            }
           }
          ],
          "histogram2d": [
           {
            "type": "histogram2d",
            "colorbar": {
             "outlinewidth": 0,
             "ticks": ""
            },
            "colorscale": [
             [
              0.0,
              "#0d0887"
             ],
             [
              0.1111111111111111,
              "#46039f"
             ],
             [
              0.2222222222222222,
              "#7201a8"
             ],
             [
              0.3333333333333333,
              "#9c179e"
             ],
             [
              0.4444444444444444,
              "#bd3786"
             ],
             [
              0.5555555555555556,
              "#d8576b"
             ],
             [
              0.6666666666666666,
              "#ed7953"
             ],
             [
              0.7777777777777778,
              "#fb9f3a"
             ],
             [
              0.8888888888888888,
              "#fdca26"
             ],
             [
              1.0,
              "#f0f921"
             ]
            ]
           }
          ],
          "heatmap": [
           {
            "type": "heatmap",
            "colorbar": {
             "outlinewidth": 0,
             "ticks": ""
            },
            "colorscale": [
             [
              0.0,
              "#0d0887"
             ],
             [
              0.1111111111111111,
              "#46039f"
             ],
             [
              0.2222222222222222,
              "#7201a8"
             ],
             [
              0.3333333333333333,
              "#9c179e"
             ],
             [
              0.4444444444444444,
              "#bd3786"
             ],
             [
              0.5555555555555556,
              "#d8576b"
             ],
             [
              0.6666666666666666,
              "#ed7953"
             ],
             [
              0.7777777777777778,
              "#fb9f3a"
             ],
             [
              0.8888888888888888,
              "#fdca26"
             ],
             [
              1.0,
              "#f0f921"
             ]
            ]
           }
          ],
          "heatmapgl": [
           {
            "type": "heatmapgl",
            "colorbar": {
             "outlinewidth": 0,
             "ticks": ""
            },
            "colorscale": [
             [
              0.0,
              "#0d0887"
             ],
             [
              0.1111111111111111,
              "#46039f"
             ],
             [
              0.2222222222222222,
              "#7201a8"
             ],
             [
              0.3333333333333333,
              "#9c179e"
             ],
             [
              0.4444444444444444,
              "#bd3786"
             ],
             [
              0.5555555555555556,
              "#d8576b"
             ],
             [
              0.6666666666666666,
              "#ed7953"
             ],
             [
              0.7777777777777778,
              "#fb9f3a"
             ],
             [
              0.8888888888888888,
              "#fdca26"
             ],
             [
              1.0,
              "#f0f921"
             ]
            ]
           }
          ],
          "contourcarpet": [
           {
            "type": "contourcarpet",
            "colorbar": {
             "outlinewidth": 0,
             "ticks": ""
            }
           }
          ],
          "contour": [
           {
            "type": "contour",
            "colorbar": {
             "outlinewidth": 0,
             "ticks": ""
            },
            "colorscale": [
             [
              0.0,
              "#0d0887"
             ],
             [
              0.1111111111111111,
              "#46039f"
             ],
             [
              0.2222222222222222,
              "#7201a8"
             ],
             [
              0.3333333333333333,
              "#9c179e"
             ],
             [
              0.4444444444444444,
              "#bd3786"
             ],
             [
              0.5555555555555556,
              "#d8576b"
             ],
             [
              0.6666666666666666,
              "#ed7953"
             ],
             [
              0.7777777777777778,
              "#fb9f3a"
             ],
             [
              0.8888888888888888,
              "#fdca26"
             ],
             [
              1.0,
              "#f0f921"
             ]
            ]
           }
          ],
          "surface": [
           {
            "type": "surface",
            "colorbar": {
             "outlinewidth": 0,
             "ticks": ""
            },
            "colorscale": [
             [
              0.0,
              "#0d0887"
             ],
             [
              0.1111111111111111,
              "#46039f"
             ],
             [
              0.2222222222222222,
              "#7201a8"
             ],
             [
              0.3333333333333333,
              "#9c179e"
             ],
             [
              0.4444444444444444,
              "#bd3786"
             ],
             [
              0.5555555555555556,
              "#d8576b"
             ],
             [
              0.6666666666666666,
              "#ed7953"
             ],
             [
              0.7777777777777778,
              "#fb9f3a"
             ],
             [
              0.8888888888888888,
              "#fdca26"
             ],
             [
              1.0,
              "#f0f921"
             ]
            ]
           }
          ],
          "mesh3d": [
           {
            "type": "mesh3d",
            "colorbar": {
             "outlinewidth": 0,
             "ticks": ""
            }
           }
          ],
          "scatter": [
           {
            "fillpattern": {
             "fillmode": "overlay",
             "size": 10,
             "solidity": 0.2
            },
            "type": "scatter"
           }
          ],
          "parcoords": [
           {
            "type": "parcoords",
            "line": {
             "colorbar": {
              "outlinewidth": 0,
              "ticks": ""
             }
            }
           }
          ],
          "scatterpolargl": [
           {
            "type": "scatterpolargl",
            "marker": {
             "colorbar": {
              "outlinewidth": 0,
              "ticks": ""
             }
            }
           }
          ],
          "bar": [
           {
            "error_x": {
             "color": "#2a3f5f"
            },
            "error_y": {
             "color": "#2a3f5f"
            },
            "marker": {
             "line": {
              "color": "#E5ECF6",
              "width": 0.5
             },
             "pattern": {
              "fillmode": "overlay",
              "size": 10,
              "solidity": 0.2
             }
            },
            "type": "bar"
           }
          ],
          "scattergeo": [
           {
            "type": "scattergeo",
            "marker": {
             "colorbar": {
              "outlinewidth": 0,
              "ticks": ""
             }
            }
           }
          ],
          "scatterpolar": [
           {
            "type": "scatterpolar",
            "marker": {
             "colorbar": {
              "outlinewidth": 0,
              "ticks": ""
             }
            }
           }
          ],
          "histogram": [
           {
            "marker": {
             "pattern": {
              "fillmode": "overlay",
              "size": 10,
              "solidity": 0.2
             }
            },
            "type": "histogram"
           }
          ],
          "scattergl": [
           {
            "type": "scattergl",
            "marker": {
             "colorbar": {
              "outlinewidth": 0,
              "ticks": ""
             }
            }
           }
          ],
          "scatter3d": [
           {
            "type": "scatter3d",
            "line": {
             "colorbar": {
              "outlinewidth": 0,
              "ticks": ""
             }
            },
            "marker": {
             "colorbar": {
              "outlinewidth": 0,
              "ticks": ""
             }
            }
           }
          ],
          "scattermapbox": [
           {
            "type": "scattermapbox",
            "marker": {
             "colorbar": {
              "outlinewidth": 0,
              "ticks": ""
             }
            }
           }
          ],
          "scatterternary": [
           {
            "type": "scatterternary",
            "marker": {
             "colorbar": {
              "outlinewidth": 0,
              "ticks": ""
             }
            }
           }
          ],
          "scattercarpet": [
           {
            "type": "scattercarpet",
            "marker": {
             "colorbar": {
              "outlinewidth": 0,
              "ticks": ""
             }
            }
           }
          ],
          "carpet": [
           {
            "aaxis": {
             "endlinecolor": "#2a3f5f",
             "gridcolor": "white",
             "linecolor": "white",
             "minorgridcolor": "white",
             "startlinecolor": "#2a3f5f"
            },
            "baxis": {
             "endlinecolor": "#2a3f5f",
             "gridcolor": "white",
             "linecolor": "white",
             "minorgridcolor": "white",
             "startlinecolor": "#2a3f5f"
            },
            "type": "carpet"
           }
          ],
          "table": [
           {
            "cells": {
             "fill": {
              "color": "#EBF0F8"
             },
             "line": {
              "color": "white"
             }
            },
            "header": {
             "fill": {
              "color": "#C8D4E3"
             },
             "line": {
              "color": "white"
             }
            },
            "type": "table"
           }
          ],
          "barpolar": [
           {
            "marker": {
             "line": {
              "color": "#E5ECF6",
              "width": 0.5
             },
             "pattern": {
              "fillmode": "overlay",
              "size": 10,
              "solidity": 0.2
             }
            },
            "type": "barpolar"
           }
          ],
          "pie": [
           {
            "automargin": true,
            "type": "pie"
           }
          ]
         },
         "layout": {
          "autotypenumbers": "strict",
          "colorway": [
           "#636efa",
           "#EF553B",
           "#00cc96",
           "#ab63fa",
           "#FFA15A",
           "#19d3f3",
           "#FF6692",
           "#B6E880",
           "#FF97FF",
           "#FECB52"
          ],
          "font": {
           "color": "#2a3f5f"
          },
          "hovermode": "closest",
          "hoverlabel": {
           "align": "left"
          },
          "paper_bgcolor": "white",
          "plot_bgcolor": "#E5ECF6",
          "polar": {
           "bgcolor": "#E5ECF6",
           "angularaxis": {
            "gridcolor": "white",
            "linecolor": "white",
            "ticks": ""
           },
           "radialaxis": {
            "gridcolor": "white",
            "linecolor": "white",
            "ticks": ""
           }
          },
          "ternary": {
           "bgcolor": "#E5ECF6",
           "aaxis": {
            "gridcolor": "white",
            "linecolor": "white",
            "ticks": ""
           },
           "baxis": {
            "gridcolor": "white",
            "linecolor": "white",
            "ticks": ""
           },
           "caxis": {
            "gridcolor": "white",
            "linecolor": "white",
            "ticks": ""
           }
          },
          "coloraxis": {
           "colorbar": {
            "outlinewidth": 0,
            "ticks": ""
           }
          },
          "colorscale": {
           "sequential": [
            [
             0.0,
             "#0d0887"
            ],
            [
             0.1111111111111111,
             "#46039f"
            ],
            [
             0.2222222222222222,
             "#7201a8"
            ],
            [
             0.3333333333333333,
             "#9c179e"
            ],
            [
             0.4444444444444444,
             "#bd3786"
            ],
            [
             0.5555555555555556,
             "#d8576b"
            ],
            [
             0.6666666666666666,
             "#ed7953"
            ],
            [
             0.7777777777777778,
             "#fb9f3a"
            ],
            [
             0.8888888888888888,
             "#fdca26"
            ],
            [
             1.0,
             "#f0f921"
            ]
           ],
           "sequentialminus": [
            [
             0.0,
             "#0d0887"
            ],
            [
             0.1111111111111111,
             "#46039f"
            ],
            [
             0.2222222222222222,
             "#7201a8"
            ],
            [
             0.3333333333333333,
             "#9c179e"
            ],
            [
             0.4444444444444444,
             "#bd3786"
            ],
            [
             0.5555555555555556,
             "#d8576b"
            ],
            [
             0.6666666666666666,
             "#ed7953"
            ],
            [
             0.7777777777777778,
             "#fb9f3a"
            ],
            [
             0.8888888888888888,
             "#fdca26"
            ],
            [
             1.0,
             "#f0f921"
            ]
           ],
           "diverging": [
            [
             0,
             "#8e0152"
            ],
            [
             0.1,
             "#c51b7d"
            ],
            [
             0.2,
             "#de77ae"
            ],
            [
             0.3,
             "#f1b6da"
            ],
            [
             0.4,
             "#fde0ef"
            ],
            [
             0.5,
             "#f7f7f7"
            ],
            [
             0.6,
             "#e6f5d0"
            ],
            [
             0.7,
             "#b8e186"
            ],
            [
             0.8,
             "#7fbc41"
            ],
            [
             0.9,
             "#4d9221"
            ],
            [
             1,
             "#276419"
            ]
           ]
          },
          "xaxis": {
           "gridcolor": "white",
           "linecolor": "white",
           "ticks": "",
           "title": {
            "standoff": 15
           },
           "zerolinecolor": "white",
           "automargin": true,
           "zerolinewidth": 2
          },
          "yaxis": {
           "gridcolor": "white",
           "linecolor": "white",
           "ticks": "",
           "title": {
            "standoff": 15
           },
           "zerolinecolor": "white",
           "automargin": true,
           "zerolinewidth": 2
          },
          "scene": {
           "xaxis": {
            "backgroundcolor": "#E5ECF6",
            "gridcolor": "white",
            "linecolor": "white",
            "showbackground": true,
            "ticks": "",
            "zerolinecolor": "white",
            "gridwidth": 2
           },
           "yaxis": {
            "backgroundcolor": "#E5ECF6",
            "gridcolor": "white",
            "linecolor": "white",
            "showbackground": true,
            "ticks": "",
            "zerolinecolor": "white",
            "gridwidth": 2
           },
           "zaxis": {
            "backgroundcolor": "#E5ECF6",
            "gridcolor": "white",
            "linecolor": "white",
            "showbackground": true,
            "ticks": "",
            "zerolinecolor": "white",
            "gridwidth": 2
           }
          },
          "shapedefaults": {
           "line": {
            "color": "#2a3f5f"
           }
          },
          "annotationdefaults": {
           "arrowcolor": "#2a3f5f",
           "arrowhead": 0,
           "arrowwidth": 1
          },
          "geo": {
           "bgcolor": "white",
           "landcolor": "#E5ECF6",
           "subunitcolor": "white",
           "showland": true,
           "showlakes": true,
           "lakecolor": "white"
          },
          "title": {
           "x": 0.05
          },
          "mapbox": {
           "style": "light"
          }
         }
        },
        "xaxis": {
         "anchor": "y",
         "domain": [
          0.0,
          1.0
         ],
         "title": {
          "text": "Genre"
         }
        },
        "yaxis": {
         "anchor": "x",
         "domain": [
          0.0,
          1.0
         ],
         "title": {
          "text": "Frequency"
         }
        },
        "legend": {
         "tracegroupgap": 0
        },
        "title": {
         "text": "Frequency distribution of genre in comm. 1"
        },
        "barmode": "relative",
        "bargap": 0.3
       },
       "config": {
        "plotlyServerURL": "https://plot.ly"
       }
      },
      "text/html": "<div>                            <div id=\"b9b1f405-e7dd-4323-a926-50032546695b\" class=\"plotly-graph-div\" style=\"height:525px; width:100%;\"></div>            <script type=\"text/javascript\">                require([\"plotly\"], function(Plotly) {                    window.PLOTLYENV=window.PLOTLYENV || {};                                    if (document.getElementById(\"b9b1f405-e7dd-4323-a926-50032546695b\")) {                    Plotly.newPlot(                        \"b9b1f405-e7dd-4323-a926-50032546695b\",                        [{\"alignmentgroup\":\"True\",\"hovertemplate\":\"Genre=%{x}<br>Frequency=%{y}<extra></extra>\",\"legendgroup\":\"\",\"marker\":{\"color\":\"#636efa\",\"pattern\":{\"shape\":\"\"}},\"name\":\"\",\"offsetgroup\":\"\",\"orientation\":\"v\",\"showlegend\":false,\"textposition\":\"auto\",\"x\":[\"Letteratura per ragazzi\",\"Letterature straniere: testi\",\"Letteratura italiana: testi\",\"Disegno, arti decorative e minori\",\"Scienze sociali\",\"Geografia generale. viaggi\",\"Problemi e servizi sociali\",\"Scienza politica\",\"Arti ricreative. spettacolo. sport\",\"Storia d'europa\",\"Musica\",\"Psicologia\",\"Economia domestica e vita familiare\",\"Filosofia occidentale moderna\",\"Fotografia\",\"Arti\",\"Letterature straniere: critica\",\"Letteratura italiana: critica\",\"Letteratura\",\"Educazione\",\"Pittura\",\"Economia\",\"Storia del mondo antico. archeologia\",\"Scienze mediche. medicina\",\"Scienze botaniche\",\"Usi e costumi, etichetta, folclore\",\"Geografia e storia\",\"Scienze della vita\",\"Fisica\",\"Scienze zoologiche\",\"Diritto\",\"Fenomeni e tecniche paranormali\",\"Altre religioni. religione comparata\",\"Architettura\",\"Teologia sociale ed ecclesiastica\",\"Scienze pure\",\"Gestione e servizi ausiliari\",\"Letteratura greca e latina: critica\",\"Agricoltura e tecnologie connesse\",\"Filosofia antica, medievale, orientale\",\"Biografia e genealogia\",\"Altro\",\"Etica\",\"Giornalismo, editoria, giornali\",\"Filosofia e discipline connesse\",\"Urbanistica e arte del paesaggio\",\"Teologia morale cristiana\",\"Storia d'asia\",\"Astronomia e scienze connesse\",\"Scienze della terra\",\"Storia dell'america settentrionale\",\"Matematica\",\"Storia e geografia della chiesa\",\"Letteratura greca e latina: testi\",\"Libro. elaborazione dati\",\"Arti grafiche. stampe\",\"Denominazioni e sette cristiane\",\"Lingua italiana, lingue ladine\",\"Linguistica\",\"Storia dell'america meridionale\",\"Arti plastiche. scultura\",\"Biblioteconomia. documentazione\",\"Bibbia\",\"Ingegneria e attivita affini\",\"Teologia cristiana\",\"Metafisica\",\"Chimica e scienze connesse\",\"Lingua inglese e anglosassone\",\"Lingue elleniche. greco classico\",\"Religione\",\"Gnoseologia, causalita, genere umano\",\"Logica\"],\"xaxis\":\"x\",\"y\":[2746,2374,1732,489,295,146,144,140,138,104,99,82,71,68,58,46,37,36,35,34,32,32,24,24,23,23,21,20,19,17,17,14,12,12,11,10,10,9,9,9,9,8,7,7,7,7,7,6,6,5,5,5,5,5,4,4,4,3,3,3,3,3,2,2,2,2,2,1,1,1,1,1],\"yaxis\":\"y\",\"type\":\"bar\"}],                        {\"template\":{\"data\":{\"histogram2dcontour\":[{\"type\":\"histogram2dcontour\",\"colorbar\":{\"outlinewidth\":0,\"ticks\":\"\"},\"colorscale\":[[0.0,\"#0d0887\"],[0.1111111111111111,\"#46039f\"],[0.2222222222222222,\"#7201a8\"],[0.3333333333333333,\"#9c179e\"],[0.4444444444444444,\"#bd3786\"],[0.5555555555555556,\"#d8576b\"],[0.6666666666666666,\"#ed7953\"],[0.7777777777777778,\"#fb9f3a\"],[0.8888888888888888,\"#fdca26\"],[1.0,\"#f0f921\"]]}],\"choropleth\":[{\"type\":\"choropleth\",\"colorbar\":{\"outlinewidth\":0,\"ticks\":\"\"}}],\"histogram2d\":[{\"type\":\"histogram2d\",\"colorbar\":{\"outlinewidth\":0,\"ticks\":\"\"},\"colorscale\":[[0.0,\"#0d0887\"],[0.1111111111111111,\"#46039f\"],[0.2222222222222222,\"#7201a8\"],[0.3333333333333333,\"#9c179e\"],[0.4444444444444444,\"#bd3786\"],[0.5555555555555556,\"#d8576b\"],[0.6666666666666666,\"#ed7953\"],[0.7777777777777778,\"#fb9f3a\"],[0.8888888888888888,\"#fdca26\"],[1.0,\"#f0f921\"]]}],\"heatmap\":[{\"type\":\"heatmap\",\"colorbar\":{\"outlinewidth\":0,\"ticks\":\"\"},\"colorscale\":[[0.0,\"#0d0887\"],[0.1111111111111111,\"#46039f\"],[0.2222222222222222,\"#7201a8\"],[0.3333333333333333,\"#9c179e\"],[0.4444444444444444,\"#bd3786\"],[0.5555555555555556,\"#d8576b\"],[0.6666666666666666,\"#ed7953\"],[0.7777777777777778,\"#fb9f3a\"],[0.8888888888888888,\"#fdca26\"],[1.0,\"#f0f921\"]]}],\"heatmapgl\":[{\"type\":\"heatmapgl\",\"colorbar\":{\"outlinewidth\":0,\"ticks\":\"\"},\"colorscale\":[[0.0,\"#0d0887\"],[0.1111111111111111,\"#46039f\"],[0.2222222222222222,\"#7201a8\"],[0.3333333333333333,\"#9c179e\"],[0.4444444444444444,\"#bd3786\"],[0.5555555555555556,\"#d8576b\"],[0.6666666666666666,\"#ed7953\"],[0.7777777777777778,\"#fb9f3a\"],[0.8888888888888888,\"#fdca26\"],[1.0,\"#f0f921\"]]}],\"contourcarpet\":[{\"type\":\"contourcarpet\",\"colorbar\":{\"outlinewidth\":0,\"ticks\":\"\"}}],\"contour\":[{\"type\":\"contour\",\"colorbar\":{\"outlinewidth\":0,\"ticks\":\"\"},\"colorscale\":[[0.0,\"#0d0887\"],[0.1111111111111111,\"#46039f\"],[0.2222222222222222,\"#7201a8\"],[0.3333333333333333,\"#9c179e\"],[0.4444444444444444,\"#bd3786\"],[0.5555555555555556,\"#d8576b\"],[0.6666666666666666,\"#ed7953\"],[0.7777777777777778,\"#fb9f3a\"],[0.8888888888888888,\"#fdca26\"],[1.0,\"#f0f921\"]]}],\"surface\":[{\"type\":\"surface\",\"colorbar\":{\"outlinewidth\":0,\"ticks\":\"\"},\"colorscale\":[[0.0,\"#0d0887\"],[0.1111111111111111,\"#46039f\"],[0.2222222222222222,\"#7201a8\"],[0.3333333333333333,\"#9c179e\"],[0.4444444444444444,\"#bd3786\"],[0.5555555555555556,\"#d8576b\"],[0.6666666666666666,\"#ed7953\"],[0.7777777777777778,\"#fb9f3a\"],[0.8888888888888888,\"#fdca26\"],[1.0,\"#f0f921\"]]}],\"mesh3d\":[{\"type\":\"mesh3d\",\"colorbar\":{\"outlinewidth\":0,\"ticks\":\"\"}}],\"scatter\":[{\"fillpattern\":{\"fillmode\":\"overlay\",\"size\":10,\"solidity\":0.2},\"type\":\"scatter\"}],\"parcoords\":[{\"type\":\"parcoords\",\"line\":{\"colorbar\":{\"outlinewidth\":0,\"ticks\":\"\"}}}],\"scatterpolargl\":[{\"type\":\"scatterpolargl\",\"marker\":{\"colorbar\":{\"outlinewidth\":0,\"ticks\":\"\"}}}],\"bar\":[{\"error_x\":{\"color\":\"#2a3f5f\"},\"error_y\":{\"color\":\"#2a3f5f\"},\"marker\":{\"line\":{\"color\":\"#E5ECF6\",\"width\":0.5},\"pattern\":{\"fillmode\":\"overlay\",\"size\":10,\"solidity\":0.2}},\"type\":\"bar\"}],\"scattergeo\":[{\"type\":\"scattergeo\",\"marker\":{\"colorbar\":{\"outlinewidth\":0,\"ticks\":\"\"}}}],\"scatterpolar\":[{\"type\":\"scatterpolar\",\"marker\":{\"colorbar\":{\"outlinewidth\":0,\"ticks\":\"\"}}}],\"histogram\":[{\"marker\":{\"pattern\":{\"fillmode\":\"overlay\",\"size\":10,\"solidity\":0.2}},\"type\":\"histogram\"}],\"scattergl\":[{\"type\":\"scattergl\",\"marker\":{\"colorbar\":{\"outlinewidth\":0,\"ticks\":\"\"}}}],\"scatter3d\":[{\"type\":\"scatter3d\",\"line\":{\"colorbar\":{\"outlinewidth\":0,\"ticks\":\"\"}},\"marker\":{\"colorbar\":{\"outlinewidth\":0,\"ticks\":\"\"}}}],\"scattermapbox\":[{\"type\":\"scattermapbox\",\"marker\":{\"colorbar\":{\"outlinewidth\":0,\"ticks\":\"\"}}}],\"scatterternary\":[{\"type\":\"scatterternary\",\"marker\":{\"colorbar\":{\"outlinewidth\":0,\"ticks\":\"\"}}}],\"scattercarpet\":[{\"type\":\"scattercarpet\",\"marker\":{\"colorbar\":{\"outlinewidth\":0,\"ticks\":\"\"}}}],\"carpet\":[{\"aaxis\":{\"endlinecolor\":\"#2a3f5f\",\"gridcolor\":\"white\",\"linecolor\":\"white\",\"minorgridcolor\":\"white\",\"startlinecolor\":\"#2a3f5f\"},\"baxis\":{\"endlinecolor\":\"#2a3f5f\",\"gridcolor\":\"white\",\"linecolor\":\"white\",\"minorgridcolor\":\"white\",\"startlinecolor\":\"#2a3f5f\"},\"type\":\"carpet\"}],\"table\":[{\"cells\":{\"fill\":{\"color\":\"#EBF0F8\"},\"line\":{\"color\":\"white\"}},\"header\":{\"fill\":{\"color\":\"#C8D4E3\"},\"line\":{\"color\":\"white\"}},\"type\":\"table\"}],\"barpolar\":[{\"marker\":{\"line\":{\"color\":\"#E5ECF6\",\"width\":0.5},\"pattern\":{\"fillmode\":\"overlay\",\"size\":10,\"solidity\":0.2}},\"type\":\"barpolar\"}],\"pie\":[{\"automargin\":true,\"type\":\"pie\"}]},\"layout\":{\"autotypenumbers\":\"strict\",\"colorway\":[\"#636efa\",\"#EF553B\",\"#00cc96\",\"#ab63fa\",\"#FFA15A\",\"#19d3f3\",\"#FF6692\",\"#B6E880\",\"#FF97FF\",\"#FECB52\"],\"font\":{\"color\":\"#2a3f5f\"},\"hovermode\":\"closest\",\"hoverlabel\":{\"align\":\"left\"},\"paper_bgcolor\":\"white\",\"plot_bgcolor\":\"#E5ECF6\",\"polar\":{\"bgcolor\":\"#E5ECF6\",\"angularaxis\":{\"gridcolor\":\"white\",\"linecolor\":\"white\",\"ticks\":\"\"},\"radialaxis\":{\"gridcolor\":\"white\",\"linecolor\":\"white\",\"ticks\":\"\"}},\"ternary\":{\"bgcolor\":\"#E5ECF6\",\"aaxis\":{\"gridcolor\":\"white\",\"linecolor\":\"white\",\"ticks\":\"\"},\"baxis\":{\"gridcolor\":\"white\",\"linecolor\":\"white\",\"ticks\":\"\"},\"caxis\":{\"gridcolor\":\"white\",\"linecolor\":\"white\",\"ticks\":\"\"}},\"coloraxis\":{\"colorbar\":{\"outlinewidth\":0,\"ticks\":\"\"}},\"colorscale\":{\"sequential\":[[0.0,\"#0d0887\"],[0.1111111111111111,\"#46039f\"],[0.2222222222222222,\"#7201a8\"],[0.3333333333333333,\"#9c179e\"],[0.4444444444444444,\"#bd3786\"],[0.5555555555555556,\"#d8576b\"],[0.6666666666666666,\"#ed7953\"],[0.7777777777777778,\"#fb9f3a\"],[0.8888888888888888,\"#fdca26\"],[1.0,\"#f0f921\"]],\"sequentialminus\":[[0.0,\"#0d0887\"],[0.1111111111111111,\"#46039f\"],[0.2222222222222222,\"#7201a8\"],[0.3333333333333333,\"#9c179e\"],[0.4444444444444444,\"#bd3786\"],[0.5555555555555556,\"#d8576b\"],[0.6666666666666666,\"#ed7953\"],[0.7777777777777778,\"#fb9f3a\"],[0.8888888888888888,\"#fdca26\"],[1.0,\"#f0f921\"]],\"diverging\":[[0,\"#8e0152\"],[0.1,\"#c51b7d\"],[0.2,\"#de77ae\"],[0.3,\"#f1b6da\"],[0.4,\"#fde0ef\"],[0.5,\"#f7f7f7\"],[0.6,\"#e6f5d0\"],[0.7,\"#b8e186\"],[0.8,\"#7fbc41\"],[0.9,\"#4d9221\"],[1,\"#276419\"]]},\"xaxis\":{\"gridcolor\":\"white\",\"linecolor\":\"white\",\"ticks\":\"\",\"title\":{\"standoff\":15},\"zerolinecolor\":\"white\",\"automargin\":true,\"zerolinewidth\":2},\"yaxis\":{\"gridcolor\":\"white\",\"linecolor\":\"white\",\"ticks\":\"\",\"title\":{\"standoff\":15},\"zerolinecolor\":\"white\",\"automargin\":true,\"zerolinewidth\":2},\"scene\":{\"xaxis\":{\"backgroundcolor\":\"#E5ECF6\",\"gridcolor\":\"white\",\"linecolor\":\"white\",\"showbackground\":true,\"ticks\":\"\",\"zerolinecolor\":\"white\",\"gridwidth\":2},\"yaxis\":{\"backgroundcolor\":\"#E5ECF6\",\"gridcolor\":\"white\",\"linecolor\":\"white\",\"showbackground\":true,\"ticks\":\"\",\"zerolinecolor\":\"white\",\"gridwidth\":2},\"zaxis\":{\"backgroundcolor\":\"#E5ECF6\",\"gridcolor\":\"white\",\"linecolor\":\"white\",\"showbackground\":true,\"ticks\":\"\",\"zerolinecolor\":\"white\",\"gridwidth\":2}},\"shapedefaults\":{\"line\":{\"color\":\"#2a3f5f\"}},\"annotationdefaults\":{\"arrowcolor\":\"#2a3f5f\",\"arrowhead\":0,\"arrowwidth\":1},\"geo\":{\"bgcolor\":\"white\",\"landcolor\":\"#E5ECF6\",\"subunitcolor\":\"white\",\"showland\":true,\"showlakes\":true,\"lakecolor\":\"white\"},\"title\":{\"x\":0.05},\"mapbox\":{\"style\":\"light\"}}},\"xaxis\":{\"anchor\":\"y\",\"domain\":[0.0,1.0],\"title\":{\"text\":\"Genre\"}},\"yaxis\":{\"anchor\":\"x\",\"domain\":[0.0,1.0],\"title\":{\"text\":\"Frequency\"}},\"legend\":{\"tracegroupgap\":0},\"title\":{\"text\":\"Frequency distribution of genre in comm. 1\"},\"barmode\":\"relative\",\"bargap\":0.3},                        {\"responsive\": true}                    ).then(function(){\n                            \nvar gd = document.getElementById('b9b1f405-e7dd-4323-a926-50032546695b');\nvar x = new MutationObserver(function (mutations, observer) {{\n        var display = window.getComputedStyle(gd).display;\n        if (!display || display === 'none') {{\n            console.log([gd, 'removed!']);\n            Plotly.purge(gd);\n            observer.disconnect();\n        }}\n}});\n\n// Listen for the removal of the full notebook cells\nvar notebookContainer = gd.closest('#notebook-container');\nif (notebookContainer) {{\n    x.observe(notebookContainer, {childList: true});\n}}\n\n// Listen for the clearing of the current output cell\nvar outputEl = gd.closest('.output');\nif (outputEl) {{\n    x.observe(outputEl, {childList: true});\n}}\n\n                        })                };                });            </script>        </div>"
     },
     "metadata": {},
     "output_type": "display_data"
    }
   ],
   "source": [
    "#distribution per frequency\n",
    "GenreFreq2_1 = pd.DataFrame(columns=['Genre', 'Frequency'])\n",
    "for count, el in enumerate(cntGenre_lp1.most_common()):\n",
    "    new_row = {'Genre': el[0], 'Frequency': el[1]}\n",
    "    GenreFreq2_1 = GenreFreq2_1.append(new_row, ignore_index=True)\n",
    "\n",
    "fig6 = px.bar(GenreFreq2_1, x=\"Genre\", y=\"Frequency\", title = 'Frequency distribution of genre in comm. 1')\n",
    "fig6.update_layout(bargap=0.3)\n",
    "fig6.show()"
   ],
   "metadata": {
    "collapsed": false,
    "pycharm": {
     "name": "#%%\n"
    }
   }
  },
  {
   "cell_type": "code",
   "execution_count": null,
   "outputs": [],
   "source": [],
   "metadata": {
    "collapsed": false,
    "pycharm": {
     "name": "#%%\n"
    }
   }
  },
  {
   "cell_type": "code",
   "execution_count": 289,
   "outputs": [
    {
     "data": {
      "text/plain": "                                  Genre community1_frequency network_frequency\n0               Letteratura per ragazzi                 2746              3196\n1          Letterature straniere: testi                 2374              2760\n2           Letteratura italiana: testi                 1732              2129\n3     Disegno, arti decorative e minori                  489               549\n4                       Scienze sociali                  295               380\n..                                  ...                  ...               ...\n76  Organizzazioni generali. museologia                  NaN                 1\n77         Paleontologia. paleozoologia                  NaN                 1\n78                           Linguaggio                  NaN                 1\n79     Specifiche posizioni filosofiche                  NaN                 1\n80           Lingue germaniche. tedesco                  NaN                 1\n\n[81 rows x 3 columns]",
      "text/html": "<div>\n<style scoped>\n    .dataframe tbody tr th:only-of-type {\n        vertical-align: middle;\n    }\n\n    .dataframe tbody tr th {\n        vertical-align: top;\n    }\n\n    .dataframe thead th {\n        text-align: right;\n    }\n</style>\n<table border=\"1\" class=\"dataframe\">\n  <thead>\n    <tr style=\"text-align: right;\">\n      <th></th>\n      <th>Genre</th>\n      <th>community1_frequency</th>\n      <th>network_frequency</th>\n    </tr>\n  </thead>\n  <tbody>\n    <tr>\n      <th>0</th>\n      <td>Letteratura per ragazzi</td>\n      <td>2746</td>\n      <td>3196</td>\n    </tr>\n    <tr>\n      <th>1</th>\n      <td>Letterature straniere: testi</td>\n      <td>2374</td>\n      <td>2760</td>\n    </tr>\n    <tr>\n      <th>2</th>\n      <td>Letteratura italiana: testi</td>\n      <td>1732</td>\n      <td>2129</td>\n    </tr>\n    <tr>\n      <th>3</th>\n      <td>Disegno, arti decorative e minori</td>\n      <td>489</td>\n      <td>549</td>\n    </tr>\n    <tr>\n      <th>4</th>\n      <td>Scienze sociali</td>\n      <td>295</td>\n      <td>380</td>\n    </tr>\n    <tr>\n      <th>...</th>\n      <td>...</td>\n      <td>...</td>\n      <td>...</td>\n    </tr>\n    <tr>\n      <th>76</th>\n      <td>Organizzazioni generali. museologia</td>\n      <td>NaN</td>\n      <td>1</td>\n    </tr>\n    <tr>\n      <th>77</th>\n      <td>Paleontologia. paleozoologia</td>\n      <td>NaN</td>\n      <td>1</td>\n    </tr>\n    <tr>\n      <th>78</th>\n      <td>Linguaggio</td>\n      <td>NaN</td>\n      <td>1</td>\n    </tr>\n    <tr>\n      <th>79</th>\n      <td>Specifiche posizioni filosofiche</td>\n      <td>NaN</td>\n      <td>1</td>\n    </tr>\n    <tr>\n      <th>80</th>\n      <td>Lingue germaniche. tedesco</td>\n      <td>NaN</td>\n      <td>1</td>\n    </tr>\n  </tbody>\n</table>\n<p>81 rows × 3 columns</p>\n</div>"
     },
     "execution_count": 289,
     "metadata": {},
     "output_type": "execute_result"
    }
   ],
   "source": [
    "GenreFreqComparison2 = pd.merge(left=GenreFreq2_1, right=GenreFreqNodelist, how='outer', on='Genre')\n",
    "GenreFreqComparison2.rename(columns={'Frequency_x':'community1_frequency','Frequency_y':'network_frequency'}, inplace=True)\n",
    "GenreFreqComparison2"
   ],
   "metadata": {
    "collapsed": false,
    "pycharm": {
     "name": "#%%\n"
    }
   }
  },
  {
   "cell_type": "code",
   "execution_count": 290,
   "outputs": [
    {
     "data": {
      "text/plain": "                                  Genre  community1_frequency  \\\n0               Letteratura per ragazzi                  2746   \n1          Letterature straniere: testi                  2374   \n2           Letteratura italiana: testi                  1732   \n3     Disegno, arti decorative e minori                   489   \n4                       Scienze sociali                   295   \n..                                  ...                   ...   \n76  Organizzazioni generali. museologia                     0   \n77         Paleontologia. paleozoologia                     0   \n78                           Linguaggio                     0   \n79     Specifiche posizioni filosofiche                     0   \n80           Lingue germaniche. tedesco                     0   \n\n   network_frequency  \n0               3196  \n1               2760  \n2               2129  \n3                549  \n4                380  \n..               ...  \n76                 1  \n77                 1  \n78                 1  \n79                 1  \n80                 1  \n\n[81 rows x 3 columns]",
      "text/html": "<div>\n<style scoped>\n    .dataframe tbody tr th:only-of-type {\n        vertical-align: middle;\n    }\n\n    .dataframe tbody tr th {\n        vertical-align: top;\n    }\n\n    .dataframe thead th {\n        text-align: right;\n    }\n</style>\n<table border=\"1\" class=\"dataframe\">\n  <thead>\n    <tr style=\"text-align: right;\">\n      <th></th>\n      <th>Genre</th>\n      <th>community1_frequency</th>\n      <th>network_frequency</th>\n    </tr>\n  </thead>\n  <tbody>\n    <tr>\n      <th>0</th>\n      <td>Letteratura per ragazzi</td>\n      <td>2746</td>\n      <td>3196</td>\n    </tr>\n    <tr>\n      <th>1</th>\n      <td>Letterature straniere: testi</td>\n      <td>2374</td>\n      <td>2760</td>\n    </tr>\n    <tr>\n      <th>2</th>\n      <td>Letteratura italiana: testi</td>\n      <td>1732</td>\n      <td>2129</td>\n    </tr>\n    <tr>\n      <th>3</th>\n      <td>Disegno, arti decorative e minori</td>\n      <td>489</td>\n      <td>549</td>\n    </tr>\n    <tr>\n      <th>4</th>\n      <td>Scienze sociali</td>\n      <td>295</td>\n      <td>380</td>\n    </tr>\n    <tr>\n      <th>...</th>\n      <td>...</td>\n      <td>...</td>\n      <td>...</td>\n    </tr>\n    <tr>\n      <th>76</th>\n      <td>Organizzazioni generali. museologia</td>\n      <td>0</td>\n      <td>1</td>\n    </tr>\n    <tr>\n      <th>77</th>\n      <td>Paleontologia. paleozoologia</td>\n      <td>0</td>\n      <td>1</td>\n    </tr>\n    <tr>\n      <th>78</th>\n      <td>Linguaggio</td>\n      <td>0</td>\n      <td>1</td>\n    </tr>\n    <tr>\n      <th>79</th>\n      <td>Specifiche posizioni filosofiche</td>\n      <td>0</td>\n      <td>1</td>\n    </tr>\n    <tr>\n      <th>80</th>\n      <td>Lingue germaniche. tedesco</td>\n      <td>0</td>\n      <td>1</td>\n    </tr>\n  </tbody>\n</table>\n<p>81 rows × 3 columns</p>\n</div>"
     },
     "execution_count": 290,
     "metadata": {},
     "output_type": "execute_result"
    }
   ],
   "source": [
    "GenreFreqComparison2['community1_frequency'] = GenreFreqComparison2['community1_frequency'].fillna(0)\n",
    "GenreFreqComparison2"
   ],
   "metadata": {
    "collapsed": false,
    "pycharm": {
     "name": "#%%\n"
    }
   }
  },
  {
   "cell_type": "code",
   "execution_count": null,
   "outputs": [],
   "source": [],
   "metadata": {
    "collapsed": false,
    "pycharm": {
     "name": "#%%\n"
    }
   }
  },
  {
   "cell_type": "markdown",
   "source": [
    "##### Community  2"
   ],
   "metadata": {
    "collapsed": false,
    "pycharm": {
     "name": "#%% md\n"
    }
   }
  },
  {
   "cell_type": "markdown",
   "source": [
    "##### Community  3"
   ],
   "metadata": {
    "collapsed": false,
    "pycharm": {
     "name": "#%% md\n"
    }
   }
  },
  {
   "cell_type": "code",
   "execution_count": 72,
   "outputs": [],
   "source": [],
   "metadata": {
    "collapsed": false,
    "pycharm": {
     "name": "#%%\n"
    }
   }
  },
  {
   "cell_type": "markdown",
   "source": [
    "### Angel\n",
    "using : cdlib.algorithms.angel [the faster successor of Demon]\n",
    "It is a node-centric bottom-up community discovery algorithm. It leverages ego-network structures and overlapping label propagation to identify micro-scale communities that are subsequently merged in mesoscale ones."
   ],
   "metadata": {
    "collapsed": false,
    "pycharm": {
     "name": "#%% md\n"
    }
   }
  },
  {
   "cell_type": "code",
   "execution_count": 73,
   "outputs": [],
   "source": [
    "#minimum community size, default 3\n",
    "#threshold – merging threshold in [0,1].\n",
    "\n",
    "DA_coms = algorithms.angel(g, min_community_size=3, threshold=0.25)"
   ],
   "metadata": {
    "collapsed": false,
    "pycharm": {
     "name": "#%%\n"
    }
   }
  },
  {
   "cell_type": "code",
   "execution_count": 74,
   "outputs": [
    {
     "name": "stdout",
     "output_type": "stream",
     "text": [
      "This algorithm has discovered 14 communities.\n",
      "\n",
      "Community: 0 - Info: 11410 nodes & 985760 edges\n",
      "Community: 1 - Info: 53 nodes & 1378 edges\n",
      "Community: 2 - Info: 19 nodes & 171 edges\n",
      "Community: 3 - Info: 12 nodes & 66 edges\n",
      "Community: 4 - Info: 12 nodes & 66 edges\n",
      "Community: 5 - Info: 12 nodes & 66 edges\n",
      "Community: 6 - Info: 11 nodes & 55 edges\n",
      "Community: 7 - Info: 10 nodes & 45 edges\n",
      "Community: 8 - Info: 9 nodes & 36 edges\n",
      "Community: 9 - Info: 8 nodes & 28 edges\n",
      "Community: 10 - Info: 7 nodes & 21 edges\n",
      "Community: 11 - Info: 6 nodes & 15 edges\n",
      "Community: 12 - Info: 6 nodes & 15 edges\n",
      "Community: 13 - Info: 5 nodes & 10 edges\n",
      "\n",
      "These communities have a total of 11580 nodes and 987732 edges.\n",
      "\n",
      "Communities statistics: \n",
      "Nodes:  FitnessResult(min=5, max=11410, score=827.1428571428571, std=2935.179475095247)\n",
      "Edges:  FitnessResult(min=10, max=985760, score=70552.28571428571, std=253833.1815302631)\n"
     ]
    }
   ],
   "source": [
    "InfoCommunity(DA_coms.communities, DA_coms)"
   ],
   "metadata": {
    "collapsed": false,
    "pycharm": {
     "name": "#%%\n"
    }
   }
  },
  {
   "cell_type": "code",
   "execution_count": 75,
   "outputs": [
    {
     "data": {
      "text/plain": "[[0,\n  1,\n  10,\n  100,\n  1000,\n  10003,\n  10004,\n  10005,\n  1001,\n  10013,\n  10017,\n  10019,\n  1002,\n  1003,\n  10033,\n  10035,\n  10036,\n  10038,\n  10039,\n  1004,\n  10042,\n  1005,\n  10054,\n  10055,\n  1006,\n  10066,\n  10067,\n  10068,\n  10069,\n  1007,\n  10070,\n  10071,\n  10072,\n  10073,\n  10074,\n  10079,\n  1008,\n  10082,\n  10083,\n  10084,\n  10085,\n  10086,\n  1009,\n  10091,\n  10092,\n  10093,\n  10096,\n  10098,\n  101,\n  1010,\n  1011,\n  10118,\n  10119,\n  1012,\n  10120,\n  10122,\n  10124,\n  10125,\n  10126,\n  10127,\n  10128,\n  1013,\n  10130,\n  10131,\n  10133,\n  10134,\n  10137,\n  1014,\n  10140,\n  10143,\n  10144,\n  10145,\n  10147,\n  10148,\n  1015,\n  10151,\n  10154,\n  1016,\n  1017,\n  1018,\n  1019,\n  102,\n  1020,\n  10204,\n  1021,\n  10214,\n  1022,\n  10222,\n  10223,\n  10224,\n  10225,\n  10226,\n  10227,\n  10228,\n  10229,\n  1023,\n  10230,\n  10231,\n  10232,\n  10233,\n  10234,\n  10235,\n  10236,\n  10237,\n  10238,\n  10239,\n  1024,\n  10241,\n  10242,\n  10243,\n  10246,\n  10247,\n  1025,\n  10251,\n  10252,\n  10253,\n  10254,\n  10258,\n  1026,\n  10265,\n  1027,\n  10272,\n  1028,\n  10280,\n  10281,\n  10282,\n  10283,\n  10285,\n  10286,\n  1029,\n  10291,\n  10292,\n  10299,\n  103,\n  1030,\n  10301,\n  10303,\n  1031,\n  10310,\n  10311,\n  10314,\n  10315,\n  10319,\n  1032,\n  10321,\n  10323,\n  10326,\n  1033,\n  10334,\n  10335,\n  10336,\n  10337,\n  1034,\n  10345,\n  1035,\n  10355,\n  10356,\n  10357,\n  10359,\n  1036,\n  10360,\n  10361,\n  10363,\n  10368,\n  1037,\n  10372,\n  10374,\n  10377,\n  10378,\n  1038,\n  10380,\n  10381,\n  10383,\n  10384,\n  10386,\n  1039,\n  10391,\n  10392,\n  10394,\n  10396,\n  10397,\n  104,\n  1040,\n  10401,\n  10402,\n  10406,\n  1041,\n  1042,\n  10426,\n  10428,\n  1043,\n  1044,\n  1045,\n  1046,\n  1047,\n  1048,\n  1049,\n  105,\n  1050,\n  1051,\n  10518,\n  1052,\n  10528,\n  10529,\n  1053,\n  10535,\n  10537,\n  1054,\n  10543,\n  10545,\n  1055,\n  10551,\n  10552,\n  10555,\n  10556,\n  10557,\n  10558,\n  1056,\n  10561,\n  10564,\n  10565,\n  10566,\n  10567,\n  10568,\n  10569,\n  1057,\n  10578,\n  10579,\n  1058,\n  10580,\n  10581,\n  10582,\n  10583,\n  10584,\n  10585,\n  10587,\n  10589,\n  1059,\n  10590,\n  10591,\n  10592,\n  10593,\n  10594,\n  10597,\n  10598,\n  10599,\n  106,\n  1060,\n  10600,\n  10601,\n  10602,\n  10603,\n  10605,\n  10606,\n  10607,\n  10609,\n  1061,\n  10610,\n  10612,\n  10614,\n  10615,\n  10616,\n  10617,\n  10618,\n  10619,\n  1062,\n  10621,\n  10622,\n  10623,\n  10624,\n  10625,\n  10628,\n  10629,\n  1063,\n  10630,\n  10632,\n  10633,\n  10634,\n  10635,\n  10636,\n  10638,\n  10639,\n  1064,\n  10640,\n  10641,\n  10643,\n  10644,\n  10645,\n  10646,\n  10647,\n  10648,\n  10649,\n  1065,\n  10650,\n  10651,\n  10652,\n  10654,\n  10655,\n  10656,\n  10657,\n  10658,\n  10659,\n  1066,\n  10660,\n  10662,\n  10663,\n  10664,\n  10665,\n  10667,\n  10668,\n  10669,\n  1067,\n  10671,\n  10672,\n  10674,\n  10675,\n  10676,\n  1068,\n  10680,\n  10682,\n  10683,\n  10684,\n  10685,\n  10686,\n  10687,\n  10689,\n  1069,\n  10690,\n  10691,\n  10693,\n  10696,\n  107,\n  1070,\n  10700,\n  10701,\n  10707,\n  10708,\n  1071,\n  10713,\n  10714,\n  1072,\n  10721,\n  1073,\n  1074,\n  10748,\n  1075,\n  10751,\n  10754,\n  1076,\n  1077,\n  1078,\n  10780,\n  10784,\n  1079,\n  10795,\n  10796,\n  10797,\n  10799,\n  108,\n  1080,\n  10802,\n  10806,\n  10807,\n  10808,\n  10809,\n  1081,\n  10810,\n  10814,\n  10815,\n  10817,\n  10818,\n  10819,\n  1082,\n  10820,\n  10821,\n  10822,\n  10824,\n  10825,\n  10826,\n  10827,\n  10829,\n  1083,\n  10830,\n  10831,\n  10833,\n  10835,\n  10836,\n  10837,\n  10838,\n  10839,\n  1084,\n  10842,\n  10849,\n  1085,\n  10850,\n  10851,\n  10852,\n  10854,\n  10855,\n  10856,\n  10858,\n  1086,\n  10860,\n  10863,\n  10867,\n  1087,\n  10870,\n  10871,\n  10872,\n  10874,\n  10876,\n  10877,\n  1088,\n  10880,\n  10883,\n  10884,\n  10885,\n  10887,\n  10889,\n  1089,\n  10890,\n  10891,\n  10892,\n  10893,\n  10894,\n  10896,\n  10898,\n  10899,\n  109,\n  1090,\n  10900,\n  10901,\n  10902,\n  10904,\n  10906,\n  1091,\n  10912,\n  10916,\n  10919,\n  1092,\n  10922,\n  10923,\n  10924,\n  10926,\n  10927,\n  10928,\n  10929,\n  1093,\n  10931,\n  10934,\n  10935,\n  10936,\n  10937,\n  10938,\n  1094,\n  10940,\n  10941,\n  10942,\n  10944,\n  10946,\n  10947,\n  10948,\n  1095,\n  10950,\n  10951,\n  10953,\n  10954,\n  10959,\n  1096,\n  10961,\n  10962,\n  10963,\n  10967,\n  1097,\n  10971,\n  10973,\n  10974,\n  10975,\n  10976,\n  10977,\n  10978,\n  1098,\n  10981,\n  10982,\n  10983,\n  10984,\n  10985,\n  10986,\n  10989,\n  1099,\n  10990,\n  10992,\n  10993,\n  10994,\n  10996,\n  10997,\n  10998,\n  10999,\n  11,\n  110,\n  1100,\n  11000,\n  11005,\n  11006,\n  1101,\n  11010,\n  11011,\n  11012,\n  11013,\n  11015,\n  11016,\n  11018,\n  11019,\n  1102,\n  11020,\n  11021,\n  11023,\n  11024,\n  11025,\n  11026,\n  11027,\n  1103,\n  11030,\n  11031,\n  11034,\n  11036,\n  11037,\n  11038,\n  11039,\n  1104,\n  11040,\n  11041,\n  11042,\n  11044,\n  11046,\n  11047,\n  11048,\n  11049,\n  1105,\n  11050,\n  11051,\n  11052,\n  11054,\n  11057,\n  11058,\n  11059,\n  1106,\n  11060,\n  11062,\n  11063,\n  11064,\n  11066,\n  11067,\n  11068,\n  11069,\n  1107,\n  11070,\n  11071,\n  11072,\n  11073,\n  11074,\n  11076,\n  11077,\n  11079,\n  1108,\n  11080,\n  11081,\n  11082,\n  11083,\n  11084,\n  11085,\n  11086,\n  11087,\n  11089,\n  1109,\n  11090,\n  11091,\n  11093,\n  11095,\n  11098,\n  11099,\n  111,\n  1110,\n  11100,\n  11102,\n  11103,\n  11104,\n  11105,\n  11106,\n  11109,\n  1111,\n  11110,\n  11111,\n  11112,\n  11113,\n  11114,\n  11115,\n  11116,\n  11117,\n  11119,\n  1112,\n  11120,\n  11121,\n  11125,\n  11126,\n  1113,\n  11130,\n  11133,\n  11134,\n  11135,\n  11138,\n  11139,\n  1114,\n  11146,\n  11149,\n  1115,\n  11150,\n  11153,\n  11154,\n  11156,\n  11157,\n  11158,\n  1116,\n  11161,\n  11163,\n  11164,\n  11165,\n  11168,\n  11169,\n  1117,\n  11170,\n  11172,\n  11173,\n  11174,\n  11175,\n  11176,\n  11179,\n  1118,\n  11181,\n  11183,\n  11184,\n  11185,\n  11187,\n  1119,\n  11190,\n  11191,\n  11193,\n  11194,\n  11195,\n  11196,\n  11197,\n  11198,\n  112,\n  1120,\n  11200,\n  11201,\n  1121,\n  11210,\n  11212,\n  11213,\n  11214,\n  11217,\n  11218,\n  11219,\n  1122,\n  11221,\n  11222,\n  11223,\n  11224,\n  11225,\n  11226,\n  11228,\n  1123,\n  11232,\n  11233,\n  11234,\n  11236,\n  1124,\n  11240,\n  1125,\n  11253,\n  11254,\n  11255,\n  11257,\n  11258,\n  11259,\n  1126,\n  11261,\n  11262,\n  11263,\n  11265,\n  11266,\n  11267,\n  11268,\n  11269,\n  1127,\n  1128,\n  1129,\n  113,\n  1130,\n  1131,\n  1132,\n  11322,\n  11323,\n  11324,\n  11325,\n  11326,\n  1133,\n  1134,\n  1135,\n  11352,\n  11353,\n  11356,\n  1136,\n  11361,\n  1137,\n  11371,\n  11372,\n  11373,\n  11374,\n  11375,\n  11376,\n  11377,\n  1138,\n  11380,\n  11381,\n  11384,\n  11385,\n  11386,\n  11387,\n  11388,\n  1139,\n  11393,\n  11397,\n  11398,\n  11399,\n  114,\n  1140,\n  11400,\n  11401,\n  11402,\n  11403,\n  11405,\n  1141,\n  1142,\n  1143,\n  1144,\n  11445,\n  11449,\n  1145,\n  11450,\n  11451,\n  11452,\n  11453,\n  11454,\n  11455,\n  11456,\n  11457,\n  11458,\n  11459,\n  1146,\n  11460,\n  11461,\n  11462,\n  11463,\n  11464,\n  11465,\n  11466,\n  11467,\n  11468,\n  11469,\n  1147,\n  11470,\n  11471,\n  11472,\n  11473,\n  11474,\n  11475,\n  11476,\n  11477,\n  11478,\n  11479,\n  1148,\n  11480,\n  11481,\n  11482,\n  11483,\n  11484,\n  11485,\n  11486,\n  11487,\n  11488,\n  11489,\n  1149,\n  11490,\n  11491,\n  11492,\n  11493,\n  11494,\n  11496,\n  11497,\n  11498,\n  11499,\n  115,\n  1150,\n  11500,\n  11503,\n  11504,\n  11509,\n  1151,\n  11511,\n  11513,\n  11514,\n  11515,\n  11518,\n  1152,\n  11520,\n  11522,\n  11527,\n  1153,\n  11531,\n  11534,\n  11537,\n  1154,\n  11543,\n  11546,\n  11547,\n  1155,\n  11551,\n  11552,\n  11555,\n  11557,\n  11559,\n  1156,\n  11560,\n  11563,\n  11565,\n  11566,\n  11567,\n  1157,\n  1158,\n  11581,\n  11584,\n  11585,\n  11586,\n  11588,\n  11589,\n  1159,\n  11595,\n  116,\n  1160,\n  11600,\n  11601,\n  1161,\n  1162,\n  11621,\n  11622,\n  11626,\n  11627,\n  11628,\n  1163,\n  11630,\n  11631,\n  11636,\n  11637,\n  11638,\n  1164,\n  1165,\n  11656,\n  11657,\n  1166,\n  11669,\n  1167,\n  11671,\n  11672,\n  11673,\n  11676,\n  1168,\n  11681,\n  11682,\n  11683,\n  11685,\n  1169,\n  11691,\n  11692,\n  11697,\n  11699,\n  117,\n  1170,\n  11703,\n  11706,\n  11707,\n  1171,\n  11711,\n  11712,\n  11713,\n  11716,\n  11717,\n  11718,\n  11719,\n  1172,\n  11720,\n  11721,\n  11722,\n  11725,\n  11726,\n  1173,\n  11730,\n  11732,\n  11734,\n  11735,\n  11739,\n  1174,\n  11740,\n  11741,\n  11742,\n  11743,\n  11745,\n  11749,\n  1175,\n  11752,\n  11753,\n  1176,\n  1177,\n  1178,\n  1179,\n  118,\n  1180,\n  1181,\n  11818,\n  11819,\n  1182,\n  11820,\n  11821,\n  11823,\n  11828,\n  1183,\n  11831,\n  11836,\n  11837,\n  11838,\n  11839,\n  1184,\n  11840,\n  11841,\n  11842,\n  1185,\n  1186,\n  1187,\n  1188,\n  1189,\n  119,\n  1190,\n  1191,\n  1192,\n  1193,\n  1194,\n  11942,\n  11949,\n  1195,\n  11950,\n  11951,\n  11953,\n  11955,\n  11957,\n  11958,\n  11959,\n  1196,\n  11961,\n  11963,\n  11965,\n  11967,\n  1197,\n  11970,\n  11971,\n  11972,\n  11973,\n  11974,\n  11975,\n  11976,\n  11977,\n  11978,\n  11979,\n  1198,\n  11981,\n  11983,\n  11984,\n  11985,\n  11986,\n  11987,\n  11988,\n  11989,\n  1199,\n  11990,\n  11991,\n  11992,\n  11993,\n  11994,\n  11996,\n  11997,\n  ...],\n [107,\n  12562,\n  14539,\n  14545,\n  14860,\n  16186,\n  16606,\n  18975,\n  18976,\n  18977,\n  18978,\n  18979,\n  18981,\n  18982,\n  18983,\n  18984,\n  18985,\n  18987,\n  18988,\n  18989,\n  18990,\n  18991,\n  18992,\n  18993,\n  20000,\n  20285,\n  20286,\n  20287,\n  20288,\n  20289,\n  20290,\n  20291,\n  20292,\n  20293,\n  20294,\n  20295,\n  2054,\n  2055,\n  4568,\n  4569,\n  4570,\n  4571,\n  4572,\n  4573,\n  4574,\n  4575,\n  4576,\n  4577,\n  4578,\n  4579,\n  4580,\n  4581,\n  4810],\n [15293,\n  15294,\n  15295,\n  15296,\n  17086,\n  17748,\n  18491,\n  18492,\n  20079,\n  20080,\n  20081,\n  20082,\n  20083,\n  20084,\n  20085,\n  20086,\n  20087,\n  2016,\n  2017],\n [13642,\n  16857,\n  16920,\n  17837,\n  18752,\n  20141,\n  20201,\n  600,\n  6929,\n  7302,\n  9693,\n  9747],\n [12816, 13446, 14315, 15287, 17574, 17576, 2557, 3532, 3855, 587, 6376, 6927],\n [11596,\n  12080,\n  14034,\n  14357,\n  1667,\n  16953,\n  18025,\n  1944,\n  4307,\n  4398,\n  7789,\n  8747],\n [10952, 11127, 13269, 20014, 20015, 20016, 20017, 20397, 2780, 453, 9887],\n [13044, 16890, 17744, 2286, 2288, 2785, 5615, 5634, 7631, 7919],\n [13440, 13443, 13444, 15744, 17607, 18446, 19195, 19924, 80],\n [13450, 17127, 17275, 18285, 19112, 19366, 19994, 4326],\n [13915, 13917, 13919, 15157, 165, 3686, 9550],\n [2161, 2245, 2266, 5108, 5131, 5958],\n [12394, 15812, 17047, 17146, 17147, 1851],\n [17729, 38, 7052, 7802, 9221]]"
     },
     "execution_count": 75,
     "metadata": {},
     "output_type": "execute_result"
    }
   ],
   "source": [
    "DA_coms.communities"
   ],
   "metadata": {
    "collapsed": false,
    "pycharm": {
     "name": "#%%\n"
    }
   }
  },
  {
   "cell_type": "code",
   "execution_count": 76,
   "outputs": [
    {
     "data": {
      "text/plain": "True"
     },
     "execution_count": 76,
     "metadata": {},
     "output_type": "execute_result"
    }
   ],
   "source": [
    "DA_coms.overlap"
   ],
   "metadata": {
    "collapsed": false,
    "pycharm": {
     "name": "#%%\n"
    }
   }
  },
  {
   "cell_type": "code",
   "execution_count": 77,
   "outputs": [
    {
     "name": "stdout",
     "output_type": "stream",
     "text": [
      "INTERNAL EVALUATION\n",
      "\n",
      "1 - Average Internal Degree: \n",
      "FitnessResult(min=4.0, max=172.78878177037686, score=23.556341555026922, std=42.990319442946095)\n",
      "\n",
      "\n",
      "2 - Internal Edge Density: \n",
      "FitnessResult(min=0.015144954138870792, max=1.0, score=0.9296532110099193, std=0.25363895476798143)\n",
      "\n",
      "\n",
      "3 - Conductance : \n",
      "FitnessResult(min=0.00015924261372914759, max=0.9831081081081081, score=0.6421265387816643, std=0.28265015582276154)\n",
      "\n",
      "\n",
      "4 - Triangle Participation Ratio : \n",
      "FitnessResult(min=1.0, max=1.0, score=1.0, std=0.0)\n",
      "\n",
      "\n",
      "5 - Newmann modularity : \n",
      "FitnessResult(min=None, max=None, score=0.003597490713577208, std=None)\n",
      "\n",
      "\n",
      "6 - Expansion : \n",
      "FitnessResult(min=0.02751971954425942, max=232.8, score=46.70503058817137, std=60.02790633160743)\n",
      "\n",
      "\n",
      "7 - Normalized cut : \n",
      "FitnessResult(min=0.07359235767453363, max=0.9836969903751632, score=0.6475761680737993, std=0.271225120392538)\n",
      "\n",
      "\n",
      "8 - Average ODF Degree : \n",
      "FitnessResult(min=0.02751971954425942, max=232.8, score=46.70503058817137, std=60.02790633160743)\n",
      "\n",
      "\n",
      "9 - Flake ODF : \n",
      "FitnessResult(min=0.00017528483786152498, max=0.2, score=0.11997987880951526, std=0.0565922043347449)\n",
      "\n",
      "\n",
      "10 - Fraction over median degree : \n",
      "FitnessResult(min=0.0, max=0.49544259421560033, score=0.035388756729685736, std=0.12759597696380326)\n",
      "\n",
      "\n",
      "11 - Node coverage : \n",
      "1.0\n"
     ]
    }
   ],
   "source": [
    "FitnessFunctions(DA_coms)"
   ],
   "metadata": {
    "collapsed": false,
    "pycharm": {
     "name": "#%%\n"
    }
   }
  },
  {
   "cell_type": "markdown",
   "source": [
    "#### Semantic Analysis of the single communities [Angel]"
   ],
   "metadata": {
    "collapsed": false,
    "pycharm": {
     "name": "#%% md\n"
    }
   }
  },
  {
   "cell_type": "markdown",
   "source": [
    "##### Community 1"
   ],
   "metadata": {
    "collapsed": false,
    "pycharm": {
     "name": "#%% md\n"
    }
   }
  },
  {
   "cell_type": "markdown",
   "source": [
    "##### Community 2"
   ],
   "metadata": {
    "collapsed": false,
    "pycharm": {
     "name": "#%% md\n"
    }
   }
  },
  {
   "cell_type": "markdown",
   "source": [
    "## Approach 4: Entity Closeness\n",
    "Communities as a set of nodes that can reach any member of the group crossing a very low number of edges"
   ],
   "metadata": {
    "collapsed": false,
    "pycharm": {
     "name": "#%% md\n"
    }
   }
  },
  {
   "cell_type": "markdown",
   "source": [
    "### Walk-trap\n",
    "\n"
   ],
   "metadata": {
    "collapsed": false,
    "pycharm": {
     "name": "#%% md\n"
    }
   }
  },
  {
   "cell_type": "code",
   "execution_count": 84,
   "outputs": [],
   "source": [
    "wt_coms = algorithms.walktrap(g)"
   ],
   "metadata": {
    "collapsed": false,
    "pycharm": {
     "name": "#%%\n"
    }
   }
  },
  {
   "cell_type": "code",
   "execution_count": 85,
   "outputs": [
    {
     "data": {
      "text/plain": "'Walktrap'"
     },
     "execution_count": 85,
     "metadata": {},
     "output_type": "execute_result"
    }
   ],
   "source": [
    "wt_coms.method_name"
   ],
   "metadata": {
    "collapsed": false,
    "pycharm": {
     "name": "#%%\n"
    }
   }
  },
  {
   "cell_type": "code",
   "execution_count": 86,
   "outputs": [
    {
     "name": "stdout",
     "output_type": "stream",
     "text": [
      "This algorithm has discovered 183 communities.\n",
      "\n",
      "Community: 0 - Info: 1760 nodes & 66659 edges\n",
      "Community: 1 - Info: 1463 nodes & 139215 edges\n",
      "Community: 2 - Info: 1331 nodes & 50701 edges\n",
      "Community: 3 - Info: 1264 nodes & 73074 edges\n",
      "Community: 4 - Info: 312 nodes & 48516 edges\n",
      "Community: 5 - Info: 287 nodes & 39378 edges\n",
      "Community: 6 - Info: 244 nodes & 29404 edges\n",
      "Community: 7 - Info: 236 nodes & 20301 edges\n",
      "Community: 8 - Info: 211 nodes & 22155 edges\n",
      "Community: 9 - Info: 184 nodes & 16836 edges\n",
      "Community: 10 - Info: 179 nodes & 15931 edges\n",
      "Community: 11 - Info: 169 nodes & 13546 edges\n",
      "Community: 12 - Info: 157 nodes & 12246 edges\n",
      "Community: 13 - Info: 138 nodes & 9453 edges\n",
      "Community: 14 - Info: 116 nodes & 6670 edges\n",
      "Community: 15 - Info: 113 nodes & 6116 edges\n",
      "Community: 16 - Info: 113 nodes & 6328 edges\n",
      "Community: 17 - Info: 98 nodes & 3265 edges\n",
      "Community: 18 - Info: 90 nodes & 4005 edges\n",
      "Community: 19 - Info: 90 nodes & 4005 edges\n",
      "Community: 20 - Info: 89 nodes & 3506 edges\n",
      "Community: 21 - Info: 89 nodes & 3916 edges\n",
      "Community: 22 - Info: 80 nodes & 3160 edges\n",
      "Community: 23 - Info: 79 nodes & 3081 edges\n",
      "Community: 24 - Info: 77 nodes & 2926 edges\n",
      "Community: 25 - Info: 75 nodes & 2775 edges\n",
      "Community: 26 - Info: 71 nodes & 2485 edges\n",
      "Community: 27 - Info: 69 nodes & 2346 edges\n",
      "Community: 28 - Info: 68 nodes & 2278 edges\n",
      "Community: 29 - Info: 63 nodes & 1953 edges\n",
      "Community: 30 - Info: 61 nodes & 1830 edges\n",
      "Community: 31 - Info: 55 nodes & 1485 edges\n",
      "Community: 32 - Info: 55 nodes & 1485 edges\n",
      "Community: 33 - Info: 54 nodes & 1431 edges\n",
      "Community: 34 - Info: 54 nodes & 799 edges\n",
      "Community: 35 - Info: 51 nodes & 1275 edges\n",
      "Community: 36 - Info: 50 nodes & 1225 edges\n",
      "Community: 37 - Info: 48 nodes & 1128 edges\n",
      "Community: 38 - Info: 47 nodes & 1081 edges\n",
      "Community: 39 - Info: 44 nodes & 904 edges\n",
      "Community: 40 - Info: 43 nodes & 903 edges\n",
      "Community: 41 - Info: 43 nodes & 903 edges\n",
      "Community: 42 - Info: 42 nodes & 861 edges\n",
      "Community: 43 - Info: 40 nodes & 780 edges\n",
      "Community: 44 - Info: 38 nodes & 667 edges\n",
      "Community: 45 - Info: 38 nodes & 667 edges\n",
      "Community: 46 - Info: 37 nodes & 666 edges\n",
      "Community: 47 - Info: 35 nodes & 595 edges\n",
      "Community: 48 - Info: 34 nodes & 319 edges\n",
      "Community: 49 - Info: 33 nodes & 528 edges\n",
      "Community: 50 - Info: 33 nodes & 528 edges\n",
      "Community: 51 - Info: 32 nodes & 366 edges\n",
      "Community: 52 - Info: 29 nodes & 406 edges\n",
      "Community: 53 - Info: 27 nodes & 351 edges\n",
      "Community: 54 - Info: 27 nodes & 351 edges\n",
      "Community: 55 - Info: 27 nodes & 351 edges\n",
      "Community: 56 - Info: 25 nodes & 258 edges\n",
      "Community: 57 - Info: 23 nodes & 213 edges\n",
      "Community: 58 - Info: 23 nodes & 253 edges\n",
      "Community: 59 - Info: 22 nodes & 231 edges\n",
      "Community: 60 - Info: 22 nodes & 231 edges\n",
      "Community: 61 - Info: 22 nodes & 231 edges\n",
      "Community: 62 - Info: 22 nodes & 231 edges\n",
      "Community: 63 - Info: 21 nodes & 210 edges\n",
      "Community: 64 - Info: 21 nodes & 210 edges\n",
      "Community: 65 - Info: 20 nodes & 190 edges\n",
      "Community: 66 - Info: 19 nodes & 171 edges\n",
      "Community: 67 - Info: 19 nodes & 171 edges\n",
      "Community: 68 - Info: 19 nodes & 171 edges\n",
      "Community: 69 - Info: 18 nodes & 153 edges\n",
      "Community: 70 - Info: 18 nodes & 153 edges\n",
      "Community: 71 - Info: 18 nodes & 153 edges\n",
      "Community: 72 - Info: 17 nodes & 108 edges\n",
      "Community: 73 - Info: 17 nodes & 136 edges\n",
      "Community: 74 - Info: 17 nodes & 136 edges\n",
      "Community: 75 - Info: 17 nodes & 136 edges\n",
      "Community: 76 - Info: 17 nodes & 136 edges\n",
      "Community: 77 - Info: 16 nodes & 120 edges\n",
      "Community: 78 - Info: 16 nodes & 120 edges\n",
      "Community: 79 - Info: 16 nodes & 120 edges\n",
      "Community: 80 - Info: 16 nodes & 120 edges\n",
      "Community: 81 - Info: 16 nodes & 120 edges\n",
      "Community: 82 - Info: 16 nodes & 120 edges\n",
      "Community: 83 - Info: 15 nodes & 105 edges\n",
      "Community: 84 - Info: 15 nodes & 105 edges\n",
      "Community: 85 - Info: 15 nodes & 105 edges\n",
      "Community: 86 - Info: 15 nodes & 105 edges\n",
      "Community: 87 - Info: 14 nodes & 69 edges\n",
      "Community: 88 - Info: 14 nodes & 91 edges\n",
      "Community: 89 - Info: 14 nodes & 91 edges\n",
      "Community: 90 - Info: 12 nodes & 66 edges\n",
      "Community: 91 - Info: 12 nodes & 42 edges\n",
      "Community: 92 - Info: 12 nodes & 66 edges\n",
      "Community: 93 - Info: 12 nodes & 66 edges\n",
      "Community: 94 - Info: 11 nodes & 39 edges\n",
      "Community: 95 - Info: 11 nodes & 55 edges\n",
      "Community: 96 - Info: 11 nodes & 55 edges\n",
      "Community: 97 - Info: 11 nodes & 55 edges\n",
      "Community: 98 - Info: 11 nodes & 55 edges\n",
      "Community: 99 - Info: 11 nodes & 55 edges\n",
      "Community: 100 - Info: 10 nodes & 45 edges\n",
      "Community: 101 - Info: 10 nodes & 45 edges\n",
      "Community: 102 - Info: 10 nodes & 45 edges\n",
      "Community: 103 - Info: 10 nodes & 45 edges\n",
      "Community: 104 - Info: 10 nodes & 45 edges\n",
      "Community: 105 - Info: 10 nodes & 45 edges\n",
      "Community: 106 - Info: 10 nodes & 45 edges\n",
      "Community: 107 - Info: 10 nodes & 45 edges\n",
      "Community: 108 - Info: 9 nodes & 36 edges\n",
      "Community: 109 - Info: 9 nodes & 36 edges\n",
      "Community: 110 - Info: 9 nodes & 36 edges\n",
      "Community: 111 - Info: 9 nodes & 36 edges\n",
      "Community: 112 - Info: 9 nodes & 36 edges\n",
      "Community: 113 - Info: 9 nodes & 36 edges\n",
      "Community: 114 - Info: 9 nodes & 36 edges\n",
      "Community: 115 - Info: 9 nodes & 36 edges\n",
      "Community: 116 - Info: 9 nodes & 36 edges\n",
      "Community: 117 - Info: 9 nodes & 36 edges\n",
      "Community: 118 - Info: 8 nodes & 28 edges\n",
      "Community: 119 - Info: 8 nodes & 28 edges\n",
      "Community: 120 - Info: 8 nodes & 28 edges\n",
      "Community: 121 - Info: 8 nodes & 28 edges\n",
      "Community: 122 - Info: 8 nodes & 28 edges\n",
      "Community: 123 - Info: 7 nodes & 21 edges\n",
      "Community: 124 - Info: 7 nodes & 21 edges\n",
      "Community: 125 - Info: 7 nodes & 21 edges\n",
      "Community: 126 - Info: 7 nodes & 21 edges\n",
      "Community: 127 - Info: 7 nodes & 21 edges\n",
      "Community: 128 - Info: 7 nodes & 21 edges\n",
      "Community: 129 - Info: 6 nodes & 15 edges\n",
      "Community: 130 - Info: 6 nodes & 15 edges\n",
      "Community: 131 - Info: 6 nodes & 15 edges\n",
      "Community: 132 - Info: 6 nodes & 15 edges\n",
      "Community: 133 - Info: 6 nodes & 15 edges\n",
      "Community: 134 - Info: 6 nodes & 15 edges\n",
      "Community: 135 - Info: 6 nodes & 15 edges\n",
      "Community: 136 - Info: 6 nodes & 15 edges\n",
      "Community: 137 - Info: 5 nodes & 10 edges\n",
      "Community: 138 - Info: 5 nodes & 10 edges\n",
      "Community: 139 - Info: 5 nodes & 10 edges\n",
      "Community: 140 - Info: 5 nodes & 10 edges\n",
      "Community: 141 - Info: 5 nodes & 10 edges\n",
      "Community: 142 - Info: 5 nodes & 10 edges\n",
      "Community: 143 - Info: 5 nodes & 10 edges\n",
      "Community: 144 - Info: 5 nodes & 10 edges\n",
      "Community: 145 - Info: 5 nodes & 10 edges\n",
      "Community: 146 - Info: 4 nodes & 6 edges\n",
      "Community: 147 - Info: 4 nodes & 6 edges\n",
      "Community: 148 - Info: 4 nodes & 6 edges\n",
      "Community: 149 - Info: 4 nodes & 6 edges\n",
      "Community: 150 - Info: 4 nodes & 6 edges\n",
      "Community: 151 - Info: 4 nodes & 6 edges\n",
      "Community: 152 - Info: 4 nodes & 4 edges\n",
      "Community: 153 - Info: 4 nodes & 6 edges\n",
      "Community: 154 - Info: 4 nodes & 6 edges\n",
      "Community: 155 - Info: 4 nodes & 6 edges\n",
      "Community: 156 - Info: 4 nodes & 6 edges\n",
      "Community: 157 - Info: 4 nodes & 6 edges\n",
      "Community: 158 - Info: 3 nodes & 3 edges\n",
      "Community: 159 - Info: 3 nodes & 3 edges\n",
      "Community: 160 - Info: 3 nodes & 3 edges\n",
      "Community: 161 - Info: 3 nodes & 3 edges\n",
      "Community: 162 - Info: 3 nodes & 3 edges\n",
      "Community: 163 - Info: 3 nodes & 3 edges\n",
      "Community: 164 - Info: 3 nodes & 3 edges\n",
      "Community: 165 - Info: 3 nodes & 3 edges\n",
      "Community: 166 - Info: 3 nodes & 3 edges\n",
      "Community: 167 - Info: 3 nodes & 3 edges\n",
      "Community: 168 - Info: 3 nodes & 3 edges\n",
      "Community: 169 - Info: 3 nodes & 3 edges\n",
      "Community: 170 - Info: 2 nodes & 1 edges\n",
      "Community: 171 - Info: 2 nodes & 1 edges\n",
      "Community: 172 - Info: 2 nodes & 1 edges\n",
      "Community: 173 - Info: 2 nodes & 1 edges\n",
      "Community: 174 - Info: 2 nodes & 1 edges\n",
      "Community: 175 - Info: 2 nodes & 1 edges\n",
      "Community: 176 - Info: 2 nodes & 1 edges\n",
      "Community: 177 - Info: 2 nodes & 1 edges\n",
      "Community: 178 - Info: 2 nodes & 1 edges\n",
      "Community: 179 - Info: 2 nodes & 1 edges\n",
      "Community: 180 - Info: 1 nodes & 0 edges\n",
      "Community: 181 - Info: 1 nodes & 0 edges\n",
      "Community: 182 - Info: 1 nodes & 0 edges\n",
      "\n",
      "These communities have a total of 11573 nodes and 645254 edges.\n",
      "\n",
      "Communities statistics: \n",
      "Nodes:  FitnessResult(min=1, max=1760, score=63.240437158469945, std=216.0130716137466)\n",
      "Edges:  FitnessResult(min=0, max=139215, score=3525.9781420765025, std=14096.483585064861)\n"
     ]
    }
   ],
   "source": [
    "InfoCommunity(wt_coms.communities, wt_coms)"
   ],
   "metadata": {
    "collapsed": false,
    "pycharm": {
     "name": "#%%\n"
    }
   }
  },
  {
   "cell_type": "code",
   "execution_count": 87,
   "outputs": [
    {
     "data": {
      "text/plain": "[[0,\n  1,\n  3,\n  4,\n  5,\n  6,\n  10,\n  12,\n  14,\n  15,\n  22,\n  23,\n  25,\n  26,\n  28,\n  33,\n  34,\n  35,\n  40,\n  42,\n  44,\n  46,\n  49,\n  59,\n  61,\n  62,\n  81,\n  84,\n  86,\n  88,\n  89,\n  91,\n  92,\n  100,\n  109,\n  110,\n  112,\n  127,\n  130,\n  135,\n  137,\n  138,\n  144,\n  148,\n  150,\n  152,\n  153,\n  161,\n  171,\n  173,\n  176,\n  178,\n  180,\n  181,\n  188,\n  192,\n  208,\n  212,\n  222,\n  234,\n  242,\n  245,\n  248,\n  250,\n  253,\n  260,\n  262,\n  269,\n  270,\n  271,\n  278,\n  290,\n  308,\n  318,\n  319,\n  321,\n  323,\n  324,\n  325,\n  326,\n  329,\n  342,\n  345,\n  350,\n  352,\n  354,\n  367,\n  374,\n  380,\n  383,\n  418,\n  420,\n  443,\n  472,\n  476,\n  482,\n  483,\n  502,\n  504,\n  505,\n  507,\n  512,\n  533,\n  551,\n  556,\n  560,\n  561,\n  572,\n  574,\n  575,\n  577,\n  578,\n  579,\n  580,\n  582,\n  600,\n  611,\n  620,\n  633,\n  641,\n  644,\n  653,\n  654,\n  660,\n  661,\n  666,\n  690,\n  691,\n  695,\n  709,\n  740,\n  753,\n  769,\n  824,\n  825,\n  828,\n  832,\n  882,\n  884,\n  886,\n  925,\n  932,\n  954,\n  964,\n  1024,\n  1041,\n  1044,\n  1055,\n  1062,\n  1066,\n  1078,\n  1087,\n  1092,\n  1170,\n  1222,\n  1237,\n  1238,\n  1248,\n  1262,\n  1269,\n  1273,\n  1284,\n  1295,\n  1307,\n  1312,\n  1323,\n  1334,\n  1345,\n  1359,\n  1377,\n  1387,\n  1408,\n  1425,\n  1454,\n  1468,\n  1511,\n  1513,\n  1514,\n  1542,\n  1552,\n  1559,\n  1595,\n  1601,\n  1602,\n  1606,\n  1609,\n  1628,\n  1637,\n  1638,\n  1656,\n  1659,\n  1702,\n  1708,\n  1711,\n  1712,\n  1713,\n  1719,\n  1791,\n  1813,\n  1868,\n  1959,\n  1976,\n  1978,\n  1979,\n  2020,\n  2027,\n  2090,\n  2125,\n  2131,\n  2154,\n  2161,\n  2188,\n  2225,\n  2232,\n  2257,\n  2274,\n  2306,\n  2330,\n  2371,\n  2380,\n  2381,\n  2399,\n  2430,\n  2431,\n  2440,\n  2446,\n  2574,\n  2585,\n  2600,\n  2612,\n  2668,\n  2681,\n  2741,\n  2786,\n  2816,\n  2874,\n  2888,\n  2929,\n  2932,\n  3022,\n  3037,\n  3072,\n  3145,\n  3159,\n  3179,\n  3197,\n  3212,\n  3223,\n  3227,\n  3274,\n  3277,\n  3303,\n  3365,\n  3398,\n  3399,\n  3416,\n  3424,\n  3603,\n  3681,\n  3682,\n  3684,\n  3707,\n  3709,\n  3787,\n  3792,\n  3811,\n  3985,\n  4001,\n  4014,\n  4023,\n  4033,\n  4061,\n  4090,\n  4365,\n  4408,\n  4550,\n  4676,\n  4677,\n  4701,\n  4757,\n  4805,\n  4935,\n  5091,\n  5142,\n  5147,\n  5243,\n  5268,\n  5411,\n  5437,\n  5488,\n  5543,\n  5544,\n  5931,\n  5990,\n  5993,\n  6035,\n  6041,\n  6058,\n  6076,\n  6088,\n  6096,\n  6097,\n  6234,\n  6276,\n  6378,\n  6469,\n  6485,\n  6734,\n  6748,\n  7053,\n  7343,\n  7507,\n  7621,\n  7629,\n  8018,\n  8143,\n  8176,\n  8182,\n  8291,\n  8314,\n  8517,\n  8532,\n  8725,\n  9194,\n  9551,\n  9631,\n  9752,\n  9755,\n  9805,\n  9922,\n  9929,\n  10017,\n  10377,\n  10600,\n  10696,\n  10822,\n  10923,\n  10944,\n  11060,\n  11066,\n  11153,\n  11183,\n  11511,\n  11546,\n  11555,\n  11563,\n  11565,\n  11595,\n  11600,\n  11637,\n  11722,\n  12037,\n  12179,\n  12339,\n  12679,\n  13058,\n  13119,\n  13130,\n  13256,\n  13261,\n  13262,\n  13409,\n  13430,\n  13458,\n  13590,\n  13818,\n  13864,\n  13877,\n  13892,\n  13893,\n  13898,\n  13900,\n  13994,\n  14036,\n  14044,\n  14154,\n  14286,\n  14443,\n  14510,\n  14511,\n  14512,\n  14514,\n  14521,\n  14522,\n  14524,\n  14525,\n  14526,\n  14527,\n  14528,\n  14709,\n  14757,\n  14876,\n  15094,\n  15245,\n  15404,\n  15549,\n  15677,\n  15913,\n  15928,\n  16023,\n  16745,\n  16803,\n  16974,\n  16976,\n  17141,\n  17142,\n  17593,\n  17920,\n  17942,\n  18427,\n  19779,\n  20147,\n  20230,\n  20387,\n  76,\n  124,\n  151,\n  159,\n  175,\n  201,\n  246,\n  252,\n  292,\n  293,\n  296,\n  307,\n  310,\n  322,\n  422,\n  447,\n  448,\n  459,\n  470,\n  471,\n  473,\n  486,\n  492,\n  503,\n  519,\n  547,\n  548,\n  562,\n  570,\n  584,\n  631,\n  643,\n  645,\n  646,\n  652,\n  656,\n  658,\n  663,\n  667,\n  670,\n  672,\n  686,\n  700,\n  705,\n  713,\n  716,\n  734,\n  745,\n  750,\n  751,\n  790,\n  799,\n  802,\n  818,\n  823,\n  829,\n  831,\n  837,\n  838,\n  841,\n  844,\n  848,\n  852,\n  871,\n  874,\n  883,\n  889,\n  895,\n  910,\n  916,\n  923,\n  927,\n  931,\n  956,\n  959,\n  977,\n  981,\n  988,\n  1003,\n  1005,\n  1029,\n  1043,\n  1054,\n  1056,\n  1083,\n  1086,\n  1094,\n  1095,\n  1099,\n  1101,\n  1106,\n  1107,\n  1113,\n  1114,\n  1123,\n  1140,\n  1143,\n  1171,\n  1183,\n  1186,\n  1216,\n  1219,\n  1221,\n  1225,\n  1228,\n  1239,\n  1250,\n  1253,\n  1279,\n  1280,\n  1288,\n  1289,\n  1313,\n  1315,\n  1321,\n  1326,\n  1327,\n  1362,\n  1372,\n  1395,\n  1402,\n  1423,\n  1465,\n  1490,\n  1512,\n  1516,\n  1519,\n  1526,\n  1536,\n  1541,\n  1554,\n  1575,\n  1584,\n  1586,\n  1604,\n  1607,\n  1617,\n  1624,\n  1633,\n  1662,\n  1705,\n  1716,\n  1729,\n  1768,\n  1826,\n  1833,\n  1834,\n  1836,\n  1847,\n  1851,\n  1854,\n  1863,\n  1909,\n  1916,\n  1964,\n  1969,\n  1977,\n  1992,\n  2004,\n  2009,\n  2022,\n  2025,\n  2031,\n  2032,\n  2098,\n  2113,\n  2116,\n  2127,\n  2129,\n  2143,\n  2149,\n  2157,\n  2174,\n  2175,\n  2184,\n  2190,\n  2191,\n  2219,\n  2223,\n  2227,\n  2228,\n  2231,\n  2237,\n  2249,\n  2272,\n  2278,\n  2290,\n  2327,\n  2360,\n  2372,\n  2384,\n  2385,\n  2387,\n  2395,\n  2413,\n  2416,\n  2417,\n  2429,\n  2433,\n  2456,\n  2460,\n  2462,\n  2463,\n  2466,\n  2469,\n  2475,\n  2488,\n  2498,\n  2510,\n  2568,\n  2572,\n  2583,\n  2586,\n  2623,\n  2649,\n  2683,\n  2754,\n  2759,\n  2762,\n  2777,\n  2781,\n  2818,\n  2884,\n  2904,\n  2919,\n  2922,\n  2931,\n  2933,\n  2958,\n  3004,\n  3032,\n  3035,\n  3052,\n  3053,\n  3054,\n  3056,\n  3061,\n  3068,\n  3069,\n  3094,\n  3095,\n  3099,\n  3101,\n  3105,\n  3112,\n  3116,\n  3122,\n  3125,\n  3127,\n  3129,\n  3133,\n  3138,\n  3169,\n  3174,\n  3178,\n  3181,\n  3186,\n  3187,\n  3237,\n  3260,\n  3261,\n  3267,\n  3268,\n  3269,\n  3271,\n  3306,\n  3322,\n  3329,\n  3342,\n  3395,\n  3403,\n  3406,\n  3409,\n  3414,\n  3421,\n  3468,\n  3492,\n  3521,\n  3539,\n  3548,\n  3550,\n  3551,\n  3583,\n  3595,\n  3653,\n  3656,\n  3678,\n  3703,\n  3765,\n  3796,\n  3797,\n  3808,\n  3821,\n  3862,\n  3899,\n  3962,\n  3982,\n  3992,\n  4002,\n  4005,\n  4006,\n  4024,\n  4025,\n  4034,\n  4041,\n  4043,\n  4047,\n  4055,\n  4081,\n  4100,\n  4107,\n  4109,\n  4110,\n  4116,\n  4162,\n  4175,\n  4253,\n  4259,\n  4270,\n  4274,\n  4291,\n  4302,\n  4358,\n  4361,\n  4362,\n  4363,\n  4366,\n  4381,\n  4419,\n  4421,\n  4451,\n  4461,\n  4487,\n  4497,\n  4542,\n  4603,\n  4605,\n  4655,\n  4670,\n  4684,\n  4690,\n  4691,\n  4697,\n  4724,\n  4737,\n  4756,\n  4764,\n  4792,\n  4795,\n  4796,\n  4843,\n  4867,\n  4907,\n  4993,\n  5200,\n  5225,\n  5262,\n  5353,\n  5384,\n  5386,\n  5395,\n  5441,\n  5458,\n  5468,\n  5502,\n  5515,\n  5580,\n  5617,\n  5688,\n  5703,\n  5714,\n  5715,\n  5720,\n  5723,\n  5729,\n  5792,\n  5793,\n  5814,\n  5882,\n  5900,\n  5943,\n  5961,\n  5975,\n  6000,\n  6033,\n  6038,\n  6045,\n  6053,\n  6055,\n  6120,\n  6122,\n  6172,\n  6175,\n  6185,\n  6188,\n  6257,\n  6270,\n  6301,\n  6338,\n  6343,\n  6350,\n  6366,\n  6423,\n  6432,\n  6520,\n  6523,\n  6561,\n  6921,\n  6985,\n  6987,\n  7099,\n  7151,\n  7235,\n  7342,\n  7347,\n  7353,\n  7367,\n  7396,\n  7417,\n  7423,\n  7473,\n  7506,\n  7511,\n  7514,\n  7582,\n  7595,\n  7612,\n  8078,\n  8109,\n  8137,\n  8178,\n  8194,\n  8278,\n  8280,\n  8450,\n  8452,\n  8459,\n  8467,\n  8481,\n  8503,\n  8511,\n  8512,\n  8535,\n  8681,\n  8739,\n  8780,\n  8788,\n  8858,\n  8865,\n  8880,\n  8890,\n  8933,\n  8955,\n  8967,\n  8976,\n  9049,\n  9090,\n  9095,\n  9113,\n  9116,\n  9332,\n  9333,\n  9334,\n  9409,\n  9433,\n  9439,\n  9458,\n  9488,\n  9517,\n  9539,\n  9559,\n  9591,\n  9610,\n  9611,\n  9613,\n  9617,\n  9629,\n  9638,\n  9639,\n  9641,\n  9642,\n  9731,\n  9754,\n  9798,\n  9803,\n  9831,\n  9872,\n  9874,\n  9884,\n  9886,\n  9901,\n  9913,\n  9914,\n  9931,\n  9934,\n  9935,\n  9965,\n  10013,\n  10066,\n  10067,\n  10068,\n  10147,\n  10251,\n  10335,\n  10360,\n  10363,\n  10381,\n  10394,\n  10397,\n  10518,\n  10568,\n  10625,\n  10641,\n  10674,\n  10721,\n  10839,\n  10870,\n  10874,\n  10898,\n  10901,\n  10904,\n  10935,\n  10950,\n  11011,\n  11012,\n  11064,\n  11076,\n  11080,\n  11099,\n  11110,\n  11126,\n  11150,\n  11157,\n  11185,\n  11187,\n  11194,\n  11212,\n  11234,\n  11240,\n  11265,\n  11268,\n  11503,\n  11621,\n  11631,\n  11839,\n  11841,\n  11949,\n  11957,\n  11973,\n  11974,\n  11984,\n  11989,\n  11994,\n  12022,\n  12100,\n  12152,\n  12176,\n  12203,\n  12233,\n  12569,\n  12685,\n  12828,\n  12832,\n  12856,\n  12875,\n  12877,\n  12889,\n  13023,\n  13037,\n  13071,\n  13140,\n  13161,\n  13182,\n  13223,\n  13224,\n  13230,\n  13469,\n  13556,\n  13559,\n  13575,\n  13608,\n  13629,\n  13664,\n  13672,\n  13673,\n  13704,\n  ...],\n [11,\n  16,\n  17,\n  27,\n  45,\n  48,\n  67,\n  68,\n  73,\n  74,\n  106,\n  114,\n  128,\n  129,\n  132,\n  149,\n  156,\n  157,\n  158,\n  183,\n  189,\n  195,\n  196,\n  210,\n  225,\n  226,\n  231,\n  239,\n  263,\n  273,\n  299,\n  302,\n  303,\n  304,\n  328,\n  343,\n  347,\n  351,\n  365,\n  384,\n  387,\n  388,\n  392,\n  397,\n  399,\n  400,\n  402,\n  404,\n  405,\n  406,\n  416,\n  427,\n  461,\n  462,\n  466,\n  499,\n  500,\n  509,\n  522,\n  525,\n  526,\n  528,\n  534,\n  535,\n  540,\n  545,\n  546,\n  550,\n  589,\n  628,\n  639,\n  673,\n  683,\n  684,\n  715,\n  721,\n  723,\n  725,\n  743,\n  757,\n  770,\n  775,\n  781,\n  789,\n  887,\n  908,\n  914,\n  919,\n  921,\n  942,\n  944,\n  945,\n  946,\n  947,\n  952,\n  960,\n  965,\n  972,\n  1020,\n  1077,\n  1080,\n  1084,\n  1091,\n  1144,\n  1145,\n  1146,\n  1151,\n  1158,\n  1173,\n  1174,\n  1175,\n  1178,\n  1179,\n  1180,\n  1185,\n  1190,\n  1201,\n  1211,\n  1212,\n  1275,\n  1406,\n  1409,\n  1463,\n  1469,\n  1472,\n  1473,\n  1488,\n  1497,\n  1498,\n  1499,\n  1503,\n  1515,\n  1534,\n  1535,\n  1538,\n  1569,\n  1572,\n  1590,\n  1594,\n  1613,\n  1669,\n  1670,\n  1671,\n  1672,\n  1673,\n  1694,\n  1695,\n  1696,\n  1767,\n  1822,\n  1823,\n  1824,\n  1848,\n  1857,\n  1865,\n  1866,\n  1945,\n  1946,\n  1953,\n  1998,\n  2001,\n  2018,\n  2019,\n  2024,\n  2069,\n  2071,\n  2073,\n  2080,\n  2094,\n  2117,\n  2159,\n  2309,\n  2368,\n  2740,\n  2761,\n  2923,\n  2943,\n  2944,\n  2953,\n  2979,\n  2980,\n  2982,\n  2994,\n  2995,\n  3025,\n  3028,\n  3029,\n  3031,\n  3100,\n  3110,\n  3111,\n  3225,\n  3228,\n  3230,\n  3232,\n  3235,\n  3238,\n  3535,\n  3588,\n  3589,\n  3591,\n  3593,\n  3596,\n  3604,\n  3642,\n  3644,\n  3645,\n  3646,\n  3647,\n  3648,\n  3700,\n  3827,\n  3832,\n  3834,\n  3861,\n  3995,\n  4037,\n  4038,\n  4039,\n  4050,\n  4078,\n  4254,\n  4255,\n  4297,\n  4298,\n  4376,\n  4455,\n  4549,\n  4602,\n  4662,\n  4664,\n  4689,\n  4730,\n  4748,\n  4760,\n  4771,\n  4777,\n  4794,\n  4820,\n  4821,\n  4822,\n  6092,\n  8089,\n  8094,\n  8095,\n  8096,\n  8097,\n  8099,\n  8844,\n  8845,\n  9166,\n  9228,\n  9229,\n  9403,\n  9449,\n  9452,\n  9456,\n  9459,\n  9474,\n  9477,\n  9775,\n  9788,\n  9789,\n  10610,\n  10617,\n  10618,\n  10619,\n  10622,\n  10624,\n  10628,\n  10629,\n  10633,\n  10634,\n  10636,\n  10638,\n  10639,\n  10640,\n  10643,\n  10644,\n  10645,\n  10648,\n  10649,\n  10651,\n  10652,\n  10656,\n  10657,\n  10665,\n  13189,\n  13190,\n  13191,\n  13192,\n  13193,\n  13196,\n  13197,\n  13198,\n  13199,\n  13201,\n  13476,\n  13477,\n  13479,\n  13483,\n  13484,\n  13486,\n  13487,\n  13488,\n  13604,\n  13881,\n  14676,\n  14942,\n  15858,\n  15868,\n  16759,\n  16760,\n  16945,\n  16947,\n  16948,\n  16949,\n  16950,\n  16951,\n  17038,\n  17136,\n  17137,\n  18370,\n  18371,\n  18372,\n  18373,\n  18383,\n  18384,\n  18385,\n  18482,\n  18486,\n  18488,\n  18587,\n  18821,\n  18847,\n  18848,\n  18849,\n  18850,\n  19061,\n  19109,\n  19111,\n  19448,\n  19466,\n  19580,\n  19582,\n  19586,\n  19587,\n  19588,\n  19590,\n  20364,\n  107,\n  115,\n  197,\n  232,\n  238,\n  284,\n  288,\n  298,\n  300,\n  335,\n  371,\n  373,\n  389,\n  393,\n  394,\n  398,\n  401,\n  407,\n  408,\n  449,\n  458,\n  529,\n  530,\n  537,\n  538,\n  539,\n  541,\n  544,\n  629,\n  630,\n  637,\n  638,\n  681,\n  682,\n  685,\n  703,\n  704,\n  714,\n  724,\n  727,\n  749,\n  752,\n  755,\n  758,\n  759,\n  761,\n  762,\n  764,\n  771,\n  772,\n  773,\n  774,\n  776,\n  777,\n  778,\n  782,\n  783,\n  784,\n  785,\n  794,\n  795,\n  796,\n  797,\n  798,\n  892,\n  904,\n  905,\n  906,\n  909,\n  920,\n  922,\n  928,\n  940,\n  941,\n  943,\n  958,\n  961,\n  989,\n  993,\n  1002,\n  1059,\n  1079,\n  1081,\n  1100,\n  1131,\n  1134,\n  1139,\n  1150,\n  1159,\n  1160,\n  1161,\n  1165,\n  1168,\n  1176,\n  1177,\n  1187,\n  1191,\n  1192,\n  1194,\n  1196,\n  1210,\n  1213,\n  1218,\n  1224,\n  1276,\n  1310,\n  1429,\n  1457,\n  1458,\n  1459,\n  1461,\n  1462,\n  1493,\n  1500,\n  1501,\n  1530,\n  1531,\n  1532,\n  1539,\n  1548,\n  1571,\n  1587,\n  1630,\n  1714,\n  1769,\n  1770,\n  1817,\n  1818,\n  1820,\n  1821,\n  1831,\n  1841,\n  1843,\n  1850,\n  1853,\n  1856,\n  1859,\n  1867,\n  1872,\n  1948,\n  1970,\n  1996,\n  1997,\n  2003,\n  2012,\n  2026,\n  2028,\n  2030,\n  2036,\n  2037,\n  2039,\n  2047,\n  2048,\n  2049,\n  2072,\n  2074,\n  2075,\n  2078,\n  2079,\n  2099,\n  2100,\n  2101,\n  2102,\n  2104,\n  2105,\n  2110,\n  2114,\n  2115,\n  2118,\n  2140,\n  2141,\n  2142,\n  2144,\n  2151,\n  2162,\n  2163,\n  2328,\n  2339,\n  2340,\n  2341,\n  2350,\n  2357,\n  2363,\n  2389,\n  2588,\n  2712,\n  2735,\n  2736,\n  2737,\n  2921,\n  2924,\n  2926,\n  2975,\n  2977,\n  3005,\n  3033,\n  3034,\n  3067,\n  3084,\n  3085,\n  3087,\n  3088,\n  3089,\n  3090,\n  3098,\n  3103,\n  3106,\n  3109,\n  3226,\n  3239,\n  3283,\n  3330,\n  3571,\n  3572,\n  3598,\n  3669,\n  3674,\n  3679,\n  3695,\n  3696,\n  3697,\n  3698,\n  3824,\n  3867,\n  3868,\n  3968,\n  3975,\n  3981,\n  3984,\n  3986,\n  4016,\n  4018,\n  4031,\n  4035,\n  4040,\n  4051,\n  4052,\n  4053,\n  4054,\n  4056,\n  4057,\n  4074,\n  4080,\n  4084,\n  4252,\n  4256,\n  4277,\n  4306,\n  4329,\n  4342,\n  4344,\n  4359,\n  4375,\n  4425,\n  4462,\n  4470,\n  4490,\n  4492,\n  4495,\n  4496,\n  4508,\n  4512,\n  4538,\n  4539,\n  4540,\n  4541,\n  4545,\n  4552,\n  4556,\n  4557,\n  4558,\n  4559,\n  4565,\n  4566,\n  4591,\n  4597,\n  4598,\n  4599,\n  4600,\n  4601,\n  4648,\n  4654,\n  4663,\n  4665,\n  4666,\n  4667,\n  4685,\n  4692,\n  4698,\n  4700,\n  4723,\n  4744,\n  4746,\n  4758,\n  4759,\n  4761,\n  4769,\n  4776,\n  4779,\n  4780,\n  4793,\n  4823,\n  4824,\n  4825,\n  4830,\n  4838,\n  4852,\n  4983,\n  5010,\n  5415,\n  5664,\n  5665,\n  5681,\n  5839,\n  5865,\n  5877,\n  5889,\n  5934,\n  5991,\n  6387,\n  6846,\n  7392,\n  7487,\n  7501,\n  7852,\n  7950,\n  8081,\n  8088,\n  8292,\n  8361,\n  8823,\n  8864,\n  8953,\n  8990,\n  9055,\n  9146,\n  9150,\n  9151,\n  9453,\n  9460,\n  9461,\n  9462,\n  9525,\n  9593,\n  9750,\n  9751,\n  9753,\n  9758,\n  9759,\n  9760,\n  9767,\n  9772,\n  9781,\n  9786,\n  9849,\n  9953,\n  10223,\n  10583,\n  10818,\n  11456,\n  11534,\n  12508,\n  13067,\n  13069,\n  13082,\n  13263,\n  13264,\n  13463,\n  13465,\n  13473,\n  13474,\n  13478,\n  13561,\n  13563,\n  13779,\n  13865,\n  13868,\n  13869,\n  13872,\n  13984,\n  14000,\n  14052,\n  14655,\n  14658,\n  14661,\n  14666,\n  14667,\n  14671,\n  14672,\n  14675,\n  14726,\n  14739,\n  14752,\n  14797,\n  14947,\n  14948,\n  14950,\n  15529,\n  15530,\n  15531,\n  15596,\n  15629,\n  15698,\n  15699,\n  15712,\n  15713,\n  15714,\n  15718,\n  15724,\n  15839,\n  15840,\n  15842,\n  15848,\n  15850,\n  15854,\n  15857,\n  15860,\n  15867,\n  15919,\n  15935,\n  15957,\n  15958,\n  15959,\n  16158,\n  16162,\n  16191,\n  16534,\n  16889,\n  16932,\n  17070,\n  17072,\n  17245,\n  17860,\n  17874,\n  17878,\n  17880,\n  17893,\n  17903,\n  18141,\n  18148,\n  18249,\n  18345,\n  18359,\n  18403,\n  18438,\n  18503,\n  18504,\n  18705,\n  18713,\n  18766,\n  18785,\n  18831,\n  18949,\n  18961,\n  19133,\n  19165,\n  19167,\n  19239,\n  19261,\n  19264,\n  19265,\n  19266,\n  19373,\n  19380,\n  19482,\n  19493,\n  19502,\n  19506,\n  19508,\n  19509,\n  19521,\n  19583,\n  19599,\n  19600,\n  19615,\n  19616,\n  19618,\n  19657,\n  19658,\n  19662,\n  19666,\n  19668,\n  19673,\n  19745,\n  19750,\n  19756,\n  19775,\n  19907,\n  19908,\n  19911,\n  19912,\n  19914,\n  19922,\n  19979,\n  19989,\n  19990,\n  19991,\n  20008,\n  20009,\n  20011,\n  20018,\n  20020,\n  20099,\n  20100,\n  20127,\n  20128,\n  20322,\n  20327,\n  20345,\n  20429,\n  20498,\n  1619,\n  268,\n  2038,\n  2106,\n  2405,\n  2742,\n  2830,\n  3030,\n  3086,\n  3265,\n  3543,\n  3643,\n  3831,\n  4279,\n  5552,\n  7474,\n  7861,\n  8104,\n  8105,\n  8106,\n  8530,\n  9542,\n  9634,\n  9762,\n  9763,\n  10392,\n  10883,\n  12052,\n  13203,\n  14004,\n  14038,\n  14946,\n  14955,\n  15920,\n  17760,\n  17846,\n  18146,\n  765,\n  1666,\n  3979,\n  4440,\n  4454,\n  9521,\n  9936,\n  13862,\n  18757,\n  19973,\n  878,\n  962,\n  1184,\n  1293,\n  1783,\n  1842,\n  1999,\n  2011,\n  2035,\n  2111,\n  2126,\n  2146,\n  2283,\n  2942,\n  2945,\n  3096,\n  3218,\n  3240,\n  3258,\n  3263,\n  3319,\n  3574,\n  3652,\n  3694,\n  3903,\n  4059,\n  4117,\n  4120,\n  4257,\n  4258,\n  4268,\n  4280,\n  4465,\n  4531,\n  4532,\n  4533,\n  4604,\n  4633,\n  4696,\n  4718,\n  4719,\n  4762,\n  4768,\n  4770,\n  4783,\n  4790,\n  4828,\n  4839,\n  4857,\n  7005,\n  7186,\n  7598,\n  7625,\n  8973,\n  9052,\n  9457,\n  9469,\n  9481,\n  9482,\n  9529,\n  9614,\n  9757,\n  9765,\n  9796,\n  9838,\n  9882,\n  10154,\n  10655,\n  10658,\n  10663,\n  10664,\n  10667,\n  10669,\n  10693,\n  10860,\n  10919,\n  11259,\n  11269,\n  12134,\n  12380,\n  13265,\n  13267,\n  13460,\n  13492,\n  13493,\n  13494,\n  13577,\n  14425,\n  14662,\n  14663,\n  14669,\n  14713,\n  ...],\n [20,\n  24,\n  30,\n  31,\n  32,\n  41,\n  43,\n  47,\n  56,\n  57,\n  60,\n  75,\n  87,\n  90,\n  96,\n  97,\n  113,\n  119,\n  120,\n  123,\n  131,\n  147,\n  184,\n  218,\n  221,\n  230,\n  240,\n  244,\n  258,\n  261,\n  306,\n  339,\n  344,\n  346,\n  360,\n  361,\n  390,\n  391,\n  396,\n  411,\n  412,\n  435,\n  457,\n  469,\n  481,\n  484,\n  491,\n  496,\n  498,\n  506,\n  515,\n  517,\n  518,\n  531,\n  532,\n  602,\n  606,\n  618,\n  619,\n  627,\n  635,\n  692,\n  710,\n  711,\n  738,\n  739,\n  741,\n  748,\n  779,\n  780,\n  816,\n  869,\n  911,\n  966,\n  998,\n  999,\n  1015,\n  1022,\n  1039,\n  1049,\n  1075,\n  1109,\n  1129,\n  1148,\n  1149,\n  1172,\n  1181,\n  1204,\n  1235,\n  1259,\n  1296,\n  1303,\n  1374,\n  1384,\n  1391,\n  1475,\n  1495,\n  1634,\n  1635,\n  1676,\n  1703,\n  1715,\n  1727,\n  1731,\n  1737,\n  1747,\n  1758,\n  1772,\n  1815,\n  1877,\n  1890,\n  1906,\n  1952,\n  1957,\n  1987,\n  1988,\n  1995,\n  2067,\n  2089,\n  2130,\n  2135,\n  2167,\n  2173,\n  2189,\n  2229,\n  2240,\n  2248,\n  2565,\n  2656,\n  2657,\n  2673,\n  2796,\n  2799,\n  2905,\n  2916,\n  2960,\n  2989,\n  3009,\n  3010,\n  3011,\n  3014,\n  3355,\n  3361,\n  3481,\n  3605,\n  3611,\n  3613,\n  3618,\n  3661,\n  3691,\n  3724,\n  3752,\n  3800,\n  3812,\n  3850,\n  3902,\n  3949,\n  3952,\n  3955,\n  3957,\n  3958,\n  4086,\n  4123,\n  4124,\n  4134,\n  4142,\n  4179,\n  4181,\n  4207,\n  4249,\n  4339,\n  4371,\n  4386,\n  4391,\n  4509,\n  4527,\n  4544,\n  4592,\n  4628,\n  4656,\n  4657,\n  4707,\n  4732,\n  4733,\n  4735,\n  4750,\n  4954,\n  4957,\n  5033,\n  5235,\n  5277,\n  5307,\n  5391,\n  5399,\n  5404,\n  5462,\n  5464,\n  5465,\n  6389,\n  6830,\n  7382,\n  8884,\n  9005,\n  9200,\n  9201,\n  10003,\n  11628,\n  11823,\n  11828,\n  11836,\n  11837,\n  11838,\n  11972,\n  12085,\n  12337,\n  12395,\n  12490,\n  12491,\n  12511,\n  12609,\n  12611,\n  12999,\n  13362,\n  13367,\n  13797,\n  14275,\n  14377,\n  14383,\n  14660,\n  15244,\n  16230,\n  16232,\n  16308,\n  16512,\n  16515,\n  16524,\n  16528,\n  16529,\n  16530,\n  16531,\n  17152,\n  17533,\n  17539,\n  17540,\n  17601,\n  17605,\n  17974,\n  17976,\n  17981,\n  18003,\n  18004,\n  18548,\n  18568,\n  18570,\n  18735,\n  19138,\n  19315,\n  19328,\n  19450,\n  19667,\n  19810,\n  19812,\n  19815,\n  19816,\n  19887,\n  9,\n  99,\n  101,\n  103,\n  140,\n  209,\n  227,\n  274,\n  295,\n  305,\n  356,\n  369,\n  377,\n  403,\n  489,\n  511,\n  568,\n  603,\n  737,\n  935,\n  936,\n  1007,\n  1102,\n  1115,\n  1121,\n  1166,\n  1442,\n  1496,\n  1667,\n  1736,\n  1780,\n  1921,\n  1939,\n  1967,\n  2077,\n  2235,\n  2334,\n  2646,\n  2663,\n  2665,\n  3491,\n  3530,\n  3622,\n  3692,\n  3795,\n  3798,\n  4011,\n  4015,\n  4036,\n  4069,\n  4193,\n  4228,\n  4235,\n  4240,\n  4271,\n  4682,\n  5449,\n  11374,\n  11380,\n  12724,\n  12725,\n  12770,\n  13710,\n  13711,\n  13712,\n  13713,\n  14343,\n  16727,\n  18080,\n  18099,\n  18672,\n  20305,\n  20306,\n  224,\n  237,\n  275,\n  276,\n  355,\n  357,\n  368,\n  395,\n  513,\n  614,\n  624,\n  676,\n  677,\n  679,\n  718,\n  786,\n  861,\n  879,\n  994,\n  1033,\n  1036,\n  1071,\n  1105,\n  1116,\n  1124,\n  1167,\n  1199,\n  1206,\n  1214,\n  1368,\n  1443,\n  1450,\n  1474,\n  1494,\n  1647,\n  1675,\n  1683,\n  1686,\n  1798,\n  1807,\n  1878,\n  1895,\n  1900,\n  1903,\n  1908,\n  1917,\n  1919,\n  1922,\n  1925,\n  1926,\n  1927,\n  1935,\n  1938,\n  1940,\n  1941,\n  1944,\n  1961,\n  2040,\n  2152,\n  2171,\n  2244,\n  2255,\n  2480,\n  2793,\n  2870,\n  3012,\n  3339,\n  3432,\n  3436,\n  3557,\n  3607,\n  3615,\n  3627,\n  3725,\n  3738,\n  3750,\n  3793,\n  3863,\n  3936,\n  4131,\n  4132,\n  4144,\n  4159,\n  4183,\n  4192,\n  4202,\n  4203,\n  4209,\n  4215,\n  4346,\n  4403,\n  4499,\n  4547,\n  4606,\n  4948,\n  4992,\n  5248,\n  6512,\n  6862,\n  9389,\n  10122,\n  10204,\n  13122,\n  13123,\n  13294,\n  13355,\n  13510,\n  13776,\n  14135,\n  14165,\n  14460,\n  14467,\n  14728,\n  15134,\n  15147,\n  15410,\n  15426,\n  15465,\n  15478,\n  16248,\n  16255,\n  16318,\n  16396,\n  16629,\n  16643,\n  16672,\n  16693,\n  16700,\n  16705,\n  16706,\n  16710,\n  17771,\n  19303,\n  19680,\n  19897,\n  20051,\n  1142,\n  1814,\n  1982,\n  3662,\n  4418,\n  4753,\n  626,\n  675,\n  792,\n  1529,\n  1876,\n  1918,\n  1936,\n  1960,\n  3602,\n  3688,\n  3996,\n  4085,\n  4204,\n  4208,\n  4210,\n  4219,\n  4222,\n  4225,\n  4229,\n  4234,\n  4237,\n  4243,\n  4244,\n  4678,\n  4708,\n  5032,\n  5191,\n  6212,\n  13166,\n  13168,\n  13252,\n  13253,\n  13254,\n  13934,\n  13936,\n  14926,\n  15640,\n  16047,\n  16050,\n  16057,\n  16062,\n  16073,\n  16076,\n  16698,\n  16701,\n  16750,\n  17304,\n  17305,\n  18010,\n  18736,\n  18816,\n  19561,\n  19564,\n  19566,\n  19567,\n  19568,\n  19687,\n  19688,\n  193,\n  1030,\n  1733,\n  2059,\n  2133,\n  8705,\n  14748,\n  678,\n  793,\n  1009,\n  1073,\n  1082,\n  1290,\n  1433,\n  1449,\n  1480,\n  1691,\n  1750,\n  1803,\n  1888,\n  1915,\n  1931,\n  2015,\n  2086,\n  2139,\n  2615,\n  2693,\n  2967,\n  3076,\n  3257,\n  3358,\n  3513,\n  3637,\n  3664,\n  3906,\n  3963,\n  4026,\n  4072,\n  4121,\n  4140,\n  4230,\n  4242,\n  4247,\n  4296,\n  4436,\n  4593,\n  4709,\n  4755,\n  4813,\n  5637,\n  6104,\n  7260,\n  8441,\n  8740,\n  8803,\n  9122,\n  9129,\n  9397,\n  9398,\n  9726,\n  9727,\n  9728,\n  12171,\n  12480,\n  12556,\n  12595,\n  12793,\n  12945,\n  12950,\n  12952,\n  13138,\n  13139,\n  13144,\n  13145,\n  13147,\n  13345,\n  13382,\n  13412,\n  13420,\n  13423,\n  13609,\n  13791,\n  13792,\n  13793,\n  13798,\n  13803,\n  13804,\n  14461,\n  14691,\n  15203,\n  15321,\n  15438,\n  15485,\n  15678,\n  15684,\n  15994,\n  15999,\n  16003,\n  16015,\n  16390,\n  16527,\n  16538,\n  16582,\n  16656,\n  16657,\n  16658,\n  17318,\n  17796,\n  18682,\n  18720,\n  18772,\n  18818,\n  19180,\n  20174,\n  20312,\n  706,\n  1478,\n  1523,\n  3501,\n  413,\n  549,\n  625,\n  680,\n  693,\n  735,\n  742,\n  767,\n  801,\n  1001,\n  1011,\n  1096,\n  1135,\n  1136,\n  1169,\n  1182,\n  1205,\n  1427,\n  1476,\n  1477,\n  1489,\n  1527,\n  1528,\n  1677,\n  1679,\n  1680,\n  1688,\n  1690,\n  1721,\n  1724,\n  1756,\n  1763,\n  1777,\n  1796,\n  1862,\n  1889,\n  1898,\n  1899,\n  1924,\n  1949,\n  1950,\n  1954,\n  1958,\n  2034,\n  2045,\n  2046,\n  2053,\n  2057,\n  2058,\n  2063,\n  2082,\n  2083,\n  2084,\n  2120,\n  2121,\n  2122,\n  2124,\n  2134,\n  2661,\n  2896,\n  2952,\n  2987,\n  3077,\n  3242,\n  3437,\n  3504,\n  3559,\n  3600,\n  3610,\n  3628,\n  3634,\n  3639,\n  3778,\n  3784,\n  3852,\n  3915,\n  3935,\n  4062,\n  4064,\n  4066,\n  4067,\n  4070,\n  4092,\n  4098,\n  4122,\n  4145,\n  4157,\n  4190,\n  4194,\n  4200,\n  4262,\n  4284,\n  4285,\n  4286,\n  4305,\n  4345,\n  4407,\n  4410,\n  4415,\n  4460,\n  4475,\n  4535,\n  4543,\n  4551,\n  4588,\n  4594,\n  4609,\n  4622,\n  4645,\n  4695,\n  4704,\n  4711,\n  4714,\n  4751,\n  4765,\n  4816,\n  4834,\n  4949,\n  4951,\n  4985,\n  5017,\n  5042,\n  5121,\n  5211,\n  5287,\n  5581,\n  6646,\n  7197,\n  7262,\n  7314,\n  7338,\n  7351,\n  7354,\n  7363,\n  7384,\n  7457,\n  7477,\n  7486,\n  7492,\n  8790,\n  8793,\n  8819,\n  9105,\n  9107,\n  9114,\n  9125,\n  9191,\n  9208,\n  9706,\n  9708,\n  10891,\n  11401,\n  11671,\n  11821,\n  12173,\n  12500,\n  12587,\n  12589,\n  12602,\n  12603,\n  12607,\n  12620,\n  12958,\n  12969,\n  12971,\n  12980,\n  13031,\n  13124,\n  13226,\n  13342,\n  13349,\n  13365,\n  13396,\n  13410,\n  13781,\n  13788,\n  13842,\n  13916,\n  14143,\n  14418,\n  14442,\n  14451,\n  14454,\n  14472,\n  14479,\n  14490,\n  14494,\n  14500,\n  14504,\n  14628,\n  14705,\n  14718,\n  14741,\n  14759,\n  14777,\n  14895,\n  15249,\n  15311,\n  15320,\n  15334,\n  15355,\n  15470,\n  15803,\n  15805,\n  15883,\n  15887,\n  15891,\n  16006,\n  16061,\n  16079,\n  16119,\n  16249,\n  16253,\n  16266,\n  16428,\n  16514,\n  16628,\n  16638,\n  16645,\n  16684,\n  16713,\n  16714,\n  16975,\n  16982,\n  17055,\n  17073,\n  17303,\n  17544,\n  17955,\n  17964,\n  17965,\n  18090,\n  18091,\n  18204,\n  18205,\n  18333,\n  18631,\n  18686,\n  18721,\n  18779,\n  18837,\n  18870,\n  19176,\n  19178,\n  19184,\n  19192,\n  19302,\n  19308,\n  19312,\n  19313,\n  19323,\n  19326,\n  19570,\n  19571,\n  19626,\n  19675,\n  19684,\n  19693,\n  19767,\n  19801,\n  19956,\n  19958,\n  20042,\n  20054,\n  20058,\n  20059,\n  20060,\n  20152,\n  20155,\n  20156,\n  20157,\n  20276,\n  20360,\n  4705,\n  5452,\n  6214,\n  12712,\n  13384,\n  3279,\n  9046,\n  1018,\n  1137,\n  1207,\n  1208,\n  1209,\n  1481,\n  1790,\n  1951,\n  1971,\n  1972,\n  2971,\n  3658,\n  3822,\n  3845,\n  3919,\n  4198,\n  4288,\n  4752,\n  6644,\n  7471,\n  8261,\n  10091,\n  13133,\n  13134,\n  13164,\n  13167,\n  13408,\n  13415,\n  13795,\n  15332,\n  16517,\n  17151,\n  18857,\n  19696,\n  3741,\n  1045,\n  1522,\n  1751,\n  1786,\n  1893,\n  1901,\n  1910,\n  2041,\n  2205,\n  2366,\n  2544,\n  2639,\n  2647,\n  2652,\n  2794,\n  3462,\n  3612,\n  3616,\n  3619,\n  3730,\n  3753,\n  3758,\n  3759,\n  3769,\n  3771,\n  3928,\n  3945,\n  4129,\n  ...],\n [2,\n  7,\n  8,\n  13,\n  21,\n  29,\n  36,\n  37,\n  39,\n  51,\n  52,\n  54,\n  55,\n  65,\n  69,\n  77,\n  78,\n  79,\n  80,\n  82,\n  83,\n  85,\n  93,\n  94,\n  95,\n  105,\n  116,\n  117,\n  125,\n  133,\n  134,\n  136,\n  139,\n  143,\n  154,\n  155,\n  160,\n  162,\n  166,\n  167,\n  169,\n  170,\n  179,\n  187,\n  198,\n  202,\n  204,\n  205,\n  215,\n  219,\n  223,\n  233,\n  241,\n  247,\n  249,\n  264,\n  266,\n  267,\n  285,\n  294,\n  297,\n  311,\n  313,\n  314,\n  316,\n  317,\n  385,\n  410,\n  415,\n  417,\n  421,\n  423,\n  424,\n  426,\n  428,\n  431,\n  436,\n  438,\n  439,\n  440,\n  441,\n  442,\n  444,\n  445,\n  446,\n  452,\n  453,\n  463,\n  464,\n  467,\n  485,\n  490,\n  494,\n  495,\n  497,\n  514,\n  520,\n  521,\n  552,\n  553,\n  554,\n  555,\n  558,\n  559,\n  564,\n  571,\n  583,\n  585,\n  586,\n  592,\n  597,\n  598,\n  599,\n  605,\n  608,\n  613,\n  615,\n  634,\n  640,\n  647,\n  648,\n  649,\n  650,\n  665,\n  671,\n  674,\n  736,\n  754,\n  800,\n  803,\n  805,\n  806,\n  815,\n  817,\n  843,\n  847,\n  851,\n  858,\n  863,\n  864,\n  865,\n  867,\n  868,\n  870,\n  872,\n  876,\n  877,\n  885,\n  890,\n  891,\n  894,\n  897,\n  901,\n  902,\n  915,\n  926,\n  929,\n  950,\n  951,\n  955,\n  984,\n  997,\n  1013,\n  1023,\n  1110,\n  1111,\n  1112,\n  1141,\n  1164,\n  1202,\n  1215,\n  1242,\n  1245,\n  1246,\n  1249,\n  1252,\n  1256,\n  1257,\n  1266,\n  1268,\n  1291,\n  1298,\n  1301,\n  1302,\n  1305,\n  1309,\n  1317,\n  1320,\n  1324,\n  1328,\n  1329,\n  1339,\n  1342,\n  1370,\n  1378,\n  1380,\n  1399,\n  1401,\n  1403,\n  1404,\n  1405,\n  1411,\n  1412,\n  1415,\n  1432,\n  1439,\n  1448,\n  1451,\n  1518,\n  1544,\n  1545,\n  1547,\n  1549,\n  1550,\n  1563,\n  1564,\n  1567,\n  1577,\n  1579,\n  1580,\n  1583,\n  1625,\n  1627,\n  1629,\n  1640,\n  1641,\n  1644,\n  1654,\n  1660,\n  1661,\n  1682,\n  1717,\n  1722,\n  1789,\n  1793,\n  1801,\n  1809,\n  1902,\n  1905,\n  1907,\n  1914,\n  1974,\n  2062,\n  2097,\n  2112,\n  2160,\n  2186,\n  2201,\n  2208,\n  2213,\n  2216,\n  2224,\n  2239,\n  2243,\n  2250,\n  2252,\n  2254,\n  2259,\n  2260,\n  2261,\n  2263,\n  2265,\n  2270,\n  2276,\n  2279,\n  2284,\n  2301,\n  2317,\n  2356,\n  2379,\n  2390,\n  2393,\n  2415,\n  2423,\n  2427,\n  2432,\n  2439,\n  2444,\n  2449,\n  2455,\n  2467,\n  2472,\n  2527,\n  2548,\n  2562,\n  2571,\n  2584,\n  2597,\n  2605,\n  2617,\n  2670,\n  2674,\n  2675,\n  2691,\n  2692,\n  2703,\n  2705,\n  2707,\n  2708,\n  2720,\n  2739,\n  2763,\n  2782,\n  2783,\n  2784,\n  2789,\n  2806,\n  2808,\n  2810,\n  2815,\n  2817,\n  2826,\n  2828,\n  2829,\n  2873,\n  2879,\n  2882,\n  2883,\n  2885,\n  2886,\n  2901,\n  2911,\n  2985,\n  2990,\n  3019,\n  3060,\n  3064,\n  3065,\n  3066,\n  3071,\n  3073,\n  3114,\n  3117,\n  3188,\n  3205,\n  3234,\n  3244,\n  3327,\n  3331,\n  3364,\n  3367,\n  3369,\n  3393,\n  3394,\n  3430,\n  3461,\n  3471,\n  3472,\n  3474,\n  3494,\n  3514,\n  3515,\n  3520,\n  3526,\n  3533,\n  3545,\n  3546,\n  3547,\n  3552,\n  3555,\n  3562,\n  3594,\n  3670,\n  3704,\n  3719,\n  3748,\n  3756,\n  3760,\n  3767,\n  3858,\n  3891,\n  3892,\n  3907,\n  3923,\n  3929,\n  3933,\n  4046,\n  4169,\n  4171,\n  4282,\n  4347,\n  4349,\n  4420,\n  4423,\n  4424,\n  4639,\n  4643,\n  4734,\n  4772,\n  4773,\n  4774,\n  4807,\n  4862,\n  4880,\n  4883,\n  4893,\n  4900,\n  4901,\n  5021,\n  5132,\n  5151,\n  5280,\n  5301,\n  5378,\n  5387,\n  5427,\n  5456,\n  5461,\n  5470,\n  5481,\n  5490,\n  5498,\n  5504,\n  5505,\n  5512,\n  5518,\n  5526,\n  5534,\n  5540,\n  5568,\n  5606,\n  5636,\n  5763,\n  5812,\n  5860,\n  5970,\n  6054,\n  6068,\n  6099,\n  6129,\n  6133,\n  6156,\n  6184,\n  6189,\n  6195,\n  6232,\n  6253,\n  6268,\n  6296,\n  6325,\n  6422,\n  6566,\n  6668,\n  6765,\n  6855,\n  6868,\n  6886,\n  6889,\n  6896,\n  6902,\n  6905,\n  6913,\n  6916,\n  6945,\n  6974,\n  6976,\n  6992,\n  7043,\n  7066,\n  7070,\n  7074,\n  7208,\n  7316,\n  7318,\n  7391,\n  7395,\n  7456,\n  7459,\n  7476,\n  7484,\n  7494,\n  7503,\n  7516,\n  7517,\n  7519,\n  7543,\n  7547,\n  7548,\n  7549,\n  7554,\n  7564,\n  7566,\n  7578,\n  7590,\n  7604,\n  7638,\n  7639,\n  7788,\n  7798,\n  7799,\n  7806,\n  7808,\n  7809,\n  7811,\n  7813,\n  7820,\n  8052,\n  8174,\n  8188,\n  8217,\n  8262,\n  8322,\n  8365,\n  8439,\n  8465,\n  8546,\n  8563,\n  8685,\n  8699,\n  8703,\n  8707,\n  8708,\n  8713,\n  8720,\n  8721,\n  8724,\n  8770,\n  8799,\n  8821,\n  8885,\n  8886,\n  8887,\n  8888,\n  8966,\n  9199,\n  9236,\n  9414,\n  9441,\n  9500,\n  9503,\n  9504,\n  9513,\n  9518,\n  9546,\n  9584,\n  9709,\n  9712,\n  9820,\n  9840,\n  9916,\n  9918,\n  9927,\n  9928,\n  9930,\n  9938,\n  9941,\n  9943,\n  9951,\n  9955,\n  9972,\n  9981,\n  10402,\n  10428,\n  10545,\n  10713,\n  10714,\n  10858,\n  10876,\n  10983,\n  11217,\n  11218,\n  11221,\n  11225,\n  11226,\n  11402,\n  11403,\n  11504,\n  11656,\n  11683,\n  11713,\n  11717,\n  11720,\n  11965,\n  11988,\n  12002,\n  12088,\n  12151,\n  12185,\n  12199,\n  12213,\n  12299,\n  12329,\n  12374,\n  12375,\n  12379,\n  12413,\n  12419,\n  12420,\n  12425,\n  12439,\n  12446,\n  12570,\n  12638,\n  12663,\n  12688,\n  12743,\n  12861,\n  12869,\n  13000,\n  13030,\n  13045,\n  13074,\n  13313,\n  13351,\n  13353,\n  13361,\n  13401,\n  13451,\n  13551,\n  13603,\n  13701,\n  13768,\n  13845,\n  14015,\n  14024,\n  14025,\n  14026,\n  14027,\n  14028,\n  14029,\n  14030,\n  14031,\n  14032,\n  14033,\n  14035,\n  14043,\n  14045,\n  14054,\n  14063,\n  14070,\n  14144,\n  14285,\n  14287,\n  14308,\n  14318,\n  14424,\n  14652,\n  14767,\n  14856,\n  15190,\n  15201,\n  15205,\n  15242,\n  15290,\n  15544,\n  15672,\n  15830,\n  15878,\n  16169,\n  16170,\n  16172,\n  16194,\n  16383,\n  16519,\n  16688,\n  16801,\n  16853,\n  16879,\n  17170,\n  17596,\n  17616,\n  17713,\n  17728,\n  17756,\n  17758,\n  17917,\n  17940,\n  17987,\n  18121,\n  18122,\n  18133,\n  18189,\n  18442,\n  18644,\n  18729,\n  18730,\n  18834,\n  19152,\n  19325,\n  19355,\n  19796,\n  19797,\n  19895,\n  19952,\n  19978,\n  20037,\n  20038,\n  20210,\n  20217,\n  20218,\n  20241,\n  20418,\n  251,\n  255,\n  272,\n  336,\n  353,\n  414,\n  425,\n  557,\n  587,\n  819,\n  820,\n  930,\n  970,\n  982,\n  985,\n  986,\n  987,\n  992,\n  1016,\n  1117,\n  1223,\n  1227,\n  1232,\n  1251,\n  1304,\n  1322,\n  1338,\n  1356,\n  1360,\n  1555,\n  1578,\n  1581,\n  1592,\n  1614,\n  1615,\n  1639,\n  1792,\n  1808,\n  1858,\n  2060,\n  2156,\n  2180,\n  2369,\n  2376,\n  2402,\n  2420,\n  2470,\n  2513,\n  2519,\n  2522,\n  2526,\n  2566,\n  2593,\n  2606,\n  2755,\n  2804,\n  2823,\n  2894,\n  2918,\n  2936,\n  3016,\n  3018,\n  3057,\n  3080,\n  3130,\n  3132,\n  3134,\n  3189,\n  3214,\n  3219,\n  3241,\n  3246,\n  3270,\n  3410,\n  3425,\n  3433,\n  3434,\n  3519,\n  3522,\n  3523,\n  3525,\n  3785,\n  3836,\n  3921,\n  4021,\n  4028,\n  4058,\n  4178,\n  4195,\n  4354,\n  4357,\n  4364,\n  4406,\n  4412,\n  4413,\n  4428,\n  5259,\n  5393,\n  5442,\n  6461,\n  6706,\n  7274,\n  7550,\n  7817,\n  8145,\n  8163,\n  8487,\n  8684,\n  8918,\n  9338,\n  9361,\n  9538,\n  9912,\n  9932,\n  9959,\n  10587,\n  10609,\n  11130,\n  11743,\n  11942,\n  12729,\n  12732,\n  15828,\n  17741,\n  17929,\n  523,\n  563,\n  1063,\n  1065,\n  1067,\n  1234,\n  1241,\n  1421,\n  1505,\n  1507,\n  1726,\n  1985,\n  2183,\n  2251,\n  2367,\n  2454,\n  2533,\n  2553,\n  2559,\n  2669,\n  2876,\n  3184,\n  3347,\n  3381,\n  3473,\n  3510,\n  3667,\n  3751,\n  3869,\n  3886,\n  3895,\n  3918,\n  3922,\n  3940,\n  4196,\n  4330,\n  4360,\n  4369,\n  4388,\n  4396,\n  4422,\n  5069,\n  5083,\n  5459,\n  5687,\n  6246,\n  6283,\n  6797,\n  6841,\n  6854,\n  6866,\n  6892,\n  7025,\n  7300,\n  7325,\n  7327,\n  7333,\n  7335,\n  7350,\n  7371,\n  7373,\n  7464,\n  7574,\n  8210,\n  8843,\n  8962,\n  9041,\n  9479,\n  9519,\n  9861,\n  9939,\n  11450,\n  11457,\n  11460,\n  11477,\n  11483,\n  11492,\n  11498,\n  11706,\n  11992,\n  12078,\n  12090,\n  12197,\n  12640,\n  12648,\n  12672,\n  12744,\n  13114,\n  13601,\n  14423,\n  14758,\n  14816,\n  15212,\n  15257,\n  15765,\n  15813,\n  16038,\n  16343,\n  16880,\n  17943,\n  18011,\n  18114,\n  19084,\n  19147,\n  19733,\n  814,\n  840,\n  849,\n  1318,\n  1344,\n  1376,\n  1392,\n  1424,\n  1436,\n  1709,\n  1802,\n  1965,\n  2023,\n  2269,\n  2345,\n  2352,\n  2353,\n  2375,\n  2378,\n  2471,\n  2504,\n  2540,\n  2543,\n  2581,\n  2596,\n  2599,\n  2640,\n  2654,\n  2659,\n  2664,\n  2667,\n  2677,\n  2689,\n  2727,\n  2855,\n  2857,\n  3015,\n  3017,\n  3124,\n  3136,\n  3147,\n  3282,\n  3360,\n  3396,\n  3404,\n  3411,\n  3413,\n  3764,\n  3873,\n  3877,\n  3878,\n  3885,\n  3946,\n  4003,\n  4304,\n  4348,\n  4875,\n  4878,\n  4902,\n  5053,\n  5242,\n  5410,\n  5435,\n  5457,\n  5460,\n  5493,\n  5523,\n  5595,\n  5813,\n  6072,\n  6089,\n  6101,\n  6160,\n  6374,\n  6441,\n  6467,\n  6521,\n  6850,\n  ...],\n [18,\n  19,\n  53,\n  58,\n  64,\n  66,\n  98,\n  141,\n  142,\n  163,\n  177,\n  182,\n  190,\n  191,\n  199,\n  200,\n  203,\n  211,\n  213,\n  214,\n  216,\n  217,\n  243,\n  254,\n  259,\n  289,\n  340,\n  366,\n  372,\n  375,\n  460,\n  480,\n  493,\n  501,\n  510,\n  567,\n  569,\n  573,\n  601,\n  604,\n  609,\n  642,\n  668,\n  708,\n  835,\n  873,\n  903,\n  912,\n  913,\n  917,\n  953,\n  991,\n  1019,\n  1031,\n  1061,\n  1085,\n  1244,\n  1261,\n  1271,\n  1292,\n  1306,\n  1354,\n  1382,\n  1386,\n  1397,\n  1419,\n  1437,\n  1453,\n  1456,\n  1467,\n  1470,\n  1562,\n  1582,\n  1585,\n  1591,\n  1612,\n  1648,\n  1651,\n  1652,\n  1653,\n  1658,\n  1668,\n  1678,\n  1748,\n  1755,\n  1757,\n  1765,\n  1797,\n  1829,\n  1864,\n  1966,\n  1994,\n  2092,\n  2093,\n  2302,\n  2311,\n  2362,\n  2422,\n  2476,\n  2483,\n  2487,\n  2499,\n  2608,\n  2619,\n  2629,\n  2630,\n  2631,\n  2634,\n  2637,\n  2641,\n  2645,\n  2662,\n  2769,\n  2774,\n  2778,\n  2819,\n  2848,\n  2890,\n  2914,\n  2940,\n  2962,\n  3000,\n  3008,\n  3036,\n  3041,\n  3055,\n  3062,\n  3104,\n  3135,\n  3177,\n  3196,\n  3220,\n  3315,\n  3476,\n  3597,\n  3640,\n  3708,\n  3782,\n  3814,\n  3815,\n  3816,\n  3817,\n  3838,\n  3924,\n  3927,\n  4004,\n  4042,\n  4261,\n  4383,\n  4467,\n  4534,\n  4567,\n  4827,\n  4905,\n  4906,\n  4910,\n  4920,\n  4973,\n  4974,\n  5058,\n  5096,\n  5117,\n  5213,\n  5247,\n  5304,\n  5738,\n  5748,\n  5775,\n  5810,\n  5892,\n  5966,\n  6311,\n  6318,\n  6320,\n  6457,\n  6483,\n  6487,\n  6494,\n  6506,\n  7096,\n  7244,\n  7298,\n  7310,\n  7365,\n  7380,\n  7386,\n  7387,\n  7488,\n  7493,\n  8267,\n  8300,\n  8848,\n  8849,\n  8850,\n  8851,\n  8852,\n  8853,\n  8894,\n  8968,\n  9127,\n  9321,\n  9329,\n  9352,\n  9463,\n  9724,\n  10133,\n  10281,\n  10292,\n  10355,\n  10359,\n  10578,\n  10597,\n  10899,\n  10978,\n  10982,\n  10996,\n  11030,\n  11069,\n  11085,\n  11111,\n  11149,\n  11154,\n  11253,\n  11258,\n  11262,\n  11263,\n  11267,\n  11818,\n  12368,\n  12469,\n  12512,\n  12768,\n  12835,\n  12848,\n  12849,\n  13169,\n  13283,\n  13297,\n  13414,\n  13427,\n  13428,\n  13432,\n  13433,\n  13849,\n  14351,\n  14465,\n  14606,\n  14929,\n  14931,\n  14937,\n  15124,\n  15199,\n  15383,\n  15384,\n  15390,\n  15391,\n  15392,\n  15394,\n  15401,\n  15406,\n  15770,\n  15819,\n  16163,\n  16171,\n  16192,\n  16201,\n  16566,\n  16567,\n  17039,\n  17592,\n  17604,\n  17617,\n  17804,\n  17954,\n  17960,\n  18049,\n  18084,\n  18117,\n  18262,\n  18263,\n  18295,\n  18743,\n  18953,\n  18954,\n  19267,\n  19269,\n  19272,\n  19273,\n  19274,\n  19275,\n  19277,\n  19333,\n  19494,\n  19762,\n  19763,\n  19764,\n  19765,\n  19766,\n  19768,\n  19769,\n  19770,\n  19772,\n  19773,\n  19776,\n  19778,\n  19780,\n  19782,\n  19783,\n  19883,\n  20308,\n  20464,\n  20469],\n [71,\n  72,\n  102,\n  104,\n  111,\n  121,\n  122,\n  126,\n  174,\n  228,\n  256,\n  291,\n  315,\n  363,\n  364,\n  701,\n  810,\n  862,\n  875,\n  1050,\n  1074,\n  1759,\n  1760,\n  2137,\n  2138,\n  3370,\n  3905,\n  4434,\n  50,\n  281,\n  330,\n  334,\n  370,\n  382,\n  636,\n  1048,\n  1089,\n  1243,\n  1781,\n  1839,\n  1861,\n  2136,\n  2913,\n  3082,\n  3475,\n  3478,\n  3813,\n  3987,\n  185,\n  277,\n  358,\n  594,\n  747,\n  1058,\n  3914,\n  508,\n  1937,\n  2200,\n  1369,\n  1812,\n  2145,\n  2281,\n  2555,\n  2969,\n  4027,\n  4437,\n  4818,\n  1027,\n  1046,\n  1047,\n  1097,\n  1126,\n  1155,\n  1396,\n  1761,\n  1860,\n  2679,\n  2915,\n  3001,\n  3081,\n  4814,\n  1255,\n  2672,\n  3063,\n  1254,\n  1632,\n  1896,\n  3820,\n  2539,\n  4153,\n  1430,\n  1875,\n  726,\n  949,\n  1053,\n  1127,\n  1189,\n  1217,\n  1247,\n  1383,\n  1394,\n  1398,\n  1416,\n  1466,\n  1482,\n  1484,\n  1485,\n  1486,\n  1642,\n  1684,\n  1685,\n  1692,\n  1754,\n  1811,\n  1882,\n  1942,\n  1962,\n  2215,\n  2258,\n  2285,\n  2288,\n  2546,\n  2902,\n  2909,\n  2939,\n  2970,\n  2972,\n  2973,\n  2974,\n  2991,\n  3059,\n  3079,\n  3440,\n  3467,\n  3470,\n  3505,\n  3608,\n  3633,\n  3739,\n  3819,\n  3901,\n  3960,\n  4012,\n  4082,\n  4096,\n  4099,\n  4176,\n  4246,\n  4248,\n  4308,\n  4313,\n  4323,\n  4343,\n  4471,\n  4836,\n  4937,\n  4944,\n  5355,\n  5473,\n  5491,\n  5584,\n  5585,\n  5618,\n  5619,\n  5627,\n  5631,\n  5632,\n  5633,\n  6535,\n  6536,\n  6667,\n  6669,\n  6839,\n  6865,\n  6885,\n  6907,\n  6912,\n  7505,\n  7551,\n  7561,\n  7596,\n  7597,\n  7636,\n  7651,\n  8434,\n  8440,\n  8483,\n  8527,\n  8550,\n  8560,\n  8564,\n  8779,\n  8800,\n  8805,\n  8943,\n  8956,\n  8957,\n  8958,\n  8960,\n  8961,\n  8972,\n  9126,\n  9130,\n  9134,\n  9330,\n  9341,\n  10118,\n  10134,\n  10137,\n  10144,\n  11697,\n  11749,\n  11752,\n  12430,\n  12436,\n  12440,\n  12441,\n  12442,\n  12605,\n  12618,\n  12631,\n  13001,\n  13042,\n  13083,\n  13305,\n  13417,\n  13418,\n  13421,\n  13554,\n  13737,\n  13918,\n  14178,\n  14179,\n  14531,\n  14687,\n  14696,\n  14715,\n  14719,\n  14720,\n  14721,\n  14724,\n  14725,\n  14784,\n  15225,\n  15281,\n  15507,\n  15679,\n  15683,\n  16051,\n  16095,\n  16096,\n  16150,\n  16326,\n  16332,\n  16337,\n  16535,\n  16539,\n  16737,\n  16738,\n  16980,\n  16981,\n  16983,\n  17751,\n  17827,\n  18092,\n  18190,\n  18193,\n  18194,\n  18196,\n  18423,\n  18462,\n  18468,\n  18838,\n  19174,\n  19305,\n  19728,\n  19959,\n  20245,\n  20247,\n  20279,\n  20393,\n  12759,\n  17274,\n  2660,\n  9719,\n  14577,\n  14932],\n [1947,\n  4481,\n  4483,\n  4453,\n  4699,\n  1816,\n  1352,\n  1846,\n  3657,\n  3689,\n  3865,\n  3969,\n  4276,\n  4278,\n  4377,\n  4450,\n  4452,\n  4505,\n  4506,\n  4582,\n  4583,\n  4624,\n  4625,\n  4688,\n  4798,\n  4799,\n  4864,\n  5005,\n  7323,\n  8869,\n  8871,\n  8872,\n  8873,\n  8875,\n  8876,\n  8877,\n  8878,\n  8879,\n  8881,\n  8882,\n  9009,\n  9169,\n  9415,\n  9583,\n  10543,\n  10827,\n  10833,\n  12065,\n  12066,\n  12067,\n  12068,\n  12069,\n  12070,\n  12071,\n  12072,\n  12073,\n  12074,\n  12136,\n  12137,\n  12140,\n  12142,\n  12559,\n  12571,\n  12811,\n  12823,\n  13209,\n  13502,\n  13594,\n  13595,\n  13596,\n  13597,\n  13635,\n  13636,\n  13637,\n  13715,\n  13716,\n  13717,\n  13718,\n  13719,\n  13720,\n  13721,\n  13722,\n  13723,\n  13805,\n  13806,\n  13807,\n  13810,\n  13926,\n  13927,\n  13929,\n  14196,\n  14616,\n  14945,\n  14953,\n  15119,\n  15364,\n  15365,\n  15367,\n  15368,\n  15369,\n  15706,\n  16818,\n  16819,\n  16820,\n  16858,\n  16859,\n  16860,\n  16861,\n  16862,\n  16863,\n  16926,\n  16933,\n  17252,\n  17257,\n  17271,\n  17272,\n  17280,\n  17315,\n  17316,\n  17892,\n  17894,\n  17895,\n  17896,\n  17897,\n  17898,\n  17900,\n  17902,\n  17924,\n  18058,\n  18059,\n  18060,\n  18214,\n  18215,\n  18248,\n  18282,\n  18287,\n  18302,\n  18303,\n  18304,\n  18305,\n  18306,\n  18365,\n  18366,\n  18367,\n  18368,\n  18369,\n  18401,\n  18412,\n  18440,\n  18441,\n  18481,\n  18487,\n  18489,\n  18591,\n  18645,\n  18646,\n  18648,\n  18649,\n  18650,\n  18651,\n  18653,\n  18654,\n  18655,\n  18774,\n  18775,\n  18845,\n  18970,\n  18994,\n  18995,\n  18996,\n  18997,\n  18998,\n  18999,\n  19000,\n  19001,\n  19002,\n  19003,\n  19004,\n  19005,\n  19204,\n  19205,\n  19206,\n  19207,\n  19208,\n  19295,\n  19296,\n  19297,\n  19298,\n  19299,\n  19301,\n  19335,\n  19336,\n  19337,\n  19338,\n  19339,\n  19340,\n  19341,\n  19342,\n  19343,\n  19480,\n  19483,\n  19484,\n  19491,\n  19492,\n  19525,\n  19526,\n  19527,\n  19528,\n  19529,\n  19602,\n  19603,\n  19604,\n  19605,\n  19606,\n  19607,\n  19608,\n  19609,\n  19610,\n  19659,\n  19700,\n  19730,\n  19761,\n  19835,\n  19838,\n  19848,\n  19849,\n  19850,\n  19851,\n  19852,\n  19853,\n  19854,\n  19856,\n  20175,\n  20178,\n  20179,\n  20180,\n  20181,\n  20182,\n  20191,\n  20192,\n  20193,\n  20194,\n  20454,\n  8978],\n [38,\n  63,\n  108,\n  118,\n  168,\n  194,\n  220,\n  236,\n  257,\n  320,\n  341,\n  429,\n  430,\n  451,\n  487,\n  612,\n  632,\n  659,\n  669,\n  760,\n  807,\n  880,\n  980,\n  1076,\n  1230,\n  1236,\n  1274,\n  1278,\n  1440,\n  1752,\n  1827,\n  1828,\n  1832,\n  2347,\n  2509,\n  2618,\n  2746,\n  2779,\n  3291,\n  5765,\n  5768,\n  5857,\n  6897,\n  7412,\n  8276,\n  8299,\n  8477,\n  8700,\n  8771,\n  9829,\n  9834,\n  10005,\n  11016,\n  11023,\n  11062,\n  11079,\n  11081,\n  11567,\n  12009,\n  13562,\n  15226,\n  17850,\n  165,\n  287,\n  474,\n  719,\n  826,\n  834,\n  1021,\n  1051,\n  1128,\n  1163,\n  1294,\n  1340,\n  1697,\n  1706,\n  1707,\n  1749,\n  2289,\n  2805,\n  3397,\n  590,\n  2179,\n  662,\n  2750,\n  419,\n  688,\n  717,\n  720,\n  967,\n  969,\n  1229,\n  1233,\n  1265,\n  1267,\n  1299,\n  1347,\n  1524,\n  1593,\n  1597,\n  1599,\n  1830,\n  1975,\n  2199,\n  2298,\n  2310,\n  2316,\n  2322,\n  2326,\n  2343,\n  2361,\n  2373,\n  2374,\n  2382,\n  2493,\n  2582,\n  2752,\n  3139,\n  3155,\n  3314,\n  3352,\n  3391,\n  3400,\n  3402,\n  3418,\n  3499,\n  3570,\n  3685,\n  3776,\n  3857,\n  4009,\n  4017,\n  4367,\n  4528,\n  4829,\n  5063,\n  5109,\n  5135,\n  5233,\n  5305,\n  5408,\n  5602,\n  5669,\n  5686,\n  5702,\n  5724,\n  5727,\n  5761,\n  5784,\n  5818,\n  5820,\n  5821,\n  5864,\n  5875,\n  5893,\n  5906,\n  5941,\n  5944,\n  5960,\n  5967,\n  5976,\n  5996,\n  5999,\n  6007,\n  6008,\n  6037,\n  6074,\n  6081,\n  6162,\n  6264,\n  6288,\n  6496,\n  6710,\n  6951,\n  7036,\n  7222,\n  7312,\n  7324,\n  7332,\n  7358,\n  8117,\n  8161,\n  8201,\n  8469,\n  8508,\n  8547,\n  8680,\n  8866,\n  9000,\n  9006,\n  9033,\n  9495,\n  9514,\n  9917,\n  9921,\n  9989,\n  9990,\n  10314,\n  10319,\n  10558,\n  10838,\n  10856,\n  11537,\n  11626,\n  12091,\n  12163,\n  12235,\n  12535,\n  13062,\n  13212,\n  13239,\n  13644,\n  13890,\n  13899,\n  14013,\n  14193,\n  14938,\n  14957,\n  15644,\n  15647,\n  15648,\n  15654,\n  15662,\n  16155,\n  16168,\n  16779,\n  16905,\n  16961,\n  18472,\n  20274,\n  20282,\n  19115,\n  5270,\n  11119,\n  11584,\n  19663],\n [164,\n  312,\n  432,\n  433,\n  434,\n  588,\n  591,\n  593,\n  621,\n  804,\n  853,\n  854,\n  855,\n  856,\n  857,\n  859,\n  860,\n  1349,\n  1353,\n  1355,\n  1361,\n  1393,\n  1418,\n  1471,\n  1621,\n  2481,\n  2482,\n  2485,\n  2494,\n  2507,\n  2524,\n  2525,\n  2530,\n  2531,\n  2532,\n  2534,\n  2536,\n  2648,\n  2946,\n  2947,\n  2948,\n  3344,\n  3345,\n  3346,\n  3348,\n  3349,\n  3853,\n  3854,\n  4184,\n  4312,\n  5706,\n  6339,\n  6436,\n  7317,\n  7390,\n  8501,\n  8999,\n  9031,\n  9204,\n  9225,\n  10780,\n  10855,\n  11236,\n  11449,\n  11451,\n  11454,\n  11455,\n  11459,\n  11462,\n  11463,\n  11464,\n  11465,\n  11466,\n  11467,\n  11468,\n  11469,\n  11470,\n  11471,\n  11472,\n  11473,\n  11474,\n  11476,\n  11478,\n  11479,\n  11480,\n  11481,\n  11482,\n  11484,\n  11485,\n  11486,\n  11488,\n  11489,\n  11491,\n  13741,\n  14039,\n  14057,\n  14618,\n  14813,\n  14814,\n  14815,\n  14817,\n  14818,\n  14819,\n  14820,\n  14821,\n  14822,\n  14823,\n  14824,\n  14825,\n  14826,\n  14827,\n  14828,\n  14829,\n  14830,\n  14831,\n  14832,\n  14833,\n  14834,\n  14835,\n  14836,\n  14837,\n  14838,\n  14839,\n  14840,\n  14841,\n  14842,\n  14843,\n  14844,\n  14845,\n  14846,\n  14847,\n  14848,\n  14849,\n  14850,\n  14851,\n  14852,\n  14853,\n  14854,\n  14855,\n  15091,\n  15745,\n  15746,\n  15747,\n  15748,\n  15750,\n  15751,\n  15752,\n  15753,\n  15754,\n  15755,\n  15756,\n  15757,\n  16025,\n  16026,\n  16027,\n  16028,\n  16205,\n  16206,\n  16207,\n  16208,\n  16209,\n  16210,\n  16211,\n  16212,\n  16213,\n  16214,\n  16215,\n  16216,\n  16217,\n  16218,\n  16219,\n  16220,\n  16480,\n  16481,\n  16482,\n  16483,\n  16484,\n  16485,\n  16544,\n  16545,\n  16546,\n  16547,\n  16548,\n  16549,\n  16550,\n  16551,\n  16552,\n  16553,\n  16554,\n  16555,\n  16556,\n  16558,\n  16772,\n  16773,\n  17209,\n  17253,\n  17254,\n  18009,\n  18405,\n  18613,\n  18673,\n  18674,\n  18675,\n  18676,\n  18678,\n  18823,\n  19120,\n  19837,\n  20383,\n  20384,\n  20385],\n [279,\n  542,\n  1000,\n  1008,\n  1119,\n  1122,\n  3229,\n  3236,\n  3592,\n  3763,\n  4640,\n  338,\n  376,\n  381,\n  527,\n  622,\n  623,\n  664,\n  694,\n  728,\n  729,\n  766,\n  787,\n  791,\n  1012,\n  1035,\n  1052,\n  1120,\n  1138,\n  1153,\n  1197,\n  1198,\n  1741,\n  1795,\n  1870,\n  1871,\n  1884,\n  1923,\n  1930,\n  1933,\n  2007,\n  2008,\n  2010,\n  2064,\n  2119,\n  2614,\n  2791,\n  2965,\n  3003,\n  3078,\n  3221,\n  3222,\n  3224,\n  3233,\n  3362,\n  3768,\n  3770,\n  3911,\n  3971,\n  3998,\n  3999,\n  4101,\n  4102,\n  4103,\n  4105,\n  4106,\n  4114,\n  4138,\n  4216,\n  4232,\n  4236,\n  4238,\n  4272,\n  4293,\n  4310,\n  4311,\n  4459,\n  4536,\n  4638,\n  4644,\n  4649,\n  4651,\n  4652,\n  4740,\n  4741,\n  4786,\n  4787,\n  4789,\n  8857,\n  8975,\n  9061,\n  9062,\n  9063,\n  9064,\n  9110,\n  9716,\n  10579,\n  10603,\n  10607,\n  10612,\n  10614,\n  10616,\n  10621,\n  10632,\n  10635,\n  10646,\n  10672,\n  10680,\n  10682,\n  10685,\n  11685,\n  12474,\n  13183,\n  13187,\n  13513,\n  13822,\n  14507,\n  15268,\n  15269,\n  15270,\n  15271,\n  15273,\n  15274,\n  15275,\n  15276,\n  15277,\n  15278,\n  15393,\n  15637,\n  15639,\n  15993,\n  15995,\n  15996,\n  15997,\n  16002,\n  16007,\n  16010,\n  16018,\n  16099,\n  16101,\n  16102,\n  16104,\n  16105,\n  16107,\n  16108,\n  16110,\n  16112,\n  16113,\n  16114,\n  16116,\n  16117,\n  16118,\n  16120,\n  16123,\n  16124,\n  16126,\n  16128,\n  16146,\n  16663,\n  16716,\n  16992,\n  16993,\n  16996,\n  17056,\n  17058,\n  17060,\n  17068,\n  17148,\n  17150,\n  17536,\n  18334,\n  18335,\n  18812,\n  18853,\n  19372,\n  19375,\n  19377,\n  19379,\n  19692,\n  19867,\n  19870,\n  20049,\n  20061,\n  20301],\n [976,\n  978,\n  1598,\n  1611,\n  3290,\n  3305,\n  974,\n  3276,\n  3311,\n  1603,\n  3292,\n  971,\n  979,\n  1343,\n  1390,\n  1556,\n  1589,\n  1596,\n  1600,\n  1610,\n  2222,\n  2377,\n  2403,\n  3020,\n  3207,\n  3272,\n  3273,\n  3275,\n  3278,\n  3280,\n  3281,\n  3284,\n  3285,\n  3286,\n  3287,\n  3289,\n  3293,\n  3295,\n  3296,\n  3297,\n  3299,\n  3300,\n  3302,\n  3308,\n  3310,\n  3317,\n  4402,\n  5791,\n  6672,\n  7173,\n  7839,\n  7857,\n  7922,\n  7923,\n  7924,\n  7925,\n  7926,\n  8101,\n  8510,\n  9515,\n  9960,\n  10070,\n  10072,\n  10912,\n  10922,\n  10926,\n  10927,\n  10928,\n  10929,\n  10931,\n  10936,\n  10937,\n  10938,\n  10940,\n  10941,\n  10942,\n  10946,\n  10947,\n  10948,\n  10951,\n  10953,\n  10954,\n  10959,\n  10961,\n  10962,\n  10963,\n  10967,\n  10971,\n  10973,\n  10975,\n  10976,\n  10977,\n  10984,\n  10985,\n  10989,\n  10990,\n  10992,\n  10993,\n  10994,\n  10998,\n  11000,\n  11005,\n  11013,\n  11015,\n  11018,\n  11019,\n  11020,\n  11024,\n  11025,\n  11026,\n  11036,\n  11040,\n  11041,\n  11042,\n  11046,\n  11047,\n  11048,\n  11050,\n  11052,\n  11054,\n  11063,\n  11067,\n  11071,\n  11082,\n  11083,\n  11084,\n  11087,\n  11090,\n  11091,\n  11093,\n  11095,\n  11098,\n  11100,\n  11102,\n  11106,\n  11112,\n  11115,\n  11139,\n  11146,\n  11156,\n  11164,\n  11169,\n  11170,\n  11172,\n  11173,\n  11175,\n  11190,\n  11191,\n  11445,\n  12015,\n  12154,\n  12156,\n  12868,\n  12884,\n  12960,\n  13034,\n  13658,\n  15740,\n  15741,\n  15742,\n  15743,\n  15809,\n  16174,\n  16175,\n  16786,\n  17586,\n  17588,\n  17612,\n  17757,\n  18340,\n  18344,\n  18756,\n  18767,\n  18768,\n  18769,\n  19760,\n  19925,\n  19926,\n  20204],\n [235,\n  280,\n  282,\n  301,\n  327,\n  437,\n  450,\n  475,\n  536,\n  651,\n  696,\n  697,\n  730,\n  731,\n  746,\n  768,\n  830,\n  893,\n  907,\n  918,\n  973,\n  990,\n  1028,\n  1038,\n  1060,\n  1069,\n  1090,\n  1156,\n  1200,\n  1231,\n  1373,\n  1464,\n  1479,\n  1650,\n  1723,\n  1742,\n  1746,\n  1804,\n  1911,\n  1913,\n  2042,\n  2096,\n  2103,\n  2168,\n  2221,\n  2247,\n  2342,\n  2523,\n  2552,\n  2620,\n  2638,\n  2767,\n  2773,\n  2889,\n  2950,\n  2956,\n  3013,\n  3313,\n  3458,\n  3487,\n  3500,\n  3502,\n  3503,\n  3565,\n  3665,\n  3668,\n  3775,\n  3823,\n  3947,\n  4044,\n  4075,\n  4079,\n  4148,\n  4269,\n  4327,\n  4394,\n  4530,\n  4607,\n  4680,\n  4727,\n  4781,\n  4927,\n  5012,\n  5028,\n  5397,\n  6572,\n  6806,\n  7184,\n  7282,\n  7311,\n  7315,\n  7337,\n  7364,\n  7394,\n  7472,\n  7496,\n  7540,\n  7843,\n  7849,\n  8118,\n  8156,\n  8889,\n  9174,\n  9391,\n  9393,\n  9498,\n  9707,\n  10999,\n  11138,\n  11820,\n  11842,\n  12301,\n  12575,\n  12594,\n  12596,\n  12598,\n  12601,\n  12610,\n  12612,\n  12737,\n  13132,\n  13765,\n  13775,\n  13790,\n  13815,\n  13816,\n  13870,\n  14042,\n  14062,\n  14274,\n  14314,\n  14654,\n  14751,\n  14869,\n  14941,\n  15128,\n  15243,\n  15255,\n  15430,\n  15454,\n  15728,\n  15760,\n  16167,\n  16228,\n  16715,\n  16970,\n  16978,\n  17597,\n  17600,\n  17844,\n  17952,\n  17961,\n  18069,\n  18086,\n  18583,\n  18717,\n  18726,\n  18813,\n  18817,\n  19307,\n  19695,\n  19995,\n  19996,\n  19997,\n  20047,\n  20050,\n  543,\n  15312,\n  20160],\n [70,\n  145,\n  146,\n  172,\n  186,\n  229,\n  362,\n  698,\n  707,\n  1010,\n  1040,\n  1042,\n  1070,\n  1072,\n  1125,\n  1738,\n  1806,\n  1805,\n  2666,\n  3843,\n  4608,\n  286,\n  516,\n  733,\n  1037,\n  1874,\n  2033,\n  488,\n  712,\n  1740,\n  1990,\n  937,\n  1006,\n  1034,\n  1739,\n  309,\n  1704,\n  1779,\n  1912,\n  2044,\n  359,\n  378,\n  699,\n  1681,\n  1744,\n  2651,\n  1929,\n  3736,\n  4147,\n  3804,\n  938,\n  939,\n  1730,\n  1773,\n  1774,\n  1776,\n  2076,\n  2792,\n  3149,\n  3617,\n  3620,\n  3625,\n  3651,\n  3663,\n  3734,\n  3755,\n  3779,\n  3780,\n  3781,\n  3783,\n  3799,\n  3802,\n  3837,\n  3874,\n  3956,\n  4214,\n  4227,\n  4239,\n  4295,\n  4433,\n  4435,\n  4881,\n  5034,\n  6752,\n  6828,\n  6878,\n  7360,\n  8424,\n  8426,\n  9193,\n  9737,\n  9738,\n  9739,\n  9740,\n  10120,\n  10126,\n  10795,\n  11376,\n  12101,\n  12614,\n  13025,\n  13131,\n  13292,\n  13295,\n  13296,\n  13344,\n  13364,\n  13366,\n  13378,\n  13860,\n  13861,\n  13976,\n  14170,\n  14171,\n  14324,\n  14391,\n  14428,\n  14433,\n  14462,\n  14468,\n  14482,\n  14483,\n  14493,\n  14498,\n  14505,\n  14704,\n  15460,\n  15788,\n  15791,\n  15795,\n  15798,\n  16044,\n  16045,\n  16401,\n  16414,\n  16532,\n  16660,\n  16683,\n  17956,\n  17971,\n  17979,\n  17990,\n  18169,\n  18170,\n  18173,\n  18174,\n  18176,\n  18177,\n  18179,\n  18180,\n  18181,\n  18182,\n  18184,\n  18186,\n  18854,\n  19063,\n  19181],\n [866,\n  888,\n  896,\n  1388,\n  2081,\n  1932,\n  3422,\n  1240,\n  1314,\n  1379,\n  1381,\n  1551,\n  1983,\n  1984,\n  2264,\n  2268,\n  2406,\n  2409,\n  2410,\n  2418,\n  2419,\n  2528,\n  2564,\n  2678,\n  2680,\n  2682,\n  2684,\n  2685,\n  2709,\n  2760,\n  2800,\n  2801,\n  2807,\n  2821,\n  2907,\n  2912,\n  2986,\n  3002,\n  3051,\n  3126,\n  3137,\n  3191,\n  3247,\n  3357,\n  3419,\n  3435,\n  3497,\n  3541,\n  4191,\n  4199,\n  4368,\n  4803,\n  4811,\n  4851,\n  4885,\n  4894,\n  5120,\n  5454,\n  5483,\n  5484,\n  5529,\n  5542,\n  5547,\n  5564,\n  5565,\n  5570,\n  5572,\n  6125,\n  7042,\n  7562,\n  7568,\n  7571,\n  7579,\n  7580,\n  7586,\n  7607,\n  7801,\n  7803,\n  7818,\n  8298,\n  8519,\n  8536,\n  8794,\n  8804,\n  8807,\n  8825,\n  9016,\n  9436,\n  10127,\n  10128,\n  10391,\n  10708,\n  11322,\n  11323,\n  11324,\n  11325,\n  11326,\n  11399,\n  11730,\n  11739,\n  12219,\n  12403,\n  12412,\n  12417,\n  12427,\n  12697,\n  12766,\n  12767,\n  14897,\n  14898,\n  14899,\n  14900,\n  14901,\n  14902,\n  14904,\n  14905,\n  14906,\n  14907,\n  14908,\n  14909,\n  14910,\n  14911,\n  14912,\n  14913,\n  14914,\n  14915,\n  15223,\n  15282,\n  15377,\n  15482,\n  15486,\n  15487,\n  16328,\n  17556,\n  17624,\n  17625,\n  20390,\n  20423],\n [2734,\n  1103,\n  1098,\n  2738,\n  4294,\n  4446,\n  3578,\n  3925,\n  2935,\n  2733,\n  3152,\n  4309,\n  4463,\n  4738,\n  4739,\n  5734,\n  8075,\n  8082,\n  8085,\n  8086,\n  8091,\n  8093,\n  8098,\n  10231,\n  10232,\n  10233,\n  10234,\n  10235,\n  10236,\n  10238,\n  10239,\n  10241,\n  10242,\n  10243,\n  12536,\n  13092,\n  13093,\n  13094,\n  13095,\n  13096,\n  13097,\n  13098,\n  13099,\n  13100,\n  13101,\n  13102,\n  13103,\n  13104,\n  13105,\n  13106,\n  13107,\n  13108,\n  13109,\n  13110,\n  13113,\n  14594,\n  14595,\n  14596,\n  14597,\n  14598,\n  14599,\n  14600,\n  14601,\n  14602,\n  14603,\n  15382,\n  15403,\n  15808,\n  15898,\n  15900,\n  15902,\n  15904,\n  15905,\n  15906,\n  15909,\n  15910,\n  15915,\n  15916,\n  16009,\n  16021,\n  16887,\n  16888,\n  16994,\n  17021,\n  17022,\n  17279,\n  17300,\n  17301,\n  18227,\n  18228,\n  18247,\n  18342,\n  18343,\n  18360,\n  18361,\n  18362,\n  18363,\n  18364,\n  18577,\n  18578,\n  18579,\n  18580,\n  19669,\n  19670,\n  19671,\n  19821,\n  19823,\n  19824,\n  19825,\n  19826,\n  19827,\n  19829,\n  19830,\n  19831,\n  19833,\n  19834],\n [265,\n  1147,\n  1330,\n  4846,\n  468,\n  809,\n  1004,\n  1553,\n  1565,\n  2253,\n  4587,\n  744,\n  1325,\n  2013,\n  3091,\n  4472,\n  1203,\n  2832,\n  3576,\n  4379,\n  4736,\n  4809,\n  4844,\n  2421,\n  4808,\n  3231,\n  948,\n  808,\n  3194,\n  3575,\n  1981,\n  2014,\n  2147,\n  4728,\n  4819,\n  2132,\n  4473,\n  4729,\n  1422,\n  2676,\n  3577,\n  4378,\n  4474,\n  4522,\n  4523,\n  4524,\n  4525,\n  4585,\n  4847,\n  5574,\n  6203,\n  8552,\n  8555,\n  8847,\n  8964,\n  8965,\n  9549,\n  9637,\n  9764,\n  9766,\n  10676,\n  10684,\n  10686,\n  11371,\n  12046,\n  12211,\n  13077,\n  13078,\n  13081,\n  13084,\n  13867,\n  14857,\n  15098,\n  17746,\n  17754,\n  17904,\n  17905,\n  18224,\n  18307,\n  18426,\n  18452,\n  18453,\n  18454,\n  18455,\n  18461,\n  18463,\n  18566,\n  18641,\n  18642,\n  18643,\n  19070,\n  19100,\n  19194,\n  19800,\n  20229,\n  20266,\n  20267,\n  20323,\n  20325,\n  20329,\n  20344,\n  20366,\n  20368,\n  20369,\n  20388,\n  20407,\n  20408,\n  20410,\n  20412,\n  20413,\n  20414,\n  20448,\n  20493],\n [1346,\n  1504,\n  1775,\n  2192,\n  2202,\n  2445,\n  2887,\n  3243,\n  3735,\n  3835,\n  3839,\n  3840,\n  3841,\n  3842,\n  4111,\n  4393,\n  4411,\n  4447,\n  5166,\n  5167,\n  5168,\n  5172,\n  5199,\n  5217,\n  5227,\n  5255,\n  5260,\n  5272,\n  5289,\n  5290,\n  5296,\n  5300,\n  5315,\n  5331,\n  5340,\n  5343,\n  5375,\n  5400,\n  5420,\n  5422,\n  5424,\n  5448,\n  6888,\n  7790,\n  7936,\n  8331,\n  8332,\n  8333,\n  9316,\n  9322,\n  9328,\n  9336,\n  9343,\n  9346,\n  9347,\n  9348,\n  9351,\n  9624,\n  10033,\n  10035,\n  10036,\n  10038,\n  10039,\n  10042,\n  11719,\n  11753,\n  12205,\n  12352,\n  12387,\n  13674,\n  13678,\n  13819,\n  13820,\n  13821,\n  13824,\n  14686,\n  14689,\n  14710,\n  15192,\n  15231,\n  15232,\n  15237,\n  15238,\n  15239,\n  15263,\n  15267,\n  15272,\n  16133,\n  16134,\n  16907,\n  16908,\n  16909,\n  16910,\n  16912,\n  16914,\n  16915,\n  16918,\n  17321,\n  17322,\n  17323,\n  17324,\n  17327,\n  17333,\n  17334,\n  17339,\n  17340,\n  17343,\n  17344,\n  17345,\n  18024,\n  18032,\n  18037,\n  18102],\n [207,\n  331,\n  332,\n  333,\n  337,\n  349,\n  379,\n  386,\n  454,\n  455,\n  479,\n  596,\n  616,\n  900,\n  1410,\n  1445,\n  1446,\n  1447,\n  1546,\n  1622,\n  1643,\n  1892,\n  2061,\n  2233,\n  2569,\n  2591,\n  2824,\n  2898,\n  2899,\n  2900,\n  3374,\n  3417,\n  3507,\n  3747,\n  4514,\n  4634,\n  5376,\n  5377,\n  6490,\n  6720,\n  6771,\n  6834,\n  6835,\n  6836,\n  6871,\n  6872,\n  6900,\n  6901,\n  6903,\n  6906,\n  7015,\n  7921,\n  8282,\n  8286,\n  9426,\n  9563,\n  10225,\n  10254,\n  10797,\n  11201,\n  12202,\n  12390,\n  12661,\n  12669,\n  12693,\n  12721,\n  13700,\n  13702,\n  14110,\n  14806,\n  15749,\n  15758,\n  15759,\n  16811,\n  17875,\n  17934,\n  18185,\n  18187,\n  18637,\n  19114,\n  1732,\n  1734,\n  1735,\n  1743,\n  1799,\n  1904,\n  2176,\n  4161,\n  4336,\n  4337,\n  4338,\n  2172,\n  3448,\n  3449,\n  3455,\n  3713,\n  3757,\n  4416],\n [1570,\n  968,\n  3584,\n  3587,\n  1104,\n  1537,\n  3788,\n  2607,\n  3486,\n  3805,\n  3847,\n  3926,\n  4326,\n  4438,\n  4439,\n  4456,\n  4895,\n  4918,\n  4922,\n  4925,\n  4929,\n  4930,\n  4932,\n  4933,\n  4934,\n  5179,\n  6313,\n  6319,\n  6837,\n  7130,\n  7221,\n  7223,\n  7398,\n  7399,\n  7538,\n  7552,\n  7592,\n  8454,\n  8897,\n  9139,\n  10230,\n  10258,\n  10581,\n  10584,\n  10594,\n  10606,\n  10615,\n  10623,\n  10650,\n  10660,\n  10815,\n  10821,\n  10829,\n  10836,\n  10871,\n  11981,\n  12423,\n  12534,\n  12956,\n  14109,\n  14113,\n  14114,\n  14471,\n  14475,\n  14656,\n  14738,\n  14745,\n  14747,\n  15385,\n  15386,\n  15387,\n  15388,\n  15398,\n  15400,\n  15405,\n  15408,\n  15762,\n  15778,\n  15939,\n  16129,\n  16775,\n  16776,\n  16777,\n  16778,\n  18019,\n  19171,\n  19201,\n  19934,\n  19935,\n  19945],\n [1663,\n  3038,\n  4188,\n  4466,\n  1508,\n  1778,\n  2461,\n  2587,\n  2984,\n  3042,\n  3045,\n  3415,\n  3567,\n  4458,\n  4494,\n  4612,\n  5881,\n  8181,\n  8305,\n  8816,\n  8921,\n  8930,\n  8969,\n  9002,\n  9475,\n  9476,\n  9480,\n  9511,\n  9522,\n  9561,\n  9562,\n  9604,\n  9651,\n  9725,\n  9877,\n  9923,\n  10683,\n  11224,\n  11986,\n  12018,\n  12020,\n  12062,\n  12175,\n  12178,\n  12180,\n  12563,\n  12583,\n  12586,\n  12891,\n  12897,\n  13076,\n  13217,\n  13260,\n  13605,\n  13744,\n  13772,\n  13837,\n  13999,\n  14574,\n  14575,\n  14605,\n  14674,\n  15509,\n  15510,\n  15553,\n  16037,\n  16591,\n  16593,\n  16846,\n  16884,\n  16966,\n  17034,\n  17035,\n  17036,\n  17269,\n  17270,\n  17841,\n  18053,\n  18054,\n  18056,\n  18057,\n  18402,\n  18873,\n  18874,\n  19196,\n  19198,\n  19655,\n  20271,\n  20304,\n  20334],\n [1819,\n  4632,\n  4653,\n  1883,\n  4630,\n  1710,\n  3974,\n  3977,\n  4135,\n  4250,\n  4251,\n  4484,\n  4486,\n  4631,\n  4659,\n  4716,\n  4778,\n  13266,\n  13986,\n  13991,\n  15574,\n  15580,\n  15581,\n  15583,\n  15585,\n  15591,\n  15595,\n  15694,\n  15701,\n  15708,\n  15907,\n  15914,\n  15917,\n  16136,\n  16273,\n  16274,\n  16749,\n  16751,\n  16752,\n  16753,\n  16755,\n  16756,\n  16757,\n  16758,\n  16967,\n  16968,\n  16969,\n  17265,\n  18517,\n  18690,\n  18691,\n  18694,\n  18695,\n  18761,\n  18800,\n  18801,\n  18802,\n  19079,\n  19093,\n  19094,\n  19096,\n  19097,\n  19127,\n  19168,\n  19370,\n  19371,\n  19381,\n  19461,\n  19463,\n  19465,\n  19596,\n  19598,\n  19718,\n  19720,\n  19721,\n  19874,\n  19877,\n  20091,\n  20092,\n  20093,\n  20094,\n  20095,\n  20096,\n  20189,\n  5834,\n  5862,\n  9855,\n  15859,\n  17843],\n [2765,\n  3050,\n  3423,\n  1674,\n  2346,\n  1431,\n  2305,\n  2348,\n  3401,\n  3582,\n  3829,\n  4060,\n  4479,\n  4972,\n  5349,\n  5683,\n  5725,\n  5917,\n  6187,\n  6478,\n  6894,\n  7883,\n  7900,\n  7910,\n  8304,\n  8456,\n  9833,\n  9858,\n  9894,\n  9949,\n  10079,\n  11031,\n  11051,\n  11086,\n  11978,\n  12454,\n  12567,\n  12574,\n  12585,\n  12799,\n  12843,\n  13158,\n  13314,\n  13506,\n  13610,\n  13836,\n  13903,\n  14019,\n  14933,\n  14934,\n  14935,\n  15076,\n  15160,\n  15185,\n  15204,\n  15610,\n  15733,\n  15735,\n  15736,\n  15737,\n  15738,\n  15777,\n  15846,\n  15861,\n  15863,\n  16882,\n  16897,\n  16943,\n  17723,\n  17836,\n  17855,\n  17856,\n  17928,\n  18321,\n  18322,\n  18353,\n  18582,\n  18608,\n  19290,\n  19292,\n  19293,\n  19574,\n  19784,\n  19785,\n  19786,\n  19946,\n  20078,\n  20465,\n  20466],\n [4275,\n  4441,\n  4442,\n  4443,\n  4444,\n  4480,\n  4646,\n  4658,\n  4801,\n  4837,\n  6284,\n  7051,\n  7059,\n  7497,\n  8834,\n  8835,\n  8838,\n  9102,\n  9103,\n  9147,\n  9152,\n  9154,\n  9224,\n  9234,\n  9401,\n  9404,\n  10247,\n  10252,\n  10591,\n  10602,\n  10654,\n  13059,\n  13060,\n  13064,\n  13072,\n  13073,\n  13631,\n  13863,\n  14541,\n  14542,\n  14543,\n  14544,\n  14547,\n  14617,\n  14653,\n  14796,\n  15208,\n  16142,\n  16781,\n  16782,\n  16783,\n  16785,\n  16906,\n  16956,\n  16957,\n  16958,\n  16959,\n  16984,\n  17143,\n  17936,\n  18308,\n  18478,\n  18565,\n  19007,\n  19105,\n  19352,\n  19364,\n  19446,\n  19447,\n  19499,\n  19884,\n  19904,\n  19905,\n  19913,\n  19941,\n  19944,\n  19984,\n  19987,\n  19988,\n  20188],\n [2212,\n  2577,\n  2710,\n  3146,\n  3206,\n  3253,\n  3912,\n  4340,\n  5050,\n  5497,\n  5742,\n  6791,\n  6849,\n  7297,\n  7832,\n  7834,\n  7842,\n  7844,\n  7847,\n  7848,\n  7850,\n  7851,\n  7853,\n  7854,\n  7856,\n  7858,\n  7860,\n  7862,\n  7863,\n  7864,\n  7865,\n  7866,\n  7867,\n  7869,\n  7870,\n  7871,\n  7872,\n  7873,\n  7874,\n  7875,\n  7876,\n  8001,\n  8221,\n  8363,\n  8818,\n  9620,\n  9883,\n  9885,\n  10071,\n  10073,\n  10074,\n  10083,\n  10084,\n  10085,\n  10086,\n  10529,\n  10556,\n  11255,\n  11552,\n  11601,\n  11638,\n  12150,\n  12579,\n  12826,\n  13407,\n  13858,\n  14415,\n  15252,\n  15456,\n  15540,\n  15978,\n  15984,\n  16034,\n  16504,\n  17577,\n  17581,\n  17582,\n  17585,\n  19575],\n [1032,\n  1400,\n  2595,\n  983,\n  3121,\n  3542,\n  2938,\n  3193,\n  924,\n  2391,\n  2401,\n  2610,\n  2655,\n  3044,\n  3323,\n  3412,\n  3540,\n  3549,\n  4172,\n  5844,\n  6077,\n  7150,\n  7468,\n  7555,\n  7556,\n  8189,\n  8199,\n  8303,\n  8307,\n  8308,\n  8369,\n  8370,\n  8371,\n  8457,\n  9486,\n  9506,\n  9547,\n  9560,\n  9598,\n  9851,\n  9857,\n  9863,\n  9865,\n  9969,\n  10151,\n  10668,\n  11195,\n  11197,\n  11254,\n  11987,\n  12005,\n  12024,\n  12033,\n  12177,\n  12580,\n  12581,\n  12838,\n  12864,\n  12878,\n  12882,\n  12886,\n  12887,\n  12888,\n  13049,\n  13205,\n  13491,\n  13905,\n  13909,\n  14005,\n  14006,\n  14297,\n  14864,\n  15068,\n  15097,\n  15489,\n  15990,\n  18152],\n [2592,\n  3456,\n  4613,\n  4978,\n  5097,\n  5153,\n  5264,\n  5320,\n  5389,\n  5645,\n  5952,\n  6244,\n  6312,\n  7137,\n  7254,\n  7409,\n  7757,\n  8273,\n  8285,\n  9408,\n  9856,\n  9920,\n  10082,\n  10374,\n  10551,\n  10552,\n  10555,\n  10557,\n  10561,\n  10564,\n  10566,\n  10824,\n  10831,\n  10981,\n  11257,\n  11636,\n  12050,\n  12236,\n  13315,\n  13783,\n  13904,\n  13989,\n  14007,\n  14118,\n  14263,\n  14893,\n  15099,\n  15362,\n  15550,\n  15551,\n  15635,\n  15638,\n  15783,\n  15790,\n  15793,\n  15796,\n  15800,\n  16029,\n  16043,\n  16203,\n  16919,\n  17019,\n  17030,\n  17599,\n  18050,\n  18095,\n  18239,\n  18771,\n  18805,\n  18955,\n  19116,\n  19243,\n  19357,\n  20102,\n  20122],\n [3058,\n  3120,\n  4173,\n  4303,\n  4333,\n  4334,\n  5356,\n  7341,\n  7372,\n  7415,\n  7489,\n  7613,\n  7859,\n  8066,\n  8275,\n  8294,\n  8954,\n  9070,\n  9099,\n  9589,\n  10098,\n  11732,\n  12189,\n  12190,\n  12191,\n  12281,\n  12818,\n  12830,\n  12857,\n  13027,\n  13028,\n  13029,\n  13033,\n  13036,\n  13038,\n  13039,\n  13040,\n  13854,\n  14273,\n  14276,\n  14278,\n  14284,\n  14288,\n  14292,\n  14293,\n  14294,\n  14295,\n  14296,\n  14615,\n  14711,\n  16111,\n  16184,\n  16347,\n  16350,\n  16351,\n  16849,\n  16850,\n  16851,\n  16852,\n  16963,\n  16964,\n  16965,\n  17240,\n  17241,\n  17242,\n  17243,\n  17244,\n  17611,\n  17613,\n  18147,\n  19802],\n [2066,\n  4650,\n  1657,\n  2029,\n  2217,\n  2650,\n  2976,\n  3538,\n  4083,\n  4445,\n  5379,\n  5778,\n  5878,\n  7906,\n  7914,\n  9044,\n  9219,\n  9860,\n  9862,\n  9895,\n  9911,\n  10378,\n  11983,\n  12159,\n  12533,\n  12841,\n  12851,\n  13070,\n  13210,\n  13707,\n  13832,\n  14963,\n  15108,\n  15730,\n  15739,\n  15901,\n  16178,\n  16179,\n  16487,\n  16542,\n  16576,\n  16592,\n  16746,\n  16896,\n  17215,\n  17216,\n  17250,\n  17251,\n  17286,\n  17724,\n  17726,\n  17947,\n  18236,\n  18297,\n  18474,\n  18702,\n  18734,\n  18820,\n  19086,\n  19121,\n  19291,\n  19351,\n  19367,\n  19368,\n  19510,\n  19963,\n  20159,\n  20342,\n  20343],\n [409,\n  524,\n  565,\n  702,\n  1618,\n  2626,\n  933,\n  1226,\n  1428,\n  1626,\n  1693,\n  1825,\n  1873,\n  2198,\n  2616,\n  2743,\n  2930,\n  3006,\n  3144,\n  3676,\n  3677,\n  3680,\n  3743,\n  3950,\n  4118,\n  4766,\n  4924,\n  4975,\n  5507,\n  5591,\n  5760,\n  6655,\n  7245,\n  7377,\n  7426,\n  8334,\n  8336,\n  8689,\n  8896,\n  9112,\n  9206,\n  9223,\n  9342,\n  9344,\n  9512,\n  9635,\n  10055,\n  10582,\n  10589,\n  10690,\n  11622,\n  11673,\n  11741,\n  12561,\n  13627,\n  13817,\n  13823,\n  13873,\n  14122,\n  14872,\n  15129,\n  15621,\n  16642,\n  17029,\n  18846,\n  19345,\n  19660,\n  19740],\n [3806,\n  4426,\n  842,\n  1337,\n  2128,\n  2000,\n  2941,\n  1837,\n  4840,\n  4845,\n  2435,\n  2286,\n  2686,\n  2798,\n  2827,\n  3190,\n  3420,\n  3606,\n  3917,\n  4022,\n  6102,\n  6186,\n  6261,\n  6302,\n  6305,\n  6324,\n  6537,\n  7567,\n  7588,\n  7619,\n  8492,\n  8815,\n  9128,\n  9213,\n  9233,\n  9648,\n  9879,\n  10054,\n  10659,\n  10662,\n  11198,\n  11228,\n  12014,\n  13398,\n  13413,\n  13416,\n  13419,\n  13517,\n  13743,\n  13801,\n  14011,\n  14290,\n  14657,\n  15339,\n  15503,\n  16856,\n  17627,\n  18132,\n  18202,\n  19820,\n  20365,\n  20411,\n  20425],\n [2234,\n  2300,\n  2394,\n  2441,\n  2496,\n  2501,\n  2517,\n  3255,\n  3569,\n  5177,\n  5234,\n  5347,\n  5873,\n  6211,\n  6216,\n  6227,\n  6307,\n  6308,\n  6335,\n  6337,\n  6347,\n  6348,\n  6349,\n  6364,\n  6368,\n  6379,\n  6393,\n  6407,\n  6420,\n  6437,\n  6446,\n  6510,\n  8130,\n  9042,\n  9043,\n  9526,\n  9944,\n  10280,\n  10283,\n  10291,\n  10299,\n  10326,\n  10334,\n  10336,\n  10345,\n  10817,\n  10820,\n  10854,\n  10867,\n  10893,\n  11961,\n  11970,\n  13655,\n  13888,\n  15775,\n  15835,\n  18120,\n  18165,\n  18714,\n  19065,\n  19512],\n [617,\n  4763,\n  1220,\n  1620,\n  1993,\n  2275,\n  2541,\n  2903,\n  3337,\n  3372,\n  3460,\n  3564,\n  4020,\n  4324,\n  4325,\n  4405,\n  4626,\n  6297,\n  7381,\n  7419,\n  8736,\n  8806,\n  8841,\n  11352,\n  11353,\n  11356,\n  11361,\n  11373,\n  11381,\n  11386,\n  11387,\n  11735,\n  12131,\n  12424,\n  12621,\n  12911,\n  14152,\n  14264,\n  14409,\n  14879,\n  15218,\n  15764,\n  16405,\n  16449,\n  16452,\n  17144,\n  17277,\n  17553,\n  17554,\n  17780,\n  17859,\n  18023,\n  18073,\n  18434,\n  19704],\n [1844,\n  4853,\n  1543,\n  2474,\n  3641,\n  3649,\n  5605,\n  6303,\n  6926,\n  8203,\n  8559,\n  8860,\n  8861,\n  9100,\n  9101,\n  9536,\n  9696,\n  9699,\n  9806,\n  9809,\n  11734,\n  13310,\n  13455,\n  13509,\n  13857,\n  13859,\n  13931,\n  14017,\n  14614,\n  14733,\n  14780,\n  14783,\n  15378,\n  15379,\n  15380,\n  15582,\n  15681,\n  16762,\n  17842,\n  18061,\n  18512,\n  18738,\n  18739,\n  18825,\n  18971,\n  19076,\n  19621,\n  19622,\n  19623,\n  19624,\n  19872,\n  19878,\n  20235,\n  20350,\n  20430],\n [788,\n  934,\n  1017,\n  1335,\n  1794,\n  2230,\n  2963,\n  3154,\n  3262,\n  3672,\n  3673,\n  3675,\n  3849,\n  4088,\n  7166,\n  8209,\n  8324,\n  9045,\n  9177,\n  9602,\n  9819,\n  10222,\n  10426,\n  11630,\n  12206,\n  12250,\n  13300,\n  13308,\n  13309,\n  13452,\n  13607,\n  13838,\n  13841,\n  13846,\n  13847,\n  13850,\n  13851,\n  13928,\n  14392,\n  15327,\n  15669,\n  15781,\n  16075,\n  16229,\n  16264,\n  16977,\n  17123,\n  18311,\n  18571,\n  18972,\n  19572,\n  19901,\n  19902,\n  20153],\n [846,\n  898,\n  1718,\n  4429,\n  206,\n  348,\n  610,\n  2150,\n  4384,\n  732,\n  4754,\n  2282,\n  2643,\n  4555,\n  5616,\n  14583,\n  17628,\n  19454,\n  1371,\n  2164,\n  3074,\n  3142,\n  3335,\n  3529,\n  3638,\n  3714,\n  3720,\n  3721,\n  3742,\n  4817,\n  5588,\n  5589,\n  6918,\n  9722,\n  10092,\n  10130,\n  11398,\n  11740,\n  11742,\n  12428,\n  12433,\n  13338,\n  13533,\n  13546,\n  14137,\n  14146,\n  14150,\n  14659,\n  15227,\n  15685,\n  17830,\n  19898,\n  20246,\n  2287],\n [836,\n  4430,\n  3654,\n  3701,\n  2095,\n  2457,\n  2775,\n  3266,\n  3988,\n  3990,\n  4353,\n  6178,\n  6970,\n  7750,\n  8553,\n  9077,\n  9083,\n  9239,\n  9413,\n  9773,\n  9801,\n  9807,\n  9808,\n  10810,\n  11223,\n  12038,\n  13557,\n  13558,\n  13560,\n  13564,\n  13565,\n  13567,\n  13570,\n  13572,\n  13573,\n  13574,\n  13576,\n  14008,\n  14010,\n  14012,\n  15602,\n  15605,\n  16764,\n  17753,\n  18160,\n  18240,\n  18241,\n  18242,\n  18400,\n  18510,\n  20435],\n [4568,\n  4569,\n  4570,\n  4571,\n  4572,\n  4573,\n  4574,\n  4575,\n  4576,\n  4577,\n  4578,\n  4579,\n  4580,\n  4581,\n  4810,\n  12562,\n  14539,\n  14545,\n  14860,\n  16186,\n  16606,\n  18975,\n  18976,\n  18977,\n  18978,\n  18979,\n  18981,\n  18982,\n  18983,\n  18984,\n  18985,\n  18987,\n  18988,\n  18989,\n  18990,\n  18991,\n  18992,\n  18993,\n  20000,\n  20285,\n  20286,\n  20287,\n  20288,\n  20289,\n  20290,\n  20291,\n  20292,\n  20293,\n  20294,\n  20295],\n [1281,\n  1287,\n  1311,\n  1389,\n  2344,\n  2178,\n  477,\n  1766,\n  2319,\n  2320,\n  2632,\n  2811,\n  3128,\n  3426,\n  5007,\n  5122,\n  5283,\n  5351,\n  5599,\n  5722,\n  5737,\n  5838,\n  5842,\n  5897,\n  5930,\n  5935,\n  5979,\n  5981,\n  6223,\n  6242,\n  6547,\n  7038,\n  7368,\n  7410,\n  7482,\n  7526,\n  7593,\n  7618,\n  7642,\n  7650,\n  7784,\n  9832,\n  10019,\n  10835,\n  12443,\n  13887,\n  13894,\n  17933],\n [2957,\n  4224,\n  5678,\n  5804,\n  5829,\n  5903,\n  5957,\n  6075,\n  6346,\n  6356,\n  7044,\n  7370,\n  9468,\n  9470,\n  9471,\n  9472,\n  9473,\n  9817,\n  10592,\n  13194,\n  13284,\n  13831,\n  13834,\n  13930,\n  14385,\n  14419,\n  14420,\n  14422,\n  14861,\n  15349,\n  15569,\n  16626,\n  16679,\n  16997,\n  17048,\n  17126,\n  17171,\n  18111,\n  18300,\n  18658,\n  18755,\n  19066,\n  19348,\n  19350,\n  19496,\n  19513,\n  19531],\n [655,\n  811,\n  2560,\n  689,\n  850,\n  899,\n  1636,\n  1963,\n  2187,\n  2479,\n  2547,\n  2549,\n  3176,\n  4404,\n  5330,\n  5447,\n  5598,\n  5712,\n  6200,\n  6447,\n  6569,\n  6570,\n  6574,\n  6702,\n  6891,\n  6914,\n  6915,\n  7062,\n  7515,\n  8742,\n  8977,\n  9541,\n  11581,\n  11585,\n  11726,\n  12089,\n  12791,\n  13449,\n  15511,\n  16864,\n  18451,\n  20326,\n  20424,\n  1417],\n [1064,\n  1435,\n  1720,\n  1787,\n  1745,\n  3943,\n  4146,\n  3463,\n  3464,\n  3465,\n  3794,\n  1785,\n  1788,\n  2834,\n  2839,\n  2840,\n  2843,\n  3075,\n  3466,\n  3621,\n  3729,\n  3732,\n  3789,\n  3790,\n  3871,\n  3872,\n  3875,\n  3884,\n  3890,\n  3894,\n  4071,\n  4143,\n  11377,\n  11384,\n  11393,\n  11397,\n  13357,\n  14269,\n  14492,\n  15789,\n  19224,\n  19396,\n  19676],\n [2602,\n  2518,\n  2658,\n  2671,\n  3353,\n  3860,\n  4186,\n  4352,\n  5847,\n  6082,\n  6218,\n  6224,\n  6255,\n  6363,\n  6391,\n  6993,\n  7220,\n  7508,\n  8133,\n  8711,\n  8772,\n  10214,\n  10246,\n  10321,\n  11452,\n  11453,\n  11461,\n  11586,\n  12401,\n  13051,\n  14281,\n  15633,\n  15634,\n  15899,\n  17228,\n  17738,\n  17840,\n  18008,\n  18466,\n  19081,\n  19082,\n  19083,\n  19358],\n [1385,\n  2050,\n  2153,\n  3359,\n  4865,\n  5310,\n  5365,\n  5563,\n  5571,\n  6567,\n  7483,\n  7498,\n  8004,\n  8068,\n  8730,\n  8731,\n  8808,\n  10537,\n  10701,\n  13714,\n  14080,\n  14081,\n  14082,\n  14083,\n  14084,\n  14086,\n  14087,\n  14089,\n  14091,\n  14092,\n  14093,\n  14095,\n  14096,\n  14099,\n  15542,\n  16450,\n  16451,\n  18029,\n  18030,\n  18350,\n  18862,\n  20422],\n [4686,\n  4782,\n  1285,\n  1088,\n  3216,\n  4675,\n  5651,\n  5656,\n  5676,\n  5689,\n  5950,\n  5977,\n  6220,\n  7071,\n  7129,\n  8076,\n  10285,\n  10630,\n  10799,\n  10837,\n  11034,\n  11049,\n  11057,\n  11072,\n  11073,\n  11089,\n  11114,\n  11117,\n  11121,\n  12833,\n  13431,\n  15578,\n  15865,\n  15911,\n  16426,\n  17003,\n  17076,\n  19462,\n  19464,\n  19652],\n [1264,\n  1413,\n  1414,\n  2788,\n  2790,\n  2998,\n  2999,\n  3568,\n  4370,\n  4911,\n  5292,\n  7082,\n  7110,\n  7142,\n  8393,\n  8394,\n  9025,\n  9952,\n  10096,\n  10384,\n  11168,\n  13656,\n  14098,\n  15159,\n  15731,\n  16222,\n  16506,\n  17261,\n  17646,\n  17656,\n  17663,\n  18164,\n  18341,\n  19259,\n  19260,\n  19270,\n  20158,\n  20250],\n [845,\n  3007,\n  3844,\n  4112,\n  4115,\n  6327,\n  6530,\n  8895,\n  8970,\n  9339,\n  9340,\n  9423,\n  9792,\n  9797,\n  9800,\n  10647,\n  10687,\n  11214,\n  13079,\n  13259,\n  14509,\n  14677,\n  14723,\n  15525,\n  15604,\n  16098,\n  16122,\n  16144,\n  16148,\n  16149,\n  16151,\n  16152,\n  17763,\n  18223,\n  18281,\n  20101,\n  20272,\n  16135],\n [821,\n  2438,\n  2464,\n  2694,\n  2695,\n  3199,\n  3200,\n  5429,\n  5610,\n  5613,\n  5626,\n  6340,\n  6361,\n  7061,\n  8959,\n  10140,\n  10143,\n  12913,\n  12947,\n  12948,\n  12953,\n  14040,\n  14050,\n  14053,\n  14183,\n  14184,\n  14185,\n  14186,\n  14187,\n  14188,\n  14189,\n  14190,\n  14191,\n  14192,\n  15506,\n  16736,\n  20242],\n [2917,\n  2314,\n  2567,\n  3023,\n  3356,\n  3718,\n  4672,\n  4722,\n  5604,\n  6139,\n  6777,\n  7455,\n  8044,\n  8067,\n  8824,\n  8910,\n  9325,\n  9603,\n  9804,\n  9868,\n  11210,\n  11219,\n  12634,\n  13080,\n  13599,\n  14664,\n  16501,\n  16502,\n  18382,\n  18585,\n  19129,\n  19798,\n  20213,\n  20253,\n  20467],\n [1068,\n  1810,\n  1687,\n  2797,\n  3959,\n  4350,\n  4409,\n  5284,\n  6864,\n  7575,\n  7589,\n  8290,\n  8438,\n  10125,\n  11400,\n  12411,\n  12519,\n  14518,\n  14519,\n  14766,\n  15767,\n  18632,\n  20302,\n  2056,\n  2563,\n  9350,\n  9394,\n  10124,\n  13753,\n  15126,\n  15447,\n  15462,\n  15481,\n  16316],\n [2877,\n  3170,\n  7135,\n  7143,\n  7152,\n  7153,\n  7160,\n  8023,\n  8362,\n  8368,\n  8704,\n  9222,\n  9545,\n  9548,\n  10751,\n  12817,\n  12829,\n  13248,\n  14811,\n  16193,\n  17079,\n  17080,\n  17081,\n  17218,\n  17219,\n  17220,\n  17221,\n  17222,\n  17223,\n  17224,\n  17225,\n  17226,\n  17227],\n [1509,\n  2452,\n  3561,\n  4158,\n  4177,\n  5938,\n  6080,\n  6578,\n  6751,\n  6787,\n  8009,\n  8048,\n  8470,\n  10567,\n  11405,\n  11831,\n  12079,\n  12754,\n  13665,\n  13756,\n  13987,\n  13998,\n  16181,\n  16182,\n  16183,\n  17128,\n  17129,\n  17570,\n  18124,\n  18200,\n  19271,\n  19836,\n  20090],\n [957,\n  2337,\n  3083,\n  3683,\n  4586,\n  6334,\n  6707,\n  6712,\n  6735,\n  7880,\n  8505,\n  9608,\n  9756,\n  10356,\n  10852,\n  13053,\n  14858,\n  14944,\n  14951,\n  15116,\n  16891,\n  17075,\n  17848,\n  18096,\n  19611,\n  19613,\n  20019,\n  2303,\n  3740,\n  10675,\n  11070,\n  17032],\n [2590,\n  3427,\n  6063,\n  8743,\n  10565,\n  10796,\n  12565,\n  12820,\n  12866,\n  13171,\n  13211,\n  13213,\n  13214,\n  13215,\n  13237,\n  13839,\n  13843,\n  13844,\n  13848,\n  13853,\n  13992,\n  14952,\n  15523,\n  16895,\n  17124,\n  18347,\n  18618,\n  19131,\n  19287],\n [1025,\n  1026,\n  2715,\n  2718,\n  2722,\n  2723,\n  2724,\n  2725,\n  2726,\n  2728,\n  2729,\n  2730,\n  2731,\n  3375,\n  3376,\n  3377,\n  3378,\n  3379,\n  3380,\n  3382,\n  3383,\n  3384,\n  3385,\n  3386,\n  3387,\n  3388,\n  3389],\n [2604,\n  3343,\n  6271,\n  6673,\n  7012,\n  7083,\n  7156,\n  7157,\n  8206,\n  8211,\n  10069,\n  10272,\n  11745,\n  13742,\n  14573,\n  15927,\n  16817,\n  17020,\n  17629,\n  17630,\n  17636,\n  17640,\n  17647,\n  17648,\n  17679,\n  17695,\n  20386],\n [1869,\n  1891,\n  4197,\n  9390,\n  11372,\n  13271,\n  14155,\n  14163,\n  14928,\n  15305,\n  15308,\n  15442,\n  15998,\n  16071,\n  16250,\n  16272,\n  16285,\n  16301,\n  17777,\n  18286,\n  18833,\n  18879,\n  19151,\n  19319,\n  19391,\n  19451,\n  19452],\n [1118,\n  1646,\n  1655,\n  1701,\n  1800,\n  1849,\n  1897,\n  1934,\n  3509,\n  3558,\n  3761,\n  3762,\n  3930,\n  3931,\n  3932,\n  3934,\n  3937,\n  3938,\n  3939,\n  4139,\n  4223,\n  4299,\n  4627,\n  3650,\n  4160],\n [581,\n  1270,\n  1699,\n  2203,\n  2453,\n  4380,\n  4390,\n  4395,\n  4940,\n  6222,\n  9813,\n  10784,\n  13290,\n  13638,\n  17953,\n  17966,\n  17967,\n  17977,\n  17989,\n  17998,\n  18031,\n  2561,\n  2579],\n [3350,\n  2776,\n  5445,\n  6061,\n  6875,\n  7361,\n  11027,\n  11475,\n  11487,\n  11490,\n  11493,\n  11494,\n  11496,\n  11497,\n  11499,\n  11500,\n  12082,\n  12741,\n  15197,\n  16557,\n  17938,\n  20088,\n  20089],\n [3900,\n  1441,\n  2594,\n  3321,\n  3354,\n  4726,\n  5367,\n  7553,\n  8051,\n  8529,\n  11184,\n  11518,\n  11520,\n  11522,\n  12925,\n  13614,\n  14259,\n  15515,\n  16185,\n  18299,\n  19705,\n  20226],\n [4849,\n  2414,\n  2246,\n  2714,\n  6857,\n  8726,\n  8998,\n  9056,\n  9524,\n  10906,\n  12077,\n  12188,\n  13436,\n  13611,\n  13724,\n  13725,\n  16899,\n  16952,\n  16954,\n  19344,\n  19931,\n  20433],\n [1762,\n  1764,\n  2206,\n  3626,\n  4385,\n  4389,\n  4955,\n  5193,\n  10119,\n  11703,\n  12194,\n  13363,\n  13385,\n  13659,\n  14635,\n  14639,\n  14640,\n  17773,\n  17986,\n  17995,\n  17996,\n  18027],\n [2814,\n  2910,\n  3948,\n  4332,\n  4399,\n  6329,\n  6736,\n  6737,\n  6738,\n  6755,\n  6851,\n  7533,\n  7599,\n  7827,\n  9435,\n  11543,\n  12087,\n  12434,\n  16031,\n  16032,\n  16368,\n  18118],\n [3864,\n  3951,\n  5164,\n  5165,\n  5201,\n  5205,\n  5250,\n  5263,\n  5275,\n  5288,\n  5297,\n  5298,\n  5405,\n  10357,\n  13165,\n  16309,\n  17306,\n  18719,\n  19562,\n  19563,\n  20044],\n [3989,\n  6206,\n  8868,\n  9231,\n  10900,\n  12008,\n  13056,\n  13874,\n  15876,\n  17945,\n  17949,\n  18513,\n  18592,\n  19654,\n  19754,\n  19799,\n  19923,\n  19948,\n  19976,\n  19993,\n  20474],\n [2333,\n  2383,\n  2992,\n  2993,\n  3180,\n  4488,\n  9209,\n  9210,\n  9211,\n  9212,\n  18502,\n  18505,\n  18507,\n  18590,\n  18962,\n  18964,\n  18965,\n  18966,\n  18968,\n  18969],\n [3489,\n  1623,\n  5115,\n  5317,\n  6994,\n  7056,\n  9859,\n  10700,\n  11682,\n  12330,\n  13332,\n  13373,\n  15195,\n  16559,\n  17534,\n  17542,\n  17543,\n  18573,\n  19774],\n [3693,\n  4283,\n  4560,\n  4561,\n  4562,\n  4563,\n  4564,\n  4617,\n  4952,\n  8801,\n  8904,\n  8905,\n  9117,\n  9195,\n  9717,\n  10872,\n  12613,\n  16223,\n  17823],\n [4923,\n  11509,\n  11514,\n  11515,\n  12458,\n  13424,\n  13425,\n  13426,\n  17595,\n  18206,\n  18207,\n  18208,\n  18209,\n  18210,\n  18313,\n  18314,\n  18315,\n  18316,\n  18770],\n [3118,\n  3307,\n  4180,\n  5401,\n  6011,\n  6764,\n  7299,\n  11074,\n  11163,\n  12555,\n  13137,\n  14283,\n  14735,\n  14756,\n  16960,\n  18469,\n  18470,\n  18604],\n [3320,\n  5137,\n  7134,\n  8688,\n  9004,\n  9824,\n  10093,\n  11135,\n  11657,\n  11950,\n  13157,\n  13160,\n  13184,\n  13437,\n  13628,\n  15869,\n  17725,\n  18485],\n [3173,\n  3705,\n  5891,\n  6362,\n  7115,\n  7126,\n  7828,\n  7835,\n  12955,\n  14421,\n  14668,\n  14670,\n  15992,\n  17017,\n  17747,\n  18110,\n  18112,\n  18798],\n [1375,\n  1881,\n  2043,\n  3368,\n  3452,\n  3508,\n  3623,\n  3624,\n  3744,\n  3916,\n  3961,\n  4154,\n  4331,\n  4351,\n  4529,\n  3250,\n  3910],\n [1426,\n  2822,\n  3249,\n  3251,\n  3252,\n  5364,\n  8522,\n  8732,\n  10896,\n  12722,\n  16596,\n  16597,\n  16598,\n  16599,\n  16600,\n  16601,\n  16602],\n [2766,\n  3479,\n  3480,\n  3484,\n  4185,\n  4504,\n  8220,\n  8842,\n  8963,\n  9071,\n  9072,\n  12582,\n  16893,\n  16894,\n  18218,\n  18715,\n  20248],\n [7054,\n  9605,\n  9697,\n  9900,\n  9967,\n  10401,\n  12853,\n  13774,\n  16443,\n  17002,\n  19067,\n  19068,\n  19069,\n  19814,\n  19817,\n  20406,\n  20409],\n [15293,\n  15294,\n  15295,\n  15296,\n  17086,\n  17748,\n  18491,\n  18492,\n  20079,\n  20080,\n  20081,\n  20082,\n  20083,\n  20084,\n  20085,\n  20086,\n  20087],\n [1520,\n  8791,\n  14300,\n  14302,\n  14305,\n  14307,\n  14312,\n  17309,\n  17310,\n  17311,\n  17312,\n  17313,\n  17314,\n  18450,\n  19354,\n  19356],\n [1664,\n  2846,\n  2868,\n  3493,\n  3511,\n  3887,\n  3944,\n  4089,\n  9173,\n  16304,\n  16682,\n  16971,\n  17969,\n  17973,\n  17999,\n  18724],\n [3119,\n  3896,\n  3897,\n  3898,\n  6150,\n  7179,\n  9483,\n  9543,\n  10569,\n  10691,\n  12837,\n  12883,\n  15768,\n  16900,\n  19843,\n  20426],\n [1645,\n  2271,\n  3047,\n  3328,\n  4372,\n  5698,\n  6124,\n  6209,\n  7174,\n  8274,\n  8514,\n  8539,\n  10849,\n  12170,\n  13497,\n  15220],\n [2556,\n  6210,\n  8507,\n  9615,\n  10754,\n  10807,\n  10850,\n  11059,\n  11232,\n  12573,\n  12813,\n  14473,\n  18473,\n  18475,\n  18609,\n  18797],\n [3746,\n  3913,\n  5269,\n  8320,\n  9060,\n  9365,\n  9369,\n  9510,\n  9590,\n  12049,\n  15303,\n  15304,\n  15309,\n  17598,\n  17997,\n  18782],\n [3123,\n  1517,\n  3097,\n  3185,\n  5455,\n  7149,\n  7339,\n  8160,\n  9214,\n  10337,\n  11458,\n  13249,\n  16946,\n  18795,\n  19498],\n [4448,\n  4912,\n  4913,\n  4914,\n  9694,\n  10825,\n  12606,\n  13186,\n  14001,\n  14754,\n  15703,\n  15705,\n  15719,\n  19664,\n  19942],\n [11557,\n  11559,\n  17100,\n  17101,\n  18679,\n  19249,\n  19250,\n  19251,\n  19252,\n  19253,\n  19254,\n  19255,\n  19256,\n  19257,\n  19258],\n [2087,\n  4693,\n  4694,\n  5841,\n  6499,\n  7397,\n  7414,\n  8171,\n  10851,\n  14149,\n  16225,\n  18094,\n  19172,\n  19245,\n  19330],\n [881,\n  5936,\n  7523,\n  2308,\n  3298,\n  4382,\n  4982,\n  5672,\n  5745,\n  6158,\n  8119,\n  14865,\n  15627,\n  16562],\n [3773,\n  4000,\n  5148,\n  9711,\n  13390,\n  15194,\n  15784,\n  15785,\n  15792,\n  15799,\n  17284,\n  17285,\n  18167,\n  19781],\n [1989,\n  3431,\n  3659,\n  3848,\n  4498,\n  4502,\n  9705,\n  12963,\n  13534,\n  15141,\n  16053,\n  16398,\n  18542,\n  18777],\n [5439,\n  6057,\n  8540,\n  9592,\n  9997,\n  11958,\n  11971,\n  12890,\n  13569,\n  15689,\n  16346,\n  18145],\n [763,\n  1784,\n  2853,\n  3876,\n  14075,\n  14729,\n  17775,\n  18835,\n  7199,\n  12552,\n  14701,\n  16290],\n [1557, 2428, 3198, 3554, 3566, 4936, 8310, 8898, 12034, 12792, 15528, 17621],\n [1700,\n  2299,\n  9770,\n  10916,\n  10997,\n  11103,\n  11105,\n  11125,\n  11158,\n  15673,\n  17125,\n  18657],\n [2578, 4341, 3217, 1277, 1300, 1283, 5872, 6226, 13895, 13896, 18476],\n [2388, 4260, 4618, 6558, 6562, 6697, 8116, 15782, 18572, 19808, 19809],\n [839, 1980, 2220, 2744, 2747, 4187, 7905, 8461, 8901, 15922, 18659],\n [17292, 17293, 18216, 18217, 18289, 18290, 18291, 18292, 18293, 20216, 20394],\n [2557, 3532, 3855, 6376, 6927, 12816, 13446, 14315, 15287, 17574, 17576],\n [6929, 7302, 9693, 9747, 13642, 16857, 16920, 17837, 18752, 20141, 20201],\n [2538, 4189, 6879, 6904, 11692, 12187, 15554, 16454, 17603, 20212],\n [2195, 3966, 4133, 4287, 5306, 9700, 11669, 17772, 18375, 18376],\n [3635, 4126, 4804, 8070, 8893, 8971, 17138, 18326, 19268, 20239],\n [2780, 9887, 10952, 11127, 13269, 20014, 20015, 20016, 20017, 20397],\n [2315, 3158, 5279, 9520, 10580, 10986, 11116, 11627, 17939, 17941],\n [5578, 5582, 5583, 8678, 8778, 11725, 12407, 12938, 12946, 12949],\n [4307, 4398, 7789, 8747, 11596, 12080, 14034, 14357, 16953, 18025],\n [3965, 5257, 5299, 9048, 10889, 15697, 18232, 18233, 18234, 19581],\n [9905, 12399, 15219, 15810, 15811, 18317, 18318, 18319, 18320],\n [4119, 6371, 7145, 11010, 11077, 15183, 15723, 19327, 20006],\n [6909, 7407, 7535, 8035, 8277, 13584, 13750, 13762, 19443],\n [9020, 9021, 9022, 9023, 9024, 12135, 12923, 16812, 17263],\n [2323, 2486, 2906, 3294, 3363, 5796, 5884, 6492, 10863],\n [8722, 12060, 12061, 18377, 18464, 19517, 20353, 20354, 20427],\n [2701, 2825, 3726, 5381, 11527, 16039, 18253, 18339, 18832],\n [2611, 9904, 10253, 11109, 14749, 15696, 15912, 16190, 16790],\n [4087, 4094, 10145, 13222, 13705, 15534, 16069, 16153, 19612],\n [4431, 6190, 9098, 12149, 13634, 18490, 19376, 19592, 20461],\n [2601, 2706, 5396, 5438, 8327, 9564, 9897, 16389],\n [2088, 3997, 5318, 9175, 15306, 15802, 15880, 19182],\n [13440, 13443, 13444, 15744, 17607, 18446, 19195, 19924],\n [3150, 3151, 7172, 10224, 10226, 10227, 10228, 10229],\n [2785, 5615, 5634, 7631, 7919, 13044, 16890, 17744],\n [8092, 9179, 9853, 10689, 10892, 14954, 19620],\n [5517, 10368, 12487, 15130, 15761, 16226, 18864],\n [5475, 13501, 13503, 13643, 13740, 17069, 18274],\n [2836, 4636, 9185, 17798, 17968, 19957, 19960],\n [9360, 16928, 18428, 18716, 19146, 19453, 20098],\n [13450, 17127, 17275, 18285, 19112, 19366, 19994],\n [2570, 9940, 12011, 12012, 12013, 19577],\n [3686, 9550, 13915, 13917, 13919, 15157],\n [2411, 3371, 5550, 5554, 9846, 14964],\n [5696, 6213, 7463, 9455, 13238, 19349],\n [6882, 9527, 14866, 18348, 18349, 20458],\n [7362, 7402, 8417, 13923, 16911, 17335],\n [2713, 7334, 7460, 8335, 15372, 17328],\n [4994, 5114, 6826, 12482, 15307, 16711],\n [3581, 12700, 12731, 14395, 20352],\n [2277, 5074, 12042, 14055, 16063],\n [2236, 2465, 6290, 6382, 16797],\n [4477, 8867, 9878, 18467, 20255],\n [2408, 6153, 12415, 13202, 16145],\n [9761, 13993, 18238, 18784, 19665],\n [4397, 4584, 13924, 15240, 17331],\n [12394, 15812, 17047, 17146, 17147],\n [2245, 2266, 5108, 5131, 5958],\n [3660, 9011, 10902, 15100],\n [1568, 8937, 8938, 14927],\n [5160, 5398, 6840, 7356],\n [2447, 2880, 10806, 10819],\n [7052, 7802, 9221, 17729],\n [2182, 5807, 10877, 10934],\n [1689, 19188, 3777, 17984],\n [8444, 13177, 13828, 18222],\n [6398, 6555, 17237, 19729],\n [11691, 12827, 13835, 20214],\n [3340, 5558, 8846, 10396],\n [18246, 18443, 19822, 19828],\n [2550, 4263, 4264],\n [8147, 10884, 19102],\n [4241, 8942, 15459],\n [5973, 9618, 14778],\n [8138, 11963, 13671],\n [4478, 5198, 16070],\n [8533, 19382, 20203],\n [8554, 15421, 16825],\n [10830, 10887, 18967],\n [3040, 9582, 13852],\n [8252, 8254, 9891],\n [1367, 2262, 6881],\n [5659, 13435],\n [5501, 9040],\n [2478, 20240],\n [2961, 9108],\n [5531, 7017],\n [9632, 19932],\n [3195, 4806],\n [4355, 17845],\n [11819, 17589],\n [5801, 8526],\n [17268],\n [19771],\n [9523]]"
     },
     "execution_count": 87,
     "metadata": {},
     "output_type": "execute_result"
    }
   ],
   "source": [
    "wt_coms.communities\n"
   ],
   "metadata": {
    "collapsed": false,
    "pycharm": {
     "name": "#%%\n"
    }
   }
  },
  {
   "cell_type": "code",
   "execution_count": 88,
   "outputs": [
    {
     "data": {
      "text/plain": "[0,\n 1,\n 3,\n 4,\n 5,\n 6,\n 10,\n 12,\n 14,\n 15,\n 22,\n 23,\n 25,\n 26,\n 28,\n 33,\n 34,\n 35,\n 40,\n 42,\n 44,\n 46,\n 49,\n 59,\n 61,\n 62,\n 81,\n 84,\n 86,\n 88,\n 89,\n 91,\n 92,\n 100,\n 109,\n 110,\n 112,\n 127,\n 130,\n 135,\n 137,\n 138,\n 144,\n 148,\n 150,\n 152,\n 153,\n 161,\n 171,\n 173,\n 176,\n 178,\n 180,\n 181,\n 188,\n 192,\n 208,\n 212,\n 222,\n 234,\n 242,\n 245,\n 248,\n 250,\n 253,\n 260,\n 262,\n 269,\n 270,\n 271,\n 278,\n 290,\n 308,\n 318,\n 319,\n 321,\n 323,\n 324,\n 325,\n 326,\n 329,\n 342,\n 345,\n 350,\n 352,\n 354,\n 367,\n 374,\n 380,\n 383,\n 418,\n 420,\n 443,\n 472,\n 476,\n 482,\n 483,\n 502,\n 504,\n 505,\n 507,\n 512,\n 533,\n 551,\n 556,\n 560,\n 561,\n 572,\n 574,\n 575,\n 577,\n 578,\n 579,\n 580,\n 582,\n 600,\n 611,\n 620,\n 633,\n 641,\n 644,\n 653,\n 654,\n 660,\n 661,\n 666,\n 690,\n 691,\n 695,\n 709,\n 740,\n 753,\n 769,\n 824,\n 825,\n 828,\n 832,\n 882,\n 884,\n 886,\n 925,\n 932,\n 954,\n 964,\n 1024,\n 1041,\n 1044,\n 1055,\n 1062,\n 1066,\n 1078,\n 1087,\n 1092,\n 1170,\n 1222,\n 1237,\n 1238,\n 1248,\n 1262,\n 1269,\n 1273,\n 1284,\n 1295,\n 1307,\n 1312,\n 1323,\n 1334,\n 1345,\n 1359,\n 1377,\n 1387,\n 1408,\n 1425,\n 1454,\n 1468,\n 1511,\n 1513,\n 1514,\n 1542,\n 1552,\n 1559,\n 1595,\n 1601,\n 1602,\n 1606,\n 1609,\n 1628,\n 1637,\n 1638,\n 1656,\n 1659,\n 1702,\n 1708,\n 1711,\n 1712,\n 1713,\n 1719,\n 1791,\n 1813,\n 1868,\n 1959,\n 1976,\n 1978,\n 1979,\n 2020,\n 2027,\n 2090,\n 2125,\n 2131,\n 2154,\n 2161,\n 2188,\n 2225,\n 2232,\n 2257,\n 2274,\n 2306,\n 2330,\n 2371,\n 2380,\n 2381,\n 2399,\n 2430,\n 2431,\n 2440,\n 2446,\n 2574,\n 2585,\n 2600,\n 2612,\n 2668,\n 2681,\n 2741,\n 2786,\n 2816,\n 2874,\n 2888,\n 2929,\n 2932,\n 3022,\n 3037,\n 3072,\n 3145,\n 3159,\n 3179,\n 3197,\n 3212,\n 3223,\n 3227,\n 3274,\n 3277,\n 3303,\n 3365,\n 3398,\n 3399,\n 3416,\n 3424,\n 3603,\n 3681,\n 3682,\n 3684,\n 3707,\n 3709,\n 3787,\n 3792,\n 3811,\n 3985,\n 4001,\n 4014,\n 4023,\n 4033,\n 4061,\n 4090,\n 4365,\n 4408,\n 4550,\n 4676,\n 4677,\n 4701,\n 4757,\n 4805,\n 4935,\n 5091,\n 5142,\n 5147,\n 5243,\n 5268,\n 5411,\n 5437,\n 5488,\n 5543,\n 5544,\n 5931,\n 5990,\n 5993,\n 6035,\n 6041,\n 6058,\n 6076,\n 6088,\n 6096,\n 6097,\n 6234,\n 6276,\n 6378,\n 6469,\n 6485,\n 6734,\n 6748,\n 7053,\n 7343,\n 7507,\n 7621,\n 7629,\n 8018,\n 8143,\n 8176,\n 8182,\n 8291,\n 8314,\n 8517,\n 8532,\n 8725,\n 9194,\n 9551,\n 9631,\n 9752,\n 9755,\n 9805,\n 9922,\n 9929,\n 10017,\n 10377,\n 10600,\n 10696,\n 10822,\n 10923,\n 10944,\n 11060,\n 11066,\n 11153,\n 11183,\n 11511,\n 11546,\n 11555,\n 11563,\n 11565,\n 11595,\n 11600,\n 11637,\n 11722,\n 12037,\n 12179,\n 12339,\n 12679,\n 13058,\n 13119,\n 13130,\n 13256,\n 13261,\n 13262,\n 13409,\n 13430,\n 13458,\n 13590,\n 13818,\n 13864,\n 13877,\n 13892,\n 13893,\n 13898,\n 13900,\n 13994,\n 14036,\n 14044,\n 14154,\n 14286,\n 14443,\n 14510,\n 14511,\n 14512,\n 14514,\n 14521,\n 14522,\n 14524,\n 14525,\n 14526,\n 14527,\n 14528,\n 14709,\n 14757,\n 14876,\n 15094,\n 15245,\n 15404,\n 15549,\n 15677,\n 15913,\n 15928,\n 16023,\n 16745,\n 16803,\n 16974,\n 16976,\n 17141,\n 17142,\n 17593,\n 17920,\n 17942,\n 18427,\n 19779,\n 20147,\n 20230,\n 20387,\n 76,\n 124,\n 151,\n 159,\n 175,\n 201,\n 246,\n 252,\n 292,\n 293,\n 296,\n 307,\n 310,\n 322,\n 422,\n 447,\n 448,\n 459,\n 470,\n 471,\n 473,\n 486,\n 492,\n 503,\n 519,\n 547,\n 548,\n 562,\n 570,\n 584,\n 631,\n 643,\n 645,\n 646,\n 652,\n 656,\n 658,\n 663,\n 667,\n 670,\n 672,\n 686,\n 700,\n 705,\n 713,\n 716,\n 734,\n 745,\n 750,\n 751,\n 790,\n 799,\n 802,\n 818,\n 823,\n 829,\n 831,\n 837,\n 838,\n 841,\n 844,\n 848,\n 852,\n 871,\n 874,\n 883,\n 889,\n 895,\n 910,\n 916,\n 923,\n 927,\n 931,\n 956,\n 959,\n 977,\n 981,\n 988,\n 1003,\n 1005,\n 1029,\n 1043,\n 1054,\n 1056,\n 1083,\n 1086,\n 1094,\n 1095,\n 1099,\n 1101,\n 1106,\n 1107,\n 1113,\n 1114,\n 1123,\n 1140,\n 1143,\n 1171,\n 1183,\n 1186,\n 1216,\n 1219,\n 1221,\n 1225,\n 1228,\n 1239,\n 1250,\n 1253,\n 1279,\n 1280,\n 1288,\n 1289,\n 1313,\n 1315,\n 1321,\n 1326,\n 1327,\n 1362,\n 1372,\n 1395,\n 1402,\n 1423,\n 1465,\n 1490,\n 1512,\n 1516,\n 1519,\n 1526,\n 1536,\n 1541,\n 1554,\n 1575,\n 1584,\n 1586,\n 1604,\n 1607,\n 1617,\n 1624,\n 1633,\n 1662,\n 1705,\n 1716,\n 1729,\n 1768,\n 1826,\n 1833,\n 1834,\n 1836,\n 1847,\n 1851,\n 1854,\n 1863,\n 1909,\n 1916,\n 1964,\n 1969,\n 1977,\n 1992,\n 2004,\n 2009,\n 2022,\n 2025,\n 2031,\n 2032,\n 2098,\n 2113,\n 2116,\n 2127,\n 2129,\n 2143,\n 2149,\n 2157,\n 2174,\n 2175,\n 2184,\n 2190,\n 2191,\n 2219,\n 2223,\n 2227,\n 2228,\n 2231,\n 2237,\n 2249,\n 2272,\n 2278,\n 2290,\n 2327,\n 2360,\n 2372,\n 2384,\n 2385,\n 2387,\n 2395,\n 2413,\n 2416,\n 2417,\n 2429,\n 2433,\n 2456,\n 2460,\n 2462,\n 2463,\n 2466,\n 2469,\n 2475,\n 2488,\n 2498,\n 2510,\n 2568,\n 2572,\n 2583,\n 2586,\n 2623,\n 2649,\n 2683,\n 2754,\n 2759,\n 2762,\n 2777,\n 2781,\n 2818,\n 2884,\n 2904,\n 2919,\n 2922,\n 2931,\n 2933,\n 2958,\n 3004,\n 3032,\n 3035,\n 3052,\n 3053,\n 3054,\n 3056,\n 3061,\n 3068,\n 3069,\n 3094,\n 3095,\n 3099,\n 3101,\n 3105,\n 3112,\n 3116,\n 3122,\n 3125,\n 3127,\n 3129,\n 3133,\n 3138,\n 3169,\n 3174,\n 3178,\n 3181,\n 3186,\n 3187,\n 3237,\n 3260,\n 3261,\n 3267,\n 3268,\n 3269,\n 3271,\n 3306,\n 3322,\n 3329,\n 3342,\n 3395,\n 3403,\n 3406,\n 3409,\n 3414,\n 3421,\n 3468,\n 3492,\n 3521,\n 3539,\n 3548,\n 3550,\n 3551,\n 3583,\n 3595,\n 3653,\n 3656,\n 3678,\n 3703,\n 3765,\n 3796,\n 3797,\n 3808,\n 3821,\n 3862,\n 3899,\n 3962,\n 3982,\n 3992,\n 4002,\n 4005,\n 4006,\n 4024,\n 4025,\n 4034,\n 4041,\n 4043,\n 4047,\n 4055,\n 4081,\n 4100,\n 4107,\n 4109,\n 4110,\n 4116,\n 4162,\n 4175,\n 4253,\n 4259,\n 4270,\n 4274,\n 4291,\n 4302,\n 4358,\n 4361,\n 4362,\n 4363,\n 4366,\n 4381,\n 4419,\n 4421,\n 4451,\n 4461,\n 4487,\n 4497,\n 4542,\n 4603,\n 4605,\n 4655,\n 4670,\n 4684,\n 4690,\n 4691,\n 4697,\n 4724,\n 4737,\n 4756,\n 4764,\n 4792,\n 4795,\n 4796,\n 4843,\n 4867,\n 4907,\n 4993,\n 5200,\n 5225,\n 5262,\n 5353,\n 5384,\n 5386,\n 5395,\n 5441,\n 5458,\n 5468,\n 5502,\n 5515,\n 5580,\n 5617,\n 5688,\n 5703,\n 5714,\n 5715,\n 5720,\n 5723,\n 5729,\n 5792,\n 5793,\n 5814,\n 5882,\n 5900,\n 5943,\n 5961,\n 5975,\n 6000,\n 6033,\n 6038,\n 6045,\n 6053,\n 6055,\n 6120,\n 6122,\n 6172,\n 6175,\n 6185,\n 6188,\n 6257,\n 6270,\n 6301,\n 6338,\n 6343,\n 6350,\n 6366,\n 6423,\n 6432,\n 6520,\n 6523,\n 6561,\n 6921,\n 6985,\n 6987,\n 7099,\n 7151,\n 7235,\n 7342,\n 7347,\n 7353,\n 7367,\n 7396,\n 7417,\n 7423,\n 7473,\n 7506,\n 7511,\n 7514,\n 7582,\n 7595,\n 7612,\n 8078,\n 8109,\n 8137,\n 8178,\n 8194,\n 8278,\n 8280,\n 8450,\n 8452,\n 8459,\n 8467,\n 8481,\n 8503,\n 8511,\n 8512,\n 8535,\n 8681,\n 8739,\n 8780,\n 8788,\n 8858,\n 8865,\n 8880,\n 8890,\n 8933,\n 8955,\n 8967,\n 8976,\n 9049,\n 9090,\n 9095,\n 9113,\n 9116,\n 9332,\n 9333,\n 9334,\n 9409,\n 9433,\n 9439,\n 9458,\n 9488,\n 9517,\n 9539,\n 9559,\n 9591,\n 9610,\n 9611,\n 9613,\n 9617,\n 9629,\n 9638,\n 9639,\n 9641,\n 9642,\n 9731,\n 9754,\n 9798,\n 9803,\n 9831,\n 9872,\n 9874,\n 9884,\n 9886,\n 9901,\n 9913,\n 9914,\n 9931,\n 9934,\n 9935,\n 9965,\n 10013,\n 10066,\n 10067,\n 10068,\n 10147,\n 10251,\n 10335,\n 10360,\n 10363,\n 10381,\n 10394,\n 10397,\n 10518,\n 10568,\n 10625,\n 10641,\n 10674,\n 10721,\n 10839,\n 10870,\n 10874,\n 10898,\n 10901,\n 10904,\n 10935,\n 10950,\n 11011,\n 11012,\n 11064,\n 11076,\n 11080,\n 11099,\n 11110,\n 11126,\n 11150,\n 11157,\n 11185,\n 11187,\n 11194,\n 11212,\n 11234,\n 11240,\n 11265,\n 11268,\n 11503,\n 11621,\n 11631,\n 11839,\n 11841,\n 11949,\n 11957,\n 11973,\n 11974,\n 11984,\n 11989,\n 11994,\n 12022,\n 12100,\n 12152,\n 12176,\n 12203,\n 12233,\n 12569,\n 12685,\n 12828,\n 12832,\n 12856,\n 12875,\n 12877,\n 12889,\n 13023,\n 13037,\n 13071,\n 13140,\n 13161,\n 13182,\n 13223,\n 13224,\n 13230,\n 13469,\n 13556,\n 13559,\n 13575,\n 13608,\n 13629,\n 13664,\n 13672,\n 13673,\n 13704,\n ...]"
     },
     "execution_count": 88,
     "metadata": {},
     "output_type": "execute_result"
    }
   ],
   "source": [
    "wt_coms.communities[0]\n"
   ],
   "metadata": {
    "collapsed": false,
    "pycharm": {
     "name": "#%%\n"
    }
   }
  },
  {
   "cell_type": "code",
   "execution_count": 89,
   "outputs": [
    {
     "data": {
      "text/plain": "False"
     },
     "execution_count": 89,
     "metadata": {},
     "output_type": "execute_result"
    }
   ],
   "source": [
    "wt_coms.overlap"
   ],
   "metadata": {
    "collapsed": false,
    "pycharm": {
     "name": "#%%\n"
    }
   }
  },
  {
   "cell_type": "code",
   "execution_count": 90,
   "outputs": [
    {
     "name": "stdout",
     "output_type": "stream",
     "text": [
      "INTERNAL EVALUATION\n",
      "\n",
      "1 - Average Internal Degree: \n",
      "FitnessResult(min=0.0, max=311.0, score=31.877953554726197, std=51.241773948807456)\n",
      "\n",
      "\n",
      "2 - Internal Edge Density: \n",
      "FitnessResult(min=0, max=1.0, score=0.9425839779351819, std=0.19416589991303676)\n",
      "\n",
      "\n",
      "3 - Conductance : \n",
      "FitnessResult(min=0.057692307692307696, max=1.0, score=0.39883042212319886, std=0.16809403278342602)\n",
      "\n",
      "\n",
      "4 - Triangle Participation Ratio : \n",
      "FitnessResult(min=0.0, max=1.0, score=0.9271152143596441, std=0.25705680989048196)\n",
      "\n",
      "\n",
      "5 - Newmann modularity : \n",
      "FitnessResult(min=None, max=None, score=0.555789332986822, std=None)\n",
      "\n",
      "\n",
      "6 - Expansion : \n",
      "FitnessResult(min=1.0, max=134.69230769230768, score=15.750495441300608, std=22.11672162680806)\n",
      "\n",
      "\n",
      "7 - Normalized cut : \n",
      "FitnessResult(min=0.05776832703568301, max=1.0000005062053179, score=0.40076250368916305, std=0.16820571228236314)\n",
      "\n",
      "\n",
      "8 - Average ODF Degree : \n",
      "FitnessResult(min=1.0, max=134.69230769230768, score=15.750495441300608, std=22.11672162680806)\n",
      "\n",
      "\n",
      "9 - Flake ODF : \n",
      "FitnessResult(min=0.0, max=1.0, score=0.2033344046178317, std=0.3612351731564079)\n",
      "\n",
      "\n",
      "10 - Fraction over median degree : \n",
      "FitnessResult(min=0.0, max=0.4935064935064935, score=0.01733581454842308, std=0.07360669328676762)\n",
      "\n",
      "\n",
      "11 - Node coverage : \n",
      "1.0\n"
     ]
    }
   ],
   "source": [
    "FitnessFunctions(wt_coms)"
   ],
   "metadata": {
    "collapsed": false,
    "pycharm": {
     "name": "#%%\n"
    }
   }
  },
  {
   "cell_type": "markdown",
   "source": [
    "#### Semantic Analysis of the single communities [Walk-trap]"
   ],
   "metadata": {
    "collapsed": false,
    "pycharm": {
     "name": "#%% md\n"
    }
   }
  },
  {
   "cell_type": "markdown",
   "source": [
    "##### Community 1"
   ],
   "metadata": {
    "collapsed": false,
    "pycharm": {
     "name": "#%% md\n"
    }
   }
  },
  {
   "cell_type": "markdown",
   "source": [
    "##### Community 2"
   ],
   "metadata": {
    "collapsed": false,
    "pycharm": {
     "name": "#%% md\n"
    }
   }
  },
  {
   "cell_type": "code",
   "execution_count": 108,
   "outputs": [],
   "source": [],
   "metadata": {
    "collapsed": false,
    "pycharm": {
     "name": "#%%\n"
    }
   }
  },
  {
   "cell_type": "markdown",
   "source": [
    "# External Evaluation: Partition Comparisons"
   ],
   "metadata": {
    "collapsed": false,
    "pycharm": {
     "name": "#%% md\n"
    }
   }
  },
  {
   "cell_type": "markdown",
   "source": [
    "## Partitions comparison scores\n",
    "Compare different graph partition to assess their resemblance."
   ],
   "metadata": {
    "collapsed": false,
    "pycharm": {
     "name": "#%% md\n"
    }
   }
  },
  {
   "cell_type": "code",
   "execution_count": 364,
   "outputs": [],
   "source": [
    "#NF1 = Compute the Normalized F1 score of the optimal algorithms matches among the partitions in input. Works on overlapping/non-overlapping complete/partial coverage partitions.\n",
    "# use of precision and recall (harmonic mean) taking into account also the overlapping partitions w/ different coverages\n",
    "\n",
    "#using normalized f1 score:\n",
    "\n",
    "def ComparisonNF1 (coms1, coms2):\n",
    "    nf = evaluation.nf1(coms1, coms2)\n",
    "    return nf"
   ],
   "metadata": {
    "collapsed": false,
    "pycharm": {
     "name": "#%%\n"
    }
   }
  },
  {
   "cell_type": "code",
   "execution_count": 110,
   "outputs": [
    {
     "name": "stdout",
     "output_type": "stream",
     "text": [
      "NF1 louvain-label propagation = MatchingResult(score=0.012383782959914647, std=None)\n",
      "\n",
      "NF1 louvain-Angel = MatchingResult(score=0.0032716049382716045, std=None)\n",
      "\n",
      "NF1 louvain-Walktrap = MatchingResult(score=0.07486503706702047, std=None)\n",
      "\n",
      "NF1 label propagation-Angel = MatchingResult(score=0.016502849002849, std=None)\n",
      "\n",
      "NF1 label propagation-Walktrap = MatchingResult(score=0.5695628415300545, std=None)\n",
      "\n",
      "NF1 Angel-Walktrap = MatchingResult(score=0.06721311475409837, std=None)\n",
      "\n"
     ]
    }
   ],
   "source": [
    "print(f\"NF1 louvain-label propagation = {ComparisonNF1(louv_coms, lp_coms)}\")\n",
    "print()\n",
    "print(f\"NF1 louvain-Angel = {ComparisonNF1(louv_coms, DA_coms)}\")\n",
    "print()\n",
    "print(f\"NF1 louvain-Walktrap = {ComparisonNF1(louv_coms, wt_coms)}\")\n",
    "print()\n",
    "print(f\"NF1 label propagation-Angel = {ComparisonNF1(lp_coms, DA_coms)}\")\n",
    "print()\n",
    "print(f\"NF1 label propagation-Walktrap = {ComparisonNF1(lp_coms, wt_coms)}\")\n",
    "print()\n",
    "print(f\"NF1 Angel-Walktrap = {ComparisonNF1(DA_coms, wt_coms)}\")\n",
    "print()"
   ],
   "metadata": {
    "collapsed": false,
    "pycharm": {
     "name": "#%%\n"
    }
   }
  },
  {
   "cell_type": "code",
   "execution_count": 111,
   "outputs": [
    {
     "data": {
      "text/plain": "<seaborn.axisgrid.FacetGrid at 0x7fa26321dd60>"
     },
     "execution_count": 111,
     "metadata": {},
     "output_type": "execute_result"
    },
    {
     "data": {
      "text/plain": "<Figure size 360x360 with 1 Axes>",
      "image/png": "[encoded data removed]"
     },
     "metadata": {},
     "output_type": "display_data"
    }
   ],
   "source": [
    "viz.plot_com_properties_relation([lp_coms, louv_coms, DA_coms, wt_coms], evaluation.size, evaluation.internal_edge_density)"
   ],
   "metadata": {
    "collapsed": false,
    "pycharm": {
     "name": "#%%\n"
    }
   }
  },
  {
   "cell_type": "code",
   "execution_count": 365,
   "outputs": [
    {
     "data": {
      "text/plain": "<Figure size 936x720 with 2 Axes>",
      "image/png": "[encoded data removed]"
     },
     "metadata": {},
     "output_type": "display_data"
    }
   ],
   "source": [
    "# Printing heatmap matrix with labels\n",
    "\n",
    "cdNF1 = {}\n",
    "cdNF1['Louvain'] = louv_coms\n",
    "cdNF1['Label propagation'] = lp_coms\n",
    "cdNF1['Angel'] = DA_coms\n",
    "cdNF1['Walk-Trap'] = wt_coms\n",
    "\n",
    "rows = []\n",
    "for key1, value1 in cdNF1.items():\n",
    "    row = []\n",
    "    row.append(key1)\n",
    "    for key2, value2 in cdNF1.items():\n",
    "        if key1 == key2:\n",
    "            row.append(1.0)\n",
    "        else:\n",
    "            row.append(ComparisonNF1(value1, value2).score)\n",
    "    rows.append(row)\n",
    "\n",
    "df = pd.DataFrame(rows, columns=[\"\"]+list(cdNF1.keys()))\n",
    "df.set_index('', inplace=True)\n",
    "\n",
    "\n",
    "fig, ax = plt.subplots(figsize=(13,10))\n",
    "\n",
    "sns.set(font_scale=1.3)\n",
    "ax = sns.heatmap(df, annot=True, fmt='.3f')\n",
    "fig.savefig(\"plots/heatmap-f1-comparison.png\")\n",
    "\n"
   ],
   "metadata": {
    "collapsed": false,
    "pycharm": {
     "name": "#%%\n"
    }
   }
  },
  {
   "cell_type": "code",
   "execution_count": 542,
   "outputs": [
    {
     "data": {
      "text/plain": "                    Louvain  Label propagation     Angel  Walk-Trap\n                                                                   \nLouvain            1.000000           0.022742  0.011111   0.089148\nLabel propagation  0.036146           1.000000  0.016503   0.569563\nAngel              0.109714           0.119630  1.000000   0.067213\nWalk-Trap          0.028550           0.356517  0.006003   1.000000",
      "text/html": "<div>\n<style scoped>\n    .dataframe tbody tr th:only-of-type {\n        vertical-align: middle;\n    }\n\n    .dataframe tbody tr th {\n        vertical-align: top;\n    }\n\n    .dataframe thead th {\n        text-align: right;\n    }\n</style>\n<table border=\"1\" class=\"dataframe\">\n  <thead>\n    <tr style=\"text-align: right;\">\n      <th></th>\n      <th>Louvain</th>\n      <th>Label propagation</th>\n      <th>Angel</th>\n      <th>Walk-Trap</th>\n    </tr>\n    <tr>\n      <th></th>\n      <th></th>\n      <th></th>\n      <th></th>\n      <th></th>\n    </tr>\n  </thead>\n  <tbody>\n    <tr>\n      <th>Louvain</th>\n      <td>1.000000</td>\n      <td>0.022742</td>\n      <td>0.011111</td>\n      <td>0.089148</td>\n    </tr>\n    <tr>\n      <th>Label propagation</th>\n      <td>0.036146</td>\n      <td>1.000000</td>\n      <td>0.016503</td>\n      <td>0.569563</td>\n    </tr>\n    <tr>\n      <th>Angel</th>\n      <td>0.109714</td>\n      <td>0.119630</td>\n      <td>1.000000</td>\n      <td>0.067213</td>\n    </tr>\n    <tr>\n      <th>Walk-Trap</th>\n      <td>0.028550</td>\n      <td>0.356517</td>\n      <td>0.006003</td>\n      <td>1.000000</td>\n    </tr>\n  </tbody>\n</table>\n</div>"
     },
     "execution_count": 542,
     "metadata": {},
     "output_type": "execute_result"
    }
   ],
   "source": [
    "df"
   ],
   "metadata": {
    "collapsed": false,
    "pycharm": {
     "name": "#%%\n"
    }
   }
  },
  {
   "cell_type": "code",
   "execution_count": 366,
   "outputs": [],
   "source": [
    "#using normalized f1 score:\n",
    "\n",
    "def ComparisonONMI (coms1, coms2):\n",
    "    ONMI= evaluation.overlapping_normalized_mutual_information_LFK(coms1, coms2)\n",
    "    return ONMI"
   ],
   "metadata": {
    "collapsed": false,
    "pycharm": {
     "name": "#%%\n"
    }
   }
  },
  {
   "cell_type": "code",
   "execution_count": 367,
   "outputs": [
    {
     "data": {
      "text/plain": "<Figure size 936x720 with 2 Axes>",
      "image/png": "[encoded data removed]"
     },
     "metadata": {},
     "output_type": "display_data"
    }
   ],
   "source": [
    "# Printing heatmap matrix with labels\n",
    "\n",
    "cdONMI = {}\n",
    "cdONMI['Louvain'] = louv_coms\n",
    "cdONMI['Label propagation'] = lp_coms\n",
    "cdONMI['Angel'] = DA_coms\n",
    "cdONMI['Walk-Trap'] = wt_coms\n",
    "\n",
    "rows = []\n",
    "for key1, value1 in cdONMI.items():\n",
    "    row = []\n",
    "    row.append(key1)\n",
    "    for key2, value2 in cdONMI.items():\n",
    "        if key1 == key2:\n",
    "            row.append(1.0)\n",
    "        else:\n",
    "            row.append(ComparisonONMI(value1, value2).score)\n",
    "    rows.append(row)\n",
    "\n",
    "df1 = pd.DataFrame(rows, columns=[\"\"]+list(cdONMI.keys()))\n",
    "df1.set_index('', inplace=True)\n",
    "\n",
    "\n",
    "fig1, ax1 = plt.subplots(figsize=(13,10))\n",
    "\n",
    "sns.set(font_scale=1.3)\n",
    "ax1 = sns.heatmap(df1, annot=True, fmt='.3f')\n"
   ],
   "metadata": {
    "collapsed": false,
    "pycharm": {
     "name": "#%%\n"
    }
   }
  },
  {
   "cell_type": "code",
   "execution_count": 368,
   "outputs": [],
   "source": [
    "fig1.savefig(\"plots/heatmap-ONMI-comparison.png\")"
   ],
   "metadata": {
    "collapsed": false,
    "pycharm": {
     "name": "#%%\n"
    }
   }
  },
  {
   "cell_type": "code",
   "execution_count": 115,
   "outputs": [],
   "source": [],
   "metadata": {
    "collapsed": false,
    "pycharm": {
     "name": "#%%\n"
    }
   }
  }
 ],
 "metadata": {
  "kernelspec": {
   "display_name": "Python 3",
   "language": "python",
   "name": "python3"
  },
  "language_info": {
   "codemirror_mode": {
    "name": "ipython",
    "version": 2
   },
   "file_extension": ".py",
   "mimetype": "text/x-python",
   "name": "python",
   "nbconvert_exporter": "python",
   "pygments_lexer": "ipython2",
   "version": "2.7.6"
  }
 },
 "nbformat": 4,
 "nbformat_minor": 0
}