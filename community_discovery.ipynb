{
 "cells": [
  {
   "cell_type": "code",
   "execution_count": 32,
   "metadata": {
    "pycharm": {
     "name": "#%%\n"
    }
   },
   "outputs": [],
   "source": [
    "import cdlib\n",
    "import pandas as pd\n",
    "import networkx as nx\n",
    "from cdlib import algorithms\n",
    "from collections import Counter\n",
    "import plotly.express as px\n",
    "from cdlib import evaluation\n",
    "from cdlib import viz\n",
    "import seaborn as sns\n",
    "import matplotlib.pyplot as plt\n",
    "import numpy as np\n",
    "import math\n",
    "import itertools"
   ]
  },
  {
   "cell_type": "markdown",
   "metadata": {
    "pycharm": {
     "name": "#%% md\n"
    }
   },
   "source": [
    "# Graph Generation"
   ]
  },
  {
   "cell_type": "code",
   "execution_count": 53,
   "metadata": {
    "pycharm": {
     "name": "#%%\n"
    }
   },
   "outputs": [],
   "source": [
    "node_list = pd.read_csv('data/bd-node.csv', index_col = 'id')\n",
    "edge_list = pd.read_csv('data/bd-edge.csv')"
   ]
  },
  {
   "cell_type": "code",
   "execution_count": 54,
   "metadata": {
    "pycharm": {
     "name": "#%%\n"
    }
   },
   "outputs": [
    {
     "name": "stdout",
     "output_type": "stream",
     "text": [
      "<class 'pandas.core.frame.DataFrame'>\n",
      "Int64Index: 11775 entries, 0 to 20498\n",
      "Data columns (total 6 columns):\n",
      " #   Column                    Non-Null Count  Dtype  \n",
      "---  ------                    --------------  -----  \n",
      " 0   titolo                    11775 non-null  object \n",
      " 1   autore                    11775 non-null  object \n",
      " 2   editore                   11775 non-null  object \n",
      " 3   categoria                 11775 non-null  object \n",
      " 4   raccomandazioni-ricevute  11775 non-null  float64\n",
      " 5   anno-pubblicazione        11775 non-null  int64  \n",
      "dtypes: float64(1), int64(1), object(4)\n",
      "memory usage: 643.9+ KB\n"
     ]
    }
   ],
   "source": [
    "node_list.info()"
   ]
  },
  {
   "cell_type": "code",
   "execution_count": 55,
   "metadata": {
    "pycharm": {
     "name": "#%%\n"
    }
   },
   "outputs": [
    {
     "data": {
      "text/html": [
       "<div>\n",
       "<style scoped>\n",
       "    .dataframe tbody tr th:only-of-type {\n",
       "        vertical-align: middle;\n",
       "    }\n",
       "\n",
       "    .dataframe tbody tr th {\n",
       "        vertical-align: top;\n",
       "    }\n",
       "\n",
       "    .dataframe thead th {\n",
       "        text-align: right;\n",
       "    }\n",
       "</style>\n",
       "<table border=\"1\" class=\"dataframe\">\n",
       "  <thead>\n",
       "    <tr style=\"text-align: right;\">\n",
       "      <th></th>\n",
       "      <th>titolo</th>\n",
       "      <th>autore</th>\n",
       "      <th>editore</th>\n",
       "      <th>categoria</th>\n",
       "      <th>raccomandazioni-ricevute</th>\n",
       "      <th>anno-pubblicazione</th>\n",
       "    </tr>\n",
       "    <tr>\n",
       "      <th>id</th>\n",
       "      <th></th>\n",
       "      <th></th>\n",
       "      <th></th>\n",
       "      <th></th>\n",
       "      <th></th>\n",
       "      <th></th>\n",
       "    </tr>\n",
       "  </thead>\n",
       "  <tbody>\n",
       "    <tr>\n",
       "      <th>0</th>\n",
       "      <td>Cambiare l'acqua ai fiori</td>\n",
       "      <td>Perrin Valérie</td>\n",
       "      <td>E/O</td>\n",
       "      <td>Letterature straniere: testi</td>\n",
       "      <td>64.0</td>\n",
       "      <td>2019</td>\n",
       "    </tr>\n",
       "    <tr>\n",
       "      <th>1</th>\n",
       "      <td>Ragazza, donna, altro</td>\n",
       "      <td>Evaristo Bernardine</td>\n",
       "      <td>Sur</td>\n",
       "      <td>Letterature straniere: testi</td>\n",
       "      <td>61.0</td>\n",
       "      <td>2020</td>\n",
       "    </tr>\n",
       "    <tr>\n",
       "      <th>2</th>\n",
       "      <td>L'Ickabog</td>\n",
       "      <td>Rowling J. K.</td>\n",
       "      <td>Salani</td>\n",
       "      <td>Letteratura per ragazzi</td>\n",
       "      <td>44.0</td>\n",
       "      <td>2020</td>\n",
       "    </tr>\n",
       "    <tr>\n",
       "      <th>3</th>\n",
       "      <td>Dante</td>\n",
       "      <td>Barbero Alessandro</td>\n",
       "      <td>Laterza</td>\n",
       "      <td>Letteratura italiana: critica</td>\n",
       "      <td>37.0</td>\n",
       "      <td>2020</td>\n",
       "    </tr>\n",
       "    <tr>\n",
       "      <th>4</th>\n",
       "      <td>Borgo Sud</td>\n",
       "      <td>Di Pietrantonio Donatella</td>\n",
       "      <td>Einaudi</td>\n",
       "      <td>Letteratura italiana: testi</td>\n",
       "      <td>36.0</td>\n",
       "      <td>2020</td>\n",
       "    </tr>\n",
       "  </tbody>\n",
       "</table>\n",
       "</div>"
      ],
      "text/plain": [
       "                       titolo                     autore  editore  \\\n",
       "id                                                                  \n",
       "0   Cambiare l'acqua ai fiori             Perrin Valérie      E/O   \n",
       "1       Ragazza, donna, altro        Evaristo Bernardine      Sur   \n",
       "2                   L'Ickabog              Rowling J. K.   Salani   \n",
       "3                       Dante         Barbero Alessandro  Laterza   \n",
       "4                   Borgo Sud  Di Pietrantonio Donatella  Einaudi   \n",
       "\n",
       "                        categoria  raccomandazioni-ricevute  \\\n",
       "id                                                            \n",
       "0    Letterature straniere: testi                      64.0   \n",
       "1    Letterature straniere: testi                      61.0   \n",
       "2         Letteratura per ragazzi                      44.0   \n",
       "3   Letteratura italiana: critica                      37.0   \n",
       "4     Letteratura italiana: testi                      36.0   \n",
       "\n",
       "    anno-pubblicazione  \n",
       "id                      \n",
       "0                 2019  \n",
       "1                 2020  \n",
       "2                 2020  \n",
       "3                 2020  \n",
       "4                 2020  "
      ]
     },
     "execution_count": 55,
     "metadata": {},
     "output_type": "execute_result"
    }
   ],
   "source": [
    "node_list.head()"
   ]
  },
  {
   "cell_type": "code",
   "execution_count": 36,
   "metadata": {
    "pycharm": {
     "name": "#%%\n"
    }
   },
   "outputs": [],
   "source": [
    "g = nx.from_pandas_edgelist(edge_list, 'Source', 'Target', ['Weight'])"
   ]
  },
  {
   "cell_type": "code",
   "execution_count": 37,
   "metadata": {
    "pycharm": {
     "name": "#%%\n"
    }
   },
   "outputs": [],
   "source": [
    "# Create a nested dict with info for each node of the nodelist\n",
    "info_nodes = {}\n",
    "\n",
    "for index, row in node_list.iterrows():\n",
    "    info_nodes[index] = {'book_name': row['titolo'], \n",
    "                         'book_author': row['autore'], \n",
    "                         'book_publisher': row['editore'],\n",
    "                         'book_genre': row['categoria'], \n",
    "                         'recommendations_received' : row['raccomandazioni-ricevute'], \n",
    "                         'year_of_publication': row['anno-pubblicazione']}"
   ]
  },
  {
   "cell_type": "code",
   "execution_count": 38,
   "metadata": {
    "pycharm": {
     "name": "#%%\n"
    }
   },
   "outputs": [
    {
     "data": {
      "text/plain": [
       "{'book_name': 'Hokusai. Pop-up',\n",
       " 'book_author': 'McCarthy Courtney Watson',\n",
       " 'book_publisher': 'White Star',\n",
       " 'book_genre': 'Disegno, arti decorative e minori',\n",
       " 'recommendations_received': 1.0,\n",
       " 'year_of_publication': 2016}"
      ]
     },
     "execution_count": 38,
     "metadata": {},
     "output_type": "execute_result"
    }
   ],
   "source": [
    "info_nodes[11818]"
   ]
  },
  {
   "cell_type": "code",
   "execution_count": 39,
   "metadata": {
    "pycharm": {
     "name": "#%%\n"
    }
   },
   "outputs": [
    {
     "data": {
      "text/plain": [
       "11775"
      ]
     },
     "execution_count": 39,
     "metadata": {},
     "output_type": "execute_result"
    }
   ],
   "source": [
    "len(info_nodes)"
   ]
  },
  {
   "cell_type": "code",
   "execution_count": 40,
   "metadata": {
    "pycharm": {
     "name": "#%%\n"
    }
   },
   "outputs": [
    {
     "data": {
      "text/plain": [
       "11775"
      ]
     },
     "execution_count": 40,
     "metadata": {},
     "output_type": "execute_result"
    }
   ],
   "source": [
    "len(nx.nodes(g))"
   ]
  },
  {
   "cell_type": "code",
   "execution_count": 41,
   "metadata": {
    "pycharm": {
     "name": "#%%\n"
    }
   },
   "outputs": [],
   "source": [
    "# Setting the attributes of each node using the info contained in the nested dict\n",
    "nx.set_node_attributes(g, info_nodes)"
   ]
  },
  {
   "cell_type": "code",
   "execution_count": 42,
   "metadata": {
    "pycharm": {
     "name": "#%%\n"
    }
   },
   "outputs": [],
   "source": [
    "# Get node attributes:\n",
    "\n",
    "name = nx.get_node_attributes(g, \"book_name\")\n",
    "author = nx.get_node_attributes(g, \"book_author\")\n",
    "publisher = nx.get_node_attributes(g, \"book_publisher\")\n",
    "genre = nx.get_node_attributes(g, \"book_genre\")\n",
    "recommendations = nx.get_node_attributes(g, \"recommendations_received\")\n",
    "year = nx.get_node_attributes(g, \"year_of_publication\")"
   ]
  },
  {
   "cell_type": "code",
   "execution_count": 43,
   "metadata": {
    "pycharm": {
     "name": "#%%\n"
    }
   },
   "outputs": [
    {
     "data": {
      "text/plain": [
       "'Disegno, arti decorative e minori'"
      ]
     },
     "execution_count": 43,
     "metadata": {},
     "output_type": "execute_result"
    }
   ],
   "source": [
    "genre[11818]"
   ]
  },
  {
   "cell_type": "code",
   "execution_count": 44,
   "metadata": {
    "pycharm": {
     "name": "#%%\n"
    }
   },
   "outputs": [
    {
     "data": {
      "text/plain": [
       "'Hokusai. Pop-up'"
      ]
     },
     "execution_count": 44,
     "metadata": {},
     "output_type": "execute_result"
    }
   ],
   "source": [
    "name[11818]"
   ]
  },
  {
   "cell_type": "code",
   "execution_count": 56,
   "metadata": {},
   "outputs": [
    {
     "data": {
      "text/plain": [
       "0.21749953855988688"
      ]
     },
     "execution_count": 56,
     "metadata": {},
     "output_type": "execute_result"
    }
   ],
   "source": [
    "nx.attribute_assortativity_coefficient(g, attribute='book_genre')"
   ]
  },
  {
   "cell_type": "code",
   "execution_count": 57,
   "metadata": {},
   "outputs": [
    {
     "data": {
      "text/plain": [
       "0.04763819554350018"
      ]
     },
     "execution_count": 57,
     "metadata": {},
     "output_type": "execute_result"
    }
   ],
   "source": [
    "nx.attribute_assortativity_coefficient(g, attribute='book_publisher')"
   ]
  },
  {
   "cell_type": "code",
   "execution_count": 14,
   "metadata": {
    "pycharm": {
     "name": "#%%\n"
    }
   },
   "outputs": [],
   "source": [
    "# Use the giant component\n",
    "comps = list(nx.connected_components(g))\n",
    "GC = g.subgraph(comps[0])\n",
    "g = GC"
   ]
  },
  {
   "cell_type": "code",
   "execution_count": 15,
   "metadata": {
    "pycharm": {
     "name": "#%%\n"
    }
   },
   "outputs": [
    {
     "data": {
      "text/plain": [
       "11573"
      ]
     },
     "execution_count": 15,
     "metadata": {},
     "output_type": "execute_result"
    }
   ],
   "source": [
    "len(g)"
   ]
  },
  {
   "cell_type": "code",
   "execution_count": null,
   "metadata": {},
   "outputs": [],
   "source": []
  },
  {
   "cell_type": "markdown",
   "metadata": {
    "pycharm": {
     "name": "#%% md\n"
    }
   },
   "source": [
    "# Community Discovery algorithms"
   ]
  },
  {
   "cell_type": "markdown",
   "metadata": {
    "pycharm": {
     "name": "#%% md\n"
    }
   },
   "source": [
    "## Approach 1: Internal Density\n",
    "Communities as sets of densely connected entities\n",
    "Each community must have a number of edges significantly higher than what expected in a random graph"
   ]
  },
  {
   "cell_type": "markdown",
   "metadata": {
    "pycharm": {
     "name": "#%% md\n"
    }
   },
   "source": [
    "### Louvain\n",
    "\n",
    "It works finding a function of density and maxime it.\n"
   ]
  },
  {
   "cell_type": "code",
   "execution_count": 16,
   "metadata": {
    "pycharm": {
     "name": "#%%\n"
    }
   },
   "outputs": [],
   "source": [
    "louv_coms = algorithms.louvain(g, weight='weight', resolution=1.)"
   ]
  },
  {
   "cell_type": "code",
   "execution_count": 17,
   "metadata": {
    "pycharm": {
     "name": "#%%\n"
    }
   },
   "outputs": [
    {
     "data": {
      "text/plain": [
       "'Louvain'"
      ]
     },
     "execution_count": 17,
     "metadata": {},
     "output_type": "execute_result"
    }
   ],
   "source": [
    "louv_coms.method_name"
   ]
  },
  {
   "cell_type": "code",
   "execution_count": 18,
   "metadata": {
    "pycharm": {
     "name": "#%%\n"
    }
   },
   "outputs": [],
   "source": [
    "# Function to retrieve the info of the communities found out by the algorithm\n",
    "def info_community(communities, algorithm):    \n",
    "    C = [g.subgraph(c).copy() for c in communities]\n",
    "    # Build a list with all info\n",
    "    info = dict()    \n",
    "    for count, comm in enumerate(C):        \n",
    "        info[count] = {'nodes': nx.number_of_nodes(comm), \n",
    "                       'edges': nx.number_of_edges(comm)}\n",
    "    return info"
   ]
  },
  {
   "cell_type": "code",
   "execution_count": 19,
   "metadata": {
    "pycharm": {
     "name": "#%%\n"
    }
   },
   "outputs": [
    {
     "data": {
      "text/plain": [
       "{0: {'nodes': 1824, 'edges': 157646},\n",
       " 1: {'nodes': 1660, 'edges': 83919},\n",
       " 2: {'nodes': 1627, 'edges': 91696},\n",
       " 3: {'nodes': 858, 'edges': 38027},\n",
       " 4: {'nodes': 825, 'edges': 88861},\n",
       " 5: {'nodes': 741, 'edges': 52653},\n",
       " 6: {'nodes': 468, 'edges': 25660},\n",
       " 7: {'nodes': 435, 'edges': 26539},\n",
       " 8: {'nodes': 381, 'edges': 11653},\n",
       " 9: {'nodes': 348, 'edges': 25442},\n",
       " 10: {'nodes': 323, 'edges': 41032},\n",
       " 11: {'nodes': 295, 'edges': 12777},\n",
       " 12: {'nodes': 288, 'edges': 10816},\n",
       " 13: {'nodes': 257, 'edges': 7163},\n",
       " 14: {'nodes': 249, 'edges': 10201},\n",
       " 15: {'nodes': 246, 'edges': 8740},\n",
       " 16: {'nodes': 222, 'edges': 6040},\n",
       " 17: {'nodes': 156, 'edges': 10914},\n",
       " 18: {'nodes': 126, 'edges': 4347},\n",
       " 19: {'nodes': 116, 'edges': 3839},\n",
       " 20: {'nodes': 34, 'edges': 561},\n",
       " 21: {'nodes': 28, 'edges': 378},\n",
       " 22: {'nodes': 17, 'edges': 136},\n",
       " 23: {'nodes': 17, 'edges': 136},\n",
       " 24: {'nodes': 11, 'edges': 55},\n",
       " 25: {'nodes': 11, 'edges': 55},\n",
       " 26: {'nodes': 10, 'edges': 45}}"
      ]
     },
     "execution_count": 19,
     "metadata": {},
     "output_type": "execute_result"
    }
   ],
   "source": [
    "info_louv = info_community(louv_coms.communities, louv_coms)\n",
    "info_louv"
   ]
  },
  {
   "cell_type": "code",
   "execution_count": 20,
   "metadata": {
    "pycharm": {
     "name": "#%%\n"
    }
   },
   "outputs": [
    {
     "name": "stdout",
     "output_type": "stream",
     "text": [
      "Nodes: FitnessResult(min=10, max=1824, score=428.6296296296296, std=508.3828499123943)\n",
      "Edges: FitnessResult(min=45, max=157646, score=26641.88888888889, std=37408.82409601929)\n",
      "No overlapping\n"
     ]
    }
   ],
   "source": [
    "print(f\"Nodes: {evaluation.size(g, louv_coms)}\")\n",
    "print(f\"Edges: {evaluation.edges_inside(g, louv_coms)}\")\n",
    "if louv_coms.overlap: \n",
    "    print('Overlapping')\n",
    "else: print('No overlapping')"
   ]
  },
  {
   "cell_type": "code",
   "execution_count": 21,
   "metadata": {
    "pycharm": {
     "name": "#%%\n"
    }
   },
   "outputs": [
    {
     "data": {
      "image/png": "[encoded data removed]",
      "text/plain": [
       "<Figure size 1080x504 with 2 Axes>"
      ]
     },
     "metadata": {
      "needs_background": "light"
     },
     "output_type": "display_data"
    }
   ],
   "source": [
    "fig, axes = plt.subplots(1,2, figsize=(15, 7))\n",
    "\n",
    "sns.barplot(ax=axes[0], \n",
    "            x=list(info_louv.keys()), \n",
    "            y=[c['nodes'] for c in info_louv.values()],\n",
    "            palette='light:b_r')\n",
    "\n",
    "axes[0].set_xlabel('Community')\n",
    "axes[0].set_ylabel('Nodes')\n",
    "axes[0].set_yscale('log')\n",
    "\n",
    "sns.barplot(ax=axes[1],\n",
    "            x=list(info_louv.keys()),\n",
    "            y=[c['edges'] for c in info_louv.values()],\n",
    "            palette='light:b_r')\n",
    "\n",
    "axes[1].set_xlabel('Community')\n",
    "axes[1].set_ylabel('Edges')\n",
    "axes[1].set_yscale('log')\n",
    "\n",
    "plt.suptitle(\"Edges and nodes for the communities (Louvain)\")\n",
    "plt.show()"
   ]
  },
  {
   "cell_type": "markdown",
   "metadata": {
    "pycharm": {
     "name": "#%% md\n"
    }
   },
   "source": [
    "#### Internal Evaluation: Fitness scores"
   ]
  },
  {
   "cell_type": "markdown",
   "metadata": {
    "pycharm": {
     "name": "#%% md\n"
    }
   },
   "source": [
    "##### Partitions quality functions\n",
    "Using some fitness functions that can be defined to assess the quality of a partition"
   ]
  },
  {
   "cell_type": "code",
   "execution_count": 22,
   "metadata": {
    "pycharm": {
     "name": "#%%\n"
    }
   },
   "outputs": [],
   "source": [
    "def fitness_functions(community_type):\n",
    "\n",
    "    print(\"INTERNAL EVALUATION\")\n",
    "    print()\n",
    "    #average internal degree (AID) = the average internal degree of the community set.\n",
    "    print(f\"1 - Average Internal Degree: \\n{evaluation.average_internal_degree(g, community_type)}\")\n",
    "    print()\n",
    "    print()\n",
    "    #internal edge density (IED) = The internal density of the community set.\n",
    "    print(f\"2 - Internal Edge Density: \\n{evaluation.internal_edge_density(g,community_type)}\")\n",
    "    print()\n",
    "    print()\n",
    "    #conductance (C) = Fraction of total edge volume that points outside the community.\n",
    "    print(f\"3 - Conductance : \\n{evaluation.conductance(g,community_type)}\")\n",
    "    print()\n",
    "    print()\n",
    "    # Triangle participation ratio (TPR) = Fraction of community nodes that belong to a triad.\n",
    "    print(f\"4 - Triangle Participation Ratio : \\n{evaluation.triangle_participation_ratio(g,community_type)}\")\n",
    "    print()\n",
    "    print()\n",
    "    # #Girvan-Newmann modularity (GNM)\n",
    "    print(f\"5 - Newmann modularity : \\n{evaluation.newman_girvan_modularity(g,community_type)}\")\n",
    "    print()\n",
    "    print()\n",
    "    #Expansion = Number of edges per community node that point outside the cluster.\n",
    "    print(f\"6 - Expansion : \\n{evaluation.expansion(g,community_type)}\")\n",
    "    print()\n",
    "    print()\n",
    "    #Normalized-cut (NC)= normalized variant of cut-ratio, that is the fraction of existing edges (out of all possible edges) leaving the community.\n",
    "    print(f\"7 - Normalized cut : \\n{evaluation.normalized_cut(g,community_type)}\")\n",
    "    print()\n",
    "    print()\n",
    "    #Average ODF Degree (AODFD): the average fraction of edges of a node of a community that point outside the community itself.\n",
    "    print(f\"8 - Average ODF Degree : \\n{evaluation.avg_odf(g,community_type)}\")\n",
    "    print()\n",
    "    print()\n",
    "    #Flake ODF = Fraction of nodes in S that have fewer edges pointing inside than to the outside of the community.\n",
    "    print(f\"9 - Flake ODF : \\n{evaluation.flake_odf(g,community_type)}\")\n",
    "    print()\n",
    "    print()\n",
    "    # Fraction over median degree = Fraction of community nodes of having internal degree higher than the median degree value.\n",
    "    print(f\"10 - Fraction over median degree : \\n{evaluation.fraction_over_median_degree(g,community_type)}\")\n",
    "    print()\n",
    "    print()\n",
    "    # Node_coverage = Fraction of total edge volume that points outside the community.\n",
    "    print(f\"11 - Node coverage : \\n{community_type.node_coverage}\")\n",
    "\n",
    "\n"
   ]
  },
  {
   "cell_type": "code",
   "execution_count": 23,
   "metadata": {
    "pycharm": {
     "name": "#%%\n"
    }
   },
   "outputs": [
    {
     "name": "stdout",
     "output_type": "stream",
     "text": [
      "INTERNAL EVALUATION\n",
      "\n",
      "1 - Average Internal Degree: \n",
      "FitnessResult(min=9.0, max=254.06811145510835, score=86.92551888128546, std=61.50798160425015)\n",
      "\n",
      "\n",
      "2 - Internal Edge Density: \n",
      "FitnessResult(min=0.06094468289069479, max=1.0, score=0.4940876341096815, std=0.3553747517511876)\n",
      "\n",
      "\n",
      "3 - Conductance : \n",
      "FitnessResult(min=0.09090909090909091, max=0.37932328986240554, score=0.22547567044275604, std=0.08798997909752239)\n",
      "\n",
      "\n",
      "4 - Triangle Participation Ratio : \n",
      "FitnessResult(min=0.9942528735632183, max=1.0, score=0.999073755362944, std=0.0015763162500455003)\n",
      "\n",
      "\n",
      "5 - Newmann modularity : \n",
      "FitnessResult(min=None, max=None, score=0.6192250770937667, std=None)\n",
      "\n",
      "\n",
      "6 - Expansion : \n",
      "FitnessResult(min=1.0, max=98.98060606060606, score=29.793423342593975, std=22.885349672423242)\n",
      "\n",
      "\n",
      "7 - Normalized cut : \n",
      "FitnessResult(min=0.09091465944947016, max=0.4032093111953771, score=0.2360696220731269, std=0.09558396420683443)\n",
      "\n",
      "\n",
      "8 - Average ODF Degree : \n",
      "FitnessResult(min=1.0, max=98.98060606060606, score=29.793423342593975, std=22.885349672423242)\n",
      "\n",
      "\n",
      "9 - Flake ODF : \n",
      "FitnessResult(min=0.0, max=0.3006993006993007, score=0.0913371480386037, std=0.07274755513292465)\n",
      "\n",
      "\n",
      "10 - Fraction over median degree : \n",
      "FitnessResult(min=0.0, max=0.49846342962507684, score=0.25743282938270595, std=0.22281418921222834)\n",
      "\n",
      "\n",
      "11 - Node coverage : \n",
      "1.0\n"
     ]
    }
   ],
   "source": [
    "fitness_functions(louv_coms)"
   ]
  },
  {
   "cell_type": "markdown",
   "metadata": {
    "pycharm": {
     "name": "#%% md\n"
    }
   },
   "source": [
    "#### External Evaluation: Purity "
   ]
  },
  {
   "cell_type": "markdown",
   "metadata": {
    "pycharm": {
     "name": "#%% md\n"
    }
   },
   "source": [
    "In clustering, purity is used to measure the extent to which cluster labels match externally supplied class labels (also entropy can be used)."
   ]
  },
  {
   "cell_type": "code",
   "execution_count": 24,
   "metadata": {
    "pycharm": {
     "name": "#%%\n"
    }
   },
   "outputs": [],
   "source": [
    "test_community = louv_coms.communities[0]"
   ]
  },
  {
   "cell_type": "code",
   "execution_count": 25,
   "metadata": {
    "pycharm": {
     "name": "#%%\n"
    }
   },
   "outputs": [],
   "source": [
    "test_genres = [genre[idx] for idx in test_community]"
   ]
  },
  {
   "cell_type": "code",
   "execution_count": 26,
   "metadata": {
    "pycharm": {
     "name": "#%%\n"
    }
   },
   "outputs": [],
   "source": [
    "# Compute frequency distribution for genre\n",
    "test_genre_distr = sorted(\n",
    "    [(genre, test_genres.count(genre)) for genre in list(set(test_genres))],\n",
    "    key=lambda t: t[1],\n",
    "    reverse=True)"
   ]
  },
  {
   "cell_type": "code",
   "execution_count": 27,
   "metadata": {
    "pycharm": {
     "name": "#%%\n"
    }
   },
   "outputs": [
    {
     "data": {
      "text/plain": [
       "[('Letterature straniere: testi', 882),\n",
       " ('Letteratura italiana: testi', 398),\n",
       " ('Scienze sociali', 88),\n",
       " ('Letteratura per ragazzi', 77),\n",
       " ('Disegno, arti decorative e minori', 68),\n",
       " ('Scienza politica', 38),\n",
       " ('Problemi e servizi sociali', 37),\n",
       " ('Arti ricreative. spettacolo. sport', 36),\n",
       " ('Geografia generale. viaggi', 24),\n",
       " ('Musica', 20)]"
      ]
     },
     "execution_count": 27,
     "metadata": {},
     "output_type": "execute_result"
    }
   ],
   "source": [
    "test_genre_distr[:10]"
   ]
  },
  {
   "cell_type": "code",
   "execution_count": 28,
   "metadata": {
    "pycharm": {
     "name": "#%%\n"
    }
   },
   "outputs": [],
   "source": [
    "def compute_purity(freqs):    \n",
    "    purity = max(freqs)/sum(f for f in freqs)\n",
    "    return purity"
   ]
  },
  {
   "cell_type": "code",
   "execution_count": 29,
   "metadata": {
    "pycharm": {
     "name": "#%%\n"
    }
   },
   "outputs": [
    {
     "data": {
      "text/plain": [
       "0.48355263157894735"
      ]
     },
     "execution_count": 29,
     "metadata": {},
     "output_type": "execute_result"
    }
   ],
   "source": [
    "compute_purity([t[1] for t in test_genre_distr])"
   ]
  },
  {
   "cell_type": "code",
   "execution_count": 30,
   "metadata": {
    "pycharm": {
     "name": "#%%\n"
    }
   },
   "outputs": [],
   "source": [
    "def compute_overall_purity(communities, node_attributes, weighted=True):\n",
    "    total_nodes = sum(len(community) for community in communities)\n",
    "    weighted_purities = list()\n",
    "    purities = list()\n",
    "    for community in communities:        \n",
    "        attributes_in_community = [node_attributes[idx] for idx in community] \n",
    "        freqs_in_community = [attributes_in_community.count(attribute) \n",
    "                              for attribute in list(set(attributes_in_community))]\n",
    "        nodes_in_community = (sum(freqs_in_community))                \n",
    "        purity = compute_purity(freqs_in_community)                \n",
    "        weighted_purity = purity*(nodes_in_community/total_nodes)        \n",
    "        weighted_purities.append(weighted_purity)\n",
    "        purities.append(purity)        \n",
    "    if weighted:\n",
    "        return sum(weighted_purities)\n",
    "    else:\n",
    "        return sum(purities)/len(purities)"
   ]
  },
  {
   "cell_type": "code",
   "execution_count": 31,
   "metadata": {
    "pycharm": {
     "name": "#%%\n"
    }
   },
   "outputs": [],
   "source": [
    "w_genre_purity = compute_overall_purity(louv_coms.communities, genre)\n",
    "genre_purity = compute_overall_purity(louv_coms.communities, genre, weighted=False)"
   ]
  },
  {
   "cell_type": "code",
   "execution_count": 32,
   "metadata": {
    "pycharm": {
     "name": "#%%\n"
    }
   },
   "outputs": [],
   "source": [
    "w_publisher_purity = compute_overall_purity(louv_coms.communities, publisher)\n",
    "publisher_purity = compute_overall_purity(louv_coms.communities, publisher, weighted=False)"
   ]
  },
  {
   "cell_type": "code",
   "execution_count": 33,
   "metadata": {
    "pycharm": {
     "name": "#%%\n"
    }
   },
   "outputs": [],
   "source": [
    "# Compute purity for entire network\n",
    "network_genre_purity = compute_purity([list(genre.values()).count(g) \n",
    "                                       for g in list(set(list(genre.values())))])\n",
    "network_publisher_purity = compute_purity([list(publisher.values()).count(g) \n",
    "                                           for g in list(set(list(publisher.values())))])"
   ]
  },
  {
   "cell_type": "code",
   "execution_count": 34,
   "metadata": {
    "pycharm": {
     "name": "#%%\n"
    }
   },
   "outputs": [
    {
     "name": "stdout",
     "output_type": "stream",
     "text": [
      "GENRE\n",
      "Purity: 0.4283752055045245, Weighted: 0.4599498833491747\n",
      "Overall Network: 0.2714225053078556\n"
     ]
    }
   ],
   "source": [
    "print(f'GENRE')\n",
    "print(f'Purity: {genre_purity}, Weighted: {w_genre_purity}')\n",
    "print(f'Overall Network: {network_genre_purity}')"
   ]
  },
  {
   "cell_type": "code",
   "execution_count": 35,
   "metadata": {
    "pycharm": {
     "name": "#%%\n"
    }
   },
   "outputs": [
    {
     "name": "stdout",
     "output_type": "stream",
     "text": [
      "PUBLISHER\n",
      "Purity: 0.1541136053243841, Weighted: 0.0958264926985224\n",
      "Overall Network: 0.04704883227176221\n"
     ]
    }
   ],
   "source": [
    "print(f'PUBLISHER')\n",
    "print(f'Purity: {publisher_purity}, Weighted: {w_publisher_purity}')\n",
    "print(f'Overall Network: {network_publisher_purity}')"
   ]
  },
  {
   "cell_type": "markdown",
   "metadata": {
    "pycharm": {
     "name": "#%% md\n"
    }
   },
   "source": [
    "\n",
    "## Approach 2: Percolation\n",
    "Communities as a set of nodes grouped together by the propagation of a same property/action/information"
   ]
  },
  {
   "cell_type": "markdown",
   "metadata": {
    "pycharm": {
     "name": "#%% md\n"
    }
   },
   "source": [
    "### Label Propagation"
   ]
  },
  {
   "cell_type": "code",
   "execution_count": 36,
   "metadata": {
    "pycharm": {
     "name": "#%%\n"
    }
   },
   "outputs": [],
   "source": [
    "lp_coms = algorithms.label_propagation(g)"
   ]
  },
  {
   "cell_type": "code",
   "execution_count": 37,
   "metadata": {
    "pycharm": {
     "name": "#%%\n"
    }
   },
   "outputs": [
    {
     "data": {
      "text/plain": [
       "'Label Propagation'"
      ]
     },
     "execution_count": 37,
     "metadata": {},
     "output_type": "execute_result"
    }
   ],
   "source": [
    "lp_coms.method_name"
   ]
  },
  {
   "cell_type": "code",
   "execution_count": 38,
   "metadata": {
    "pycharm": {
     "name": "#%%\n"
    }
   },
   "outputs": [
    {
     "data": {
      "text/plain": [
       "{0: {'nodes': 9353, 'edges': 910191},\n",
       " 1: {'nodes': 150, 'edges': 6757},\n",
       " 2: {'nodes': 121, 'edges': 3949},\n",
       " 3: {'nodes': 99, 'edges': 4851},\n",
       " 4: {'nodes': 89, 'edges': 3916},\n",
       " 5: {'nodes': 80, 'edges': 3160},\n",
       " 6: {'nodes': 79, 'edges': 3081},\n",
       " 7: {'nodes': 73, 'edges': 1336},\n",
       " 8: {'nodes': 72, 'edges': 1404},\n",
       " 9: {'nodes': 71, 'edges': 2485},\n",
       " 10: {'nodes': 62, 'edges': 967},\n",
       " 11: {'nodes': 58, 'edges': 1653},\n",
       " 12: {'nodes': 51, 'edges': 1275},\n",
       " 13: {'nodes': 47, 'edges': 993},\n",
       " 14: {'nodes': 44, 'edges': 864},\n",
       " 15: {'nodes': 43, 'edges': 903},\n",
       " 16: {'nodes': 36, 'edges': 506},\n",
       " 17: {'nodes': 36, 'edges': 630},\n",
       " 18: {'nodes': 35, 'edges': 307},\n",
       " 19: {'nodes': 33, 'edges': 528},\n",
       " 20: {'nodes': 29, 'edges': 238},\n",
       " 21: {'nodes': 29, 'edges': 406},\n",
       " 22: {'nodes': 24, 'edges': 186},\n",
       " 23: {'nodes': 22, 'edges': 231},\n",
       " 24: {'nodes': 22, 'edges': 231},\n",
       " 25: {'nodes': 21, 'edges': 210},\n",
       " 26: {'nodes': 20, 'edges': 102},\n",
       " 27: {'nodes': 20, 'edges': 190},\n",
       " 28: {'nodes': 20, 'edges': 190},\n",
       " 29: {'nodes': 20, 'edges': 190},\n",
       " 30: {'nodes': 19, 'edges': 171},\n",
       " 31: {'nodes': 19, 'edges': 171},\n",
       " 32: {'nodes': 18, 'edges': 153},\n",
       " 33: {'nodes': 18, 'edges': 153},\n",
       " 34: {'nodes': 17, 'edges': 136},\n",
       " 35: {'nodes': 17, 'edges': 136},\n",
       " 36: {'nodes': 17, 'edges': 136},\n",
       " 37: {'nodes': 17, 'edges': 136},\n",
       " 38: {'nodes': 17, 'edges': 136},\n",
       " 39: {'nodes': 16, 'edges': 120},\n",
       " 40: {'nodes': 16, 'edges': 120},\n",
       " 41: {'nodes': 16, 'edges': 120},\n",
       " 42: {'nodes': 15, 'edges': 105},\n",
       " 43: {'nodes': 15, 'edges': 105},\n",
       " 44: {'nodes': 15, 'edges': 105},\n",
       " 45: {'nodes': 15, 'edges': 105},\n",
       " 46: {'nodes': 14, 'edges': 91},\n",
       " 47: {'nodes': 14, 'edges': 91},\n",
       " 48: {'nodes': 13, 'edges': 78},\n",
       " 49: {'nodes': 12, 'edges': 66},\n",
       " 50: {'nodes': 12, 'edges': 66},\n",
       " 51: {'nodes': 11, 'edges': 39},\n",
       " 52: {'nodes': 11, 'edges': 55},\n",
       " 53: {'nodes': 11, 'edges': 55},\n",
       " 54: {'nodes': 11, 'edges': 55},\n",
       " 55: {'nodes': 11, 'edges': 55},\n",
       " 56: {'nodes': 11, 'edges': 55},\n",
       " 57: {'nodes': 10, 'edges': 45},\n",
       " 58: {'nodes': 10, 'edges': 45},\n",
       " 59: {'nodes': 10, 'edges': 45},\n",
       " 60: {'nodes': 10, 'edges': 45},\n",
       " 61: {'nodes': 10, 'edges': 45},\n",
       " 62: {'nodes': 10, 'edges': 45},\n",
       " 63: {'nodes': 10, 'edges': 45},\n",
       " 64: {'nodes': 10, 'edges': 45},\n",
       " 65: {'nodes': 9, 'edges': 36},\n",
       " 66: {'nodes': 9, 'edges': 36},\n",
       " 67: {'nodes': 9, 'edges': 36},\n",
       " 68: {'nodes': 9, 'edges': 36},\n",
       " 69: {'nodes': 9, 'edges': 36},\n",
       " 70: {'nodes': 9, 'edges': 36},\n",
       " 71: {'nodes': 8, 'edges': 28},\n",
       " 72: {'nodes': 8, 'edges': 28},\n",
       " 73: {'nodes': 8, 'edges': 28},\n",
       " 74: {'nodes': 7, 'edges': 21},\n",
       " 75: {'nodes': 7, 'edges': 21},\n",
       " 76: {'nodes': 7, 'edges': 21},\n",
       " 77: {'nodes': 7, 'edges': 21},\n",
       " 78: {'nodes': 7, 'edges': 21},\n",
       " 79: {'nodes': 6, 'edges': 15},\n",
       " 80: {'nodes': 6, 'edges': 15},\n",
       " 81: {'nodes': 6, 'edges': 15},\n",
       " 82: {'nodes': 6, 'edges': 15},\n",
       " 83: {'nodes': 6, 'edges': 15},\n",
       " 84: {'nodes': 6, 'edges': 15},\n",
       " 85: {'nodes': 6, 'edges': 15},\n",
       " 86: {'nodes': 5, 'edges': 10},\n",
       " 87: {'nodes': 5, 'edges': 10},\n",
       " 88: {'nodes': 5, 'edges': 10},\n",
       " 89: {'nodes': 5, 'edges': 10},\n",
       " 90: {'nodes': 5, 'edges': 10},\n",
       " 91: {'nodes': 5, 'edges': 10},\n",
       " 92: {'nodes': 4, 'edges': 6},\n",
       " 93: {'nodes': 4, 'edges': 6},\n",
       " 94: {'nodes': 4, 'edges': 6},\n",
       " 95: {'nodes': 4, 'edges': 6},\n",
       " 96: {'nodes': 4, 'edges': 6},\n",
       " 97: {'nodes': 4, 'edges': 6},\n",
       " 98: {'nodes': 4, 'edges': 6},\n",
       " 99: {'nodes': 3, 'edges': 3},\n",
       " 100: {'nodes': 3, 'edges': 3},\n",
       " 101: {'nodes': 3, 'edges': 3},\n",
       " 102: {'nodes': 3, 'edges': 3},\n",
       " 103: {'nodes': 3, 'edges': 3},\n",
       " 104: {'nodes': 2, 'edges': 1},\n",
       " 105: {'nodes': 2, 'edges': 1},\n",
       " 106: {'nodes': 2, 'edges': 1},\n",
       " 107: {'nodes': 2, 'edges': 1}}"
      ]
     },
     "execution_count": 38,
     "metadata": {},
     "output_type": "execute_result"
    }
   ],
   "source": [
    "info_lp = info_community(lp_coms.communities, lp_coms)\n",
    "info_lp"
   ]
  },
  {
   "cell_type": "code",
   "execution_count": 39,
   "metadata": {
    "pycharm": {
     "name": "#%%\n"
    }
   },
   "outputs": [
    {
     "name": "stdout",
     "output_type": "stream",
     "text": [
      "Nodes: FitnessResult(min=2, max=9353, score=107.1574074074074, std=894.1987222382605)\n",
      "Edges: FitnessResult(min=1, max=910191, score=8849.398148148148, std=87142.35172277981)\n",
      "No overlapping\n"
     ]
    }
   ],
   "source": [
    "print(f\"Nodes: {evaluation.size(g, lp_coms)}\")\n",
    "print(f\"Edges: {evaluation.edges_inside(g, lp_coms)}\")\n",
    "if lp_coms.overlap: \n",
    "    print('Overlapping')\n",
    "else: print('No overlapping')"
   ]
  },
  {
   "cell_type": "code",
   "execution_count": 40,
   "metadata": {
    "pycharm": {
     "name": "#%%\n"
    }
   },
   "outputs": [
    {
     "data": {
      "text/plain": [
       "FitnessResult(min=2, max=9353, score=107.1574074074074, std=894.1987222382605)"
      ]
     },
     "execution_count": 40,
     "metadata": {},
     "output_type": "execute_result"
    }
   ],
   "source": [
    "lp_coms.size()"
   ]
  },
  {
   "cell_type": "code",
   "execution_count": 41,
   "metadata": {
    "pycharm": {
     "name": "#%%\n"
    }
   },
   "outputs": [
    {
     "data": {
      "image/png": "[encoded data removed]",
      "text/plain": [
       "<Figure size 1080x504 with 2 Axes>"
      ]
     },
     "metadata": {
      "needs_background": "light"
     },
     "output_type": "display_data"
    }
   ],
   "source": [
    "fig, axes = plt.subplots(1,2, figsize=(15, 7))\n",
    "\n",
    "sns.barplot(ax=axes[0], \n",
    "            x=list(info_lp.keys()), \n",
    "            y=[c['nodes'] for c in info_lp.values()],\n",
    "            palette='light:b_r')\n",
    "\n",
    "axes[0].set_xlabel('Community')\n",
    "axes[0].set_ylabel('Nodes')\n",
    "axes[0].set_yscale('log')\n",
    "\n",
    "# Show only min and max of x tick labels\n",
    "min_max = [min(list(info_lp.keys())), max(list(info_lp.keys()))]\n",
    "for index, label in enumerate(axes[0].get_xticklabels()):\n",
    "   if index in min_max:\n",
    "      label.set_visible(True)\n",
    "   else:\n",
    "      label.set_visible(False)\n",
    "\n",
    "\n",
    "sns.barplot(ax=axes[1],\n",
    "            x=list(info_lp.keys()),\n",
    "            y=[c['edges'] for c in info_lp.values()],\n",
    "            palette='light:b_r')\n",
    "\n",
    "axes[1].set_xlabel('Community')\n",
    "axes[1].set_ylabel('Edges')\n",
    "axes[1].set_yscale('log')\n",
    "\n",
    "# Show only min and max of x tick labels\n",
    "for index, label in enumerate(axes[1].get_xticklabels()):\n",
    "   if index in min_max:\n",
    "      label.set_visible(True)\n",
    "   else:\n",
    "      label.set_visible(False)\n",
    "\n",
    "plt.suptitle(\"Edges and nodes for the communities (Label Propagation)\")\n",
    "plt.show()"
   ]
  },
  {
   "cell_type": "code",
   "execution_count": 42,
   "metadata": {
    "pycharm": {
     "name": "#%%\n"
    }
   },
   "outputs": [
    {
     "name": "stdout",
     "output_type": "stream",
     "text": [
      "INTERNAL EVALUATION\n",
      "\n",
      "1 - Average Internal Degree: \n",
      "FitnessResult(min=1.0, max=194.6308136426815, score=18.8442581410357, std=26.39105196437351)\n",
      "\n",
      "\n",
      "2 - Internal Edge Density: \n",
      "FitnessResult(min=0.020811678105504865, max=1.0, score=0.9481069277673193, std=0.15455223715201294)\n",
      "\n",
      "\n",
      "3 - Conductance : \n",
      "FitnessResult(min=0.016835587835947532, max=0.5714285714285714, score=0.344580279492796, std=0.1319559418923727)\n",
      "\n",
      "\n",
      "4 - Triangle Participation Ratio : \n",
      "FitnessResult(min=0.0, max=1.0, score=0.9629599930305587, std=0.18885199462371216)\n",
      "\n",
      "\n",
      "5 - Newmann modularity : \n",
      "FitnessResult(min=None, max=None, score=0.08889187188396865, std=None)\n",
      "\n",
      "\n",
      "6 - Expansion : \n",
      "FitnessResult(min=1.0, max=47.44444444444444, score=7.9959156306567865, std=8.269557333306938)\n",
      "\n",
      "\n",
      "7 - Normalized cut : \n",
      "FitnessResult(min=0.05211556500816209, max=0.571436670701358, score=0.34628393276137215, std=0.12901344898105024)\n",
      "\n",
      "\n",
      "8 - Average ODF Degree : \n",
      "FitnessResult(min=1.0, max=47.44444444444444, score=7.9959156306567865, std=8.269557333306938)\n",
      "\n",
      "\n",
      "9 - Flake ODF : \n",
      "FitnessResult(min=0.0, max=1.0, score=0.037803689800501354, std=0.17390298367888082)\n",
      "\n",
      "\n",
      "10 - Fraction over median degree : \n",
      "FitnessResult(min=0.0, max=0.4947075804554688, score=0.007861683994358222, std=0.048567009119841055)\n",
      "\n",
      "\n",
      "11 - Node coverage : \n",
      "1.0\n"
     ]
    }
   ],
   "source": [
    "fitness_functions(lp_coms)"
   ]
  },
  {
   "cell_type": "code",
   "execution_count": 43,
   "metadata": {
    "pycharm": {
     "name": "#%%\n"
    }
   },
   "outputs": [],
   "source": [
    "w_genre_purity = compute_overall_purity(lp_coms.communities, genre)\n",
    "genre_purity = compute_overall_purity(lp_coms.communities, genre, weighted=False)"
   ]
  },
  {
   "cell_type": "code",
   "execution_count": 44,
   "metadata": {
    "pycharm": {
     "name": "#%%\n"
    }
   },
   "outputs": [],
   "source": [
    "w_publisher_purity = compute_overall_purity(lp_coms.communities, publisher)\n",
    "publisher_purity = compute_overall_purity(lp_coms.communities, publisher, weighted=False)"
   ]
  },
  {
   "cell_type": "code",
   "execution_count": 45,
   "metadata": {
    "pycharm": {
     "name": "#%%\n"
    }
   },
   "outputs": [
    {
     "name": "stdout",
     "output_type": "stream",
     "text": [
      "GENRE\n",
      "Purity: 0.5390360050610348, Weighted: 0.32446211008381576\n",
      "Overall Network: 0.2714225053078556\n"
     ]
    }
   ],
   "source": [
    "print(f'GENRE')\n",
    "print(f'Purity: {genre_purity}, Weighted: {w_genre_purity}')\n",
    "print(f'Overall Network: {network_genre_purity}')"
   ]
  },
  {
   "cell_type": "code",
   "execution_count": 46,
   "metadata": {
    "pycharm": {
     "name": "#%%\n"
    }
   },
   "outputs": [
    {
     "name": "stdout",
     "output_type": "stream",
     "text": [
      "PUBLISHER\n",
      "Purity: 0.28774392793582715, Weighted: 0.08364296206687967\n",
      "Overall Network: 0.04704883227176221\n"
     ]
    }
   ],
   "source": [
    "print(f'PUBLISHER')\n",
    "print(f'Purity: {publisher_purity}, Weighted: {w_publisher_purity}')\n",
    "print(f'Overall Network: {network_publisher_purity}')"
   ]
  },
  {
   "cell_type": "markdown",
   "metadata": {
    "pycharm": {
     "name": "#%% md\n"
    }
   },
   "source": [
    "### Angel\n",
    "using : cdlib.algorithms.angel [the faster successor of Demon]\n",
    "It is a node-centric bottom-up community discovery algorithm. It leverages ego-network structures and overlapping label propagation to identify micro-scale communities that are subsequently merged in mesoscale ones."
   ]
  },
  {
   "cell_type": "code",
   "execution_count": 102,
   "metadata": {
    "pycharm": {
     "name": "#%%\n"
    }
   },
   "outputs": [
    {
     "ename": "KeyboardInterrupt",
     "evalue": "",
     "output_type": "error",
     "traceback": [
      "\u001b[0;31m---------------------------------------------------------------------------\u001b[0m",
      "\u001b[0;31mKeyboardInterrupt\u001b[0m                         Traceback (most recent call last)",
      "\u001b[0;32m/tmp/ipykernel_31690/1260287088.py\u001b[0m in \u001b[0;36m<module>\u001b[0;34m\u001b[0m\n\u001b[1;32m      2\u001b[0m \u001b[0;31m#threshold – merging threshold in [0,1].\u001b[0m\u001b[0;34m\u001b[0m\u001b[0;34m\u001b[0m\u001b[0;34m\u001b[0m\u001b[0m\n\u001b[1;32m      3\u001b[0m \u001b[0;34m\u001b[0m\u001b[0m\n\u001b[0;32m----> 4\u001b[0;31m \u001b[0mDA_coms\u001b[0m \u001b[0;34m=\u001b[0m \u001b[0malgorithms\u001b[0m\u001b[0;34m.\u001b[0m\u001b[0mangel\u001b[0m\u001b[0;34m(\u001b[0m\u001b[0mg\u001b[0m\u001b[0;34m,\u001b[0m \u001b[0mmin_community_size\u001b[0m\u001b[0;34m=\u001b[0m\u001b[0;36m3\u001b[0m\u001b[0;34m,\u001b[0m \u001b[0mthreshold\u001b[0m\u001b[0;34m=\u001b[0m\u001b[0;36m0.25\u001b[0m\u001b[0;34m)\u001b[0m\u001b[0;34m\u001b[0m\u001b[0;34m\u001b[0m\u001b[0m\n\u001b[0m",
      "\u001b[0;32m~/bookdealer-recommendation-network/.venv/lib/python3.8/site-packages/cdlib/algorithms/overlapping_partition.py\u001b[0m in \u001b[0;36mangel\u001b[0;34m(g_original, threshold, min_community_size)\u001b[0m\n\u001b[1;32m    252\u001b[0m             \u001b[0mgraph\u001b[0m\u001b[0;34m=\u001b[0m\u001b[0mg\u001b[0m\u001b[0;34m,\u001b[0m \u001b[0mmin_comsize\u001b[0m\u001b[0;34m=\u001b[0m\u001b[0mmin_community_size\u001b[0m\u001b[0;34m,\u001b[0m \u001b[0mthreshold\u001b[0m\u001b[0;34m=\u001b[0m\u001b[0mthreshold\u001b[0m\u001b[0;34m,\u001b[0m \u001b[0msave\u001b[0m\u001b[0;34m=\u001b[0m\u001b[0;32mFalse\u001b[0m\u001b[0;34m\u001b[0m\u001b[0;34m\u001b[0m\u001b[0m\n\u001b[1;32m    253\u001b[0m         )\n\u001b[0;32m--> 254\u001b[0;31m         \u001b[0mcoms\u001b[0m \u001b[0;34m=\u001b[0m \u001b[0ma\u001b[0m\u001b[0;34m.\u001b[0m\u001b[0mexecute\u001b[0m\u001b[0;34m(\u001b[0m\u001b[0;34m)\u001b[0m\u001b[0;34m\u001b[0m\u001b[0;34m\u001b[0m\u001b[0m\n\u001b[0m\u001b[1;32m    255\u001b[0m \u001b[0;34m\u001b[0m\u001b[0m\n\u001b[1;32m    256\u001b[0m     return NodeClustering(\n",
      "\u001b[0;32m~/bookdealer-recommendation-network/.venv/lib/python3.8/site-packages/angel/alg/iAngel.py\u001b[0m in \u001b[0;36mtimed\u001b[0;34m(*args, **kw)\u001b[0m\n\u001b[1;32m     23\u001b[0m     \u001b[0;32mdef\u001b[0m \u001b[0mtimed\u001b[0m\u001b[0;34m(\u001b[0m\u001b[0;34m*\u001b[0m\u001b[0margs\u001b[0m\u001b[0;34m,\u001b[0m \u001b[0;34m**\u001b[0m\u001b[0mkw\u001b[0m\u001b[0;34m)\u001b[0m\u001b[0;34m:\u001b[0m\u001b[0;34m\u001b[0m\u001b[0;34m\u001b[0m\u001b[0m\n\u001b[1;32m     24\u001b[0m         \u001b[0mts\u001b[0m \u001b[0;34m=\u001b[0m \u001b[0mtime\u001b[0m\u001b[0;34m.\u001b[0m\u001b[0mtime\u001b[0m\u001b[0;34m(\u001b[0m\u001b[0;34m)\u001b[0m\u001b[0;34m\u001b[0m\u001b[0;34m\u001b[0m\u001b[0m\n\u001b[0;32m---> 25\u001b[0;31m         \u001b[0mresult\u001b[0m \u001b[0;34m=\u001b[0m \u001b[0mmethod\u001b[0m\u001b[0;34m(\u001b[0m\u001b[0;34m*\u001b[0m\u001b[0margs\u001b[0m\u001b[0;34m,\u001b[0m \u001b[0;34m**\u001b[0m\u001b[0mkw\u001b[0m\u001b[0;34m)\u001b[0m\u001b[0;34m\u001b[0m\u001b[0;34m\u001b[0m\u001b[0m\n\u001b[0m\u001b[1;32m     26\u001b[0m         \u001b[0mte\u001b[0m \u001b[0;34m=\u001b[0m \u001b[0mtime\u001b[0m\u001b[0;34m.\u001b[0m\u001b[0mtime\u001b[0m\u001b[0;34m(\u001b[0m\u001b[0;34m)\u001b[0m\u001b[0;34m\u001b[0m\u001b[0;34m\u001b[0m\u001b[0m\n\u001b[1;32m     27\u001b[0m \u001b[0;34m\u001b[0m\u001b[0m\n",
      "\u001b[0;32m~/bookdealer-recommendation-network/.venv/lib/python3.8/site-packages/angel/alg/iAngel.py\u001b[0m in \u001b[0;36mexecute\u001b[0;34m(self)\u001b[0m\n\u001b[1;32m    107\u001b[0m             \u001b[0mego_minus_ego_nodes\u001b[0m \u001b[0;34m=\u001b[0m \u001b[0mset\u001b[0m\u001b[0;34m(\u001b[0m\u001b[0mself\u001b[0m\u001b[0;34m.\u001b[0m\u001b[0mG\u001b[0m\u001b[0;34m.\u001b[0m\u001b[0mneighborhood\u001b[0m\u001b[0;34m(\u001b[0m\u001b[0mego\u001b[0m\u001b[0;34m,\u001b[0m \u001b[0;36m1\u001b[0m\u001b[0;34m,\u001b[0m \u001b[0mmode\u001b[0m\u001b[0;34m=\u001b[0m\u001b[0;34m\"ALL\"\u001b[0m\u001b[0;34m)\u001b[0m\u001b[0;34m)\u001b[0m \u001b[0;34m-\u001b[0m \u001b[0;34m{\u001b[0m\u001b[0mego\u001b[0m\u001b[0;34m}\u001b[0m\u001b[0;34m\u001b[0m\u001b[0;34m\u001b[0m\u001b[0m\n\u001b[1;32m    108\u001b[0m             \u001b[0;32mif\u001b[0m \u001b[0mlen\u001b[0m\u001b[0;34m(\u001b[0m\u001b[0mego_minus_ego_nodes\u001b[0m\u001b[0;34m)\u001b[0m \u001b[0;34m>=\u001b[0m \u001b[0mself\u001b[0m\u001b[0;34m.\u001b[0m\u001b[0mmin_community_size\u001b[0m\u001b[0;34m:\u001b[0m\u001b[0;34m\u001b[0m\u001b[0;34m\u001b[0m\u001b[0m\n\u001b[0;32m--> 109\u001b[0;31m                 \u001b[0mcommunity_to_nodes\u001b[0m \u001b[0;34m=\u001b[0m \u001b[0mself\u001b[0m\u001b[0;34m.\u001b[0m\u001b[0m__overlapping_label_propagation\u001b[0m\u001b[0;34m(\u001b[0m\u001b[0mego_minus_ego_nodes\u001b[0m\u001b[0;34m)\u001b[0m\u001b[0;34m\u001b[0m\u001b[0;34m\u001b[0m\u001b[0m\n\u001b[0m\u001b[1;32m    110\u001b[0m \u001b[0;34m\u001b[0m\u001b[0m\n\u001b[1;32m    111\u001b[0m                 \u001b[0;31m# merging phase\u001b[0m\u001b[0;34m\u001b[0m\u001b[0;34m\u001b[0m\u001b[0;34m\u001b[0m\u001b[0m\n",
      "\u001b[0;32m~/bookdealer-recommendation-network/.venv/lib/python3.8/site-packages/angel/alg/iAngel.py\u001b[0m in \u001b[0;36m__overlapping_label_propagation\u001b[0;34m(self, ego_minus_ego_nodes)\u001b[0m\n\u001b[1;32m    329\u001b[0m             \u001b[0;32mfor\u001b[0m \u001b[0mn\u001b[0m \u001b[0;32min\u001b[0m \u001b[0mego_minus_ego_nodes\u001b[0m\u001b[0;34m:\u001b[0m\u001b[0;34m\u001b[0m\u001b[0;34m\u001b[0m\u001b[0m\n\u001b[1;32m    330\u001b[0m                 \u001b[0mlabel_freq\u001b[0m \u001b[0;34m=\u001b[0m \u001b[0;34m{\u001b[0m\u001b[0;34m}\u001b[0m\u001b[0;34m\u001b[0m\u001b[0;34m\u001b[0m\u001b[0m\n\u001b[0;32m--> 331\u001b[0;31m                 \u001b[0mn_neighbors\u001b[0m \u001b[0;34m=\u001b[0m \u001b[0mset\u001b[0m\u001b[0;34m(\u001b[0m\u001b[0mself\u001b[0m\u001b[0;34m.\u001b[0m\u001b[0mG\u001b[0m\u001b[0;34m.\u001b[0m\u001b[0mneighbors\u001b[0m\u001b[0;34m(\u001b[0m\u001b[0mn\u001b[0m\u001b[0;34m)\u001b[0m\u001b[0;34m)\u001b[0m \u001b[0;34m&\u001b[0m \u001b[0mego_minus_ego_nodes\u001b[0m\u001b[0;34m\u001b[0m\u001b[0;34m\u001b[0m\u001b[0m\n\u001b[0m\u001b[1;32m    332\u001b[0m \u001b[0;34m\u001b[0m\u001b[0m\n\u001b[1;32m    333\u001b[0m                 \u001b[0;31m# all nodes have stable community assignment\u001b[0m\u001b[0;34m\u001b[0m\u001b[0;34m\u001b[0m\u001b[0;34m\u001b[0m\u001b[0m\n",
      "\u001b[0;31mKeyboardInterrupt\u001b[0m: "
     ]
    }
   ],
   "source": [
    "#minimum community size, default 3\n",
    "#threshold – merging threshold in [0,1].\n",
    "\n",
    "DA_coms = algorithms.angel(g, min_community_size=3, threshold=0.25)"
   ]
  },
  {
   "cell_type": "code",
   "execution_count": 48,
   "metadata": {
    "pycharm": {
     "name": "#%%\n"
    }
   },
   "outputs": [
    {
     "data": {
      "text/plain": [
       "'ANGEL'"
      ]
     },
     "execution_count": 48,
     "metadata": {},
     "output_type": "execute_result"
    }
   ],
   "source": [
    "DA_coms.method_name"
   ]
  },
  {
   "cell_type": "code",
   "execution_count": 49,
   "metadata": {
    "pycharm": {
     "name": "#%%\n"
    }
   },
   "outputs": [
    {
     "data": {
      "text/plain": [
       "{0: {'nodes': 11300, 'edges': 979113},\n",
       " 1: {'nodes': 120, 'edges': 6692},\n",
       " 2: {'nodes': 53, 'edges': 1378},\n",
       " 3: {'nodes': 19, 'edges': 171},\n",
       " 4: {'nodes': 12, 'edges': 66},\n",
       " 5: {'nodes': 12, 'edges': 66},\n",
       " 6: {'nodes': 12, 'edges': 66},\n",
       " 7: {'nodes': 11, 'edges': 55},\n",
       " 8: {'nodes': 10, 'edges': 45},\n",
       " 9: {'nodes': 9, 'edges': 36},\n",
       " 10: {'nodes': 8, 'edges': 28},\n",
       " 11: {'nodes': 7, 'edges': 21},\n",
       " 12: {'nodes': 6, 'edges': 15},\n",
       " 13: {'nodes': 6, 'edges': 15},\n",
       " 14: {'nodes': 5, 'edges': 10}}"
      ]
     },
     "execution_count": 49,
     "metadata": {},
     "output_type": "execute_result"
    }
   ],
   "source": [
    "info_DA = info_community(DA_coms.communities, DA_coms)\n",
    "info_DA"
   ]
  },
  {
   "cell_type": "code",
   "execution_count": 50,
   "metadata": {
    "pycharm": {
     "name": "#%%\n"
    }
   },
   "outputs": [
    {
     "name": "stdout",
     "output_type": "stream",
     "text": [
      "Nodes: FitnessResult(min=5, max=11300, score=772.6666666666666, std=2813.696350986644)\n",
      "Edges: FitnessResult(min=10, max=979113, score=65851.8, std=244084.97229426747)\n",
      "Overlapping\n"
     ]
    }
   ],
   "source": [
    "print(f\"Nodes: {evaluation.size(g, DA_coms)}\")\n",
    "print(f\"Edges: {evaluation.edges_inside(g, DA_coms)}\")\n",
    "if DA_coms.overlap: \n",
    "    print('Overlapping')\n",
    "else: print('No overlapping')"
   ]
  },
  {
   "cell_type": "code",
   "execution_count": 51,
   "metadata": {
    "pycharm": {
     "name": "#%%\n"
    }
   },
   "outputs": [
    {
     "data": {
      "image/png": "[encoded data removed]",
      "text/plain": [
       "<Figure size 1080x504 with 2 Axes>"
      ]
     },
     "metadata": {
      "needs_background": "light"
     },
     "output_type": "display_data"
    }
   ],
   "source": [
    "fig, axes = plt.subplots(1,2, figsize=(15, 7))\n",
    "\n",
    "sns.barplot(ax=axes[0], \n",
    "            x=list(info_DA.keys()), \n",
    "            y=[c['nodes'] for c in info_DA.values()],\n",
    "            palette='light:b_r')\n",
    "\n",
    "axes[0].set_xlabel('Community')\n",
    "axes[0].set_ylabel('Nodes')\n",
    "axes[0].set_yscale('log')\n",
    "\n",
    "# Show only min and max of x tick labels\n",
    "min_max = [min(list(info_DA.keys())), max(list(info_DA.keys()))]\n",
    "for index, label in enumerate(axes[0].get_xticklabels()):\n",
    "   if index in min_max:\n",
    "      label.set_visible(True)\n",
    "   else:\n",
    "      label.set_visible(False)\n",
    "\n",
    "\n",
    "sns.barplot(ax=axes[1],\n",
    "            x=list(info_DA.keys()),\n",
    "            y=[c['edges'] for c in info_DA.values()],\n",
    "            palette='light:b_r')\n",
    "\n",
    "axes[1].set_xlabel('Community')\n",
    "axes[1].set_ylabel('Edges')\n",
    "axes[1].set_yscale('log')\n",
    "\n",
    "# Show only min and max of x tick labels\n",
    "for index, label in enumerate(axes[1].get_xticklabels()):\n",
    "   if index in min_max:\n",
    "      label.set_visible(True)\n",
    "   else:\n",
    "      label.set_visible(False)\n",
    "\n",
    "plt.suptitle(\"Edges and nodes for the communities (Angel)\")\n",
    "plt.show()"
   ]
  },
  {
   "cell_type": "code",
   "execution_count": 52,
   "metadata": {
    "pycharm": {
     "name": "#%%\n"
    }
   },
   "outputs": [
    {
     "name": "stdout",
     "output_type": "stream",
     "text": [
      "INTERNAL EVALUATION\n",
      "\n",
      "1 - Average Internal Degree: \n",
      "FitnessResult(min=4.0, max=173.29433628318583, score=29.455177974434612, std=47.076886607400084)\n",
      "\n",
      "\n",
      "2 - Internal Edge Density: \n",
      "FitnessResult(min=0.015337139240922722, max=1.0, score=0.9301728027467805, std=0.24499800469154845)\n",
      "\n",
      "\n",
      "3 - Conductance : \n",
      "FitnessResult(min=0.0007011635027556644, max=0.9831081081081081, score=0.6042637916456693, std=0.3076198198366482)\n",
      "\n",
      "\n",
      "4 - Triangle Participation Ratio : \n",
      "FitnessResult(min=1.0, max=1.0, score=1.0, std=0.0)\n",
      "\n",
      "\n",
      "5 - Newmann modularity : \n",
      "FitnessResult(min=None, max=None, score=0.01697446118424011, std=None)\n",
      "\n",
      "\n",
      "6 - Expansion : \n",
      "FitnessResult(min=0.1215929203539823, max=232.8, score=44.18874454012504, std=58.75082214231575)\n",
      "\n",
      "\n",
      "7 - Normalized cut : \n",
      "FitnessResult(min=0.07418539363355348, max=0.9836969903751632, score=0.6094075043584941, std=0.29842025723408755)\n",
      "\n",
      "\n",
      "8 - Average ODF Degree : \n",
      "FitnessResult(min=0.1215929203539823, max=232.8, score=44.18874454012504, std=58.75082214231575)\n",
      "\n",
      "\n",
      "9 - Flake ODF : \n",
      "FitnessResult(min=0.0006194690265486725, max=0.2, score=0.11478861027923784, std=0.057999984557004405)\n",
      "\n",
      "\n",
      "10 - Fraction over median degree : \n",
      "FitnessResult(min=0.0, max=0.49982300884955755, score=0.03554375614552606, std=0.12436070447761938)\n",
      "\n",
      "\n",
      "11 - Node coverage : \n",
      "0.9989631037760304\n"
     ]
    }
   ],
   "source": [
    "fitness_functions(DA_coms)"
   ]
  },
  {
   "cell_type": "code",
   "execution_count": 53,
   "metadata": {
    "pycharm": {
     "name": "#%%\n"
    }
   },
   "outputs": [],
   "source": [
    "w_genre_purity = compute_overall_purity(DA_coms.communities, genre)\n",
    "genre_purity = compute_overall_purity(DA_coms.communities, genre, weighted=False)"
   ]
  },
  {
   "cell_type": "code",
   "execution_count": 54,
   "metadata": {
    "pycharm": {
     "name": "#%%\n"
    }
   },
   "outputs": [],
   "source": [
    "w_publisher_purity = compute_overall_purity(DA_coms.communities, publisher)\n",
    "publisher_purity = compute_overall_purity(DA_coms.communities, publisher, weighted=False)"
   ]
  },
  {
   "cell_type": "code",
   "execution_count": 55,
   "metadata": {
    "pycharm": {
     "name": "#%%\n"
    }
   },
   "outputs": [
    {
     "name": "stdout",
     "output_type": "stream",
     "text": [
      "GENRE\n",
      "Purity: 0.544643638511317, Weighted: 0.28429680759275233\n",
      "Overall Network: 0.2714225053078556\n"
     ]
    }
   ],
   "source": [
    "print(f'GENRE')\n",
    "print(f'Purity: {genre_purity}, Weighted: {w_genre_purity}')\n",
    "print(f'Overall Network: {network_genre_purity}')"
   ]
  },
  {
   "cell_type": "code",
   "execution_count": 56,
   "metadata": {
    "pycharm": {
     "name": "#%%\n"
    }
   },
   "outputs": [
    {
     "name": "stdout",
     "output_type": "stream",
     "text": [
      "PUBLISHER\n",
      "Purity: 0.36935591607575335, Weighted: 0.056600517687661764\n",
      "Overall Network: 0.04704883227176221\n"
     ]
    }
   ],
   "source": [
    "print(f'PUBLISHER')\n",
    "print(f'Purity: {publisher_purity}, Weighted: {w_publisher_purity}')\n",
    "print(f'Overall Network: {network_publisher_purity}')"
   ]
  },
  {
   "cell_type": "markdown",
   "metadata": {
    "pycharm": {
     "name": "#%% md\n"
    }
   },
   "source": [
    "## Approach 4: Entity Closeness\n",
    "Communities as a set of nodes that can reach any member of the group crossing a very low number of edges"
   ]
  },
  {
   "cell_type": "markdown",
   "metadata": {
    "pycharm": {
     "name": "#%% md\n"
    }
   },
   "source": [
    "### Walk-trap"
   ]
  },
  {
   "cell_type": "code",
   "execution_count": 57,
   "metadata": {
    "pycharm": {
     "name": "#%%\n"
    }
   },
   "outputs": [],
   "source": [
    "wt_coms = algorithms.walktrap(g)"
   ]
  },
  {
   "cell_type": "code",
   "execution_count": 58,
   "metadata": {
    "pycharm": {
     "name": "#%%\n"
    }
   },
   "outputs": [
    {
     "data": {
      "text/plain": [
       "'Walktrap'"
      ]
     },
     "execution_count": 58,
     "metadata": {},
     "output_type": "execute_result"
    }
   ],
   "source": [
    "wt_coms.method_name"
   ]
  },
  {
   "cell_type": "code",
   "execution_count": 59,
   "metadata": {
    "pycharm": {
     "name": "#%%\n"
    }
   },
   "outputs": [
    {
     "data": {
      "text/plain": [
       "{0: {'nodes': 1760, 'edges': 66659},\n",
       " 1: {'nodes': 1463, 'edges': 139215},\n",
       " 2: {'nodes': 1331, 'edges': 50701},\n",
       " 3: {'nodes': 1264, 'edges': 73074},\n",
       " 4: {'nodes': 312, 'edges': 48516},\n",
       " 5: {'nodes': 287, 'edges': 39378},\n",
       " 6: {'nodes': 244, 'edges': 29404},\n",
       " 7: {'nodes': 236, 'edges': 20301},\n",
       " 8: {'nodes': 211, 'edges': 22155},\n",
       " 9: {'nodes': 184, 'edges': 16836},\n",
       " 10: {'nodes': 179, 'edges': 15931},\n",
       " 11: {'nodes': 169, 'edges': 13546},\n",
       " 12: {'nodes': 157, 'edges': 12246},\n",
       " 13: {'nodes': 138, 'edges': 9453},\n",
       " 14: {'nodes': 116, 'edges': 6670},\n",
       " 15: {'nodes': 113, 'edges': 6116},\n",
       " 16: {'nodes': 113, 'edges': 6328},\n",
       " 17: {'nodes': 98, 'edges': 3265},\n",
       " 18: {'nodes': 90, 'edges': 4005},\n",
       " 19: {'nodes': 90, 'edges': 4005},\n",
       " 20: {'nodes': 89, 'edges': 3506},\n",
       " 21: {'nodes': 89, 'edges': 3916},\n",
       " 22: {'nodes': 80, 'edges': 3160},\n",
       " 23: {'nodes': 79, 'edges': 3081},\n",
       " 24: {'nodes': 77, 'edges': 2926},\n",
       " 25: {'nodes': 75, 'edges': 2775},\n",
       " 26: {'nodes': 71, 'edges': 2485},\n",
       " 27: {'nodes': 69, 'edges': 2346},\n",
       " 28: {'nodes': 68, 'edges': 2278},\n",
       " 29: {'nodes': 63, 'edges': 1953},\n",
       " 30: {'nodes': 61, 'edges': 1830},\n",
       " 31: {'nodes': 55, 'edges': 1485},\n",
       " 32: {'nodes': 55, 'edges': 1485},\n",
       " 33: {'nodes': 54, 'edges': 1431},\n",
       " 34: {'nodes': 54, 'edges': 799},\n",
       " 35: {'nodes': 51, 'edges': 1275},\n",
       " 36: {'nodes': 50, 'edges': 1225},\n",
       " 37: {'nodes': 48, 'edges': 1128},\n",
       " 38: {'nodes': 47, 'edges': 1081},\n",
       " 39: {'nodes': 44, 'edges': 904},\n",
       " 40: {'nodes': 43, 'edges': 903},\n",
       " 41: {'nodes': 43, 'edges': 903},\n",
       " 42: {'nodes': 42, 'edges': 861},\n",
       " 43: {'nodes': 40, 'edges': 780},\n",
       " 44: {'nodes': 38, 'edges': 667},\n",
       " 45: {'nodes': 38, 'edges': 667},\n",
       " 46: {'nodes': 37, 'edges': 666},\n",
       " 47: {'nodes': 35, 'edges': 595},\n",
       " 48: {'nodes': 34, 'edges': 319},\n",
       " 49: {'nodes': 33, 'edges': 528},\n",
       " 50: {'nodes': 33, 'edges': 528},\n",
       " 51: {'nodes': 32, 'edges': 366},\n",
       " 52: {'nodes': 29, 'edges': 406},\n",
       " 53: {'nodes': 27, 'edges': 351},\n",
       " 54: {'nodes': 27, 'edges': 351},\n",
       " 55: {'nodes': 27, 'edges': 351},\n",
       " 56: {'nodes': 25, 'edges': 258},\n",
       " 57: {'nodes': 23, 'edges': 213},\n",
       " 58: {'nodes': 23, 'edges': 253},\n",
       " 59: {'nodes': 22, 'edges': 231},\n",
       " 60: {'nodes': 22, 'edges': 231},\n",
       " 61: {'nodes': 22, 'edges': 231},\n",
       " 62: {'nodes': 22, 'edges': 231},\n",
       " 63: {'nodes': 21, 'edges': 210},\n",
       " 64: {'nodes': 21, 'edges': 210},\n",
       " 65: {'nodes': 20, 'edges': 190},\n",
       " 66: {'nodes': 19, 'edges': 171},\n",
       " 67: {'nodes': 19, 'edges': 171},\n",
       " 68: {'nodes': 19, 'edges': 171},\n",
       " 69: {'nodes': 18, 'edges': 153},\n",
       " 70: {'nodes': 18, 'edges': 153},\n",
       " 71: {'nodes': 18, 'edges': 153},\n",
       " 72: {'nodes': 17, 'edges': 108},\n",
       " 73: {'nodes': 17, 'edges': 136},\n",
       " 74: {'nodes': 17, 'edges': 136},\n",
       " 75: {'nodes': 17, 'edges': 136},\n",
       " 76: {'nodes': 17, 'edges': 136},\n",
       " 77: {'nodes': 16, 'edges': 120},\n",
       " 78: {'nodes': 16, 'edges': 120},\n",
       " 79: {'nodes': 16, 'edges': 120},\n",
       " 80: {'nodes': 16, 'edges': 120},\n",
       " 81: {'nodes': 16, 'edges': 120},\n",
       " 82: {'nodes': 16, 'edges': 120},\n",
       " 83: {'nodes': 15, 'edges': 105},\n",
       " 84: {'nodes': 15, 'edges': 105},\n",
       " 85: {'nodes': 15, 'edges': 105},\n",
       " 86: {'nodes': 15, 'edges': 105},\n",
       " 87: {'nodes': 14, 'edges': 69},\n",
       " 88: {'nodes': 14, 'edges': 91},\n",
       " 89: {'nodes': 14, 'edges': 91},\n",
       " 90: {'nodes': 12, 'edges': 66},\n",
       " 91: {'nodes': 12, 'edges': 42},\n",
       " 92: {'nodes': 12, 'edges': 66},\n",
       " 93: {'nodes': 12, 'edges': 66},\n",
       " 94: {'nodes': 11, 'edges': 39},\n",
       " 95: {'nodes': 11, 'edges': 55},\n",
       " 96: {'nodes': 11, 'edges': 55},\n",
       " 97: {'nodes': 11, 'edges': 55},\n",
       " 98: {'nodes': 11, 'edges': 55},\n",
       " 99: {'nodes': 11, 'edges': 55},\n",
       " 100: {'nodes': 10, 'edges': 45},\n",
       " 101: {'nodes': 10, 'edges': 45},\n",
       " 102: {'nodes': 10, 'edges': 45},\n",
       " 103: {'nodes': 10, 'edges': 45},\n",
       " 104: {'nodes': 10, 'edges': 45},\n",
       " 105: {'nodes': 10, 'edges': 45},\n",
       " 106: {'nodes': 10, 'edges': 45},\n",
       " 107: {'nodes': 10, 'edges': 45},\n",
       " 108: {'nodes': 9, 'edges': 36},\n",
       " 109: {'nodes': 9, 'edges': 36},\n",
       " 110: {'nodes': 9, 'edges': 36},\n",
       " 111: {'nodes': 9, 'edges': 36},\n",
       " 112: {'nodes': 9, 'edges': 36},\n",
       " 113: {'nodes': 9, 'edges': 36},\n",
       " 114: {'nodes': 9, 'edges': 36},\n",
       " 115: {'nodes': 9, 'edges': 36},\n",
       " 116: {'nodes': 9, 'edges': 36},\n",
       " 117: {'nodes': 9, 'edges': 36},\n",
       " 118: {'nodes': 8, 'edges': 28},\n",
       " 119: {'nodes': 8, 'edges': 28},\n",
       " 120: {'nodes': 8, 'edges': 28},\n",
       " 121: {'nodes': 8, 'edges': 28},\n",
       " 122: {'nodes': 8, 'edges': 28},\n",
       " 123: {'nodes': 7, 'edges': 21},\n",
       " 124: {'nodes': 7, 'edges': 21},\n",
       " 125: {'nodes': 7, 'edges': 21},\n",
       " 126: {'nodes': 7, 'edges': 21},\n",
       " 127: {'nodes': 7, 'edges': 21},\n",
       " 128: {'nodes': 7, 'edges': 21},\n",
       " 129: {'nodes': 6, 'edges': 15},\n",
       " 130: {'nodes': 6, 'edges': 15},\n",
       " 131: {'nodes': 6, 'edges': 15},\n",
       " 132: {'nodes': 6, 'edges': 15},\n",
       " 133: {'nodes': 6, 'edges': 15},\n",
       " 134: {'nodes': 6, 'edges': 15},\n",
       " 135: {'nodes': 6, 'edges': 15},\n",
       " 136: {'nodes': 6, 'edges': 15},\n",
       " 137: {'nodes': 5, 'edges': 10},\n",
       " 138: {'nodes': 5, 'edges': 10},\n",
       " 139: {'nodes': 5, 'edges': 10},\n",
       " 140: {'nodes': 5, 'edges': 10},\n",
       " 141: {'nodes': 5, 'edges': 10},\n",
       " 142: {'nodes': 5, 'edges': 10},\n",
       " 143: {'nodes': 5, 'edges': 10},\n",
       " 144: {'nodes': 5, 'edges': 10},\n",
       " 145: {'nodes': 5, 'edges': 10},\n",
       " 146: {'nodes': 4, 'edges': 6},\n",
       " 147: {'nodes': 4, 'edges': 6},\n",
       " 148: {'nodes': 4, 'edges': 6},\n",
       " 149: {'nodes': 4, 'edges': 6},\n",
       " 150: {'nodes': 4, 'edges': 6},\n",
       " 151: {'nodes': 4, 'edges': 6},\n",
       " 152: {'nodes': 4, 'edges': 4},\n",
       " 153: {'nodes': 4, 'edges': 6},\n",
       " 154: {'nodes': 4, 'edges': 6},\n",
       " 155: {'nodes': 4, 'edges': 6},\n",
       " 156: {'nodes': 4, 'edges': 6},\n",
       " 157: {'nodes': 4, 'edges': 6},\n",
       " 158: {'nodes': 3, 'edges': 3},\n",
       " 159: {'nodes': 3, 'edges': 3},\n",
       " 160: {'nodes': 3, 'edges': 3},\n",
       " 161: {'nodes': 3, 'edges': 3},\n",
       " 162: {'nodes': 3, 'edges': 3},\n",
       " 163: {'nodes': 3, 'edges': 3},\n",
       " 164: {'nodes': 3, 'edges': 3},\n",
       " 165: {'nodes': 3, 'edges': 3},\n",
       " 166: {'nodes': 3, 'edges': 3},\n",
       " 167: {'nodes': 3, 'edges': 3},\n",
       " 168: {'nodes': 3, 'edges': 3},\n",
       " 169: {'nodes': 3, 'edges': 3},\n",
       " 170: {'nodes': 2, 'edges': 1},\n",
       " 171: {'nodes': 2, 'edges': 1},\n",
       " 172: {'nodes': 2, 'edges': 1},\n",
       " 173: {'nodes': 2, 'edges': 1},\n",
       " 174: {'nodes': 2, 'edges': 1},\n",
       " 175: {'nodes': 2, 'edges': 1},\n",
       " 176: {'nodes': 2, 'edges': 1},\n",
       " 177: {'nodes': 2, 'edges': 1},\n",
       " 178: {'nodes': 2, 'edges': 1},\n",
       " 179: {'nodes': 2, 'edges': 1},\n",
       " 180: {'nodes': 1, 'edges': 0},\n",
       " 181: {'nodes': 1, 'edges': 0},\n",
       " 182: {'nodes': 1, 'edges': 0}}"
      ]
     },
     "execution_count": 59,
     "metadata": {},
     "output_type": "execute_result"
    }
   ],
   "source": [
    "info_wt = info_community(wt_coms.communities, wt_coms)\n",
    "info_wt"
   ]
  },
  {
   "cell_type": "code",
   "execution_count": 60,
   "metadata": {
    "pycharm": {
     "name": "#%%\n"
    }
   },
   "outputs": [
    {
     "name": "stdout",
     "output_type": "stream",
     "text": [
      "Nodes: FitnessResult(min=1, max=1760, score=63.240437158469945, std=216.0130716137466)\n",
      "Edges: FitnessResult(min=0, max=139215, score=3525.9781420765025, std=14096.483585064861)\n",
      "No overlapping\n"
     ]
    }
   ],
   "source": [
    "print(f\"Nodes: {evaluation.size(g, wt_coms)}\")\n",
    "print(f\"Edges: {evaluation.edges_inside(g, wt_coms)}\")\n",
    "if wt_coms.overlap: \n",
    "    print('Overlapping')\n",
    "else: print('No overlapping')"
   ]
  },
  {
   "cell_type": "code",
   "execution_count": 61,
   "metadata": {
    "pycharm": {
     "name": "#%%\n"
    }
   },
   "outputs": [
    {
     "data": {
      "image/png": "[encoded data removed]",
      "text/plain": [
       "<Figure size 1080x504 with 2 Axes>"
      ]
     },
     "metadata": {
      "needs_background": "light"
     },
     "output_type": "display_data"
    }
   ],
   "source": [
    "fig, axes = plt.subplots(1,2, figsize=(15, 7))\n",
    "\n",
    "sns.barplot(ax=axes[0], \n",
    "            x=list(info_wt.keys()), \n",
    "            y=[c['nodes'] for c in info_wt.values()],\n",
    "            palette='light:b_r')\n",
    "\n",
    "axes[0].set_xlabel('Community')\n",
    "axes[0].set_ylabel('Nodes')\n",
    "axes[0].set_yscale('log')\n",
    "\n",
    "# Show only min and max of x tick labels\n",
    "min_max = [min(list(info_wt.keys())), max(list(info_wt.keys()))]\n",
    "for index, label in enumerate(axes[0].get_xticklabels()):\n",
    "   if index in min_max:\n",
    "      label.set_visible(True)\n",
    "   else:\n",
    "      label.set_visible(False)\n",
    "\n",
    "\n",
    "sns.barplot(ax=axes[1],\n",
    "            x=list(info_wt.keys()),\n",
    "            y=[c['edges'] for c in info_wt.values()],\n",
    "            palette='light:b_r')\n",
    "\n",
    "axes[1].set_xlabel('Community')\n",
    "axes[1].set_ylabel('Edges')\n",
    "axes[1].set_yscale('log')\n",
    "\n",
    "# Show only min and max of x tick labels\n",
    "for index, label in enumerate(axes[1].get_xticklabels()):\n",
    "   if index in min_max:\n",
    "      label.set_visible(True)\n",
    "   else:\n",
    "      label.set_visible(False)\n",
    "\n",
    "plt.suptitle(\"Edges and nodes for the communities (Angel)\")\n",
    "plt.show()"
   ]
  },
  {
   "cell_type": "code",
   "execution_count": 62,
   "metadata": {
    "pycharm": {
     "name": "#%%\n"
    }
   },
   "outputs": [
    {
     "name": "stdout",
     "output_type": "stream",
     "text": [
      "INTERNAL EVALUATION\n",
      "\n",
      "1 - Average Internal Degree: \n",
      "FitnessResult(min=4.0, max=173.29433628318583, score=29.455177974434612, std=47.076886607400084)\n",
      "\n",
      "\n",
      "2 - Internal Edge Density: \n",
      "FitnessResult(min=0.015337139240922722, max=1.0, score=0.9301728027467805, std=0.24499800469154845)\n",
      "\n",
      "\n",
      "3 - Conductance : \n",
      "FitnessResult(min=0.0007011635027556644, max=0.9831081081081081, score=0.6042637916456693, std=0.3076198198366482)\n",
      "\n",
      "\n",
      "4 - Triangle Participation Ratio : \n",
      "FitnessResult(min=1.0, max=1.0, score=1.0, std=0.0)\n",
      "\n",
      "\n",
      "5 - Newmann modularity : \n",
      "FitnessResult(min=None, max=None, score=0.01697446118424011, std=None)\n",
      "\n",
      "\n",
      "6 - Expansion : \n",
      "FitnessResult(min=0.1215929203539823, max=232.8, score=44.18874454012504, std=58.75082214231575)\n",
      "\n",
      "\n",
      "7 - Normalized cut : \n",
      "FitnessResult(min=0.07418539363355348, max=0.9836969903751632, score=0.6094075043584941, std=0.29842025723408755)\n",
      "\n",
      "\n",
      "8 - Average ODF Degree : \n",
      "FitnessResult(min=0.1215929203539823, max=232.8, score=44.18874454012504, std=58.75082214231575)\n",
      "\n",
      "\n",
      "9 - Flake ODF : \n",
      "FitnessResult(min=0.0006194690265486725, max=0.2, score=0.11478861027923784, std=0.057999984557004405)\n",
      "\n",
      "\n",
      "10 - Fraction over median degree : \n",
      "FitnessResult(min=0.0, max=0.49982300884955755, score=0.03554375614552606, std=0.12436070447761938)\n",
      "\n",
      "\n",
      "11 - Node coverage : \n",
      "0.9989631037760304\n"
     ]
    }
   ],
   "source": [
    "fitness_functions(DA_coms)"
   ]
  },
  {
   "cell_type": "code",
   "execution_count": 63,
   "metadata": {
    "pycharm": {
     "name": "#%%\n"
    }
   },
   "outputs": [],
   "source": [
    "w_genre_purity = compute_overall_purity(wt_coms.communities, genre)\n",
    "genre_purity = compute_overall_purity(wt_coms.communities, genre, weighted=False)"
   ]
  },
  {
   "cell_type": "code",
   "execution_count": 64,
   "metadata": {
    "pycharm": {
     "name": "#%%\n"
    }
   },
   "outputs": [],
   "source": [
    "w_publisher_purity = compute_overall_purity(wt_coms.communities, publisher)\n",
    "publisher_purity = compute_overall_purity(wt_coms.communities, publisher, weighted=False)"
   ]
  },
  {
   "cell_type": "code",
   "execution_count": 65,
   "metadata": {
    "pycharm": {
     "name": "#%%\n"
    }
   },
   "outputs": [
    {
     "name": "stdout",
     "output_type": "stream",
     "text": [
      "GENRE\n",
      "Purity: 0.5749308153162792, Weighted: 0.5086840058757447\n",
      "Overall Network: 0.2714225053078556\n"
     ]
    }
   ],
   "source": [
    "print(f'GENRE')\n",
    "print(f'Purity: {genre_purity}, Weighted: {w_genre_purity}')\n",
    "print(f'Overall Network: {network_genre_purity}')"
   ]
  },
  {
   "cell_type": "code",
   "execution_count": 66,
   "metadata": {
    "pycharm": {
     "name": "#%%\n"
    }
   },
   "outputs": [
    {
     "name": "stdout",
     "output_type": "stream",
     "text": [
      "PUBLISHER\n",
      "Purity: 0.30689428786076256, Weighted: 0.1427460468331465\n",
      "Overall Network: 0.04704883227176221\n"
     ]
    }
   ],
   "source": [
    "print(f'PUBLISHER')\n",
    "print(f'Purity: {publisher_purity}, Weighted: {w_publisher_purity}')\n",
    "print(f'Overall Network: {network_publisher_purity}')"
   ]
  },
  {
   "cell_type": "markdown",
   "metadata": {
    "pycharm": {
     "name": "#%% md\n"
    }
   },
   "source": [
    "# External Evaluation: Partition Comparisons"
   ]
  },
  {
   "cell_type": "markdown",
   "metadata": {
    "pycharm": {
     "name": "#%% md\n"
    }
   },
   "source": [
    "## Partitions comparison scores\n",
    "Compare different graph partition to assess their resemblance."
   ]
  },
  {
   "cell_type": "code",
   "execution_count": 87,
   "metadata": {
    "pycharm": {
     "name": "#%%\n"
    }
   },
   "outputs": [],
   "source": [
    "algs = [louv_coms, lp_coms, DA_coms, wt_coms]\n",
    "#algs = [louv_coms, lp_coms] # test"
   ]
  },
  {
   "cell_type": "code",
   "execution_count": 88,
   "metadata": {
    "pycharm": {
     "name": "#%%\n"
    }
   },
   "outputs": [],
   "source": [
    "combinations = list(itertools.combinations(algs, 2))"
   ]
  },
  {
   "cell_type": "code",
   "execution_count": 89,
   "metadata": {
    "pycharm": {
     "name": "#%%\n"
    }
   },
   "outputs": [
    {
     "name": "stdout",
     "output_type": "stream",
     "text": [
      "NF1 Louvain - Label Propagation = MatchingResult(score=0.015583752476756592, std=None)\n",
      "\n",
      "NF1 Louvain - ANGEL = MatchingResult(score=0.01289437585733882, std=None)\n",
      "\n",
      "NF1 Louvain - Walktrap = MatchingResult(score=0.09587143103435351, std=None)\n",
      "\n",
      "NF1 Label Propagation - ANGEL = MatchingResult(score=0.018790064102564105, std=None)\n",
      "\n",
      "NF1 Label Propagation - Walktrap = MatchingResult(score=0.5695628415300545, std=None)\n",
      "\n",
      "NF1 ANGEL - Walktrap = MatchingResult(score=0.0721311475409836, std=None)\n",
      "\n"
     ]
    }
   ],
   "source": [
    "for combination in combinations:\n",
    "    print(f\"NF1 {combination[0].method_name} - {combination[1].method_name} = {evaluation.nf1(combination[0], combination[1])}\")\n",
    "    print()"
   ]
  },
  {
   "cell_type": "code",
   "execution_count": 90,
   "metadata": {
    "pycharm": {
     "name": "#%%\n"
    }
   },
   "outputs": [
    {
     "name": "stdout",
     "output_type": "stream",
     "text": [
      "ONMI Louvain - Label Propagation = MatchingResult(score=0.19389181780122366, std=None)\n",
      "\n",
      "ONMI Louvain - ANGEL = MatchingResult(score=0.22731118189532018, std=None)\n",
      "\n",
      "ONMI Louvain - Walktrap = MatchingResult(score=0.3033959860499724, std=None)\n",
      "\n",
      "ONMI Label Propagation - ANGEL = MatchingResult(score=0.46858019761276526, std=None)\n",
      "\n",
      "ONMI Label Propagation - Walktrap = MatchingResult(score=0.7696679591128319, std=None)\n",
      "\n",
      "ONMI ANGEL - Walktrap = MatchingResult(score=0.4504629840002443, std=None)\n",
      "\n"
     ]
    }
   ],
   "source": [
    "for combination in combinations:\n",
    "    print(f\"ONMI {combination[0].method_name} - {combination[1].method_name} = {evaluation.overlapping_normalized_mutual_information_LFK(combination[0], combination[1])}\")\n",
    "    print()"
   ]
  },
  {
   "cell_type": "code",
   "execution_count": 91,
   "metadata": {
    "pycharm": {
     "name": "#%%\n"
    }
   },
   "outputs": [
    {
     "data": {
      "text/plain": [
       "<seaborn.axisgrid.FacetGrid at 0x7fa5ff69b8e0>"
      ]
     },
     "execution_count": 91,
     "metadata": {},
     "output_type": "execute_result"
    },
    {
     "data": {
      "image/png": "[encoded data removed]",
      "text/plain": [
       "<Figure size 360x360 with 1 Axes>"
      ]
     },
     "metadata": {},
     "output_type": "display_data"
    }
   ],
   "source": [
    "viz.plot_com_properties_relation(algs, evaluation.size, evaluation.internal_edge_density)"
   ]
  },
  {
   "cell_type": "code",
   "execution_count": 92,
   "metadata": {
    "pycharm": {
     "name": "#%%\n"
    }
   },
   "outputs": [],
   "source": [
    "method_names = [alg.method_name for alg in algs]"
   ]
  },
  {
   "cell_type": "code",
   "execution_count": 93,
   "metadata": {
    "pycharm": {
     "name": "#%%\n"
    }
   },
   "outputs": [],
   "source": [
    "f1_scores = list()\n",
    "for alg1 in algs:\n",
    "    f1_score = [evaluation.nf1(alg1, alg2).score for alg2 in algs]\n",
    "    f1_scores.append(f1_score)"
   ]
  },
  {
   "cell_type": "code",
   "execution_count": 94,
   "metadata": {},
   "outputs": [
    {
     "data": {
      "text/plain": [
       "0.8780000000000001"
      ]
     },
     "execution_count": 94,
     "metadata": {},
     "output_type": "execute_result"
    }
   ],
   "source": [
    "evaluation.nf1(DA_coms, DA_coms).score"
   ]
  },
  {
   "cell_type": "code",
   "execution_count": 95,
   "metadata": {},
   "outputs": [
    {
     "data": {
      "text/plain": [
       "1"
      ]
     },
     "execution_count": 95,
     "metadata": {},
     "output_type": "execute_result"
    }
   ],
   "source": [
    "evaluation.overlapping_normalized_mutual_information_LFK(DA_coms, DA_coms).score"
   ]
  },
  {
   "cell_type": "code",
   "execution_count": 96,
   "metadata": {
    "pycharm": {
     "name": "#%%\n"
    }
   },
   "outputs": [],
   "source": [
    "ONMI_scores = list()\n",
    "for alg1 in algs:\n",
    "    ONMI_score = [evaluation.overlapping_normalized_mutual_information_LFK(alg1, alg2).score for alg2 in algs]\n",
    "    ONMI_scores.append(ONMI_score)"
   ]
  },
  {
   "cell_type": "code",
   "execution_count": 97,
   "metadata": {
    "pycharm": {
     "name": "#%%\n"
    }
   },
   "outputs": [
    {
     "data": {
      "image/png": "[encoded data removed]",
      "text/plain": [
       "<Figure size 936x720 with 2 Axes>"
      ]
     },
     "metadata": {},
     "output_type": "display_data"
    }
   ],
   "source": [
    "fig, ax = plt.subplots(figsize=(13,10))\n",
    "\n",
    "sns.set(font_scale=1.3)\n",
    "ax = sns.heatmap(f1_scores, annot=True, fmt='.3f', xticklabels=method_names, yticklabels=method_names)"
   ]
  },
  {
   "cell_type": "code",
   "execution_count": 98,
   "metadata": {
    "pycharm": {
     "name": "#%%\n"
    }
   },
   "outputs": [
    {
     "data": {
      "image/png": "[encoded data removed]",
      "text/plain": [
       "<Figure size 936x720 with 2 Axes>"
      ]
     },
     "metadata": {},
     "output_type": "display_data"
    }
   ],
   "source": [
    "fig, ax = plt.subplots(figsize=(13,10))\n",
    "\n",
    "sns.set(font_scale=1.3)\n",
    "ax = sns.heatmap(ONMI_scores, annot=True, fmt='.3f', xticklabels=method_names, yticklabels=method_names)"
   ]
  },
  {
   "cell_type": "markdown",
   "metadata": {
    "pycharm": {
     "name": "#%%\n"
    }
   },
   "source": [
    "## Community inspection"
   ]
  },
  {
   "cell_type": "markdown",
   "metadata": {},
   "source": [
    "Walk-trap is the algorithm with the highest overall weighted purity based on genre (0.50)"
   ]
  },
  {
   "cell_type": "code",
   "execution_count": 134,
   "metadata": {},
   "outputs": [],
   "source": [
    "communities = wt_coms.communities"
   ]
  },
  {
   "cell_type": "code",
   "execution_count": 135,
   "metadata": {},
   "outputs": [],
   "source": [
    "rows = list()\n",
    "attribute_names = ['book_genre', 'book_publisher', 'recommendations_received', 'year_of_publication']\n",
    "for community_id, community in enumerate(communities, start=1):\n",
    "    for node in community:\n",
    "        row = [node, community_id]        \n",
    "        for attribute_name in attribute_names:            \n",
    "            row.append(info_nodes[node][attribute_name])\n",
    "        rows.append(row)\n",
    "\n",
    "# Create df\n",
    "df = pd.DataFrame(columns=['node','community']+attribute_names, data=rows)"
   ]
  },
  {
   "cell_type": "code",
   "execution_count": 136,
   "metadata": {},
   "outputs": [
    {
     "data": {
      "text/html": [
       "<div>\n",
       "<style scoped>\n",
       "    .dataframe tbody tr th:only-of-type {\n",
       "        vertical-align: middle;\n",
       "    }\n",
       "\n",
       "    .dataframe tbody tr th {\n",
       "        vertical-align: top;\n",
       "    }\n",
       "\n",
       "    .dataframe thead th {\n",
       "        text-align: right;\n",
       "    }\n",
       "</style>\n",
       "<table border=\"1\" class=\"dataframe\">\n",
       "  <thead>\n",
       "    <tr style=\"text-align: right;\">\n",
       "      <th></th>\n",
       "      <th>node</th>\n",
       "      <th>community</th>\n",
       "      <th>book_genre</th>\n",
       "      <th>book_publisher</th>\n",
       "      <th>recommendations_received</th>\n",
       "      <th>year_of_publication</th>\n",
       "    </tr>\n",
       "  </thead>\n",
       "  <tbody>\n",
       "    <tr>\n",
       "      <th>0</th>\n",
       "      <td>0</td>\n",
       "      <td>1</td>\n",
       "      <td>Letterature straniere: testi</td>\n",
       "      <td>E/O</td>\n",
       "      <td>64.0</td>\n",
       "      <td>2019</td>\n",
       "    </tr>\n",
       "    <tr>\n",
       "      <th>1</th>\n",
       "      <td>1</td>\n",
       "      <td>1</td>\n",
       "      <td>Letterature straniere: testi</td>\n",
       "      <td>Sur</td>\n",
       "      <td>61.0</td>\n",
       "      <td>2020</td>\n",
       "    </tr>\n",
       "    <tr>\n",
       "      <th>2</th>\n",
       "      <td>3</td>\n",
       "      <td>1</td>\n",
       "      <td>Letteratura italiana: critica</td>\n",
       "      <td>Laterza</td>\n",
       "      <td>37.0</td>\n",
       "      <td>2020</td>\n",
       "    </tr>\n",
       "    <tr>\n",
       "      <th>3</th>\n",
       "      <td>4</td>\n",
       "      <td>1</td>\n",
       "      <td>Letteratura italiana: testi</td>\n",
       "      <td>Einaudi</td>\n",
       "      <td>36.0</td>\n",
       "      <td>2020</td>\n",
       "    </tr>\n",
       "    <tr>\n",
       "      <th>4</th>\n",
       "      <td>5</td>\n",
       "      <td>1</td>\n",
       "      <td>Disegno, arti decorative e minori</td>\n",
       "      <td>Bao Publishing</td>\n",
       "      <td>35.0</td>\n",
       "      <td>2020</td>\n",
       "    </tr>\n",
       "  </tbody>\n",
       "</table>\n",
       "</div>"
      ],
      "text/plain": [
       "   node  community                         book_genre  book_publisher  \\\n",
       "0     0          1       Letterature straniere: testi             E/O   \n",
       "1     1          1       Letterature straniere: testi             Sur   \n",
       "2     3          1      Letteratura italiana: critica         Laterza   \n",
       "3     4          1        Letteratura italiana: testi         Einaudi   \n",
       "4     5          1  Disegno, arti decorative e minori  Bao Publishing   \n",
       "\n",
       "   recommendations_received  year_of_publication  \n",
       "0                      64.0                 2019  \n",
       "1                      61.0                 2020  \n",
       "2                      37.0                 2020  \n",
       "3                      36.0                 2020  \n",
       "4                      35.0                 2020  "
      ]
     },
     "execution_count": 136,
     "metadata": {},
     "output_type": "execute_result"
    }
   ],
   "source": [
    "df.head()"
   ]
  },
  {
   "cell_type": "code",
   "execution_count": 137,
   "metadata": {},
   "outputs": [
    {
     "name": "stdout",
     "output_type": "stream",
     "text": [
      "<class 'pandas.core.frame.DataFrame'>\n",
      "RangeIndex: 11573 entries, 0 to 11572\n",
      "Data columns (total 6 columns):\n",
      " #   Column                    Non-Null Count  Dtype  \n",
      "---  ------                    --------------  -----  \n",
      " 0   node                      11573 non-null  int64  \n",
      " 1   community                 11573 non-null  int64  \n",
      " 2   book_genre                11573 non-null  object \n",
      " 3   book_publisher            11573 non-null  object \n",
      " 4   recommendations_received  11573 non-null  float64\n",
      " 5   year_of_publication       11573 non-null  int64  \n",
      "dtypes: float64(1), int64(3), object(2)\n",
      "memory usage: 542.6+ KB\n"
     ]
    }
   ],
   "source": [
    "df.info()"
   ]
  },
  {
   "cell_type": "code",
   "execution_count": 138,
   "metadata": {},
   "outputs": [],
   "source": [
    "rows = list()\n",
    "for community_id in sorted(df['community'].unique()):            \n",
    "    community = df.groupby('community').get_group(community_id)\n",
    "    # Compute stats for community    \n",
    "    # Number of nodes\n",
    "    n_nodes = len(community)\n",
    "    # Genre stats\n",
    "    mode_genre = str(community['book_genre'].mode()[0])    \n",
    "    purity_genre = round(community['book_genre'].value_counts(normalize=True)[0],2)\n",
    "    # Publisher stats\n",
    "    mode_publisher = str(community['book_publisher'].mode()[0])\n",
    "    purity_publisher = round(community['book_publisher'].value_counts(normalize=True)[0],2)\n",
    "    # Year stats\n",
    "    mean_year = round(community['year_of_publication'].mean())\n",
    "    # Recommendations stats\n",
    "    mean_reccoms = community['recommendations_received'].mean()\n",
    "    # Create row\n",
    "    rows.append([community_id, n_nodes, mode_genre, purity_genre, mode_publisher, purity_publisher, mean_year, mean_reccoms])\n",
    "    \n",
    "# Create df\n",
    "communities_df = pd.DataFrame(columns=['community_id','nodes', \n",
    "                                       'genre_mode', 'genre_purity', \n",
    "                                       'publihser_mode', 'publisher_purity', \n",
    "                                       'avg_publication_year', 'avg_recommendations'], data=rows)"
   ]
  },
  {
   "cell_type": "code",
   "execution_count": 139,
   "metadata": {},
   "outputs": [
    {
     "data": {
      "text/html": [
       "<div>\n",
       "<style scoped>\n",
       "    .dataframe tbody tr th:only-of-type {\n",
       "        vertical-align: middle;\n",
       "    }\n",
       "\n",
       "    .dataframe tbody tr th {\n",
       "        vertical-align: top;\n",
       "    }\n",
       "\n",
       "    .dataframe thead th {\n",
       "        text-align: right;\n",
       "    }\n",
       "</style>\n",
       "<table border=\"1\" class=\"dataframe\">\n",
       "  <thead>\n",
       "    <tr style=\"text-align: right;\">\n",
       "      <th></th>\n",
       "      <th>nodes</th>\n",
       "      <th>genre_mode</th>\n",
       "      <th>genre_purity</th>\n",
       "      <th>publihser_mode</th>\n",
       "      <th>publisher_purity</th>\n",
       "      <th>avg_publication_year</th>\n",
       "      <th>avg_recommendations</th>\n",
       "    </tr>\n",
       "    <tr>\n",
       "      <th>community_id</th>\n",
       "      <th></th>\n",
       "      <th></th>\n",
       "      <th></th>\n",
       "      <th></th>\n",
       "      <th></th>\n",
       "      <th></th>\n",
       "      <th></th>\n",
       "    </tr>\n",
       "  </thead>\n",
       "  <tbody>\n",
       "    <tr>\n",
       "      <th>1</th>\n",
       "      <td>1760</td>\n",
       "      <td>Letterature straniere: testi</td>\n",
       "      <td>0.41</td>\n",
       "      <td>Einaudi</td>\n",
       "      <td>0.10</td>\n",
       "      <td>2018</td>\n",
       "      <td>2.480114</td>\n",
       "    </tr>\n",
       "    <tr>\n",
       "      <th>2</th>\n",
       "      <td>1463</td>\n",
       "      <td>Letterature straniere: testi</td>\n",
       "      <td>0.47</td>\n",
       "      <td>Minimum Fax</td>\n",
       "      <td>0.05</td>\n",
       "      <td>2019</td>\n",
       "      <td>2.274778</td>\n",
       "    </tr>\n",
       "    <tr>\n",
       "      <th>3</th>\n",
       "      <td>1331</td>\n",
       "      <td>Letteratura per ragazzi</td>\n",
       "      <td>0.89</td>\n",
       "      <td>Babalibri</td>\n",
       "      <td>0.07</td>\n",
       "      <td>2018</td>\n",
       "      <td>2.301277</td>\n",
       "    </tr>\n",
       "    <tr>\n",
       "      <th>4</th>\n",
       "      <td>1264</td>\n",
       "      <td>Letteratura italiana: testi</td>\n",
       "      <td>0.28</td>\n",
       "      <td>Einaudi</td>\n",
       "      <td>0.10</td>\n",
       "      <td>2019</td>\n",
       "      <td>2.487342</td>\n",
       "    </tr>\n",
       "    <tr>\n",
       "      <th>5</th>\n",
       "      <td>312</td>\n",
       "      <td>Letteratura per ragazzi</td>\n",
       "      <td>0.30</td>\n",
       "      <td>Einaudi</td>\n",
       "      <td>0.07</td>\n",
       "      <td>2017</td>\n",
       "      <td>2.663462</td>\n",
       "    </tr>\n",
       "  </tbody>\n",
       "</table>\n",
       "</div>"
      ],
      "text/plain": [
       "              nodes                    genre_mode  genre_purity  \\\n",
       "community_id                                                      \n",
       "1              1760  Letterature straniere: testi          0.41   \n",
       "2              1463  Letterature straniere: testi          0.47   \n",
       "3              1331       Letteratura per ragazzi          0.89   \n",
       "4              1264   Letteratura italiana: testi          0.28   \n",
       "5               312       Letteratura per ragazzi          0.30   \n",
       "\n",
       "             publihser_mode  publisher_purity  avg_publication_year  \\\n",
       "community_id                                                          \n",
       "1                   Einaudi              0.10                  2018   \n",
       "2               Minimum Fax              0.05                  2019   \n",
       "3                 Babalibri              0.07                  2018   \n",
       "4                   Einaudi              0.10                  2019   \n",
       "5                   Einaudi              0.07                  2017   \n",
       "\n",
       "              avg_recommendations  \n",
       "community_id                       \n",
       "1                        2.480114  \n",
       "2                        2.274778  \n",
       "3                        2.301277  \n",
       "4                        2.487342  \n",
       "5                        2.663462  "
      ]
     },
     "execution_count": 139,
     "metadata": {},
     "output_type": "execute_result"
    }
   ],
   "source": [
    "communities_df.set_index('community_id', inplace=True)\n",
    "communities_df.head()"
   ]
  },
  {
   "cell_type": "code",
   "execution_count": 140,
   "metadata": {},
   "outputs": [
    {
     "data": {
      "text/html": [
       "<div>\n",
       "<style scoped>\n",
       "    .dataframe tbody tr th:only-of-type {\n",
       "        vertical-align: middle;\n",
       "    }\n",
       "\n",
       "    .dataframe tbody tr th {\n",
       "        vertical-align: top;\n",
       "    }\n",
       "\n",
       "    .dataframe thead th {\n",
       "        text-align: right;\n",
       "    }\n",
       "</style>\n",
       "<table border=\"1\" class=\"dataframe\">\n",
       "  <thead>\n",
       "    <tr style=\"text-align: right;\">\n",
       "      <th></th>\n",
       "      <th>nodes</th>\n",
       "      <th>genre_purity</th>\n",
       "      <th>publisher_purity</th>\n",
       "      <th>avg_publication_year</th>\n",
       "      <th>avg_recommendations</th>\n",
       "    </tr>\n",
       "  </thead>\n",
       "  <tbody>\n",
       "    <tr>\n",
       "      <th>nodes</th>\n",
       "      <td>1.000000</td>\n",
       "      <td>-0.076564</td>\n",
       "      <td>-0.224811</td>\n",
       "      <td>0.039404</td>\n",
       "      <td>0.525864</td>\n",
       "    </tr>\n",
       "    <tr>\n",
       "      <th>genre_purity</th>\n",
       "      <td>-0.076564</td>\n",
       "      <td>1.000000</td>\n",
       "      <td>0.291770</td>\n",
       "      <td>0.088987</td>\n",
       "      <td>0.120565</td>\n",
       "    </tr>\n",
       "    <tr>\n",
       "      <th>publisher_purity</th>\n",
       "      <td>-0.224811</td>\n",
       "      <td>0.291770</td>\n",
       "      <td>1.000000</td>\n",
       "      <td>-0.101871</td>\n",
       "      <td>-0.155347</td>\n",
       "    </tr>\n",
       "    <tr>\n",
       "      <th>avg_publication_year</th>\n",
       "      <td>0.039404</td>\n",
       "      <td>0.088987</td>\n",
       "      <td>-0.101871</td>\n",
       "      <td>1.000000</td>\n",
       "      <td>0.174769</td>\n",
       "    </tr>\n",
       "    <tr>\n",
       "      <th>avg_recommendations</th>\n",
       "      <td>0.525864</td>\n",
       "      <td>0.120565</td>\n",
       "      <td>-0.155347</td>\n",
       "      <td>0.174769</td>\n",
       "      <td>1.000000</td>\n",
       "    </tr>\n",
       "  </tbody>\n",
       "</table>\n",
       "</div>"
      ],
      "text/plain": [
       "                         nodes  genre_purity  publisher_purity  \\\n",
       "nodes                 1.000000     -0.076564         -0.224811   \n",
       "genre_purity         -0.076564      1.000000          0.291770   \n",
       "publisher_purity     -0.224811      0.291770          1.000000   \n",
       "avg_publication_year  0.039404      0.088987         -0.101871   \n",
       "avg_recommendations   0.525864      0.120565         -0.155347   \n",
       "\n",
       "                      avg_publication_year  avg_recommendations  \n",
       "nodes                             0.039404             0.525864  \n",
       "genre_purity                      0.088987             0.120565  \n",
       "publisher_purity                 -0.101871            -0.155347  \n",
       "avg_publication_year              1.000000             0.174769  \n",
       "avg_recommendations               0.174769             1.000000  "
      ]
     },
     "execution_count": 140,
     "metadata": {},
     "output_type": "execute_result"
    }
   ],
   "source": [
    "communities_df.corr()"
   ]
  },
  {
   "cell_type": "code",
   "execution_count": 141,
   "metadata": {},
   "outputs": [],
   "source": [
    "communities_df['w_genre_purity'] = communities_df['nodes']/sum(communities_df['nodes']) * communities_df['genre_purity']"
   ]
  },
  {
   "cell_type": "code",
   "execution_count": 142,
   "metadata": {},
   "outputs": [
    {
     "data": {
      "text/html": [
       "<div>\n",
       "<style scoped>\n",
       "    .dataframe tbody tr th:only-of-type {\n",
       "        vertical-align: middle;\n",
       "    }\n",
       "\n",
       "    .dataframe tbody tr th {\n",
       "        vertical-align: top;\n",
       "    }\n",
       "\n",
       "    .dataframe thead th {\n",
       "        text-align: right;\n",
       "    }\n",
       "</style>\n",
       "<table border=\"1\" class=\"dataframe\">\n",
       "  <thead>\n",
       "    <tr style=\"text-align: right;\">\n",
       "      <th></th>\n",
       "      <th>nodes</th>\n",
       "      <th>genre_mode</th>\n",
       "      <th>genre_purity</th>\n",
       "      <th>publihser_mode</th>\n",
       "      <th>publisher_purity</th>\n",
       "      <th>avg_publication_year</th>\n",
       "      <th>avg_recommendations</th>\n",
       "      <th>w_genre_purity</th>\n",
       "    </tr>\n",
       "    <tr>\n",
       "      <th>community_id</th>\n",
       "      <th></th>\n",
       "      <th></th>\n",
       "      <th></th>\n",
       "      <th></th>\n",
       "      <th></th>\n",
       "      <th></th>\n",
       "      <th></th>\n",
       "      <th></th>\n",
       "    </tr>\n",
       "  </thead>\n",
       "  <tbody>\n",
       "    <tr>\n",
       "      <th>3</th>\n",
       "      <td>1331</td>\n",
       "      <td>Letteratura per ragazzi</td>\n",
       "      <td>0.89</td>\n",
       "      <td>Babalibri</td>\n",
       "      <td>0.07</td>\n",
       "      <td>2018</td>\n",
       "      <td>2.301277</td>\n",
       "      <td>0.102358</td>\n",
       "    </tr>\n",
       "    <tr>\n",
       "      <th>1</th>\n",
       "      <td>1760</td>\n",
       "      <td>Letterature straniere: testi</td>\n",
       "      <td>0.41</td>\n",
       "      <td>Einaudi</td>\n",
       "      <td>0.10</td>\n",
       "      <td>2018</td>\n",
       "      <td>2.480114</td>\n",
       "      <td>0.062352</td>\n",
       "    </tr>\n",
       "    <tr>\n",
       "      <th>2</th>\n",
       "      <td>1463</td>\n",
       "      <td>Letterature straniere: testi</td>\n",
       "      <td>0.47</td>\n",
       "      <td>Minimum Fax</td>\n",
       "      <td>0.05</td>\n",
       "      <td>2019</td>\n",
       "      <td>2.274778</td>\n",
       "      <td>0.059415</td>\n",
       "    </tr>\n",
       "    <tr>\n",
       "      <th>4</th>\n",
       "      <td>1264</td>\n",
       "      <td>Letteratura italiana: testi</td>\n",
       "      <td>0.28</td>\n",
       "      <td>Einaudi</td>\n",
       "      <td>0.10</td>\n",
       "      <td>2019</td>\n",
       "      <td>2.487342</td>\n",
       "      <td>0.030582</td>\n",
       "    </tr>\n",
       "    <tr>\n",
       "      <th>6</th>\n",
       "      <td>287</td>\n",
       "      <td>Letteratura per ragazzi</td>\n",
       "      <td>0.85</td>\n",
       "      <td>Mondadori</td>\n",
       "      <td>0.08</td>\n",
       "      <td>2021</td>\n",
       "      <td>2.547038</td>\n",
       "      <td>0.021079</td>\n",
       "    </tr>\n",
       "  </tbody>\n",
       "</table>\n",
       "</div>"
      ],
      "text/plain": [
       "              nodes                    genre_mode  genre_purity  \\\n",
       "community_id                                                      \n",
       "3              1331       Letteratura per ragazzi          0.89   \n",
       "1              1760  Letterature straniere: testi          0.41   \n",
       "2              1463  Letterature straniere: testi          0.47   \n",
       "4              1264   Letteratura italiana: testi          0.28   \n",
       "6               287       Letteratura per ragazzi          0.85   \n",
       "\n",
       "             publihser_mode  publisher_purity  avg_publication_year  \\\n",
       "community_id                                                          \n",
       "3                 Babalibri              0.07                  2018   \n",
       "1                   Einaudi              0.10                  2018   \n",
       "2               Minimum Fax              0.05                  2019   \n",
       "4                   Einaudi              0.10                  2019   \n",
       "6                 Mondadori              0.08                  2021   \n",
       "\n",
       "              avg_recommendations  w_genre_purity  \n",
       "community_id                                       \n",
       "3                        2.301277        0.102358  \n",
       "1                        2.480114        0.062352  \n",
       "2                        2.274778        0.059415  \n",
       "4                        2.487342        0.030582  \n",
       "6                        2.547038        0.021079  "
      ]
     },
     "execution_count": 142,
     "metadata": {},
     "output_type": "execute_result"
    }
   ],
   "source": [
    "communities_df.sort_values(by='w_genre_purity', ascending=False).head(5)"
   ]
  },
  {
   "cell_type": "code",
   "execution_count": 143,
   "metadata": {},
   "outputs": [
    {
     "data": {
      "text/html": [
       "<div>\n",
       "<style scoped>\n",
       "    .dataframe tbody tr th:only-of-type {\n",
       "        vertical-align: middle;\n",
       "    }\n",
       "\n",
       "    .dataframe tbody tr th {\n",
       "        vertical-align: top;\n",
       "    }\n",
       "\n",
       "    .dataframe thead th {\n",
       "        text-align: right;\n",
       "    }\n",
       "</style>\n",
       "<table border=\"1\" class=\"dataframe\">\n",
       "  <thead>\n",
       "    <tr style=\"text-align: right;\">\n",
       "      <th></th>\n",
       "      <th>titolo</th>\n",
       "      <th>autore</th>\n",
       "      <th>editore</th>\n",
       "      <th>categoria</th>\n",
       "      <th>raccomandazioni-ricevute</th>\n",
       "      <th>anno-pubblicazione</th>\n",
       "    </tr>\n",
       "    <tr>\n",
       "      <th>id</th>\n",
       "      <th></th>\n",
       "      <th></th>\n",
       "      <th></th>\n",
       "      <th></th>\n",
       "      <th></th>\n",
       "      <th></th>\n",
       "    </tr>\n",
       "  </thead>\n",
       "  <tbody>\n",
       "    <tr>\n",
       "      <th>0</th>\n",
       "      <td>Cambiare l'acqua ai fiori</td>\n",
       "      <td>Perrin Valérie</td>\n",
       "      <td>E/O</td>\n",
       "      <td>Letterature straniere: testi</td>\n",
       "      <td>64.0</td>\n",
       "      <td>2019</td>\n",
       "    </tr>\n",
       "    <tr>\n",
       "      <th>1</th>\n",
       "      <td>Ragazza, donna, altro</td>\n",
       "      <td>Evaristo Bernardine</td>\n",
       "      <td>Sur</td>\n",
       "      <td>Letterature straniere: testi</td>\n",
       "      <td>61.0</td>\n",
       "      <td>2020</td>\n",
       "    </tr>\n",
       "    <tr>\n",
       "      <th>2</th>\n",
       "      <td>L'Ickabog</td>\n",
       "      <td>Rowling J. K.</td>\n",
       "      <td>Salani</td>\n",
       "      <td>Letteratura per ragazzi</td>\n",
       "      <td>44.0</td>\n",
       "      <td>2020</td>\n",
       "    </tr>\n",
       "    <tr>\n",
       "      <th>3</th>\n",
       "      <td>Dante</td>\n",
       "      <td>Barbero Alessandro</td>\n",
       "      <td>Laterza</td>\n",
       "      <td>Letteratura italiana: critica</td>\n",
       "      <td>37.0</td>\n",
       "      <td>2020</td>\n",
       "    </tr>\n",
       "    <tr>\n",
       "      <th>4</th>\n",
       "      <td>Borgo Sud</td>\n",
       "      <td>Di Pietrantonio Donatella</td>\n",
       "      <td>Einaudi</td>\n",
       "      <td>Letteratura italiana: testi</td>\n",
       "      <td>36.0</td>\n",
       "      <td>2020</td>\n",
       "    </tr>\n",
       "    <tr>\n",
       "      <th>...</th>\n",
       "      <td>...</td>\n",
       "      <td>...</td>\n",
       "      <td>...</td>\n",
       "      <td>...</td>\n",
       "      <td>...</td>\n",
       "      <td>...</td>\n",
       "    </tr>\n",
       "    <tr>\n",
       "      <th>20494</th>\n",
       "      <td>La notte delle ricostruzioni</td>\n",
       "      <td>Donaera Andrea</td>\n",
       "      <td>Tetra</td>\n",
       "      <td>Letteratura italiana: testi</td>\n",
       "      <td>1.0</td>\n",
       "      <td>2022</td>\n",
       "    </tr>\n",
       "    <tr>\n",
       "      <th>20495</th>\n",
       "      <td>L'ultimo raccolto</td>\n",
       "      <td>Zardi Paolo</td>\n",
       "      <td>Tetra</td>\n",
       "      <td>Letteratura italiana: testi</td>\n",
       "      <td>1.0</td>\n",
       "      <td>2022</td>\n",
       "    </tr>\n",
       "    <tr>\n",
       "      <th>20496</th>\n",
       "      <td>X. Una caccia</td>\n",
       "      <td>Aiolli Valerio</td>\n",
       "      <td>Tetra</td>\n",
       "      <td>Letteratura italiana: testi</td>\n",
       "      <td>1.0</td>\n",
       "      <td>2022</td>\n",
       "    </tr>\n",
       "    <tr>\n",
       "      <th>20497</th>\n",
       "      <td>Quel che resta delle case</td>\n",
       "      <td>Canepa Emanuela</td>\n",
       "      <td>Tetra</td>\n",
       "      <td>Letteratura italiana: testi</td>\n",
       "      <td>1.0</td>\n",
       "      <td>2022</td>\n",
       "    </tr>\n",
       "    <tr>\n",
       "      <th>20498</th>\n",
       "      <td>Fantiana: Scritti su John Fante selezionati da...</td>\n",
       "      <td>Margaretto Eduardo</td>\n",
       "      <td>Bookdealer</td>\n",
       "      <td>Letteratura italiana: testi</td>\n",
       "      <td>1.0</td>\n",
       "      <td>2020</td>\n",
       "    </tr>\n",
       "  </tbody>\n",
       "</table>\n",
       "<p>11775 rows × 6 columns</p>\n",
       "</div>"
      ],
      "text/plain": [
       "                                                  titolo  \\\n",
       "id                                                         \n",
       "0                              Cambiare l'acqua ai fiori   \n",
       "1                                  Ragazza, donna, altro   \n",
       "2                                              L'Ickabog   \n",
       "3                                                  Dante   \n",
       "4                                              Borgo Sud   \n",
       "...                                                  ...   \n",
       "20494                       La notte delle ricostruzioni   \n",
       "20495                                  L'ultimo raccolto   \n",
       "20496                                      X. Una caccia   \n",
       "20497                          Quel che resta delle case   \n",
       "20498  Fantiana: Scritti su John Fante selezionati da...   \n",
       "\n",
       "                          autore     editore                      categoria  \\\n",
       "id                                                                            \n",
       "0                 Perrin Valérie         E/O   Letterature straniere: testi   \n",
       "1            Evaristo Bernardine         Sur   Letterature straniere: testi   \n",
       "2                  Rowling J. K.      Salani        Letteratura per ragazzi   \n",
       "3             Barbero Alessandro     Laterza  Letteratura italiana: critica   \n",
       "4      Di Pietrantonio Donatella     Einaudi    Letteratura italiana: testi   \n",
       "...                          ...         ...                            ...   \n",
       "20494             Donaera Andrea       Tetra    Letteratura italiana: testi   \n",
       "20495                Zardi Paolo       Tetra    Letteratura italiana: testi   \n",
       "20496             Aiolli Valerio       Tetra    Letteratura italiana: testi   \n",
       "20497            Canepa Emanuela       Tetra    Letteratura italiana: testi   \n",
       "20498         Margaretto Eduardo  Bookdealer    Letteratura italiana: testi   \n",
       "\n",
       "       raccomandazioni-ricevute  anno-pubblicazione  \n",
       "id                                                   \n",
       "0                          64.0                2019  \n",
       "1                          61.0                2020  \n",
       "2                          44.0                2020  \n",
       "3                          37.0                2020  \n",
       "4                          36.0                2020  \n",
       "...                         ...                 ...  \n",
       "20494                       1.0                2022  \n",
       "20495                       1.0                2022  \n",
       "20496                       1.0                2022  \n",
       "20497                       1.0                2022  \n",
       "20498                       1.0                2020  \n",
       "\n",
       "[11775 rows x 6 columns]"
      ]
     },
     "execution_count": 143,
     "metadata": {},
     "output_type": "execute_result"
    }
   ],
   "source": [
    "node_list"
   ]
  },
  {
   "cell_type": "code",
   "execution_count": 144,
   "metadata": {},
   "outputs": [
    {
     "data": {
      "text/html": [
       "<div>\n",
       "<style scoped>\n",
       "    .dataframe tbody tr th:only-of-type {\n",
       "        vertical-align: middle;\n",
       "    }\n",
       "\n",
       "    .dataframe tbody tr th {\n",
       "        vertical-align: top;\n",
       "    }\n",
       "\n",
       "    .dataframe thead th {\n",
       "        text-align: right;\n",
       "    }\n",
       "</style>\n",
       "<table border=\"1\" class=\"dataframe\">\n",
       "  <thead>\n",
       "    <tr style=\"text-align: right;\">\n",
       "      <th></th>\n",
       "      <th>community</th>\n",
       "      <th>book_genre</th>\n",
       "      <th>book_publisher</th>\n",
       "      <th>recommendations_received</th>\n",
       "      <th>year_of_publication</th>\n",
       "    </tr>\n",
       "    <tr>\n",
       "      <th>node</th>\n",
       "      <th></th>\n",
       "      <th></th>\n",
       "      <th></th>\n",
       "      <th></th>\n",
       "      <th></th>\n",
       "    </tr>\n",
       "  </thead>\n",
       "  <tbody>\n",
       "    <tr>\n",
       "      <th>0</th>\n",
       "      <td>1</td>\n",
       "      <td>Letterature straniere: testi</td>\n",
       "      <td>E/O</td>\n",
       "      <td>64.0</td>\n",
       "      <td>2019</td>\n",
       "    </tr>\n",
       "    <tr>\n",
       "      <th>1</th>\n",
       "      <td>1</td>\n",
       "      <td>Letterature straniere: testi</td>\n",
       "      <td>Sur</td>\n",
       "      <td>61.0</td>\n",
       "      <td>2020</td>\n",
       "    </tr>\n",
       "    <tr>\n",
       "      <th>2</th>\n",
       "      <td>4</td>\n",
       "      <td>Letteratura per ragazzi</td>\n",
       "      <td>Salani</td>\n",
       "      <td>44.0</td>\n",
       "      <td>2020</td>\n",
       "    </tr>\n",
       "    <tr>\n",
       "      <th>3</th>\n",
       "      <td>1</td>\n",
       "      <td>Letteratura italiana: critica</td>\n",
       "      <td>Laterza</td>\n",
       "      <td>37.0</td>\n",
       "      <td>2020</td>\n",
       "    </tr>\n",
       "    <tr>\n",
       "      <th>4</th>\n",
       "      <td>1</td>\n",
       "      <td>Letteratura italiana: testi</td>\n",
       "      <td>Einaudi</td>\n",
       "      <td>36.0</td>\n",
       "      <td>2020</td>\n",
       "    </tr>\n",
       "    <tr>\n",
       "      <th>...</th>\n",
       "      <td>...</td>\n",
       "      <td>...</td>\n",
       "      <td>...</td>\n",
       "      <td>...</td>\n",
       "      <td>...</td>\n",
       "    </tr>\n",
       "    <tr>\n",
       "      <th>20494</th>\n",
       "      <td>2</td>\n",
       "      <td>Letteratura italiana: testi</td>\n",
       "      <td>Tetra</td>\n",
       "      <td>1.0</td>\n",
       "      <td>2022</td>\n",
       "    </tr>\n",
       "    <tr>\n",
       "      <th>20495</th>\n",
       "      <td>2</td>\n",
       "      <td>Letteratura italiana: testi</td>\n",
       "      <td>Tetra</td>\n",
       "      <td>1.0</td>\n",
       "      <td>2022</td>\n",
       "    </tr>\n",
       "    <tr>\n",
       "      <th>20496</th>\n",
       "      <td>2</td>\n",
       "      <td>Letteratura italiana: testi</td>\n",
       "      <td>Tetra</td>\n",
       "      <td>1.0</td>\n",
       "      <td>2022</td>\n",
       "    </tr>\n",
       "    <tr>\n",
       "      <th>20497</th>\n",
       "      <td>2</td>\n",
       "      <td>Letteratura italiana: testi</td>\n",
       "      <td>Tetra</td>\n",
       "      <td>1.0</td>\n",
       "      <td>2022</td>\n",
       "    </tr>\n",
       "    <tr>\n",
       "      <th>20498</th>\n",
       "      <td>2</td>\n",
       "      <td>Letteratura italiana: testi</td>\n",
       "      <td>Bookdealer</td>\n",
       "      <td>1.0</td>\n",
       "      <td>2020</td>\n",
       "    </tr>\n",
       "  </tbody>\n",
       "</table>\n",
       "<p>11573 rows × 5 columns</p>\n",
       "</div>"
      ],
      "text/plain": [
       "       community                     book_genre book_publisher  \\\n",
       "node                                                             \n",
       "0              1   Letterature straniere: testi            E/O   \n",
       "1              1   Letterature straniere: testi            Sur   \n",
       "2              4        Letteratura per ragazzi         Salani   \n",
       "3              1  Letteratura italiana: critica        Laterza   \n",
       "4              1    Letteratura italiana: testi        Einaudi   \n",
       "...          ...                            ...            ...   \n",
       "20494          2    Letteratura italiana: testi          Tetra   \n",
       "20495          2    Letteratura italiana: testi          Tetra   \n",
       "20496          2    Letteratura italiana: testi          Tetra   \n",
       "20497          2    Letteratura italiana: testi          Tetra   \n",
       "20498          2    Letteratura italiana: testi     Bookdealer   \n",
       "\n",
       "       recommendations_received  year_of_publication  \n",
       "node                                                  \n",
       "0                          64.0                 2019  \n",
       "1                          61.0                 2020  \n",
       "2                          44.0                 2020  \n",
       "3                          37.0                 2020  \n",
       "4                          36.0                 2020  \n",
       "...                         ...                  ...  \n",
       "20494                       1.0                 2022  \n",
       "20495                       1.0                 2022  \n",
       "20496                       1.0                 2022  \n",
       "20497                       1.0                 2022  \n",
       "20498                       1.0                 2020  \n",
       "\n",
       "[11573 rows x 5 columns]"
      ]
     },
     "execution_count": 144,
     "metadata": {},
     "output_type": "execute_result"
    }
   ],
   "source": [
    "df = df.set_index('node').sort_index()\n",
    "df"
   ]
  },
  {
   "cell_type": "code",
   "execution_count": 145,
   "metadata": {},
   "outputs": [],
   "source": [
    "node_list1 = node_list.join(df['community'])"
   ]
  },
  {
   "cell_type": "code",
   "execution_count": 146,
   "metadata": {},
   "outputs": [
    {
     "name": "stdout",
     "output_type": "stream",
     "text": [
      "<class 'pandas.core.frame.DataFrame'>\n",
      "Int64Index: 11775 entries, 0 to 20498\n",
      "Data columns (total 7 columns):\n",
      " #   Column                    Non-Null Count  Dtype  \n",
      "---  ------                    --------------  -----  \n",
      " 0   titolo                    11775 non-null  object \n",
      " 1   autore                    11775 non-null  object \n",
      " 2   editore                   11775 non-null  object \n",
      " 3   categoria                 11775 non-null  object \n",
      " 4   raccomandazioni-ricevute  11775 non-null  float64\n",
      " 5   anno-pubblicazione        11775 non-null  int64  \n",
      " 6   community                 11573 non-null  float64\n",
      "dtypes: float64(2), int64(1), object(4)\n",
      "memory usage: 994.0+ KB\n"
     ]
    }
   ],
   "source": [
    "node_list1.info()"
   ]
  },
  {
   "cell_type": "code",
   "execution_count": 147,
   "metadata": {},
   "outputs": [
    {
     "data": {
      "text/html": [
       "<div>\n",
       "<style scoped>\n",
       "    .dataframe tbody tr th:only-of-type {\n",
       "        vertical-align: middle;\n",
       "    }\n",
       "\n",
       "    .dataframe tbody tr th {\n",
       "        vertical-align: top;\n",
       "    }\n",
       "\n",
       "    .dataframe thead th {\n",
       "        text-align: right;\n",
       "    }\n",
       "</style>\n",
       "<table border=\"1\" class=\"dataframe\">\n",
       "  <thead>\n",
       "    <tr style=\"text-align: right;\">\n",
       "      <th></th>\n",
       "      <th>titolo</th>\n",
       "      <th>autore</th>\n",
       "      <th>editore</th>\n",
       "      <th>categoria</th>\n",
       "      <th>raccomandazioni-ricevute</th>\n",
       "      <th>anno-pubblicazione</th>\n",
       "      <th>community</th>\n",
       "    </tr>\n",
       "    <tr>\n",
       "      <th>id</th>\n",
       "      <th></th>\n",
       "      <th></th>\n",
       "      <th></th>\n",
       "      <th></th>\n",
       "      <th></th>\n",
       "      <th></th>\n",
       "      <th></th>\n",
       "    </tr>\n",
       "  </thead>\n",
       "  <tbody>\n",
       "    <tr>\n",
       "      <th>0</th>\n",
       "      <td>Cambiare l'acqua ai fiori</td>\n",
       "      <td>Perrin Valérie</td>\n",
       "      <td>E/O</td>\n",
       "      <td>Letterature straniere: testi</td>\n",
       "      <td>64.0</td>\n",
       "      <td>2019</td>\n",
       "      <td>1.0</td>\n",
       "    </tr>\n",
       "    <tr>\n",
       "      <th>1</th>\n",
       "      <td>Ragazza, donna, altro</td>\n",
       "      <td>Evaristo Bernardine</td>\n",
       "      <td>Sur</td>\n",
       "      <td>Letterature straniere: testi</td>\n",
       "      <td>61.0</td>\n",
       "      <td>2020</td>\n",
       "      <td>1.0</td>\n",
       "    </tr>\n",
       "    <tr>\n",
       "      <th>2</th>\n",
       "      <td>L'Ickabog</td>\n",
       "      <td>Rowling J. K.</td>\n",
       "      <td>Salani</td>\n",
       "      <td>Letteratura per ragazzi</td>\n",
       "      <td>44.0</td>\n",
       "      <td>2020</td>\n",
       "      <td>4.0</td>\n",
       "    </tr>\n",
       "    <tr>\n",
       "      <th>3</th>\n",
       "      <td>Dante</td>\n",
       "      <td>Barbero Alessandro</td>\n",
       "      <td>Laterza</td>\n",
       "      <td>Letteratura italiana: critica</td>\n",
       "      <td>37.0</td>\n",
       "      <td>2020</td>\n",
       "      <td>1.0</td>\n",
       "    </tr>\n",
       "    <tr>\n",
       "      <th>4</th>\n",
       "      <td>Borgo Sud</td>\n",
       "      <td>Di Pietrantonio Donatella</td>\n",
       "      <td>Einaudi</td>\n",
       "      <td>Letteratura italiana: testi</td>\n",
       "      <td>36.0</td>\n",
       "      <td>2020</td>\n",
       "      <td>1.0</td>\n",
       "    </tr>\n",
       "    <tr>\n",
       "      <th>...</th>\n",
       "      <td>...</td>\n",
       "      <td>...</td>\n",
       "      <td>...</td>\n",
       "      <td>...</td>\n",
       "      <td>...</td>\n",
       "      <td>...</td>\n",
       "      <td>...</td>\n",
       "    </tr>\n",
       "    <tr>\n",
       "      <th>20494</th>\n",
       "      <td>La notte delle ricostruzioni</td>\n",
       "      <td>Donaera Andrea</td>\n",
       "      <td>Tetra</td>\n",
       "      <td>Letteratura italiana: testi</td>\n",
       "      <td>1.0</td>\n",
       "      <td>2022</td>\n",
       "      <td>2.0</td>\n",
       "    </tr>\n",
       "    <tr>\n",
       "      <th>20495</th>\n",
       "      <td>L'ultimo raccolto</td>\n",
       "      <td>Zardi Paolo</td>\n",
       "      <td>Tetra</td>\n",
       "      <td>Letteratura italiana: testi</td>\n",
       "      <td>1.0</td>\n",
       "      <td>2022</td>\n",
       "      <td>2.0</td>\n",
       "    </tr>\n",
       "    <tr>\n",
       "      <th>20496</th>\n",
       "      <td>X. Una caccia</td>\n",
       "      <td>Aiolli Valerio</td>\n",
       "      <td>Tetra</td>\n",
       "      <td>Letteratura italiana: testi</td>\n",
       "      <td>1.0</td>\n",
       "      <td>2022</td>\n",
       "      <td>2.0</td>\n",
       "    </tr>\n",
       "    <tr>\n",
       "      <th>20497</th>\n",
       "      <td>Quel che resta delle case</td>\n",
       "      <td>Canepa Emanuela</td>\n",
       "      <td>Tetra</td>\n",
       "      <td>Letteratura italiana: testi</td>\n",
       "      <td>1.0</td>\n",
       "      <td>2022</td>\n",
       "      <td>2.0</td>\n",
       "    </tr>\n",
       "    <tr>\n",
       "      <th>20498</th>\n",
       "      <td>Fantiana: Scritti su John Fante selezionati da...</td>\n",
       "      <td>Margaretto Eduardo</td>\n",
       "      <td>Bookdealer</td>\n",
       "      <td>Letteratura italiana: testi</td>\n",
       "      <td>1.0</td>\n",
       "      <td>2020</td>\n",
       "      <td>2.0</td>\n",
       "    </tr>\n",
       "  </tbody>\n",
       "</table>\n",
       "<p>11775 rows × 7 columns</p>\n",
       "</div>"
      ],
      "text/plain": [
       "                                                  titolo  \\\n",
       "id                                                         \n",
       "0                              Cambiare l'acqua ai fiori   \n",
       "1                                  Ragazza, donna, altro   \n",
       "2                                              L'Ickabog   \n",
       "3                                                  Dante   \n",
       "4                                              Borgo Sud   \n",
       "...                                                  ...   \n",
       "20494                       La notte delle ricostruzioni   \n",
       "20495                                  L'ultimo raccolto   \n",
       "20496                                      X. Una caccia   \n",
       "20497                          Quel che resta delle case   \n",
       "20498  Fantiana: Scritti su John Fante selezionati da...   \n",
       "\n",
       "                          autore     editore                      categoria  \\\n",
       "id                                                                            \n",
       "0                 Perrin Valérie         E/O   Letterature straniere: testi   \n",
       "1            Evaristo Bernardine         Sur   Letterature straniere: testi   \n",
       "2                  Rowling J. K.      Salani        Letteratura per ragazzi   \n",
       "3             Barbero Alessandro     Laterza  Letteratura italiana: critica   \n",
       "4      Di Pietrantonio Donatella     Einaudi    Letteratura italiana: testi   \n",
       "...                          ...         ...                            ...   \n",
       "20494             Donaera Andrea       Tetra    Letteratura italiana: testi   \n",
       "20495                Zardi Paolo       Tetra    Letteratura italiana: testi   \n",
       "20496             Aiolli Valerio       Tetra    Letteratura italiana: testi   \n",
       "20497            Canepa Emanuela       Tetra    Letteratura italiana: testi   \n",
       "20498         Margaretto Eduardo  Bookdealer    Letteratura italiana: testi   \n",
       "\n",
       "       raccomandazioni-ricevute  anno-pubblicazione  community  \n",
       "id                                                              \n",
       "0                          64.0                2019        1.0  \n",
       "1                          61.0                2020        1.0  \n",
       "2                          44.0                2020        4.0  \n",
       "3                          37.0                2020        1.0  \n",
       "4                          36.0                2020        1.0  \n",
       "...                         ...                 ...        ...  \n",
       "20494                       1.0                2022        2.0  \n",
       "20495                       1.0                2022        2.0  \n",
       "20496                       1.0                2022        2.0  \n",
       "20497                       1.0                2022        2.0  \n",
       "20498                       1.0                2020        2.0  \n",
       "\n",
       "[11775 rows x 7 columns]"
      ]
     },
     "execution_count": 147,
     "metadata": {},
     "output_type": "execute_result"
    }
   ],
   "source": [
    "# Missing values are nodes outside giant component\n",
    "node_list1['community'].fillna(0, inplace=True)\n",
    "node_list1"
   ]
  },
  {
   "cell_type": "code",
   "execution_count": 148,
   "metadata": {},
   "outputs": [],
   "source": [
    "node_list1 = node_list1.astype({'community': 'int'})[['editore','categoria','community']]"
   ]
  },
  {
   "cell_type": "code",
   "execution_count": 149,
   "metadata": {},
   "outputs": [],
   "source": [
    "node_list1.to_csv('data/node-list-w-communities.csv')"
   ]
  },
  {
   "cell_type": "code",
   "execution_count": null,
   "metadata": {},
   "outputs": [],
   "source": []
  },
  {
   "cell_type": "code",
   "execution_count": null,
   "metadata": {},
   "outputs": [],
   "source": []
  }
 ],
 "metadata": {
  "kernelspec": {
   "display_name": "Python 3 (ipykernel)",
   "language": "python",
   "name": "python3"
  },
  "language_info": {
   "codemirror_mode": {
    "name": "ipython",
    "version": 3
   },
   "file_extension": ".py",
   "mimetype": "text/x-python",
   "name": "python",
   "nbconvert_exporter": "python",
   "pygments_lexer": "ipython3",
   "version": "3.8.14"
  }
 },
 "nbformat": 4,
 "nbformat_minor": 1
}
