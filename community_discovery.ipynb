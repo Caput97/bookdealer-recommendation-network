{
 "cells": [
  {
   "cell_type": "code",
   "execution_count": 1,
   "metadata": {
    "pycharm": {
     "name": "#%%\n"
    }
   },
   "outputs": [
    {
     "name": "stdout",
     "output_type": "stream",
     "text": [
      "Note: to be able to use all crisp methods, you need to install some additional packages:  {'leidenalg', 'graph_tool', 'karateclub', 'wurlitzer'}\n",
      "Note: to be able to use all crisp methods, you need to install some additional packages:  {'ASLPAw', 'karateclub'}\n",
      "Note: to be able to use all crisp methods, you need to install some additional packages:  {'leidenalg', 'wurlitzer'}\n"
     ]
    }
   ],
   "source": [
    "import cdlib\n",
    "import pandas as pd\n",
    "import networkx as nx\n",
    "from cdlib import algorithms\n",
    "from collections import Counter\n",
    "import plotly.express as px\n",
    "from cdlib import evaluation\n",
    "from cdlib import viz\n",
    "import seaborn as sns\n",
    "import matplotlib.pyplot as plt\n",
    "import numpy as np\n",
    "import math\n",
    "import itertools"
   ]
  },
  {
   "cell_type": "markdown",
   "metadata": {
    "pycharm": {
     "name": "#%% md\n"
    }
   },
   "source": [
    "# Graph Generation"
   ]
  },
  {
   "cell_type": "code",
   "execution_count": 2,
   "metadata": {
    "pycharm": {
     "name": "#%%\n"
    }
   },
   "outputs": [],
   "source": [
    "node_list = pd.read_csv('data/bd-node.csv', index_col = 'id')\n",
    "edge_list = pd.read_csv('data/bd-edge.csv')"
   ]
  },
  {
   "cell_type": "code",
   "execution_count": 3,
   "metadata": {
    "pycharm": {
     "name": "#%%\n"
    }
   },
   "outputs": [
    {
     "name": "stdout",
     "output_type": "stream",
     "text": [
      "<class 'pandas.core.frame.DataFrame'>\n",
      "Int64Index: 11775 entries, 0 to 20498\n",
      "Data columns (total 6 columns):\n",
      " #   Column                    Non-Null Count  Dtype  \n",
      "---  ------                    --------------  -----  \n",
      " 0   titolo                    11775 non-null  object \n",
      " 1   autore                    11775 non-null  object \n",
      " 2   editore                   11775 non-null  object \n",
      " 3   categoria                 11775 non-null  object \n",
      " 4   raccomandazioni-ricevute  11775 non-null  float64\n",
      " 5   anno-pubblicazione        11775 non-null  int64  \n",
      "dtypes: float64(1), int64(1), object(4)\n",
      "memory usage: 643.9+ KB\n"
     ]
    }
   ],
   "source": [
    "node_list.info()"
   ]
  },
  {
   "cell_type": "code",
   "execution_count": 4,
   "metadata": {
    "pycharm": {
     "name": "#%%\n"
    }
   },
   "outputs": [
    {
     "data": {
      "text/html": [
       "<div>\n",
       "<style scoped>\n",
       "    .dataframe tbody tr th:only-of-type {\n",
       "        vertical-align: middle;\n",
       "    }\n",
       "\n",
       "    .dataframe tbody tr th {\n",
       "        vertical-align: top;\n",
       "    }\n",
       "\n",
       "    .dataframe thead th {\n",
       "        text-align: right;\n",
       "    }\n",
       "</style>\n",
       "<table border=\"1\" class=\"dataframe\">\n",
       "  <thead>\n",
       "    <tr style=\"text-align: right;\">\n",
       "      <th></th>\n",
       "      <th>titolo</th>\n",
       "      <th>autore</th>\n",
       "      <th>editore</th>\n",
       "      <th>categoria</th>\n",
       "      <th>raccomandazioni-ricevute</th>\n",
       "      <th>anno-pubblicazione</th>\n",
       "    </tr>\n",
       "    <tr>\n",
       "      <th>id</th>\n",
       "      <th></th>\n",
       "      <th></th>\n",
       "      <th></th>\n",
       "      <th></th>\n",
       "      <th></th>\n",
       "      <th></th>\n",
       "    </tr>\n",
       "  </thead>\n",
       "  <tbody>\n",
       "    <tr>\n",
       "      <th>0</th>\n",
       "      <td>Cambiare l'acqua ai fiori</td>\n",
       "      <td>Perrin Valérie</td>\n",
       "      <td>E/O</td>\n",
       "      <td>Letterature straniere: testi</td>\n",
       "      <td>64.0</td>\n",
       "      <td>2019</td>\n",
       "    </tr>\n",
       "    <tr>\n",
       "      <th>1</th>\n",
       "      <td>Ragazza, donna, altro</td>\n",
       "      <td>Evaristo Bernardine</td>\n",
       "      <td>Sur</td>\n",
       "      <td>Letterature straniere: testi</td>\n",
       "      <td>61.0</td>\n",
       "      <td>2020</td>\n",
       "    </tr>\n",
       "    <tr>\n",
       "      <th>2</th>\n",
       "      <td>L'Ickabog</td>\n",
       "      <td>Rowling J. K.</td>\n",
       "      <td>Salani</td>\n",
       "      <td>Letteratura per ragazzi</td>\n",
       "      <td>44.0</td>\n",
       "      <td>2020</td>\n",
       "    </tr>\n",
       "    <tr>\n",
       "      <th>3</th>\n",
       "      <td>Dante</td>\n",
       "      <td>Barbero Alessandro</td>\n",
       "      <td>Laterza</td>\n",
       "      <td>Letteratura italiana: critica</td>\n",
       "      <td>37.0</td>\n",
       "      <td>2020</td>\n",
       "    </tr>\n",
       "    <tr>\n",
       "      <th>4</th>\n",
       "      <td>Borgo Sud</td>\n",
       "      <td>Di Pietrantonio Donatella</td>\n",
       "      <td>Einaudi</td>\n",
       "      <td>Letteratura italiana: testi</td>\n",
       "      <td>36.0</td>\n",
       "      <td>2020</td>\n",
       "    </tr>\n",
       "  </tbody>\n",
       "</table>\n",
       "</div>"
      ],
      "text/plain": [
       "                       titolo                     autore  editore  \\\n",
       "id                                                                  \n",
       "0   Cambiare l'acqua ai fiori             Perrin Valérie      E/O   \n",
       "1       Ragazza, donna, altro        Evaristo Bernardine      Sur   \n",
       "2                   L'Ickabog              Rowling J. K.   Salani   \n",
       "3                       Dante         Barbero Alessandro  Laterza   \n",
       "4                   Borgo Sud  Di Pietrantonio Donatella  Einaudi   \n",
       "\n",
       "                        categoria  raccomandazioni-ricevute  \\\n",
       "id                                                            \n",
       "0    Letterature straniere: testi                      64.0   \n",
       "1    Letterature straniere: testi                      61.0   \n",
       "2         Letteratura per ragazzi                      44.0   \n",
       "3   Letteratura italiana: critica                      37.0   \n",
       "4     Letteratura italiana: testi                      36.0   \n",
       "\n",
       "    anno-pubblicazione  \n",
       "id                      \n",
       "0                 2019  \n",
       "1                 2020  \n",
       "2                 2020  \n",
       "3                 2020  \n",
       "4                 2020  "
      ]
     },
     "execution_count": 4,
     "metadata": {},
     "output_type": "execute_result"
    }
   ],
   "source": [
    "node_list.head()"
   ]
  },
  {
   "cell_type": "code",
   "execution_count": 5,
   "metadata": {
    "pycharm": {
     "name": "#%%\n"
    }
   },
   "outputs": [],
   "source": [
    "g = nx.from_pandas_edgelist(edge_list, 'Source', 'Target', ['Weight'])"
   ]
  },
  {
   "cell_type": "code",
   "execution_count": 6,
   "metadata": {
    "pycharm": {
     "name": "#%%\n"
    }
   },
   "outputs": [],
   "source": [
    "# Create a nested dict with info for each node of the nodelist\n",
    "info_nodes = {}\n",
    "\n",
    "for index, row in node_list.iterrows():\n",
    "    info_nodes[index] = {'book_name': row['titolo'], \n",
    "                         'book_author': row['autore'], \n",
    "                         'book_publisher': row['editore'],\n",
    "                         'book_genre': row['categoria'], \n",
    "                         'recommendations_received' : row['raccomandazioni-ricevute'], \n",
    "                         'year_of_publication': row['anno-pubblicazione']}"
   ]
  },
  {
   "cell_type": "code",
   "execution_count": 7,
   "metadata": {
    "pycharm": {
     "name": "#%%\n"
    }
   },
   "outputs": [
    {
     "data": {
      "text/plain": [
       "{'book_name': 'Hokusai. Pop-up',\n",
       " 'book_author': 'McCarthy Courtney Watson',\n",
       " 'book_publisher': 'White Star',\n",
       " 'book_genre': 'Disegno, arti decorative e minori',\n",
       " 'recommendations_received': 1.0,\n",
       " 'year_of_publication': 2016}"
      ]
     },
     "execution_count": 7,
     "metadata": {},
     "output_type": "execute_result"
    }
   ],
   "source": [
    "info_nodes[11818]"
   ]
  },
  {
   "cell_type": "code",
   "execution_count": 8,
   "metadata": {
    "pycharm": {
     "name": "#%%\n"
    }
   },
   "outputs": [
    {
     "data": {
      "text/plain": [
       "11775"
      ]
     },
     "execution_count": 8,
     "metadata": {},
     "output_type": "execute_result"
    }
   ],
   "source": [
    "len(info_nodes)"
   ]
  },
  {
   "cell_type": "code",
   "execution_count": 9,
   "metadata": {
    "pycharm": {
     "name": "#%%\n"
    }
   },
   "outputs": [
    {
     "data": {
      "text/plain": [
       "11775"
      ]
     },
     "execution_count": 9,
     "metadata": {},
     "output_type": "execute_result"
    }
   ],
   "source": [
    "len(nx.nodes(g))"
   ]
  },
  {
   "cell_type": "code",
   "execution_count": 10,
   "metadata": {
    "pycharm": {
     "name": "#%%\n"
    }
   },
   "outputs": [],
   "source": [
    "# Setting the attributes of each node using the info contained in the nested dict\n",
    "nx.set_node_attributes(g, info_nodes)"
   ]
  },
  {
   "cell_type": "code",
   "execution_count": 11,
   "metadata": {
    "pycharm": {
     "name": "#%%\n"
    }
   },
   "outputs": [],
   "source": [
    "# Get node attributes:\n",
    "\n",
    "name = nx.get_node_attributes(g, \"book_name\")\n",
    "author = nx.get_node_attributes(g, \"book_author\")\n",
    "publisher = nx.get_node_attributes(g, \"book_publisher\")\n",
    "genre = nx.get_node_attributes(g, \"book_genre\")\n",
    "recommendations = nx.get_node_attributes(g, \"recommendations_received\")\n",
    "year = nx.get_node_attributes(g, \"year_of_publication\")"
   ]
  },
  {
   "cell_type": "code",
   "execution_count": 12,
   "metadata": {
    "pycharm": {
     "name": "#%%\n"
    }
   },
   "outputs": [
    {
     "data": {
      "text/plain": [
       "'Disegno, arti decorative e minori'"
      ]
     },
     "execution_count": 12,
     "metadata": {},
     "output_type": "execute_result"
    }
   ],
   "source": [
    "genre[11818]"
   ]
  },
  {
   "cell_type": "code",
   "execution_count": 13,
   "metadata": {
    "pycharm": {
     "name": "#%%\n"
    }
   },
   "outputs": [
    {
     "data": {
      "text/plain": [
       "'Hokusai. Pop-up'"
      ]
     },
     "execution_count": 13,
     "metadata": {},
     "output_type": "execute_result"
    }
   ],
   "source": [
    "name[11818]"
   ]
  },
  {
   "cell_type": "code",
   "execution_count": 14,
   "metadata": {
    "pycharm": {
     "name": "#%%\n"
    }
   },
   "outputs": [],
   "source": [
    "# Use the giant component\n",
    "comps = list(nx.connected_components(g))\n",
    "GC = g.subgraph(comps[0])\n",
    "g = GC"
   ]
  },
  {
   "cell_type": "code",
   "execution_count": 15,
   "metadata": {
    "pycharm": {
     "name": "#%%\n"
    }
   },
   "outputs": [
    {
     "data": {
      "text/plain": [
       "11573"
      ]
     },
     "execution_count": 15,
     "metadata": {},
     "output_type": "execute_result"
    }
   ],
   "source": [
    "len(g)"
   ]
  },
  {
   "cell_type": "markdown",
   "metadata": {
    "pycharm": {
     "name": "#%% md\n"
    }
   },
   "source": [
    "# Community Discovery algorithms"
   ]
  },
  {
   "cell_type": "markdown",
   "metadata": {
    "pycharm": {
     "name": "#%% md\n"
    }
   },
   "source": [
    "## Approach 1: Internal Density\n",
    "Communities as sets of densely connected entities\n",
    "Each community must have a number of edges significantly higher than what expected in a random graph"
   ]
  },
  {
   "cell_type": "markdown",
   "metadata": {
    "pycharm": {
     "name": "#%% md\n"
    }
   },
   "source": [
    "### Louvain\n",
    "\n",
    "It works finding a function of density and maxime it.\n"
   ]
  },
  {
   "cell_type": "code",
   "execution_count": 16,
   "metadata": {
    "pycharm": {
     "name": "#%%\n"
    }
   },
   "outputs": [],
   "source": [
    "louv_coms = algorithms.louvain(g, weight='weight', resolution=1.)"
   ]
  },
  {
   "cell_type": "code",
   "execution_count": 17,
   "metadata": {},
   "outputs": [
    {
     "data": {
      "text/plain": [
       "'Louvain'"
      ]
     },
     "execution_count": 17,
     "metadata": {},
     "output_type": "execute_result"
    }
   ],
   "source": [
    "louv_coms.method_name"
   ]
  },
  {
   "cell_type": "code",
   "execution_count": 18,
   "metadata": {
    "pycharm": {
     "name": "#%%\n"
    }
   },
   "outputs": [],
   "source": [
    "# Function to retrieve the info of the communities found out by the algorithm\n",
    "def info_community(communities, algorithm):    \n",
    "    C = [g.subgraph(c).copy() for c in communities]\n",
    "    # Build a list with all info\n",
    "    info = dict()    \n",
    "    for count, comm in enumerate(C):        \n",
    "        info[count] = {'nodes': nx.number_of_nodes(comm), \n",
    "                       'edges': nx.number_of_edges(comm)}\n",
    "    return info"
   ]
  },
  {
   "cell_type": "code",
   "execution_count": 19,
   "metadata": {
    "pycharm": {
     "name": "#%%\n"
    }
   },
   "outputs": [
    {
     "data": {
      "text/plain": [
       "{0: {'nodes': 1798, 'edges': 156850},\n",
       " 1: {'nodes': 1666, 'edges': 83648},\n",
       " 2: {'nodes': 1551, 'edges': 86872},\n",
       " 3: {'nodes': 977, 'edges': 39339},\n",
       " 4: {'nodes': 754, 'edges': 52510},\n",
       " 5: {'nodes': 750, 'edges': 36177},\n",
       " 6: {'nodes': 515, 'edges': 21552},\n",
       " 7: {'nodes': 496, 'edges': 26562},\n",
       " 8: {'nodes': 465, 'edges': 63408},\n",
       " 9: {'nodes': 420, 'edges': 13649},\n",
       " 10: {'nodes': 351, 'edges': 25663},\n",
       " 11: {'nodes': 306, 'edges': 40611},\n",
       " 12: {'nodes': 286, 'edges': 10735},\n",
       " 13: {'nodes': 249, 'edges': 8753},\n",
       " 14: {'nodes': 209, 'edges': 5979},\n",
       " 15: {'nodes': 202, 'edges': 18193},\n",
       " 16: {'nodes': 164, 'edges': 7268},\n",
       " 17: {'nodes': 156, 'edges': 10914},\n",
       " 18: {'nodes': 87, 'edges': 3741},\n",
       " 19: {'nodes': 84, 'edges': 3486},\n",
       " 20: {'nodes': 34, 'edges': 561},\n",
       " 21: {'nodes': 17, 'edges': 136},\n",
       " 22: {'nodes': 15, 'edges': 105},\n",
       " 23: {'nodes': 11, 'edges': 55},\n",
       " 24: {'nodes': 10, 'edges': 45}}"
      ]
     },
     "execution_count": 19,
     "metadata": {},
     "output_type": "execute_result"
    }
   ],
   "source": [
    "info_louv = info_community(louv_coms.communities, louv_coms)\n",
    "info_louv"
   ]
  },
  {
   "cell_type": "code",
   "execution_count": 20,
   "metadata": {},
   "outputs": [
    {
     "name": "stdout",
     "output_type": "stream",
     "text": [
      "Nodes: FitnessResult(min=10, max=1798, score=462.92, std=512.2056555720562)\n",
      "Edges: FitnessResult(min=45, max=156850, score=28672.48, std=36137.66745114577)\n",
      "No overlapping\n"
     ]
    }
   ],
   "source": [
    "print(f\"Nodes: {evaluation.size(g, louv_coms)}\")\n",
    "print(f\"Edges: {evaluation.edges_inside(g, louv_coms)}\")\n",
    "if louv_coms.overlap: \n",
    "    print('Overlapping')\n",
    "else: print('No overlapping')"
   ]
  },
  {
   "cell_type": "code",
   "execution_count": 21,
   "metadata": {
    "pycharm": {
     "name": "#%%\n"
    }
   },
   "outputs": [
    {
     "data": {
      "image/png": "[encoded data removed]",
      "text/plain": [
       "<Figure size 1080x504 with 2 Axes>"
      ]
     },
     "metadata": {
      "needs_background": "light"
     },
     "output_type": "display_data"
    }
   ],
   "source": [
    "fig, axes = plt.subplots(1,2, figsize=(15, 7))\n",
    "\n",
    "sns.barplot(ax=axes[0], \n",
    "            x=list(info_louv.keys()), \n",
    "            y=[c['nodes'] for c in info_louv.values()],\n",
    "            palette='light:b_r')\n",
    "\n",
    "axes[0].set_xlabel('Community')\n",
    "axes[0].set_ylabel('Nodes')\n",
    "axes[0].set_yscale('log')\n",
    "\n",
    "sns.barplot(ax=axes[1],\n",
    "            x=list(info_louv.keys()),\n",
    "            y=[c['edges'] for c in info_louv.values()],\n",
    "            palette='light:b_r')\n",
    "\n",
    "axes[1].set_xlabel('Community')\n",
    "axes[1].set_ylabel('Edges')\n",
    "axes[1].set_yscale('log')\n",
    "\n",
    "plt.suptitle(\"Edges and nodes for the communities (Louvain)\")\n",
    "plt.show()"
   ]
  },
  {
   "cell_type": "markdown",
   "metadata": {
    "pycharm": {
     "name": "#%% md\n"
    }
   },
   "source": [
    "#### Internal Evaluation: Fitness scores"
   ]
  },
  {
   "cell_type": "markdown",
   "metadata": {
    "pycharm": {
     "name": "#%% md\n"
    }
   },
   "source": [
    "##### Partitions quality functions\n",
    "Using some fitness functions that can be defined to assess the quality of a partition"
   ]
  },
  {
   "cell_type": "code",
   "execution_count": 22,
   "metadata": {
    "pycharm": {
     "name": "#%%\n"
    }
   },
   "outputs": [],
   "source": [
    "def fitness_functions(community_type):\n",
    "\n",
    "    print(\"INTERNAL EVALUATION\")\n",
    "    print()\n",
    "    #average internal degree (AID) = the average internal degree of the community set.\n",
    "    print(f\"1 - Average Internal Degree: \\n{evaluation.average_internal_degree(g, community_type)}\")\n",
    "    print()\n",
    "    print()\n",
    "    #internal edge density (IED) = The internal density of the community set.\n",
    "    print(f\"2 - Internal Edge Density: \\n{evaluation.internal_edge_density(g,community_type)}\")\n",
    "    print()\n",
    "    print()\n",
    "    #conductance (C) = Fraction of total edge volume that points outside the community.\n",
    "    print(f\"3 - Conductance : \\n{evaluation.conductance(g,community_type)}\")\n",
    "    print()\n",
    "    print()\n",
    "    # Triangle participation ratio (TPR) = Fraction of community nodes that belong to a triad.\n",
    "    print(f\"4 - Triangle Participation Ratio : \\n{evaluation.triangle_participation_ratio(g,community_type)}\")\n",
    "    print()\n",
    "    print()\n",
    "    # #Girvan-Newmann modularity (GNM)\n",
    "    print(f\"5 - Newmann modularity : \\n{evaluation.newman_girvan_modularity(g,community_type)}\")\n",
    "    print()\n",
    "    print()\n",
    "    #Expansion = Number of edges per community node that point outside the cluster.\n",
    "    print(f\"6 - Expansion : \\n{evaluation.expansion(g,community_type)}\")\n",
    "    print()\n",
    "    print()\n",
    "    #Normalized-cut (NC)= normalized variant of cut-ratio, that is the fraction of existing edges (out of all possible edges) leaving the community.\n",
    "    print(f\"7 - Normalized cut : \\n{evaluation.normalized_cut(g,community_type)}\")\n",
    "    print()\n",
    "    print()\n",
    "    #Average ODF Degree (AODFD): the average fraction of edges of a node of a community that point outside the community itself.\n",
    "    print(f\"8 - Average ODF Degree : \\n{evaluation.avg_odf(g,community_type)}\")\n",
    "    print()\n",
    "    print()\n",
    "    #Flake ODF = Fraction of nodes in S that have fewer edges pointing inside than to the outside of the community.\n",
    "    print(f\"9 - Flake ODF : \\n{evaluation.flake_odf(g,community_type)}\")\n",
    "    print()\n",
    "    print()\n",
    "    # Fraction over median degree = Fraction of community nodes of having internal degree higher than the median degree value.\n",
    "    print(f\"10 - Fraction over median degree : \\n{evaluation.fraction_over_median_degree(g,community_type)}\")\n",
    "    print()\n",
    "    print()\n",
    "    # Node_coverage = Fraction of total edge volume that points outside the community.\n",
    "    print(f\"11 - Node coverage : \\n{community_type.node_coverage}\")\n",
    "\n",
    "\n"
   ]
  },
  {
   "cell_type": "code",
   "execution_count": 23,
   "metadata": {
    "pycharm": {
     "name": "#%%\n"
    }
   },
   "outputs": [
    {
     "name": "stdout",
     "output_type": "stream",
     "text": [
      "INTERNAL EVALUATION\n",
      "\n",
      "1 - Average Internal Degree: \n",
      "FitnessResult(min=9.0, max=272.7225806451613, score=100.22605935634743, std=68.05523208834785)\n",
      "\n",
      "\n",
      "2 - Internal Edge Density: \n",
      "FitnessResult(min=0.06031097123534098, max=1.0, score=0.5280294039565608, std=0.38049573821546995)\n",
      "\n",
      "\n",
      "3 - Conductance : \n",
      "FitnessResult(min=0.09090909090909091, max=0.3833770915788236, score=0.23407276790048498, std=0.08726826010517087)\n",
      "\n",
      "\n",
      "4 - Triangle Participation Ratio : \n",
      "FitnessResult(min=0.9943019943019943, max=1.0, score=0.9992986395883485, std=0.0013341391012476134)\n",
      "\n",
      "\n",
      "5 - Newmann modularity : \n",
      "FitnessResult(min=None, max=None, score=0.624542279442912, std=None)\n",
      "\n",
      "\n",
      "6 - Expansion : \n",
      "FitnessResult(min=1.0, max=114.52258064516128, score=33.72008099309105, std=24.924998545882318)\n",
      "\n",
      "\n",
      "7 - Normalized cut : \n",
      "FitnessResult(min=0.09091465944947016, max=0.4085179005642845, score=0.2455723180802102, std=0.094927358190718)\n",
      "\n",
      "\n",
      "8 - Average ODF Degree : \n",
      "FitnessResult(min=1.0, max=114.52258064516128, score=33.72008099309105, std=24.924998545882318)\n",
      "\n",
      "\n",
      "9 - Flake ODF : \n",
      "FitnessResult(min=0.0, max=0.3254861821903787, score=0.09857165703757093, std=0.07702595054743626)\n",
      "\n",
      "\n",
      "10 - Fraction over median degree : \n",
      "FitnessResult(min=0.0, max=0.5, score=0.23248534742852747, std=0.22306627988204553)\n",
      "\n",
      "\n",
      "11 - Node coverage : \n",
      "1.0\n"
     ]
    }
   ],
   "source": [
    "fitness_functions(louv_coms)"
   ]
  },
  {
   "cell_type": "markdown",
   "metadata": {},
   "source": [
    "#### External Evaluation: Purity "
   ]
  },
  {
   "cell_type": "markdown",
   "metadata": {},
   "source": [
    "In clustering, purity is used to measure the extent to which cluster labels match externally supplied class labels (also entropy can be used)."
   ]
  },
  {
   "cell_type": "code",
   "execution_count": 24,
   "metadata": {},
   "outputs": [],
   "source": [
    "test_community = louv_coms.communities[0]"
   ]
  },
  {
   "cell_type": "code",
   "execution_count": 25,
   "metadata": {},
   "outputs": [],
   "source": [
    "test_genres = [genre[idx] for idx in test_community]"
   ]
  },
  {
   "cell_type": "code",
   "execution_count": 26,
   "metadata": {},
   "outputs": [],
   "source": [
    "# Compute frequency distribution for genre\n",
    "test_genre_distr = sorted(\n",
    "    [(genre, test_genres.count(genre)) for genre in list(set(test_genres))],\n",
    "    key=lambda t: t[1],\n",
    "    reverse=True)"
   ]
  },
  {
   "cell_type": "code",
   "execution_count": 27,
   "metadata": {},
   "outputs": [
    {
     "data": {
      "text/plain": [
       "[('Letterature straniere: testi', 871),\n",
       " ('Letteratura italiana: testi', 398),\n",
       " ('Letteratura per ragazzi', 84),\n",
       " ('Scienze sociali', 75),\n",
       " ('Disegno, arti decorative e minori', 62),\n",
       " ('Arti ricreative. spettacolo. sport', 38),\n",
       " ('Scienza politica', 33),\n",
       " ('Problemi e servizi sociali', 32),\n",
       " ('Geografia generale. viaggi', 24),\n",
       " ('Musica', 21)]"
      ]
     },
     "execution_count": 27,
     "metadata": {},
     "output_type": "execute_result"
    }
   ],
   "source": [
    "test_genre_distr[:10]"
   ]
  },
  {
   "cell_type": "code",
   "execution_count": 28,
   "metadata": {},
   "outputs": [],
   "source": [
    "def compute_purity(freqs):    \n",
    "    purity = max(freqs)/sum(f for f in freqs)\n",
    "    return purity"
   ]
  },
  {
   "cell_type": "code",
   "execution_count": 29,
   "metadata": {},
   "outputs": [
    {
     "data": {
      "text/plain": [
       "0.4844271412680756"
      ]
     },
     "execution_count": 29,
     "metadata": {},
     "output_type": "execute_result"
    }
   ],
   "source": [
    "compute_purity([t[1] for t in test_genre_distr])"
   ]
  },
  {
   "cell_type": "code",
   "execution_count": 30,
   "metadata": {},
   "outputs": [],
   "source": [
    "def compute_overall_purity(communities, node_attributes, weighted=True):\n",
    "    total_nodes = sum(len(community) for community in communities)\n",
    "    weighted_purities = list()\n",
    "    purities = list()\n",
    "    for community in communities:        \n",
    "        attributes_in_community = [node_attributes[idx] for idx in community] \n",
    "        freqs_in_community = [attributes_in_community.count(attribute) \n",
    "                              for attribute in list(set(attributes_in_community))]\n",
    "        nodes_in_community = (sum(freqs_in_community))                \n",
    "        purity = compute_purity(freqs_in_community)                \n",
    "        weighted_purity = purity*(nodes_in_community/total_nodes)        \n",
    "        weighted_purities.append(weighted_purity)\n",
    "        purities.append(purity)        \n",
    "    if weighted:\n",
    "        return sum(weighted_purities)\n",
    "    else:\n",
    "        return sum(purities)/len(purities)"
   ]
  },
  {
   "cell_type": "code",
   "execution_count": 31,
   "metadata": {},
   "outputs": [],
   "source": [
    "genre_purity = compute_overall_purity(louv_coms.communities, genre)\n",
    "w_genre_purity = compute_overall_purity(louv_coms.communities, genre, weighted=False)"
   ]
  },
  {
   "cell_type": "code",
   "execution_count": 32,
   "metadata": {},
   "outputs": [],
   "source": [
    "publisher_purity = compute_overall_purity(louv_coms.communities, publisher)\n",
    "w_publisher_purity = compute_overall_purity(louv_coms.communities, publisher, weighted=False)"
   ]
  },
  {
   "cell_type": "code",
   "execution_count": 33,
   "metadata": {},
   "outputs": [],
   "source": [
    "# Compute purity for entire network\n",
    "network_genre_purity = compute_purity([list(genre.values()).count(g) \n",
    "                                       for g in list(set(list(genre.values())))])\n",
    "network_publisher_purity = compute_purity([list(publisher.values()).count(g) \n",
    "                                           for g in list(set(list(publisher.values())))])"
   ]
  },
  {
   "cell_type": "code",
   "execution_count": 34,
   "metadata": {},
   "outputs": [
    {
     "name": "stdout",
     "output_type": "stream",
     "text": [
      "GENRE\n",
      "Purity: 0.46064114749848784, Weighted: 0.42720198696922795\n",
      "Overall Network: 0.2714225053078556\n"
     ]
    }
   ],
   "source": [
    "print(f'GENRE')\n",
    "print(f'Purity: {genre_purity}, Weighted: {w_genre_purity}')\n",
    "print(f'Overall Network: {network_genre_purity}')"
   ]
  },
  {
   "cell_type": "code",
   "execution_count": 35,
   "metadata": {},
   "outputs": [
    {
     "name": "stdout",
     "output_type": "stream",
     "text": [
      "PUBLISHER\n",
      "Purity: 0.09885077335176701, Weighted: 0.18278263759619354\n",
      "Overall Network: 0.04704883227176221\n"
     ]
    }
   ],
   "source": [
    "print(f'PUBLISHER')\n",
    "print(f'Purity: {publisher_purity}, Weighted: {w_publisher_purity}')\n",
    "print(f'Overall Network: {network_publisher_purity}')"
   ]
  },
  {
   "cell_type": "markdown",
   "metadata": {
    "pycharm": {
     "name": "#%% md\n"
    }
   },
   "source": [
    "\n",
    "## Approach 2: Percolation\n",
    "Communities as a set of nodes grouped together by the propagation of a same property/action/information"
   ]
  },
  {
   "cell_type": "markdown",
   "metadata": {
    "pycharm": {
     "name": "#%% md\n"
    }
   },
   "source": [
    "### Label Propagation"
   ]
  },
  {
   "cell_type": "code",
   "execution_count": 36,
   "metadata": {
    "pycharm": {
     "name": "#%%\n"
    }
   },
   "outputs": [],
   "source": [
    "lp_coms = algorithms.label_propagation(g)"
   ]
  },
  {
   "cell_type": "code",
   "execution_count": 37,
   "metadata": {
    "pycharm": {
     "name": "#%%\n"
    }
   },
   "outputs": [
    {
     "data": {
      "text/plain": [
       "'Label Propagation'"
      ]
     },
     "execution_count": 37,
     "metadata": {},
     "output_type": "execute_result"
    }
   ],
   "source": [
    "lp_coms.method_name"
   ]
  },
  {
   "cell_type": "code",
   "execution_count": 38,
   "metadata": {
    "pycharm": {
     "name": "#%%\n"
    }
   },
   "outputs": [
    {
     "data": {
      "text/plain": [
       "{0: {'nodes': 9353, 'edges': 910191},\n",
       " 1: {'nodes': 150, 'edges': 6757},\n",
       " 2: {'nodes': 121, 'edges': 3949},\n",
       " 3: {'nodes': 99, 'edges': 4851},\n",
       " 4: {'nodes': 89, 'edges': 3916},\n",
       " 5: {'nodes': 80, 'edges': 3160},\n",
       " 6: {'nodes': 79, 'edges': 3081},\n",
       " 7: {'nodes': 73, 'edges': 1336},\n",
       " 8: {'nodes': 72, 'edges': 1404},\n",
       " 9: {'nodes': 71, 'edges': 2485},\n",
       " 10: {'nodes': 62, 'edges': 967},\n",
       " 11: {'nodes': 58, 'edges': 1653},\n",
       " 12: {'nodes': 51, 'edges': 1275},\n",
       " 13: {'nodes': 47, 'edges': 993},\n",
       " 14: {'nodes': 44, 'edges': 864},\n",
       " 15: {'nodes': 43, 'edges': 903},\n",
       " 16: {'nodes': 36, 'edges': 506},\n",
       " 17: {'nodes': 36, 'edges': 630},\n",
       " 18: {'nodes': 35, 'edges': 307},\n",
       " 19: {'nodes': 33, 'edges': 528},\n",
       " 20: {'nodes': 29, 'edges': 238},\n",
       " 21: {'nodes': 29, 'edges': 406},\n",
       " 22: {'nodes': 24, 'edges': 186},\n",
       " 23: {'nodes': 22, 'edges': 231},\n",
       " 24: {'nodes': 22, 'edges': 231},\n",
       " 25: {'nodes': 21, 'edges': 210},\n",
       " 26: {'nodes': 20, 'edges': 102},\n",
       " 27: {'nodes': 20, 'edges': 190},\n",
       " 28: {'nodes': 20, 'edges': 190},\n",
       " 29: {'nodes': 20, 'edges': 190},\n",
       " 30: {'nodes': 19, 'edges': 171},\n",
       " 31: {'nodes': 19, 'edges': 171},\n",
       " 32: {'nodes': 18, 'edges': 153},\n",
       " 33: {'nodes': 18, 'edges': 153},\n",
       " 34: {'nodes': 17, 'edges': 136},\n",
       " 35: {'nodes': 17, 'edges': 136},\n",
       " 36: {'nodes': 17, 'edges': 136},\n",
       " 37: {'nodes': 17, 'edges': 136},\n",
       " 38: {'nodes': 17, 'edges': 136},\n",
       " 39: {'nodes': 16, 'edges': 120},\n",
       " 40: {'nodes': 16, 'edges': 120},\n",
       " 41: {'nodes': 16, 'edges': 120},\n",
       " 42: {'nodes': 15, 'edges': 105},\n",
       " 43: {'nodes': 15, 'edges': 105},\n",
       " 44: {'nodes': 15, 'edges': 105},\n",
       " 45: {'nodes': 15, 'edges': 105},\n",
       " 46: {'nodes': 14, 'edges': 91},\n",
       " 47: {'nodes': 14, 'edges': 91},\n",
       " 48: {'nodes': 13, 'edges': 78},\n",
       " 49: {'nodes': 12, 'edges': 66},\n",
       " 50: {'nodes': 12, 'edges': 66},\n",
       " 51: {'nodes': 11, 'edges': 39},\n",
       " 52: {'nodes': 11, 'edges': 55},\n",
       " 53: {'nodes': 11, 'edges': 55},\n",
       " 54: {'nodes': 11, 'edges': 55},\n",
       " 55: {'nodes': 11, 'edges': 55},\n",
       " 56: {'nodes': 11, 'edges': 55},\n",
       " 57: {'nodes': 10, 'edges': 45},\n",
       " 58: {'nodes': 10, 'edges': 45},\n",
       " 59: {'nodes': 10, 'edges': 45},\n",
       " 60: {'nodes': 10, 'edges': 45},\n",
       " 61: {'nodes': 10, 'edges': 45},\n",
       " 62: {'nodes': 10, 'edges': 45},\n",
       " 63: {'nodes': 10, 'edges': 45},\n",
       " 64: {'nodes': 10, 'edges': 45},\n",
       " 65: {'nodes': 9, 'edges': 36},\n",
       " 66: {'nodes': 9, 'edges': 36},\n",
       " 67: {'nodes': 9, 'edges': 36},\n",
       " 68: {'nodes': 9, 'edges': 36},\n",
       " 69: {'nodes': 9, 'edges': 36},\n",
       " 70: {'nodes': 9, 'edges': 36},\n",
       " 71: {'nodes': 8, 'edges': 28},\n",
       " 72: {'nodes': 8, 'edges': 28},\n",
       " 73: {'nodes': 8, 'edges': 28},\n",
       " 74: {'nodes': 7, 'edges': 21},\n",
       " 75: {'nodes': 7, 'edges': 21},\n",
       " 76: {'nodes': 7, 'edges': 21},\n",
       " 77: {'nodes': 7, 'edges': 21},\n",
       " 78: {'nodes': 7, 'edges': 21},\n",
       " 79: {'nodes': 6, 'edges': 15},\n",
       " 80: {'nodes': 6, 'edges': 15},\n",
       " 81: {'nodes': 6, 'edges': 15},\n",
       " 82: {'nodes': 6, 'edges': 15},\n",
       " 83: {'nodes': 6, 'edges': 15},\n",
       " 84: {'nodes': 6, 'edges': 15},\n",
       " 85: {'nodes': 6, 'edges': 15},\n",
       " 86: {'nodes': 5, 'edges': 10},\n",
       " 87: {'nodes': 5, 'edges': 10},\n",
       " 88: {'nodes': 5, 'edges': 10},\n",
       " 89: {'nodes': 5, 'edges': 10},\n",
       " 90: {'nodes': 5, 'edges': 10},\n",
       " 91: {'nodes': 5, 'edges': 10},\n",
       " 92: {'nodes': 4, 'edges': 6},\n",
       " 93: {'nodes': 4, 'edges': 6},\n",
       " 94: {'nodes': 4, 'edges': 6},\n",
       " 95: {'nodes': 4, 'edges': 6},\n",
       " 96: {'nodes': 4, 'edges': 6},\n",
       " 97: {'nodes': 4, 'edges': 6},\n",
       " 98: {'nodes': 4, 'edges': 6},\n",
       " 99: {'nodes': 3, 'edges': 3},\n",
       " 100: {'nodes': 3, 'edges': 3},\n",
       " 101: {'nodes': 3, 'edges': 3},\n",
       " 102: {'nodes': 3, 'edges': 3},\n",
       " 103: {'nodes': 3, 'edges': 3},\n",
       " 104: {'nodes': 2, 'edges': 1},\n",
       " 105: {'nodes': 2, 'edges': 1},\n",
       " 106: {'nodes': 2, 'edges': 1},\n",
       " 107: {'nodes': 2, 'edges': 1}}"
      ]
     },
     "execution_count": 38,
     "metadata": {},
     "output_type": "execute_result"
    }
   ],
   "source": [
    "info_lp = info_community(lp_coms.communities, lp_coms)\n",
    "info_lp"
   ]
  },
  {
   "cell_type": "code",
   "execution_count": 39,
   "metadata": {
    "pycharm": {
     "name": "#%%\n"
    }
   },
   "outputs": [
    {
     "name": "stdout",
     "output_type": "stream",
     "text": [
      "Nodes: FitnessResult(min=2, max=9353, score=107.1574074074074, std=894.1987222382605)\n",
      "Edges: FitnessResult(min=1, max=910191, score=8849.398148148148, std=87142.35172277981)\n",
      "No overlapping\n"
     ]
    }
   ],
   "source": [
    "print(f\"Nodes: {evaluation.size(g, lp_coms)}\")\n",
    "print(f\"Edges: {evaluation.edges_inside(g, lp_coms)}\")\n",
    "if lp_coms.overlap: \n",
    "    print('Overlapping')\n",
    "else: print('No overlapping')"
   ]
  },
  {
   "cell_type": "code",
   "execution_count": 40,
   "metadata": {
    "pycharm": {
     "name": "#%%\n"
    }
   },
   "outputs": [
    {
     "data": {
      "text/plain": [
       "FitnessResult(min=2, max=9353, score=107.1574074074074, std=894.1987222382605)"
      ]
     },
     "execution_count": 40,
     "metadata": {},
     "output_type": "execute_result"
    }
   ],
   "source": [
    "lp_coms.size()"
   ]
  },
  {
   "cell_type": "code",
   "execution_count": 41,
   "metadata": {},
   "outputs": [
    {
     "data": {
      "image/png": "[encoded data removed]",
      "text/plain": [
       "<Figure size 1080x504 with 2 Axes>"
      ]
     },
     "metadata": {
      "needs_background": "light"
     },
     "output_type": "display_data"
    }
   ],
   "source": [
    "fig, axes = plt.subplots(1,2, figsize=(15, 7))\n",
    "\n",
    "sns.barplot(ax=axes[0], \n",
    "            x=list(info_lp.keys()), \n",
    "            y=[c['nodes'] for c in info_lp.values()],\n",
    "            palette='light:b_r')\n",
    "\n",
    "axes[0].set_xlabel('Community')\n",
    "axes[0].set_ylabel('Nodes')\n",
    "axes[0].set_yscale('log')\n",
    "\n",
    "# Show only min and max of x tick labels\n",
    "min_max = [min(list(info_lp.keys())), max(list(info_lp.keys()))]\n",
    "for index, label in enumerate(axes[0].get_xticklabels()):\n",
    "   if index in min_max:\n",
    "      label.set_visible(True)\n",
    "   else:\n",
    "      label.set_visible(False)\n",
    "\n",
    "\n",
    "sns.barplot(ax=axes[1],\n",
    "            x=list(info_lp.keys()),\n",
    "            y=[c['edges'] for c in info_lp.values()],\n",
    "            palette='light:b_r')\n",
    "\n",
    "axes[1].set_xlabel('Community')\n",
    "axes[1].set_ylabel('Edges')\n",
    "axes[1].set_yscale('log')\n",
    "\n",
    "# Show only min and max of x tick labels\n",
    "for index, label in enumerate(axes[1].get_xticklabels()):\n",
    "   if index in min_max:\n",
    "      label.set_visible(True)\n",
    "   else:\n",
    "      label.set_visible(False)\n",
    "\n",
    "plt.suptitle(\"Edges and nodes for the communities (Label Propagation)\")\n",
    "plt.show()"
   ]
  },
  {
   "cell_type": "code",
   "execution_count": 42,
   "metadata": {},
   "outputs": [
    {
     "name": "stdout",
     "output_type": "stream",
     "text": [
      "INTERNAL EVALUATION\n",
      "\n",
      "1 - Average Internal Degree: \n",
      "FitnessResult(min=1.0, max=194.6308136426815, score=18.8442581410357, std=26.39105196437351)\n",
      "\n",
      "\n",
      "2 - Internal Edge Density: \n",
      "FitnessResult(min=0.020811678105504865, max=1.0, score=0.9481069277673193, std=0.15455223715201294)\n",
      "\n",
      "\n",
      "3 - Conductance : \n",
      "FitnessResult(min=0.016835587835947532, max=0.5714285714285714, score=0.344580279492796, std=0.1319559418923727)\n",
      "\n",
      "\n",
      "4 - Triangle Participation Ratio : \n",
      "FitnessResult(min=0.0, max=1.0, score=0.9629599930305587, std=0.18885199462371216)\n",
      "\n",
      "\n",
      "5 - Newmann modularity : \n",
      "FitnessResult(min=None, max=None, score=0.08889187188396865, std=None)\n",
      "\n",
      "\n",
      "6 - Expansion : \n",
      "FitnessResult(min=1.0, max=47.44444444444444, score=7.9959156306567865, std=8.269557333306938)\n",
      "\n",
      "\n",
      "7 - Normalized cut : \n",
      "FitnessResult(min=0.05211556500816209, max=0.571436670701358, score=0.34628393276137215, std=0.12901344898105024)\n",
      "\n",
      "\n",
      "8 - Average ODF Degree : \n",
      "FitnessResult(min=1.0, max=47.44444444444444, score=7.9959156306567865, std=8.269557333306938)\n",
      "\n",
      "\n",
      "9 - Flake ODF : \n",
      "FitnessResult(min=0.0, max=1.0, score=0.037803689800501354, std=0.17390298367888082)\n",
      "\n",
      "\n",
      "10 - Fraction over median degree : \n",
      "FitnessResult(min=0.0, max=0.4947075804554688, score=0.007861683994358222, std=0.048567009119841055)\n",
      "\n",
      "\n",
      "11 - Node coverage : \n",
      "1.0\n"
     ]
    }
   ],
   "source": [
    "fitness_functions(lp_coms)"
   ]
  },
  {
   "cell_type": "code",
   "execution_count": 43,
   "metadata": {},
   "outputs": [],
   "source": [
    "genre_purity = compute_overall_purity(lp_coms.communities, genre)\n",
    "w_genre_purity = compute_overall_purity(lp_coms.communities, genre, weighted=False)"
   ]
  },
  {
   "cell_type": "code",
   "execution_count": 44,
   "metadata": {},
   "outputs": [],
   "source": [
    "publisher_purity = compute_overall_purity(lp_coms.communities, publisher)\n",
    "w_publisher_purity = compute_overall_purity(lp_coms.communities, publisher, weighted=False)"
   ]
  },
  {
   "cell_type": "code",
   "execution_count": 45,
   "metadata": {},
   "outputs": [
    {
     "name": "stdout",
     "output_type": "stream",
     "text": [
      "GENRE\n",
      "Purity: 0.32446211008381576, Weighted: 0.5390360050610348\n",
      "Overall Network: 0.2714225053078556\n"
     ]
    }
   ],
   "source": [
    "print(f'GENRE')\n",
    "print(f'Purity: {genre_purity}, Weighted: {w_genre_purity}')\n",
    "print(f'Overall Network: {network_genre_purity}')"
   ]
  },
  {
   "cell_type": "code",
   "execution_count": 46,
   "metadata": {},
   "outputs": [
    {
     "name": "stdout",
     "output_type": "stream",
     "text": [
      "PUBLISHER\n",
      "Purity: 0.08364296206687967, Weighted: 0.28774392793582715\n",
      "Overall Network: 0.04704883227176221\n"
     ]
    }
   ],
   "source": [
    "print(f'PUBLISHER')\n",
    "print(f'Purity: {publisher_purity}, Weighted: {w_publisher_purity}')\n",
    "print(f'Overall Network: {network_publisher_purity}')"
   ]
  },
  {
   "cell_type": "markdown",
   "metadata": {
    "pycharm": {
     "name": "#%% md\n"
    }
   },
   "source": [
    "### Angel\n",
    "using : cdlib.algorithms.angel [the faster successor of Demon]\n",
    "It is a node-centric bottom-up community discovery algorithm. It leverages ego-network structures and overlapping label propagation to identify micro-scale communities that are subsequently merged in mesoscale ones."
   ]
  },
  {
   "cell_type": "code",
   "execution_count": 47,
   "metadata": {
    "pycharm": {
     "name": "#%%\n"
    }
   },
   "outputs": [],
   "source": [
    "#minimum community size, default 3\n",
    "#threshold – merging threshold in [0,1].\n",
    "\n",
    "DA_coms = algorithms.angel(g, min_community_size=3, threshold=0.25)"
   ]
  },
  {
   "cell_type": "code",
   "execution_count": 48,
   "metadata": {},
   "outputs": [
    {
     "data": {
      "text/plain": [
       "'ANGEL'"
      ]
     },
     "execution_count": 48,
     "metadata": {},
     "output_type": "execute_result"
    }
   ],
   "source": [
    "DA_coms.method_name"
   ]
  },
  {
   "cell_type": "code",
   "execution_count": 49,
   "metadata": {
    "pycharm": {
     "name": "#%%\n"
    }
   },
   "outputs": [
    {
     "data": {
      "text/plain": [
       "{0: {'nodes': 11317, 'edges': 979291},\n",
       " 1: {'nodes': 120, 'edges': 6692},\n",
       " 2: {'nodes': 53, 'edges': 1378},\n",
       " 3: {'nodes': 12, 'edges': 66},\n",
       " 4: {'nodes': 12, 'edges': 66},\n",
       " 5: {'nodes': 12, 'edges': 66},\n",
       " 6: {'nodes': 11, 'edges': 55},\n",
       " 7: {'nodes': 10, 'edges': 45},\n",
       " 8: {'nodes': 9, 'edges': 36},\n",
       " 9: {'nodes': 8, 'edges': 28},\n",
       " 10: {'nodes': 7, 'edges': 21},\n",
       " 11: {'nodes': 6, 'edges': 15},\n",
       " 12: {'nodes': 6, 'edges': 15},\n",
       " 13: {'nodes': 5, 'edges': 10}}"
      ]
     },
     "execution_count": 49,
     "metadata": {},
     "output_type": "execute_result"
    }
   ],
   "source": [
    "info_DA = info_community(DA_coms.communities, DA_coms)\n",
    "info_DA"
   ]
  },
  {
   "cell_type": "code",
   "execution_count": 50,
   "metadata": {
    "pycharm": {
     "name": "#%%\n"
    }
   },
   "outputs": [
    {
     "name": "stdout",
     "output_type": "stream",
     "text": [
      "Nodes: FitnessResult(min=5, max=11317, score=827.7142857142857, std=2909.357917100596)\n",
      "Edges: FitnessResult(min=10, max=979291, score=70556.0, std=252043.57300644892)\n",
      "Overlapping\n"
     ]
    }
   ],
   "source": [
    "print(f\"Nodes: {evaluation.size(g, DA_coms)}\")\n",
    "print(f\"Edges: {evaluation.edges_inside(g, DA_coms)}\")\n",
    "if DA_coms.overlap: \n",
    "    print('Overlapping')\n",
    "else: print('No overlapping')"
   ]
  },
  {
   "cell_type": "code",
   "execution_count": 51,
   "metadata": {},
   "outputs": [
    {
     "data": {
      "image/png": "[encoded data removed]",
      "text/plain": [
       "<Figure size 1080x504 with 2 Axes>"
      ]
     },
     "metadata": {
      "needs_background": "light"
     },
     "output_type": "display_data"
    }
   ],
   "source": [
    "fig, axes = plt.subplots(1,2, figsize=(15, 7))\n",
    "\n",
    "sns.barplot(ax=axes[0], \n",
    "            x=list(info_DA.keys()), \n",
    "            y=[c['nodes'] for c in info_DA.values()],\n",
    "            palette='light:b_r')\n",
    "\n",
    "axes[0].set_xlabel('Community')\n",
    "axes[0].set_ylabel('Nodes')\n",
    "axes[0].set_yscale('log')\n",
    "\n",
    "# Show only min and max of x tick labels\n",
    "min_max = [min(list(info_DA.keys())), max(list(info_DA.keys()))]\n",
    "for index, label in enumerate(axes[0].get_xticklabels()):\n",
    "   if index in min_max:\n",
    "      label.set_visible(True)\n",
    "   else:\n",
    "      label.set_visible(False)\n",
    "\n",
    "\n",
    "sns.barplot(ax=axes[1],\n",
    "            x=list(info_DA.keys()),\n",
    "            y=[c['edges'] for c in info_DA.values()],\n",
    "            palette='light:b_r')\n",
    "\n",
    "axes[1].set_xlabel('Community')\n",
    "axes[1].set_ylabel('Edges')\n",
    "axes[1].set_yscale('log')\n",
    "\n",
    "# Show only min and max of x tick labels\n",
    "for index, label in enumerate(axes[1].get_xticklabels()):\n",
    "   if index in min_max:\n",
    "      label.set_visible(True)\n",
    "   else:\n",
    "      label.set_visible(False)\n",
    "\n",
    "plt.suptitle(\"Edges and nodes for the communities (Angel)\")\n",
    "plt.show()"
   ]
  },
  {
   "cell_type": "code",
   "execution_count": 52,
   "metadata": {
    "pycharm": {
     "name": "#%%\n"
    }
   },
   "outputs": [
    {
     "name": "stdout",
     "output_type": "stream",
     "text": [
      "INTERNAL EVALUATION\n",
      "\n",
      "1 - Average Internal Degree: \n",
      "FitnessResult(min=4.0, max=173.0654767164443, score=30.257057860698403, std=48.57798587994909)\n",
      "\n",
      "\n",
      "2 - Internal Edge Density: \n",
      "FitnessResult(min=0.015293873870311442, max=1.0, score=0.9251820554165068, std=0.2528713612154702)\n",
      "\n",
      "\n",
      "3 - Conductance : \n",
      "FitnessResult(min=0.000724998890307821, max=0.9831081081081081, score=0.6157198765034428, std=0.31530794266155915)\n",
      "\n",
      "\n",
      "4 - Triangle Participation Ratio : \n",
      "FitnessResult(min=1.0, max=1.0, score=1.0, std=0.0)\n",
      "\n",
      "\n",
      "5 - Newmann modularity : \n",
      "FitnessResult(min=None, max=None, score=0.01663580201394629, std=None)\n",
      "\n",
      "\n",
      "6 - Expansion : \n",
      "FitnessResult(min=0.12556331183175753, max=232.8, score=46.31905124576584, std=60.25051869243692)\n",
      "\n",
      "\n",
      "7 - Normalized cut : \n",
      "FitnessResult(min=0.07418539363355348, max=0.9836969903751632, score=0.621493215599933, std=0.3049990962447983)\n",
      "\n",
      "\n",
      "8 - Average ODF Degree : \n",
      "FitnessResult(min=0.12556331183175753, max=232.8, score=46.31905124576584, std=60.25051869243692)\n",
      "\n",
      "\n",
      "9 - Flake ODF : \n",
      "FitnessResult(min=0.0006185384819298401, max=0.2, score=0.11546893326780085, std=0.05997795524471892)\n",
      "\n",
      "\n",
      "10 - Fraction over median degree : \n",
      "FitnessResult(min=0.0, max=0.49907219227710525, score=0.03802896611503133, std=0.1281565260928136)\n",
      "\n",
      "\n",
      "11 - Node coverage : \n",
      "0.9989631037760304\n"
     ]
    }
   ],
   "source": [
    "fitness_functions(DA_coms)"
   ]
  },
  {
   "cell_type": "code",
   "execution_count": 53,
   "metadata": {},
   "outputs": [],
   "source": [
    "genre_purity = compute_overall_purity(DA_coms.communities, genre)\n",
    "w_genre_purity = compute_overall_purity(DA_coms.communities, genre, weighted=False)"
   ]
  },
  {
   "cell_type": "code",
   "execution_count": 54,
   "metadata": {},
   "outputs": [],
   "source": [
    "publisher_purity = compute_overall_purity(DA_coms.communities, publisher)\n",
    "w_publisher_purity = compute_overall_purity(DA_coms.communities, publisher, weighted=False)"
   ]
  },
  {
   "cell_type": "code",
   "execution_count": 55,
   "metadata": {},
   "outputs": [
    {
     "name": "stdout",
     "output_type": "stream",
     "text": [
      "GENRE\n",
      "Purity: 0.28339661719019676, Weighted: 0.5421635946613904\n",
      "Overall Network: 0.2714225053078556\n"
     ]
    }
   ],
   "source": [
    "print(f'GENRE')\n",
    "print(f'Purity: {genre_purity}, Weighted: {w_genre_purity}')\n",
    "print(f'Overall Network: {network_genre_purity}')"
   ]
  },
  {
   "cell_type": "code",
   "execution_count": 56,
   "metadata": {},
   "outputs": [
    {
     "name": "stdout",
     "output_type": "stream",
     "text": [
      "PUBLISHER\n",
      "Purity: 0.05609250949257856, Weighted: 0.3731768585926495\n",
      "Overall Network: 0.04704883227176221\n"
     ]
    }
   ],
   "source": [
    "print(f'PUBLISHER')\n",
    "print(f'Purity: {publisher_purity}, Weighted: {w_publisher_purity}')\n",
    "print(f'Overall Network: {network_publisher_purity}')"
   ]
  },
  {
   "cell_type": "markdown",
   "metadata": {
    "pycharm": {
     "name": "#%% md\n"
    }
   },
   "source": [
    "## Approach 4: Entity Closeness\n",
    "Communities as a set of nodes that can reach any member of the group crossing a very low number of edges"
   ]
  },
  {
   "cell_type": "markdown",
   "metadata": {
    "pycharm": {
     "name": "#%% md\n"
    }
   },
   "source": [
    "### Walk-trap\n",
    "\n"
   ]
  },
  {
   "cell_type": "code",
   "execution_count": 57,
   "metadata": {
    "pycharm": {
     "name": "#%%\n"
    }
   },
   "outputs": [],
   "source": [
    "wt_coms = algorithms.walktrap(g)"
   ]
  },
  {
   "cell_type": "code",
   "execution_count": 58,
   "metadata": {
    "pycharm": {
     "name": "#%%\n"
    }
   },
   "outputs": [
    {
     "data": {
      "text/plain": [
       "'Walktrap'"
      ]
     },
     "execution_count": 58,
     "metadata": {},
     "output_type": "execute_result"
    }
   ],
   "source": [
    "wt_coms.method_name"
   ]
  },
  {
   "cell_type": "code",
   "execution_count": 59,
   "metadata": {
    "pycharm": {
     "name": "#%%\n"
    }
   },
   "outputs": [
    {
     "data": {
      "text/plain": [
       "{0: {'nodes': 1760, 'edges': 66659},\n",
       " 1: {'nodes': 1463, 'edges': 139215},\n",
       " 2: {'nodes': 1331, 'edges': 50701},\n",
       " 3: {'nodes': 1264, 'edges': 73074},\n",
       " 4: {'nodes': 312, 'edges': 48516},\n",
       " 5: {'nodes': 287, 'edges': 39378},\n",
       " 6: {'nodes': 244, 'edges': 29404},\n",
       " 7: {'nodes': 236, 'edges': 20301},\n",
       " 8: {'nodes': 211, 'edges': 22155},\n",
       " 9: {'nodes': 184, 'edges': 16836},\n",
       " 10: {'nodes': 179, 'edges': 15931},\n",
       " 11: {'nodes': 169, 'edges': 13546},\n",
       " 12: {'nodes': 157, 'edges': 12246},\n",
       " 13: {'nodes': 138, 'edges': 9453},\n",
       " 14: {'nodes': 116, 'edges': 6670},\n",
       " 15: {'nodes': 113, 'edges': 6116},\n",
       " 16: {'nodes': 113, 'edges': 6328},\n",
       " 17: {'nodes': 98, 'edges': 3265},\n",
       " 18: {'nodes': 90, 'edges': 4005},\n",
       " 19: {'nodes': 90, 'edges': 4005},\n",
       " 20: {'nodes': 89, 'edges': 3506},\n",
       " 21: {'nodes': 89, 'edges': 3916},\n",
       " 22: {'nodes': 80, 'edges': 3160},\n",
       " 23: {'nodes': 79, 'edges': 3081},\n",
       " 24: {'nodes': 77, 'edges': 2926},\n",
       " 25: {'nodes': 75, 'edges': 2775},\n",
       " 26: {'nodes': 71, 'edges': 2485},\n",
       " 27: {'nodes': 69, 'edges': 2346},\n",
       " 28: {'nodes': 68, 'edges': 2278},\n",
       " 29: {'nodes': 63, 'edges': 1953},\n",
       " 30: {'nodes': 61, 'edges': 1830},\n",
       " 31: {'nodes': 55, 'edges': 1485},\n",
       " 32: {'nodes': 55, 'edges': 1485},\n",
       " 33: {'nodes': 54, 'edges': 1431},\n",
       " 34: {'nodes': 54, 'edges': 799},\n",
       " 35: {'nodes': 51, 'edges': 1275},\n",
       " 36: {'nodes': 50, 'edges': 1225},\n",
       " 37: {'nodes': 48, 'edges': 1128},\n",
       " 38: {'nodes': 47, 'edges': 1081},\n",
       " 39: {'nodes': 44, 'edges': 904},\n",
       " 40: {'nodes': 43, 'edges': 903},\n",
       " 41: {'nodes': 43, 'edges': 903},\n",
       " 42: {'nodes': 42, 'edges': 861},\n",
       " 43: {'nodes': 40, 'edges': 780},\n",
       " 44: {'nodes': 38, 'edges': 667},\n",
       " 45: {'nodes': 38, 'edges': 667},\n",
       " 46: {'nodes': 37, 'edges': 666},\n",
       " 47: {'nodes': 35, 'edges': 595},\n",
       " 48: {'nodes': 34, 'edges': 319},\n",
       " 49: {'nodes': 33, 'edges': 528},\n",
       " 50: {'nodes': 33, 'edges': 528},\n",
       " 51: {'nodes': 32, 'edges': 366},\n",
       " 52: {'nodes': 29, 'edges': 406},\n",
       " 53: {'nodes': 27, 'edges': 351},\n",
       " 54: {'nodes': 27, 'edges': 351},\n",
       " 55: {'nodes': 27, 'edges': 351},\n",
       " 56: {'nodes': 25, 'edges': 258},\n",
       " 57: {'nodes': 23, 'edges': 213},\n",
       " 58: {'nodes': 23, 'edges': 253},\n",
       " 59: {'nodes': 22, 'edges': 231},\n",
       " 60: {'nodes': 22, 'edges': 231},\n",
       " 61: {'nodes': 22, 'edges': 231},\n",
       " 62: {'nodes': 22, 'edges': 231},\n",
       " 63: {'nodes': 21, 'edges': 210},\n",
       " 64: {'nodes': 21, 'edges': 210},\n",
       " 65: {'nodes': 20, 'edges': 190},\n",
       " 66: {'nodes': 19, 'edges': 171},\n",
       " 67: {'nodes': 19, 'edges': 171},\n",
       " 68: {'nodes': 19, 'edges': 171},\n",
       " 69: {'nodes': 18, 'edges': 153},\n",
       " 70: {'nodes': 18, 'edges': 153},\n",
       " 71: {'nodes': 18, 'edges': 153},\n",
       " 72: {'nodes': 17, 'edges': 108},\n",
       " 73: {'nodes': 17, 'edges': 136},\n",
       " 74: {'nodes': 17, 'edges': 136},\n",
       " 75: {'nodes': 17, 'edges': 136},\n",
       " 76: {'nodes': 17, 'edges': 136},\n",
       " 77: {'nodes': 16, 'edges': 120},\n",
       " 78: {'nodes': 16, 'edges': 120},\n",
       " 79: {'nodes': 16, 'edges': 120},\n",
       " 80: {'nodes': 16, 'edges': 120},\n",
       " 81: {'nodes': 16, 'edges': 120},\n",
       " 82: {'nodes': 16, 'edges': 120},\n",
       " 83: {'nodes': 15, 'edges': 105},\n",
       " 84: {'nodes': 15, 'edges': 105},\n",
       " 85: {'nodes': 15, 'edges': 105},\n",
       " 86: {'nodes': 15, 'edges': 105},\n",
       " 87: {'nodes': 14, 'edges': 69},\n",
       " 88: {'nodes': 14, 'edges': 91},\n",
       " 89: {'nodes': 14, 'edges': 91},\n",
       " 90: {'nodes': 12, 'edges': 66},\n",
       " 91: {'nodes': 12, 'edges': 42},\n",
       " 92: {'nodes': 12, 'edges': 66},\n",
       " 93: {'nodes': 12, 'edges': 66},\n",
       " 94: {'nodes': 11, 'edges': 39},\n",
       " 95: {'nodes': 11, 'edges': 55},\n",
       " 96: {'nodes': 11, 'edges': 55},\n",
       " 97: {'nodes': 11, 'edges': 55},\n",
       " 98: {'nodes': 11, 'edges': 55},\n",
       " 99: {'nodes': 11, 'edges': 55},\n",
       " 100: {'nodes': 10, 'edges': 45},\n",
       " 101: {'nodes': 10, 'edges': 45},\n",
       " 102: {'nodes': 10, 'edges': 45},\n",
       " 103: {'nodes': 10, 'edges': 45},\n",
       " 104: {'nodes': 10, 'edges': 45},\n",
       " 105: {'nodes': 10, 'edges': 45},\n",
       " 106: {'nodes': 10, 'edges': 45},\n",
       " 107: {'nodes': 10, 'edges': 45},\n",
       " 108: {'nodes': 9, 'edges': 36},\n",
       " 109: {'nodes': 9, 'edges': 36},\n",
       " 110: {'nodes': 9, 'edges': 36},\n",
       " 111: {'nodes': 9, 'edges': 36},\n",
       " 112: {'nodes': 9, 'edges': 36},\n",
       " 113: {'nodes': 9, 'edges': 36},\n",
       " 114: {'nodes': 9, 'edges': 36},\n",
       " 115: {'nodes': 9, 'edges': 36},\n",
       " 116: {'nodes': 9, 'edges': 36},\n",
       " 117: {'nodes': 9, 'edges': 36},\n",
       " 118: {'nodes': 8, 'edges': 28},\n",
       " 119: {'nodes': 8, 'edges': 28},\n",
       " 120: {'nodes': 8, 'edges': 28},\n",
       " 121: {'nodes': 8, 'edges': 28},\n",
       " 122: {'nodes': 8, 'edges': 28},\n",
       " 123: {'nodes': 7, 'edges': 21},\n",
       " 124: {'nodes': 7, 'edges': 21},\n",
       " 125: {'nodes': 7, 'edges': 21},\n",
       " 126: {'nodes': 7, 'edges': 21},\n",
       " 127: {'nodes': 7, 'edges': 21},\n",
       " 128: {'nodes': 7, 'edges': 21},\n",
       " 129: {'nodes': 6, 'edges': 15},\n",
       " 130: {'nodes': 6, 'edges': 15},\n",
       " 131: {'nodes': 6, 'edges': 15},\n",
       " 132: {'nodes': 6, 'edges': 15},\n",
       " 133: {'nodes': 6, 'edges': 15},\n",
       " 134: {'nodes': 6, 'edges': 15},\n",
       " 135: {'nodes': 6, 'edges': 15},\n",
       " 136: {'nodes': 6, 'edges': 15},\n",
       " 137: {'nodes': 5, 'edges': 10},\n",
       " 138: {'nodes': 5, 'edges': 10},\n",
       " 139: {'nodes': 5, 'edges': 10},\n",
       " 140: {'nodes': 5, 'edges': 10},\n",
       " 141: {'nodes': 5, 'edges': 10},\n",
       " 142: {'nodes': 5, 'edges': 10},\n",
       " 143: {'nodes': 5, 'edges': 10},\n",
       " 144: {'nodes': 5, 'edges': 10},\n",
       " 145: {'nodes': 5, 'edges': 10},\n",
       " 146: {'nodes': 4, 'edges': 6},\n",
       " 147: {'nodes': 4, 'edges': 6},\n",
       " 148: {'nodes': 4, 'edges': 6},\n",
       " 149: {'nodes': 4, 'edges': 6},\n",
       " 150: {'nodes': 4, 'edges': 6},\n",
       " 151: {'nodes': 4, 'edges': 6},\n",
       " 152: {'nodes': 4, 'edges': 4},\n",
       " 153: {'nodes': 4, 'edges': 6},\n",
       " 154: {'nodes': 4, 'edges': 6},\n",
       " 155: {'nodes': 4, 'edges': 6},\n",
       " 156: {'nodes': 4, 'edges': 6},\n",
       " 157: {'nodes': 4, 'edges': 6},\n",
       " 158: {'nodes': 3, 'edges': 3},\n",
       " 159: {'nodes': 3, 'edges': 3},\n",
       " 160: {'nodes': 3, 'edges': 3},\n",
       " 161: {'nodes': 3, 'edges': 3},\n",
       " 162: {'nodes': 3, 'edges': 3},\n",
       " 163: {'nodes': 3, 'edges': 3},\n",
       " 164: {'nodes': 3, 'edges': 3},\n",
       " 165: {'nodes': 3, 'edges': 3},\n",
       " 166: {'nodes': 3, 'edges': 3},\n",
       " 167: {'nodes': 3, 'edges': 3},\n",
       " 168: {'nodes': 3, 'edges': 3},\n",
       " 169: {'nodes': 3, 'edges': 3},\n",
       " 170: {'nodes': 2, 'edges': 1},\n",
       " 171: {'nodes': 2, 'edges': 1},\n",
       " 172: {'nodes': 2, 'edges': 1},\n",
       " 173: {'nodes': 2, 'edges': 1},\n",
       " 174: {'nodes': 2, 'edges': 1},\n",
       " 175: {'nodes': 2, 'edges': 1},\n",
       " 176: {'nodes': 2, 'edges': 1},\n",
       " 177: {'nodes': 2, 'edges': 1},\n",
       " 178: {'nodes': 2, 'edges': 1},\n",
       " 179: {'nodes': 2, 'edges': 1},\n",
       " 180: {'nodes': 1, 'edges': 0},\n",
       " 181: {'nodes': 1, 'edges': 0},\n",
       " 182: {'nodes': 1, 'edges': 0}}"
      ]
     },
     "execution_count": 59,
     "metadata": {},
     "output_type": "execute_result"
    }
   ],
   "source": [
    "info_wt = info_community(wt_coms.communities, wt_coms)\n",
    "info_wt"
   ]
  },
  {
   "cell_type": "code",
   "execution_count": 61,
   "metadata": {
    "pycharm": {
     "name": "#%%\n"
    }
   },
   "outputs": [
    {
     "name": "stdout",
     "output_type": "stream",
     "text": [
      "Nodes: FitnessResult(min=1, max=1760, score=63.240437158469945, std=216.0130716137466)\n",
      "Edges: FitnessResult(min=0, max=139215, score=3525.9781420765025, std=14096.483585064861)\n",
      "No overlapping\n"
     ]
    }
   ],
   "source": [
    "print(f\"Nodes: {evaluation.size(g, wt_coms)}\")\n",
    "print(f\"Edges: {evaluation.edges_inside(g, wt_coms)}\")\n",
    "if wt_coms.overlap: \n",
    "    print('Overlapping')\n",
    "else: print('No overlapping')"
   ]
  },
  {
   "cell_type": "code",
   "execution_count": 62,
   "metadata": {},
   "outputs": [
    {
     "data": {
      "image/png": "[encoded data removed]",
      "text/plain": [
       "<Figure size 1080x504 with 2 Axes>"
      ]
     },
     "metadata": {
      "needs_background": "light"
     },
     "output_type": "display_data"
    }
   ],
   "source": [
    "fig, axes = plt.subplots(1,2, figsize=(15, 7))\n",
    "\n",
    "sns.barplot(ax=axes[0], \n",
    "            x=list(info_wt.keys()), \n",
    "            y=[c['nodes'] for c in info_wt.values()],\n",
    "            palette='light:b_r')\n",
    "\n",
    "axes[0].set_xlabel('Community')\n",
    "axes[0].set_ylabel('Nodes')\n",
    "axes[0].set_yscale('log')\n",
    "\n",
    "# Show only min and max of x tick labels\n",
    "min_max = [min(list(info_wt.keys())), max(list(info_wt.keys()))]\n",
    "for index, label in enumerate(axes[0].get_xticklabels()):\n",
    "   if index in min_max:\n",
    "      label.set_visible(True)\n",
    "   else:\n",
    "      label.set_visible(False)\n",
    "\n",
    "\n",
    "sns.barplot(ax=axes[1],\n",
    "            x=list(info_wt.keys()),\n",
    "            y=[c['edges'] for c in info_wt.values()],\n",
    "            palette='light:b_r')\n",
    "\n",
    "axes[1].set_xlabel('Community')\n",
    "axes[1].set_ylabel('Edges')\n",
    "axes[1].set_yscale('log')\n",
    "\n",
    "# Show only min and max of x tick labels\n",
    "for index, label in enumerate(axes[1].get_xticklabels()):\n",
    "   if index in min_max:\n",
    "      label.set_visible(True)\n",
    "   else:\n",
    "      label.set_visible(False)\n",
    "\n",
    "plt.suptitle(\"Edges and nodes for the communities (Angel)\")\n",
    "plt.show()"
   ]
  },
  {
   "cell_type": "code",
   "execution_count": 63,
   "metadata": {
    "pycharm": {
     "name": "#%%\n"
    }
   },
   "outputs": [
    {
     "name": "stdout",
     "output_type": "stream",
     "text": [
      "INTERNAL EVALUATION\n",
      "\n",
      "1 - Average Internal Degree: \n",
      "FitnessResult(min=4.0, max=173.0654767164443, score=30.257057860698403, std=48.57798587994909)\n",
      "\n",
      "\n",
      "2 - Internal Edge Density: \n",
      "FitnessResult(min=0.015293873870311442, max=1.0, score=0.9251820554165068, std=0.2528713612154702)\n",
      "\n",
      "\n",
      "3 - Conductance : \n",
      "FitnessResult(min=0.000724998890307821, max=0.9831081081081081, score=0.6157198765034428, std=0.31530794266155915)\n",
      "\n",
      "\n",
      "4 - Triangle Participation Ratio : \n",
      "FitnessResult(min=1.0, max=1.0, score=1.0, std=0.0)\n",
      "\n",
      "\n",
      "5 - Newmann modularity : \n",
      "FitnessResult(min=None, max=None, score=0.01663580201394629, std=None)\n",
      "\n",
      "\n",
      "6 - Expansion : \n",
      "FitnessResult(min=0.12556331183175753, max=232.8, score=46.31905124576584, std=60.25051869243692)\n",
      "\n",
      "\n",
      "7 - Normalized cut : \n",
      "FitnessResult(min=0.07418539363355348, max=0.9836969903751632, score=0.621493215599933, std=0.3049990962447983)\n",
      "\n",
      "\n",
      "8 - Average ODF Degree : \n",
      "FitnessResult(min=0.12556331183175753, max=232.8, score=46.31905124576584, std=60.25051869243692)\n",
      "\n",
      "\n",
      "9 - Flake ODF : \n",
      "FitnessResult(min=0.0006185384819298401, max=0.2, score=0.11546893326780085, std=0.05997795524471892)\n",
      "\n",
      "\n",
      "10 - Fraction over median degree : \n",
      "FitnessResult(min=0.0, max=0.49907219227710525, score=0.03802896611503133, std=0.1281565260928136)\n",
      "\n",
      "\n",
      "11 - Node coverage : \n",
      "0.9989631037760304\n"
     ]
    }
   ],
   "source": [
    "fitness_functions(DA_coms)"
   ]
  },
  {
   "cell_type": "code",
   "execution_count": 64,
   "metadata": {},
   "outputs": [],
   "source": [
    "genre_purity = compute_overall_purity(DA_coms.communities, genre)\n",
    "w_genre_purity = compute_overall_purity(DA_coms.communities, genre, weighted=False)"
   ]
  },
  {
   "cell_type": "code",
   "execution_count": 65,
   "metadata": {},
   "outputs": [],
   "source": [
    "publisher_purity = compute_overall_purity(DA_coms.communities, publisher)\n",
    "w_publisher_purity = compute_overall_purity(DA_coms.communities, publisher, weighted=False)"
   ]
  },
  {
   "cell_type": "code",
   "execution_count": 66,
   "metadata": {},
   "outputs": [
    {
     "name": "stdout",
     "output_type": "stream",
     "text": [
      "GENRE\n",
      "Purity: 0.28339661719019676, Weighted: 0.5421635946613904\n",
      "Overall Network: 0.2714225053078556\n"
     ]
    }
   ],
   "source": [
    "print(f'GENRE')\n",
    "print(f'Purity: {genre_purity}, Weighted: {w_genre_purity}')\n",
    "print(f'Overall Network: {network_genre_purity}')"
   ]
  },
  {
   "cell_type": "code",
   "execution_count": 67,
   "metadata": {},
   "outputs": [
    {
     "name": "stdout",
     "output_type": "stream",
     "text": [
      "PUBLISHER\n",
      "Purity: 0.05609250949257856, Weighted: 0.3731768585926495\n",
      "Overall Network: 0.04704883227176221\n"
     ]
    }
   ],
   "source": [
    "print(f'PUBLISHER')\n",
    "print(f'Purity: {publisher_purity}, Weighted: {w_publisher_purity}')\n",
    "print(f'Overall Network: {network_publisher_purity}')"
   ]
  },
  {
   "cell_type": "markdown",
   "metadata": {
    "pycharm": {
     "name": "#%% md\n"
    }
   },
   "source": [
    "# External Evaluation: Partition Comparisons"
   ]
  },
  {
   "cell_type": "markdown",
   "metadata": {
    "pycharm": {
     "name": "#%% md\n"
    }
   },
   "source": [
    "## Partitions comparison scores\n",
    "Compare different graph partition to assess their resemblance."
   ]
  },
  {
   "cell_type": "code",
   "execution_count": 68,
   "metadata": {},
   "outputs": [],
   "source": [
    "algs = [lp_coms, louv_coms, DA_coms, wt_coms]\n",
    "#algs = [louv_coms, lp_coms] # test"
   ]
  },
  {
   "cell_type": "code",
   "execution_count": 69,
   "metadata": {},
   "outputs": [],
   "source": [
    "combinations = list(itertools.combinations(algs, 2))"
   ]
  },
  {
   "cell_type": "code",
   "execution_count": 70,
   "metadata": {},
   "outputs": [
    {
     "name": "stdout",
     "output_type": "stream",
     "text": [
      "NF1 Label Propagation - Louvain = MatchingResult(score=0.023257133058984907, std=None)\n",
      "\n",
      "NF1 Label Propagation - ANGEL = MatchingResult(score=0.016353276353276356, std=None)\n",
      "\n",
      "NF1 Label Propagation - Walktrap = MatchingResult(score=0.5695628415300545, std=None)\n",
      "\n",
      "NF1 Louvain - ANGEL = MatchingResult(score=0.008265142857142856, std=None)\n",
      "\n",
      "NF1 Louvain - Walktrap = MatchingResult(score=0.0664343606557377, std=None)\n",
      "\n",
      "NF1 ANGEL - Walktrap = MatchingResult(score=0.06721311475409837, std=None)\n",
      "\n"
     ]
    }
   ],
   "source": [
    "for combination in combinations:\n",
    "    print(f\"NF1 {combination[0].method_name} - {combination[1].method_name} = {evaluation.nf1(combination[0], combination[1])}\")\n",
    "    print()"
   ]
  },
  {
   "cell_type": "code",
   "execution_count": 71,
   "metadata": {},
   "outputs": [
    {
     "name": "stdout",
     "output_type": "stream",
     "text": [
      "ONMI Label Propagation - Louvain = MatchingResult(score=0.1851296764127799, std=None)\n",
      "\n",
      "ONMI Label Propagation - ANGEL = MatchingResult(score=0.462596319702552, std=None)\n",
      "\n",
      "ONMI Label Propagation - Walktrap = MatchingResult(score=0.7696679591128319, std=None)\n",
      "\n",
      "ONMI Louvain - ANGEL = MatchingResult(score=0.15245905449953323, std=None)\n",
      "\n",
      "ONMI Louvain - Walktrap = MatchingResult(score=0.29738111219448093, std=None)\n",
      "\n",
      "ONMI ANGEL - Walktrap = MatchingResult(score=0.440999984407593, std=None)\n",
      "\n"
     ]
    }
   ],
   "source": [
    "for combination in combinations:\n",
    "    print(f\"ONMI {combination[0].method_name} - {combination[1].method_name} = {evaluation.overlapping_normalized_mutual_information_LFK(combination[0], combination[1])}\")\n",
    "    print()"
   ]
  },
  {
   "cell_type": "code",
   "execution_count": 72,
   "metadata": {
    "pycharm": {
     "name": "#%%\n"
    }
   },
   "outputs": [
    {
     "data": {
      "text/plain": [
       "<seaborn.axisgrid.FacetGrid at 0x7f1d577570d0>"
      ]
     },
     "execution_count": 72,
     "metadata": {},
     "output_type": "execute_result"
    },
    {
     "data": {
      "image/png": "[encoded data removed]",
      "text/plain": [
       "<Figure size 360x360 with 1 Axes>"
      ]
     },
     "metadata": {
      "needs_background": "light"
     },
     "output_type": "display_data"
    }
   ],
   "source": [
    "viz.plot_com_properties_relation(algs, evaluation.size, evaluation.internal_edge_density)"
   ]
  },
  {
   "cell_type": "code",
   "execution_count": 73,
   "metadata": {},
   "outputs": [],
   "source": [
    "method_names = [alg.method_name for alg in algs]"
   ]
  },
  {
   "cell_type": "code",
   "execution_count": 74,
   "metadata": {},
   "outputs": [],
   "source": [
    "f1_scores = list()\n",
    "for alg1 in algs:\n",
    "    f1_score = [evaluation.nf1(alg1, alg2).score for alg2 in algs]\n",
    "    f1_scores.append(f1_score)"
   ]
  },
  {
   "cell_type": "code",
   "execution_count": 75,
   "metadata": {},
   "outputs": [],
   "source": [
    "ONMI_scores = list()\n",
    "for alg1 in algs:\n",
    "    ONMI_score = [evaluation.overlapping_normalized_mutual_information_LFK(alg1, alg2).score for alg2 in algs]\n",
    "    ONMI_scores.append(ONMI_score)"
   ]
  },
  {
   "cell_type": "code",
   "execution_count": 76,
   "metadata": {},
   "outputs": [
    {
     "data": {
      "image/png": "[encoded data removed]",
      "text/plain": [
       "<Figure size 936x720 with 2 Axes>"
      ]
     },
     "metadata": {
      "needs_background": "light"
     },
     "output_type": "display_data"
    }
   ],
   "source": [
    "fig, ax = plt.subplots(figsize=(13,10))\n",
    "\n",
    "sns.set(font_scale=1.3)\n",
    "ax = sns.heatmap(f1_scores, annot=True, fmt='.3f', xticklabels=method_names, yticklabels=method_names)"
   ]
  },
  {
   "cell_type": "code",
   "execution_count": 77,
   "metadata": {},
   "outputs": [
    {
     "data": {
      "image/png": "[encoded data removed]",
      "text/plain": [
       "<Figure size 936x720 with 2 Axes>"
      ]
     },
     "metadata": {},
     "output_type": "display_data"
    }
   ],
   "source": [
    "fig, ax = plt.subplots(figsize=(13,10))\n",
    "\n",
    "sns.set(font_scale=1.3)\n",
    "ax = sns.heatmap(ONMI_scores, annot=True, fmt='.3f', xticklabels=method_names, yticklabels=method_names)"
   ]
  },
  {
   "cell_type": "code",
   "execution_count": 78,
   "metadata": {},
   "outputs": [
    {
     "name": "stdout",
     "output_type": "stream",
     "text": [
      "Requirement already satisfied: tikzplotlib in ./.venv/lib/python3.8/site-packages (0.10.1)\r\n",
      "Requirement already satisfied: Pillow in ./.venv/lib/python3.8/site-packages (from tikzplotlib) (8.4.0)\r\n",
      "Requirement already satisfied: webcolors in ./.venv/lib/python3.8/site-packages (from tikzplotlib) (1.12)\r\n",
      "Requirement already satisfied: matplotlib>=1.4.0 in ./.venv/lib/python3.8/site-packages (from tikzplotlib) (3.4.3)\r\n",
      "Requirement already satisfied: numpy in ./.venv/lib/python3.8/site-packages (from tikzplotlib) (1.19.2)\r\n",
      "Requirement already satisfied: kiwisolver>=1.0.1 in ./.venv/lib/python3.8/site-packages (from matplotlib>=1.4.0->tikzplotlib) (1.3.2)\r\n",
      "Requirement already satisfied: cycler>=0.10 in ./.venv/lib/python3.8/site-packages (from matplotlib>=1.4.0->tikzplotlib) (0.10.0)\r\n",
      "Requirement already satisfied: pyparsing>=2.2.1 in ./.venv/lib/python3.8/site-packages (from matplotlib>=1.4.0->tikzplotlib) (2.4.7)\r\n",
      "Requirement already satisfied: python-dateutil>=2.7 in ./.venv/lib/python3.8/site-packages (from matplotlib>=1.4.0->tikzplotlib) (2.8.2)\r\n",
      "Requirement already satisfied: six in ./.venv/lib/python3.8/site-packages (from cycler>=0.10->matplotlib>=1.4.0->tikzplotlib) (1.15.0)\r\n"
     ]
    }
   ],
   "source": [
    "!pip install tikzplotlib"
   ]
  },
  {
   "cell_type": "code",
   "execution_count": 79,
   "metadata": {},
   "outputs": [],
   "source": [
    "import tikzplotlib"
   ]
  },
  {
   "cell_type": "code",
   "execution_count": 80,
   "metadata": {},
   "outputs": [
    {
     "data": {
      "image/png": "[encoded data removed]",
      "text/plain": [
       "<Figure size 432x288 with 2 Axes>"
      ]
     },
     "metadata": {},
     "output_type": "display_data"
    }
   ],
   "source": [
    "fig, ax = plt.subplots()\n",
    "\n",
    "sns.set(font_scale=1.3)\n",
    "ax = sns.heatmap(f1_scores, annot=True, fmt='.3f', xticklabels=method_names, yticklabels=method_names)\n",
    "tikzplotlib.save(\"plots/heatmap-f1-comparison.tex\")"
   ]
  },
  {
   "cell_type": "code",
   "execution_count": 81,
   "metadata": {},
   "outputs": [
    {
     "data": {
      "image/png": "[encoded data removed]",
      "text/plain": [
       "<Figure size 432x288 with 2 Axes>"
      ]
     },
     "metadata": {},
     "output_type": "display_data"
    }
   ],
   "source": [
    "fig, ax = plt.subplots()\n",
    "\n",
    "sns.set(font_scale=1.3)\n",
    "ax = sns.heatmap(ONMI_scores, annot=True, fmt='.3f', xticklabels=method_names, yticklabels=method_names)\n",
    "tikzplotlib.save(\"plots/heatmap-ONMI-comparison.tex\")"
   ]
  },
  {
   "cell_type": "code",
   "execution_count": null,
   "metadata": {},
   "outputs": [],
   "source": []
  }
 ],
 "metadata": {
  "kernelspec": {
   "display_name": "Python 3 (ipykernel)",
   "language": "python",
   "name": "python3"
  },
  "language_info": {
   "codemirror_mode": {
    "name": "ipython",
    "version": 3
   },
   "file_extension": ".py",
   "mimetype": "text/x-python",
   "name": "python",
   "nbconvert_exporter": "python",
   "pygments_lexer": "ipython3",
   "version": "3.8.14"
  }
 },
 "nbformat": 4,
 "nbformat_minor": 1
}
