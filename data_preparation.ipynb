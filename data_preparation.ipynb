{
 "cells": [
  {
   "cell_type": "markdown",
   "metadata": {
    "pycharm": {
     "name": "#%% md\n"
    }
   },
   "source": [
    "# Data preparation"
   ]
  },
  {
   "cell_type": "code",
   "execution_count": 1,
   "metadata": {
    "pycharm": {
     "name": "#%%\n"
    }
   },
   "outputs": [],
   "source": [
    "%matplotlib inline"
   ]
  },
  {
   "cell_type": "code",
   "execution_count": 2,
   "metadata": {
    "pycharm": {
     "name": "#%%\n"
    }
   },
   "outputs": [],
   "source": [
    "import pandas as pd\n",
    "import numpy as np\n",
    "import matplotlib.pyplot as plt\n",
    "from matplotlib.ticker import MaxNLocator\n",
    "import seaborn as sns\n",
    "import re\n",
    "import csv\n",
    "from tqdm import tqdm"
   ]
  },
  {
   "cell_type": "code",
   "execution_count": 3,
   "metadata": {
    "pycharm": {
     "name": "#%%\n"
    }
   },
   "outputs": [],
   "source": [
    "df = pd.read_csv('data/bd-recommendations.csv')"
   ]
  },
  {
   "cell_type": "code",
   "execution_count": 4,
   "metadata": {
    "pycharm": {
     "name": "#%%\n"
    }
   },
   "outputs": [
    {
     "name": "stdout",
     "output_type": "stream",
     "text": [
      "<class 'pandas.core.frame.DataFrame'>\n",
      "RangeIndex: 20626 entries, 0 to 20625\n",
      "Data columns (total 9 columns):\n",
      " #   Column                    Non-Null Count  Dtype  \n",
      "---  ------                    --------------  -----  \n",
      " 0   titolo                    20626 non-null  object \n",
      " 1   autore                    19353 non-null  object \n",
      " 2   editore                   20626 non-null  object \n",
      " 3   isbn                      20626 non-null  int64  \n",
      " 4   categoria                 20605 non-null  object \n",
      " 5   numero-pagine             19629 non-null  object \n",
      " 6   data-di-uscita            20626 non-null  object \n",
      " 7   raccomandazioni-ricevute  20515 non-null  float64\n",
      " 8   consigliato-da            20515 non-null  object \n",
      "dtypes: float64(1), int64(1), object(7)\n",
      "memory usage: 1.4+ MB\n"
     ]
    }
   ],
   "source": [
    "df.info()"
   ]
  },
  {
   "cell_type": "code",
   "execution_count": 5,
   "metadata": {
    "pycharm": {
     "name": "#%%\n"
    }
   },
   "outputs": [
    {
     "data": {
      "text/plain": "                      titolo                     autore  editore  \\\n0  Cambiare l'acqua ai fiori             Perrin Valérie      E/O   \n1      Ragazza, donna, altro        Evaristo Bernardine      Sur   \n2                  L'Ickabog              Rowling J. K.   Salani   \n3                      Dante         Barbero Alessandro  Laterza   \n4                  Borgo Sud  Di Pietrantonio Donatella  Einaudi   \n\n            isbn                      categoria numero-pagine data-di-uscita  \\\n0  9788833570990   Letterature straniere: testi           476     10/07/2019   \n1  9788869982279   Letterature straniere: testi           520     11/11/2020   \n2  9788831006705        Letteratura per ragazzi           320     10/11/2020   \n3  9788858141649  Letteratura italiana: critica           361     08/10/2020   \n4  9788806244781    Letteratura italiana: testi           168     03/11/2020   \n\n   raccomandazioni-ricevute                                     consigliato-da  \n0                      64.0  81/libreria-tasso, 60/a-tutto-libro, 55/libris...  \n1                      61.0  39/la-confraternita-delluva-libreria-indipende...  \n2                      44.0  168/magia-del-fumetto, 486/lotta-libreria, 306...  \n3                      37.0  51/il-ponte-sulla-dora, 116/lettera22, 433/lib...  \n4                      36.0  285/libreria-fogola-pisa, 512/libreria-di-donn...  ",
      "text/html": "<div>\n<style scoped>\n    .dataframe tbody tr th:only-of-type {\n        vertical-align: middle;\n    }\n\n    .dataframe tbody tr th {\n        vertical-align: top;\n    }\n\n    .dataframe thead th {\n        text-align: right;\n    }\n</style>\n<table border=\"1\" class=\"dataframe\">\n  <thead>\n    <tr style=\"text-align: right;\">\n      <th></th>\n      <th>titolo</th>\n      <th>autore</th>\n      <th>editore</th>\n      <th>isbn</th>\n      <th>categoria</th>\n      <th>numero-pagine</th>\n      <th>data-di-uscita</th>\n      <th>raccomandazioni-ricevute</th>\n      <th>consigliato-da</th>\n    </tr>\n  </thead>\n  <tbody>\n    <tr>\n      <th>0</th>\n      <td>Cambiare l'acqua ai fiori</td>\n      <td>Perrin Valérie</td>\n      <td>E/O</td>\n      <td>9788833570990</td>\n      <td>Letterature straniere: testi</td>\n      <td>476</td>\n      <td>10/07/2019</td>\n      <td>64.0</td>\n      <td>81/libreria-tasso, 60/a-tutto-libro, 55/libris...</td>\n    </tr>\n    <tr>\n      <th>1</th>\n      <td>Ragazza, donna, altro</td>\n      <td>Evaristo Bernardine</td>\n      <td>Sur</td>\n      <td>9788869982279</td>\n      <td>Letterature straniere: testi</td>\n      <td>520</td>\n      <td>11/11/2020</td>\n      <td>61.0</td>\n      <td>39/la-confraternita-delluva-libreria-indipende...</td>\n    </tr>\n    <tr>\n      <th>2</th>\n      <td>L'Ickabog</td>\n      <td>Rowling J. K.</td>\n      <td>Salani</td>\n      <td>9788831006705</td>\n      <td>Letteratura per ragazzi</td>\n      <td>320</td>\n      <td>10/11/2020</td>\n      <td>44.0</td>\n      <td>168/magia-del-fumetto, 486/lotta-libreria, 306...</td>\n    </tr>\n    <tr>\n      <th>3</th>\n      <td>Dante</td>\n      <td>Barbero Alessandro</td>\n      <td>Laterza</td>\n      <td>9788858141649</td>\n      <td>Letteratura italiana: critica</td>\n      <td>361</td>\n      <td>08/10/2020</td>\n      <td>37.0</td>\n      <td>51/il-ponte-sulla-dora, 116/lettera22, 433/lib...</td>\n    </tr>\n    <tr>\n      <th>4</th>\n      <td>Borgo Sud</td>\n      <td>Di Pietrantonio Donatella</td>\n      <td>Einaudi</td>\n      <td>9788806244781</td>\n      <td>Letteratura italiana: testi</td>\n      <td>168</td>\n      <td>03/11/2020</td>\n      <td>36.0</td>\n      <td>285/libreria-fogola-pisa, 512/libreria-di-donn...</td>\n    </tr>\n  </tbody>\n</table>\n</div>"
     },
     "execution_count": 5,
     "metadata": {},
     "output_type": "execute_result"
    }
   ],
   "source": [
    "df.head()"
   ]
  },
  {
   "cell_type": "code",
   "execution_count": 6,
   "metadata": {
    "pycharm": {
     "name": "#%%\n"
    }
   },
   "outputs": [
    {
     "data": {
      "text/plain": "titolo                         0\nautore                      1273\neditore                        0\nisbn                           0\ncategoria                     21\nnumero-pagine                997\ndata-di-uscita                 0\nraccomandazioni-ricevute     111\nconsigliato-da               111\ndtype: int64"
     },
     "execution_count": 6,
     "metadata": {},
     "output_type": "execute_result"
    }
   ],
   "source": [
    "df.isnull().sum()"
   ]
  },
  {
   "cell_type": "markdown",
   "metadata": {
    "pycharm": {
     "name": "#%% md\n"
    }
   },
   "source": [
    "## Edge list"
   ]
  },
  {
   "cell_type": "code",
   "execution_count": 7,
   "metadata": {
    "pycharm": {
     "name": "#%%\n"
    }
   },
   "outputs": [],
   "source": [
    "df.dropna(axis=0, subset=['raccomandazioni-ricevute','consigliato-da'], inplace=True)"
   ]
  },
  {
   "cell_type": "code",
   "execution_count": 8,
   "outputs": [],
   "source": [
    "# Convert str to list\n",
    "df['consigliato-da'] = [bookdealer.split(', ') for bookdealer in df['consigliato-da']]"
   ],
   "metadata": {
    "collapsed": false,
    "pycharm": {
     "name": "#%%\n"
    }
   }
  },
  {
   "cell_type": "code",
   "execution_count": 9,
   "outputs": [
    {
     "data": {
      "text/plain": "{'686/libreria-universal-di-ama-salentea': 16,\n '457/libreria-bacco': 20,\n '133/dudi-libreria-per-bambini-e-ragazzi': 4,\n '300/gallery16': 8,\n '112/libreria-tralerighe': 21,\n '284/lento-bookshop': 28,\n '51/il-ponte-sulla-dora': 92,\n '900/il-segnalibro': 10,\n '421/marabuk': 25,\n '327/libreria-dei-piccoli-rimedi': 29,\n '64/skribi-parole-suoni-gusto': 91,\n '621/la-libreria-dei-ragazzi': 52,\n '887/polpo-ludo': 14,\n '352/lèggere-leggére': 67,\n '469/libreria-del-sole': 1,\n '109/libreria-101': 326,\n '114/bookstorie': 104,\n '465/le-altalene-libri': 68,\n '92/libreria-venpred': 32,\n '410/la-piccola-libreria-di-levico-terme': 235,\n '478/tuedio-design-di-marina-checchi': 22,\n '98/libreria-prosperi': 136,\n '194/mammachilegge': 4,\n '63/libreria-popolare-di-via-tadino': 102,\n '351/oh-che-bel-castello-libreria': 52,\n '426/edicola-aldini': 77,\n '347/libreria-miranfù-libri-per-bambini': 66,\n '85/la-bookeria': 27,\n '395/eco-di-fata': 82,\n '477/libreria-tamu': 1,\n '279/il-gatto-immaginario': 6,\n '637/libreria-modulandia': 34,\n '1069/emera-libreria-indipendente': 88,\n '628/bibliolibrò-bookshop': 22,\n '125/risma-bookshop': 17,\n '138/isola-libri': 13,\n '447/librimi': 2,\n '455/la-libreria-di-via-volta': 48,\n '124/libreria-liberi-tutti': 49,\n '122/libreria-albatros': 52,\n '1000/libreria-fuori-porta': 67,\n '587/tre-libretti-sul-comò': 25,\n '512/libreria-di-donne-tuba': 50,\n '140/tiritera': 24,\n '427/libreria-silvio-damico': 3,\n '116/lettera22': 122,\n '223/libreria-biblion': 12,\n '710/don-chisciotte-libreria': 7,\n '90/tra-le-righe-libreria-bistrot': 19,\n '797/libreria-les-mots': 54,\n '725/libreria-piantaparole': 1,\n '383/caramelle-di-carta': 1,\n '771/libreria-orlando': 8,\n '1058/elsa-libreria-creativa': 38,\n '312/libreria-città-aperta': 7,\n '37/la-libreria-del-golem': 27,\n '1038/libreria-nessundove': 91,\n '286/hemingwaycafè': 110,\n '768/lalbero-dei-fichi': 10,\n '727/piolalibri-bruxelles': 10,\n '58/altroquando': 24,\n '247/cento-fiori': 17,\n '367/libreria-blume': 98,\n '196/libreria-francavillese': 6,\n '100/libreria-diana': 13,\n '702/quo-vadis': 7,\n '319/anarres': 59,\n '488/fatti-di-carta': 59,\n '511/la-pazienza-arti-e-libri': 52,\n '59/sovrappensieri': 48,\n '257/libreria-punta-alla-luna': 13,\n '816/la-matricola-libreria-universitaria': 666,\n '742/librerie-laruffa-editore-dimensione-cultura': 111,\n '165/giufà-libreria-caffè': 71,\n '105/nora-book': 29,\n '336/libreria-bozzi': 48,\n '996/juna-letture-per-ragazzi': 55,\n '865/libreria-squilibri': 23,\n '660/libreria-il-pianeta-arcobaleno': 27,\n '236/libreria-del-gruppo-pegaso': 1,\n '980/libreria-la-vispa-teresa': 36,\n '241/libreria-il-melograno': 4,\n '487/libreria-librido': 13,\n '655/libreria-europa-lotosoft-di-andrea-mussolin': 17,\n '492/animamundi': 53,\n '169/blue-room': 131,\n '404/libreria-esoterica-milano': 1,\n '704/la-libreria-di-metallia': 33,\n '156/libreria-tarantola': 2,\n '820/la-freccia-azzurra': 42,\n '388/promolibri': 15,\n '343/il-dondolibro': 75,\n '259/saphira': 12,\n '766/libreria-gulisano': 1,\n '586/libreria-degli-asinelli': 18,\n '815/la-maratonda': 17,\n '155/libreria-book-felix': 37,\n '211/am-bookstore': 64,\n '1034/libreria-semi-dinchiostro': 13,\n '345/la-tana-del-libro': 16,\n '298/la-casa-di-giulia-librinfesta': 32,\n '985/punto-touring-milano': 10,\n '1023/piccola-officina-del-libro': 10,\n '204/libreria-lungomare': 16,\n '979/otherwise-bookshop': 4,\n '796/mondolibro': 7,\n '1040/lornitorinco-libreria-per-bambin-e-altro': 5,\n '745/civico14-libreria': 637,\n '526/il-bianconiglio-libreria': 13,\n '213/libreria-quarto-stato': 11,\n '230/cartolibreria-barbati': 19,\n '314/enoteca-letteraria': 4,\n '968/libreria-griot': 22,\n '361/libreria-cartel': 31,\n '43/libreria-milton': 12,\n '218/zazà': 46,\n '866/a-mano-armata': 3,\n '61/prospero-enoteca-letteraria': 9,\n '650/biblia': 1,\n '191/bufò-libreria-giochi-e-family-store': 20,\n '258/le-pagine-sul-lago': 9,\n '678/il-giardino-incartato': 4,\n '56/libreria-tutti-giù-per-terra': 40,\n '81/libreria-tasso': 16,\n '273/libreria-dante-di-longo': 3,\n '306/antica-libreria-goggia': 37,\n '436/libreria-arvultura': 25,\n '184/sognalibro': 12,\n '355/centostorie': 10,\n '357/marameo': 40,\n '930/fumetti-che-passione': 3,\n '143/voltalacarta': 11,\n '468/kindustria': 60,\n '110/libri-al-sette': 29,\n '1052/paolini-libreria-cartoleria-edicola': 4,\n '79/les-bouquinistes': 13,\n '500/luna-di-sabbia': 1,\n '967/pantaleon': 5,\n '229/lalibreria': 7,\n '662/taberna-libraria': 12,\n '919/fabbri-emanuele-e-c': 30,\n '510/libreria-favolare': 71,\n '266/bari-ignota': 11,\n '429/libreria-oltreilcatalogo': 7,\n '991/libreria-chiodo-fisso': 20,\n '577/ono-arte': 125,\n '97/corteccia': 44,\n '123/limerick': 8,\n '556/cuore-di-carta': 1,\n '617/libreria-rio-bo': 35,\n '551/il-mosaico-libreria-dei-ragazzi': 19,\n '639/libreria-bonanzinga': 44,\n '331/libreria-calibro': 26,\n '240/libreria-gulliver': 21,\n '403/nani-pittori': 14,\n '749/libreria-bianca-e-volta': 8,\n '729/libreria-monti-in-città': 9,\n '833/lunaria-la-libreria-di-gammazita': 354,\n '294/lamico-ritrovato': 12,\n '349/farollo-e-falpalà': 50,\n '877/laltra-libreria': 20,\n '456/libreria-mariclò': 12,\n '684/libreria-palomar': 13,\n '808/paper-room': 8,\n '819/nuova-godot': 6,\n '495/cappuccetto-giallo': 34,\n '810/cuore-dinchiostro': 4,\n '802/libreria-campedel': 63,\n '873/libreria-eli': 51,\n '755/chourmo-enolibreria': 18,\n '813/il-mattoncino': 59,\n '513/agorà-libreria-editrice': 42,\n '836/ta-da-fumetti-libri': 2,\n '605/libreria-europa': 6,\n '718/libreria-universitas': 71,\n '285/libreria-fogola-pisa': 89,\n '747/antico-caffè-san-marco-libreria-e-ristorante': 115,\n '291/libreria-colapesce': 61,\n '583/odusia-libreria': 359,\n '397/setsu-bun': 7,\n '339/yomu-nari-leggere-è-un-gioco': 26,\n '375/gogol-and-company': 18,\n '369/alegre': 15,\n '520/libreria-pangea': 138,\n '177/giralibri': 13,\n '533/libreria-universitaria-san-leonardo': 3,\n '304/la-città-del-sole': 4,\n '398/read-red-road': 18,\n '353/liberia-il-ponte': 3,\n '416/briviosrl-libreria': 16,\n '445/casimiro': 3,\n '471/lincontro': 19,\n '280/libreria-culture': 1,\n '414/per-fare-un-libro': 14,\n '360/semiminimi-libri-musica-giochi-per-piccoli-e-più-piccoli': 34,\n '463/pagina59': 94,\n '541/libreria-ponteponente': 13,\n '849/sognalibro': 2,\n '625/ossian-bottega-dellanticaquercia': 2,\n '616/nuova-libreria-di-emanuela-petroro': 8,\n '776/libreria-hamelin': 29,\n '136/libreria-esoterica-il-sigillo': 19,\n '619/libreria-il-secondo-rinascimento': 23,\n '794/vertigo-comic-shop': 8,\n '438/motivi-tra-libri-e-musica': 12,\n '758/alfabeta': 45,\n '885/pel-di-carota': 546,\n '508/il-libro-magico': 88,\n '167/libreria-booklet': 11,\n '497/nave-cervo-libri-illustrazioni-cose': 15,\n '1037/bloombook': 24,\n '741/ortolibreria': 8,\n '232/libreria-del-convegno': 121,\n '160/zazà-art-comics-shop': 10,\n '308/saremo-alberi-libroteca': 8,\n '516/libreria-millestorie': 5,\n '672/libreria-edicola-andrea-fanfani': 458,\n '509/libreria-il-sole-e-la-cometa': 21,\n '543/libreria-don-durito': 18,\n '431/aribac-libreria-0-16': 17,\n '146/libreria-ghibellina-pisa': 1,\n '800/libreria-dedalus': 1,\n '310/the-little-reader': 12,\n '374/bookshop-reggio-children': 7,\n '531/area-libri': 89,\n '358/potere-ai-bambini': 6,\n '1021/librolistico': 12,\n '119/pagina-27': 65,\n '152/pianeta-fantasia': 78,\n '325/lo-spazio-pistoia': 5,\n '340/nonsololibri': 1,\n '382/i-libri-sul-comò': 1,\n '676/magie-letterarie': 23,\n '559/libreria-castelli-podavini': 94,\n '77/lora-di-libertà-centocelle': 34,\n '555/storytelling-libreria-sala-da-tè': 48,\n '569/lidea-cartolibreria': 30,\n '638/lapsus-caffè-libreria': 14,\n '547/libreria-flaccavento': 63,\n '446/libreria-ambarabà': 23,\n '666/libreria-confabula': 16,\n '701/casa-musicale-del-rio': 3,\n '790/amicolibro': 7,\n '609/libreria-tarantola-1899': 48,\n '321/tra-le-note': 211,\n '713/cartelle': 361,\n '188/infinite-parentesi-librerie-di-quartiere': 9,\n '164/libreria-minerva': 16,\n '189/per-filo-e-per-segno-libreria-per-ragazzi': 189,\n '645/asterisco-libreria': 39,\n '305/mittel': 4,\n '894/lab-libri-al-banco': 3,\n '483/anacleto': 6,\n '328/bibi-libreria-dei-ragazzi': 40,\n '297/ottimomassimo-una-libreria-specializzata-in-illustrazione-e-letture-per-lettori-e-lettrici-alle-prime-armi': 46,\n '60/a-tutto-libro': 16,\n '150/libreria-liberocaos': 64,\n '709/kobo-shop': 10,\n '104/libreria-la-fenice': 39,\n '323/libreria-diorama-kids': 12,\n '415/la-soffitta-senza-tetto': 108,\n '784/al-buco-libreria': 57,\n '548/libreria-gioacchino-tavella': 3,\n '95/lik-e-lak': 39,\n '399/sognalibri-srls': 19,\n '524/libreria-il-viale': 9,\n '626/la-libreria-erickson-roma': 17,\n '499/gialloparma': 7,\n '491/libreria-namasté-book-and-coffee': 25,\n '142/libre-società-cooperativa': 43,\n '386/libreria-il-punto': 44,\n '220/spine-bookstore': 212,\n '601/libreria-roma': 2,\n '475/libreria-matrioska-una-fiaba-dentro-laltra': 66,\n '261/chiarello-paolo': 11,\n '880/libreria-terradimezzo': 6,\n '295/covo-della-ladra': 7,\n '287/periferica-libreria-fuori-dal-centro': 53,\n '441/libreria-mirtillo': 8,\n '135/libreria-del-mare': 90,\n '260/edicola-di-teglio': 67,\n '933/libreria-della-natura': 8,\n '344/jaku-toys-fumetteria': 1,\n '861/tempo-libro-education': 10,\n '807/laformadelibroit': 234,\n '895/eclissi-libreria-e-art-room': 4,\n '179/iocisto-libri-viaggi-e-cose-belle': 1106,\n '890/sc-non-solo-scuola-snc': 1,\n '565/libreria-istituti-nuovi': 9,\n '822/libreria-dei-salici-di-altieri-maria-teresa-altieri': 6,\n '440/libreria-spartaco': 7,\n '115/libreria-campus': 37,\n '778/cartolibreria-la-matita': 12,\n '589/libreria': 18,\n '852/libreria-baobab': 23,\n '484/libreria-diari-di-bordo': 109,\n '129/libreria-sommaruga': 9,\n '581/nuova-libreria-albo': 11,\n '928/minervabooks': 10,\n '694/la-città-incantata': 49,\n '433/libreria-arcadia': 868,\n '726/libreria-zaratan': 6,\n '396/la-casa-dei-libri': 87,\n '148/oltretutto-librai-a-domicilio-fiorentino-libri': 12,\n '274/libreria-dellacciuga': 8,\n '464/il-brucotondo': 6,\n '1062/la-casa-di-carta-di-melissa-patricelli': 49,\n '78/libreria-dello-sport': 11,\n '41/libreria-zabarella': 198,\n '659/libreria-asterisco': 11,\n '753/storie-a-colori-libreria-per-bambini-e-ragazzi': 12,\n '384/libreria-fiordifiaba': 4,\n '489/moliere-bistrot-letterario': 139,\n '80/libreria-claudiana-milano': 27,\n '842/libreria-esoterica-ibis': 4,\n '761/libreria-la-montagna': 88,\n '250/mag-la-ladra-di-libri': 35,\n '774/vivo-sorsi-bocconi-libri-idee': 8,\n '172/cartolandia': 11,\n '368/libreria-cartabianca': 46,\n '532/libreria-sottobosco': 28,\n '754/la-cicala': 68,\n '422/libreria-coreander': 16,\n '226/mangiaparole': 1,\n '452/libreria-romani': 17,\n '356/sinestetica': 9,\n '892/libreria-la-torre': 8,\n '740/la-mia-libreria-20': 287,\n '631/libreria-nuova-ipsa': 2,\n '969/centro-studi-piemontesi': 3,\n '182/tra-le-righe': 44,\n '254/carabà': 2,\n '39/la-confraternita-delluva-libreria-indipendente': 125,\n '151/libreria-heimat': 27,\n '432/libreria-germi': 18,\n '1046/libri-appesi': 18,\n '338/libreria-iobook': 14,\n '199/libreria-edison-by-biblion': 64,\n '501/kirikù-libri-e-giochi': 85,\n '738/stacciaminaccia': 29,\n '611/punto-einaudi-reggio-emilia-libreria-indipendente': 102,\n '793/biobook': 6,\n '49/book-morning-libreria-degli-indipendenti': 177,\n '521/altrimondi-libreria-bistrot-e-oltre': 2186,\n '648/booklet-di-anna': 7,\n '175/i-trapezisti': 47,\n '393/digitalsoul': 6,\n '982/la-librellula': 4,\n '528/la-vita-nova': 54,\n '685/libreria-palomar': 1,\n '603/libreria-costeniero': 26,\n '128/libreria-on-the-road': 262,\n '814/libreria-merello': 9,\n '118/libreria-trastevere': 70,\n '409/capo-horn': 12,\n '87/prinz-zaum': 14,\n '1022/centopagine-libreria': 13,\n '225/tana-libri-per-tutti': 580,\n '94/attraverso-libreria-indipendente-per-bambini-e-ragazzi': 28,\n '554/libreria-antica-roma': 502,\n '607/libreria-delle-donne-di-milano': 109,\n '93/la-scugnizzeria': 9,\n '329/creativamente-milano': 55,\n '376/libreria-donostia': 2,\n '515/il-giralibri': 45,\n '362/libreria-il-seme': 7,\n '788/lìbrati-libreria-delle-donne-di-padova': 134,\n '474/punto-e-virgola': 5,\n '330/libreria-pagina-272': 50,\n '52/libreria-florida': 111,\n '238/libreria-bodonispazio-b': 3,\n '437/libri-e-idee': 19,\n '688/elephantsbooks': 9,\n '988/punto-einaudi-milano-orti-letterari': 38,\n '277/libreria-max-88': 13,\n '736/i-funamboli': 129,\n '332/tatatà': 40,\n '567/cartolibreria-san-giacomo': 12,\n '322/tuttoscuola': 23,\n '318/photo-travel-editions': 8,\n '523/libreria-atlantide': 102,\n '984/belgravia-libreria': 14,\n '363/libreria-wojtek': 3,\n '364/falsodemetrio': 53,\n '311/accardi-libri-quotidiani-libreria-indie': 93,\n '632/il-compasso': 3,\n '103/libreria-delle-donne-di-bologna': 29,\n '76/libreria-nuova-avventura': 12,\n '765/edicola-76': 1,\n '251/il-posto-che-cercavo': 65,\n '981/punto-touring-roma': 24,\n '86/libreria-claudiana-firenze': 599,\n '62/libreria-di-quartiere': 25,\n '624/la-tana-dei-sogni': 13,\n '341/librida-bottega': 5,\n '695/quattro-zecchini': 30,\n '938/mr-ibis': 10,\n '163/libreria-pensieri-belli-lucca': 193,\n '359/il-candelibro-storie-ed-essenze': 4,\n '46/libreria-del-convegno': 48,\n '450/libreria-egea': 22,\n '689/larché-di-salvatore-greco': 55,\n '275/à-la-page': 9,\n '1065/libreria-regina-pacis': 10,\n '342/libreria-trebisonda': 190,\n '334/libri-parlanti-books': 5,\n '763/ibla-bookshop': 18,\n '193/libreria-azuni': 37,\n '111/libreria-koob': 14,\n '71/kublai': 31,\n '907/libreria-burgio': 23,\n '55/librisottocasa-libreria-itinerante-in-bicicletta': 72,\n '243/cartolibreria-arcadia': 3,\n '131/libramente-caffè-letterario': 4,\n '614/aleph': 1,\n '50/due-punti': 10,\n '309/libreria-langella': 11,\n '203/lape-book-pharmacy': 51,\n '661/libreria-straffi': 5,\n '234/libreria-peb': 43,\n '83/bookish': 13,\n '791/libreria-fortuna': 10,\n '88/libreria-equilibri': 12,\n '723/la-libreria-del-marchese': 9,\n '324/coccobook-store': 2,\n '959/genesis': 4,\n '540/libreria-piccoloblu': 15,\n '697/il-bucaneve': 9,\n '941/libreria-luigi-einaudi': 57,\n '538/inari-cultura-giapponese': 16,\n '302/libreria-piccoli-labirinti': 288,\n '667/tam-tam-libreria-dei-bambini': 13,\n '847/libreria-dei-salici': 3,\n '144/fogola-fàgola': 4,\n '444/libreria-nutrimenti-bookshop': 27,\n '44/il-trittico': 8,\n '472/libreria-modusvivendi': 59,\n '1043/piccoli-cipressi-libreria-per-bambini-e-ragazzi': 44,\n '113/dueccì-di-carlin-angela': 23,\n '161/storie-in-mongolfiera': 21,\n '530/svoltastorie-libreria-per-ragazzie': 81,\n '493/sottosopra': 4,\n '235/contrappunto': 15,\n '379/laltracittà': 14,\n '216/wall-of-sound-gallery': 22,\n '905/libreria-il-segnalibro': 31,\n '267/libreria-una-come-te': 67,\n '537/la-scatola-gialla': 99,\n '519/fataghiò': 32,\n '1002/libreria-delle-ragazze': 25,\n '459/viale-dei-ciliegi-17': 288,\n '354/libreria-cartamarea': 13,\n '168/magia-del-fumetto': 136,\n '372/libreria-fieschi': 6,\n '290/lettera_22': 9,\n '897/libreria-editrice-il-leggio': 30,\n '96/la-gang-del-pensiero': 31,\n '504/viale-dei-ciliegi-17': 39,\n '579/libreria-athena': 3,\n '546/libreria-s-andrea': 32,\n '760/la-libreria-del-cappellaio-matto': 163,\n '598/libreria-mobydick': 7,\n '623/libreria-primo-moroni': 23,\n '939/cartolibreria-edicola-antonini': 172,\n '490/il-librificio-del-borgo-cibo-per-la-mente-e-non-solo': 12,\n '828/mare-di-carta': 1,\n '594/il-levante-libreria-editrice-sas': 1,\n '656/libricadabra': 155,\n '303/giocolibreria-semola': 25,\n '405/libreria-macondo': 1381,\n '170/liblab': 85,\n '850/catania-libri-di-agata-di-mauro': 13,\n '176/spazio-libri-la-cornice': 128,\n '837/carla-cartoleria': 8,\n '945/libreria-san-siro': 5,\n '391/pagine-libreria-narrativa-americana': 80,\n '999/libreria-assolibro': 24,\n '654/libreria-dangelo': 15,\n '320/riobo-libreria-per-ragazzi': 5,\n '411/casa-del-libro-mascali': 64,\n '313/libreria-passaparola': 6,\n '724/4-3-3-libreria': 14,\n '558/libreria-arcadia': 226,\n '198/il-mondo-di-bò': 16,\n '576/marcovaldo-libreria-per-bambini': 10,\n '872/libreria-fabula': 1,\n '706/cartolibreria-brivio': 13,\n '780/kùthà-libri': 17,\n '162/cartolibreria-disanti': 38,\n '536/la-volpe-volante': 14,\n '237/libreria-suspense': 2,\n '425/globo-libri': 12,\n '505/libreria-bella-storia': 99,\n '106/libreria-centofiori': 17,\n '70/angolo-manzoni': 1,\n '486/lotta-libreria': 1482,\n '66/libreria-pescebanana': 75,\n '888/libroteka': 9,\n '385/libreria-del-mondo-offeso': 84,\n '657/rodaviva-bar-libreria': 128,\n '186/libreria-lalchimista': 3,\n '233/tomo-libreria-caffè': 31,\n '997/la-libreria-delle-pessime-idee': 13,\n '370/pandizenzero-libreria-per-bambini-e-spazio-famiglie': 17,\n '636/libreria-il-papiro': 4,\n '1060/lornitorinco': 6,\n '53/colibrì': 60,\n '799/libreria-mt-cicerone': 1237,\n '84/cartolibreria-gdc-snc-chiavenna-via-consoli-17': 26,\n '174/libreria-velasquez': 9,\n '862/la-terza-stanza': 102,\n '818/mabercart': 24,\n '950/cartolibreria-scotti': 5,\n '67/mannaggia-libri-da-un-altro-mondo': 133,\n '675/camera-libreria': 116,\n '442/libreria-ultima-spiaggia': 12,\n '507/corgiatti-di-rossetti-d': 13,\n '255/libreria-alfani-editrice': 209,\n '296/stella-degli-elfi': 13,\n '173/il-granaio': 12,\n '365/noi-libreria-spazio-culturale-di-vicinato': 14,\n '145/libreria-leggere': 93,\n '608/selma-libri-fumetti-giochi-e-cartoleria': 78,\n '658/gioconda-spazio-ricreativo': 12,\n '712/libreria-militare': 38}"
     },
     "execution_count": 9,
     "metadata": {},
     "output_type": "execute_result"
    }
   ],
   "source": [
    "recommendations = [recommendation for recommendations in df['consigliato-da'] for recommendation in recommendations]\n",
    "bookdealers = list(set(recommendations))\n",
    "\n",
    "\n",
    "recommendations_by_bookdealer = dict()\n",
    "for bookdealer in bookdealers:\n",
    "    recommendations_by_bookdealer[bookdealer] = recommendations.count(bookdealer)\n",
    "\n",
    "recommendations_by_bookdealer"
   ],
   "metadata": {
    "collapsed": false,
    "pycharm": {
     "name": "#%%\n"
    }
   }
  },
  {
   "cell_type": "code",
   "execution_count": 10,
   "outputs": [
    {
     "name": "stdout",
     "output_type": "stream",
     "text": [
      "16\n"
     ]
    }
   ],
   "source": [
    "# Find books that are recommended by a bookdealer who made only that recommendation\n",
    "rows2remove = [index for index, row in df.iterrows()\n",
    "               if row['raccomandazioni-ricevute'] == 1\n",
    "               and recommendations_by_bookdealer[row['consigliato-da'][0]]== 1]\n",
    "print(len(rows2remove))\n",
    "\n",
    "df.drop(index=rows2remove, inplace=True)"
   ],
   "metadata": {
    "collapsed": false,
    "pycharm": {
     "name": "#%%\n"
    }
   }
  },
  {
   "cell_type": "code",
   "execution_count": 11,
   "outputs": [],
   "source": [
    "df['id'] = [i for i in range(0,len(df))]"
   ],
   "metadata": {
    "collapsed": false,
    "pycharm": {
     "name": "#%%\n"
    }
   }
  },
  {
   "cell_type": "code",
   "execution_count": 12,
   "outputs": [
    {
     "data": {
      "text/plain": "20499"
     },
     "execution_count": 12,
     "metadata": {},
     "output_type": "execute_result"
    }
   ],
   "source": [
    "len(df)"
   ],
   "metadata": {
    "collapsed": false,
    "pycharm": {
     "name": "#%%\n"
    }
   }
  },
  {
   "cell_type": "code",
   "execution_count": 13,
   "metadata": {
    "pycharm": {
     "name": "#%%\n"
    }
   },
   "outputs": [
    {
     "data": {
      "text/plain": "<Figure size 432x288 with 1 Axes>",
      "image/png": "[encoded data removed]"
     },
     "metadata": {
      "needs_background": "light"
     },
     "output_type": "display_data"
    }
   ],
   "source": [
    "fig, ax = plt.subplots()\n",
    "ax = sns.histplot(x ='raccomandazioni-ricevute', data = df)\n",
    "ax.set_xlabel('Recommendations')\n",
    "ax.set_ylabel('Books')\n",
    "ax.set_title('Books by recommendations recieved')\n",
    "ax.set_yscale('log')\n",
    "plt.show()"
   ]
  },
  {
   "cell_type": "code",
   "execution_count": 14,
   "outputs": [
    {
     "data": {
      "text/plain": "1.0     15686\n2.0      2683\n3.0       929\n4.0       408\n5.0       249\n6.0       139\n7.0        97\n8.0        70\n9.0        44\n10.0       34\n11.0       28\n12.0       24\n13.0       18\n15.0       16\n14.0       14\n16.0        9\n18.0        9\n17.0        7\n19.0        7\n23.0        5\n20.0        4\n26.0        3\n21.0        2\n24.0        2\n25.0        2\n29.0        2\n61.0        1\n32.0        1\n33.0        1\n35.0        1\n36.0        1\n37.0        1\n44.0        1\n64.0        1\nName: raccomandazioni-ricevute, dtype: int64"
     },
     "execution_count": 14,
     "metadata": {},
     "output_type": "execute_result"
    }
   ],
   "source": [
    "df['raccomandazioni-ricevute'].value_counts()"
   ],
   "metadata": {
    "collapsed": false,
    "pycharm": {
     "name": "#%%\n"
    }
   }
  },
  {
   "cell_type": "code",
   "execution_count": 15,
   "metadata": {
    "pycharm": {
     "name": "#%%\n"
    }
   },
   "outputs": [
    {
     "data": {
      "text/plain": "<Figure size 432x288 with 1 Axes>",
      "image/png": "[encoded data removed]"
     },
     "metadata": {
      "needs_background": "light"
     },
     "output_type": "display_data"
    }
   ],
   "source": [
    "fig, ax = plt.subplots()\n",
    "ax = sns.histplot([recommendations.count(bookdealer) for bookdealer in bookdealers], bins=20)\n",
    "ax.set_xlabel('Books recommended')\n",
    "ax.set_ylabel('Bookdealers')\n",
    "ax.set_yscale('log')\n",
    "ax.set_title('Bookdealers by books recommendend')\n",
    "plt.show()"
   ]
  },
  {
   "cell_type": "code",
   "execution_count": 16,
   "metadata": {
    "pycharm": {
     "name": "#%%\n"
    }
   },
   "outputs": [],
   "source": [
    "books = list(zip(df['id'],df['consigliato-da']))"
   ]
  },
  {
   "cell_type": "code",
   "execution_count": 17,
   "metadata": {
    "pycharm": {
     "name": "#%%\n"
    }
   },
   "outputs": [],
   "source": [
    "def compute_b2m_weight(blue_node1, blue_node2, use_newman_method=None):\n",
    "    \"\"\"\n",
    "    Compute weight between 2 nodes from a binary two-mode network\n",
    "    (refer to https://toreopsahl.com/tnet/two-mode-networks/projection/).\n",
    "    When using Newsman's method, a dictionary is needed containing\n",
    "    \"number of blue nodes connected to the red node\".\n",
    "\n",
    "    :param blue_node1: list of red nodes linked to node1\n",
    "    :param blue_node2: list of red nodes linked to node2\n",
    "    :param use_newman_method: dictionary in the form of blue_node[number_of_links]\n",
    "    :type blue_node1: list\n",
    "    :type blue_node2: list\n",
    "    :type use_newman_method: dict\n",
    "\n",
    "    :return: weight of the connection\n",
    "    \"\"\"\n",
    "\n",
    "    intersection = [red_node for red_node in blue_node1 if red_node in blue_node2]\n",
    "    if use_newman_method:\n",
    "        n = use_newman_method\n",
    "        w = sum(1/(n[red_node]-1) for red_node in intersection\n",
    "                if n[red_node] and n[red_node]-1)\n",
    "    else:\n",
    "        w = sum(1 for red_node in intersection)\n",
    "    return w"
   ]
  },
  {
   "cell_type": "code",
   "execution_count": 18,
   "metadata": {
    "pycharm": {
     "name": "#%%\n"
    }
   },
   "outputs": [],
   "source": [
    "blue_node1_test = books[0][1]\n",
    "blue_node2_test = books[1][1]"
   ]
  },
  {
   "cell_type": "code",
   "execution_count": 19,
   "metadata": {
    "pycharm": {
     "name": "#%%\n"
    }
   },
   "outputs": [
    {
     "name": "stdout",
     "output_type": "stream",
     "text": [
      "7\n",
      "0.045503931432693406\n"
     ]
    }
   ],
   "source": [
    "print(compute_b2m_weight(blue_node1_test, blue_node2_test))\n",
    "print(compute_b2m_weight(blue_node1_test, blue_node2_test, recommendations_by_bookdealer))"
   ]
  },
  {
   "cell_type": "code",
   "execution_count": 20,
   "metadata": {
    "pycharm": {
     "name": "#%%\n"
    }
   },
   "outputs": [],
   "source": [
    "edges = list()\n",
    "edges_newman = list()\n",
    "for count, book_i in enumerate(books[:-1]):\n",
    "    for book_j in books[count+1:]:\n",
    "        weight = compute_b2m_weight(book_i[1], book_j[1])\n",
    "        if weight:\n",
    "            edges.append((book_i[0], book_j[0], weight))\n",
    "        weight_newman = compute_b2m_weight(book_i[1], book_j[1],\n",
    "            use_newman_method=recommendations_by_bookdealer)\n",
    "        if weight_newman:\n",
    "            edges_newman.append((book_i[0], book_j[0], weight_newman))"
   ]
  },
  {
   "cell_type": "code",
   "execution_count": 21,
   "metadata": {
    "pycharm": {
     "name": "#%%\n"
    }
   },
   "outputs": [
    {
     "data": {
      "text/plain": "[(0, 1, 7),\n (0, 2, 16),\n (0, 3, 12),\n (0, 4, 9),\n (0, 5, 11),\n (0, 6, 6),\n (0, 7, 7),\n (0, 8, 14),\n (0, 9, 1),\n (0, 10, 9)]"
     },
     "execution_count": 21,
     "metadata": {},
     "output_type": "execute_result"
    }
   ],
   "source": [
    "edges[:10]"
   ]
  },
  {
   "cell_type": "code",
   "execution_count": 22,
   "metadata": {
    "pycharm": {
     "name": "#%%\n"
    }
   },
   "outputs": [
    {
     "data": {
      "text/plain": "[(0, 1, 0.045503931432693406),\n (0, 2, 0.2940705690465103),\n (0, 3, 0.13992573728055546),\n (0, 4, 0.18052622830282716),\n (0, 5, 0.118968837562643),\n (0, 6, 0.07778880374954583),\n (0, 7, 0.049434951905991474),\n (0, 8, 0.16732270897504892),\n (0, 9, 0.0017271157167530224),\n (0, 10, 0.16593123257506606)]"
     },
     "execution_count": 22,
     "metadata": {},
     "output_type": "execute_result"
    }
   ],
   "source": [
    "edges_newman[:10]"
   ]
  },
  {
   "cell_type": "code",
   "execution_count": 23,
   "metadata": {
    "pycharm": {
     "name": "#%%\n"
    }
   },
   "outputs": [
    {
     "data": {
      "text/plain": "8370175"
     },
     "execution_count": 23,
     "metadata": {},
     "output_type": "execute_result"
    }
   ],
   "source": [
    "len(edges)"
   ]
  },
  {
   "cell_type": "code",
   "execution_count": 24,
   "metadata": {
    "pycharm": {
     "name": "#%%\n"
    }
   },
   "outputs": [
    {
     "data": {
      "text/plain": "8370175"
     },
     "execution_count": 24,
     "metadata": {},
     "output_type": "execute_result"
    }
   ],
   "source": [
    "len(edges_newman)"
   ]
  },
  {
   "cell_type": "code",
   "execution_count": 25,
   "metadata": {
    "pycharm": {
     "name": "#%%\n"
    }
   },
   "outputs": [
    {
     "name": "stdout",
     "output_type": "stream",
     "text": [
      "threshold: 0\n",
      "edges: 8370175\n",
      "nodes: 20499\n",
      "possible eddges 210094251.0\n",
      "density 0.0398400953865225\n",
      "\n",
      "threshold: 1\n",
      "edges: 90233\n",
      "nodes: 4328\n",
      "possible eddges 9363628.0\n",
      "density 0.009636542587979788\n",
      "\n",
      "threshold: 2\n",
      "edges: 11702\n",
      "nodes: 1407\n",
      "possible eddges 989121.0\n",
      "density 0.011830706253329977\n",
      "\n",
      "threshold: 3\n",
      "edges: 3491\n",
      "nodes: 616\n",
      "possible eddges 189420.0\n",
      "density 0.018429944039700136\n",
      "\n",
      "threshold: 4\n",
      "edges: 1450\n",
      "nodes: 344\n",
      "possible eddges 58996.0\n",
      "density 0.024577937487287274\n",
      "\n",
      "threshold: 5\n",
      "edges: 675\n",
      "nodes: 207\n",
      "possible eddges 21321.0\n",
      "density 0.031658927817644573\n",
      "\n",
      "threshold: 6\n",
      "edges: 359\n",
      "nodes: 137\n",
      "possible eddges 9316.0\n",
      "density 0.03853585229712323\n",
      "\n",
      "threshold: 7\n",
      "edges: 193\n",
      "nodes: 92\n",
      "possible eddges 4186.0\n",
      "density 0.04610606784519828\n",
      "\n",
      "threshold: 8\n",
      "edges: 109\n",
      "nodes: 64\n",
      "possible eddges 2016.0\n",
      "density 0.05406746031746032\n",
      "\n",
      "threshold: 9\n",
      "edges: 64\n",
      "nodes: 45\n",
      "possible eddges 990.0\n",
      "density 0.06464646464646465\n",
      "\n"
     ]
    }
   ],
   "source": [
    "thresholds = list()\n",
    "edges_w_threshold = list()\n",
    "nodes_w_threshold = list()\n",
    "density_w_threshold = list()\n",
    "\n",
    "\n",
    "for i in range(0, 10):\n",
    "    print(f'threshold: {i}')\n",
    "    thresholds.append(i)\n",
    "    # Compute number of edges\n",
    "    l = sum(1 for edge in edges if edge[2] > i)\n",
    "    print(f'edges: {l}')\n",
    "    edges_w_threshold.append(l)\n",
    "    # Compute number of nodes\n",
    "    node_ids1 = [edge[0] for edge in edges if edge[2] > i]\n",
    "    node_ids2 = [edge[1] for edge in edges if edge[2] > i]\n",
    "    node_ids = list(set(node_ids1 + node_ids2))\n",
    "    n = len(node_ids)\n",
    "    nodes_w_threshold.append(n)\n",
    "    print(f'nodes: {n}')\n",
    "    # Compute number of possible edges\n",
    "    l_max = (n * (n-1))/2\n",
    "    print(f'possible eddges {l_max}')\n",
    "    # Compute density\n",
    "    d = l/l_max\n",
    "    print(f'density {d}')\n",
    "    print()\n",
    "    density_w_threshold.append(d)"
   ]
  },
  {
   "cell_type": "code",
   "execution_count": 26,
   "metadata": {
    "pycharm": {
     "name": "#%%\n"
    }
   },
   "outputs": [
    {
     "data": {
      "text/plain": "<Figure size 1080x360 with 3 Axes>",
      "image/png": "[encoded data removed]"
     },
     "metadata": {
      "needs_background": "light"
     },
     "output_type": "display_data"
    }
   ],
   "source": [
    "fig, axes = plt.subplots(1,3, figsize=(15, 5))\n",
    "\n",
    "sns.lineplot(ax=axes[0], x=thresholds, y=edges_w_threshold)\n",
    "axes[0].set_xlabel('k')\n",
    "axes[0].set_ylabel('Links')\n",
    "axes[0].set_yscale('log')\n",
    "axes[0].xaxis.set_major_locator(MaxNLocator(integer=True))\n",
    "\n",
    "sns.lineplot(ax=axes[1], x=thresholds, y=nodes_w_threshold)\n",
    "axes[1].set_xlabel('k')\n",
    "axes[1].set_ylabel('Nodes')\n",
    "axes[1].set_yscale('log')\n",
    "axes[1].xaxis.set_major_locator(MaxNLocator(integer=True))\n",
    "\n",
    "sns.lineplot(ax=axes[2], x=thresholds, y=density_w_threshold)\n",
    "axes[2].set_xlabel('k')\n",
    "axes[2].set_ylabel('Density')\n",
    "axes[2].xaxis.set_major_locator(MaxNLocator(integer=True))\n",
    "\n",
    "plt.suptitle(\"Network variation as threshold k increases\")\n",
    "plt.show()"
   ]
  },
  {
   "cell_type": "code",
   "execution_count": 27,
   "metadata": {
    "pycharm": {
     "name": "#%%\n"
    }
   },
   "outputs": [
    {
     "name": "stdout",
     "output_type": "stream",
     "text": [
      "{'threshold': 0.002793296089385475, 'l': 989662, 'n': 11775, 'l_max': 69319425.0, 'd': 0.014276835100695079}\n"
     ]
    }
   ],
   "source": [
    "edges = edges_newman\n",
    "\n",
    "thresholds = list()\n",
    "edges_w_threshold = list()\n",
    "nodes_w_threshold = list()\n",
    "density_w_threshold = list()\n",
    "\n",
    "\n",
    "for i in sorted(list(set([edge[2] for edge in edges]))):\n",
    "    thresholds.append(i)\n",
    "    # Compute number of edges\n",
    "    l = sum(1 for edge in edges if edge[2] > i)\n",
    "    edges_w_threshold.append(l)\n",
    "    # Compute number of nodes\n",
    "    node_ids1 = [edge[0] for edge in edges if edge[2] > i]\n",
    "    node_ids2 = [edge[1] for edge in edges if edge[2] > i]\n",
    "    node_ids = list(set(node_ids1 + node_ids2))\n",
    "    n = len(node_ids)\n",
    "    nodes_w_threshold.append(n)\n",
    "    # Compute number of possible edges\n",
    "    l_max = (n * (n-1))/2\n",
    "    # Compute density\n",
    "    d = l/l_max\n",
    "    density_w_threshold.append(d)\n",
    "\n",
    "    if l < 1000000:\n",
    "        configuration = {'threshold':i, 'l': l, 'n': n,\n",
    "                         'l_max': l_max, 'd': d}\n",
    "        print(configuration)\n",
    "        break"
   ]
  },
  {
   "cell_type": "code",
   "execution_count": 28,
   "outputs": [
    {
     "data": {
      "text/plain": "<Figure size 1440x360 with 3 Axes>",
      "image/png": "[encoded data removed]"
     },
     "metadata": {
      "needs_background": "light"
     },
     "output_type": "display_data"
    }
   ],
   "source": [
    "fig, axes = plt.subplots(1,3, figsize=(20, 5))\n",
    "\n",
    "sns.lineplot(ax=axes[0], x=thresholds, y=edges_w_threshold)\n",
    "axes[0].set_xlabel('k')\n",
    "axes[0].set_ylabel('Links')\n",
    "axes[0].set_yscale('log')\n",
    "#axes[0].xaxis.set_major_locator(MaxNLocator(integer=True))\n",
    "\n",
    "sns.lineplot(ax=axes[1], x=thresholds, y=nodes_w_threshold)\n",
    "axes[1].set_xlabel('k')\n",
    "axes[1].set_ylabel('Nodes')\n",
    "axes[1].set_yscale('log')\n",
    "#axes[1].xaxis.set_major_locator(MaxNLocator(integer=True))\n",
    "\n",
    "sns.lineplot(ax=axes[2], x=thresholds, y=density_w_threshold)\n",
    "axes[2].set_xlabel('k')\n",
    "axes[2].set_ylabel('Density')\n",
    "#axes[2].xaxis.set_major_locator(MaxNLocator(integer=True))\n",
    "\n",
    "plt.suptitle(\"Network variation as threshold k increases\")\n",
    "plt.show()"
   ],
   "metadata": {
    "collapsed": false,
    "pycharm": {
     "name": "#%%\n"
    }
   }
  },
  {
   "cell_type": "code",
   "execution_count": 29,
   "outputs": [],
   "source": [
    "# Prune\n",
    "pruned_edges = [edge for edge in edges if edge[2]>configuration['threshold']]"
   ],
   "metadata": {
    "collapsed": false,
    "pycharm": {
     "name": "#%%\n"
    }
   }
  },
  {
   "cell_type": "code",
   "execution_count": 30,
   "outputs": [
    {
     "data": {
      "text/plain": "[(0, 1, 0.045503931432693406),\n (0, 2, 0.2940705690465103),\n (0, 3, 0.13992573728055546),\n (0, 4, 0.18052622830282716),\n (0, 5, 0.118968837562643),\n (0, 6, 0.07778880374954583),\n (0, 7, 0.049434951905991474),\n (0, 8, 0.16732270897504892),\n (0, 10, 0.16593123257506606),\n (0, 11, 0.02633273703041145)]"
     },
     "execution_count": 30,
     "metadata": {},
     "output_type": "execute_result"
    }
   ],
   "source": [
    "pruned_edges[:10]"
   ],
   "metadata": {
    "collapsed": false,
    "pycharm": {
     "name": "#%%\n"
    }
   }
  },
  {
   "cell_type": "code",
   "execution_count": 31,
   "outputs": [
    {
     "data": {
      "text/plain": "989662"
     },
     "execution_count": 31,
     "metadata": {},
     "output_type": "execute_result"
    }
   ],
   "source": [
    "len(pruned_edges)"
   ],
   "metadata": {
    "collapsed": false,
    "pycharm": {
     "name": "#%%\n"
    }
   }
  },
  {
   "cell_type": "code",
   "execution_count": 32,
   "outputs": [],
   "source": [
    "with open('data/bd-edge.csv', 'w') as f:\n",
    "    writer = csv.writer(f)\n",
    "    # Write header\n",
    "    writer.writerow(['Source','Target','Weight'])\n",
    "    # Write data\n",
    "    for edge in pruned_edges:\n",
    "        writer.writerow([edge[0], edge[1], edge[2]])"
   ],
   "metadata": {
    "collapsed": false,
    "pycharm": {
     "name": "#%%\n"
    }
   }
  },
  {
   "cell_type": "markdown",
   "metadata": {
    "pycharm": {
     "name": "#%% md\n"
    }
   },
   "source": [
    "# Node list"
   ]
  },
  {
   "cell_type": "code",
   "execution_count": 33,
   "outputs": [],
   "source": [
    "node_ids1 = [edge[0] for edge in pruned_edges]\n",
    "node_ids2 = [edge[1] for edge in pruned_edges]\n",
    "books2preserve = list(set(node_ids1 + node_ids2))"
   ],
   "metadata": {
    "collapsed": false,
    "pycharm": {
     "name": "#%%\n"
    }
   }
  },
  {
   "cell_type": "code",
   "execution_count": 34,
   "outputs": [
    {
     "data": {
      "text/plain": "11775"
     },
     "execution_count": 34,
     "metadata": {},
     "output_type": "execute_result"
    }
   ],
   "source": [
    "len(books2preserve)"
   ],
   "metadata": {
    "collapsed": false,
    "pycharm": {
     "name": "#%%\n"
    }
   }
  },
  {
   "cell_type": "code",
   "execution_count": 35,
   "outputs": [
    {
     "data": {
      "text/plain": "[0,\n 1,\n 2,\n 3,\n 4,\n 5,\n 6,\n 7,\n 8,\n 9,\n 10,\n 11,\n 12,\n 13,\n 14,\n 15,\n 16,\n 17,\n 18,\n 19,\n 20,\n 21,\n 22,\n 23,\n 24,\n 25,\n 26,\n 27,\n 28,\n 29,\n 30,\n 31,\n 32,\n 33,\n 34,\n 35,\n 36,\n 37,\n 38,\n 39,\n 40,\n 41,\n 42,\n 43,\n 44,\n 45,\n 46,\n 47,\n 48,\n 49,\n 50,\n 51,\n 52,\n 53,\n 54,\n 55,\n 56,\n 57,\n 58,\n 59,\n 60,\n 61,\n 62,\n 63,\n 64,\n 65,\n 66,\n 67,\n 68,\n 69,\n 70,\n 71,\n 72,\n 73,\n 74,\n 75,\n 76,\n 77,\n 78,\n 79,\n 80,\n 81,\n 82,\n 83,\n 84,\n 85,\n 86,\n 87,\n 88,\n 89,\n 90,\n 91,\n 92,\n 93,\n 94,\n 95,\n 96,\n 97,\n 98,\n 99,\n 100,\n 101,\n 102,\n 103,\n 104,\n 105,\n 106,\n 107,\n 108,\n 109,\n 110,\n 111,\n 112,\n 113,\n 114,\n 115,\n 116,\n 117,\n 118,\n 119,\n 120,\n 121,\n 122,\n 123,\n 124,\n 125,\n 126,\n 127,\n 128,\n 129,\n 130,\n 131,\n 132,\n 133,\n 134,\n 135,\n 136,\n 137,\n 138,\n 139,\n 140,\n 141,\n 142,\n 143,\n 144,\n 145,\n 146,\n 147,\n 148,\n 149,\n 150,\n 151,\n 152,\n 153,\n 154,\n 155,\n 156,\n 157,\n 158,\n 159,\n 160,\n 161,\n 162,\n 163,\n 164,\n 165,\n 166,\n 167,\n 168,\n 169,\n 170,\n 171,\n 172,\n 173,\n 174,\n 175,\n 176,\n 177,\n 178,\n 179,\n 180,\n 181,\n 182,\n 183,\n 184,\n 185,\n 186,\n 187,\n 188,\n 189,\n 190,\n 191,\n 192,\n 193,\n 194,\n 195,\n 196,\n 197,\n 198,\n 199,\n 200,\n 201,\n 202,\n 203,\n 204,\n 205,\n 206,\n 207,\n 208,\n 209,\n 210,\n 211,\n 212,\n 213,\n 214,\n 215,\n 216,\n 217,\n 218,\n 219,\n 220,\n 221,\n 222,\n 223,\n 224,\n 225,\n 226,\n 227,\n 228,\n 229,\n 230,\n 231,\n 232,\n 233,\n 234,\n 235,\n 236,\n 237,\n 238,\n 239,\n 240,\n 241,\n 242,\n 243,\n 244,\n 245,\n 246,\n 247,\n 248,\n 249,\n 250,\n 251,\n 252,\n 253,\n 254,\n 255,\n 256,\n 257,\n 258,\n 259,\n 260,\n 261,\n 262,\n 263,\n 264,\n 265,\n 266,\n 267,\n 268,\n 269,\n 270,\n 271,\n 272,\n 273,\n 274,\n 275,\n 276,\n 277,\n 278,\n 279,\n 280,\n 281,\n 282,\n 283,\n 284,\n 285,\n 286,\n 287,\n 288,\n 289,\n 290,\n 291,\n 292,\n 293,\n 294,\n 295,\n 296,\n 297,\n 298,\n 299,\n 300,\n 301,\n 302,\n 303,\n 304,\n 305,\n 306,\n 307,\n 308,\n 309,\n 310,\n 311,\n 312,\n 313,\n 314,\n 315,\n 316,\n 317,\n 318,\n 319,\n 320,\n 321,\n 322,\n 323,\n 324,\n 325,\n 326,\n 327,\n 328,\n 329,\n 330,\n 331,\n 332,\n 333,\n 334,\n 335,\n 336,\n 337,\n 338,\n 339,\n 340,\n 341,\n 342,\n 343,\n 344,\n 345,\n 346,\n 347,\n 348,\n 349,\n 350,\n 351,\n 352,\n 353,\n 354,\n 355,\n 356,\n 357,\n 358,\n 359,\n 360,\n 361,\n 362,\n 363,\n 364,\n 365,\n 366,\n 367,\n 368,\n 369,\n 370,\n 371,\n 372,\n 373,\n 374,\n 375,\n 376,\n 377,\n 378,\n 379,\n 380,\n 381,\n 382,\n 383,\n 384,\n 385,\n 386,\n 387,\n 388,\n 389,\n 390,\n 391,\n 392,\n 393,\n 394,\n 395,\n 396,\n 397,\n 398,\n 399,\n 400,\n 401,\n 402,\n 403,\n 404,\n 405,\n 406,\n 407,\n 408,\n 409,\n 410,\n 411,\n 412,\n 413,\n 414,\n 415,\n 416,\n 417,\n 418,\n 419,\n 420,\n 421,\n 422,\n 423,\n 424,\n 425,\n 426,\n 427,\n 428,\n 429,\n 430,\n 431,\n 432,\n 433,\n 434,\n 435,\n 436,\n 437,\n 438,\n 439,\n 440,\n 441,\n 442,\n 443,\n 444,\n 445,\n 446,\n 447,\n 448,\n 449,\n 450,\n 451,\n 452,\n 453,\n 454,\n 455,\n 456,\n 457,\n 458,\n 459,\n 460,\n 461,\n 462,\n 463,\n 464,\n 465,\n 466,\n 467,\n 468,\n 469,\n 470,\n 471,\n 472,\n 473,\n 474,\n 475,\n 476,\n 477,\n 478,\n 479,\n 480,\n 481,\n 482,\n 483,\n 484,\n 485,\n 486,\n 487,\n 488,\n 489,\n 490,\n 491,\n 492,\n 493,\n 494,\n 495,\n 496,\n 497,\n 498,\n 499,\n 500,\n 501,\n 502,\n 503,\n 504,\n 505,\n 506,\n 507,\n 508,\n 509,\n 510,\n 511,\n 512,\n 513,\n 514,\n 515,\n 516,\n 517,\n 518,\n 519,\n 520,\n 521,\n 522,\n 523,\n 524,\n 525,\n 526,\n 527,\n 528,\n 529,\n 530,\n 531,\n 532,\n 533,\n 534,\n 535,\n 536,\n 537,\n 538,\n 539,\n 540,\n 541,\n 542,\n 543,\n 544,\n 545,\n 546,\n 547,\n 548,\n 549,\n 550,\n 551,\n 552,\n 553,\n 554,\n 555,\n 556,\n 557,\n 558,\n 559,\n 560,\n 561,\n 562,\n 563,\n 564,\n 565,\n 566,\n 567,\n 568,\n 569,\n 570,\n 571,\n 572,\n 573,\n 574,\n 575,\n 576,\n 577,\n 578,\n 579,\n 580,\n 581,\n 582,\n 583,\n 584,\n 585,\n 586,\n 587,\n 588,\n 589,\n 590,\n 591,\n 592,\n 593,\n 594,\n 595,\n 596,\n 597,\n 598,\n 599,\n 600,\n 601,\n 602,\n 603,\n 604,\n 605,\n 606,\n 607,\n 608,\n 609,\n 610,\n 611,\n 612,\n 613,\n 614,\n 615,\n 616,\n 617,\n 618,\n 619,\n 620,\n 621,\n 622,\n 623,\n 624,\n 625,\n 626,\n 627,\n 628,\n 629,\n 630,\n 631,\n 632,\n 633,\n 634,\n 635,\n 636,\n 637,\n 638,\n 639,\n 640,\n 641,\n 642,\n 643,\n 644,\n 645,\n 646,\n 647,\n 648,\n 649,\n 650,\n 651,\n 652,\n 653,\n 654,\n 655,\n 656,\n 657,\n 658,\n 659,\n 660,\n 661,\n 662,\n 663,\n 664,\n 665,\n 666,\n 667,\n 668,\n 669,\n 670,\n 671,\n 672,\n 673,\n 674,\n 675,\n 676,\n 677,\n 678,\n 679,\n 680,\n 681,\n 682,\n 683,\n 684,\n 685,\n 686,\n 687,\n 688,\n 689,\n 690,\n 691,\n 692,\n 693,\n 694,\n 695,\n 696,\n 697,\n 698,\n 699,\n 700,\n 701,\n 702,\n 703,\n 704,\n 705,\n 706,\n 707,\n 708,\n 709,\n 710,\n 711,\n 712,\n 713,\n 714,\n 715,\n 716,\n 717,\n 718,\n 719,\n 720,\n 721,\n 722,\n 723,\n 724,\n 725,\n 726,\n 727,\n 728,\n 729,\n 730,\n 731,\n 732,\n 733,\n 734,\n 735,\n 736,\n 737,\n 738,\n 739,\n 740,\n 741,\n 742,\n 743,\n 744,\n 745,\n 746,\n 747,\n 748,\n 749,\n 750,\n 751,\n 752,\n 753,\n 754,\n 755,\n 756,\n 757,\n 758,\n 759,\n 760,\n 761,\n 762,\n 763,\n 764,\n 765,\n 766,\n 767,\n 768,\n 769,\n 770,\n 771,\n 772,\n 773,\n 774,\n 775,\n 776,\n 777,\n 778,\n 779,\n 780,\n 781,\n 782,\n 783,\n 784,\n 785,\n 786,\n 787,\n 788,\n 789,\n 790,\n 791,\n 792,\n 793,\n 794,\n 795,\n 796,\n 797,\n 798,\n 799,\n 800,\n 801,\n 802,\n 803,\n 804,\n 805,\n 806,\n 807,\n 808,\n 809,\n 810,\n 811,\n 812,\n 814,\n 815,\n 816,\n 817,\n 818,\n 819,\n 820,\n 821,\n 822,\n 823,\n 824,\n 825,\n 826,\n 827,\n 828,\n 829,\n 830,\n 831,\n 832,\n 833,\n 834,\n 835,\n 836,\n 837,\n 838,\n 839,\n 840,\n 841,\n 842,\n 843,\n 844,\n 845,\n 846,\n 847,\n 848,\n 849,\n 850,\n 851,\n 852,\n 853,\n 854,\n 855,\n 856,\n 857,\n 858,\n 859,\n 860,\n 861,\n 862,\n 863,\n 864,\n 865,\n 866,\n 867,\n 868,\n 869,\n 870,\n 871,\n 872,\n 873,\n 874,\n 875,\n 876,\n 877,\n 878,\n 879,\n 880,\n 881,\n 882,\n 883,\n 884,\n 885,\n 886,\n 887,\n 888,\n 889,\n 890,\n 891,\n 892,\n 893,\n 894,\n 895,\n 896,\n 897,\n 898,\n 899,\n 900,\n 901,\n 902,\n 903,\n 904,\n 905,\n 906,\n 907,\n 908,\n 909,\n 910,\n 911,\n 912,\n 913,\n 914,\n 915,\n 916,\n 917,\n 918,\n 919,\n 920,\n 921,\n 922,\n 923,\n 924,\n 925,\n 926,\n 927,\n 928,\n 929,\n 930,\n 931,\n 932,\n 933,\n 934,\n 935,\n 936,\n 937,\n 938,\n 939,\n 940,\n 941,\n 942,\n 943,\n 944,\n 945,\n 946,\n 947,\n 948,\n 949,\n 950,\n 951,\n 952,\n 953,\n 954,\n 955,\n 956,\n 957,\n 958,\n 959,\n 960,\n 961,\n 962,\n 963,\n 964,\n 965,\n 966,\n 967,\n 968,\n 969,\n 970,\n 971,\n 972,\n 973,\n 974,\n 975,\n 976,\n 977,\n 978,\n 979,\n 980,\n 981,\n 982,\n 983,\n 984,\n 985,\n 986,\n 987,\n 988,\n 989,\n 990,\n 991,\n 992,\n 993,\n 994,\n 995,\n 996,\n 997,\n 998,\n 999,\n 1000,\n ...]"
     },
     "execution_count": 35,
     "metadata": {},
     "output_type": "execute_result"
    }
   ],
   "source": [
    "books2preserve"
   ],
   "metadata": {
    "collapsed": false,
    "pycharm": {
     "name": "#%%\n"
    }
   }
  },
  {
   "cell_type": "code",
   "execution_count": 36,
   "outputs": [],
   "source": [
    "books2remove = [book_id for book_id in df['id'] if book_id not in books2preserve]"
   ],
   "metadata": {
    "collapsed": false,
    "pycharm": {
     "name": "#%%\n"
    }
   }
  },
  {
   "cell_type": "code",
   "execution_count": 37,
   "outputs": [
    {
     "data": {
      "text/plain": "[813, 1357, 1364, 1561, 1608, 1956, 2155, 2165, 2166, 2169]"
     },
     "execution_count": 37,
     "metadata": {},
     "output_type": "execute_result"
    }
   ],
   "source": [
    "books2remove[:10]"
   ],
   "metadata": {
    "collapsed": false,
    "pycharm": {
     "name": "#%%\n"
    }
   }
  },
  {
   "cell_type": "code",
   "execution_count": 38,
   "outputs": [],
   "source": [
    "df.index = df.id"
   ],
   "metadata": {
    "collapsed": false,
    "pycharm": {
     "name": "#%%\n"
    }
   }
  },
  {
   "cell_type": "code",
   "execution_count": 39,
   "outputs": [],
   "source": [
    "df = df.loc[df[\"id\"].apply(lambda x: x in books2preserve)]"
   ],
   "metadata": {
    "collapsed": false,
    "pycharm": {
     "name": "#%%\n"
    }
   }
  },
  {
   "cell_type": "code",
   "execution_count": 40,
   "outputs": [
    {
     "data": {
      "text/plain": "                                                  titolo  \\\nid                                                         \n0                              Cambiare l'acqua ai fiori   \n1                                  Ragazza, donna, altro   \n2                                              L'Ickabog   \n3                                                  Dante   \n4                                              Borgo Sud   \n...                                                  ...   \n20494                       La notte delle ricostruzioni   \n20495                                  L'ultimo raccolto   \n20496                                      X. Una caccia   \n20497                          Quel che resta delle case   \n20498  Fantiana: Scritti su John Fante selezionati da...   \n\n                          autore     editore           isbn  \\\nid                                                            \n0                 Perrin Valérie         E/O  9788833570990   \n1            Evaristo Bernardine         Sur  9788869982279   \n2                  Rowling J. K.      Salani  9788831006705   \n3             Barbero Alessandro     Laterza  9788858141649   \n4      Di Pietrantonio Donatella     Einaudi  9788806244781   \n...                          ...         ...            ...   \n20494             Donaera Andrea       Tetra  9791280917003   \n20495                Zardi Paolo       Tetra  9791280917010   \n20496             Aiolli Valerio       Tetra  9791280917027   \n20497            Canepa Emanuela       Tetra  9791280917034   \n20498         Margaretto Eduardo  Bookdealer  9798573258515   \n\n                           categoria numero-pagine data-di-uscita  \\\nid                                                                  \n0       Letterature straniere: testi           476     10/07/2019   \n1       Letterature straniere: testi           520     11/11/2020   \n2            Letteratura per ragazzi           320     10/11/2020   \n3      Letteratura italiana: critica           361     08/10/2020   \n4        Letteratura italiana: testi           168     03/11/2020   \n...                              ...           ...            ...   \n20494    Letteratura italiana: testi            84     04/05/2022   \n20495    Letteratura italiana: testi            92     04/05/2022   \n20496    Letteratura italiana: testi            84     04/05/2022   \n20497    Letteratura italiana: testi            72     04/05/2022   \n20498    Letteratura italiana: testi           240     11/12/2020   \n\n       raccomandazioni-ricevute  \\\nid                                \n0                          64.0   \n1                          61.0   \n2                          44.0   \n3                          37.0   \n4                          36.0   \n...                         ...   \n20494                       1.0   \n20495                       1.0   \n20496                       1.0   \n20497                       1.0   \n20498                       1.0   \n\n                                          consigliato-da     id  \nid                                                               \n0      [81/libreria-tasso, 60/a-tutto-libro, 55/libri...      0  \n1      [39/la-confraternita-delluva-libreria-indipend...      1  \n2      [168/magia-del-fumetto, 486/lotta-libreria, 30...      2  \n3      [51/il-ponte-sulla-dora, 116/lettera22, 433/li...      3  \n4      [285/libreria-fogola-pisa, 512/libreria-di-don...      4  \n...                                                  ...    ...  \n20494                            [41/libreria-zabarella]  20494  \n20495                            [41/libreria-zabarella]  20495  \n20496                            [41/libreria-zabarella]  20496  \n20497                            [41/libreria-zabarella]  20497  \n20498  [39/la-confraternita-delluva-libreria-indipend...  20498  \n\n[11775 rows x 10 columns]",
      "text/html": "<div>\n<style scoped>\n    .dataframe tbody tr th:only-of-type {\n        vertical-align: middle;\n    }\n\n    .dataframe tbody tr th {\n        vertical-align: top;\n    }\n\n    .dataframe thead th {\n        text-align: right;\n    }\n</style>\n<table border=\"1\" class=\"dataframe\">\n  <thead>\n    <tr style=\"text-align: right;\">\n      <th></th>\n      <th>titolo</th>\n      <th>autore</th>\n      <th>editore</th>\n      <th>isbn</th>\n      <th>categoria</th>\n      <th>numero-pagine</th>\n      <th>data-di-uscita</th>\n      <th>raccomandazioni-ricevute</th>\n      <th>consigliato-da</th>\n      <th>id</th>\n    </tr>\n    <tr>\n      <th>id</th>\n      <th></th>\n      <th></th>\n      <th></th>\n      <th></th>\n      <th></th>\n      <th></th>\n      <th></th>\n      <th></th>\n      <th></th>\n      <th></th>\n    </tr>\n  </thead>\n  <tbody>\n    <tr>\n      <th>0</th>\n      <td>Cambiare l'acqua ai fiori</td>\n      <td>Perrin Valérie</td>\n      <td>E/O</td>\n      <td>9788833570990</td>\n      <td>Letterature straniere: testi</td>\n      <td>476</td>\n      <td>10/07/2019</td>\n      <td>64.0</td>\n      <td>[81/libreria-tasso, 60/a-tutto-libro, 55/libri...</td>\n      <td>0</td>\n    </tr>\n    <tr>\n      <th>1</th>\n      <td>Ragazza, donna, altro</td>\n      <td>Evaristo Bernardine</td>\n      <td>Sur</td>\n      <td>9788869982279</td>\n      <td>Letterature straniere: testi</td>\n      <td>520</td>\n      <td>11/11/2020</td>\n      <td>61.0</td>\n      <td>[39/la-confraternita-delluva-libreria-indipend...</td>\n      <td>1</td>\n    </tr>\n    <tr>\n      <th>2</th>\n      <td>L'Ickabog</td>\n      <td>Rowling J. K.</td>\n      <td>Salani</td>\n      <td>9788831006705</td>\n      <td>Letteratura per ragazzi</td>\n      <td>320</td>\n      <td>10/11/2020</td>\n      <td>44.0</td>\n      <td>[168/magia-del-fumetto, 486/lotta-libreria, 30...</td>\n      <td>2</td>\n    </tr>\n    <tr>\n      <th>3</th>\n      <td>Dante</td>\n      <td>Barbero Alessandro</td>\n      <td>Laterza</td>\n      <td>9788858141649</td>\n      <td>Letteratura italiana: critica</td>\n      <td>361</td>\n      <td>08/10/2020</td>\n      <td>37.0</td>\n      <td>[51/il-ponte-sulla-dora, 116/lettera22, 433/li...</td>\n      <td>3</td>\n    </tr>\n    <tr>\n      <th>4</th>\n      <td>Borgo Sud</td>\n      <td>Di Pietrantonio Donatella</td>\n      <td>Einaudi</td>\n      <td>9788806244781</td>\n      <td>Letteratura italiana: testi</td>\n      <td>168</td>\n      <td>03/11/2020</td>\n      <td>36.0</td>\n      <td>[285/libreria-fogola-pisa, 512/libreria-di-don...</td>\n      <td>4</td>\n    </tr>\n    <tr>\n      <th>...</th>\n      <td>...</td>\n      <td>...</td>\n      <td>...</td>\n      <td>...</td>\n      <td>...</td>\n      <td>...</td>\n      <td>...</td>\n      <td>...</td>\n      <td>...</td>\n      <td>...</td>\n    </tr>\n    <tr>\n      <th>20494</th>\n      <td>La notte delle ricostruzioni</td>\n      <td>Donaera Andrea</td>\n      <td>Tetra</td>\n      <td>9791280917003</td>\n      <td>Letteratura italiana: testi</td>\n      <td>84</td>\n      <td>04/05/2022</td>\n      <td>1.0</td>\n      <td>[41/libreria-zabarella]</td>\n      <td>20494</td>\n    </tr>\n    <tr>\n      <th>20495</th>\n      <td>L'ultimo raccolto</td>\n      <td>Zardi Paolo</td>\n      <td>Tetra</td>\n      <td>9791280917010</td>\n      <td>Letteratura italiana: testi</td>\n      <td>92</td>\n      <td>04/05/2022</td>\n      <td>1.0</td>\n      <td>[41/libreria-zabarella]</td>\n      <td>20495</td>\n    </tr>\n    <tr>\n      <th>20496</th>\n      <td>X. Una caccia</td>\n      <td>Aiolli Valerio</td>\n      <td>Tetra</td>\n      <td>9791280917027</td>\n      <td>Letteratura italiana: testi</td>\n      <td>84</td>\n      <td>04/05/2022</td>\n      <td>1.0</td>\n      <td>[41/libreria-zabarella]</td>\n      <td>20496</td>\n    </tr>\n    <tr>\n      <th>20497</th>\n      <td>Quel che resta delle case</td>\n      <td>Canepa Emanuela</td>\n      <td>Tetra</td>\n      <td>9791280917034</td>\n      <td>Letteratura italiana: testi</td>\n      <td>72</td>\n      <td>04/05/2022</td>\n      <td>1.0</td>\n      <td>[41/libreria-zabarella]</td>\n      <td>20497</td>\n    </tr>\n    <tr>\n      <th>20498</th>\n      <td>Fantiana: Scritti su John Fante selezionati da...</td>\n      <td>Margaretto Eduardo</td>\n      <td>Bookdealer</td>\n      <td>9798573258515</td>\n      <td>Letteratura italiana: testi</td>\n      <td>240</td>\n      <td>11/12/2020</td>\n      <td>1.0</td>\n      <td>[39/la-confraternita-delluva-libreria-indipend...</td>\n      <td>20498</td>\n    </tr>\n  </tbody>\n</table>\n<p>11775 rows × 10 columns</p>\n</div>"
     },
     "execution_count": 40,
     "metadata": {},
     "output_type": "execute_result"
    }
   ],
   "source": [
    "df"
   ],
   "metadata": {
    "collapsed": false,
    "pycharm": {
     "name": "#%%\n"
    }
   }
  },
  {
   "cell_type": "code",
   "execution_count": 41,
   "metadata": {
    "pycharm": {
     "name": "#%%\n"
    }
   },
   "outputs": [],
   "source": [
    "df.drop(columns=['isbn','consigliato-da', 'numero-pagine'], inplace=True)"
   ]
  },
  {
   "cell_type": "code",
   "execution_count": 42,
   "metadata": {
    "pycharm": {
     "name": "#%%\n"
    }
   },
   "outputs": [
    {
     "name": "stdout",
     "output_type": "stream",
     "text": [
      "<class 'pandas.core.frame.DataFrame'>\n",
      "Int64Index: 11775 entries, 0 to 20498\n",
      "Data columns (total 7 columns):\n",
      " #   Column                    Non-Null Count  Dtype  \n",
      "---  ------                    --------------  -----  \n",
      " 0   titolo                    11775 non-null  object \n",
      " 1   autore                    11308 non-null  object \n",
      " 2   editore                   11775 non-null  object \n",
      " 3   categoria                 11760 non-null  object \n",
      " 4   data-di-uscita            11775 non-null  object \n",
      " 5   raccomandazioni-ricevute  11775 non-null  float64\n",
      " 6   id                        11775 non-null  int64  \n",
      "dtypes: float64(1), int64(1), object(5)\n",
      "memory usage: 735.9+ KB\n"
     ]
    }
   ],
   "source": [
    "df.info()"
   ]
  },
  {
   "cell_type": "code",
   "execution_count": 43,
   "metadata": {
    "pycharm": {
     "name": "#%%\n"
    }
   },
   "outputs": [
    {
     "data": {
      "text/plain": "titolo                        0\nautore                      467\neditore                       0\ncategoria                    15\ndata-di-uscita                0\nraccomandazioni-ricevute      0\nid                            0\ndtype: int64"
     },
     "execution_count": 43,
     "metadata": {},
     "output_type": "execute_result"
    }
   ],
   "source": [
    "df.isnull().sum()"
   ]
  },
  {
   "cell_type": "code",
   "execution_count": 44,
   "metadata": {
    "pycharm": {
     "name": "#%%\n"
    }
   },
   "outputs": [],
   "source": [
    "df['autore'].fillna(value='Sconosciuto', inplace=True)"
   ]
  },
  {
   "cell_type": "markdown",
   "source": [
    "### Publisher"
   ],
   "metadata": {
    "collapsed": false,
    "pycharm": {
     "name": "#%% md\n"
    }
   }
  },
  {
   "cell_type": "code",
   "execution_count": 45,
   "metadata": {
    "pycharm": {
     "name": "#%%\n"
    }
   },
   "outputs": [
    {
     "data": {
      "text/plain": "Einaudi                     554\nMondadori                   506\nAdelphi                     327\nFeltrinelli                 322\nRizzoli                     224\n                           ... \nPalermo University Press      1\nMedusa Edizioni               1\nPintore                       1\nSusil Edizioni                1\nL'Incisiva                    1\nName: editore, Length: 1010, dtype: int64"
     },
     "execution_count": 45,
     "metadata": {},
     "output_type": "execute_result"
    }
   ],
   "source": [
    "df['editore'].value_counts()"
   ]
  },
  {
   "cell_type": "code",
   "execution_count": 46,
   "outputs": [
    {
     "name": "stdout",
     "output_type": "stream",
     "text": [
      "<class 'pandas.core.frame.DataFrame'>\n",
      "Int64Index: 11775 entries, 0 to 20498\n",
      "Data columns (total 7 columns):\n",
      " #   Column                    Non-Null Count  Dtype  \n",
      "---  ------                    --------------  -----  \n",
      " 0   titolo                    11775 non-null  object \n",
      " 1   autore                    11775 non-null  object \n",
      " 2   editore                   11775 non-null  object \n",
      " 3   categoria                 11760 non-null  object \n",
      " 4   data-di-uscita            11775 non-null  object \n",
      " 5   raccomandazioni-ricevute  11775 non-null  float64\n",
      " 6   id                        11775 non-null  int64  \n",
      "dtypes: float64(1), int64(1), object(5)\n",
      "memory usage: 735.9+ KB\n"
     ]
    }
   ],
   "source": [
    "df.info()"
   ],
   "metadata": {
    "collapsed": false,
    "pycharm": {
     "name": "#%%\n"
    }
   }
  },
  {
   "cell_type": "markdown",
   "source": [
    "### Category"
   ],
   "metadata": {
    "collapsed": false,
    "pycharm": {
     "name": "#%% md\n"
    }
   }
  },
  {
   "cell_type": "code",
   "execution_count": 47,
   "metadata": {
    "pycharm": {
     "name": "#%%\n"
    }
   },
   "outputs": [
    {
     "data": {
      "text/plain": "Letteratura per ragazzi                3196\nLetterature straniere: testi           2760\nLetteratura italiana: testi            2129\nDisegno, arti decorative e minori       549\nScienze sociali                         380\n                                       ... \nLingua inglese e anglosassone             1\nLogica                                    1\nOrganizzazioni generali. museologia       1\nReligione                                 1\nLingue germaniche. tedesco                1\nName: categoria, Length: 80, dtype: int64"
     },
     "execution_count": 47,
     "metadata": {},
     "output_type": "execute_result"
    }
   ],
   "source": [
    "df['categoria'].value_counts()"
   ]
  },
  {
   "cell_type": "code",
   "execution_count": 48,
   "metadata": {
    "pycharm": {
     "name": "#%%\n"
    }
   },
   "outputs": [],
   "source": [
    "df['categoria'].fillna(value='Altro', inplace=True)"
   ]
  },
  {
   "cell_type": "code",
   "execution_count": 49,
   "outputs": [
    {
     "name": "stdout",
     "output_type": "stream",
     "text": [
      "<class 'pandas.core.frame.DataFrame'>\n",
      "Int64Index: 11775 entries, 0 to 20498\n",
      "Data columns (total 7 columns):\n",
      " #   Column                    Non-Null Count  Dtype  \n",
      "---  ------                    --------------  -----  \n",
      " 0   titolo                    11775 non-null  object \n",
      " 1   autore                    11775 non-null  object \n",
      " 2   editore                   11775 non-null  object \n",
      " 3   categoria                 11775 non-null  object \n",
      " 4   data-di-uscita            11775 non-null  object \n",
      " 5   raccomandazioni-ricevute  11775 non-null  float64\n",
      " 6   id                        11775 non-null  int64  \n",
      "dtypes: float64(1), int64(1), object(5)\n",
      "memory usage: 735.9+ KB\n"
     ]
    }
   ],
   "source": [
    "df.info()"
   ],
   "metadata": {
    "collapsed": false,
    "pycharm": {
     "name": "#%%\n"
    }
   }
  },
  {
   "cell_type": "markdown",
   "source": [
    "# Publication date"
   ],
   "metadata": {
    "collapsed": false,
    "pycharm": {
     "name": "#%% md\n"
    }
   }
  },
  {
   "cell_type": "code",
   "execution_count": 50,
   "outputs": [],
   "source": [
    "df['data-di-uscita'] = pd.to_datetime(df['data-di-uscita'], format='%d/%m/%Y')"
   ],
   "metadata": {
    "collapsed": false,
    "pycharm": {
     "name": "#%%\n"
    }
   }
  },
  {
   "cell_type": "code",
   "execution_count": 51,
   "outputs": [],
   "source": [
    "df['anno-pubblicazione'] = pd.DatetimeIndex(df['data-di-uscita']).year"
   ],
   "metadata": {
    "collapsed": false,
    "pycharm": {
     "name": "#%%\n"
    }
   }
  },
  {
   "cell_type": "code",
   "execution_count": 52,
   "outputs": [],
   "source": [
    "# Replace errors with mode\n",
    "mode = int(df['anno-pubblicazione'].mode())\n",
    "df.loc[df['anno-pubblicazione']>2022, 'anno-pubblicazione'] = mode"
   ],
   "metadata": {
    "collapsed": false,
    "pycharm": {
     "name": "#%%\n"
    }
   }
  },
  {
   "cell_type": "code",
   "execution_count": 53,
   "outputs": [
    {
     "data": {
      "text/plain": "<Figure size 432x288 with 1 Axes>",
      "image/png": "[encoded data removed]"
     },
     "metadata": {
      "needs_background": "light"
     },
     "output_type": "display_data"
    }
   ],
   "source": [
    "fig, ax = plt.subplots()\n",
    "ax = sns.histplot(x='anno-pubblicazione', data=df, bins=50)\n",
    "ax.set_xlabel('Year')\n",
    "ax.set_ylabel('Books')\n",
    "ax.set_yscale('log')\n",
    "ax.set_title('Books by year of publication')\n",
    "plt.show()"
   ],
   "metadata": {
    "collapsed": false,
    "pycharm": {
     "name": "#%%\n"
    }
   }
  },
  {
   "cell_type": "code",
   "execution_count": 54,
   "outputs": [],
   "source": [
    "df.drop(columns=['data-di-uscita'], inplace=True)"
   ],
   "metadata": {
    "collapsed": false,
    "pycharm": {
     "name": "#%%\n"
    }
   }
  },
  {
   "cell_type": "code",
   "execution_count": 55,
   "outputs": [
    {
     "name": "stdout",
     "output_type": "stream",
     "text": [
      "<class 'pandas.core.frame.DataFrame'>\n",
      "Int64Index: 11775 entries, 0 to 20498\n",
      "Data columns (total 7 columns):\n",
      " #   Column                    Non-Null Count  Dtype  \n",
      "---  ------                    --------------  -----  \n",
      " 0   titolo                    11775 non-null  object \n",
      " 1   autore                    11775 non-null  object \n",
      " 2   editore                   11775 non-null  object \n",
      " 3   categoria                 11775 non-null  object \n",
      " 4   raccomandazioni-ricevute  11775 non-null  float64\n",
      " 5   id                        11775 non-null  int64  \n",
      " 6   anno-pubblicazione        11775 non-null  int64  \n",
      "dtypes: float64(1), int64(2), object(4)\n",
      "memory usage: 994.0+ KB\n"
     ]
    }
   ],
   "source": [
    "df.info()"
   ],
   "metadata": {
    "collapsed": false,
    "pycharm": {
     "name": "#%%\n"
    }
   }
  },
  {
   "cell_type": "code",
   "execution_count": 56,
   "outputs": [
    {
     "data": {
      "text/plain": "                                                  titolo  \\\nid                                                         \n0                              Cambiare l'acqua ai fiori   \n1                                  Ragazza, donna, altro   \n2                                              L'Ickabog   \n3                                                  Dante   \n4                                              Borgo Sud   \n...                                                  ...   \n20494                       La notte delle ricostruzioni   \n20495                                  L'ultimo raccolto   \n20496                                      X. Una caccia   \n20497                          Quel che resta delle case   \n20498  Fantiana: Scritti su John Fante selezionati da...   \n\n                          autore     editore                      categoria  \\\nid                                                                            \n0                 Perrin Valérie         E/O   Letterature straniere: testi   \n1            Evaristo Bernardine         Sur   Letterature straniere: testi   \n2                  Rowling J. K.      Salani        Letteratura per ragazzi   \n3             Barbero Alessandro     Laterza  Letteratura italiana: critica   \n4      Di Pietrantonio Donatella     Einaudi    Letteratura italiana: testi   \n...                          ...         ...                            ...   \n20494             Donaera Andrea       Tetra    Letteratura italiana: testi   \n20495                Zardi Paolo       Tetra    Letteratura italiana: testi   \n20496             Aiolli Valerio       Tetra    Letteratura italiana: testi   \n20497            Canepa Emanuela       Tetra    Letteratura italiana: testi   \n20498         Margaretto Eduardo  Bookdealer    Letteratura italiana: testi   \n\n       raccomandazioni-ricevute     id  anno-pubblicazione  \nid                                                          \n0                          64.0      0                2019  \n1                          61.0      1                2020  \n2                          44.0      2                2020  \n3                          37.0      3                2020  \n4                          36.0      4                2020  \n...                         ...    ...                 ...  \n20494                       1.0  20494                2022  \n20495                       1.0  20495                2022  \n20496                       1.0  20496                2022  \n20497                       1.0  20497                2022  \n20498                       1.0  20498                2020  \n\n[11775 rows x 7 columns]",
      "text/html": "<div>\n<style scoped>\n    .dataframe tbody tr th:only-of-type {\n        vertical-align: middle;\n    }\n\n    .dataframe tbody tr th {\n        vertical-align: top;\n    }\n\n    .dataframe thead th {\n        text-align: right;\n    }\n</style>\n<table border=\"1\" class=\"dataframe\">\n  <thead>\n    <tr style=\"text-align: right;\">\n      <th></th>\n      <th>titolo</th>\n      <th>autore</th>\n      <th>editore</th>\n      <th>categoria</th>\n      <th>raccomandazioni-ricevute</th>\n      <th>id</th>\n      <th>anno-pubblicazione</th>\n    </tr>\n    <tr>\n      <th>id</th>\n      <th></th>\n      <th></th>\n      <th></th>\n      <th></th>\n      <th></th>\n      <th></th>\n      <th></th>\n    </tr>\n  </thead>\n  <tbody>\n    <tr>\n      <th>0</th>\n      <td>Cambiare l'acqua ai fiori</td>\n      <td>Perrin Valérie</td>\n      <td>E/O</td>\n      <td>Letterature straniere: testi</td>\n      <td>64.0</td>\n      <td>0</td>\n      <td>2019</td>\n    </tr>\n    <tr>\n      <th>1</th>\n      <td>Ragazza, donna, altro</td>\n      <td>Evaristo Bernardine</td>\n      <td>Sur</td>\n      <td>Letterature straniere: testi</td>\n      <td>61.0</td>\n      <td>1</td>\n      <td>2020</td>\n    </tr>\n    <tr>\n      <th>2</th>\n      <td>L'Ickabog</td>\n      <td>Rowling J. K.</td>\n      <td>Salani</td>\n      <td>Letteratura per ragazzi</td>\n      <td>44.0</td>\n      <td>2</td>\n      <td>2020</td>\n    </tr>\n    <tr>\n      <th>3</th>\n      <td>Dante</td>\n      <td>Barbero Alessandro</td>\n      <td>Laterza</td>\n      <td>Letteratura italiana: critica</td>\n      <td>37.0</td>\n      <td>3</td>\n      <td>2020</td>\n    </tr>\n    <tr>\n      <th>4</th>\n      <td>Borgo Sud</td>\n      <td>Di Pietrantonio Donatella</td>\n      <td>Einaudi</td>\n      <td>Letteratura italiana: testi</td>\n      <td>36.0</td>\n      <td>4</td>\n      <td>2020</td>\n    </tr>\n    <tr>\n      <th>...</th>\n      <td>...</td>\n      <td>...</td>\n      <td>...</td>\n      <td>...</td>\n      <td>...</td>\n      <td>...</td>\n      <td>...</td>\n    </tr>\n    <tr>\n      <th>20494</th>\n      <td>La notte delle ricostruzioni</td>\n      <td>Donaera Andrea</td>\n      <td>Tetra</td>\n      <td>Letteratura italiana: testi</td>\n      <td>1.0</td>\n      <td>20494</td>\n      <td>2022</td>\n    </tr>\n    <tr>\n      <th>20495</th>\n      <td>L'ultimo raccolto</td>\n      <td>Zardi Paolo</td>\n      <td>Tetra</td>\n      <td>Letteratura italiana: testi</td>\n      <td>1.0</td>\n      <td>20495</td>\n      <td>2022</td>\n    </tr>\n    <tr>\n      <th>20496</th>\n      <td>X. Una caccia</td>\n      <td>Aiolli Valerio</td>\n      <td>Tetra</td>\n      <td>Letteratura italiana: testi</td>\n      <td>1.0</td>\n      <td>20496</td>\n      <td>2022</td>\n    </tr>\n    <tr>\n      <th>20497</th>\n      <td>Quel che resta delle case</td>\n      <td>Canepa Emanuela</td>\n      <td>Tetra</td>\n      <td>Letteratura italiana: testi</td>\n      <td>1.0</td>\n      <td>20497</td>\n      <td>2022</td>\n    </tr>\n    <tr>\n      <th>20498</th>\n      <td>Fantiana: Scritti su John Fante selezionati da...</td>\n      <td>Margaretto Eduardo</td>\n      <td>Bookdealer</td>\n      <td>Letteratura italiana: testi</td>\n      <td>1.0</td>\n      <td>20498</td>\n      <td>2020</td>\n    </tr>\n  </tbody>\n</table>\n<p>11775 rows × 7 columns</p>\n</div>"
     },
     "execution_count": 56,
     "metadata": {},
     "output_type": "execute_result"
    }
   ],
   "source": [
    "df"
   ],
   "metadata": {
    "collapsed": false,
    "pycharm": {
     "name": "#%%\n"
    }
   }
  },
  {
   "cell_type": "code",
   "execution_count": 57,
   "outputs": [],
   "source": [
    "df.to_csv('data/bd-node.csv')"
   ],
   "metadata": {
    "collapsed": false,
    "pycharm": {
     "name": "#%%\n"
    }
   }
  },
  {
   "cell_type": "code",
   "execution_count": null,
   "outputs": [],
   "source": [],
   "metadata": {
    "collapsed": false,
    "pycharm": {
     "name": "#%%\n"
    }
   }
  }
 ],
 "metadata": {
  "kernelspec": {
   "display_name": "Python 3 (ipykernel)",
   "language": "python",
   "name": "python3"
  },
  "language_info": {
   "codemirror_mode": {
    "name": "ipython",
    "version": 3
   },
   "file_extension": ".py",
   "mimetype": "text/x-python",
   "name": "python",
   "nbconvert_exporter": "python",
   "pygments_lexer": "ipython3",
   "version": "3.8.2"
  }
 },
 "nbformat": 4,
 "nbformat_minor": 1
}