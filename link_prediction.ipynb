{
 "cells": [
  {
   "cell_type": "code",
   "execution_count": 1,
   "metadata": {
    "collapsed": true,
    "pycharm": {
     "name": "#%%\n"
    },
    "id": "1sN5YAO4VO84",
    "executionInfo": {
     "status": "ok",
     "timestamp": 1665051236741,
     "user_tz": -120,
     "elapsed": 2194,
     "user": {
      "displayName": "DAVIDE TESTA",
      "userId": "14903588965415393146"
     }
    }
   },
   "outputs": [],
   "source": [
    "import pandas as pd\n",
    "import networkx as nx\n",
    "import plotly.express as px\n",
    "import matplotlib.pyplot as plt\n"
   ]
  },
  {
   "cell_type": "code",
   "source": [
    "import linkpred\n",
    "import tikzplotlib"
   ],
   "metadata": {
    "id": "WOe7cSJvV8Mf",
    "executionInfo": {
     "status": "ok",
     "timestamp": 1665052995611,
     "user_tz": -120,
     "elapsed": 6,
     "user": {
      "displayName": "DAVIDE TESTA",
      "userId": "14903588965415393146"
     }
    },
    "pycharm": {
     "name": "#%%\n"
    }
   },
   "execution_count": 2,
   "outputs": []
  },
  {
   "cell_type": "code",
   "source": [
    "\n",
    "edgeList = pd.read_csv('data/booksellers-edge.csv')"
   ],
   "metadata": {
    "id": "8GuM31WAsxSE",
    "executionInfo": {
     "status": "ok",
     "timestamp": 1665051268046,
     "user_tz": -120,
     "elapsed": 430,
     "user": {
      "displayName": "DAVIDE TESTA",
      "userId": "14903588965415393146"
     }
    },
    "pycharm": {
     "name": "#%%\n"
    }
   },
   "execution_count": 3,
   "outputs": []
  },
  {
   "cell_type": "markdown",
   "source": [
    "# Graph object creation"
   ],
   "metadata": {
    "collapsed": false,
    "pycharm": {
     "name": "#%% md\n"
    },
    "id": "yn9b6ihiVO9N"
   }
  },
  {
   "cell_type": "code",
   "source": [
    "g = nx.from_pandas_edgelist(edgeList, 'Source', 'Target', ['Weight'])"
   ],
   "metadata": {
    "id": "I_kq_FlHtFXJ",
    "executionInfo": {
     "status": "ok",
     "timestamp": 1665051284769,
     "user_tz": -120,
     "elapsed": 6,
     "user": {
      "displayName": "DAVIDE TESTA",
      "userId": "14903588965415393146"
     }
    },
    "pycharm": {
     "name": "#%%\n"
    }
   },
   "execution_count": 4,
   "outputs": []
  },
  {
   "cell_type": "code",
   "source": [],
   "metadata": {
    "id": "4g3pBRN8tFqM",
    "pycharm": {
     "name": "#%%\n"
    }
   },
   "execution_count": 4,
   "outputs": []
  },
  {
   "cell_type": "markdown",
   "source": [
    "# Link prediction"
   ],
   "metadata": {
    "collapsed": false,
    "pycharm": {
     "name": "#%% md\n"
    },
    "id": "s7nz6dm7VO9v"
   }
  },
  {
   "cell_type": "markdown",
   "source": [
    "## 1st approach: Neighborhood measures"
   ],
   "metadata": {
    "collapsed": false,
    "pycharm": {
     "name": "#%% md\n"
    },
    "id": "tZqMbT0cVO9z"
   }
  },
  {
   "cell_type": "markdown",
   "source": [
    "### 1. Common Neighborhood"
   ],
   "metadata": {
    "collapsed": false,
    "pycharm": {
     "name": "#%% md\n"
    },
    "id": "2pROCH8XVO93"
   }
  },
  {
   "cell_type": "code",
   "execution_count": 5,
   "outputs": [],
   "source": [
    "cn = linkpred.predictors.CommonNeighbours(g, excluded=g.edges())"
   ],
   "metadata": {
    "pycharm": {
     "name": "#%%\n"
    },
    "id": "k6kNJpNlVO98",
    "executionInfo": {
     "status": "ok",
     "timestamp": 1665051292925,
     "user_tz": -120,
     "elapsed": 230,
     "user": {
      "displayName": "DAVIDE TESTA",
      "userId": "14903588965415393146"
     }
    }
   }
  },
  {
   "cell_type": "code",
   "execution_count": 6,
   "outputs": [
    {
     "name": "stdout",
     "output_type": "stream",
     "text": [
      "313 - 13 140.0\n",
      "459 - 15 131.0\n",
      "417 - 246 131.0\n",
      "506 - 173 126.0\n",
      "259 - 37 125.0\n"
     ]
    }
   ],
   "source": [
    "cn_results = cn.predict()\n",
    "\n",
    "top_cn = cn_results.top(5)\n",
    "for edge, score in top_cn.items():\n",
    "    print(edge, score)"
   ],
   "metadata": {
    "pycharm": {
     "name": "#%%\n"
    },
    "id": "T84b9xqAVO9-",
    "outputId": "7ca9af1c-a9bb-4672-f5a8-9936a84bcd70",
    "colab": {
     "base_uri": "https://localhost:8080/"
    },
    "executionInfo": {
     "status": "ok",
     "timestamp": 1665051298961,
     "user_tz": -120,
     "elapsed": 5168,
     "user": {
      "displayName": "DAVIDE TESTA",
      "userId": "14903588965415393146"
     }
    }
   }
  },
  {
   "cell_type": "markdown",
   "source": [
    "### 2. Jaccard"
   ],
   "metadata": {
    "collapsed": false,
    "pycharm": {
     "name": "#%% md\n"
    },
    "id": "24CVIgq5VO-C"
   }
  },
  {
   "cell_type": "code",
   "execution_count": 7,
   "outputs": [],
   "source": [
    "jc = linkpred.predictors.Jaccard(g, excluded=g.edges())\n"
   ],
   "metadata": {
    "pycharm": {
     "name": "#%%\n"
    },
    "id": "bpmaj5O_VO-E",
    "executionInfo": {
     "status": "ok",
     "timestamp": 1665051298963,
     "user_tz": -120,
     "elapsed": 12,
     "user": {
      "displayName": "DAVIDE TESTA",
      "userId": "14903588965415393146"
     }
    }
   }
  },
  {
   "cell_type": "code",
   "execution_count": 8,
   "outputs": [
    {
     "name": "stdout",
     "output_type": "stream",
     "text": [
      "463 - 195 1.0\n",
      "463 - 9 0.5\n",
      "446 - 161 0.5\n",
      "288 - 163 0.5\n",
      "195 - 9 0.5\n"
     ]
    }
   ],
   "source": [
    "jc_results = jc.predict()\n",
    "\n",
    "top_jc = jc_results.top(5)\n",
    "for edge, score in top_jc.items():\n",
    "    print(edge, score)"
   ],
   "metadata": {
    "pycharm": {
     "name": "#%%\n"
    },
    "id": "nHJT37b5VO-G",
    "outputId": "ee18b9f4-400d-4ab8-8c29-a0a76d260755",
    "colab": {
     "base_uri": "https://localhost:8080/"
    },
    "executionInfo": {
     "status": "ok",
     "timestamp": 1665051306280,
     "user_tz": -120,
     "elapsed": 7326,
     "user": {
      "displayName": "DAVIDE TESTA",
      "userId": "14903588965415393146"
     }
    }
   }
  },
  {
   "cell_type": "markdown",
   "source": [
    "## 2nd approach: Ranking"
   ],
   "metadata": {
    "collapsed": false,
    "pycharm": {
     "name": "#%% md\n"
    },
    "id": "gT9_YSDeVO-J"
   }
  },
  {
   "cell_type": "markdown",
   "source": [
    "### 1. SimRank"
   ],
   "metadata": {
    "collapsed": false,
    "pycharm": {
     "name": "#%% md\n"
    },
    "id": "tVzahwQ-VO-M"
   }
  },
  {
   "cell_type": "code",
   "execution_count": 9,
   "outputs": [],
   "source": [
    "simrank = linkpred.predictors.SimRank(g, excluded=g.edges())\n"
   ],
   "metadata": {
    "pycharm": {
     "name": "#%%\n"
    },
    "id": "lWmqWxmeVO-W",
    "executionInfo": {
     "status": "ok",
     "timestamp": 1665051306283,
     "user_tz": -120,
     "elapsed": 11,
     "user": {
      "displayName": "DAVIDE TESTA",
      "userId": "14903588965415393146"
     }
    }
   }
  },
  {
   "cell_type": "code",
   "execution_count": 10,
   "outputs": [
    {
     "name": "stdout",
     "output_type": "stream",
     "text": [
      "463 - 195 0.5\n",
      "463 - 9 0.25091276365876025\n",
      "195 - 9 0.25091276365876025\n",
      "446 - 161 0.2507682097146825\n",
      "376 - 279 0.167730950617651\n"
     ]
    }
   ],
   "source": [
    "simrank_results = simrank.predict(c=0.5)\n",
    "\n",
    "top_sr = simrank_results.top(5)\n",
    "for edge, score in top_sr.items():\n",
    "    print(edge, score)"
   ],
   "metadata": {
    "pycharm": {
     "name": "#%%\n"
    },
    "id": "75Kw97YWVO-X",
    "outputId": "b71de9db-afdd-42d9-b876-b04691e45bf1",
    "colab": {
     "base_uri": "https://localhost:8080/"
    },
    "executionInfo": {
     "status": "ok",
     "timestamp": 1665051307663,
     "user_tz": -120,
     "elapsed": 1388,
     "user": {
      "displayName": "DAVIDE TESTA",
      "userId": "14903588965415393146"
     }
    }
   }
  },
  {
   "cell_type": "markdown",
   "source": [
    "## 4th approach: Random prediction"
   ],
   "metadata": {
    "collapsed": false,
    "pycharm": {
     "name": "#%% md\n"
    },
    "id": "WL9DAzxoVO_d"
   }
  },
  {
   "cell_type": "markdown",
   "source": [
    "### Random predictor"
   ],
   "metadata": {
    "collapsed": false,
    "pycharm": {
     "name": "#%% md\n"
    },
    "id": "40qh_dPQVO_e"
   }
  },
  {
   "cell_type": "code",
   "execution_count": 11,
   "outputs": [],
   "source": [
    "rnd = linkpred.predictors.Random(g, excluded=g.edges())\n"
   ],
   "metadata": {
    "pycharm": {
     "name": "#%%\n"
    },
    "id": "YgPPhQ4mVO_f"
   }
  },
  {
   "cell_type": "code",
   "execution_count": 12,
   "outputs": [
    {
     "name": "stdout",
     "output_type": "stream",
     "text": [
      "418 - 188 0.9999852749607064\n",
      "476 - 421 0.9999819950858203\n",
      "325 - 227 0.9999740673372596\n",
      "472 - 337 0.9999477971134549\n",
      "450 - 434 0.9999431232356533\n"
     ]
    }
   ],
   "source": [
    "rnd_results = rnd.predict()\n",
    "\n",
    "top_rnd = rnd_results.top(5)\n",
    "for edge, score in top_rnd.items():\n",
    "    print(edge, score)"
   ],
   "metadata": {
    "pycharm": {
     "name": "#%%\n"
    },
    "id": "BjEqV4gEVO_g",
    "outputId": "bb022ad8-897a-4394-d02d-05c1764a38f4"
   }
  },
  {
   "cell_type": "markdown",
   "source": [
    "## Evaluation and comparison of the predictors"
   ],
   "metadata": {
    "collapsed": false,
    "pycharm": {
     "name": "#%% md\n"
    },
    "id": "-IH8Lg58VO_h"
   }
  },
  {
   "cell_type": "code",
   "execution_count": 13,
   "outputs": [
    {
     "data": {
      "text/plain": "       Unnamed: 0  Source  Target  Weight\n0               0     132     402       1\n1               1     428     467       1\n2               2     171      18       1\n3               3     405      29       2\n4               4     282     392       3\n...           ...     ...     ...     ...\n22979       22979     182     504       1\n22980       22980     254     162       2\n22981       22981     430      29       9\n22982       22982      13     114       3\n22983       22983     334     315       1\n\n[22984 rows x 4 columns]",
      "text/html": "<div>\n<style scoped>\n    .dataframe tbody tr th:only-of-type {\n        vertical-align: middle;\n    }\n\n    .dataframe tbody tr th {\n        vertical-align: top;\n    }\n\n    .dataframe thead th {\n        text-align: right;\n    }\n</style>\n<table border=\"1\" class=\"dataframe\">\n  <thead>\n    <tr style=\"text-align: right;\">\n      <th></th>\n      <th>Unnamed: 0</th>\n      <th>Source</th>\n      <th>Target</th>\n      <th>Weight</th>\n    </tr>\n  </thead>\n  <tbody>\n    <tr>\n      <th>0</th>\n      <td>0</td>\n      <td>132</td>\n      <td>402</td>\n      <td>1</td>\n    </tr>\n    <tr>\n      <th>1</th>\n      <td>1</td>\n      <td>428</td>\n      <td>467</td>\n      <td>1</td>\n    </tr>\n    <tr>\n      <th>2</th>\n      <td>2</td>\n      <td>171</td>\n      <td>18</td>\n      <td>1</td>\n    </tr>\n    <tr>\n      <th>3</th>\n      <td>3</td>\n      <td>405</td>\n      <td>29</td>\n      <td>2</td>\n    </tr>\n    <tr>\n      <th>4</th>\n      <td>4</td>\n      <td>282</td>\n      <td>392</td>\n      <td>3</td>\n    </tr>\n    <tr>\n      <th>...</th>\n      <td>...</td>\n      <td>...</td>\n      <td>...</td>\n      <td>...</td>\n    </tr>\n    <tr>\n      <th>22979</th>\n      <td>22979</td>\n      <td>182</td>\n      <td>504</td>\n      <td>1</td>\n    </tr>\n    <tr>\n      <th>22980</th>\n      <td>22980</td>\n      <td>254</td>\n      <td>162</td>\n      <td>2</td>\n    </tr>\n    <tr>\n      <th>22981</th>\n      <td>22981</td>\n      <td>430</td>\n      <td>29</td>\n      <td>9</td>\n    </tr>\n    <tr>\n      <th>22982</th>\n      <td>22982</td>\n      <td>13</td>\n      <td>114</td>\n      <td>3</td>\n    </tr>\n    <tr>\n      <th>22983</th>\n      <td>22983</td>\n      <td>334</td>\n      <td>315</td>\n      <td>1</td>\n    </tr>\n  </tbody>\n</table>\n<p>22984 rows × 4 columns</p>\n</div>"
     },
     "execution_count": 13,
     "metadata": {},
     "output_type": "execute_result"
    }
   ],
   "source": [
    "edgeList\n",
    "\n"
   ],
   "metadata": {
    "pycharm": {
     "name": "#%%\n"
    },
    "colab": {
     "base_uri": "https://localhost:8080/",
     "height": 419
    },
    "id": "LlJuFP0RVO_i",
    "executionInfo": {
     "status": "ok",
     "timestamp": 1664959864526,
     "user_tz": -120,
     "elapsed": 509,
     "user": {
      "displayName": "DAVIDE TESTA",
      "userId": "14903588965415393146"
     }
    },
    "outputId": "20411cc6-d2aa-4cdc-d461-f0e0e2a1c44b"
   }
  },
  {
   "cell_type": "code",
   "execution_count": 14,
   "outputs": [],
   "source": [
    "from sklearn.model_selection import train_test_split\n",
    "from linkpred.evaluation import Pair\n",
    "import itertools\n",
    "\n",
    "train_edgelist, test_edgelist = train_test_split(edgeList, test_size=0.2)\n",
    "\n",
    "g_train = nx.from_pandas_edgelist(train_edgelist, 'Source', 'Target', ['Weight'])\n",
    "g_test = nx.from_pandas_edgelist(test_edgelist, 'Source', 'Target', ['Weight'] )\n",
    "\n",
    "# Node set\n",
    "nodes = list(g.nodes())\n",
    "nodes.extend(list(g_test.nodes()))\n",
    "\n",
    "# Compute the test set and the universe set\n",
    "test = [Pair(i) for i in g_test.edges()]\n",
    "universe = set([Pair(i) for i in itertools.product(nodes, nodes) if i[0]!=i[1]])\n"
   ],
   "metadata": {
    "pycharm": {
     "name": "#%%\n"
    },
    "id": "dYaymWmMVO_i",
    "executionInfo": {
     "status": "ok",
     "timestamp": 1665051314390,
     "user_tz": -120,
     "elapsed": 3842,
     "user": {
      "displayName": "DAVIDE TESTA",
      "userId": "14903588965415393146"
     }
    }
   }
  },
  {
   "cell_type": "code",
   "execution_count": 14,
   "outputs": [],
   "source": [],
   "metadata": {
    "pycharm": {
     "name": "#%%\n"
    },
    "id": "xvmOTWenVO_k"
   }
  },
  {
   "cell_type": "code",
   "execution_count": 15,
   "outputs": [],
   "source": [
    "#Thus, we can evaluate the obtained prediction against the test\n",
    "\n",
    "cn = linkpred.predictors.CommonNeighbours(g_train, excluded=g_train.edges())\n",
    "cn_results = cn.predict()\n"
   ],
   "metadata": {
    "pycharm": {
     "name": "#%%\n"
    },
    "id": "E8McTccgVO_p",
    "executionInfo": {
     "status": "ok",
     "timestamp": 1665051318319,
     "user_tz": -120,
     "elapsed": 3934,
     "user": {
      "displayName": "DAVIDE TESTA",
      "userId": "14903588965415393146"
     }
    }
   }
  },
  {
   "cell_type": "code",
   "execution_count": 16,
   "outputs": [],
   "source": [
    "cn_evaluation = linkpred.evaluation.EvaluationSheet(cn_results, test, universe)"
   ],
   "metadata": {
    "pycharm": {
     "name": "#%%\n"
    },
    "id": "zO8st5nnVO_r",
    "executionInfo": {
     "status": "ok",
     "timestamp": 1665051625171,
     "user_tz": -120,
     "elapsed": 306858,
     "user": {
      "displayName": "DAVIDE TESTA",
      "userId": "14903588965415393146"
     }
    }
   }
  },
  {
   "cell_type": "code",
   "source": [
    "def Evaluation(EvaluationSheet):\n",
    "  precision = EvaluationSheet.precision()[-1]\n",
    "  recall = EvaluationSheet.recall()[-1]\n",
    "  F1 = EvaluationSheet.f_score()[-1]\n",
    "  print(f\"Precision: {precision} - Recall: {recall} - F1 score: {F1}\")"
   ],
   "metadata": {
    "id": "-BKqxkS3zUlG",
    "executionInfo": {
     "status": "ok",
     "timestamp": 1665051625172,
     "user_tz": -120,
     "elapsed": 150,
     "user": {
      "displayName": "DAVIDE TESTA",
      "userId": "14903588965415393146"
     }
    },
    "pycharm": {
     "name": "#%%\n"
    }
   },
   "execution_count": 17,
   "outputs": []
  },
  {
   "cell_type": "code",
   "source": [
    "Evaluation(cn_evaluation)"
   ],
   "metadata": {
    "colab": {
     "base_uri": "https://localhost:8080/"
    },
    "id": "1QajX2qSvlG5",
    "executionInfo": {
     "status": "ok",
     "timestamp": 1665051625173,
     "user_tz": -120,
     "elapsed": 142,
     "user": {
      "displayName": "DAVIDE TESTA",
      "userId": "14903588965415393146"
     }
    },
    "outputId": "964c1718-633f-416d-b571-4d3f932b9e17",
    "pycharm": {
     "name": "#%%\n"
    }
   },
   "execution_count": 18,
   "outputs": [
    {
     "name": "stdout",
     "output_type": "stream",
     "text": [
      "Precision: 0.03747874290509949 - Recall: 0.7620116748989673 - F1 score: 0.07144360712331074\n"
     ]
    }
   ]
  },
  {
   "cell_type": "code",
   "execution_count": 19,
   "outputs": [],
   "source": [
    "jc = linkpred.predictors.Jaccard(g_train, excluded=g_train.edges())\n",
    "jc_results = jc.predict()"
   ],
   "metadata": {
    "pycharm": {
     "name": "#%%\n"
    },
    "id": "up0kd035VO_t",
    "executionInfo": {
     "status": "ok",
     "timestamp": 1665051631484,
     "user_tz": -120,
     "elapsed": 6360,
     "user": {
      "displayName": "DAVIDE TESTA",
      "userId": "14903588965415393146"
     }
    }
   }
  },
  {
   "cell_type": "code",
   "execution_count": 20,
   "outputs": [],
   "source": [
    "jc_evaluation = linkpred.evaluation.EvaluationSheet(jc_results, test, universe)"
   ],
   "metadata": {
    "pycharm": {
     "name": "#%%\n"
    },
    "id": "K4MzpGLRVO_u",
    "executionInfo": {
     "status": "ok",
     "timestamp": 1665051941950,
     "user_tz": -120,
     "elapsed": 310473,
     "user": {
      "displayName": "DAVIDE TESTA",
      "userId": "14903588965415393146"
     }
    }
   }
  },
  {
   "cell_type": "code",
   "source": [
    "Evaluation(jc_evaluation)"
   ],
   "metadata": {
    "colab": {
     "base_uri": "https://localhost:8080/"
    },
    "id": "xGBfc-1b269I",
    "executionInfo": {
     "status": "ok",
     "timestamp": 1665051941953,
     "user_tz": -120,
     "elapsed": 19,
     "user": {
      "displayName": "DAVIDE TESTA",
      "userId": "14903588965415393146"
     }
    },
    "outputId": "0bd88e0d-a7a6-4235-be8e-1601768380ec",
    "pycharm": {
     "name": "#%%\n"
    }
   },
   "execution_count": 21,
   "outputs": [
    {
     "name": "stdout",
     "output_type": "stream",
     "text": [
      "Precision: 0.03747874290509949 - Recall: 0.7620116748989673 - F1 score: 0.07144360712331074\n"
     ]
    }
   ]
  },
  {
   "cell_type": "code",
   "execution_count": 22,
   "outputs": [],
   "source": [
    "sr = linkpred.predictors.SimRank(g_train, excluded=g_train.edges())\n",
    "sr_results = sr.predict(c=0.5)"
   ],
   "metadata": {
    "pycharm": {
     "name": "#%%\n"
    },
    "id": "vzUbtP8TVO_w",
    "executionInfo": {
     "status": "ok",
     "timestamp": 1665051942334,
     "user_tz": -120,
     "elapsed": 390,
     "user": {
      "displayName": "DAVIDE TESTA",
      "userId": "14903588965415393146"
     }
    }
   }
  },
  {
   "cell_type": "code",
   "execution_count": 23,
   "outputs": [],
   "source": [
    "sr_evaluation = linkpred.evaluation.EvaluationSheet(sr_results, test, universe)"
   ],
   "metadata": {
    "pycharm": {
     "name": "#%%\n"
    },
    "id": "yTmzYwclVO_y",
    "executionInfo": {
     "status": "ok",
     "timestamp": 1665052269563,
     "user_tz": -120,
     "elapsed": 326970,
     "user": {
      "displayName": "DAVIDE TESTA",
      "userId": "14903588965415393146"
     }
    }
   }
  },
  {
   "cell_type": "code",
   "source": [
    "Evaluation(sr_evaluation)"
   ],
   "metadata": {
    "colab": {
     "base_uri": "https://localhost:8080/"
    },
    "id": "JC0hc7kJ3G7B",
    "executionInfo": {
     "status": "ok",
     "timestamp": 1665052269566,
     "user_tz": -120,
     "elapsed": 41,
     "user": {
      "displayName": "DAVIDE TESTA",
      "userId": "14903588965415393146"
     }
    },
    "outputId": "81f97bc4-cec9-4a3d-a541-d102a75c41b8",
    "pycharm": {
     "name": "#%%\n"
    }
   },
   "execution_count": 24,
   "outputs": [
    {
     "name": "stdout",
     "output_type": "stream",
     "text": [
      "Precision: 0.033270306545315605 - Recall: 0.7624607094746295 - F1 score: 0.06375848376467938\n"
     ]
    }
   ]
  },
  {
   "cell_type": "code",
   "execution_count": 25,
   "outputs": [],
   "source": [
    "rnd = linkpred.predictors.Random(g_train, excluded=g_train.edges())\n",
    "rnd_results = rnd.predict()"
   ],
   "metadata": {
    "pycharm": {
     "name": "#%%\n"
    },
    "id": "nsej2lrKVO_z",
    "executionInfo": {
     "status": "ok",
     "timestamp": 1665052270529,
     "user_tz": -120,
     "elapsed": 983,
     "user": {
      "displayName": "DAVIDE TESTA",
      "userId": "14903588965415393146"
     }
    }
   }
  },
  {
   "cell_type": "code",
   "execution_count": 26,
   "outputs": [],
   "source": [
    "rnd_evaluation = linkpred.evaluation.EvaluationSheet(rnd_results, test, universe)"
   ],
   "metadata": {
    "pycharm": {
     "name": "#%%\n"
    },
    "id": "CKWEu7W8VO_1",
    "executionInfo": {
     "status": "ok",
     "timestamp": 1665052593154,
     "user_tz": -120,
     "elapsed": 322634,
     "user": {
      "displayName": "DAVIDE TESTA",
      "userId": "14903588965415393146"
     }
    }
   }
  },
  {
   "cell_type": "code",
   "source": [
    "Evaluation(rnd_evaluation)"
   ],
   "metadata": {
    "colab": {
     "base_uri": "https://localhost:8080/"
    },
    "id": "tOD1upfI3V0p",
    "executionInfo": {
     "status": "ok",
     "timestamp": 1665052593156,
     "user_tz": -120,
     "elapsed": 42,
     "user": {
      "displayName": "DAVIDE TESTA",
      "userId": "14903588965415393146"
     }
    },
    "outputId": "bd5c53e2-abfc-4cb0-8e09-4e8a3e474fe5",
    "pycharm": {
     "name": "#%%\n"
    }
   },
   "execution_count": 27,
   "outputs": [
    {
     "name": "stdout",
     "output_type": "stream",
     "text": [
      "Precision: 0.033270306545315605 - Recall: 0.7624607094746295 - F1 score: 0.06375848376467938\n"
     ]
    }
   ]
  },
  {
   "cell_type": "code",
   "execution_count": 28,
   "outputs": [
    {
     "data": {
      "text/plain": "'plt.plot(cn_evaluation.recall(), cn_evaluation.precision())\\nplt.xlabel(\\'recall\\')\\nplt.ylabel(\\'precision\\')\\ntikzplotlib.save(\"gdrive/MyDrive/SNA/CN-trend.tex\")'"
     },
     "execution_count": 28,
     "metadata": {},
     "output_type": "execute_result"
    }
   ],
   "source": [
    "'''plt.plot(cn_evaluation.recall(), cn_evaluation.precision())\n",
    "plt.xlabel('recall')\n",
    "plt.ylabel('precision')\n",
    "tikzplotlib.save(\"plots/CN-trend.tex\")'''"
   ],
   "metadata": {
    "pycharm": {
     "name": "#%%\n"
    },
    "id": "qvWRVP2QVO_3",
    "outputId": "1bfd8c86-3a25-4b24-dae1-5246227714e4",
    "colab": {
     "base_uri": "https://localhost:8080/",
     "height": 279
    },
    "executionInfo": {
     "status": "ok",
     "timestamp": 1665054631880,
     "user_tz": -120,
     "elapsed": 776,
     "user": {
      "displayName": "DAVIDE TESTA",
      "userId": "14903588965415393146"
     }
    }
   }
  },
  {
   "cell_type": "code",
   "execution_count": 29,
   "outputs": [
    {
     "data": {
      "text/plain": "'plt.plot(jc_evaluation.recall(), jc_evaluation.precision())\\nplt.xlabel(\\'recall\\')\\nplt.ylabel(\\'precision\\')\\ntikzplotlib.save(\"gdrive/MyDrive/SNA/Jc-trend.tex\")'"
     },
     "execution_count": 29,
     "metadata": {},
     "output_type": "execute_result"
    }
   ],
   "source": [
    "'''plt.plot(jc_evaluation.recall(), jc_evaluation.precision())\n",
    "plt.xlabel('recall')\n",
    "plt.ylabel('precision')\n",
    "tikzplotlib.save(\"plots/Jc-trend.tex\")'''"
   ],
   "metadata": {
    "pycharm": {
     "name": "#%%\n"
    },
    "id": "QffRGRMIVO_4",
    "outputId": "f5aadc3f-8a9f-46c1-e6e2-8b86bf87b152",
    "colab": {
     "base_uri": "https://localhost:8080/",
     "height": 279
    },
    "executionInfo": {
     "status": "ok",
     "timestamp": 1665054651812,
     "user_tz": -120,
     "elapsed": 672,
     "user": {
      "displayName": "DAVIDE TESTA",
      "userId": "14903588965415393146"
     }
    }
   }
  },
  {
   "cell_type": "code",
   "execution_count": 30,
   "outputs": [
    {
     "data": {
      "text/plain": "'plt.plot(sr_evaluation.recall(), sr_evaluation.precision())\\nplt.xlabel(\\'recall\\')\\nplt.ylabel(\\'precision\\')\\ntikzplotlib.save(\"gdrive/MyDrive/SNA/Sr-trend.tex\")'"
     },
     "execution_count": 30,
     "metadata": {},
     "output_type": "execute_result"
    }
   ],
   "source": [
    "'''plt.plot(sr_evaluation.recall(), sr_evaluation.precision())\n",
    "plt.xlabel('recall')\n",
    "plt.ylabel('precision')\n",
    "tikzplotlib.save(\"plots/Sr-trend.tex\")'''"
   ],
   "metadata": {
    "pycharm": {
     "name": "#%%\n"
    },
    "id": "PtuzITMHVO_6",
    "outputId": "2399460b-adf6-43b2-d0d5-a39d78f3d90c",
    "colab": {
     "base_uri": "https://localhost:8080/",
     "height": 279
    },
    "executionInfo": {
     "status": "ok",
     "timestamp": 1665054662632,
     "user_tz": -120,
     "elapsed": 823,
     "user": {
      "displayName": "DAVIDE TESTA",
      "userId": "14903588965415393146"
     }
    }
   }
  },
  {
   "cell_type": "code",
   "source": [
    "#function used to create dataframes that contain precision and recall of each evaluation predictor\n",
    "def EvalDF(eval_score):\n",
    "  ev_prec = []\n",
    "  ev_rec = []\n",
    "  for el in eval_score.precision():\n",
    "    ev_prec.append(el)\n",
    "  for el in eval_score.recall():\n",
    "    ev_rec.append(el)\n",
    "\n",
    "  df = pd.DataFrame (ev_prec, columns = ['Precision'])\n",
    "\n",
    "  rec_values = pd.Series(ev_rec)\n",
    "  df.insert(loc=1, column='Recall', value=rec_values)\n",
    "  \n",
    "  return df"
   ],
   "metadata": {
    "id": "a-u10eQhDjrS",
    "executionInfo": {
     "status": "ok",
     "timestamp": 1665057177102,
     "user_tz": -120,
     "elapsed": 228,
     "user": {
      "displayName": "DAVIDE TESTA",
      "userId": "14903588965415393146"
     }
    },
    "pycharm": {
     "name": "#%%\n"
    }
   },
   "execution_count": 32,
   "outputs": []
  },
  {
   "cell_type": "code",
   "source": [
    "EVA_CN = EvalDF(cn_evaluation)\n",
    "EVA_CN"
   ],
   "metadata": {
    "colab": {
     "base_uri": "https://localhost:8080/",
     "height": 419
    },
    "id": "SdRF-Es5E4Ij",
    "executionInfo": {
     "status": "ok",
     "timestamp": 1665057179107,
     "user_tz": -120,
     "elapsed": 256,
     "user": {
      "displayName": "DAVIDE TESTA",
      "userId": "14903588965415393146"
     }
    },
    "outputId": "466e14ef-64ba-4d39-b2a7-dd1cde49bab1",
    "pycharm": {
     "name": "#%%\n"
    }
   },
   "execution_count": 33,
   "outputs": [
    {
     "data": {
      "text/plain": "       Precision    Recall\n0       1.000000  0.000225\n1       1.000000  0.000449\n2       1.000000  0.000674\n3       1.000000  0.000898\n4       1.000000  0.001123\n...          ...       ...\n90553   0.037480  0.762012\n90554   0.037480  0.762012\n90555   0.037480  0.762012\n90556   0.037479  0.762012\n90557   0.037479  0.762012\n\n[90558 rows x 2 columns]",
      "text/html": "<div>\n<style scoped>\n    .dataframe tbody tr th:only-of-type {\n        vertical-align: middle;\n    }\n\n    .dataframe tbody tr th {\n        vertical-align: top;\n    }\n\n    .dataframe thead th {\n        text-align: right;\n    }\n</style>\n<table border=\"1\" class=\"dataframe\">\n  <thead>\n    <tr style=\"text-align: right;\">\n      <th></th>\n      <th>Precision</th>\n      <th>Recall</th>\n    </tr>\n  </thead>\n  <tbody>\n    <tr>\n      <th>0</th>\n      <td>1.000000</td>\n      <td>0.000225</td>\n    </tr>\n    <tr>\n      <th>1</th>\n      <td>1.000000</td>\n      <td>0.000449</td>\n    </tr>\n    <tr>\n      <th>2</th>\n      <td>1.000000</td>\n      <td>0.000674</td>\n    </tr>\n    <tr>\n      <th>3</th>\n      <td>1.000000</td>\n      <td>0.000898</td>\n    </tr>\n    <tr>\n      <th>4</th>\n      <td>1.000000</td>\n      <td>0.001123</td>\n    </tr>\n    <tr>\n      <th>...</th>\n      <td>...</td>\n      <td>...</td>\n    </tr>\n    <tr>\n      <th>90553</th>\n      <td>0.037480</td>\n      <td>0.762012</td>\n    </tr>\n    <tr>\n      <th>90554</th>\n      <td>0.037480</td>\n      <td>0.762012</td>\n    </tr>\n    <tr>\n      <th>90555</th>\n      <td>0.037480</td>\n      <td>0.762012</td>\n    </tr>\n    <tr>\n      <th>90556</th>\n      <td>0.037479</td>\n      <td>0.762012</td>\n    </tr>\n    <tr>\n      <th>90557</th>\n      <td>0.037479</td>\n      <td>0.762012</td>\n    </tr>\n  </tbody>\n</table>\n<p>90558 rows × 2 columns</p>\n</div>"
     },
     "execution_count": 33,
     "metadata": {},
     "output_type": "execute_result"
    }
   ]
  },
  {
   "cell_type": "code",
   "source": [
    "plt.plot(EVA_CN['Recall'], EVA_CN['Precision'])\n",
    "plt.xlabel('recall')\n",
    "plt.ylabel('precision')\n",
    "tikzplotlib.save(\"plots/CN-trend.tex\")\n",
    "#plt.savefig('plots/CN-trend.png')"
   ],
   "metadata": {
    "colab": {
     "base_uri": "https://localhost:8080/",
     "height": 279
    },
    "id": "YUgIsICjJsa8",
    "executionInfo": {
     "status": "ok",
     "timestamp": 1665057458694,
     "user_tz": -120,
     "elapsed": 426,
     "user": {
      "displayName": "DAVIDE TESTA",
      "userId": "14903588965415393146"
     }
    },
    "outputId": "3d4ccd46-3ab7-4aef-be59-dfb2ed83bbae",
    "pycharm": {
     "name": "#%%\n"
    }
   },
   "execution_count": 60,
   "outputs": [
    {
     "data": {
      "text/plain": "<Figure size 432x288 with 1 Axes>",
      "image/png": "[encoded data removed]"
     },
     "metadata": {
      "needs_background": "light"
     },
     "output_type": "display_data"
    }
   ]
  },
  {
   "cell_type": "code",
   "source": [
    "EVA_JC = EvalDF(jc_evaluation)\n",
    "EVA_JC"
   ],
   "metadata": {
    "colab": {
     "base_uri": "https://localhost:8080/",
     "height": 419
    },
    "id": "-haSgXanJJ2H",
    "executionInfo": {
     "status": "ok",
     "timestamp": 1665057271192,
     "user_tz": -120,
     "elapsed": 401,
     "user": {
      "displayName": "DAVIDE TESTA",
      "userId": "14903588965415393146"
     }
    },
    "outputId": "137b1331-b21e-4ed0-d8c8-b0b6bc7bb241",
    "pycharm": {
     "name": "#%%\n"
    }
   },
   "execution_count": 35,
   "outputs": [
    {
     "data": {
      "text/plain": "       Precision    Recall\n0       0.000000  0.000000\n1       0.500000  0.000225\n2       0.666667  0.000449\n3       0.750000  0.000674\n4       0.800000  0.000898\n...          ...       ...\n90553   0.037480  0.762012\n90554   0.037480  0.762012\n90555   0.037480  0.762012\n90556   0.037479  0.762012\n90557   0.037479  0.762012\n\n[90558 rows x 2 columns]",
      "text/html": "<div>\n<style scoped>\n    .dataframe tbody tr th:only-of-type {\n        vertical-align: middle;\n    }\n\n    .dataframe tbody tr th {\n        vertical-align: top;\n    }\n\n    .dataframe thead th {\n        text-align: right;\n    }\n</style>\n<table border=\"1\" class=\"dataframe\">\n  <thead>\n    <tr style=\"text-align: right;\">\n      <th></th>\n      <th>Precision</th>\n      <th>Recall</th>\n    </tr>\n  </thead>\n  <tbody>\n    <tr>\n      <th>0</th>\n      <td>0.000000</td>\n      <td>0.000000</td>\n    </tr>\n    <tr>\n      <th>1</th>\n      <td>0.500000</td>\n      <td>0.000225</td>\n    </tr>\n    <tr>\n      <th>2</th>\n      <td>0.666667</td>\n      <td>0.000449</td>\n    </tr>\n    <tr>\n      <th>3</th>\n      <td>0.750000</td>\n      <td>0.000674</td>\n    </tr>\n    <tr>\n      <th>4</th>\n      <td>0.800000</td>\n      <td>0.000898</td>\n    </tr>\n    <tr>\n      <th>...</th>\n      <td>...</td>\n      <td>...</td>\n    </tr>\n    <tr>\n      <th>90553</th>\n      <td>0.037480</td>\n      <td>0.762012</td>\n    </tr>\n    <tr>\n      <th>90554</th>\n      <td>0.037480</td>\n      <td>0.762012</td>\n    </tr>\n    <tr>\n      <th>90555</th>\n      <td>0.037480</td>\n      <td>0.762012</td>\n    </tr>\n    <tr>\n      <th>90556</th>\n      <td>0.037479</td>\n      <td>0.762012</td>\n    </tr>\n    <tr>\n      <th>90557</th>\n      <td>0.037479</td>\n      <td>0.762012</td>\n    </tr>\n  </tbody>\n</table>\n<p>90558 rows × 2 columns</p>\n</div>"
     },
     "execution_count": 35,
     "metadata": {},
     "output_type": "execute_result"
    }
   ]
  },
  {
   "cell_type": "code",
   "execution_count": 61,
   "outputs": [
    {
     "data": {
      "text/plain": "<Figure size 432x288 with 1 Axes>",
      "image/png": "[encoded data removed]"
     },
     "metadata": {
      "needs_background": "light"
     },
     "output_type": "display_data"
    }
   ],
   "source": [
    "plt.plot(EVA_JC['Recall'], EVA_JC['Precision'])\n",
    "plt.xlabel('recall')\n",
    "plt.ylabel('precision')\n",
    "tikzplotlib.save(\"plots/JC-trend.tex\")\n",
    "#plt.savefig('plots/jc-trend.png')\n",
    "plt.show()"
   ],
   "metadata": {
    "collapsed": false,
    "pycharm": {
     "name": "#%%\n"
    }
   }
  },
  {
   "cell_type": "code",
   "source": [
    "EVA_SR = EvalDF(sr_evaluation)\n",
    "EVA_SR"
   ],
   "metadata": {
    "colab": {
     "base_uri": "https://localhost:8080/",
     "height": 419
    },
    "id": "-y5I3ZZ3JcP_",
    "executionInfo": {
     "status": "ok",
     "timestamp": 1665057295400,
     "user_tz": -120,
     "elapsed": 10,
     "user": {
      "displayName": "DAVIDE TESTA",
      "userId": "14903588965415393146"
     }
    },
    "outputId": "6ddd000b-ebc7-48ae-8048-e345134371b8",
    "pycharm": {
     "name": "#%%\n"
    }
   },
   "execution_count": 37,
   "outputs": [
    {
     "data": {
      "text/plain": "        Precision    Recall\n0        0.000000  0.000000\n1        0.000000  0.000000\n2        0.000000  0.000000\n3        0.000000  0.000000\n4        0.000000  0.000000\n...           ...       ...\n102068   0.033272  0.762461\n102069   0.033271  0.762461\n102070   0.033271  0.762461\n102071   0.033271  0.762461\n102072   0.033270  0.762461\n\n[102073 rows x 2 columns]",
      "text/html": "<div>\n<style scoped>\n    .dataframe tbody tr th:only-of-type {\n        vertical-align: middle;\n    }\n\n    .dataframe tbody tr th {\n        vertical-align: top;\n    }\n\n    .dataframe thead th {\n        text-align: right;\n    }\n</style>\n<table border=\"1\" class=\"dataframe\">\n  <thead>\n    <tr style=\"text-align: right;\">\n      <th></th>\n      <th>Precision</th>\n      <th>Recall</th>\n    </tr>\n  </thead>\n  <tbody>\n    <tr>\n      <th>0</th>\n      <td>0.000000</td>\n      <td>0.000000</td>\n    </tr>\n    <tr>\n      <th>1</th>\n      <td>0.000000</td>\n      <td>0.000000</td>\n    </tr>\n    <tr>\n      <th>2</th>\n      <td>0.000000</td>\n      <td>0.000000</td>\n    </tr>\n    <tr>\n      <th>3</th>\n      <td>0.000000</td>\n      <td>0.000000</td>\n    </tr>\n    <tr>\n      <th>4</th>\n      <td>0.000000</td>\n      <td>0.000000</td>\n    </tr>\n    <tr>\n      <th>...</th>\n      <td>...</td>\n      <td>...</td>\n    </tr>\n    <tr>\n      <th>102068</th>\n      <td>0.033272</td>\n      <td>0.762461</td>\n    </tr>\n    <tr>\n      <th>102069</th>\n      <td>0.033271</td>\n      <td>0.762461</td>\n    </tr>\n    <tr>\n      <th>102070</th>\n      <td>0.033271</td>\n      <td>0.762461</td>\n    </tr>\n    <tr>\n      <th>102071</th>\n      <td>0.033271</td>\n      <td>0.762461</td>\n    </tr>\n    <tr>\n      <th>102072</th>\n      <td>0.033270</td>\n      <td>0.762461</td>\n    </tr>\n  </tbody>\n</table>\n<p>102073 rows × 2 columns</p>\n</div>"
     },
     "execution_count": 37,
     "metadata": {},
     "output_type": "execute_result"
    }
   ]
  },
  {
   "cell_type": "code",
   "execution_count": 62,
   "outputs": [
    {
     "data": {
      "text/plain": "<Figure size 432x288 with 1 Axes>",
      "image/png": "[encoded data removed]"
     },
     "metadata": {
      "needs_background": "light"
     },
     "output_type": "display_data"
    }
   ],
   "source": [
    "plt.plot(EVA_SR['Recall'], EVA_SR['Precision'])\n",
    "plt.xlabel('recall')\n",
    "plt.ylabel('precision')\n",
    "tikzplotlib.save(\"plots/SR-trend.tex\")\n",
    "#plt.savefig('plots/sr-trend.png')"
   ],
   "metadata": {
    "collapsed": false,
    "pycharm": {
     "name": "#%%\n"
    }
   }
  },
  {
   "cell_type": "code",
   "execution_count": 51,
   "outputs": [],
   "source": [
    "#function used to create dataframes that contain fallout and recall of each evaluation predictor\n",
    "def EvaROC(eval_score):\n",
    "    ev_fallout = []\n",
    "    ev_rec = []\n",
    "    for el in eval_score.fallout():\n",
    "        ev_fallout.append(el)\n",
    "    for el in eval_score.recall():\n",
    "        ev_rec.append(el)\n",
    "\n",
    "    df = pd.DataFrame(ev_fallout, columns=['Fallout'])\n",
    "\n",
    "    rec_values = pd.Series(ev_rec)\n",
    "    df.insert(loc=1, column='Recall', value=rec_values)\n",
    "\n",
    "    return df\n",
    "\n",
    "EvaROC_cn = EvaROC(cn_evaluation)\n",
    "EvaROC_jc = EvaROC(jc_evaluation)\n",
    "EvaROC_sr = EvaROC(sr_evaluation)\n",
    "EvaROC_rnd = EvaROC(rnd_evaluation)"
   ],
   "metadata": {
    "collapsed": false,
    "pycharm": {
     "name": "#%%\n"
    }
   }
  },
  {
   "cell_type": "code",
   "execution_count": 53,
   "outputs": [
    {
     "data": {
      "text/plain": "<Figure size 432x288 with 1 Axes>",
      "image/png": "[encoded data removed]"
     },
     "metadata": {
      "needs_background": "light"
     },
     "output_type": "display_data"
    },
    {
     "data": {
      "text/plain": "<Figure size 432x288 with 0 Axes>"
     },
     "metadata": {},
     "output_type": "display_data"
    }
   ],
   "source": [
    "plt.plot(EvaROC_cn['Fallout'], EvaROC_cn['Recall'], label=\"Common Neighbors\")\n",
    "plt.plot(EvaROC_sr['Fallout'], EvaROC_sr['Recall'], label=\"Sim Rank\")\n",
    "plt.plot(EvaROC_jc['Fallout'], EvaROC_jc['Recall'], label=\"Jaccard\")\n",
    "plt.plot(EvaROC_rnd['Fallout'], EvaROC_rnd['Recall'], label=\"Random\")\n",
    "plt.ylabel(\"TPR\")\n",
    "plt.xlabel(\"FPR\")\n",
    "plt.legend()\n",
    "plt.show()\n",
    "tikzplotlib.save(\"plots/predictors2.tex\")"
   ],
   "metadata": {
    "collapsed": false,
    "pycharm": {
     "name": "#%%\n"
    }
   }
  },
  {
   "cell_type": "code",
   "execution_count": 65,
   "outputs": [
    {
     "data": {
      "text/plain": "<Figure size 432x288 with 1 Axes>",
      "image/png": "[encoded data removed]"
     },
     "metadata": {
      "needs_background": "light"
     },
     "output_type": "display_data"
    },
    {
     "data": {
      "text/plain": "<Figure size 432x288 with 0 Axes>"
     },
     "metadata": {},
     "output_type": "display_data"
    }
   ],
   "source": [
    "plt.plot(cn_evaluation.fallout(), cn_evaluation.recall(), label=\"Common Neighbors\")\n",
    "plt.plot(sr_evaluation.fallout(), sr_evaluation.recall(), label=\"Sim Rank\")\n",
    "plt.plot(jc_evaluation.fallout(), jc_evaluation.recall(), label=\"Jaccard\")\n",
    "plt.plot(rnd_evaluation.fallout(), rnd_evaluation.recall(), label=\"Random\")\n",
    "plt.ylabel(\"TPR\")\n",
    "plt.xlabel(\"FPR\")\n",
    "plt.legend()\n",
    "plt.show()\n",
    "#tikzplotlib.save(\"plots/predictors.tex\")\n",
    "plt.savefig('plots/ROC1.jpeg')"
   ],
   "metadata": {
    "pycharm": {
     "name": "#%%\n"
    },
    "id": "iW-aiA0-VPAA",
    "colab": {
     "base_uri": "https://localhost:8080/",
     "height": 299
    },
    "executionInfo": {
     "status": "ok",
     "timestamp": 1665053010399,
     "user_tz": -120,
     "elapsed": 1116,
     "user": {
      "displayName": "DAVIDE TESTA",
      "userId": "14903588965415393146"
     }
    },
    "outputId": "ac878cc4-d6ca-407c-90c8-168c87b65b2a"
   }
  },
  {
   "cell_type": "code",
   "source": [
    "from sklearn.metrics import auc\n",
    "\n",
    "print(\"Area Under Roc Curve (AUROC)\")\n",
    "print(f\"Common Neigh.: \\t {auc(cn_evaluation.fallout(), cn_evaluation.recall())}\")\n",
    "print(f\"Jaccard: \\t {auc(jc_evaluation.fallout(), jc_evaluation.recall())}\")\n",
    "print(f\"Sim Rank: \\t {auc(sr_evaluation.fallout(), sr_evaluation.recall())}\")\n",
    "print(f\"Random: \\t {auc(rnd_evaluation.fallout(), rnd_evaluation.recall())}\")"
   ],
   "metadata": {
    "colab": {
     "base_uri": "https://localhost:8080/"
    },
    "id": "HQs0XjFgEIXr",
    "executionInfo": {
     "status": "ok",
     "timestamp": 1665054593740,
     "user_tz": -120,
     "elapsed": 248,
     "user": {
      "displayName": "DAVIDE TESTA",
      "userId": "14903588965415393146"
     }
    },
    "outputId": "380408a9-9c79-4ff3-e7da-d7fa671c2d8c",
    "pycharm": {
     "name": "#%%\n"
    }
   },
   "execution_count": 41,
   "outputs": [
    {
     "name": "stdout",
     "output_type": "stream",
     "text": [
      "Area Under Roc Curve (AUROC)\n",
      "Common Neigh.: \t 0.5240437155030582\n",
      "Jaccard: \t 0.5165661983306384\n",
      "Sim Rank: \t 0.4131934991715366\n",
      "Random: \t 0.32765276825777545\n"
     ]
    }
   ]
  }
 ],
 "metadata": {
  "kernelspec": {
   "display_name": "Python 3",
   "language": "python",
   "name": "python3"
  },
  "language_info": {
   "codemirror_mode": {
    "name": "ipython",
    "version": 2
   },
   "file_extension": ".py",
   "mimetype": "text/x-python",
   "name": "python",
   "nbconvert_exporter": "python",
   "pygments_lexer": "ipython2",
   "version": "2.7.6"
  },
  "colab": {
   "provenance": []
  },
  "accelerator": "GPU"
 },
 "nbformat": 4,
 "nbformat_minor": 0
}